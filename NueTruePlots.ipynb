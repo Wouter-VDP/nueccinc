{
 "cells": [
  {
   "cell_type": "markdown",
   "metadata": {},
   "source": [
    "### Imports"
   ]
  },
  {
   "cell_type": "code",
   "execution_count": 1,
   "metadata": {},
   "outputs": [
    {
     "data": {
      "application/javascript": [
       "\n",
       "            setTimeout(function() {\n",
       "                var nbb_cell_id = 1;\n",
       "                var nbb_formatted_code = \"%load_ext nb_black\";\n",
       "                var nbb_cells = Jupyter.notebook.get_cells();\n",
       "                for (var i = 0; i < nbb_cells.length; ++i) {\n",
       "                    if (nbb_cells[i].input_prompt_number == nbb_cell_id) {\n",
       "                        nbb_cells[i].set_text(nbb_formatted_code);\n",
       "                        break;\n",
       "                    }\n",
       "                }\n",
       "            }, 500);\n",
       "            "
      ],
      "text/plain": [
       "<IPython.core.display.Javascript object>"
      ]
     },
     "metadata": {},
     "output_type": "display_data"
    }
   ],
   "source": [
    "%load_ext nb_black"
   ]
  },
  {
   "cell_type": "code",
   "execution_count": 35,
   "metadata": {},
   "outputs": [
    {
     "data": {
      "application/javascript": [
       "\n",
       "            setTimeout(function() {\n",
       "                var nbb_cell_id = 35;\n",
       "                var nbb_formatted_code = \"import numpy as np\\nimport pandas as pd\\nimport pickle\\nimport matplotlib.pyplot as plt\\nfrom helpers import helpfunction as helper\\nfrom helpers import plot_class\\nfrom helpers import plot_dicts_nue\\nfrom helpers import plot_dicts_numu\\nimport seaborn as sns\\nfrom matplotlib import colors\\nfrom matplotlib.colors import LogNorm\\nimport gc\";\n",
       "                var nbb_cells = Jupyter.notebook.get_cells();\n",
       "                for (var i = 0; i < nbb_cells.length; ++i) {\n",
       "                    if (nbb_cells[i].input_prompt_number == nbb_cell_id) {\n",
       "                        nbb_cells[i].set_text(nbb_formatted_code);\n",
       "                        break;\n",
       "                    }\n",
       "                }\n",
       "            }, 500);\n",
       "            "
      ],
      "text/plain": [
       "<IPython.core.display.Javascript object>"
      ]
     },
     "metadata": {},
     "output_type": "display_data"
    }
   ],
   "source": [
    "import numpy as np\n",
    "import pandas as pd\n",
    "import pickle\n",
    "import matplotlib.pyplot as plt\n",
    "from helpers import helpfunction as helper\n",
    "from helpers import plot_class\n",
    "from helpers import plot_dicts_nue\n",
    "from helpers import plot_dicts_numu\n",
    "import seaborn as sns\n",
    "from matplotlib import colors\n",
    "from matplotlib.colors import LogNorm\n",
    "import gc"
   ]
  },
  {
   "cell_type": "code",
   "execution_count": 3,
   "metadata": {},
   "outputs": [
    {
     "data": {
      "application/javascript": [
       "\n",
       "            setTimeout(function() {\n",
       "                var nbb_cell_id = 3;\n",
       "                var nbb_formatted_code = \"# should return resolution per bin\\nper1 = 50 - 45  # 68.27/2            # 1sigma stat boundaries\\nper2 = 50 + 45  # 68.27/2\\nper21 = 50 - 95.45 / 2\\nper22 = 50 + 95.45 / 2\\npersig1 = 50 - 68.27 / 2\\npersig2 = 50 + 68.27 / 2\\n\\n\\ndef getResolution(data_x, data_y, x_edges, ax, periodic=False):\\n    mean = []\\n    err = []\\n    percentiles_arr = []\\n\\n    mids = 0.5 * (x_edges[1:] + x_edges[:-1])\\n    bin_id = np.digitize(data_x, x_edges)\\n    data_diff = data_y - data_x  # / data_x\\n    if periodic:\\n        data_diff = (data_diff + np.pi) % (2 * np.pi) - np.pi\\n        data_diff *= 180 / np.pi\\n        mids *= 180 / np.pi\\n    for i in range(1, len(x_edges)):\\n        ax.hist(\\n            data_diff[bin_id == i],\\n            bins=50,\\n            range=np.percentile(data_diff, [per21, per22]),\\n            histtype=\\\"step\\\",\\n        )\\n        percentiles = np.percentile(\\n            data_diff[bin_id == i], [per1, persig1, 50, persig2, per2]\\n        )\\n        print(\\n            round(10 * mids[i - 1]) / 10,\\n            \\\"\\\\t\\\",\\n            np.median(data_y[bin_id == i]),\\n            \\\"\\\\t\\\",\\n            percentiles[[0, 2, 4]],\\n            \\\"\\\\t\\\",\\n            (percentiles[-1] - percentiles[0]) / 2,\\n        )\\n        if periodic:\\n            percentiles /= 180 / np.pi\\n            mean.append(mids[i - 1] / (180 / np.pi) + percentiles[2])\\n        else:\\n            mean.append(mids[i - 1] + percentiles[2])\\n        err.append([percentiles[2] - percentiles[1], percentiles[3] - percentiles[2]])\\n        percentiles_arr.append(percentiles)\\n    if periodic:\\n        mids /= 180 / np.pi\\n    quants = np.array(percentiles_arr).T\\n    return mids, mean, err, quants\\n\\n\\ndef cosmic_angles(mom_x, mom_y, mom_z):\\n    theta = np.arctan2(np.sqrt(np.square(mom_x) + np.square(mom_y)), mom_z)\\n    phi = np.arctan2(mom_y, mom_x)\\n    return [theta, phi]\";\n",
       "                var nbb_cells = Jupyter.notebook.get_cells();\n",
       "                for (var i = 0; i < nbb_cells.length; ++i) {\n",
       "                    if (nbb_cells[i].input_prompt_number == nbb_cell_id) {\n",
       "                        nbb_cells[i].set_text(nbb_formatted_code);\n",
       "                        break;\n",
       "                    }\n",
       "                }\n",
       "            }, 500);\n",
       "            "
      ],
      "text/plain": [
       "<IPython.core.display.Javascript object>"
      ]
     },
     "metadata": {},
     "output_type": "display_data"
    }
   ],
   "source": [
    "# should return resolution per bin\n",
    "per1 = 50 - 45  # 68.27/2            # 1sigma stat boundaries\n",
    "per2 = 50 + 45  # 68.27/2\n",
    "per21 = 50 - 95.45 / 2\n",
    "per22 = 50 + 95.45 / 2\n",
    "persig1 = 50 - 68.27 / 2\n",
    "persig2 = 50 + 68.27 / 2\n",
    "\n",
    "\n",
    "def getResolution(data_x, data_y, x_edges, ax, periodic=False):\n",
    "    mean = []\n",
    "    err = []\n",
    "    percentiles_arr = []\n",
    "\n",
    "    mids = 0.5 * (x_edges[1:] + x_edges[:-1])\n",
    "    bin_id = np.digitize(data_x, x_edges)\n",
    "    data_diff = data_y - data_x  # / data_x\n",
    "    if periodic:\n",
    "        data_diff = (data_diff + np.pi) % (2 * np.pi) - np.pi\n",
    "        data_diff *= 180 / np.pi\n",
    "        mids *= 180 / np.pi\n",
    "    for i in range(1, len(x_edges)):\n",
    "        ax.hist(\n",
    "            data_diff[bin_id == i],\n",
    "            bins=50,\n",
    "            range=np.percentile(data_diff, [per21, per22]),\n",
    "            histtype=\"step\",\n",
    "        )\n",
    "        percentiles = np.percentile(\n",
    "            data_diff[bin_id == i], [per1, persig1, 50, persig2, per2]\n",
    "        )\n",
    "        print(\n",
    "            round(10 * mids[i - 1]) / 10,\n",
    "            \"\\t\",\n",
    "            np.median(data_y[bin_id == i]),\n",
    "            \"\\t\",\n",
    "            percentiles[[0, 2, 4]],\n",
    "            \"\\t\",\n",
    "            (percentiles[-1] - percentiles[0]) / 2,\n",
    "        )\n",
    "        if periodic:\n",
    "            percentiles /= 180 / np.pi\n",
    "            mean.append(mids[i - 1] / (180 / np.pi) + percentiles[2])\n",
    "        else:\n",
    "            mean.append(mids[i - 1] + percentiles[2])\n",
    "        err.append([percentiles[2] - percentiles[1], percentiles[3] - percentiles[2]])\n",
    "        percentiles_arr.append(percentiles)\n",
    "    if periodic:\n",
    "        mids /= 180 / np.pi\n",
    "    quants = np.array(percentiles_arr).T\n",
    "    return mids, mean, err, quants\n",
    "\n",
    "\n",
    "def cosmic_angles(mom_x, mom_y, mom_z):\n",
    "    theta = np.arctan2(np.sqrt(np.square(mom_x) + np.square(mom_y)), mom_z)\n",
    "    phi = np.arctan2(mom_y, mom_x)\n",
    "    return [theta, phi]"
   ]
  },
  {
   "cell_type": "code",
   "execution_count": 4,
   "metadata": {},
   "outputs": [
    {
     "data": {
      "application/javascript": [
       "\n",
       "            setTimeout(function() {\n",
       "                var nbb_cell_id = 4;\n",
       "                var nbb_formatted_code = \"run = 3\\ninput_dir = \\\"./input/16Jan/\\\".format(run)\\noutput_dir = \\\"./output/nue/truth_plots/\\\"\";\n",
       "                var nbb_cells = Jupyter.notebook.get_cells();\n",
       "                for (var i = 0; i < nbb_cells.length; ++i) {\n",
       "                    if (nbb_cells[i].input_prompt_number == nbb_cell_id) {\n",
       "                        nbb_cells[i].set_text(nbb_formatted_code);\n",
       "                        break;\n",
       "                    }\n",
       "                }\n",
       "            }, 500);\n",
       "            "
      ],
      "text/plain": [
       "<IPython.core.display.Javascript object>"
      ]
     },
     "metadata": {},
     "output_type": "display_data"
    }
   ],
   "source": [
    "run = 3\n",
    "input_dir = \"./input/16Jan/\".format(run)\n",
    "output_dir = \"./output/nue/truth_plots/\""
   ]
  },
  {
   "cell_type": "code",
   "execution_count": 5,
   "metadata": {},
   "outputs": [
    {
     "data": {
      "application/javascript": [
       "\n",
       "            setTimeout(function() {\n",
       "                var nbb_cell_id = 5;\n",
       "                var nbb_formatted_code = \"mass_p = 0.938272088\\nweight = \\\"weightSplineTimesTune\\\"\";\n",
       "                var nbb_cells = Jupyter.notebook.get_cells();\n",
       "                for (var i = 0; i < nbb_cells.length; ++i) {\n",
       "                    if (nbb_cells[i].input_prompt_number == nbb_cell_id) {\n",
       "                        nbb_cells[i].set_text(nbb_formatted_code);\n",
       "                        break;\n",
       "                    }\n",
       "                }\n",
       "            }, 500);\n",
       "            "
      ],
      "text/plain": [
       "<IPython.core.display.Javascript object>"
      ]
     },
     "metadata": {},
     "output_type": "display_data"
    }
   ],
   "source": [
    "mass_p = 0.938272088\n",
    "weight = \"weightSplineTimesTune\""
   ]
  },
  {
   "cell_type": "code",
   "execution_count": 6,
   "metadata": {},
   "outputs": [
    {
     "data": {
      "application/javascript": [
       "\n",
       "            setTimeout(function() {\n",
       "                var nbb_cell_id = 6;\n",
       "                var nbb_formatted_code = \"keys_true = [\\n    \\\"nu_pdg\\\",\\n    \\\"nu_e\\\",\\n    \\\"lep_e\\\",\\n    \\\"true_nu_vtx_x\\\",\\n    \\\"true_nu_vtx_y\\\",\\n    \\\"true_nu_vtx_z\\\",\\n    \\\"nmuon\\\",\\n    \\\"nproton\\\",\\n    \\\"npi0\\\",\\n    \\\"npion\\\",\\n    \\\"nelec\\\",\\n    \\\"interaction\\\",\\n    \\\"weightSplineTimesTune\\\",\\n    \\\"n_pfps\\\",\\n    \\\"ccnc\\\",\\n    \\\"nu_completeness_from_pfp\\\",\\n    \\\"nu_purity_from_pfp\\\",\\n]\";\n",
       "                var nbb_cells = Jupyter.notebook.get_cells();\n",
       "                for (var i = 0; i < nbb_cells.length; ++i) {\n",
       "                    if (nbb_cells[i].input_prompt_number == nbb_cell_id) {\n",
       "                        nbb_cells[i].set_text(nbb_formatted_code);\n",
       "                        break;\n",
       "                    }\n",
       "                }\n",
       "            }, 500);\n",
       "            "
      ],
      "text/plain": [
       "<IPython.core.display.Javascript object>"
      ]
     },
     "metadata": {},
     "output_type": "display_data"
    }
   ],
   "source": [
    "keys_true = [\n",
    "    \"nu_pdg\",\n",
    "    \"nu_e\",\n",
    "    \"lep_e\",\n",
    "    \"true_nu_vtx_x\",\n",
    "    \"true_nu_vtx_y\",\n",
    "    \"true_nu_vtx_z\",\n",
    "    \"nmuon\",\n",
    "    \"nproton\",\n",
    "    \"npi0\",\n",
    "    \"npion\",\n",
    "    \"nelec\",\n",
    "    \"interaction\",\n",
    "    \"weightSplineTimesTune\",\n",
    "    \"n_pfps\",\n",
    "    \"ccnc\",\n",
    "    \"nu_completeness_from_pfp\",\n",
    "    \"nu_purity_from_pfp\",\n",
    "]"
   ]
  },
  {
   "cell_type": "code",
   "execution_count": 7,
   "metadata": {},
   "outputs": [
    {
     "data": {
      "application/javascript": [
       "\n",
       "            setTimeout(function() {\n",
       "                var nbb_cell_id = 7;\n",
       "                var nbb_formatted_code = \"data = pickle.load(open(input_dir + \\\"after_training_run{}.pckl\\\".format(run), \\\"rb\\\"))\";\n",
       "                var nbb_cells = Jupyter.notebook.get_cells();\n",
       "                for (var i = 0; i < nbb_cells.length; ++i) {\n",
       "                    if (nbb_cells[i].input_prompt_number == nbb_cell_id) {\n",
       "                        nbb_cells[i].set_text(nbb_formatted_code);\n",
       "                        break;\n",
       "                    }\n",
       "                }\n",
       "            }, 500);\n",
       "            "
      ],
      "text/plain": [
       "<IPython.core.display.Javascript object>"
      ]
     },
     "metadata": {},
     "output_type": "display_data"
    }
   ],
   "source": [
    "data = pickle.load(open(input_dir + \"after_training_run{}.pckl\".format(run), \"rb\"))"
   ]
  },
  {
   "cell_type": "code",
   "execution_count": 8,
   "metadata": {},
   "outputs": [
    {
     "data": {
      "text/plain": [
       "dict_keys(['mc_pdg', 'mc_E', 'lep_e', 'ccnc', 'theta', 'true_nu_vtx_x', 'true_nu_vtx_y', 'true_nu_vtx_z', 'n_pfps', 'interaction', 'weightSpline', 'weightSplineTimesTune', 'leeweight', 'category', 'nu_e', 'nu_pdg', 'nelec', 'npion', 'npi0', 'nproton', 'nmuon', 'nu_completeness_from_pfp', 'nu_purity_from_pfp', 'nueccinc', 'true_category'])"
      ]
     },
     "execution_count": 8,
     "metadata": {},
     "output_type": "execute_result"
    },
    {
     "data": {
      "application/javascript": [
       "\n",
       "            setTimeout(function() {\n",
       "                var nbb_cell_id = 8;\n",
       "                var nbb_formatted_code = \"data[\\\"nue\\\"][\\\"mc\\\"].keys()\";\n",
       "                var nbb_cells = Jupyter.notebook.get_cells();\n",
       "                for (var i = 0; i < nbb_cells.length; ++i) {\n",
       "                    if (nbb_cells[i].input_prompt_number == nbb_cell_id) {\n",
       "                        nbb_cells[i].set_text(nbb_formatted_code);\n",
       "                        break;\n",
       "                    }\n",
       "                }\n",
       "            }, 500);\n",
       "            "
      ],
      "text/plain": [
       "<IPython.core.display.Javascript object>"
      ]
     },
     "metadata": {},
     "output_type": "display_data"
    }
   ],
   "source": [
    "data[\"nue\"][\"mc\"].keys()"
   ]
  },
  {
   "cell_type": "code",
   "execution_count": 9,
   "metadata": {},
   "outputs": [
    {
     "data": {
      "application/javascript": [
       "\n",
       "            setTimeout(function() {\n",
       "                var nbb_cell_id = 9;\n",
       "                var nbb_formatted_code = \"highest_proton_energy = (\\n    (data[\\\"nue\\\"][\\\"mc\\\"][\\\"mc_pdg\\\"] == 2212) * data[\\\"nue\\\"][\\\"mc\\\"][\\\"mc_E\\\"]\\n).max()\";\n",
       "                var nbb_cells = Jupyter.notebook.get_cells();\n",
       "                for (var i = 0; i < nbb_cells.length; ++i) {\n",
       "                    if (nbb_cells[i].input_prompt_number == nbb_cell_id) {\n",
       "                        nbb_cells[i].set_text(nbb_formatted_code);\n",
       "                        break;\n",
       "                    }\n",
       "                }\n",
       "            }, 500);\n",
       "            "
      ],
      "text/plain": [
       "<IPython.core.display.Javascript object>"
      ]
     },
     "metadata": {},
     "output_type": "display_data"
    }
   ],
   "source": [
    "highest_proton_energy = (\n",
    "    (data[\"nue\"][\"mc\"][\"mc_pdg\"] == 2212) * data[\"nue\"][\"mc\"][\"mc_E\"]\n",
    ").max()"
   ]
  },
  {
   "cell_type": "code",
   "execution_count": 10,
   "metadata": {},
   "outputs": [
    {
     "name": "stdout",
     "output_type": "stream",
     "text": [
      "nu events: 1064028\n",
      "nue events: 122061\n"
     ]
    },
    {
     "data": {
      "application/javascript": [
       "\n",
       "            setTimeout(function() {\n",
       "                var nbb_cell_id = 10;\n",
       "                var nbb_formatted_code = \"nue_mc = pd.DataFrame({k: data[\\\"nue\\\"][\\\"mc\\\"][k] for k in keys_true})\\nnu_mc = pd.DataFrame({k: data[\\\"nu\\\"][\\\"mc\\\"][k] for k in keys_true})\\nnue_frame = data[\\\"nue\\\"][\\\"daughters\\\"]\\nnu_frame = data[\\\"nu\\\"][\\\"daughters\\\"]\\n\\nnue_pot = data[\\\"nue\\\"][\\\"pot\\\"]\\nnu_pot = data[\\\"nu\\\"][\\\"pot\\\"]\\n\\nprint(\\\"nu events:\\\", len(nu_mc))\\nprint(\\\"nue events:\\\", len(nue_mc))\";\n",
       "                var nbb_cells = Jupyter.notebook.get_cells();\n",
       "                for (var i = 0; i < nbb_cells.length; ++i) {\n",
       "                    if (nbb_cells[i].input_prompt_number == nbb_cell_id) {\n",
       "                        nbb_cells[i].set_text(nbb_formatted_code);\n",
       "                        break;\n",
       "                    }\n",
       "                }\n",
       "            }, 500);\n",
       "            "
      ],
      "text/plain": [
       "<IPython.core.display.Javascript object>"
      ]
     },
     "metadata": {},
     "output_type": "display_data"
    }
   ],
   "source": [
    "nue_mc = pd.DataFrame({k: data[\"nue\"][\"mc\"][k] for k in keys_true})\n",
    "nu_mc = pd.DataFrame({k: data[\"nu\"][\"mc\"][k] for k in keys_true})\n",
    "nue_frame = data[\"nue\"][\"daughters\"]\n",
    "nu_frame = data[\"nu\"][\"daughters\"]\n",
    "\n",
    "nue_pot = data[\"nue\"][\"pot\"]\n",
    "nu_pot = data[\"nu\"][\"pot\"]\n",
    "\n",
    "print(\"nu events:\", len(nu_mc))\n",
    "print(\"nue events:\", len(nue_mc))"
   ]
  },
  {
   "cell_type": "code",
   "execution_count": 11,
   "metadata": {},
   "outputs": [
    {
     "data": {
      "text/plain": [
       "756"
      ]
     },
     "execution_count": 11,
     "metadata": {},
     "output_type": "execute_result"
    },
    {
     "data": {
      "application/javascript": [
       "\n",
       "            setTimeout(function() {\n",
       "                var nbb_cell_id = 11;\n",
       "                var nbb_formatted_code = \"del data\\ngc.collect()\";\n",
       "                var nbb_cells = Jupyter.notebook.get_cells();\n",
       "                for (var i = 0; i < nbb_cells.length; ++i) {\n",
       "                    if (nbb_cells[i].input_prompt_number == nbb_cell_id) {\n",
       "                        nbb_cells[i].set_text(nbb_formatted_code);\n",
       "                        break;\n",
       "                    }\n",
       "                }\n",
       "            }, 500);\n",
       "            "
      ],
      "text/plain": [
       "<IPython.core.display.Javascript object>"
      ]
     },
     "metadata": {},
     "output_type": "display_data"
    }
   ],
   "source": [
    "del data\n",
    "gc.collect()"
   ]
  },
  {
   "cell_type": "code",
   "execution_count": 12,
   "metadata": {},
   "outputs": [
    {
     "data": {
      "application/javascript": [
       "\n",
       "            setTimeout(function() {\n",
       "                var nbb_cell_id = 12;\n",
       "                var nbb_formatted_code = \"nue_mc[\\\"weightSplineTimesTune\\\"] = np.nan_to_num(nue_mc[\\\"weightSplineTimesTune\\\"])\\nnu_mc[\\\"weightSplineTimesTune\\\"] = np.nan_to_num(nu_mc[\\\"weightSplineTimesTune\\\"])\";\n",
       "                var nbb_cells = Jupyter.notebook.get_cells();\n",
       "                for (var i = 0; i < nbb_cells.length; ++i) {\n",
       "                    if (nbb_cells[i].input_prompt_number == nbb_cell_id) {\n",
       "                        nbb_cells[i].set_text(nbb_formatted_code);\n",
       "                        break;\n",
       "                    }\n",
       "                }\n",
       "            }, 500);\n",
       "            "
      ],
      "text/plain": [
       "<IPython.core.display.Javascript object>"
      ]
     },
     "metadata": {},
     "output_type": "display_data"
    }
   ],
   "source": [
    "nue_mc[\"weightSplineTimesTune\"] = np.nan_to_num(nue_mc[\"weightSplineTimesTune\"])\n",
    "nu_mc[\"weightSplineTimesTune\"] = np.nan_to_num(nu_mc[\"weightSplineTimesTune\"])"
   ]
  },
  {
   "cell_type": "code",
   "execution_count": 13,
   "metadata": {},
   "outputs": [
    {
     "data": {
      "application/javascript": [
       "\n",
       "            setTimeout(function() {\n",
       "                var nbb_cell_id = 13;\n",
       "                var nbb_formatted_code = \"nue_mc[\\\"true_vtx_fid\\\"] = helper.is_fid(\\n    nue_mc[\\\"true_nu_vtx_x\\\"], nue_mc[\\\"true_nu_vtx_y\\\"], nue_mc[\\\"true_nu_vtx_z\\\"]\\n)\\nnu_mc[\\\"true_vtx_fid\\\"] = helper.is_fid(\\n    nu_mc[\\\"true_nu_vtx_x\\\"], nu_mc[\\\"true_nu_vtx_y\\\"], nu_mc[\\\"true_nu_vtx_z\\\"]\\n)\\nnue_mc[\\\"max_proton_e\\\"] = highest_proton_energy\";\n",
       "                var nbb_cells = Jupyter.notebook.get_cells();\n",
       "                for (var i = 0; i < nbb_cells.length; ++i) {\n",
       "                    if (nbb_cells[i].input_prompt_number == nbb_cell_id) {\n",
       "                        nbb_cells[i].set_text(nbb_formatted_code);\n",
       "                        break;\n",
       "                    }\n",
       "                }\n",
       "            }, 500);\n",
       "            "
      ],
      "text/plain": [
       "<IPython.core.display.Javascript object>"
      ]
     },
     "metadata": {},
     "output_type": "display_data"
    }
   ],
   "source": [
    "nue_mc[\"true_vtx_fid\"] = helper.is_fid(\n",
    "    nue_mc[\"true_nu_vtx_x\"], nue_mc[\"true_nu_vtx_y\"], nue_mc[\"true_nu_vtx_z\"]\n",
    ")\n",
    "nu_mc[\"true_vtx_fid\"] = helper.is_fid(\n",
    "    nu_mc[\"true_nu_vtx_x\"], nu_mc[\"true_nu_vtx_y\"], nu_mc[\"true_nu_vtx_z\"]\n",
    ")\n",
    "nue_mc[\"max_proton_e\"] = highest_proton_energy"
   ]
  },
  {
   "cell_type": "code",
   "execution_count": 14,
   "metadata": {},
   "outputs": [
    {
     "data": {
      "application/javascript": [
       "\n",
       "            setTimeout(function() {\n",
       "                var nbb_cell_id = 14;\n",
       "                var nbb_formatted_code = \"q_e0p = (\\n    \\\"true_vtx_fid & abs(nu_pdg)==12 & nelec>0 & nproton==0 & (npi0+npion)==0 & ccnc==0\\\"\\n)\\nq_eNp = (\\n    \\\"true_vtx_fid & abs(nu_pdg)==12 & nelec>0 & nproton>0 & (npi0+npion)==0 & ccnc==0\\\"\\n)\\nq_eX = \\\"true_vtx_fid & abs(nu_pdg)==12 & nelec>0 & (npi0+npion)>0 & ccnc==0\\\"\\n\\nnew_cat = nue_mc.eval(q_e0p) * 1 + nue_mc.eval(q_eNp) * 2 + nue_mc.eval(q_eX) * 3\\nnue_mc[\\\"true_category\\\"] = new_cat\";\n",
       "                var nbb_cells = Jupyter.notebook.get_cells();\n",
       "                for (var i = 0; i < nbb_cells.length; ++i) {\n",
       "                    if (nbb_cells[i].input_prompt_number == nbb_cell_id) {\n",
       "                        nbb_cells[i].set_text(nbb_formatted_code);\n",
       "                        break;\n",
       "                    }\n",
       "                }\n",
       "            }, 500);\n",
       "            "
      ],
      "text/plain": [
       "<IPython.core.display.Javascript object>"
      ]
     },
     "metadata": {},
     "output_type": "display_data"
    }
   ],
   "source": [
    "q_e0p = (\n",
    "    \"true_vtx_fid & abs(nu_pdg)==12 & nelec>0 & nproton==0 & (npi0+npion)==0 & ccnc==0\"\n",
    ")\n",
    "q_eNp = (\n",
    "    \"true_vtx_fid & abs(nu_pdg)==12 & nelec>0 & nproton>0 & (npi0+npion)==0 & ccnc==0\"\n",
    ")\n",
    "q_eX = \"true_vtx_fid & abs(nu_pdg)==12 & nelec>0 & (npi0+npion)>0 & ccnc==0\"\n",
    "\n",
    "new_cat = nue_mc.eval(q_e0p) * 1 + nue_mc.eval(q_eNp) * 2 + nue_mc.eval(q_eX) * 3\n",
    "nue_mc[\"true_category\"] = new_cat"
   ]
  },
  {
   "cell_type": "code",
   "execution_count": 15,
   "metadata": {},
   "outputs": [
    {
     "data": {
      "application/javascript": [
       "\n",
       "            setTimeout(function() {\n",
       "                var nbb_cell_id = 15;\n",
       "                var nbb_formatted_code = \"q_m0p = (\\n    \\\"true_vtx_fid & abs(nu_pdg)==14 & nmuon==1 & nproton==0 & (npi0+npion)==0 & ccnc==0\\\"\\n)\\nq_mNp = (\\n    \\\"true_vtx_fid & abs(nu_pdg)==14 & nmuon==1 & nproton>0 & (npi0+npion)==0 & ccnc==0\\\"\\n)\\nq_mX = \\\"true_vtx_fid & abs(nu_pdg)==14 & nmuon==1 & (npi0+npion)>0 & ccnc==0\\\"\\n\\nnew_cat = +nu_mc.eval(q_m0p) * 1 + nu_mc.eval(q_mNp) * 2 + nu_mc.eval(q_mX) * 3\\nnu_mc[\\\"true_category\\\"] = new_cat\";\n",
       "                var nbb_cells = Jupyter.notebook.get_cells();\n",
       "                for (var i = 0; i < nbb_cells.length; ++i) {\n",
       "                    if (nbb_cells[i].input_prompt_number == nbb_cell_id) {\n",
       "                        nbb_cells[i].set_text(nbb_formatted_code);\n",
       "                        break;\n",
       "                    }\n",
       "                }\n",
       "            }, 500);\n",
       "            "
      ],
      "text/plain": [
       "<IPython.core.display.Javascript object>"
      ]
     },
     "metadata": {},
     "output_type": "display_data"
    }
   ],
   "source": [
    "q_m0p = (\n",
    "    \"true_vtx_fid & abs(nu_pdg)==14 & nmuon==1 & nproton==0 & (npi0+npion)==0 & ccnc==0\"\n",
    ")\n",
    "q_mNp = (\n",
    "    \"true_vtx_fid & abs(nu_pdg)==14 & nmuon==1 & nproton>0 & (npi0+npion)==0 & ccnc==0\"\n",
    ")\n",
    "q_mX = \"true_vtx_fid & abs(nu_pdg)==14 & nmuon==1 & (npi0+npion)>0 & ccnc==0\"\n",
    "\n",
    "new_cat = +nu_mc.eval(q_m0p) * 1 + nu_mc.eval(q_mNp) * 2 + nu_mc.eval(q_mX) * 3\n",
    "nu_mc[\"true_category\"] = new_cat"
   ]
  },
  {
   "cell_type": "code",
   "execution_count": 16,
   "metadata": {},
   "outputs": [
    {
     "data": {
      "application/javascript": [
       "\n",
       "            setTimeout(function() {\n",
       "                var nbb_cell_id = 16;\n",
       "                var nbb_formatted_code = \"# prepare your daughter frame for the nues!\\nnue_frame[\\\"true_category\\\"] = np.repeat(nue_mc[\\\"true_category\\\"], nue_mc[\\\"n_pfps\\\"]).values\\nnue_frame[\\\"weightSplineTimesTune\\\"] = np.nan_to_num(nue_frame[\\\"weightSplineTimesTune\\\"])\\nnu_frame[\\\"true_category\\\"] = np.repeat(nu_mc[\\\"true_category\\\"], nu_mc[\\\"n_pfps\\\"]).values\\nnu_frame[\\\"weightSplineTimesTune\\\"] = np.nan_to_num(nu_frame[\\\"weightSplineTimesTune\\\"])\";\n",
       "                var nbb_cells = Jupyter.notebook.get_cells();\n",
       "                for (var i = 0; i < nbb_cells.length; ++i) {\n",
       "                    if (nbb_cells[i].input_prompt_number == nbb_cell_id) {\n",
       "                        nbb_cells[i].set_text(nbb_formatted_code);\n",
       "                        break;\n",
       "                    }\n",
       "                }\n",
       "            }, 500);\n",
       "            "
      ],
      "text/plain": [
       "<IPython.core.display.Javascript object>"
      ]
     },
     "metadata": {},
     "output_type": "display_data"
    }
   ],
   "source": [
    "# prepare your daughter frame for the nues!\n",
    "nue_frame[\"true_category\"] = np.repeat(nue_mc[\"true_category\"], nue_mc[\"n_pfps\"]).values\n",
    "nue_frame[\"weightSplineTimesTune\"] = np.nan_to_num(nue_frame[\"weightSplineTimesTune\"])\n",
    "nu_frame[\"true_category\"] = np.repeat(nu_mc[\"true_category\"], nu_mc[\"n_pfps\"]).values\n",
    "nu_frame[\"weightSplineTimesTune\"] = np.nan_to_num(nu_frame[\"weightSplineTimesTune\"])"
   ]
  },
  {
   "cell_type": "code",
   "execution_count": 17,
   "metadata": {},
   "outputs": [
    {
     "data": {
      "text/plain": [
       "['reco_nu_vtx_sce_x',\n",
       " 'reco_nu_vtx_sce_y',\n",
       " 'reco_nu_vtx_sce_z',\n",
       " 'reco_nu_vtx_x',\n",
       " 'reco_nu_vtx_y',\n",
       " 'reco_nu_vtx_z',\n",
       " 'secondshower_Y_vtxdist',\n",
       " 'true_nu_vtx_x',\n",
       " 'true_nu_vtx_y',\n",
       " 'true_nu_vtx_z',\n",
       " 'true_nu_vtx_sce_x',\n",
       " 'true_nu_vtx_sce_y',\n",
       " 'true_nu_vtx_sce_z',\n",
       " 'n_pfpvtx',\n",
       " 'n_pfp_farvtx',\n",
       " 'true_vtx_distance',\n",
       " 'true_vtx_distance_check']"
      ]
     },
     "execution_count": 17,
     "metadata": {},
     "output_type": "execute_result"
    },
    {
     "data": {
      "application/javascript": [
       "\n",
       "            setTimeout(function() {\n",
       "                var nbb_cell_id = 17;\n",
       "                var nbb_formatted_code = \"fields = list(nue_frame.keys())\\n[f for f in fields if \\\"vtx\\\" in f]\";\n",
       "                var nbb_cells = Jupyter.notebook.get_cells();\n",
       "                for (var i = 0; i < nbb_cells.length; ++i) {\n",
       "                    if (nbb_cells[i].input_prompt_number == nbb_cell_id) {\n",
       "                        nbb_cells[i].set_text(nbb_formatted_code);\n",
       "                        break;\n",
       "                    }\n",
       "                }\n",
       "            }, 500);\n",
       "            "
      ],
      "text/plain": [
       "<IPython.core.display.Javascript object>"
      ]
     },
     "metadata": {},
     "output_type": "display_data"
    }
   ],
   "source": [
    "fields = list(nue_frame.keys())\n",
    "[f for f in fields if \"vtx\" in f]"
   ]
  },
  {
   "cell_type": "code",
   "execution_count": 18,
   "metadata": {},
   "outputs": [
    {
     "data": {
      "text/plain": [
       "0.4819540772587061"
      ]
     },
     "execution_count": 18,
     "metadata": {},
     "output_type": "execute_result"
    },
    {
     "data": {
      "application/javascript": [
       "\n",
       "            setTimeout(function() {\n",
       "                var nbb_cell_id = 18;\n",
       "                var nbb_formatted_code = \"# fraction of neutrino events that is nue charged current\\n(nue_mc.query(\\\"true_category>0\\\")[weight].sum() / nue_pot) / (\\n    nu_mc.query(\\\"true_vtx_fid\\\")[weight].sum() / nu_pot\\n) * 100\";\n",
       "                var nbb_cells = Jupyter.notebook.get_cells();\n",
       "                for (var i = 0; i < nbb_cells.length; ++i) {\n",
       "                    if (nbb_cells[i].input_prompt_number == nbb_cell_id) {\n",
       "                        nbb_cells[i].set_text(nbb_formatted_code);\n",
       "                        break;\n",
       "                    }\n",
       "                }\n",
       "            }, 500);\n",
       "            "
      ],
      "text/plain": [
       "<IPython.core.display.Javascript object>"
      ]
     },
     "metadata": {},
     "output_type": "display_data"
    }
   ],
   "source": [
    "# fraction of neutrino events that is nue charged current\n",
    "(nue_mc.query(\"true_category>0\")[weight].sum() / nue_pot) / (\n",
    "    nu_mc.query(\"true_vtx_fid\")[weight].sum() / nu_pot\n",
    ") * 100"
   ]
  },
  {
   "cell_type": "code",
   "execution_count": 19,
   "metadata": {},
   "outputs": [
    {
     "data": {
      "application/javascript": [
       "\n",
       "            setTimeout(function() {\n",
       "                var nbb_cell_id = 19;\n",
       "                var nbb_formatted_code = \"samples = [nu_mc, nue_mc]\\ns_labs = [r\\\"$\\\\nu_\\\\mu$ CC \\\", r\\\"$\\\\nu_e$ CC \\\"]\\n\\ncats = {1, 2, 3}\\nc_labs = [r\\\"0p0$\\\\pi$\\\", r\\\"Np0$\\\\pi$ (N>0)\\\", r\\\"NpM$\\\\pi$ (M>0)\\\"]\\nfield = \\\"nu_e\\\"\\nweight = \\\"weightSplineTimesTune\\\"\";\n",
       "                var nbb_cells = Jupyter.notebook.get_cells();\n",
       "                for (var i = 0; i < nbb_cells.length; ++i) {\n",
       "                    if (nbb_cells[i].input_prompt_number == nbb_cell_id) {\n",
       "                        nbb_cells[i].set_text(nbb_formatted_code);\n",
       "                        break;\n",
       "                    }\n",
       "                }\n",
       "            }, 500);\n",
       "            "
      ],
      "text/plain": [
       "<IPython.core.display.Javascript object>"
      ]
     },
     "metadata": {},
     "output_type": "display_data"
    }
   ],
   "source": [
    "samples = [nu_mc, nue_mc]\n",
    "s_labs = [r\"$\\nu_\\mu$ CC \", r\"$\\nu_e$ CC \"]\n",
    "\n",
    "cats = {1, 2, 3}\n",
    "c_labs = [r\"0p0$\\pi$\", r\"Np0$\\pi$ (N>0)\", r\"NpM$\\pi$ (M>0)\"]\n",
    "field = \"nu_e\"\n",
    "weight = \"weightSplineTimesTune\""
   ]
  },
  {
   "cell_type": "code",
   "execution_count": 20,
   "metadata": {
    "scrolled": false
   },
   "outputs": [
    {
     "data": {
      "application/javascript": [
       "\n",
       "            setTimeout(function() {\n",
       "                var nbb_cell_id = 20;\n",
       "                var nbb_formatted_code = \"# proton/electron reconstruction efficiency:\\ndenum_p = \\\"true_category==2 & nproton==1 & n_pfps>0\\\"\\nnum_p = \\\"true_category==2 & nproton==1 & abs(backtracked_pdg)==2212 & backtracked_e>(@mass_p+0.04) & trk_score_v>0.5 & backtracked_purity>0.5 & backtracked_completeness>0.5\\\"\\ndenum_e = \\\"true_category>0 & n_pfps>0\\\"\\nnum_e = \\\"true_category>0 & abs(backtracked_pdg)==11 & trk_score_v<0.5 & backtracked_purity>0.5 & backtracked_completeness>0.5\\\"\";\n",
       "                var nbb_cells = Jupyter.notebook.get_cells();\n",
       "                for (var i = 0; i < nbb_cells.length; ++i) {\n",
       "                    if (nbb_cells[i].input_prompt_number == nbb_cell_id) {\n",
       "                        nbb_cells[i].set_text(nbb_formatted_code);\n",
       "                        break;\n",
       "                    }\n",
       "                }\n",
       "            }, 500);\n",
       "            "
      ],
      "text/plain": [
       "<IPython.core.display.Javascript object>"
      ]
     },
     "metadata": {},
     "output_type": "display_data"
    }
   ],
   "source": [
    "# proton/electron reconstruction efficiency:\n",
    "denum_p = \"true_category==2 & nproton==1 & n_pfps>0\"\n",
    "num_p = \"true_category==2 & nproton==1 & abs(backtracked_pdg)==2212 & backtracked_e>(@mass_p+0.04) & trk_score_v>0.5 & backtracked_purity>0.5 & backtracked_completeness>0.5\"\n",
    "denum_e = \"true_category>0 & n_pfps>0\"\n",
    "num_e = \"true_category>0 & abs(backtracked_pdg)==11 & trk_score_v<0.5 & backtracked_purity>0.5 & backtracked_completeness>0.5\""
   ]
  },
  {
   "cell_type": "markdown",
   "metadata": {},
   "source": [
    "### Plots"
   ]
  },
  {
   "cell_type": "code",
   "execution_count": 21,
   "metadata": {},
   "outputs": [
    {
     "data": {
      "application/javascript": [
       "\n",
       "            setTimeout(function() {\n",
       "                var nbb_cell_id = 21;\n",
       "                var nbb_formatted_code = \"samples = [nu_mc, nue_mc]\\ns_labs = [r\\\"$\\\\nu_\\\\mu$ CC \\\", r\\\"$\\\\nu_e$ CC \\\"]\\n\\ncats = {1, 2, 3}\\nc_labs = [r\\\"0p0$\\\\pi$\\\", r\\\"Np0$\\\\pi$ (N>0)\\\", r\\\"NpM$\\\\pi$ (M>0)\\\"]\\nfield = \\\"nu_e\\\"\\nweight = \\\"weightSplineTimesTune\\\"\";\n",
       "                var nbb_cells = Jupyter.notebook.get_cells();\n",
       "                for (var i = 0; i < nbb_cells.length; ++i) {\n",
       "                    if (nbb_cells[i].input_prompt_number == nbb_cell_id) {\n",
       "                        nbb_cells[i].set_text(nbb_formatted_code);\n",
       "                        break;\n",
       "                    }\n",
       "                }\n",
       "            }, 500);\n",
       "            "
      ],
      "text/plain": [
       "<IPython.core.display.Javascript object>"
      ]
     },
     "metadata": {},
     "output_type": "display_data"
    }
   ],
   "source": [
    "samples = [nu_mc, nue_mc]\n",
    "s_labs = [r\"$\\nu_\\mu$ CC \", r\"$\\nu_e$ CC \"]\n",
    "\n",
    "cats = {1, 2, 3}\n",
    "c_labs = [r\"0p0$\\pi$\", r\"Np0$\\pi$ (N>0)\", r\"NpM$\\pi$ (M>0)\"]\n",
    "field = \"nu_e\"\n",
    "weight = \"weightSplineTimesTune\""
   ]
  },
  {
   "cell_type": "code",
   "execution_count": 22,
   "metadata": {
    "scrolled": false
   },
   "outputs": [
    {
     "name": "stderr",
     "output_type": "stream",
     "text": [
      "/home/wouter/Documents/Jupyter/searchingfornues/helpers/plot_class.py:492: RuntimeWarning: invalid value encountered in true_divide\n",
      "  eff = num_w_h / den_w_h\n"
     ]
    },
    {
     "name": "stdout",
     "output_type": "stream",
     "text": [
      "$\\nu_\\mu$ CC : 83.6%\n",
      "$\\nu_e$ CC : 84.2%\n"
     ]
    },
    {
     "data": {
      "image/png": "[encoded data removed]",
      "text/plain": [
       "<Figure size 648x216 with 3 Axes>"
      ]
     },
     "metadata": {
      "needs_background": "light"
     },
     "output_type": "display_data"
    },
    {
     "data": {
      "application/javascript": [
       "\n",
       "            setTimeout(function() {\n",
       "                var nbb_cell_id = 22;\n",
       "                var nbb_formatted_code = \"# Slice ID efficiecny\\nq_s = \\\"n_pfps>0\\\"\\nx_min = 0.15\\nx_max = 2.15\\nn_bins = 10\\n\\nfig, axes = plt.subplots(ncols=3, figsize=(9, 3), constrained_layout=True)\\n\\nfor cat, c_lab, ax in zip(cats, c_labs, axes):\\n    for sample, s_lab in zip(samples, s_labs):\\n        num = sample.query(q_s).query(\\\"true_category==@cat\\\")[field]\\n        den = sample.query(\\\"true_category==@cat\\\")[field]\\n        num_w = sample.query(q_s).query(\\\"true_category==@cat\\\")[weight]\\n        den_w = sample.query(\\\"true_category==@cat\\\")[weight]\\n\\n        eff, unc_low, unc_up, edges = plot_class.efficiency_post(\\n            num, den, num_w=num_w, den_w=den_w, n_bins=n_bins, x_min=x_min, x_max=x_max\\n        )\\n        ax.fill_between(edges, eff - unc_low, eff + unc_up, alpha=0.3, step=\\\"post\\\")\\n        ax.step(\\n            edges,\\n            eff,\\n            where=\\\"post\\\",\\n            label=\\\"{0}: {1:.1%}\\\".format(s_lab, sum(num_w) / sum(den_w)),\\n        )\\n    ax.set_title(c_lab, loc=\\\"right\\\")\\n    ax.set_title(\\\"Efficiency\\\", loc=\\\"left\\\")\\n    ax.set_xlabel(\\\"True neutrino energy [GeV]\\\")\\n    ax.set_ylabel(\\\"Efficiency\\\")\\n    ax.set_ylim(0, 1)\\n    ax.set_xlim(x_min, x_max)\\n    ax.legend(loc=\\\"lower center\\\")\\n\\nfig.savefig(output_dir + \\\"sliceID_run{}.pdf\\\".format(run), bbox_inches=\\\"tight\\\")\\n\\n# Overall performance\\nfor sample, s_lab in zip(samples, s_labs):\\n    print(\\n        \\\"{0}: {1:.1%}\\\".format(\\n            s_lab,\\n            sum(sample.query(\\\"true_category>0\\\").query(q_s)[weight])\\n            / sum(sample.query(\\\"true_category>0\\\")[weight]),\\n        )\\n    )\";\n",
       "                var nbb_cells = Jupyter.notebook.get_cells();\n",
       "                for (var i = 0; i < nbb_cells.length; ++i) {\n",
       "                    if (nbb_cells[i].input_prompt_number == nbb_cell_id) {\n",
       "                        nbb_cells[i].set_text(nbb_formatted_code);\n",
       "                        break;\n",
       "                    }\n",
       "                }\n",
       "            }, 500);\n",
       "            "
      ],
      "text/plain": [
       "<IPython.core.display.Javascript object>"
      ]
     },
     "metadata": {},
     "output_type": "display_data"
    }
   ],
   "source": [
    "# Slice ID efficiecny\n",
    "q_s = \"n_pfps>0\"\n",
    "x_min = 0.15\n",
    "x_max = 2.15\n",
    "n_bins = 10\n",
    "\n",
    "fig, axes = plt.subplots(ncols=3, figsize=(9, 3), constrained_layout=True)\n",
    "\n",
    "for cat, c_lab, ax in zip(cats, c_labs, axes):\n",
    "    for sample, s_lab in zip(samples, s_labs):\n",
    "        num = sample.query(q_s).query(\"true_category==@cat\")[field]\n",
    "        den = sample.query(\"true_category==@cat\")[field]\n",
    "        num_w = sample.query(q_s).query(\"true_category==@cat\")[weight]\n",
    "        den_w = sample.query(\"true_category==@cat\")[weight]\n",
    "\n",
    "        eff, unc_low, unc_up, edges = plot_class.efficiency_post(\n",
    "            num, den, num_w=num_w, den_w=den_w, n_bins=n_bins, x_min=x_min, x_max=x_max\n",
    "        )\n",
    "        ax.fill_between(edges, eff - unc_low, eff + unc_up, alpha=0.3, step=\"post\")\n",
    "        ax.step(\n",
    "            edges,\n",
    "            eff,\n",
    "            where=\"post\",\n",
    "            label=\"{0}: {1:.1%}\".format(s_lab, sum(num_w) / sum(den_w)),\n",
    "        )\n",
    "    ax.set_title(c_lab, loc=\"right\")\n",
    "    ax.set_title(\"Efficiency\", loc=\"left\")\n",
    "    ax.set_xlabel(\"True neutrino energy [GeV]\")\n",
    "    ax.set_ylabel(\"Efficiency\")\n",
    "    ax.set_ylim(0, 1)\n",
    "    ax.set_xlim(x_min, x_max)\n",
    "    ax.legend(loc=\"lower center\")\n",
    "\n",
    "fig.savefig(output_dir + \"sliceID_run{}.pdf\".format(run), bbox_inches=\"tight\")\n",
    "\n",
    "# Overall performance\n",
    "for sample, s_lab in zip(samples, s_labs):\n",
    "    print(\n",
    "        \"{0}: {1:.1%}\".format(\n",
    "            s_lab,\n",
    "            sum(sample.query(\"true_category>0\").query(q_s)[weight])\n",
    "            / sum(sample.query(\"true_category>0\")[weight]),\n",
    "        )\n",
    "    )"
   ]
  },
  {
   "cell_type": "code",
   "execution_count": 23,
   "metadata": {},
   "outputs": [
    {
     "data": {
      "application/javascript": [
       "\n",
       "            setTimeout(function() {\n",
       "                var nbb_cell_id = 23;\n",
       "                var nbb_formatted_code = \"electrons = nue_frame.query(\\n    \\\"true_category>0 & abs(backtracked_pdg)==11 & e_candidate & preselect\\\"\\n)\\nphotons = nu_frame.query(\\n    \\\"true_category>0 & abs(backtracked_pdg)==22 & e_candidate & preselect\\\"\\n)\";\n",
       "                var nbb_cells = Jupyter.notebook.get_cells();\n",
       "                for (var i = 0; i < nbb_cells.length; ++i) {\n",
       "                    if (nbb_cells[i].input_prompt_number == nbb_cell_id) {\n",
       "                        nbb_cells[i].set_text(nbb_formatted_code);\n",
       "                        break;\n",
       "                    }\n",
       "                }\n",
       "            }, 500);\n",
       "            "
      ],
      "text/plain": [
       "<IPython.core.display.Javascript object>"
      ]
     },
     "metadata": {},
     "output_type": "display_data"
    }
   ],
   "source": [
    "electrons = nue_frame.query(\n",
    "    \"true_category>0 & abs(backtracked_pdg)==11 & e_candidate & preselect\"\n",
    ")\n",
    "photons = nu_frame.query(\n",
    "    \"true_category>0 & abs(backtracked_pdg)==22 & e_candidate & preselect\"\n",
    ")"
   ]
  },
  {
   "cell_type": "code",
   "execution_count": null,
   "metadata": {},
   "outputs": [],
   "source": []
  },
  {
   "cell_type": "code",
   "execution_count": 24,
   "metadata": {},
   "outputs": [
    {
     "name": "stderr",
     "output_type": "stream",
     "text": [
      "/home/wouter/Binaries/miniconda3/envs/uproot/lib/python3.7/site-packages/ipykernel_launcher.py:17: MatplotlibDeprecationWarning: \n",
      "The 'normed' kwarg was deprecated in Matplotlib 2.1 and will be removed in 3.1. Use 'density' instead.\n"
     ]
    },
    {
     "data": {
      "image/png": "[encoded data removed]",
      "text/plain": [
       "<Figure size 288x237.6 with 1 Axes>"
      ]
     },
     "metadata": {
      "needs_background": "light"
     },
     "output_type": "display_data"
    },
    {
     "data": {
      "application/javascript": [
       "\n",
       "            setTimeout(function() {\n",
       "                var nbb_cell_id = 24;\n",
       "                var nbb_formatted_code = \"cut = 0.675\\ne_pass = electrons.query(\\\"score>@cut\\\")[weight].sum() / electrons[weight].sum()\\ng_pass = photons.query(\\\"score>@cut\\\")[weight].sum() / photons[weight].sum()\\n\\nfig, ax = plt.subplots(figsize=(4, 3.3), constrained_layout=True)\\n\\nax.hist(\\n    [electrons[\\\"score\\\"], photons[\\\"score\\\"]],\\n    label=[\\n        \\\"electrons ({:.1%} accepted)\\\".format(e_pass),\\n        \\\"photons ({:.1%} rejected)\\\".format(1 - g_pass),\\n    ],\\n    range=(0, 1),\\n    bins=50,\\n    histtype=\\\"step\\\",\\n    lw=2,\\n    normed=True,\\n)\\nax.axvline(x=cut, label=\\\"Threshold =\\\" + str(cut), color=\\\"C2\\\", alpha=0.5)\\nax.legend(loc=\\\"upper center\\\")\\nax.set_title(\\\"Electron identification\\\")\\nax.set_xlabel(\\\"Electron score\\\")\\nax.set_ylabel(\\\"Area normalised\\\")\\nax.set_xlim(0, 1)\\n\\nfig.savefig(output_dir + \\\"e_gamma_sep_run{}.pdf\\\".format(run), bbox_inches=\\\"tight\\\")\";\n",
       "                var nbb_cells = Jupyter.notebook.get_cells();\n",
       "                for (var i = 0; i < nbb_cells.length; ++i) {\n",
       "                    if (nbb_cells[i].input_prompt_number == nbb_cell_id) {\n",
       "                        nbb_cells[i].set_text(nbb_formatted_code);\n",
       "                        break;\n",
       "                    }\n",
       "                }\n",
       "            }, 500);\n",
       "            "
      ],
      "text/plain": [
       "<IPython.core.display.Javascript object>"
      ]
     },
     "metadata": {},
     "output_type": "display_data"
    }
   ],
   "source": [
    "cut = 0.675\n",
    "e_pass = electrons.query(\"score>@cut\")[weight].sum() / electrons[weight].sum()\n",
    "g_pass = photons.query(\"score>@cut\")[weight].sum() / photons[weight].sum()\n",
    "\n",
    "fig, ax = plt.subplots(figsize=(4, 3.3), constrained_layout=True)\n",
    "\n",
    "ax.hist(\n",
    "    [electrons[\"score\"], photons[\"score\"]],\n",
    "    label=[\n",
    "        \"electrons ({:.1%} accepted)\".format(e_pass),\n",
    "        \"photons ({:.1%} rejected)\".format(1 - g_pass),\n",
    "    ],\n",
    "    range=(0, 1),\n",
    "    bins=50,\n",
    "    histtype=\"step\",\n",
    "    lw=2,\n",
    "    normed=True,\n",
    ")\n",
    "ax.axvline(x=cut, label=\"Threshold =\" + str(cut), color=\"C2\", alpha=0.5)\n",
    "ax.legend(loc=\"upper center\")\n",
    "ax.set_title(\"Electron identification\")\n",
    "ax.set_xlabel(\"Electron score\")\n",
    "ax.set_ylabel(\"Area normalised\")\n",
    "ax.set_xlim(0, 1)\n",
    "\n",
    "fig.savefig(output_dir + \"e_gamma_sep_run{}.pdf\".format(run), bbox_inches=\"tight\")"
   ]
  },
  {
   "cell_type": "code",
   "execution_count": 25,
   "metadata": {},
   "outputs": [
    {
     "data": {
      "application/javascript": [
       "\n",
       "            setTimeout(function() {\n",
       "                var nbb_cell_id = 25;\n",
       "                var nbb_formatted_code = \"del nu_mc\\ndel nu_frame\";\n",
       "                var nbb_cells = Jupyter.notebook.get_cells();\n",
       "                for (var i = 0; i < nbb_cells.length; ++i) {\n",
       "                    if (nbb_cells[i].input_prompt_number == nbb_cell_id) {\n",
       "                        nbb_cells[i].set_text(nbb_formatted_code);\n",
       "                        break;\n",
       "                    }\n",
       "                }\n",
       "            }, 500);\n",
       "            "
      ],
      "text/plain": [
       "<IPython.core.display.Javascript object>"
      ]
     },
     "metadata": {},
     "output_type": "display_data"
    }
   ],
   "source": [
    "del nu_mc\n",
    "del nu_frame"
   ]
  },
  {
   "cell_type": "code",
   "execution_count": 26,
   "metadata": {},
   "outputs": [
    {
     "data": {
      "application/javascript": [
       "\n",
       "            setTimeout(function() {\n",
       "                var nbb_cell_id = 26;\n",
       "                var nbb_formatted_code = \"# Everything below here is oelectron neutrino specific\";\n",
       "                var nbb_cells = Jupyter.notebook.get_cells();\n",
       "                for (var i = 0; i < nbb_cells.length; ++i) {\n",
       "                    if (nbb_cells[i].input_prompt_number == nbb_cell_id) {\n",
       "                        nbb_cells[i].set_text(nbb_formatted_code);\n",
       "                        break;\n",
       "                    }\n",
       "                }\n",
       "            }, 500);\n",
       "            "
      ],
      "text/plain": [
       "<IPython.core.display.Javascript object>"
      ]
     },
     "metadata": {},
     "output_type": "display_data"
    }
   ],
   "source": [
    "# Everything below here is oelectron neutrino specific"
   ]
  },
  {
   "cell_type": "code",
   "execution_count": 27,
   "metadata": {},
   "outputs": [
    {
     "data": {
      "image/png": "[encoded data removed]",
      "text/plain": [
       "<Figure size 576x237.6 with 2 Axes>"
      ]
     },
     "metadata": {
      "needs_background": "light"
     },
     "output_type": "display_data"
    },
    {
     "data": {
      "application/javascript": [
       "\n",
       "            setTimeout(function() {\n",
       "                var nbb_cell_id = 27;\n",
       "                var nbb_formatted_code = \"x_min = 0\\nx_max = 3\\nn_bins = 15\\n\\nfig, axes = plt.subplots(\\n    ncols=2, figsize=(8, 3.3), constrained_layout=True, sharex=True\\n)\\n\\naxes = axes[::-1]\\nsel_field = [\\\"true_category\\\", \\\"interaction\\\"]\\ncats_arr = [{1: 10, 2: 11, 3: 1}, {0: 0, 1: 1, 2: 2, 10: 10}]\\nlab_dict = [plot_dicts_nue.category_labels, plot_dicts_nue.int_labels]\\ntitles = [\\\"Channels\\\", \\\"Modes\\\"]\\n\\nfor ax, cats, sel, lab_d, title in zip(axes, cats_arr, sel_field, lab_dict, titles):\\n    for cat, cat_d in cats.items():\\n        den = nue_mc[field]\\n        num = nue_mc[field][nue_mc[sel] == cat]\\n\\n        den_w = nue_mc[weight]\\n        num_w = nue_mc[weight][nue_mc[sel] == cat]\\n\\n        eff, unc_low, unc_up, edges = plot_class.efficiency_post(\\n            num, den, num_w=num_w, den_w=den_w, n_bins=n_bins, x_min=x_min, x_max=x_max\\n        )\\n        ax.fill_between(edges, eff - unc_low, eff + unc_up, alpha=0.3, step=\\\"post\\\")\\n        ax.step(\\n            edges,\\n            eff,\\n            where=\\\"post\\\",\\n            label=\\\"{0}: {1:.0f}%\\\".format(lab_d[cat_d], sum(num_w) / sum(den_w) * 100),\\n        )\\n    ax.set_title(r\\\"$\\\\nu_e$ CC\\\", loc=\\\"right\\\")\\n    ax.set_title(title, loc=\\\"left\\\")\\n    ax.set_xlabel(\\\"True neutrino energy [GeV]\\\")\\n    ax.set_ylabel(\\\"Fraction\\\")\\n    ax.set_ylim(0, 1)\\n    ax.set_xlim(x_min, x_max)\\n    ax.legend(loc=\\\"upper right\\\")\\n\\nfig.savefig(\\n    output_dir + \\\"truth_channels_modes_run{}.pdf\\\".format(run), bbox_inches=\\\"tight\\\"\\n)\";\n",
       "                var nbb_cells = Jupyter.notebook.get_cells();\n",
       "                for (var i = 0; i < nbb_cells.length; ++i) {\n",
       "                    if (nbb_cells[i].input_prompt_number == nbb_cell_id) {\n",
       "                        nbb_cells[i].set_text(nbb_formatted_code);\n",
       "                        break;\n",
       "                    }\n",
       "                }\n",
       "            }, 500);\n",
       "            "
      ],
      "text/plain": [
       "<IPython.core.display.Javascript object>"
      ]
     },
     "metadata": {},
     "output_type": "display_data"
    }
   ],
   "source": [
    "x_min = 0\n",
    "x_max = 3\n",
    "n_bins = 15\n",
    "\n",
    "fig, axes = plt.subplots(\n",
    "    ncols=2, figsize=(8, 3.3), constrained_layout=True, sharex=True\n",
    ")\n",
    "\n",
    "axes = axes[::-1]\n",
    "sel_field = [\"true_category\", \"interaction\"]\n",
    "cats_arr = [{1: 10, 2: 11, 3: 1}, {0: 0, 1: 1, 2: 2, 10: 10}]\n",
    "lab_dict = [plot_dicts_nue.category_labels, plot_dicts_nue.int_labels]\n",
    "titles = [\"Channels\", \"Modes\"]\n",
    "\n",
    "for ax, cats, sel, lab_d, title in zip(axes, cats_arr, sel_field, lab_dict, titles):\n",
    "    for cat, cat_d in cats.items():\n",
    "        den = nue_mc[field]\n",
    "        num = nue_mc[field][nue_mc[sel] == cat]\n",
    "\n",
    "        den_w = nue_mc[weight]\n",
    "        num_w = nue_mc[weight][nue_mc[sel] == cat]\n",
    "\n",
    "        eff, unc_low, unc_up, edges = plot_class.efficiency_post(\n",
    "            num, den, num_w=num_w, den_w=den_w, n_bins=n_bins, x_min=x_min, x_max=x_max\n",
    "        )\n",
    "        ax.fill_between(edges, eff - unc_low, eff + unc_up, alpha=0.3, step=\"post\")\n",
    "        ax.step(\n",
    "            edges,\n",
    "            eff,\n",
    "            where=\"post\",\n",
    "            label=\"{0}: {1:.0f}%\".format(lab_d[cat_d], sum(num_w) / sum(den_w) * 100),\n",
    "        )\n",
    "    ax.set_title(r\"$\\nu_e$ CC\", loc=\"right\")\n",
    "    ax.set_title(title, loc=\"left\")\n",
    "    ax.set_xlabel(\"True neutrino energy [GeV]\")\n",
    "    ax.set_ylabel(\"Fraction\")\n",
    "    ax.set_ylim(0, 1)\n",
    "    ax.set_xlim(x_min, x_max)\n",
    "    ax.legend(loc=\"upper right\")\n",
    "\n",
    "fig.savefig(\n",
    "    output_dir + \"truth_channels_modes_run{}.pdf\".format(run), bbox_inches=\"tight\"\n",
    ")"
   ]
  },
  {
   "cell_type": "code",
   "execution_count": 28,
   "metadata": {
    "scrolled": false
   },
   "outputs": [
    {
     "name": "stderr",
     "output_type": "stream",
     "text": [
      "/home/wouter/Documents/Jupyter/searchingfornues/helpers/plot_class.py:492: RuntimeWarning: invalid value encountered in true_divide\n",
      "  eff = num_w_h / den_w_h\n",
      "/home/wouter/Documents/Jupyter/searchingfornues/helpers/plot_class.py:492: RuntimeWarning: invalid value encountered in true_divide\n",
      "  eff = num_w_h / den_w_h\n",
      "/home/wouter/Documents/Jupyter/searchingfornues/helpers/plot_class.py:492: RuntimeWarning: invalid value encountered in true_divide\n",
      "  eff = num_w_h / den_w_h\n",
      "/home/wouter/Documents/Jupyter/searchingfornues/helpers/plot_class.py:492: RuntimeWarning: invalid value encountered in true_divide\n",
      "  eff = num_w_h / den_w_h\n",
      "/home/wouter/Documents/Jupyter/searchingfornues/helpers/plot_class.py:492: RuntimeWarning: invalid value encountered in true_divide\n",
      "  eff = num_w_h / den_w_h\n",
      "/home/wouter/Documents/Jupyter/searchingfornues/helpers/plot_class.py:492: RuntimeWarning: invalid value encountered in true_divide\n",
      "  eff = num_w_h / den_w_h\n"
     ]
    },
    {
     "data": {
      "image/png": "[encoded data removed]",
      "text/plain": [
       "<Figure size 936x237.6 with 3 Axes>"
      ]
     },
     "metadata": {
      "needs_background": "light"
     },
     "output_type": "display_data"
    },
    {
     "data": {
      "image/png": "[encoded data removed]",
      "text/plain": [
       "<Figure size 936x237.6 with 3 Axes>"
      ]
     },
     "metadata": {
      "needs_background": "light"
     },
     "output_type": "display_data"
    },
    {
     "data": {
      "image/png": "[encoded data removed]",
      "text/plain": [
       "<Figure size 936x237.6 with 3 Axes>"
      ]
     },
     "metadata": {
      "needs_background": "light"
     },
     "output_type": "display_data"
    },
    {
     "data": {
      "application/javascript": [
       "\n",
       "            setTimeout(function() {\n",
       "                var nbb_cell_id = 28;\n",
       "                var nbb_formatted_code = \"# eff per cat\\ncats = {1: 10, 2: 11, 3: 1}\\nx_min = 0\\nx_max = 3\\nn_bins = 15\\nselectors = [\\\"daughter==0\\\", \\\"e_candidate & preselect\\\", \\\"e_candidate & select\\\"]\\nlabs = [\\\"NeutrinoID\\\", \\\"Pre-selection\\\", \\\"Selection\\\"]\\n\\nfor i in range(3):\\n    fig, axes = plt.subplots(ncols=3, figsize=(13, 3.3), constrained_layout=True)\\n\\n    for cat, ax in zip(cats.keys(), axes):\\n        for selector, lab in zip(selectors[: (i + 1)], labs):\\n            num = nue_frame.query(selector).query(\\\"true_category==@cat\\\")[field]\\n            den = nue_mc[field][nue_mc[\\\"true_category\\\"] == cat]\\n\\n            num_w = nue_frame.query(selector).query(\\\"true_category==@cat\\\")[weight]\\n            den_w = nue_mc[weight][nue_mc[\\\"true_category\\\"] == cat]\\n\\n            eff, unc_low, unc_up, edges = plot_class.efficiency_post(\\n                num,\\n                den,\\n                num_w=num_w,\\n                den_w=den_w,\\n                n_bins=n_bins,\\n                x_min=x_min,\\n                x_max=x_max,\\n            )\\n            ax.fill_between(edges, eff - unc_low, eff + unc_up, alpha=0.3, step=\\\"post\\\")\\n            ax.step(\\n                edges,\\n                eff,\\n                where=\\\"post\\\",\\n                label=\\\"{0:<13}: {1:#.2g}%\\\".format(lab, sum(num_w) / sum(den_w) * 100),\\n            )\\n        ax.set_title(plot_dicts_nue.category_labels[cats[cat]], loc=\\\"right\\\")\\n        ax.set_title(\\\"Efficiency\\\", loc=\\\"left\\\")\\n        ax.set_xlabel(\\\"True neutrino energy [GeV]\\\")\\n        ax.set_ylabel(\\\"Efficiency\\\")\\n        ax.set_ylim(0, 1)\\n        ax.set_xlim(x_min, x_max)\\n        if i == 0:\\n            ax.legend(loc=\\\"center right\\\")\\n        elif i == 1:\\n            ax.legend(loc=\\\"lower right\\\")\\n        else:\\n            ax.legend(loc=\\\"upper right\\\")\\n    fig.savefig(\\n        output_dir + \\\"efficiency_cat_{}_run{}.pdf\\\".format(i, run), bbox_inches=\\\"tight\\\"\\n    )\";\n",
       "                var nbb_cells = Jupyter.notebook.get_cells();\n",
       "                for (var i = 0; i < nbb_cells.length; ++i) {\n",
       "                    if (nbb_cells[i].input_prompt_number == nbb_cell_id) {\n",
       "                        nbb_cells[i].set_text(nbb_formatted_code);\n",
       "                        break;\n",
       "                    }\n",
       "                }\n",
       "            }, 500);\n",
       "            "
      ],
      "text/plain": [
       "<IPython.core.display.Javascript object>"
      ]
     },
     "metadata": {},
     "output_type": "display_data"
    }
   ],
   "source": [
    "# eff per cat\n",
    "cats = {1: 10, 2: 11, 3: 1}\n",
    "x_min = 0\n",
    "x_max = 3\n",
    "n_bins = 15\n",
    "selectors = [\"daughter==0\", \"e_candidate & preselect\", \"e_candidate & select\"]\n",
    "labs = [\"NeutrinoID\", \"Pre-selection\", \"Selection\"]\n",
    "\n",
    "for i in range(3):\n",
    "    fig, axes = plt.subplots(ncols=3, figsize=(13, 3.3), constrained_layout=True)\n",
    "\n",
    "    for cat, ax in zip(cats.keys(), axes):\n",
    "        for selector, lab in zip(selectors[: (i + 1)], labs):\n",
    "            num = nue_frame.query(selector).query(\"true_category==@cat\")[field]\n",
    "            den = nue_mc[field][nue_mc[\"true_category\"] == cat]\n",
    "\n",
    "            num_w = nue_frame.query(selector).query(\"true_category==@cat\")[weight]\n",
    "            den_w = nue_mc[weight][nue_mc[\"true_category\"] == cat]\n",
    "\n",
    "            eff, unc_low, unc_up, edges = plot_class.efficiency_post(\n",
    "                num,\n",
    "                den,\n",
    "                num_w=num_w,\n",
    "                den_w=den_w,\n",
    "                n_bins=n_bins,\n",
    "                x_min=x_min,\n",
    "                x_max=x_max,\n",
    "            )\n",
    "            ax.fill_between(edges, eff - unc_low, eff + unc_up, alpha=0.3, step=\"post\")\n",
    "            ax.step(\n",
    "                edges,\n",
    "                eff,\n",
    "                where=\"post\",\n",
    "                label=\"{0:<13}: {1:#.2g}%\".format(lab, sum(num_w) / sum(den_w) * 100),\n",
    "            )\n",
    "        ax.set_title(plot_dicts_nue.category_labels[cats[cat]], loc=\"right\")\n",
    "        ax.set_title(\"Efficiency\", loc=\"left\")\n",
    "        ax.set_xlabel(\"True neutrino energy [GeV]\")\n",
    "        ax.set_ylabel(\"Efficiency\")\n",
    "        ax.set_ylim(0, 1)\n",
    "        ax.set_xlim(x_min, x_max)\n",
    "        if i == 0:\n",
    "            ax.legend(loc=\"center right\")\n",
    "        elif i == 1:\n",
    "            ax.legend(loc=\"lower right\")\n",
    "        else:\n",
    "            ax.legend(loc=\"upper right\")\n",
    "    fig.savefig(\n",
    "        output_dir + \"efficiency_cat_{}_run{}.pdf\".format(i, run), bbox_inches=\"tight\"\n",
    "    )"
   ]
  },
  {
   "cell_type": "code",
   "execution_count": 29,
   "metadata": {},
   "outputs": [
    {
     "data": {
      "application/javascript": [
       "\n",
       "            setTimeout(function() {\n",
       "                var nbb_cell_id = 29;\n",
       "                var nbb_formatted_code = \"# proton/electron reconstruction efficiency:\\ndenum_p = \\\"true_category==2 & nproton==1 & n_pfps>0\\\"\\nnum_p = \\\"true_category==2 & nproton==1 & abs(backtracked_pdg)==2212 & backtracked_e>(@mass_p+0.04) & trk_score_v>0.5 & backtracked_purity>0.5 & backtracked_completeness>0.5\\\"\\ndenum_e = \\\"true_category>0 & n_pfps>0\\\"\\nnum_e = \\\"true_category>0 & abs(backtracked_pdg)==11 & trk_score_v<0.5 & backtracked_purity>0.5 & backtracked_completeness>0.5\\\"\";\n",
       "                var nbb_cells = Jupyter.notebook.get_cells();\n",
       "                for (var i = 0; i < nbb_cells.length; ++i) {\n",
       "                    if (nbb_cells[i].input_prompt_number == nbb_cell_id) {\n",
       "                        nbb_cells[i].set_text(nbb_formatted_code);\n",
       "                        break;\n",
       "                    }\n",
       "                }\n",
       "            }, 500);\n",
       "            "
      ],
      "text/plain": [
       "<IPython.core.display.Javascript object>"
      ]
     },
     "metadata": {},
     "output_type": "display_data"
    }
   ],
   "source": [
    "# proton/electron reconstruction efficiency:\n",
    "denum_p = \"true_category==2 & nproton==1 & n_pfps>0\"\n",
    "num_p = \"true_category==2 & nproton==1 & abs(backtracked_pdg)==2212 & backtracked_e>(@mass_p+0.04) & trk_score_v>0.5 & backtracked_purity>0.5 & backtracked_completeness>0.5\"\n",
    "denum_e = \"true_category>0 & n_pfps>0\"\n",
    "num_e = \"true_category>0 & abs(backtracked_pdg)==11 & trk_score_v<0.5 & backtracked_purity>0.5 & backtracked_completeness>0.5\""
   ]
  },
  {
   "cell_type": "code",
   "execution_count": 30,
   "metadata": {},
   "outputs": [
    {
     "name": "stderr",
     "output_type": "stream",
     "text": [
      "/home/wouter/Documents/Jupyter/searchingfornues/helpers/plot_class.py:492: RuntimeWarning: invalid value encountered in true_divide\n",
      "  eff = num_w_h / den_w_h\n",
      "/home/wouter/Documents/Jupyter/searchingfornues/helpers/plot_class.py:492: RuntimeWarning: invalid value encountered in true_divide\n",
      "  eff = num_w_h / den_w_h\n",
      "/home/wouter/Documents/Jupyter/searchingfornues/helpers/plot_class.py:492: RuntimeWarning: invalid value encountered in true_divide\n",
      "  eff = num_w_h / den_w_h\n",
      "/home/wouter/Documents/Jupyter/searchingfornues/helpers/plot_class.py:492: RuntimeWarning: invalid value encountered in true_divide\n",
      "  eff = num_w_h / den_w_h\n",
      "/home/wouter/Documents/Jupyter/searchingfornues/helpers/plot_class.py:492: RuntimeWarning: invalid value encountered in true_divide\n",
      "  eff = num_w_h / den_w_h\n",
      "/home/wouter/Documents/Jupyter/searchingfornues/helpers/plot_class.py:492: RuntimeWarning: invalid value encountered in true_divide\n",
      "  eff = num_w_h / den_w_h\n"
     ]
    },
    {
     "data": {
      "image/png": "[encoded data removed]",
      "text/plain": [
       "<Figure size 936x237.6 with 4 Axes>"
      ]
     },
     "metadata": {
      "needs_background": "light"
     },
     "output_type": "display_data"
    },
    {
     "data": {
      "application/javascript": [
       "\n",
       "            setTimeout(function() {\n",
       "                var nbb_cell_id = 30;\n",
       "                var nbb_formatted_code = \"# eff per mode\\ncats = [0, 1, 2, 10]\\nfig, axes = plt.subplots(ncols=4, figsize=(13, 3.3))\\n\\nfor cat, ax in zip(cats, axes):\\n    for selector, lab in zip(selectors, labs):\\n        num = nue_frame.query(selector).query(\\\"interaction==@cat & true_category>0\\\")[\\n            field\\n        ]\\n        den = nue_mc[field][\\n            (nue_mc[\\\"interaction\\\"] == cat) & (nue_mc[\\\"true_category\\\"] > 0)\\n        ]\\n\\n        num_w = nue_frame.query(selector).query(\\\"interaction==@cat & true_category>0\\\")[\\n            weight\\n        ]\\n        den_w = nue_mc[weight][\\n            (nue_mc[\\\"interaction\\\"] == cat) & (nue_mc[\\\"true_category\\\"] > 0)\\n        ]\\n\\n        eff, unc_low, unc_up, edges = plot_class.efficiency_post(\\n            num, den, num_w=num_w, den_w=den_w, n_bins=n_bins, x_min=x_min, x_max=x_max\\n        )\\n        ax.fill_between(edges, eff - unc_low, eff + unc_up, alpha=0.3, step=\\\"post\\\")\\n        ax.step(\\n            edges,\\n            eff,\\n            where=\\\"post\\\",\\n            label=\\\"{0:<13}: {1:.0f}%\\\".format(lab, sum(num_w) / sum(den_w) * 100),\\n        )\\n    ax.set_title(plot_dicts_nue.int_labels[cat], loc=\\\"right\\\")\\n    ax.set_title(\\\"Efficiency\\\", loc=\\\"left\\\")\\n    ax.set_xlabel(\\\"True neutrino energy [GeV]\\\")\\n    ax.set_ylabel(\\\"Efficiency\\\")\\n    ax.set_ylim(0, 1)\\n    ax.set_xlim(x_min, x_max)\\n    ax.legend(loc=\\\"upper right\\\")\\n\\nfig.tight_layout()\\nfig.savefig(output_dir + \\\"efficiency_int_run{}.pdf\\\".format(run), bbox_inches=\\\"tight\\\")\";\n",
       "                var nbb_cells = Jupyter.notebook.get_cells();\n",
       "                for (var i = 0; i < nbb_cells.length; ++i) {\n",
       "                    if (nbb_cells[i].input_prompt_number == nbb_cell_id) {\n",
       "                        nbb_cells[i].set_text(nbb_formatted_code);\n",
       "                        break;\n",
       "                    }\n",
       "                }\n",
       "            }, 500);\n",
       "            "
      ],
      "text/plain": [
       "<IPython.core.display.Javascript object>"
      ]
     },
     "metadata": {},
     "output_type": "display_data"
    }
   ],
   "source": [
    "# eff per mode\n",
    "cats = [0, 1, 2, 10]\n",
    "fig, axes = plt.subplots(ncols=4, figsize=(13, 3.3))\n",
    "\n",
    "for cat, ax in zip(cats, axes):\n",
    "    for selector, lab in zip(selectors, labs):\n",
    "        num = nue_frame.query(selector).query(\"interaction==@cat & true_category>0\")[\n",
    "            field\n",
    "        ]\n",
    "        den = nue_mc[field][\n",
    "            (nue_mc[\"interaction\"] == cat) & (nue_mc[\"true_category\"] > 0)\n",
    "        ]\n",
    "\n",
    "        num_w = nue_frame.query(selector).query(\"interaction==@cat & true_category>0\")[\n",
    "            weight\n",
    "        ]\n",
    "        den_w = nue_mc[weight][\n",
    "            (nue_mc[\"interaction\"] == cat) & (nue_mc[\"true_category\"] > 0)\n",
    "        ]\n",
    "\n",
    "        eff, unc_low, unc_up, edges = plot_class.efficiency_post(\n",
    "            num, den, num_w=num_w, den_w=den_w, n_bins=n_bins, x_min=x_min, x_max=x_max\n",
    "        )\n",
    "        ax.fill_between(edges, eff - unc_low, eff + unc_up, alpha=0.3, step=\"post\")\n",
    "        ax.step(\n",
    "            edges,\n",
    "            eff,\n",
    "            where=\"post\",\n",
    "            label=\"{0:<13}: {1:.0f}%\".format(lab, sum(num_w) / sum(den_w) * 100),\n",
    "        )\n",
    "    ax.set_title(plot_dicts_nue.int_labels[cat], loc=\"right\")\n",
    "    ax.set_title(\"Efficiency\", loc=\"left\")\n",
    "    ax.set_xlabel(\"True neutrino energy [GeV]\")\n",
    "    ax.set_ylabel(\"Efficiency\")\n",
    "    ax.set_ylim(0, 1)\n",
    "    ax.set_xlim(x_min, x_max)\n",
    "    ax.legend(loc=\"upper right\")\n",
    "\n",
    "fig.tight_layout()\n",
    "fig.savefig(output_dir + \"efficiency_int_run{}.pdf\".format(run), bbox_inches=\"tight\")"
   ]
  },
  {
   "cell_type": "code",
   "execution_count": 31,
   "metadata": {},
   "outputs": [
    {
     "data": {
      "application/javascript": [
       "\n",
       "            setTimeout(function() {\n",
       "                var nbb_cell_id = 31;\n",
       "                var nbb_formatted_code = \"daughters = nue_frame.query(\\\"e_candidate & preselect\\\").query(\\n    \\\"abs(backtracked_pdg)==11 & true_category>0 \\\"\\n)\\n\\ncols = [\\\"backtracked_px\\\", \\\"backtracked_py\\\", \\\"backtracked_pz\\\"]\\ndaughters[\\\"backtracked_theta\\\"], daughters[\\\"backtracked_phi\\\"] = cosmic_angles(\\n    *daughters[cols].T.values\\n)\";\n",
       "                var nbb_cells = Jupyter.notebook.get_cells();\n",
       "                for (var i = 0; i < nbb_cells.length; ++i) {\n",
       "                    if (nbb_cells[i].input_prompt_number == nbb_cell_id) {\n",
       "                        nbb_cells[i].set_text(nbb_formatted_code);\n",
       "                        break;\n",
       "                    }\n",
       "                }\n",
       "            }, 500);\n",
       "            "
      ],
      "text/plain": [
       "<IPython.core.display.Javascript object>"
      ]
     },
     "metadata": {},
     "output_type": "display_data"
    }
   ],
   "source": [
    "daughters = nue_frame.query(\"e_candidate & preselect\").query(\n",
    "    \"abs(backtracked_pdg)==11 & true_category>0 \"\n",
    ")\n",
    "\n",
    "cols = [\"backtracked_px\", \"backtracked_py\", \"backtracked_pz\"]\n",
    "daughters[\"backtracked_theta\"], daughters[\"backtracked_phi\"] = cosmic_angles(\n",
    "    *daughters[cols].T.values\n",
    ")"
   ]
  },
  {
   "cell_type": "code",
   "execution_count": 32,
   "metadata": {},
   "outputs": [
    {
     "data": {
      "application/javascript": [
       "\n",
       "            setTimeout(function() {\n",
       "                var nbb_cell_id = 32;\n",
       "                var nbb_formatted_code = \"daughters[\\\"e_reco_y\\\"] = daughters[\\\"shr_energy_y_v\\\"] / 1000\\ndaughters = daughters.clip(-4, 300)\";\n",
       "                var nbb_cells = Jupyter.notebook.get_cells();\n",
       "                for (var i = 0; i < nbb_cells.length; ++i) {\n",
       "                    if (nbb_cells[i].input_prompt_number == nbb_cell_id) {\n",
       "                        nbb_cells[i].set_text(nbb_formatted_code);\n",
       "                        break;\n",
       "                    }\n",
       "                }\n",
       "            }, 500);\n",
       "            "
      ],
      "text/plain": [
       "<IPython.core.display.Javascript object>"
      ]
     },
     "metadata": {},
     "output_type": "display_data"
    }
   ],
   "source": [
    "daughters[\"e_reco_y\"] = daughters[\"shr_energy_y_v\"] / 1000\n",
    "daughters = daughters.clip(-4, 300)"
   ]
  },
  {
   "cell_type": "code",
   "execution_count": 33,
   "metadata": {},
   "outputs": [
    {
     "data": {
      "image/png": "[encoded data removed]",
      "text/plain": [
       "<Figure size 432x288 with 2 Axes>"
      ]
     },
     "metadata": {
      "needs_background": "light"
     },
     "output_type": "display_data"
    },
    {
     "data": {
      "application/javascript": [
       "\n",
       "            setTimeout(function() {\n",
       "                var nbb_cell_id = 33;\n",
       "                var nbb_formatted_code = \"columns_map = [\\n    \\\"shr_tkfit_dedx_y_v\\\",\\n    \\\"shr_tkfit_dedx_wm_v\\\",\\n    \\\"shr_tkfit_gap10_dedx_y_v\\\",\\n    \\\"shr_subclusters_v\\\",\\n    \\\"shr_moliere_avg_v\\\",\\n    \\\"shr_dist_v\\\",\\n    \\\"secondshower_Y_nhit\\\",\\n    \\\"secondshower_Y_vtxdist\\\",\\n    \\\"\\\",\\n    \\\"score\\\",\\n    \\\"e_reco_y\\\",\\n    \\\"shr_theta_v\\\",\\n    \\\"shr_phi_v\\\",\\n    \\\"\\\",\\n    \\\"backtracked_e\\\",\\n    \\\"backtracked_theta\\\",\\n    \\\"backtracked_phi\\\",\\n]\\n\\nmap_labels = [\\n    r\\\"d$E/$d$x$, [0,4] cm, collection\\\",\\n    r\\\"d$E/$d$x$, [0,4] cm, all planes\\\",\\n    r\\\"d$E/$d$x$, [1,5] cm, all planes\\\",\\n    \\\"Number of subclusters\\\",\\n    \\\"Maliere angle\\\",\\n    \\\"Shower vertex distance\\\",\\n    \\\"Second shower hits\\\",\\n    \\\"Second shower distance\\\",\\n    \\\"\\\",\\n    \\\"Electron PID score\\\",\\n    \\\"Reconstructed energy\\\",\\n    r\\\"Reconstructed $\\\\theta$\\\",\\n    r\\\"Reconstructed $\\\\phi$\\\",\\n    \\\"\\\",\\n    \\\"True energy\\\",\\n    r\\\"True $\\\\theta$\\\",\\n    r\\\"True $\\\\phi$\\\",\\n]\\n\\ndaughters[\\\"\\\"] = 0\\n\\nsns.heatmap(\\n    daughters[columns_map].corr(),\\n    cmap=\\\"coolwarm\\\",\\n    xticklabels=map_labels,\\n    yticklabels=map_labels,\\n    vmin=-1,\\n    vmax=1,\\n    cbar_kws={\\\"label\\\": \\\"correlation\\\"},\\n)\\n\\nplt.savefig(output_dir + \\\"e_cand_corr.pdf\\\", bbox_inches=\\\"tight\\\")\";\n",
       "                var nbb_cells = Jupyter.notebook.get_cells();\n",
       "                for (var i = 0; i < nbb_cells.length; ++i) {\n",
       "                    if (nbb_cells[i].input_prompt_number == nbb_cell_id) {\n",
       "                        nbb_cells[i].set_text(nbb_formatted_code);\n",
       "                        break;\n",
       "                    }\n",
       "                }\n",
       "            }, 500);\n",
       "            "
      ],
      "text/plain": [
       "<IPython.core.display.Javascript object>"
      ]
     },
     "metadata": {},
     "output_type": "display_data"
    }
   ],
   "source": [
    "columns_map = [\n",
    "    \"shr_tkfit_dedx_y_v\",\n",
    "    \"shr_tkfit_dedx_wm_v\",\n",
    "    \"shr_tkfit_gap10_dedx_y_v\",\n",
    "    \"shr_subclusters_v\",\n",
    "    \"shr_moliere_avg_v\",\n",
    "    \"shr_dist_v\",\n",
    "    \"secondshower_Y_nhit\",\n",
    "    \"secondshower_Y_vtxdist\",\n",
    "    \"\",\n",
    "    \"score\",\n",
    "    \"e_reco_y\",\n",
    "    \"shr_theta_v\",\n",
    "    \"shr_phi_v\",\n",
    "    \"\",\n",
    "    \"backtracked_e\",\n",
    "    \"backtracked_theta\",\n",
    "    \"backtracked_phi\",\n",
    "]\n",
    "\n",
    "map_labels = [\n",
    "    r\"d$E/$d$x$, [0,4] cm, collection\",\n",
    "    r\"d$E/$d$x$, [0,4] cm, all planes\",\n",
    "    r\"d$E/$d$x$, [1,5] cm, all planes\",\n",
    "    \"Number of subclusters\",\n",
    "    \"Maliere angle\",\n",
    "    \"Shower vertex distance\",\n",
    "    \"Second shower hits\",\n",
    "    \"Second shower distance\",\n",
    "    \"\",\n",
    "    \"Electron PID score\",\n",
    "    \"Reconstructed energy\",\n",
    "    r\"Reconstructed $\\theta$\",\n",
    "    r\"Reconstructed $\\phi$\",\n",
    "    \"\",\n",
    "    \"True energy\",\n",
    "    r\"True $\\theta$\",\n",
    "    r\"True $\\phi$\",\n",
    "]\n",
    "\n",
    "daughters[\"\"] = 0\n",
    "\n",
    "sns.heatmap(\n",
    "    daughters[columns_map].corr(),\n",
    "    cmap=\"coolwarm\",\n",
    "    xticklabels=map_labels,\n",
    "    yticklabels=map_labels,\n",
    "    vmin=-1,\n",
    "    vmax=1,\n",
    "    cbar_kws={\"label\": \"correlation\"},\n",
    ")\n",
    "\n",
    "plt.savefig(output_dir + \"e_cand_corr.pdf\", bbox_inches=\"tight\")"
   ]
  },
  {
   "cell_type": "code",
   "execution_count": null,
   "metadata": {},
   "outputs": [],
   "source": []
  },
  {
   "cell_type": "code",
   "execution_count": 42,
   "metadata": {},
   "outputs": [
    {
     "name": "stdout",
     "output_type": "stream",
     "text": [
      "\n",
      "Energy\n",
      "0.1 \t 0.14059664 \t [-0.03557418  0.01680029  0.1628152 ] \t 0.09919469095766541\n",
      "0.2 \t 0.21455248 \t [-0.08587524  0.01145095  0.14196289] \t 0.11391906738281249\n",
      "0.3 \t 0.29045817 \t [-0.16200026 -0.00510244  0.110671  ] \t 0.13633562810719013\n",
      "0.4 \t 0.3825866 \t [-0.23148134 -0.01146951  0.1404639 ] \t 0.18597261607646942\n",
      "0.5 \t 0.4716838 \t [-0.3004992  -0.02608344  0.12855616] \t 0.2145276814699173\n",
      "0.6 \t 0.56290406 \t [-0.36044126 -0.03465602  0.14379367] \t 0.25211746618151665\n",
      "0.7 \t 0.65917116 \t [-0.42108738 -0.04027742  0.155303  ] \t 0.2881951928138733\n",
      "0.8 \t 0.75357026 \t [-0.47928784 -0.04267311  0.17696556] \t 0.3281267032027244\n",
      "0.9 \t 0.8358191 \t [-0.53578721 -0.06208965  0.17647102] \t 0.3561291188001632\n",
      "1.0 \t 0.92567706 \t [-0.60750303 -0.07230347  0.19309777] \t 0.4003003999590873\n",
      "1.1 \t 1.0242794 \t [-0.67719374 -0.0685758   0.18548496] \t 0.4313393533229828\n",
      "1.2 \t 1.0946515 \t [-0.73381755 -0.10389698  0.20172012] \t 0.46776883602142333\n",
      "1.3 \t 1.1835744 \t [-0.72418593 -0.11061442  0.22522396] \t 0.4747049450874329\n",
      "1.4 \t 1.2594318 \t [-0.8285027  -0.13618076  0.19539791] \t 0.5119503051042557\n",
      "1.5 \t 1.3474077 \t [-0.91992083 -0.15073252  0.20458845] \t 0.5622546404600142\n",
      "1.6 \t 1.432042 \t [-0.96185273 -0.16951668  0.20358109] \t 0.5827169120311737\n",
      "1.7 \t 1.5275813 \t [-1.07680057 -0.17136133  0.20894804] \t 0.6428743064403534\n",
      "\n",
      "Theta\n",
      "7.6 \t 0.20304999 \t [-3.92674956  0.5782575  15.28426418] \t 9.605506873130798\n",
      "22.4 \t 0.38685447 \t [-5.82766771  0.01801804  7.78625202] \t 6.806959867477417\n",
      "37.3 \t 0.6322398 \t [-7.14669814 -0.18201088  6.7891849 ] \t 6.967941522598262\n",
      "52.1 \t 0.88692266 \t [-7.95953369 -0.40135559  7.89343119] \t 7.926482439041138\n",
      "67.0 \t 1.1421767 \t [-8.69855442 -0.31562304  7.20680332] \t 7.9526788711547844\n",
      "81.8 \t 1.3977375 \t [-10.31846399  -0.49023001  10.13966422] \t 10.229064106941223\n",
      "96.7 \t 1.6967316 \t [-21.69461393   0.02831796  11.46371861] \t 16.579166269302362\n",
      "111.5 \t 1.9365902 \t [-42.46403732  -0.21722734  10.52699623] \t 26.49551677703857\n",
      "126.3 \t 2.1792467 \t [-78.39197845  -0.36396712  13.95153866] \t 46.17175855636595\n",
      "141.2 \t 2.4434361 \t [-103.2978653    -0.21618915   10.21850719] \t 56.75818624496459\n",
      "156.0 \t 2.6994328 \t [-128.85269318   -0.38139777    9.83844891] \t 69.34557104110718\n",
      "170.9 \t 2.8753347 \t [-158.61801529   -3.77042842    3.86155945] \t 81.2397873699665\n",
      "\n",
      "Phi\n",
      "-165.0 \t -2.8216305 \t [-23.25808697  -0.81071612  11.68592935] \t 17.472008156776425\n",
      "-135.0 \t -2.373331 \t [-27.83702278  -1.43834221  10.92003822] \t 19.378530502319336\n",
      "-105.0 \t -1.8865819 \t [-101.43727264   -1.86595303    8.80673146] \t 55.122002053260815\n",
      "-75.0 \t -1.2402064 \t [-13.08675995   0.54544526  85.02650146] \t 49.05663070678706\n",
      "-45.0 \t -0.77101177 \t [-16.29914665   0.55957007  18.91365433] \t 17.60640048980713\n",
      "-15.0 \t -0.2739082 \t [-2.31682205e+01 -1.44390203e-02  1.74065056e+01] \t 20.287363052368164\n",
      "15.0 \t 0.23782732 \t [-25.36329651  -0.59383717  16.27523756] \t 20.81926703453064\n",
      "45.0 \t 0.76103985 \t [-31.26888418  -0.8384262   14.46453886] \t 22.866711521148673\n",
      "75.0 \t 1.2236174 \t [-84.80319672  -0.72453284  10.21378813] \t 47.50849242210387\n",
      "105.0 \t 1.8744917 \t [ -9.34703751   1.1968267  106.27276306] \t 57.80990028381343\n",
      "135.0 \t 2.3593636 \t [-15.0617013    0.97785085  19.30896816] \t 17.18533473014831\n",
      "165.0 \t 2.8173347 \t [-19.74350014   0.16982582  16.37702065] \t 18.060260391235346\n"
     ]
    },
    {
     "data": {
      "image/png": "[encoded data removed]",
      "text/plain": [
       "<Figure size 873.72x288 with 4 Axes>"
      ]
     },
     "metadata": {
      "needs_background": "light"
     },
     "output_type": "display_data"
    },
    {
     "data": {
      "image/png": "[encoded data removed]",
      "text/plain": [
       "<Figure size 828x288 with 3 Axes>"
      ]
     },
     "metadata": {
      "needs_background": "light"
     },
     "output_type": "display_data"
    },
    {
     "data": {
      "image/png": "[encoded data removed]",
      "text/plain": [
       "<Figure size 864x288 with 3 Axes>"
      ]
     },
     "metadata": {
      "needs_background": "light"
     },
     "output_type": "display_data"
    },
    {
     "data": {
      "application/javascript": [
       "\n",
       "            setTimeout(function() {\n",
       "                var nbb_cell_id = 42;\n",
       "                var nbb_formatted_code = \"fig, ax = plt.subplots(\\n    ncols=3, figsize=(7.5 * helper.gr, 4), gridspec_kw={\\\"width_ratios\\\": [4, 4, 4.85]}\\n)\\n\\nfig_res, ax_res = plt.subplots(ncols=3, figsize=(11.5, 4))\\nfig2, ax2 = plt.subplots(ncols=3, figsize=(12, 4))\\nn_x = 17\\nn_y = 50\\n\\nprint(\\\"\\\\nEnergy\\\")\\ny_min = 0.05\\ny_max = 1.75\\nfld_mc = \\\"backtracked_e\\\"\\nfld_reco = \\\"e_reco_y/0.81\\\"\\nh, x_edges, y_edges, im = ax[0].hist2d(\\n    daughters.eval(fld_mc),\\n    daughters.eval(fld_reco),\\n    cmap=\\\"coolwarm\\\",\\n    bins=(n_x, n_y),\\n    alpha=0.65,\\n    norm=colors.LogNorm(),\\n    range=((y_min, y_max), (y_min, y_max)),\\n)\\nax[0].set_xlabel(\\\"True electron energy [GeV]\\\")\\nax[0].set_ylabel(\\\"Electron shower energy [GeV]\\\")\\nmids, mean, err, quants = getResolution(\\n    daughters.eval(fld_mc), daughters.eval(fld_reco), x_edges, ax2[0]\\n)\\nax[0].errorbar(\\n    mids,\\n    mean,\\n    xerr=(mids[0] - x_edges[0]),\\n    yerr=np.array(err).T,\\n    color=\\\"k\\\",\\n    fmt=\\\"none\\\",\\n    label=r\\\"median + 68% CI\\\",\\n    alpha=0.7,\\n)\\nax[0].legend(loc=\\\"upper left\\\")\\n\\nax_res[0].step(mids, quants[2], lw=1.5, label=\\\"Median\\\", where=\\\"mid\\\", color=\\\"C1\\\")\\nax_res[0].fill_between(\\n    mids,\\n    quants[1],\\n    quants[3],\\n    alpha=0.45,\\n    step=\\\"mid\\\",\\n    color=\\\"C1\\\",\\n    label=\\\"68% confidence interval\\\",\\n)\\nax_res[0].fill_between(\\n    mids,\\n    quants[0],\\n    quants[4],\\n    alpha=0.3,\\n    step=\\\"mid\\\",\\n    color=\\\"C1\\\",\\n    label=\\\"90% confidence interval\\\",\\n)\\nax_res[0].set_xlabel(\\\"True electron energy [GeV]\\\")\\nax_res[0].set_ylabel(r\\\"$\\\\Delta$ electron energy [GeV]\\\")\\nax_res[0].set_xlim(0, y_max)\\nax_res[0].legend()\\n\\nprint(\\\"\\\\nTheta\\\")\\nn_x = 12\\nfld_mc, fld_reco = \\\"backtracked_theta\\\", \\\"shr_theta_v\\\"\\nh, x_edges, y_edges, im = ax[1].hist2d(\\n    daughters[fld_mc],\\n    daughters[fld_reco],\\n    cmap=\\\"coolwarm\\\",\\n    bins=(n_x, n_y),\\n    alpha=0.65,\\n    norm=colors.LogNorm(),\\n)\\nax[1].set_xticks(helper.theta_ticks)\\nax[1].set_xticklabels(helper.theta_labs)\\nax[1].set_yticks(helper.theta_ticks)\\nax[1].set_yticklabels(helper.theta_labs)\\nax[1].set_xlabel(r\\\"True electron $\\\\theta$\\\")\\nax[1].set_ylabel(r\\\"Reconstructed electron $\\\\theta$\\\")\\nax[1].set_ylim(0, np.pi)\\nmids, mean, err, quants = getResolution(\\n    daughters[fld_mc], daughters[fld_reco], x_edges, ax2[1], periodic=True\\n)\\nax[1].errorbar(\\n    mids,\\n    mean,\\n    xerr=(mids[0] - x_edges[0]),\\n    yerr=np.array(err).T,\\n    color=\\\"k\\\",\\n    fmt=\\\"none\\\",\\n    label=r\\\"median + 68% CI\\\",\\n    alpha=0.7,\\n)\\nax[1].legend(loc=\\\"upper left\\\")\\n\\n\\nax_res[1].step(mids, quants[2], lw=1.5, label=\\\"Median\\\", where=\\\"mid\\\", color=\\\"C1\\\")\\nax_res[1].fill_between(\\n    mids,\\n    quants[1],\\n    quants[3],\\n    alpha=0.45,\\n    step=\\\"mid\\\",\\n    color=\\\"C1\\\",\\n    label=\\\"68% confidence interval\\\",\\n)\\nax_res[1].fill_between(\\n    mids,\\n    quants[0],\\n    quants[4],\\n    alpha=0.3,\\n    step=\\\"mid\\\",\\n    color=\\\"C1\\\",\\n    label=\\\"90% confidence interval\\\",\\n)\\nax_res[1].set_xticks(helper.theta_ticks)\\nax_res[1].set_xticklabels(helper.theta_labs)\\nax_res[1].set_xlabel(r\\\"True $\\\\theta$\\\")\\nax_res[1].set_ylabel(r\\\"$\\\\Delta \\\\theta$ [rad]\\\")\\nax_res[1].set_xlim(0, np.pi)\\nax_res[1].legend()\\n\\nprint(\\\"\\\\nPhi\\\")\\nn_x = 12\\nfld_mc, fld_reco = \\\"backtracked_phi\\\", \\\"shr_phi_v\\\"\\nh, x_edges, y_edges, im = ax[2].hist2d(\\n    daughters[fld_mc],\\n    daughters[fld_reco],\\n    cmap=\\\"coolwarm\\\",\\n    bins=(n_x, n_y),\\n    alpha=0.65,\\n    norm=colors.LogNorm(),\\n)\\nax[2].set_xticks(helper.phi_ticks)\\nax[2].set_xticklabels(helper.phi_labs)\\nax[2].set_yticks(helper.phi_ticks)\\nax[2].set_yticklabels(helper.phi_labs)\\nax[2].set_xlabel(r\\\"True electron $\\\\phi$\\\")\\nax[2].set_ylabel(r\\\"Reconstructed electron $\\\\phi$\\\")\\nax[2].set_ylim(-np.pi, np.pi)\\nmids, mean, err, quants = getResolution(\\n    daughters[fld_mc], daughters[fld_reco], x_edges, ax2[2], periodic=True\\n)\\nax[2].errorbar(\\n    mids,\\n    mean,\\n    xerr=(mids[0] - x_edges[0]),\\n    yerr=np.array(err).T,\\n    color=\\\"k\\\",\\n    fmt=\\\"none\\\",\\n    label=r\\\"median + 68% CI\\\",\\n    alpha=0.7,\\n)\\nax[2].legend(loc=\\\"upper left\\\")\\nax[2].set_title(\\\"MicroBooNE, In Progress\\\", loc=\\\"right\\\")\\n\\nax_res[2].step(mids, quants[2], lw=1.5, label=\\\"Median\\\", where=\\\"mid\\\", color=\\\"C1\\\")\\nax_res[2].fill_between(\\n    mids,\\n    quants[1],\\n    quants[3],\\n    alpha=0.45,\\n    step=\\\"mid\\\",\\n    color=\\\"C1\\\",\\n    label=\\\"68% confidence interval\\\",\\n)\\nax_res[2].fill_between(\\n    mids,\\n    quants[0],\\n    quants[4],\\n    alpha=0.3,\\n    step=\\\"mid\\\",\\n    color=\\\"C1\\\",\\n    label=\\\"90% confidence interval\\\",\\n)\\nax_res[2].set_xticks(helper.theta_ticks)\\nax_res[2].set_xticklabels(helper.theta_labs)\\nax_res[2].set_xlabel(r\\\"True $\\\\phi$ angle\\\")\\nax_res[2].set_ylabel(r\\\"$\\\\Delta \\\\phi$  angle [rad]\\\")\\nax_res[2].set_xlim(-np.pi, np.pi)\\nax_res[2].legend(loc=\\\"upper center\\\")\\n\\nclb = fig.colorbar(im, ax=ax[2])\\nclb.set_label(\\\"Tracks per bin\\\", rotation=90)\\nfig.tight_layout()\\nfig.savefig(output_dir + \\\"thesis_electron_resolution.pdf\\\")\";\n",
       "                var nbb_cells = Jupyter.notebook.get_cells();\n",
       "                for (var i = 0; i < nbb_cells.length; ++i) {\n",
       "                    if (nbb_cells[i].input_prompt_number == nbb_cell_id) {\n",
       "                        nbb_cells[i].set_text(nbb_formatted_code);\n",
       "                        break;\n",
       "                    }\n",
       "                }\n",
       "            }, 500);\n",
       "            "
      ],
      "text/plain": [
       "<IPython.core.display.Javascript object>"
      ]
     },
     "metadata": {},
     "output_type": "display_data"
    }
   ],
   "source": [
    "fig, ax = plt.subplots(\n",
    "    ncols=3, figsize=(7.5 * helper.gr, 4), gridspec_kw={\"width_ratios\": [4, 4, 4.85]}\n",
    ")\n",
    "\n",
    "fig_res, ax_res = plt.subplots(ncols=3, figsize=(11.5, 4))\n",
    "fig2, ax2 = plt.subplots(ncols=3, figsize=(12, 4))\n",
    "n_x = 17\n",
    "n_y = 50\n",
    "\n",
    "print(\"\\nEnergy\")\n",
    "y_min = 0.05\n",
    "y_max = 1.75\n",
    "fld_mc = \"backtracked_e\"\n",
    "fld_reco = \"e_reco_y/0.81\"\n",
    "h, x_edges, y_edges, im = ax[0].hist2d(\n",
    "    daughters.eval(fld_mc),\n",
    "    daughters.eval(fld_reco),\n",
    "    cmap=\"coolwarm\",\n",
    "    bins=(n_x, n_y),\n",
    "    alpha=0.65,\n",
    "    norm=colors.LogNorm(),\n",
    "    range=((y_min, y_max), (y_min, y_max)),\n",
    ")\n",
    "ax[0].set_xlabel(\"True electron energy [GeV]\")\n",
    "ax[0].set_ylabel(\"Electron shower energy [GeV]\")\n",
    "mids, mean, err, quants = getResolution(\n",
    "    daughters.eval(fld_mc), daughters.eval(fld_reco), x_edges, ax2[0]\n",
    ")\n",
    "ax[0].errorbar(\n",
    "    mids,\n",
    "    mean,\n",
    "    xerr=(mids[0] - x_edges[0]),\n",
    "    yerr=np.array(err).T,\n",
    "    color=\"k\",\n",
    "    fmt=\"none\",\n",
    "    label=r\"median + 68% CI\",\n",
    "    alpha=0.7,\n",
    ")\n",
    "ax[0].legend(loc=\"upper left\")\n",
    "\n",
    "ax_res[0].step(mids, quants[2], lw=1.5, label=\"Median\", where=\"mid\", color=\"C1\")\n",
    "ax_res[0].fill_between(\n",
    "    mids,\n",
    "    quants[1],\n",
    "    quants[3],\n",
    "    alpha=0.45,\n",
    "    step=\"mid\",\n",
    "    color=\"C1\",\n",
    "    label=\"68% confidence interval\",\n",
    ")\n",
    "ax_res[0].fill_between(\n",
    "    mids,\n",
    "    quants[0],\n",
    "    quants[4],\n",
    "    alpha=0.3,\n",
    "    step=\"mid\",\n",
    "    color=\"C1\",\n",
    "    label=\"90% confidence interval\",\n",
    ")\n",
    "ax_res[0].set_xlabel(\"True electron energy [GeV]\")\n",
    "ax_res[0].set_ylabel(r\"$\\Delta$ electron energy [GeV]\")\n",
    "ax_res[0].set_xlim(0, y_max)\n",
    "ax_res[0].legend()\n",
    "\n",
    "print(\"\\nTheta\")\n",
    "n_x = 12\n",
    "fld_mc, fld_reco = \"backtracked_theta\", \"shr_theta_v\"\n",
    "h, x_edges, y_edges, im = ax[1].hist2d(\n",
    "    daughters[fld_mc],\n",
    "    daughters[fld_reco],\n",
    "    cmap=\"coolwarm\",\n",
    "    bins=(n_x, n_y),\n",
    "    alpha=0.65,\n",
    "    norm=colors.LogNorm(),\n",
    ")\n",
    "ax[1].set_xticks(helper.theta_ticks)\n",
    "ax[1].set_xticklabels(helper.theta_labs)\n",
    "ax[1].set_yticks(helper.theta_ticks)\n",
    "ax[1].set_yticklabels(helper.theta_labs)\n",
    "ax[1].set_xlabel(r\"True electron $\\theta$\")\n",
    "ax[1].set_ylabel(r\"Reconstructed electron $\\theta$\")\n",
    "ax[1].set_ylim(0, np.pi)\n",
    "mids, mean, err, quants = getResolution(\n",
    "    daughters[fld_mc], daughters[fld_reco], x_edges, ax2[1], periodic=True\n",
    ")\n",
    "ax[1].errorbar(\n",
    "    mids,\n",
    "    mean,\n",
    "    xerr=(mids[0] - x_edges[0]),\n",
    "    yerr=np.array(err).T,\n",
    "    color=\"k\",\n",
    "    fmt=\"none\",\n",
    "    label=r\"median + 68% CI\",\n",
    "    alpha=0.7,\n",
    ")\n",
    "ax[1].legend(loc=\"upper left\")\n",
    "\n",
    "\n",
    "ax_res[1].step(mids, quants[2], lw=1.5, label=\"Median\", where=\"mid\", color=\"C1\")\n",
    "ax_res[1].fill_between(\n",
    "    mids,\n",
    "    quants[1],\n",
    "    quants[3],\n",
    "    alpha=0.45,\n",
    "    step=\"mid\",\n",
    "    color=\"C1\",\n",
    "    label=\"68% confidence interval\",\n",
    ")\n",
    "ax_res[1].fill_between(\n",
    "    mids,\n",
    "    quants[0],\n",
    "    quants[4],\n",
    "    alpha=0.3,\n",
    "    step=\"mid\",\n",
    "    color=\"C1\",\n",
    "    label=\"90% confidence interval\",\n",
    ")\n",
    "ax_res[1].set_xticks(helper.theta_ticks)\n",
    "ax_res[1].set_xticklabels(helper.theta_labs)\n",
    "ax_res[1].set_xlabel(r\"True $\\theta$\")\n",
    "ax_res[1].set_ylabel(r\"$\\Delta \\theta$ [rad]\")\n",
    "ax_res[1].set_xlim(0, np.pi)\n",
    "ax_res[1].legend()\n",
    "\n",
    "print(\"\\nPhi\")\n",
    "n_x = 12\n",
    "fld_mc, fld_reco = \"backtracked_phi\", \"shr_phi_v\"\n",
    "h, x_edges, y_edges, im = ax[2].hist2d(\n",
    "    daughters[fld_mc],\n",
    "    daughters[fld_reco],\n",
    "    cmap=\"coolwarm\",\n",
    "    bins=(n_x, n_y),\n",
    "    alpha=0.65,\n",
    "    norm=colors.LogNorm(),\n",
    ")\n",
    "ax[2].set_xticks(helper.phi_ticks)\n",
    "ax[2].set_xticklabels(helper.phi_labs)\n",
    "ax[2].set_yticks(helper.phi_ticks)\n",
    "ax[2].set_yticklabels(helper.phi_labs)\n",
    "ax[2].set_xlabel(r\"True electron $\\phi$\")\n",
    "ax[2].set_ylabel(r\"Reconstructed electron $\\phi$\")\n",
    "ax[2].set_ylim(-np.pi, np.pi)\n",
    "mids, mean, err, quants = getResolution(\n",
    "    daughters[fld_mc], daughters[fld_reco], x_edges, ax2[2], periodic=True\n",
    ")\n",
    "ax[2].errorbar(\n",
    "    mids,\n",
    "    mean,\n",
    "    xerr=(mids[0] - x_edges[0]),\n",
    "    yerr=np.array(err).T,\n",
    "    color=\"k\",\n",
    "    fmt=\"none\",\n",
    "    label=r\"median + 68% CI\",\n",
    "    alpha=0.7,\n",
    ")\n",
    "ax[2].legend(loc=\"upper left\")\n",
    "ax[2].set_title(\"MicroBooNE, In Progress\", loc=\"right\")\n",
    "\n",
    "ax_res[2].step(mids, quants[2], lw=1.5, label=\"Median\", where=\"mid\", color=\"C1\")\n",
    "ax_res[2].fill_between(\n",
    "    mids,\n",
    "    quants[1],\n",
    "    quants[3],\n",
    "    alpha=0.45,\n",
    "    step=\"mid\",\n",
    "    color=\"C1\",\n",
    "    label=\"68% confidence interval\",\n",
    ")\n",
    "ax_res[2].fill_between(\n",
    "    mids,\n",
    "    quants[0],\n",
    "    quants[4],\n",
    "    alpha=0.3,\n",
    "    step=\"mid\",\n",
    "    color=\"C1\",\n",
    "    label=\"90% confidence interval\",\n",
    ")\n",
    "ax_res[2].set_xticks(helper.theta_ticks)\n",
    "ax_res[2].set_xticklabels(helper.theta_labs)\n",
    "ax_res[2].set_xlabel(r\"True $\\phi$ angle\")\n",
    "ax_res[2].set_ylabel(r\"$\\Delta \\phi$  angle [rad]\")\n",
    "ax_res[2].set_xlim(-np.pi, np.pi)\n",
    "ax_res[2].legend(loc=\"upper center\")\n",
    "\n",
    "clb = fig.colorbar(im, ax=ax[2])\n",
    "clb.set_label(\"Tracks per bin\", rotation=90)\n",
    "fig.tight_layout()\n",
    "fig.savefig(output_dir + \"thesis_electron_resolution.pdf\")"
   ]
  },
  {
   "cell_type": "code",
   "execution_count": null,
   "metadata": {},
   "outputs": [],
   "source": []
  },
  {
   "cell_type": "code",
   "execution_count": null,
   "metadata": {},
   "outputs": [],
   "source": [
    "# proton/electron reconstruction efficiency:\n",
    "denum_p = \"true_category==2 & nproton==1 & n_pfps>0\"\n",
    "num_p = \"true_category==2 & nproton==1 & abs(backtracked_pdg)==2212 & backtracked_e>(@mass_p+0.04) & trk_score_v>0.5 & backtracked_purity>0.5 & backtracked_completeness>0.5\"\n",
    "denum_e = \"true_category>0 & n_pfps>0\"\n",
    "num_e = \"true_category>0 & abs(backtracked_pdg)==11 & trk_score_v<0.5 & backtracked_purity>0.5 & backtracked_completeness>0.5\""
   ]
  },
  {
   "cell_type": "code",
   "execution_count": null,
   "metadata": {},
   "outputs": [],
   "source": [
    "# eff total\n",
    "fig, ax = plt.subplots(ncols=3, figsize=(11.5, 3), constrained_layout=True)\n",
    "\n",
    "x_min = 0\n",
    "x_max = 2\n",
    "n_bins = 50\n",
    "# LEFT\n",
    "num = nue_frame.query(num_p)[\"backtracked_e\"]  # - mass_p\n",
    "den = nue_mc.query(denum_p)[\"max_proton_e\"]  # - mass_p\n",
    "num_w = nue_frame.query(num_p)[weight]\n",
    "den_w = nue_mc.query(denum_p)[weight]\n",
    "eff, unc_low, unc_up, edges = plot_class.efficiency_post(\n",
    "    num, den, num_w=num_w, den_w=den_w, n_bins=n_bins, x_min=x_min, x_max=x_max\n",
    ")\n",
    "ax[0].fill_between(edges, eff - unc_low, eff + unc_up, alpha=0.3, step=\"post\")\n",
    "ax[0].step(\n",
    "    edges,\n",
    "    eff,\n",
    "    where=\"post\",\n",
    "    label=\"{0}: {1:.1%}\".format(r\"$p$ \", sum(num_w) / sum(den_w)),\n",
    ")\n",
    "# LEFT\n",
    "num = nue_frame.query(num_e)[\"backtracked_e\"]\n",
    "den = nue_mc.query(denum_e)[\"lep_e\"]\n",
    "num_w = nue_frame.query(num_e)[weight]\n",
    "den_w = nue_mc.query(denum_e)[weight]\n",
    "eff, unc_low, unc_up, edges = plot_class.efficiency_post(\n",
    "    num, den, num_w=num_w, den_w=den_w, n_bins=n_bins, x_min=x_min, x_max=x_max\n",
    ")\n",
    "ax[0].fill_between(edges, eff - unc_low, eff + unc_up, alpha=0.3, step=\"post\")\n",
    "ax[0].step(\n",
    "    edges,\n",
    "    eff,\n",
    "    where=\"post\",\n",
    "    label=\"{0}: {1:.1%}\".format(r\"$e$ \", sum(num_w) / sum(den_w)),\n",
    ")\n",
    "ax[0].set_title(r\"$\\nu_e$ CC\", loc=\"right\")\n",
    "ax[0].set_title(\"Reconstruction Efficiency\", loc=\"left\")\n",
    "ax[0].set_xlabel(\"True particle energy [GeV]\")\n",
    "ax[0].set_ylabel(\"Efficiency\")\n",
    "ax[0].set_ylim(0, 1)\n",
    "ax[0].set_xlim(x_min, x_max)\n",
    "ax[0].legend(loc=\"lower right\")\n",
    "\n",
    "\n",
    "x_min = 0\n",
    "x_max = 1\n",
    "n_bins = 50\n",
    "# Middle\n",
    "purity, edges = np.histogram(\n",
    "    nue_mc.query(\"(true_category>0)*(n_pfps>0)\")[\"nu_purity_from_pfp\"],\n",
    "    range=(x_min, x_max),\n",
    "    bins=n_bins,\n",
    "    weights=nue_mc.query(\"(true_category>0)*(n_pfps>0)\")[weight],\n",
    ")\n",
    "completeness, edges = np.histogram(\n",
    "    nue_mc.query(\"(true_category>0)*(n_pfps>0)\")[\"nu_completeness_from_pfp\"],\n",
    "    range=(x_min, x_max),\n",
    "    bins=n_bins,\n",
    "    weights=nue_mc.query(\"(true_category>0)*(n_pfps>0)\")[weight],\n",
    ")\n",
    "completeness = np.hstack((completeness, [completeness[-1]]))\n",
    "purity = np.hstack((purity, [purity[-1]]))\n",
    "c_err = np.sqrt(completeness)\n",
    "p_err = np.sqrt(purity)\n",
    "c_frac = (\n",
    "    nue_mc.eval(\n",
    "        \"(true_category>0)*(nu_completeness_from_pfp>0.8)*(n_pfps>0)*{}\".format(weight)\n",
    "    ).sum()\n",
    "    / nue_mc.eval(\"(true_category>0)*(n_pfps>0)*{}\".format(weight)).sum()\n",
    ")\n",
    "p_frac = (\n",
    "    nue_mc.eval(\n",
    "        \"(true_category>0)*(n_pfps>0)*(nu_purity_from_pfp>0.8)*{}\".format(weight)\n",
    "    ).sum()\n",
    "    / nue_mc.eval(\"(true_category>0)*(n_pfps>0)*{}\".format(weight)).sum()\n",
    ")\n",
    "\n",
    "ax[1].fill_between(edges, purity - p_err, purity + p_err, alpha=0.3, step=\"post\")\n",
    "ax[1].step(edges, purity, where=\"post\", label=\"Purity ({:0.1%})\".format(p_frac))\n",
    "ax[1].fill_between(\n",
    "    edges, completeness - c_err, completeness + c_err, alpha=0.3, step=\"post\"\n",
    ")\n",
    "ax[1].step(\n",
    "    edges, completeness, where=\"post\", label=\"Completeness ({:0.1%})\".format(c_frac)\n",
    ")\n",
    "ax[1].legend()\n",
    "ax[1].set_yscale(\"log\")\n",
    "ax[1].set_xlim(x_min, x_max)\n",
    "ax[1].axvspan(xmin=0.8, xmax=x_max, color=\"g\", alpha=0.1)\n",
    "ax[1].set_title(r\"$\\nu_e$ CC\", loc=\"right\")\n",
    "ax[1].set_title(\"Slice purity/completeness\", loc=\"left\")\n",
    "ax[1].set_xlabel(\"Fraction\")\n",
    "ax[1].set_ylabel(\"Events per bin\")\n",
    "\n",
    "\n",
    "# right\n",
    "x_min = 0\n",
    "x_max = 10\n",
    "n_bins = 50\n",
    "vtx_dist, edges = np.histogram(\n",
    "    nue_frame.query(\"true_category>0\").xs(0, level=\"daughter\")[\"true_vtx_distance\"],\n",
    "    range=(x_min, x_max),\n",
    "    bins=n_bins,\n",
    "    weights=nue_frame.query(\"true_category>0\").xs(0, level=\"daughter\")[weight],\n",
    ")\n",
    "shower_dist, edges = np.histogram(\n",
    "    nue_frame.query(num_e)[\"true_shower_distance\"],\n",
    "    range=(x_min, x_max),\n",
    "    bins=n_bins,\n",
    "    weights=nue_frame.query(num_e)[weight],\n",
    ")\n",
    "shower_dist = np.hstack((shower_dist, [shower_dist[-1]]))\n",
    "vtx_dist = np.hstack((vtx_dist, [vtx_dist[-1]]))\n",
    "s_err = np.sqrt(shower_dist)\n",
    "v_err = np.sqrt(vtx_dist)\n",
    "s_frac = (\n",
    "    nue_frame.query(num_e).query(\"true_shower_distance<3\")[weight].sum()\n",
    "    / nue_frame.query(num_e)[weight].sum()\n",
    ")\n",
    "\n",
    "v_frac = (\n",
    "    nue_frame.query(\"(true_category>0)*(true_vtx_distance<3)\")\n",
    "    .xs(0, level=\"daughter\")[weight]\n",
    "    .sum()\n",
    "    / nue_frame.query(\"(true_category>0)\").xs(0, level=\"daughter\")[weight].sum()\n",
    ")\n",
    "\n",
    "ax[2].fill_between(edges, vtx_dist - v_err, vtx_dist + v_err, alpha=0.3, step=\"post\")\n",
    "ax[2].step(\n",
    "    edges, vtx_dist, where=\"post\", label=\"Vertex distance ({:0.1%})\".format(v_frac)\n",
    ")\n",
    "ax[2].fill_between(\n",
    "    edges, shower_dist - s_err, shower_dist + s_err, alpha=0.3, step=\"post\"\n",
    ")\n",
    "ax[2].step(\n",
    "    edges, shower_dist, where=\"post\", label=\"Electron distance ({:0.1%})\".format(s_frac)\n",
    ")\n",
    "ax[2].legend()\n",
    "ax[2].set_yscale(\"log\")\n",
    "ax[2].set_xlim(x_min, x_max)\n",
    "ax[2].axvspan(xmin=x_min, xmax=3, color=\"g\", alpha=0.1)\n",
    "ax[2].set_title(r\"$\\nu_e$ CC\", loc=\"right\")\n",
    "ax[2].set_title(\"Vertex/Electron distance\", loc=\"left\")\n",
    "ax[2].set_xlabel(\"Distance reconstructed to truth object [cm]\")\n",
    "ax[2].set_ylabel(\"Events per bin\")\n",
    "\n",
    "\n",
    "fig.tight_layout()\n",
    "fig.savefig(output_dir + \"reco_quality_run{}.pdf\".format(run), bbox_inches=\"tight\")\n",
    "\n",
    "# events where everythin is okay:"
   ]
  },
  {
   "cell_type": "code",
   "execution_count": null,
   "metadata": {},
   "outputs": [],
   "source": [
    "# That is the efficiency that is reasonable to aim for:\n",
    "quality_q = \"(nu_purity_from_pfp>0.8)*(nu_completeness_from_pfp>0.8) & true_vtx_distance<3 & true_shower_distance<3\"\n",
    "print(\n",
    "    nue_frame.query(num_e).query(quality_q)[weight].sum()\n",
    "    / nue_mc.query(\"true_category>0\")[weight].sum()\n",
    ")\n",
    "print(num_e)\n",
    "print(quality_q)"
   ]
  }
 ],
 "metadata": {
  "kernelspec": {
   "display_name": "uproot env",
   "language": "python",
   "name": "uproot"
  },
  "language_info": {
   "codemirror_mode": {
    "name": "ipython",
    "version": 3
   },
   "file_extension": ".py",
   "mimetype": "text/x-python",
   "name": "python",
   "nbconvert_exporter": "python",
   "pygments_lexer": "ipython3",
   "version": "3.7.4"
  }
 },
 "nbformat": 4,
 "nbformat_minor": 2
}
