{
 "cells": [
  {
   "cell_type": "markdown",
   "metadata": {},
   "source": [
    "### Inputs "
   ]
  },
  {
   "cell_type": "code",
   "execution_count": 1,
   "metadata": {},
   "outputs": [
    {
     "data": {
      "application/javascript": [
       "\n",
       "            setTimeout(function() {\n",
       "                var nbb_cell_id = 1;\n",
       "                var nbb_formatted_code = \"%load_ext nb_black\";\n",
       "                var nbb_cells = Jupyter.notebook.get_cells();\n",
       "                for (var i = 0; i < nbb_cells.length; ++i) {\n",
       "                    if (nbb_cells[i].input_prompt_number == nbb_cell_id) {\n",
       "                        nbb_cells[i].set_text(nbb_formatted_code);\n",
       "                        break;\n",
       "                    }\n",
       "                }\n",
       "            }, 500);\n",
       "            "
      ],
      "text/plain": [
       "<IPython.core.display.Javascript object>"
      ]
     },
     "metadata": {},
     "output_type": "display_data"
    }
   ],
   "source": [
    "%load_ext nb_black"
   ]
  },
  {
   "cell_type": "code",
   "execution_count": 2,
   "metadata": {},
   "outputs": [
    {
     "data": {
      "application/javascript": [
       "\n",
       "            setTimeout(function() {\n",
       "                var nbb_cell_id = 2;\n",
       "                var nbb_formatted_code = \"import matplotlib.pyplot as plt\\nfrom matplotlib import colors\\nfrom matplotlib.colors import LogNorm\\nimport matplotlib.patches as patches\\nimport numpy as np\\nimport pandas as pd\\nimport pickle\";\n",
       "                var nbb_cells = Jupyter.notebook.get_cells();\n",
       "                for (var i = 0; i < nbb_cells.length; ++i) {\n",
       "                    if (nbb_cells[i].input_prompt_number == nbb_cell_id) {\n",
       "                        nbb_cells[i].set_text(nbb_formatted_code);\n",
       "                        break;\n",
       "                    }\n",
       "                }\n",
       "            }, 500);\n",
       "            "
      ],
      "text/plain": [
       "<IPython.core.display.Javascript object>"
      ]
     },
     "metadata": {},
     "output_type": "display_data"
    }
   ],
   "source": [
    "import matplotlib.pyplot as plt\n",
    "from matplotlib import colors\n",
    "from matplotlib.colors import LogNorm\n",
    "import matplotlib.patches as patches\n",
    "import numpy as np\n",
    "import pandas as pd\n",
    "import pickle"
   ]
  },
  {
   "cell_type": "markdown",
   "metadata": {},
   "source": [
    "### Constants"
   ]
  },
  {
   "cell_type": "code",
   "execution_count": 3,
   "metadata": {},
   "outputs": [
    {
     "data": {
      "application/javascript": [
       "\n",
       "            setTimeout(function() {\n",
       "                var nbb_cell_id = 3;\n",
       "                var nbb_formatted_code = \"run = 3\\ninput_dir = \\\"./input/16Jan/\\\".format(run)\\noutput_dir = \\\"./output/run{}/e_resolution/\\\".format(run)\\nub_tag = \\\"MicroBooNE, In Progress\\\"\\n\\nper1 = 50 - 45  # 68.27/2            # 1sigma stat boundaries\\nper2 = 50 + 45  # 68.27/2\\nper21 = 50 - 95.45 / 2\\nper22 = 50 + 95.45 / 2\\npersig1 = 50 - 68.27 / 2\\npersig2 = 50 + 68.27 / 2\";\n",
       "                var nbb_cells = Jupyter.notebook.get_cells();\n",
       "                for (var i = 0; i < nbb_cells.length; ++i) {\n",
       "                    if (nbb_cells[i].input_prompt_number == nbb_cell_id) {\n",
       "                        nbb_cells[i].set_text(nbb_formatted_code);\n",
       "                        break;\n",
       "                    }\n",
       "                }\n",
       "            }, 500);\n",
       "            "
      ],
      "text/plain": [
       "<IPython.core.display.Javascript object>"
      ]
     },
     "metadata": {},
     "output_type": "display_data"
    }
   ],
   "source": [
    "run = 3\n",
    "input_dir = \"./input/16Jan/\".format(run)\n",
    "output_dir = \"./output/run{}/e_resolution/\".format(run)\n",
    "ub_tag = \"MicroBooNE, In Progress\"\n",
    "\n",
    "per1 = 50 - 45  # 68.27/2            # 1sigma stat boundaries\n",
    "per2 = 50 + 45  # 68.27/2\n",
    "per21 = 50 - 95.45 / 2\n",
    "per22 = 50 + 95.45 / 2\n",
    "persig1 = 50 - 68.27 / 2\n",
    "persig2 = 50 + 68.27 / 2"
   ]
  },
  {
   "cell_type": "markdown",
   "metadata": {},
   "source": [
    "### Functions"
   ]
  },
  {
   "cell_type": "code",
   "execution_count": 4,
   "metadata": {},
   "outputs": [
    {
     "data": {
      "application/javascript": [
       "\n",
       "            setTimeout(function() {\n",
       "                var nbb_cell_id = 4;\n",
       "                var nbb_formatted_code = \"def cosmic_angles(mom_x, mom_y, mom_z):\\n    theta = np.arctan2(np.sqrt(np.square(mom_x) + np.square(mom_y)), mom_z)\\n    phi = np.arctan2(mom_y, mom_x)\\n    return [theta, phi]\\n\\n\\n# should return resolution per bin\\ndef getResolution(data_x, data_y, x_edges, ax, periodic=False):\\n    mean = []\\n    err = []\\n    percentiles_arr = []\\n\\n    mids = 0.5 * (x_edges[1:] + x_edges[:-1])\\n    bin_id = np.digitize(data_x, x_edges)\\n    data_diff = data_y - data_x\\n    if periodic:\\n        data_diff = (data_diff + np.pi) % (2 * np.pi) - np.pi\\n        data_diff *= 180 / np.pi\\n        mids *= 180 / np.pi\\n    for i in range(1, len(x_edges)):\\n        ax.hist(\\n            data_diff[bin_id == i],\\n            bins=50,\\n            range=np.percentile(data_diff, [per21, per22]),\\n            histtype=\\\"step\\\",\\n        )\\n        percentiles = np.percentile(\\n            data_diff[bin_id == i], [per1, persig1, 50, persig2, per2]\\n        )\\n        print(\\n            round(10 * mids[i - 1]) / 10,\\n            \\\"\\\\t\\\",\\n            np.median(data_y[bin_id == i]),\\n            \\\"\\\\t\\\",\\n            percentiles[[0, 2, 4]],\\n            \\\"\\\\t\\\",\\n            (percentiles[-1] - percentiles[0]) / 2,\\n        )\\n        if periodic:\\n            percentiles /= 180 / np.pi\\n            mean.append(mids[i - 1] / (180 / np.pi) + percentiles[2])\\n        else:\\n            mean.append(mids[i - 1] + percentiles[2])\\n        err.append([percentiles[2] - percentiles[0], percentiles[4] - percentiles[2]])\\n        percentiles_arr.append(percentiles)\\n    if periodic:\\n        mids /= 180 / np.pi\\n    quants = np.array(percentiles_arr).T\\n    return mids, mean, err, quants\\n\\n\\n## make the one plot that will describe the resolution:\\ndef getResolution2(data_x, data_y, x_edges, bin_i, periodic=False):\\n    mean = []\\n    err = []\\n    mids = 0.5 * (x_edges[1:] + x_edges[:-1])\\n    bin_id = np.digitize(data_x, x_edges)\\n    data_diff = data_y - data_x\\n    if periodic:\\n        data_diff = (data_diff + np.pi) % (2 * np.pi) - np.pi\\n        data_diff *= 180 / np.pi\\n        mids *= 180 / np.pi\\n\\n    percentiles = np.percentile(data_diff[bin_id == bin_i], [per1, 50, per2])\\n\\n    print(\\n        round(mids[bin_i - 1] * 10) / 10,\\n        \\\"\\\\t\\\",\\n        np.median(data_y[bin_id == bin_i]),\\n        \\\"\\\\t\\\",\\n        percentiles,\\n        \\\"\\\\t\\\",\\n        (percentiles[-1] - percentiles[0]) / 2,\\n    )\\n    if periodic:\\n        percentiles /= 180 / np.pi\\n        mean = mids[bin_i - 1] / (180 / np.pi) + percentiles[1]\\n    else:\\n        mean = mids[bin_i - 1] + percentiles[1]\\n    err = [percentiles[0], percentiles[2]]\\n\\n    if periodic:\\n        mids /= 180 / np.pi\\n    return mids[bin_i - 1], percentiles[1], err, data_diff[bin_id == bin_i]\";\n",
       "                var nbb_cells = Jupyter.notebook.get_cells();\n",
       "                for (var i = 0; i < nbb_cells.length; ++i) {\n",
       "                    if (nbb_cells[i].input_prompt_number == nbb_cell_id) {\n",
       "                        nbb_cells[i].set_text(nbb_formatted_code);\n",
       "                        break;\n",
       "                    }\n",
       "                }\n",
       "            }, 500);\n",
       "            "
      ],
      "text/plain": [
       "<IPython.core.display.Javascript object>"
      ]
     },
     "metadata": {},
     "output_type": "display_data"
    }
   ],
   "source": [
    "def cosmic_angles(mom_x, mom_y, mom_z):\n",
    "    theta = np.arctan2(np.sqrt(np.square(mom_x) + np.square(mom_y)), mom_z)\n",
    "    phi = np.arctan2(mom_y, mom_x)\n",
    "    return [theta, phi]\n",
    "\n",
    "\n",
    "# should return resolution per bin\n",
    "def getResolution(data_x, data_y, x_edges, ax, periodic=False):\n",
    "    mean = []\n",
    "    err = []\n",
    "    percentiles_arr = []\n",
    "\n",
    "    mids = 0.5 * (x_edges[1:] + x_edges[:-1])\n",
    "    bin_id = np.digitize(data_x, x_edges)\n",
    "    data_diff = data_y - data_x\n",
    "    if periodic:\n",
    "        data_diff = (data_diff + np.pi) % (2 * np.pi) - np.pi\n",
    "        data_diff *= 180 / np.pi\n",
    "        mids *= 180 / np.pi\n",
    "    for i in range(1, len(x_edges)):\n",
    "        ax.hist(\n",
    "            data_diff[bin_id == i],\n",
    "            bins=50,\n",
    "            range=np.percentile(data_diff, [per21, per22]),\n",
    "            histtype=\"step\",\n",
    "        )\n",
    "        percentiles = np.percentile(\n",
    "            data_diff[bin_id == i], [per1, persig1, 50, persig2, per2]\n",
    "        )\n",
    "        print(\n",
    "            round(10 * mids[i - 1]) / 10,\n",
    "            \"\\t\",\n",
    "            np.median(data_y[bin_id == i]),\n",
    "            \"\\t\",\n",
    "            percentiles[[0, 2, 4]],\n",
    "            \"\\t\",\n",
    "            (percentiles[-1] - percentiles[0]) / 2,\n",
    "        )\n",
    "        if periodic:\n",
    "            percentiles /= 180 / np.pi\n",
    "            mean.append(mids[i - 1] / (180 / np.pi) + percentiles[2])\n",
    "        else:\n",
    "            mean.append(mids[i - 1] + percentiles[2])\n",
    "        err.append([percentiles[2] - percentiles[0], percentiles[4] - percentiles[2]])\n",
    "        percentiles_arr.append(percentiles)\n",
    "    if periodic:\n",
    "        mids /= 180 / np.pi\n",
    "    quants = np.array(percentiles_arr).T\n",
    "    return mids, mean, err, quants\n",
    "\n",
    "\n",
    "## make the one plot that will describe the resolution:\n",
    "def getResolution2(data_x, data_y, x_edges, bin_i, periodic=False):\n",
    "    mean = []\n",
    "    err = []\n",
    "    mids = 0.5 * (x_edges[1:] + x_edges[:-1])\n",
    "    bin_id = np.digitize(data_x, x_edges)\n",
    "    data_diff = data_y - data_x\n",
    "    if periodic:\n",
    "        data_diff = (data_diff + np.pi) % (2 * np.pi) - np.pi\n",
    "        data_diff *= 180 / np.pi\n",
    "        mids *= 180 / np.pi\n",
    "\n",
    "    percentiles = np.percentile(data_diff[bin_id == bin_i], [per1, 50, per2])\n",
    "\n",
    "    print(\n",
    "        round(mids[bin_i - 1] * 10) / 10,\n",
    "        \"\\t\",\n",
    "        np.median(data_y[bin_id == bin_i]),\n",
    "        \"\\t\",\n",
    "        percentiles,\n",
    "        \"\\t\",\n",
    "        (percentiles[-1] - percentiles[0]) / 2,\n",
    "    )\n",
    "    if periodic:\n",
    "        percentiles /= 180 / np.pi\n",
    "        mean = mids[bin_i - 1] / (180 / np.pi) + percentiles[1]\n",
    "    else:\n",
    "        mean = mids[bin_i - 1] + percentiles[1]\n",
    "    err = [percentiles[0], percentiles[2]]\n",
    "\n",
    "    if periodic:\n",
    "        mids /= 180 / np.pi\n",
    "    return mids[bin_i - 1], percentiles[1], err, data_diff[bin_id == bin_i]"
   ]
  },
  {
   "cell_type": "markdown",
   "metadata": {},
   "source": [
    "### Load data"
   ]
  },
  {
   "cell_type": "code",
   "execution_count": 5,
   "metadata": {},
   "outputs": [
    {
     "data": {
      "application/javascript": [
       "\n",
       "            setTimeout(function() {\n",
       "                var nbb_cell_id = 5;\n",
       "                var nbb_formatted_code = \"data = pickle.load(open(input_dir + \\\"after_training_run{}.pckl\\\".format(run), \\\"rb\\\"))\\ndata = data[\\\"nue\\\"]\\ndaughters = data[\\\"daughters\\\"].query(\\\"e_candidate & select & nueccinc\\\").copy()\";\n",
       "                var nbb_cells = Jupyter.notebook.get_cells();\n",
       "                for (var i = 0; i < nbb_cells.length; ++i) {\n",
       "                    if (nbb_cells[i].input_prompt_number == nbb_cell_id) {\n",
       "                        nbb_cells[i].set_text(nbb_formatted_code);\n",
       "                        break;\n",
       "                    }\n",
       "                }\n",
       "            }, 500);\n",
       "            "
      ],
      "text/plain": [
       "<IPython.core.display.Javascript object>"
      ]
     },
     "metadata": {},
     "output_type": "display_data"
    }
   ],
   "source": [
    "data = pickle.load(open(input_dir + \"after_training_run{}.pckl\".format(run), \"rb\"))\n",
    "data = data[\"nue\"]\n",
    "daughters = data[\"daughters\"].query(\"e_candidate & select & nueccinc\").copy()"
   ]
  },
  {
   "cell_type": "code",
   "execution_count": 6,
   "metadata": {},
   "outputs": [
    {
     "name": "stderr",
     "output_type": "stream",
     "text": [
      "/home/wouter/Binaries/miniconda3/envs/uproot/lib/python3.7/site-packages/numpy/linalg/linalg.py:2512: RuntimeWarning: overflow encountered in multiply\n",
      "  s = (x.conj() * x).real\n",
      "/home/wouter/Binaries/miniconda3/envs/uproot/lib/python3.7/site-packages/ipykernel_launcher.py:2: RuntimeWarning: overflow encountered in square\n",
      "  \n"
     ]
    },
    {
     "data": {
      "application/javascript": [
       "\n",
       "            setTimeout(function() {\n",
       "                var nbb_cell_id = 6;\n",
       "                var nbb_formatted_code = \"# create some fields, such as true phi, theta and start end distance\\ntemp = daughters[\\n    [\\n        \\\"true_nu_vtx_sce_x\\\",\\n        \\\"true_nu_vtx_sce_y\\\",\\n        \\\"true_nu_vtx_sce_z\\\",\\n        \\\"backtracked_sce_start_x\\\",\\n        \\\"backtracked_sce_start_y\\\",\\n        \\\"backtracked_sce_start_z\\\",\\n    ]\\n].values.T\\ndaughters[\\\"true_shr_distance\\\"] = np.linalg.norm(temp[0:3] - temp[3:6], axis=0)\\ntemp = daughters[\\n    [\\n        \\\"reco_nu_vtx_x\\\",\\n        \\\"reco_nu_vtx_y\\\",\\n        \\\"reco_nu_vtx_z\\\",\\n        \\\"shr_tkfit_start_x_v\\\",\\n        \\\"shr_tkfit_start_y_v\\\",\\n        \\\"shr_tkfit_start_z_v\\\",\\n    ]\\n].values.T\\ndaughters[\\\"tkfit_shr_distance\\\"] = np.linalg.norm(temp[0:3] - temp[3:6], axis=0)\\ntemp = daughters[\\n    [\\n        \\\"reco_nu_vtx_x\\\",\\n        \\\"reco_nu_vtx_y\\\",\\n        \\\"reco_nu_vtx_z\\\",\\n        \\\"shr_start_x_v\\\",\\n        \\\"shr_start_y_v\\\",\\n        \\\"shr_start_z_v\\\",\\n    ]\\n].values.T\\ndaughters[\\\"shr_distance\\\"] = np.linalg.norm(temp[0:3] - temp[3:6], axis=0)\\ntemp = daughters[\\n    [\\n        \\\"reco_nu_vtx_x\\\",\\n        \\\"reco_nu_vtx_y\\\",\\n        \\\"reco_nu_vtx_z\\\",\\n        \\\"trk_start_x_v\\\",\\n        \\\"trk_start_y_v\\\",\\n        \\\"trk_start_z_v\\\",\\n    ]\\n].values.T\\ndaughters[\\\"trk_distance\\\"] = np.linalg.norm(temp[0:3] - temp[3:6], axis=0)\\ncols = [\\\"backtracked_px\\\", \\\"backtracked_py\\\", \\\"backtracked_pz\\\"]\\ndaughters[\\\"backtracked_theta\\\"], daughters[\\\"backtracked_phi\\\"] = cosmic_angles(\\n    *daughters[cols].T.values\\n)\";\n",
       "                var nbb_cells = Jupyter.notebook.get_cells();\n",
       "                for (var i = 0; i < nbb_cells.length; ++i) {\n",
       "                    if (nbb_cells[i].input_prompt_number == nbb_cell_id) {\n",
       "                        nbb_cells[i].set_text(nbb_formatted_code);\n",
       "                        break;\n",
       "                    }\n",
       "                }\n",
       "            }, 500);\n",
       "            "
      ],
      "text/plain": [
       "<IPython.core.display.Javascript object>"
      ]
     },
     "metadata": {},
     "output_type": "display_data"
    }
   ],
   "source": [
    "# create some fields, such as true phi, theta and start end distance\n",
    "temp = daughters[\n",
    "    [\n",
    "        \"true_nu_vtx_sce_x\",\n",
    "        \"true_nu_vtx_sce_y\",\n",
    "        \"true_nu_vtx_sce_z\",\n",
    "        \"backtracked_sce_start_x\",\n",
    "        \"backtracked_sce_start_y\",\n",
    "        \"backtracked_sce_start_z\",\n",
    "    ]\n",
    "].values.T\n",
    "daughters[\"true_shr_distance\"] = np.linalg.norm(temp[0:3] - temp[3:6], axis=0)\n",
    "temp = daughters[\n",
    "    [\n",
    "        \"reco_nu_vtx_x\",\n",
    "        \"reco_nu_vtx_y\",\n",
    "        \"reco_nu_vtx_z\",\n",
    "        \"shr_tkfit_start_x_v\",\n",
    "        \"shr_tkfit_start_y_v\",\n",
    "        \"shr_tkfit_start_z_v\",\n",
    "    ]\n",
    "].values.T\n",
    "daughters[\"tkfit_shr_distance\"] = np.linalg.norm(temp[0:3] - temp[3:6], axis=0)\n",
    "temp = daughters[\n",
    "    [\n",
    "        \"reco_nu_vtx_x\",\n",
    "        \"reco_nu_vtx_y\",\n",
    "        \"reco_nu_vtx_z\",\n",
    "        \"shr_start_x_v\",\n",
    "        \"shr_start_y_v\",\n",
    "        \"shr_start_z_v\",\n",
    "    ]\n",
    "].values.T\n",
    "daughters[\"shr_distance\"] = np.linalg.norm(temp[0:3] - temp[3:6], axis=0)\n",
    "temp = daughters[\n",
    "    [\n",
    "        \"reco_nu_vtx_x\",\n",
    "        \"reco_nu_vtx_y\",\n",
    "        \"reco_nu_vtx_z\",\n",
    "        \"trk_start_x_v\",\n",
    "        \"trk_start_y_v\",\n",
    "        \"trk_start_z_v\",\n",
    "    ]\n",
    "].values.T\n",
    "daughters[\"trk_distance\"] = np.linalg.norm(temp[0:3] - temp[3:6], axis=0)\n",
    "cols = [\"backtracked_px\", \"backtracked_py\", \"backtracked_pz\"]\n",
    "daughters[\"backtracked_theta\"], daughters[\"backtracked_phi\"] = cosmic_angles(\n",
    "    *daughters[cols].T.values\n",
    ")"
   ]
  },
  {
   "cell_type": "code",
   "execution_count": 7,
   "metadata": {},
   "outputs": [
    {
     "data": {
      "text/plain": [
       "['shr_start_x_v',\n",
       " 'shr_tkfit_start_x_v',\n",
       " 'shr_spacepoint_start_x_v',\n",
       " 'shr_hits_start_U_x_v',\n",
       " 'shr_hits_start_V_x_v',\n",
       " 'shr_hits_start_Y_x_v',\n",
       " 'trk_dir_x_v',\n",
       " 'trk_start_x_v',\n",
       " 'trk_sce_start_x_v',\n",
       " 'trk_end_x_v',\n",
       " 'trk_sce_end_x_v']"
      ]
     },
     "execution_count": 7,
     "metadata": {},
     "output_type": "execute_result"
    },
    {
     "data": {
      "application/javascript": [
       "\n",
       "            setTimeout(function() {\n",
       "                var nbb_cell_id = 7;\n",
       "                var nbb_formatted_code = \"[k for k in data[\\\"fields\\\"] if \\\"_x_v\\\" in k]\";\n",
       "                var nbb_cells = Jupyter.notebook.get_cells();\n",
       "                for (var i = 0; i < nbb_cells.length; ++i) {\n",
       "                    if (nbb_cells[i].input_prompt_number == nbb_cell_id) {\n",
       "                        nbb_cells[i].set_text(nbb_formatted_code);\n",
       "                        break;\n",
       "                    }\n",
       "                }\n",
       "            }, 500);\n",
       "            "
      ],
      "text/plain": [
       "<IPython.core.display.Javascript object>"
      ]
     },
     "metadata": {},
     "output_type": "display_data"
    }
   ],
   "source": [
    "[k for k in data[\"fields\"] if \"_x_v\" in k]"
   ]
  },
  {
   "cell_type": "code",
   "execution_count": 8,
   "metadata": {},
   "outputs": [
    {
     "data": {
      "text/plain": [
       "['trk_sce_end_x_v',\n",
       " 'trk_sce_start_x_v',\n",
       " 'trk_start_x_v',\n",
       " 'shr_tkfit_start_x_v',\n",
       " 'shr_start_x_v']"
      ]
     },
     "execution_count": 8,
     "metadata": {},
     "output_type": "execute_result"
    },
    {
     "data": {
      "application/javascript": [
       "\n",
       "            setTimeout(function() {\n",
       "                var nbb_cell_id = 8;\n",
       "                var nbb_formatted_code = \"[k for k in data[\\\"daughters\\\"].keys() if \\\"_x_v\\\" in k]\";\n",
       "                var nbb_cells = Jupyter.notebook.get_cells();\n",
       "                for (var i = 0; i < nbb_cells.length; ++i) {\n",
       "                    if (nbb_cells[i].input_prompt_number == nbb_cell_id) {\n",
       "                        nbb_cells[i].set_text(nbb_formatted_code);\n",
       "                        break;\n",
       "                    }\n",
       "                }\n",
       "            }, 500);\n",
       "            "
      ],
      "text/plain": [
       "<IPython.core.display.Javascript object>"
      ]
     },
     "metadata": {},
     "output_type": "display_data"
    }
   ],
   "source": [
    "[k for k in data[\"daughters\"].keys() if \"_x_v\" in k]"
   ]
  },
  {
   "cell_type": "markdown",
   "metadata": {},
   "source": [
    "### Plots"
   ]
  },
  {
   "cell_type": "code",
   "execution_count": 9,
   "metadata": {},
   "outputs": [
    {
     "data": {
      "text/plain": [
       "11     18200\n",
       "22        24\n",
       "0          7\n",
       "211        4\n",
       "Name: backtracked_pdg, dtype: int64"
      ]
     },
     "execution_count": 9,
     "metadata": {},
     "output_type": "execute_result"
    },
    {
     "data": {
      "application/javascript": [
       "\n",
       "            setTimeout(function() {\n",
       "                var nbb_cell_id = 9;\n",
       "                var nbb_formatted_code = \"daughters[\\\"backtracked_pdg\\\"].abs().value_counts()\";\n",
       "                var nbb_cells = Jupyter.notebook.get_cells();\n",
       "                for (var i = 0; i < nbb_cells.length; ++i) {\n",
       "                    if (nbb_cells[i].input_prompt_number == nbb_cell_id) {\n",
       "                        nbb_cells[i].set_text(nbb_formatted_code);\n",
       "                        break;\n",
       "                    }\n",
       "                }\n",
       "            }, 500);\n",
       "            "
      ],
      "text/plain": [
       "<IPython.core.display.Javascript object>"
      ]
     },
     "metadata": {},
     "output_type": "display_data"
    }
   ],
   "source": [
    "daughters[\"backtracked_pdg\"].abs().value_counts()"
   ]
  },
  {
   "cell_type": "code",
   "execution_count": 10,
   "metadata": {},
   "outputs": [
    {
     "data": {
      "image/png": "[encoded data removed]",
      "text/plain": [
       "<Figure size 432x288 with 1 Axes>"
      ]
     },
     "metadata": {
      "needs_background": "light"
     },
     "output_type": "display_data"
    },
    {
     "data": {
      "application/javascript": [
       "\n",
       "            setTimeout(function() {\n",
       "                var nbb_cell_id = 10;\n",
       "                var nbb_formatted_code = \"# Completeness and Purity of the leading electron candidate\\nfig, ax = plt.subplots()\\ndaughters[\\\"backtracked_purity\\\"].hist(\\n    bins=100, range=(0, 1), ax=ax, label=\\\"electron purity\\\", alpha=0.8\\n)\\ndaughters[\\\"backtracked_completeness\\\"].hist(\\n    bins=100, range=(0, 1), ax=ax, label=\\\"electron completeness\\\", alpha=0.8\\n)\\nax.legend()\\nfig.tight_layout()\";\n",
       "                var nbb_cells = Jupyter.notebook.get_cells();\n",
       "                for (var i = 0; i < nbb_cells.length; ++i) {\n",
       "                    if (nbb_cells[i].input_prompt_number == nbb_cell_id) {\n",
       "                        nbb_cells[i].set_text(nbb_formatted_code);\n",
       "                        break;\n",
       "                    }\n",
       "                }\n",
       "            }, 500);\n",
       "            "
      ],
      "text/plain": [
       "<IPython.core.display.Javascript object>"
      ]
     },
     "metadata": {},
     "output_type": "display_data"
    }
   ],
   "source": [
    "# Completeness and Purity of the leading electron candidate\n",
    "fig, ax = plt.subplots()\n",
    "daughters[\"backtracked_purity\"].hist(\n",
    "    bins=100, range=(0, 1), ax=ax, label=\"electron purity\", alpha=0.8\n",
    ")\n",
    "daughters[\"backtracked_completeness\"].hist(\n",
    "    bins=100, range=(0, 1), ax=ax, label=\"electron completeness\", alpha=0.8\n",
    ")\n",
    "ax.legend()\n",
    "fig.tight_layout()"
   ]
  },
  {
   "cell_type": "code",
   "execution_count": 11,
   "metadata": {},
   "outputs": [
    {
     "data": {
      "text/plain": [
       "count    1.823500e+04\n",
       "mean     1.772405e+13\n",
       "std      1.936527e+15\n",
       "min      2.061444e+01\n",
       "25%      8.587884e+02\n",
       "50%      2.755747e+03\n",
       "75%      1.296093e+04\n",
       "max      2.555828e+17\n",
       "Name: trk_calo_energy_y_v, dtype: float64"
      ]
     },
     "execution_count": 11,
     "metadata": {},
     "output_type": "execute_result"
    },
    {
     "data": {
      "application/javascript": [
       "\n",
       "            setTimeout(function() {\n",
       "                var nbb_cell_id = 11;\n",
       "                var nbb_formatted_code = \"# Completeness and purity of the summed showers\\ndaughters[\\\"trk_calo_energy_y_v\\\"].describe()\";\n",
       "                var nbb_cells = Jupyter.notebook.get_cells();\n",
       "                for (var i = 0; i < nbb_cells.length; ++i) {\n",
       "                    if (nbb_cells[i].input_prompt_number == nbb_cell_id) {\n",
       "                        nbb_cells[i].set_text(nbb_formatted_code);\n",
       "                        break;\n",
       "                    }\n",
       "                }\n",
       "            }, 500);\n",
       "            "
      ],
      "text/plain": [
       "<IPython.core.display.Javascript object>"
      ]
     },
     "metadata": {},
     "output_type": "display_data"
    }
   ],
   "source": [
    "# Completeness and purity of the summed showers\n",
    "daughters[\"trk_calo_energy_y_v\"].describe()"
   ]
  },
  {
   "cell_type": "code",
   "execution_count": 12,
   "metadata": {},
   "outputs": [
    {
     "data": {
      "image/png": "[encoded data removed]",
      "text/plain": [
       "<Figure size 432x288 with 1 Axes>"
      ]
     },
     "metadata": {
      "needs_background": "light"
     },
     "output_type": "display_data"
    },
    {
     "data": {
      "application/javascript": [
       "\n",
       "            setTimeout(function() {\n",
       "                var nbb_cell_id = 12;\n",
       "                var nbb_formatted_code = \"# Calorimetric energy comparison\\nfig, ax = plt.subplots()\\ndaughters.eval(\\\"shr_energy_u_v/1000\\\").hist(\\n    bins=50, range=(0, 2), ax=ax, label=\\\"electron shr_calo_u\\\", alpha=0.8\\n)\\ndaughters.eval(\\\"shr_energy_v_v/1000\\\").hist(\\n    bins=50, range=(0, 2), ax=ax, label=\\\"electron shr_calo_v\\\", alpha=0.8\\n)\\ndaughters.eval(\\\"shr_energy_y_v/1000\\\").hist(\\n    bins=50, range=(0, 2), ax=ax, label=\\\"electron shr_calo_y\\\", alpha=0.8\\n)\\n(daughters[\\\"backtracked_e\\\"]).hist(\\n    bins=50, range=(0, 2), ax=ax, label=\\\"electron true energy\\\", alpha=0.8\\n)\\nax.set_xlabel(\\\"Electron energy [GeV]\\\")\\nax.legend()\\nfig.tight_layout()\";\n",
       "                var nbb_cells = Jupyter.notebook.get_cells();\n",
       "                for (var i = 0; i < nbb_cells.length; ++i) {\n",
       "                    if (nbb_cells[i].input_prompt_number == nbb_cell_id) {\n",
       "                        nbb_cells[i].set_text(nbb_formatted_code);\n",
       "                        break;\n",
       "                    }\n",
       "                }\n",
       "            }, 500);\n",
       "            "
      ],
      "text/plain": [
       "<IPython.core.display.Javascript object>"
      ]
     },
     "metadata": {},
     "output_type": "display_data"
    }
   ],
   "source": [
    "# Calorimetric energy comparison\n",
    "fig, ax = plt.subplots()\n",
    "daughters.eval(\"shr_energy_u_v/1000\").hist(\n",
    "    bins=50, range=(0, 2), ax=ax, label=\"electron shr_calo_u\", alpha=0.8\n",
    ")\n",
    "daughters.eval(\"shr_energy_v_v/1000\").hist(\n",
    "    bins=50, range=(0, 2), ax=ax, label=\"electron shr_calo_v\", alpha=0.8\n",
    ")\n",
    "daughters.eval(\"shr_energy_y_v/1000\").hist(\n",
    "    bins=50, range=(0, 2), ax=ax, label=\"electron shr_calo_y\", alpha=0.8\n",
    ")\n",
    "(daughters[\"backtracked_e\"]).hist(\n",
    "    bins=50, range=(0, 2), ax=ax, label=\"electron true energy\", alpha=0.8\n",
    ")\n",
    "ax.set_xlabel(\"Electron energy [GeV]\")\n",
    "ax.legend()\n",
    "fig.tight_layout()"
   ]
  },
  {
   "cell_type": "code",
   "execution_count": 13,
   "metadata": {},
   "outputs": [
    {
     "data": {
      "image/png": "[encoded data removed]",
      "text/plain": [
       "<Figure size 648x288 with 2 Axes>"
      ]
     },
     "metadata": {
      "needs_background": "light"
     },
     "output_type": "display_data"
    },
    {
     "data": {
      "application/javascript": [
       "\n",
       "            setTimeout(function() {\n",
       "                var nbb_cell_id = 13;\n",
       "                var nbb_formatted_code = \"# Calorimetric energy comparison\\nfig, ax = plt.subplots(ncols=2, figsize=(9, 4))\\ndaughters.eval(\\\"(backtracked_e - shr_energy_u_v/1000)/backtracked_e\\\").hist(\\n    bins=50, range=(-0.1, 1), ax=ax[0], label=\\\"electron shr_calo_u\\\", alpha=0.8\\n)\\ndaughters.eval(\\\"(backtracked_e - shr_energy_v_v/1000)/backtracked_e\\\").hist(\\n    bins=50, range=(-0.1, 1), ax=ax[0], label=\\\"electron shr_calo_v\\\", alpha=0.8\\n)\\ndaughters.eval(\\\"(backtracked_e - shr_energy_y_v/1000)/backtracked_e\\\").hist(\\n    bins=50, range=(-0.1, 1), ax=ax[0], label=\\\"electron shr_calo_y\\\", alpha=0.8\\n)\\nax[0].set_title(\\\"Before any correction\\\")\\nax[0].set_xlabel(\\\"Fraction of missing energy\\\")\\nax[0].legend()\\n\\n# after correction\\ncorr_u = (\\n    daughters.eval(\\\"(backtracked_e - shr_energy_u_v/1000)/backtracked_e\\\").median() + 1\\n)\\ncorr_v = (\\n    daughters.eval(\\\"(backtracked_e - shr_energy_v_v/1000)/backtracked_e\\\").median() + 1\\n)\\ncorr_y = (\\n    daughters.eval(\\\"(backtracked_e - shr_energy_y_v/1000)/backtracked_e\\\").median() + 1\\n)\\ndaughters.eval(\\\"(backtracked_e - shr_energy_u_v/1000*@corr_u)/backtracked_e\\\").hist(\\n    bins=50, range=(-0.5, 1), ax=ax[1], label=\\\"electron shr_calo_u\\\", alpha=0.8\\n)\\ndaughters.eval(\\\"(backtracked_e - shr_energy_v_v/1000*@corr_v)/backtracked_e\\\").hist(\\n    bins=50, range=(-0.5, 1), ax=ax[1], label=\\\"electron shr_calo_v\\\", alpha=0.8\\n)\\ndaughters.eval(\\\"(backtracked_e - shr_energy_y_v/1000*@corr_y)/backtracked_e\\\").hist(\\n    bins=50, range=(-0.5, 1), ax=ax[1], label=\\\"electron shr_calo_y\\\", alpha=0.8\\n)\\nax[1].set_title(\\\"Corrected using the median\\\")\\nax[1].set_xlabel(\\\"Fraction of missing energy\\\")\\nax[1].legend()\\nfig.tight_layout()\\nfig.savefig(\\\"test.pdf\\\")\";\n",
       "                var nbb_cells = Jupyter.notebook.get_cells();\n",
       "                for (var i = 0; i < nbb_cells.length; ++i) {\n",
       "                    if (nbb_cells[i].input_prompt_number == nbb_cell_id) {\n",
       "                        nbb_cells[i].set_text(nbb_formatted_code);\n",
       "                        break;\n",
       "                    }\n",
       "                }\n",
       "            }, 500);\n",
       "            "
      ],
      "text/plain": [
       "<IPython.core.display.Javascript object>"
      ]
     },
     "metadata": {},
     "output_type": "display_data"
    }
   ],
   "source": [
    "# Calorimetric energy comparison\n",
    "fig, ax = plt.subplots(ncols=2, figsize=(9, 4))\n",
    "daughters.eval(\"(backtracked_e - shr_energy_u_v/1000)/backtracked_e\").hist(\n",
    "    bins=50, range=(-0.1, 1), ax=ax[0], label=\"electron shr_calo_u\", alpha=0.8\n",
    ")\n",
    "daughters.eval(\"(backtracked_e - shr_energy_v_v/1000)/backtracked_e\").hist(\n",
    "    bins=50, range=(-0.1, 1), ax=ax[0], label=\"electron shr_calo_v\", alpha=0.8\n",
    ")\n",
    "daughters.eval(\"(backtracked_e - shr_energy_y_v/1000)/backtracked_e\").hist(\n",
    "    bins=50, range=(-0.1, 1), ax=ax[0], label=\"electron shr_calo_y\", alpha=0.8\n",
    ")\n",
    "ax[0].set_title(\"Before any correction\")\n",
    "ax[0].set_xlabel(\"Fraction of missing energy\")\n",
    "ax[0].legend()\n",
    "\n",
    "# after correction\n",
    "corr_u = (\n",
    "    daughters.eval(\"(backtracked_e - shr_energy_u_v/1000)/backtracked_e\").median() + 1\n",
    ")\n",
    "corr_v = (\n",
    "    daughters.eval(\"(backtracked_e - shr_energy_v_v/1000)/backtracked_e\").median() + 1\n",
    ")\n",
    "corr_y = (\n",
    "    daughters.eval(\"(backtracked_e - shr_energy_y_v/1000)/backtracked_e\").median() + 1\n",
    ")\n",
    "daughters.eval(\"(backtracked_e - shr_energy_u_v/1000*@corr_u)/backtracked_e\").hist(\n",
    "    bins=50, range=(-0.5, 1), ax=ax[1], label=\"electron shr_calo_u\", alpha=0.8\n",
    ")\n",
    "daughters.eval(\"(backtracked_e - shr_energy_v_v/1000*@corr_v)/backtracked_e\").hist(\n",
    "    bins=50, range=(-0.5, 1), ax=ax[1], label=\"electron shr_calo_v\", alpha=0.8\n",
    ")\n",
    "daughters.eval(\"(backtracked_e - shr_energy_y_v/1000*@corr_y)/backtracked_e\").hist(\n",
    "    bins=50, range=(-0.5, 1), ax=ax[1], label=\"electron shr_calo_y\", alpha=0.8\n",
    ")\n",
    "ax[1].set_title(\"Corrected using the median\")\n",
    "ax[1].set_xlabel(\"Fraction of missing energy\")\n",
    "ax[1].legend()\n",
    "fig.tight_layout()\n",
    "fig.savefig(\"test.pdf\")"
   ]
  },
  {
   "cell_type": "code",
   "execution_count": 14,
   "metadata": {},
   "outputs": [
    {
     "data": {
      "text/plain": [
       "1.219811111688614"
      ]
     },
     "execution_count": 14,
     "metadata": {},
     "output_type": "execute_result"
    },
    {
     "data": {
      "application/javascript": [
       "\n",
       "            setTimeout(function() {\n",
       "                var nbb_cell_id = 14;\n",
       "                var nbb_formatted_code = \"corr_u\\ncorr_v\\ncorr_y\";\n",
       "                var nbb_cells = Jupyter.notebook.get_cells();\n",
       "                for (var i = 0; i < nbb_cells.length; ++i) {\n",
       "                    if (nbb_cells[i].input_prompt_number == nbb_cell_id) {\n",
       "                        nbb_cells[i].set_text(nbb_formatted_code);\n",
       "                        break;\n",
       "                    }\n",
       "                }\n",
       "            }, 500);\n",
       "            "
      ],
      "text/plain": [
       "<IPython.core.display.Javascript object>"
      ]
     },
     "metadata": {},
     "output_type": "display_data"
    }
   ],
   "source": [
    "corr_u\n",
    "corr_v\n",
    "corr_y"
   ]
  },
  {
   "cell_type": "code",
   "execution_count": 15,
   "metadata": {},
   "outputs": [
    {
     "name": "stderr",
     "output_type": "stream",
     "text": [
      "/home/wouter/Binaries/miniconda3/envs/uproot/lib/python3.7/site-packages/numpy/linalg/linalg.py:2512: RuntimeWarning: overflow encountered in multiply\n",
      "  s = (x.conj() * x).real\n",
      "/home/wouter/Binaries/miniconda3/envs/uproot/lib/python3.7/site-packages/ipykernel_launcher.py:2: RuntimeWarning: overflow encountered in square\n",
      "  \n"
     ]
    },
    {
     "data": {
      "application/javascript": [
       "\n",
       "            setTimeout(function() {\n",
       "                var nbb_cell_id = 15;\n",
       "                var nbb_formatted_code = \"# create some fields, such as true phi, theta and start end distance\\ntemp = daughters[\\n    [\\n        \\\"true_nu_vtx_sce_x\\\",\\n        \\\"true_nu_vtx_sce_y\\\",\\n        \\\"true_nu_vtx_sce_z\\\",\\n        \\\"backtracked_sce_start_x\\\",\\n        \\\"backtracked_sce_start_y\\\",\\n        \\\"backtracked_sce_start_z\\\",\\n    ]\\n].values.T\\ndaughters[\\\"true_shr_distance\\\"] = np.linalg.norm(temp[0:3] - temp[3:6], axis=0)\\ntemp = daughters[\\n    [\\n        \\\"reco_nu_vtx_x\\\",\\n        \\\"reco_nu_vtx_y\\\",\\n        \\\"reco_nu_vtx_z\\\",\\n        \\\"shr_tkfit_start_x_v\\\",\\n        \\\"shr_tkfit_start_y_v\\\",\\n        \\\"shr_tkfit_start_z_v\\\",\\n    ]\\n].values.T\\ndaughters[\\\"tkfit_shr_distance\\\"] = np.linalg.norm(temp[0:3] - temp[3:6], axis=0)\\ntemp = daughters[\\n    [\\n        \\\"reco_nu_vtx_x\\\",\\n        \\\"reco_nu_vtx_y\\\",\\n        \\\"reco_nu_vtx_z\\\",\\n        \\\"shr_start_x_v\\\",\\n        \\\"shr_start_y_v\\\",\\n        \\\"shr_start_z_v\\\",\\n    ]\\n].values.T\\ndaughters[\\\"shr_distance\\\"] = np.linalg.norm(temp[0:3] - temp[3:6], axis=0)\\ntemp = daughters[\\n    [\\n        \\\"reco_nu_vtx_x\\\",\\n        \\\"reco_nu_vtx_y\\\",\\n        \\\"reco_nu_vtx_z\\\",\\n        \\\"trk_start_x_v\\\",\\n        \\\"trk_start_y_v\\\",\\n        \\\"trk_start_z_v\\\",\\n    ]\\n].values.T\\ndaughters[\\\"trk_distance\\\"] = np.linalg.norm(temp[0:3] - temp[3:6], axis=0)\\ncols = [\\\"backtracked_px\\\", \\\"backtracked_py\\\", \\\"backtracked_pz\\\"]\\ndaughters[\\\"backtracked_theta\\\"], daughters[\\\"backtracked_phi\\\"] = cosmic_angles(\\n    *daughters[cols].T.values\\n)\";\n",
       "                var nbb_cells = Jupyter.notebook.get_cells();\n",
       "                for (var i = 0; i < nbb_cells.length; ++i) {\n",
       "                    if (nbb_cells[i].input_prompt_number == nbb_cell_id) {\n",
       "                        nbb_cells[i].set_text(nbb_formatted_code);\n",
       "                        break;\n",
       "                    }\n",
       "                }\n",
       "            }, 500);\n",
       "            "
      ],
      "text/plain": [
       "<IPython.core.display.Javascript object>"
      ]
     },
     "metadata": {},
     "output_type": "display_data"
    }
   ],
   "source": [
    "# create some fields, such as true phi, theta and start end distance\n",
    "temp = daughters[\n",
    "    [\n",
    "        \"true_nu_vtx_sce_x\",\n",
    "        \"true_nu_vtx_sce_y\",\n",
    "        \"true_nu_vtx_sce_z\",\n",
    "        \"backtracked_sce_start_x\",\n",
    "        \"backtracked_sce_start_y\",\n",
    "        \"backtracked_sce_start_z\",\n",
    "    ]\n",
    "].values.T\n",
    "daughters[\"true_shr_distance\"] = np.linalg.norm(temp[0:3] - temp[3:6], axis=0)\n",
    "temp = daughters[\n",
    "    [\n",
    "        \"reco_nu_vtx_x\",\n",
    "        \"reco_nu_vtx_y\",\n",
    "        \"reco_nu_vtx_z\",\n",
    "        \"shr_tkfit_start_x_v\",\n",
    "        \"shr_tkfit_start_y_v\",\n",
    "        \"shr_tkfit_start_z_v\",\n",
    "    ]\n",
    "].values.T\n",
    "daughters[\"tkfit_shr_distance\"] = np.linalg.norm(temp[0:3] - temp[3:6], axis=0)\n",
    "temp = daughters[\n",
    "    [\n",
    "        \"reco_nu_vtx_x\",\n",
    "        \"reco_nu_vtx_y\",\n",
    "        \"reco_nu_vtx_z\",\n",
    "        \"shr_start_x_v\",\n",
    "        \"shr_start_y_v\",\n",
    "        \"shr_start_z_v\",\n",
    "    ]\n",
    "].values.T\n",
    "daughters[\"shr_distance\"] = np.linalg.norm(temp[0:3] - temp[3:6], axis=0)\n",
    "temp = daughters[\n",
    "    [\n",
    "        \"reco_nu_vtx_x\",\n",
    "        \"reco_nu_vtx_y\",\n",
    "        \"reco_nu_vtx_z\",\n",
    "        \"trk_start_x_v\",\n",
    "        \"trk_start_y_v\",\n",
    "        \"trk_start_z_v\",\n",
    "    ]\n",
    "].values.T\n",
    "daughters[\"trk_distance\"] = np.linalg.norm(temp[0:3] - temp[3:6], axis=0)\n",
    "cols = [\"backtracked_px\", \"backtracked_py\", \"backtracked_pz\"]\n",
    "daughters[\"backtracked_theta\"], daughters[\"backtracked_phi\"] = cosmic_angles(\n",
    "    *daughters[cols].T.values\n",
    ")"
   ]
  },
  {
   "cell_type": "code",
   "execution_count": 16,
   "metadata": {},
   "outputs": [
    {
     "data": {
      "text/plain": [
       "<matplotlib.legend.Legend at 0x7f85051d2750>"
      ]
     },
     "execution_count": 16,
     "metadata": {},
     "output_type": "execute_result"
    },
    {
     "data": {
      "image/png": "[encoded data removed]",
      "text/plain": [
       "<Figure size 936x360 with 2 Axes>"
      ]
     },
     "metadata": {
      "needs_background": "light"
     },
     "output_type": "display_data"
    },
    {
     "data": {
      "application/javascript": [
       "\n",
       "            setTimeout(function() {\n",
       "                var nbb_cell_id = 16;\n",
       "                var nbb_formatted_code = \"fig, ax = plt.subplots(ncols=2, figsize=(13, 5))\\n\\ndaughters.eval(\\\"backtracked_theta - shr_theta_v\\\").hist(\\n    bins=50, range=(-0.3, 0.3), ax=ax[0], label=\\\"electron shr_theta\\\", alpha=0.6\\n)\\ndaughters.eval(\\\"backtracked_theta - trk_theta_v\\\").hist(\\n    bins=50, range=(-0.3, 0.3), ax=ax[0], label=\\\"electron trk_theta\\\", alpha=0.6\\n)\\ndaughters.eval(\\\"backtracked_theta - shr_tkfit_theta_v\\\").hist(\\n    bins=50, range=(-0.3, 0.3), ax=ax[0], label=\\\"electron shr_tkfit_theta\\\", alpha=0.6\\n)\\n\\ndaughters.eval(\\\"backtracked_phi - shr_phi_v\\\").hist(\\n    bins=50, range=(-0.3, 0.3), ax=ax[1], label=\\\"electron shr_phi\\\", alpha=0.6\\n)\\ndaughters.eval(\\\"backtracked_phi - trk_phi_v\\\").hist(\\n    bins=50, range=(-0.3, 0.3), ax=ax[1], label=\\\"electron trk_phi\\\", alpha=0.6\\n)\\ndaughters.eval(\\\"backtracked_phi - shr_tkfit_phi_v\\\").hist(\\n    bins=50, range=(-0.3, 0.3), ax=ax[1], label=\\\"electron shr_tkfit_phi\\\", alpha=0.6\\n)\\n\\nax[0].set_xlabel(r\\\"Resolution of electron $\\\\theta$\\\")\\nax[1].set_xlabel(r\\\"Resolution of electron $\\\\phi$\\\")\\nax[0].legend(loc=\\\"upper left\\\")\\nax[1].legend(loc=\\\"upper left\\\")\";\n",
       "                var nbb_cells = Jupyter.notebook.get_cells();\n",
       "                for (var i = 0; i < nbb_cells.length; ++i) {\n",
       "                    if (nbb_cells[i].input_prompt_number == nbb_cell_id) {\n",
       "                        nbb_cells[i].set_text(nbb_formatted_code);\n",
       "                        break;\n",
       "                    }\n",
       "                }\n",
       "            }, 500);\n",
       "            "
      ],
      "text/plain": [
       "<IPython.core.display.Javascript object>"
      ]
     },
     "metadata": {},
     "output_type": "display_data"
    }
   ],
   "source": [
    "fig, ax = plt.subplots(ncols=2, figsize=(13, 5))\n",
    "\n",
    "daughters.eval(\"backtracked_theta - shr_theta_v\").hist(\n",
    "    bins=50, range=(-0.3, 0.3), ax=ax[0], label=\"electron shr_theta\", alpha=0.6\n",
    ")\n",
    "daughters.eval(\"backtracked_theta - trk_theta_v\").hist(\n",
    "    bins=50, range=(-0.3, 0.3), ax=ax[0], label=\"electron trk_theta\", alpha=0.6\n",
    ")\n",
    "daughters.eval(\"backtracked_theta - shr_tkfit_theta_v\").hist(\n",
    "    bins=50, range=(-0.3, 0.3), ax=ax[0], label=\"electron shr_tkfit_theta\", alpha=0.6\n",
    ")\n",
    "\n",
    "daughters.eval(\"backtracked_phi - shr_phi_v\").hist(\n",
    "    bins=50, range=(-0.3, 0.3), ax=ax[1], label=\"electron shr_phi\", alpha=0.6\n",
    ")\n",
    "daughters.eval(\"backtracked_phi - trk_phi_v\").hist(\n",
    "    bins=50, range=(-0.3, 0.3), ax=ax[1], label=\"electron trk_phi\", alpha=0.6\n",
    ")\n",
    "daughters.eval(\"backtracked_phi - shr_tkfit_phi_v\").hist(\n",
    "    bins=50, range=(-0.3, 0.3), ax=ax[1], label=\"electron shr_tkfit_phi\", alpha=0.6\n",
    ")\n",
    "\n",
    "ax[0].set_xlabel(r\"Resolution of electron $\\theta$\")\n",
    "ax[1].set_xlabel(r\"Resolution of electron $\\phi$\")\n",
    "ax[0].legend(loc=\"upper left\")\n",
    "ax[1].legend(loc=\"upper left\")"
   ]
  },
  {
   "cell_type": "code",
   "execution_count": 17,
   "metadata": {},
   "outputs": [
    {
     "data": {
      "text/plain": [
       "<matplotlib.legend.Legend at 0x7f85051ccc90>"
      ]
     },
     "execution_count": 17,
     "metadata": {},
     "output_type": "execute_result"
    },
    {
     "data": {
      "image/png": "[encoded data removed]",
      "text/plain": [
       "<Figure size 432x360 with 1 Axes>"
      ]
     },
     "metadata": {
      "needs_background": "light"
     },
     "output_type": "display_data"
    },
    {
     "data": {
      "application/javascript": [
       "\n",
       "            setTimeout(function() {\n",
       "                var nbb_cell_id = 17;\n",
       "                var nbb_formatted_code = \"fig, ax = plt.subplots(ncols=1, figsize=(6, 5))\\n\\ndaughters.eval(\\\"tkfit_shr_distance - true_shr_distance\\\").hist(\\n    bins=50, range=(-3, 4), ax=ax, label=\\\"electron tkfit_shr_distance\\\", alpha=0.6\\n)\\ndaughters.eval(\\\"trk_distance - true_shr_distance\\\").hist(\\n    bins=50, range=(-3, 4), ax=ax, label=\\\"electron trk_distance\\\", alpha=0.6\\n)\\ndaughters.eval(\\\"shr_distance - true_shr_distance\\\").hist(\\n    bins=50, range=(-3, 4), ax=ax, label=\\\"electron shr_distance\\\", alpha=0.6\\n)\\n\\nax.set_xlabel(r\\\"Resolution of electron vtx distance\\\")\\nax.legend(loc=\\\"upper right\\\")\";\n",
       "                var nbb_cells = Jupyter.notebook.get_cells();\n",
       "                for (var i = 0; i < nbb_cells.length; ++i) {\n",
       "                    if (nbb_cells[i].input_prompt_number == nbb_cell_id) {\n",
       "                        nbb_cells[i].set_text(nbb_formatted_code);\n",
       "                        break;\n",
       "                    }\n",
       "                }\n",
       "            }, 500);\n",
       "            "
      ],
      "text/plain": [
       "<IPython.core.display.Javascript object>"
      ]
     },
     "metadata": {},
     "output_type": "display_data"
    }
   ],
   "source": [
    "fig, ax = plt.subplots(ncols=1, figsize=(6, 5))\n",
    "\n",
    "daughters.eval(\"tkfit_shr_distance - true_shr_distance\").hist(\n",
    "    bins=50, range=(-3, 4), ax=ax, label=\"electron tkfit_shr_distance\", alpha=0.6\n",
    ")\n",
    "daughters.eval(\"trk_distance - true_shr_distance\").hist(\n",
    "    bins=50, range=(-3, 4), ax=ax, label=\"electron trk_distance\", alpha=0.6\n",
    ")\n",
    "daughters.eval(\"shr_distance - true_shr_distance\").hist(\n",
    "    bins=50, range=(-3, 4), ax=ax, label=\"electron shr_distance\", alpha=0.6\n",
    ")\n",
    "\n",
    "ax.set_xlabel(r\"Resolution of electron vtx distance\")\n",
    "ax.legend(loc=\"upper right\")"
   ]
  },
  {
   "cell_type": "markdown",
   "metadata": {},
   "source": [
    "### Resolution for real"
   ]
  },
  {
   "cell_type": "code",
   "execution_count": 18,
   "metadata": {
    "scrolled": false
   },
   "outputs": [
    {
     "name": "stdout",
     "output_type": "stream",
     "text": [
      "\n",
      "Energy\n",
      "0.1 \t 0.147331 \t [-0.06580073 -0.01884909  0.01610101] \t 0.040950870886445036\n",
      "0.3 \t 0.25095275 \t [-0.16089532 -0.05127135  0.01751336] \t 0.08920433968305586\n",
      "0.5 \t 0.3937117 \t [-0.28490928 -0.09592757 -0.00830987] \t 0.1382997065782547\n",
      "0.7 \t 0.545876 \t [-0.42042878 -0.14515162 -0.02545767] \t 0.19748555719852445\n",
      "0.9 \t 0.6955974 \t [-0.51375579 -0.19353771 -0.04129435] \t 0.23623071759939188\n",
      "1.1 \t 0.8467858 \t [-0.65184528 -0.24802181 -0.05734946] \t 0.2972479104995727\n",
      "1.3 \t 0.9772513 \t [-0.78593538 -0.31589371 -0.09087341] \t 0.3475309833884239\n",
      "1.5 \t 1.1300713 \t [-0.87458546 -0.36979663 -0.13095393] \t 0.37181576490402213\n",
      "1.7 \t 1.2736139 \t [-1.01510502 -0.41523618 -0.14358718] \t 0.43575891554355617\n",
      "1.9 \t 1.4176558 \t [-1.1410302  -0.47373378 -0.18279109] \t 0.4791195571422577\n",
      "\n",
      "Theta\n",
      "9.0 \t 0.22887754 \t [-2.91917505  0.24962293  4.72912519] \t 3.8241501212120053\n",
      "26.7 \t 0.44286212 \t [-3.50065773 -0.03789389  3.14597702] \t 3.3233173727989187\n",
      "44.3 \t 0.74439245 \t [-4.40425644 -0.17942907  3.56891055] \t 3.9865834951400747\n",
      "62.0 \t 1.051541 \t [-4.39704907 -0.23839409  4.00898917] \t 4.203019118309021\n",
      "79.6 \t 1.3561964 \t [-5.10151196 -0.25133729  4.79341455] \t 4.947463250160217\n",
      "97.3 \t 1.7131618 \t [-5.65527101  0.21782156  8.28252554] \t 6.968898272514339\n",
      "115.0 \t 2.0006187 \t [-6.3032198   0.24127644  6.28025675] \t 6.291738271713257\n",
      "132.6 \t 2.321205 \t [-5.90516586  0.88039774 10.31619186] \t 8.11067886352538\n",
      "150.3 \t 2.6018343 \t [-6.57721393  0.88807487  7.07839684] \t 6.827805387973783\n",
      "167.9 \t 2.8617735 \t [-21.2317131   -2.83311462   3.81129887] \t 12.521505987644195\n",
      "\n",
      "Phi\n",
      "-162.0 \t -2.7936754 \t [-15.55994272  -0.92767632   7.20773816] \t 11.383840441703796\n",
      "-126.0 \t -2.2546873 \t [-13.46176786  -1.6449281    5.76734891] \t 9.61455838680267\n",
      "-90.0 \t -1.5704916 \t [-9.73797131 -0.50499688  8.80926752] \t 9.273619413375854\n",
      "-54.0 \t -0.9020072 \t [-8.24903955  0.53287089  8.97676988] \t 8.612904715538022\n",
      "-18.0 \t -0.3251798 \t [-1.36937376e+01 -9.61690629e-03  9.60227013e+00] \t 11.64800386428832\n",
      "18.0 \t 0.28591007 \t [-14.68729496  -0.70615959   7.75933819] \t 11.223316574096676\n",
      "54.0 \t 0.9067618 \t [-11.32086086  -0.78480238   7.15151548] \t 9.236188173294067\n",
      "90.0 \t 1.6314944 \t [-9.42512798  0.48241627 10.32783623] \t 9.876482105255127\n",
      "126.0 \t 2.2507632 \t [-7.28937321  1.0145427  11.61810398] \t 9.45373859405517\n",
      "162.0 \t 2.7902088 \t [-9.62284184  0.4707503   9.72334814] \t 9.673094987869263\n"
     ]
    },
    {
     "ename": "FileNotFoundError",
     "evalue": "[Errno 2] No such file or directory: './output/run3/e_resolution/resolution.pdf'",
     "output_type": "error",
     "traceback": [
      "\u001b[0;31m---------------------------------------------------------------------------\u001b[0m",
      "\u001b[0;31mFileNotFoundError\u001b[0m                         Traceback (most recent call last)",
      "\u001b[0;32m<ipython-input-18-93f9cab5b4a1>\u001b[0m in \u001b[0;36m<module>\u001b[0;34m\u001b[0m\n\u001b[1;32m    182\u001b[0m \u001b[0mfig\u001b[0m\u001b[0;34m.\u001b[0m\u001b[0mtight_layout\u001b[0m\u001b[0;34m(\u001b[0m\u001b[0;34m)\u001b[0m\u001b[0;34m\u001b[0m\u001b[0;34m\u001b[0m\u001b[0m\n\u001b[1;32m    183\u001b[0m \u001b[0mfig_res\u001b[0m\u001b[0;34m.\u001b[0m\u001b[0mtight_layout\u001b[0m\u001b[0;34m(\u001b[0m\u001b[0;34m)\u001b[0m\u001b[0;34m\u001b[0m\u001b[0;34m\u001b[0m\u001b[0m\n\u001b[0;32m--> 184\u001b[0;31m \u001b[0mfig\u001b[0m\u001b[0;34m.\u001b[0m\u001b[0msavefig\u001b[0m\u001b[0;34m(\u001b[0m\u001b[0moutput_dir\u001b[0m \u001b[0;34m+\u001b[0m \u001b[0;34m\"resolution.pdf\"\u001b[0m\u001b[0;34m)\u001b[0m\u001b[0;34m\u001b[0m\u001b[0;34m\u001b[0m\u001b[0m\n\u001b[0m\u001b[1;32m    185\u001b[0m \u001b[0mfig_res\u001b[0m\u001b[0;34m.\u001b[0m\u001b[0msavefig\u001b[0m\u001b[0;34m(\u001b[0m\u001b[0moutput_dir\u001b[0m \u001b[0;34m+\u001b[0m \u001b[0;34m\"resolution_errors.pdf\"\u001b[0m\u001b[0;34m)\u001b[0m\u001b[0;34m\u001b[0m\u001b[0;34m\u001b[0m\u001b[0m\n\u001b[1;32m    186\u001b[0m \u001b[0mfig2\u001b[0m\u001b[0;34m.\u001b[0m\u001b[0msavefig\u001b[0m\u001b[0;34m(\u001b[0m\u001b[0moutput_dir\u001b[0m \u001b[0;34m+\u001b[0m \u001b[0;34m\"resolution_shapes.pdf\"\u001b[0m\u001b[0;34m)\u001b[0m\u001b[0;34m\u001b[0m\u001b[0;34m\u001b[0m\u001b[0m\n",
      "\u001b[0;32m~/Binaries/miniconda3/envs/uproot/lib/python3.7/site-packages/matplotlib/figure.py\u001b[0m in \u001b[0;36msavefig\u001b[0;34m(self, fname, transparent, **kwargs)\u001b[0m\n\u001b[1;32m   2178\u001b[0m             \u001b[0mself\u001b[0m\u001b[0;34m.\u001b[0m\u001b[0mpatch\u001b[0m\u001b[0;34m.\u001b[0m\u001b[0mset_visible\u001b[0m\u001b[0;34m(\u001b[0m\u001b[0mframeon\u001b[0m\u001b[0;34m)\u001b[0m\u001b[0;34m\u001b[0m\u001b[0;34m\u001b[0m\u001b[0m\n\u001b[1;32m   2179\u001b[0m \u001b[0;34m\u001b[0m\u001b[0m\n\u001b[0;32m-> 2180\u001b[0;31m         \u001b[0mself\u001b[0m\u001b[0;34m.\u001b[0m\u001b[0mcanvas\u001b[0m\u001b[0;34m.\u001b[0m\u001b[0mprint_figure\u001b[0m\u001b[0;34m(\u001b[0m\u001b[0mfname\u001b[0m\u001b[0;34m,\u001b[0m \u001b[0;34m**\u001b[0m\u001b[0mkwargs\u001b[0m\u001b[0;34m)\u001b[0m\u001b[0;34m\u001b[0m\u001b[0;34m\u001b[0m\u001b[0m\n\u001b[0m\u001b[1;32m   2181\u001b[0m \u001b[0;34m\u001b[0m\u001b[0m\n\u001b[1;32m   2182\u001b[0m         \u001b[0;32mif\u001b[0m \u001b[0mframeon\u001b[0m\u001b[0;34m:\u001b[0m\u001b[0;34m\u001b[0m\u001b[0;34m\u001b[0m\u001b[0m\n",
      "\u001b[0;32m~/Binaries/miniconda3/envs/uproot/lib/python3.7/site-packages/matplotlib/backend_bases.py\u001b[0m in \u001b[0;36mprint_figure\u001b[0;34m(self, filename, dpi, facecolor, edgecolor, orientation, format, bbox_inches, **kwargs)\u001b[0m\n\u001b[1;32m   2080\u001b[0m                     \u001b[0morientation\u001b[0m\u001b[0;34m=\u001b[0m\u001b[0morientation\u001b[0m\u001b[0;34m,\u001b[0m\u001b[0;34m\u001b[0m\u001b[0;34m\u001b[0m\u001b[0m\n\u001b[1;32m   2081\u001b[0m                     \u001b[0mbbox_inches_restore\u001b[0m\u001b[0;34m=\u001b[0m\u001b[0m_bbox_inches_restore\u001b[0m\u001b[0;34m,\u001b[0m\u001b[0;34m\u001b[0m\u001b[0;34m\u001b[0m\u001b[0m\n\u001b[0;32m-> 2082\u001b[0;31m                     **kwargs)\n\u001b[0m\u001b[1;32m   2083\u001b[0m             \u001b[0;32mfinally\u001b[0m\u001b[0;34m:\u001b[0m\u001b[0;34m\u001b[0m\u001b[0;34m\u001b[0m\u001b[0m\n\u001b[1;32m   2084\u001b[0m                 \u001b[0;32mif\u001b[0m \u001b[0mbbox_inches\u001b[0m \u001b[0;32mand\u001b[0m \u001b[0mrestore_bbox\u001b[0m\u001b[0;34m:\u001b[0m\u001b[0;34m\u001b[0m\u001b[0;34m\u001b[0m\u001b[0m\n",
      "\u001b[0;32m~/Binaries/miniconda3/envs/uproot/lib/python3.7/site-packages/matplotlib/backends/backend_pdf.py\u001b[0m in \u001b[0;36mprint_pdf\u001b[0;34m(self, filename, dpi, bbox_inches_restore, metadata, **kwargs)\u001b[0m\n\u001b[1;32m   2494\u001b[0m             \u001b[0mfile\u001b[0m \u001b[0;34m=\u001b[0m \u001b[0mfilename\u001b[0m\u001b[0;34m.\u001b[0m\u001b[0m_file\u001b[0m\u001b[0;34m\u001b[0m\u001b[0;34m\u001b[0m\u001b[0m\n\u001b[1;32m   2495\u001b[0m         \u001b[0;32melse\u001b[0m\u001b[0;34m:\u001b[0m\u001b[0;34m\u001b[0m\u001b[0;34m\u001b[0m\u001b[0m\n\u001b[0;32m-> 2496\u001b[0;31m             \u001b[0mfile\u001b[0m \u001b[0;34m=\u001b[0m \u001b[0mPdfFile\u001b[0m\u001b[0;34m(\u001b[0m\u001b[0mfilename\u001b[0m\u001b[0;34m,\u001b[0m \u001b[0mmetadata\u001b[0m\u001b[0;34m=\u001b[0m\u001b[0mmetadata\u001b[0m\u001b[0;34m)\u001b[0m\u001b[0;34m\u001b[0m\u001b[0;34m\u001b[0m\u001b[0m\n\u001b[0m\u001b[1;32m   2497\u001b[0m         \u001b[0;32mtry\u001b[0m\u001b[0;34m:\u001b[0m\u001b[0;34m\u001b[0m\u001b[0;34m\u001b[0m\u001b[0m\n\u001b[1;32m   2498\u001b[0m             \u001b[0mfile\u001b[0m\u001b[0;34m.\u001b[0m\u001b[0mnewPage\u001b[0m\u001b[0;34m(\u001b[0m\u001b[0mwidth\u001b[0m\u001b[0;34m,\u001b[0m \u001b[0mheight\u001b[0m\u001b[0;34m)\u001b[0m\u001b[0;34m\u001b[0m\u001b[0;34m\u001b[0m\u001b[0m\n",
      "\u001b[0;32m~/Binaries/miniconda3/envs/uproot/lib/python3.7/site-packages/matplotlib/backends/backend_pdf.py\u001b[0m in \u001b[0;36m__init__\u001b[0;34m(self, filename, metadata)\u001b[0m\n\u001b[1;32m    430\u001b[0m         \u001b[0mself\u001b[0m\u001b[0;34m.\u001b[0m\u001b[0moriginal_file_like\u001b[0m \u001b[0;34m=\u001b[0m \u001b[0;32mNone\u001b[0m\u001b[0;34m\u001b[0m\u001b[0;34m\u001b[0m\u001b[0m\n\u001b[1;32m    431\u001b[0m         \u001b[0mself\u001b[0m\u001b[0;34m.\u001b[0m\u001b[0mtell_base\u001b[0m \u001b[0;34m=\u001b[0m \u001b[0;36m0\u001b[0m\u001b[0;34m\u001b[0m\u001b[0;34m\u001b[0m\u001b[0m\n\u001b[0;32m--> 432\u001b[0;31m         \u001b[0mfh\u001b[0m\u001b[0;34m,\u001b[0m \u001b[0mopened\u001b[0m \u001b[0;34m=\u001b[0m \u001b[0mcbook\u001b[0m\u001b[0;34m.\u001b[0m\u001b[0mto_filehandle\u001b[0m\u001b[0;34m(\u001b[0m\u001b[0mfilename\u001b[0m\u001b[0;34m,\u001b[0m \u001b[0;34m\"wb\"\u001b[0m\u001b[0;34m,\u001b[0m \u001b[0mreturn_opened\u001b[0m\u001b[0;34m=\u001b[0m\u001b[0;32mTrue\u001b[0m\u001b[0;34m)\u001b[0m\u001b[0;34m\u001b[0m\u001b[0;34m\u001b[0m\u001b[0m\n\u001b[0m\u001b[1;32m    433\u001b[0m         \u001b[0;32mif\u001b[0m \u001b[0;32mnot\u001b[0m \u001b[0mopened\u001b[0m\u001b[0;34m:\u001b[0m\u001b[0;34m\u001b[0m\u001b[0;34m\u001b[0m\u001b[0m\n\u001b[1;32m    434\u001b[0m             \u001b[0;32mtry\u001b[0m\u001b[0;34m:\u001b[0m\u001b[0;34m\u001b[0m\u001b[0;34m\u001b[0m\u001b[0m\n",
      "\u001b[0;32m~/Binaries/miniconda3/envs/uproot/lib/python3.7/site-packages/matplotlib/cbook/__init__.py\u001b[0m in \u001b[0;36mto_filehandle\u001b[0;34m(fname, flag, return_opened, encoding)\u001b[0m\n\u001b[1;32m    430\u001b[0m             \u001b[0mfh\u001b[0m \u001b[0;34m=\u001b[0m \u001b[0mbz2\u001b[0m\u001b[0;34m.\u001b[0m\u001b[0mBZ2File\u001b[0m\u001b[0;34m(\u001b[0m\u001b[0mfname\u001b[0m\u001b[0;34m,\u001b[0m \u001b[0mflag\u001b[0m\u001b[0;34m)\u001b[0m\u001b[0;34m\u001b[0m\u001b[0;34m\u001b[0m\u001b[0m\n\u001b[1;32m    431\u001b[0m         \u001b[0;32melse\u001b[0m\u001b[0;34m:\u001b[0m\u001b[0;34m\u001b[0m\u001b[0;34m\u001b[0m\u001b[0m\n\u001b[0;32m--> 432\u001b[0;31m             \u001b[0mfh\u001b[0m \u001b[0;34m=\u001b[0m \u001b[0mopen\u001b[0m\u001b[0;34m(\u001b[0m\u001b[0mfname\u001b[0m\u001b[0;34m,\u001b[0m \u001b[0mflag\u001b[0m\u001b[0;34m,\u001b[0m \u001b[0mencoding\u001b[0m\u001b[0;34m=\u001b[0m\u001b[0mencoding\u001b[0m\u001b[0;34m)\u001b[0m\u001b[0;34m\u001b[0m\u001b[0;34m\u001b[0m\u001b[0m\n\u001b[0m\u001b[1;32m    433\u001b[0m         \u001b[0mopened\u001b[0m \u001b[0;34m=\u001b[0m \u001b[0;32mTrue\u001b[0m\u001b[0;34m\u001b[0m\u001b[0;34m\u001b[0m\u001b[0m\n\u001b[1;32m    434\u001b[0m     \u001b[0;32melif\u001b[0m \u001b[0mhasattr\u001b[0m\u001b[0;34m(\u001b[0m\u001b[0mfname\u001b[0m\u001b[0;34m,\u001b[0m \u001b[0;34m'seek'\u001b[0m\u001b[0;34m)\u001b[0m\u001b[0;34m:\u001b[0m\u001b[0;34m\u001b[0m\u001b[0;34m\u001b[0m\u001b[0m\n",
      "\u001b[0;31mFileNotFoundError\u001b[0m: [Errno 2] No such file or directory: './output/run3/e_resolution/resolution.pdf'"
     ]
    },
    {
     "data": {
      "image/png": "[encoded data removed]",
      "text/plain": [
       "<Figure size 864x288 with 4 Axes>"
      ]
     },
     "metadata": {
      "needs_background": "light"
     },
     "output_type": "display_data"
    },
    {
     "data": {
      "image/png": "[encoded data removed]",
      "text/plain": [
       "<Figure size 828x288 with 3 Axes>"
      ]
     },
     "metadata": {
      "needs_background": "light"
     },
     "output_type": "display_data"
    },
    {
     "data": {
      "image/png": "[encoded data removed]",
      "text/plain": [
       "<Figure size 864x288 with 3 Axes>"
      ]
     },
     "metadata": {
      "needs_background": "light"
     },
     "output_type": "display_data"
    },
    {
     "data": {
      "application/javascript": [
       "\n",
       "            setTimeout(function() {\n",
       "                var nbb_cell_id = 18;\n",
       "                var nbb_formatted_code = \"fig, ax = plt.subplots(\\n    ncols=3, figsize=(12, 4), gridspec_kw={\\\"width_ratios\\\": [4, 4, 4.85]}\\n)\\nfig_res, ax_res = plt.subplots(ncols=3, figsize=(11.5, 4))\\nfig2, ax2 = plt.subplots(ncols=3, figsize=(12, 4))\\nn_x = 10\\nn_y = 50\\n\\nprint(\\\"\\\\nEnergy\\\")\\ny_max = 2\\nfld_mc, fld_reco = \\\"backtracked_e\\\", \\\"shr_energy_y_v/1000\\\"\\nh, x_edges, y_edges, im = ax[0].hist2d(\\n    daughters.eval(fld_mc),\\n    daughters.eval(fld_reco),\\n    cmap=\\\"coolwarm\\\",\\n    bins=(n_x, n_y),\\n    alpha=0.65,\\n    norm=colors.LogNorm(),\\n    range=((0, y_max), (0, y_max)),\\n)\\nax[0].set_xlabel(\\\"True electron energy [GeV]\\\")\\nax[0].set_ylabel(\\\"Reconstructed energy [GeV]\\\")\\nmids, mean, err, quants = getResolution(\\n    daughters.eval(fld_mc), daughters.eval(fld_reco), x_edges, ax2[0]\\n)\\nax[0].errorbar(\\n    mids,\\n    mean,\\n    xerr=(mids[0] - x_edges[0]),\\n    yerr=np.array(err).T,\\n    color=\\\"k\\\",\\n    fmt=\\\"none\\\",\\n    label=r\\\"median + 90% CI\\\",\\n    alpha=0.7,\\n)\\nax[0].legend(loc=\\\"upper left\\\")\\n\\nax_res[0].step(mids, quants[2], lw=1.5, label=\\\"Median\\\", where=\\\"mid\\\", color=\\\"C1\\\")\\nax_res[0].fill_between(\\n    mids,\\n    quants[1],\\n    quants[3],\\n    alpha=0.45,\\n    step=\\\"mid\\\",\\n    color=\\\"C1\\\",\\n    label=\\\"68% confidence interval\\\",\\n)\\nax_res[0].fill_between(\\n    mids,\\n    quants[0],\\n    quants[4],\\n    alpha=0.3,\\n    step=\\\"mid\\\",\\n    color=\\\"C1\\\",\\n    label=\\\"90% confidence interval\\\",\\n)\\nax_res[0].set_xlabel(\\\"True electron energy [GeV]\\\")\\nax_res[0].set_ylabel(r\\\"$\\\\Delta$ energy [GeV]\\\")\\nax_res[0].set_xlim(0, y_max)\\nax_res[0].legend()\\n\\nprint(\\\"\\\\nTheta\\\")\\nfld_mc, fld_reco = \\\"backtracked_theta\\\", \\\"shr_theta_v\\\"\\nh, x_edges, y_edges, im = ax[1].hist2d(\\n    daughters[fld_mc],\\n    daughters[fld_reco],\\n    cmap=\\\"coolwarm\\\",\\n    bins=(n_x, n_y),\\n    alpha=0.65,\\n    norm=colors.LogNorm(),\\n)\\nax[1].set_xticks([0, np.pi / 4, np.pi / 2, 3 * np.pi / 4, np.pi])\\nax[1].set_xticklabels([r\\\"$0$\\\", r\\\"$\\\\pi/4$\\\", r\\\"$\\\\pi$/2\\\", r\\\"$3\\\\pi$/4\\\", r\\\"$\\\\pi$\\\"])\\nax[1].set_yticks([0, np.pi / 4, np.pi / 2, 3 * np.pi / 4, np.pi])\\nax[1].set_yticklabels([r\\\"$0$\\\", r\\\"$\\\\pi/4$\\\", r\\\"$\\\\pi$/2\\\", r\\\"$3\\\\pi$/4\\\", r\\\"$\\\\pi$\\\"])\\nax[1].set_xlabel(r\\\"True trajectory $\\\\theta$ angle\\\")\\nax[1].set_ylabel(r\\\"Reconstructed $\\\\theta$ angle\\\")\\nax[1].set_ylim(0, np.pi)\\nmids, mean, err, quants = getResolution(\\n    daughters[fld_mc], daughters[fld_reco], x_edges, ax2[1], periodic=True\\n)\\nax[1].errorbar(\\n    mids,\\n    mean,\\n    xerr=(mids[0] - x_edges[0]),\\n    yerr=np.array(err).T,\\n    color=\\\"k\\\",\\n    fmt=\\\"none\\\",\\n    label=r\\\"median + 90% CI\\\",\\n    alpha=0.7,\\n)\\nax[1].legend(loc=\\\"upper left\\\")\\n\\n\\nax_res[1].step(mids, quants[2], lw=1.5, label=\\\"Median\\\", where=\\\"mid\\\", color=\\\"C1\\\")\\nax_res[1].fill_between(\\n    mids,\\n    quants[1],\\n    quants[3],\\n    alpha=0.45,\\n    step=\\\"mid\\\",\\n    color=\\\"C1\\\",\\n    label=\\\"68% confidence interval\\\",\\n)\\nax_res[1].fill_between(\\n    mids,\\n    quants[0],\\n    quants[4],\\n    alpha=0.3,\\n    step=\\\"mid\\\",\\n    color=\\\"C1\\\",\\n    label=\\\"90% confidence interval\\\",\\n)\\nax_res[1].set_xticks([0, np.pi / 4, np.pi / 2, 3 * np.pi / 4, np.pi])\\nax_res[1].set_xticklabels([r\\\"$0$\\\", r\\\"$\\\\pi/4$\\\", r\\\"$\\\\pi$/2\\\", r\\\"$3\\\\pi$/4\\\", r\\\"$\\\\pi$\\\"])\\nax_res[1].set_xlabel(r\\\"True $\\\\theta$ angle\\\")\\nax_res[1].set_ylabel(r\\\"$\\\\Delta \\\\theta$ angle [rad]\\\")\\nax_res[1].set_xlim(0, np.pi)\\nax_res[1].legend()\\n\\nprint(\\\"\\\\nPhi\\\")\\nfld_mc, fld_reco = \\\"backtracked_phi\\\", \\\"shr_phi_v\\\"\\nh, x_edges, y_edges, im = ax[2].hist2d(\\n    daughters[fld_mc],\\n    daughters[fld_reco],\\n    cmap=\\\"coolwarm\\\",\\n    bins=(n_x, n_y),\\n    alpha=0.65,\\n    norm=colors.LogNorm(),\\n)\\nax[2].set_xticks([-np.pi, -np.pi / 2, 0, np.pi / 2, np.pi])\\nax[2].set_xticklabels([r\\\"$-\\\\pi$\\\", r\\\"$-\\\\pi/2$\\\", r\\\"$0$\\\", r\\\"$\\\\pi/2$\\\", r\\\"$\\\\pi$\\\"])\\nax[2].set_yticks([-np.pi, -np.pi / 2, 0, np.pi / 2, np.pi])\\nax[2].set_yticklabels([r\\\"$-\\\\pi$\\\", r\\\"$-\\\\pi/2$\\\", r\\\"$0$\\\", r\\\"$\\\\pi/2$\\\", r\\\"$\\\\pi$\\\"])\\nax[2].set_xlabel(r\\\"True $\\\\phi$ angle\\\")\\nax[2].set_ylabel(r\\\"Reconstructed $\\\\phi$ angle\\\")\\nax[2].set_ylim(-np.pi, np.pi)\\nmids, mean, err, quants = getResolution(\\n    daughters[fld_mc], daughters[fld_reco], x_edges, ax2[2], periodic=True\\n)\\nax[2].errorbar(\\n    mids,\\n    mean,\\n    xerr=(mids[0] - x_edges[0]),\\n    yerr=np.array(err).T,\\n    color=\\\"k\\\",\\n    fmt=\\\"none\\\",\\n    label=r\\\"median + 90% CI\\\",\\n    alpha=0.7,\\n)\\nax[2].legend(loc=\\\"upper left\\\")\\nax[2].set_title(ub_tag, loc=\\\"right\\\")\\n\\nax_res[2].step(mids, quants[2], lw=1.5, label=\\\"Median\\\", where=\\\"mid\\\", color=\\\"C1\\\")\\nax_res[2].fill_between(\\n    mids,\\n    quants[1],\\n    quants[3],\\n    alpha=0.45,\\n    step=\\\"mid\\\",\\n    color=\\\"C1\\\",\\n    label=\\\"68% confidence interval\\\",\\n)\\nax_res[2].fill_between(\\n    mids,\\n    quants[0],\\n    quants[4],\\n    alpha=0.3,\\n    step=\\\"mid\\\",\\n    color=\\\"C1\\\",\\n    label=\\\"90% confidence interval\\\",\\n)\\nax_res[2].set_xticks([-np.pi, -np.pi / 2, 0, np.pi / 2, np.pi])\\nax_res[2].set_xticklabels([r\\\"$-\\\\pi$\\\", r\\\"$-\\\\pi/2$\\\", r\\\"$0$\\\", r\\\"$\\\\pi/2$\\\", r\\\"$\\\\pi$\\\"])\\nax_res[2].set_xlabel(r\\\"True $\\\\phi$ angle\\\")\\nax_res[2].set_ylabel(r\\\"$\\\\Delta \\\\phi$  angle [rad]\\\")\\nax_res[2].set_xlim(-np.pi, np.pi)\\nax_res[2].legend(loc=\\\"upper center\\\")\\n\\nclb = fig.colorbar(im, ax=ax[2])\\nclb.set_label(\\\"Tracks per bin\\\", rotation=90)\\nfig.tight_layout()\\nfig_res.tight_layout()\\nfig.savefig(output_dir + \\\"resolution.pdf\\\")\\nfig_res.savefig(output_dir + \\\"resolution_errors.pdf\\\")\\nfig2.savefig(output_dir + \\\"resolution_shapes.pdf\\\")\";\n",
       "                var nbb_cells = Jupyter.notebook.get_cells();\n",
       "                for (var i = 0; i < nbb_cells.length; ++i) {\n",
       "                    if (nbb_cells[i].input_prompt_number == nbb_cell_id) {\n",
       "                        nbb_cells[i].set_text(nbb_formatted_code);\n",
       "                        break;\n",
       "                    }\n",
       "                }\n",
       "            }, 500);\n",
       "            "
      ],
      "text/plain": [
       "<IPython.core.display.Javascript object>"
      ]
     },
     "metadata": {},
     "output_type": "display_data"
    }
   ],
   "source": [
    "fig, ax = plt.subplots(\n",
    "    ncols=3, figsize=(12, 4), gridspec_kw={\"width_ratios\": [4, 4, 4.85]}\n",
    ")\n",
    "fig_res, ax_res = plt.subplots(ncols=3, figsize=(11.5, 4))\n",
    "fig2, ax2 = plt.subplots(ncols=3, figsize=(12, 4))\n",
    "n_x = 10\n",
    "n_y = 50\n",
    "\n",
    "print(\"\\nEnergy\")\n",
    "y_max = 2\n",
    "fld_mc, fld_reco = \"backtracked_e\", \"shr_energy_y_v/1000\"\n",
    "h, x_edges, y_edges, im = ax[0].hist2d(\n",
    "    daughters.eval(fld_mc),\n",
    "    daughters.eval(fld_reco),\n",
    "    cmap=\"coolwarm\",\n",
    "    bins=(n_x, n_y),\n",
    "    alpha=0.65,\n",
    "    norm=colors.LogNorm(),\n",
    "    range=((0, y_max), (0, y_max)),\n",
    ")\n",
    "ax[0].set_xlabel(\"True electron energy [GeV]\")\n",
    "ax[0].set_ylabel(\"Reconstructed energy [GeV]\")\n",
    "mids, mean, err, quants = getResolution(\n",
    "    daughters.eval(fld_mc), daughters.eval(fld_reco), x_edges, ax2[0]\n",
    ")\n",
    "ax[0].errorbar(\n",
    "    mids,\n",
    "    mean,\n",
    "    xerr=(mids[0] - x_edges[0]),\n",
    "    yerr=np.array(err).T,\n",
    "    color=\"k\",\n",
    "    fmt=\"none\",\n",
    "    label=r\"median + 90% CI\",\n",
    "    alpha=0.7,\n",
    ")\n",
    "ax[0].legend(loc=\"upper left\")\n",
    "\n",
    "ax_res[0].step(mids, quants[2], lw=1.5, label=\"Median\", where=\"mid\", color=\"C1\")\n",
    "ax_res[0].fill_between(\n",
    "    mids,\n",
    "    quants[1],\n",
    "    quants[3],\n",
    "    alpha=0.45,\n",
    "    step=\"mid\",\n",
    "    color=\"C1\",\n",
    "    label=\"68% confidence interval\",\n",
    ")\n",
    "ax_res[0].fill_between(\n",
    "    mids,\n",
    "    quants[0],\n",
    "    quants[4],\n",
    "    alpha=0.3,\n",
    "    step=\"mid\",\n",
    "    color=\"C1\",\n",
    "    label=\"90% confidence interval\",\n",
    ")\n",
    "ax_res[0].set_xlabel(\"True electron energy [GeV]\")\n",
    "ax_res[0].set_ylabel(r\"$\\Delta$ energy [GeV]\")\n",
    "ax_res[0].set_xlim(0, y_max)\n",
    "ax_res[0].legend()\n",
    "\n",
    "print(\"\\nTheta\")\n",
    "fld_mc, fld_reco = \"backtracked_theta\", \"shr_theta_v\"\n",
    "h, x_edges, y_edges, im = ax[1].hist2d(\n",
    "    daughters[fld_mc],\n",
    "    daughters[fld_reco],\n",
    "    cmap=\"coolwarm\",\n",
    "    bins=(n_x, n_y),\n",
    "    alpha=0.65,\n",
    "    norm=colors.LogNorm(),\n",
    ")\n",
    "ax[1].set_xticks([0, np.pi / 4, np.pi / 2, 3 * np.pi / 4, np.pi])\n",
    "ax[1].set_xticklabels([r\"$0$\", r\"$\\pi/4$\", r\"$\\pi$/2\", r\"$3\\pi$/4\", r\"$\\pi$\"])\n",
    "ax[1].set_yticks([0, np.pi / 4, np.pi / 2, 3 * np.pi / 4, np.pi])\n",
    "ax[1].set_yticklabels([r\"$0$\", r\"$\\pi/4$\", r\"$\\pi$/2\", r\"$3\\pi$/4\", r\"$\\pi$\"])\n",
    "ax[1].set_xlabel(r\"True trajectory $\\theta$ angle\")\n",
    "ax[1].set_ylabel(r\"Reconstructed $\\theta$ angle\")\n",
    "ax[1].set_ylim(0, np.pi)\n",
    "mids, mean, err, quants = getResolution(\n",
    "    daughters[fld_mc], daughters[fld_reco], x_edges, ax2[1], periodic=True\n",
    ")\n",
    "ax[1].errorbar(\n",
    "    mids,\n",
    "    mean,\n",
    "    xerr=(mids[0] - x_edges[0]),\n",
    "    yerr=np.array(err).T,\n",
    "    color=\"k\",\n",
    "    fmt=\"none\",\n",
    "    label=r\"median + 90% CI\",\n",
    "    alpha=0.7,\n",
    ")\n",
    "ax[1].legend(loc=\"upper left\")\n",
    "\n",
    "\n",
    "ax_res[1].step(mids, quants[2], lw=1.5, label=\"Median\", where=\"mid\", color=\"C1\")\n",
    "ax_res[1].fill_between(\n",
    "    mids,\n",
    "    quants[1],\n",
    "    quants[3],\n",
    "    alpha=0.45,\n",
    "    step=\"mid\",\n",
    "    color=\"C1\",\n",
    "    label=\"68% confidence interval\",\n",
    ")\n",
    "ax_res[1].fill_between(\n",
    "    mids,\n",
    "    quants[0],\n",
    "    quants[4],\n",
    "    alpha=0.3,\n",
    "    step=\"mid\",\n",
    "    color=\"C1\",\n",
    "    label=\"90% confidence interval\",\n",
    ")\n",
    "ax_res[1].set_xticks([0, np.pi / 4, np.pi / 2, 3 * np.pi / 4, np.pi])\n",
    "ax_res[1].set_xticklabels([r\"$0$\", r\"$\\pi/4$\", r\"$\\pi$/2\", r\"$3\\pi$/4\", r\"$\\pi$\"])\n",
    "ax_res[1].set_xlabel(r\"True $\\theta$ angle\")\n",
    "ax_res[1].set_ylabel(r\"$\\Delta \\theta$ angle [rad]\")\n",
    "ax_res[1].set_xlim(0, np.pi)\n",
    "ax_res[1].legend()\n",
    "\n",
    "print(\"\\nPhi\")\n",
    "fld_mc, fld_reco = \"backtracked_phi\", \"shr_phi_v\"\n",
    "h, x_edges, y_edges, im = ax[2].hist2d(\n",
    "    daughters[fld_mc],\n",
    "    daughters[fld_reco],\n",
    "    cmap=\"coolwarm\",\n",
    "    bins=(n_x, n_y),\n",
    "    alpha=0.65,\n",
    "    norm=colors.LogNorm(),\n",
    ")\n",
    "ax[2].set_xticks([-np.pi, -np.pi / 2, 0, np.pi / 2, np.pi])\n",
    "ax[2].set_xticklabels([r\"$-\\pi$\", r\"$-\\pi/2$\", r\"$0$\", r\"$\\pi/2$\", r\"$\\pi$\"])\n",
    "ax[2].set_yticks([-np.pi, -np.pi / 2, 0, np.pi / 2, np.pi])\n",
    "ax[2].set_yticklabels([r\"$-\\pi$\", r\"$-\\pi/2$\", r\"$0$\", r\"$\\pi/2$\", r\"$\\pi$\"])\n",
    "ax[2].set_xlabel(r\"True $\\phi$ angle\")\n",
    "ax[2].set_ylabel(r\"Reconstructed $\\phi$ angle\")\n",
    "ax[2].set_ylim(-np.pi, np.pi)\n",
    "mids, mean, err, quants = getResolution(\n",
    "    daughters[fld_mc], daughters[fld_reco], x_edges, ax2[2], periodic=True\n",
    ")\n",
    "ax[2].errorbar(\n",
    "    mids,\n",
    "    mean,\n",
    "    xerr=(mids[0] - x_edges[0]),\n",
    "    yerr=np.array(err).T,\n",
    "    color=\"k\",\n",
    "    fmt=\"none\",\n",
    "    label=r\"median + 90% CI\",\n",
    "    alpha=0.7,\n",
    ")\n",
    "ax[2].legend(loc=\"upper left\")\n",
    "ax[2].set_title(ub_tag, loc=\"right\")\n",
    "\n",
    "ax_res[2].step(mids, quants[2], lw=1.5, label=\"Median\", where=\"mid\", color=\"C1\")\n",
    "ax_res[2].fill_between(\n",
    "    mids,\n",
    "    quants[1],\n",
    "    quants[3],\n",
    "    alpha=0.45,\n",
    "    step=\"mid\",\n",
    "    color=\"C1\",\n",
    "    label=\"68% confidence interval\",\n",
    ")\n",
    "ax_res[2].fill_between(\n",
    "    mids,\n",
    "    quants[0],\n",
    "    quants[4],\n",
    "    alpha=0.3,\n",
    "    step=\"mid\",\n",
    "    color=\"C1\",\n",
    "    label=\"90% confidence interval\",\n",
    ")\n",
    "ax_res[2].set_xticks([-np.pi, -np.pi / 2, 0, np.pi / 2, np.pi])\n",
    "ax_res[2].set_xticklabels([r\"$-\\pi$\", r\"$-\\pi/2$\", r\"$0$\", r\"$\\pi/2$\", r\"$\\pi$\"])\n",
    "ax_res[2].set_xlabel(r\"True $\\phi$ angle\")\n",
    "ax_res[2].set_ylabel(r\"$\\Delta \\phi$  angle [rad]\")\n",
    "ax_res[2].set_xlim(-np.pi, np.pi)\n",
    "ax_res[2].legend(loc=\"upper center\")\n",
    "\n",
    "clb = fig.colorbar(im, ax=ax[2])\n",
    "clb.set_label(\"Tracks per bin\", rotation=90)\n",
    "fig.tight_layout()\n",
    "fig_res.tight_layout()\n",
    "fig.savefig(output_dir + \"resolution.pdf\")\n",
    "fig_res.savefig(output_dir + \"resolution_errors.pdf\")\n",
    "fig2.savefig(output_dir + \"resolution_shapes.pdf\")"
   ]
  },
  {
   "cell_type": "code",
   "execution_count": null,
   "metadata": {},
   "outputs": [],
   "source": [
    "n_x = 10\n",
    "n_y = 50\n",
    "y_max = 2.0\n",
    "fld_mc, fld_reco = \"backtracked_e\", \"shr_energy_y_v/1000\"\n",
    "h, x_edges, y_edges = np.histogram2d(\n",
    "    daughters.eval(fld_mc),\n",
    "    daughters.eval(fld_reco),\n",
    "    range=((0, y_max), (0, y_max)),\n",
    "    bins=(n_x, n_y),\n",
    ")\n",
    "mids, mean, err, projection = getResolution2(\n",
    "    daughters.eval(fld_mc), daughters.eval(fld_reco), x_edges, 5\n",
    ")\n",
    "\n",
    "fig, ax = plt.subplots(figsize=(7.4, 4))\n",
    "ax.hist(\n",
    "    projection,\n",
    "    bins=50,\n",
    "    histtype=\"step\",\n",
    "    density=1,\n",
    "    lw=1.5,\n",
    "    label=r\"$\\Delta$ electron energy\",\n",
    ")\n",
    "ax.axvline(x=mean, label=\"Median ({0:.2f}GeV)\".format(mean), c=\"C2\", alpha=0.7)\n",
    "ax.axvline(\n",
    "    x=err[0], label=\"5th percentile ({0:.2f}GeV)\".format(err[0]), c=\"C1\", alpha=0.7\n",
    ")\n",
    "ax.axvline(\n",
    "    x=err[1], label=\"95th percentile ({0:.2f}GeV)\".format(err[1]), c=\"C4\", alpha=0.7\n",
    ")\n",
    "ax.legend(loc=\"upper left\")\n",
    "ax.set_xlabel(\"Reconstructed electron energy -  true electron [GeV]\")\n",
    "ax.set_ylabel(\"Area Normalised\")\n",
    "ax.set_title(ub_tag, loc=\"right\")\n",
    "ax.set_title(r\"True electron energy $\\in$ [1GeV, 1.2GeV]\", loc=\"left\")\n",
    "fig.savefig(output_dir + \"resolution_energy_exp.pdf\")"
   ]
  },
  {
   "cell_type": "code",
   "execution_count": null,
   "metadata": {},
   "outputs": [],
   "source": [
    "def getResolution3(data_x, data_y, x_edges, ax, periodic=False):\n",
    "    mean = []\n",
    "    err = []\n",
    "    percentiles_arr = []\n",
    "\n",
    "    mids = 0.5 * (x_edges[1:] + x_edges[:-1])\n",
    "    bin_id = np.digitize(data_x, x_edges)\n",
    "    data_diff = (data_y - data_x) / data_x\n",
    "    for i in range(1, len(x_edges)):\n",
    "        ax.hist(\n",
    "            data_diff[bin_id == i],\n",
    "            bins=50,\n",
    "            range=np.percentile(data_diff, [per21, per22]),\n",
    "            histtype=\"step\",\n",
    "        )\n",
    "        percentiles = np.percentile(\n",
    "            data_diff[bin_id == i], [per1, persig1, 50, persig2, per2]\n",
    "        )\n",
    "        print(\n",
    "            round(10 * mids[i - 1]) / 10,\n",
    "            \"\\t\",\n",
    "            np.median(data_y[bin_id == i]),\n",
    "            \"\\t\",\n",
    "            percentiles[[0, 2, 4]],\n",
    "            \"\\t\",\n",
    "            (percentiles[-1] - percentiles[0]) / 2,\n",
    "        )\n",
    "        mean.append(percentiles[2])\n",
    "        err.append([percentiles[2] - percentiles[0], percentiles[4] - percentiles[2]])\n",
    "        percentiles_arr.append(percentiles)\n",
    "    quants = np.array(percentiles_arr).T\n",
    "    return mids, mean, err, quants"
   ]
  },
  {
   "cell_type": "code",
   "execution_count": null,
   "metadata": {
    "scrolled": false
   },
   "outputs": [],
   "source": [
    "fig, ax = plt.subplots(ncols=1, figsize=(4, 4))\n",
    "fig_res, ax_res = plt.subplots(ncols=1, figsize=(4, 4))\n",
    "fig2, ax2 = plt.subplots(ncols=1, figsize=(4, 4))\n",
    "\n",
    "n_x = 10\n",
    "n_y = 50\n",
    "\n",
    "print(\"\\nEnergy\")\n",
    "y_min = -0.9\n",
    "y_max = 0.3\n",
    "fld_mc, fld_reco = (\"backtracked_e\", \"shr_energy_y_v/1000\")\n",
    "h, x_edges, y_edges, im = ax.hist2d(\n",
    "    daughters.eval(fld_mc),\n",
    "    (daughters.eval(fld_reco) - daughters.eval(fld_mc)) / daughters.eval(fld_mc),\n",
    "    cmap=\"coolwarm\",\n",
    "    bins=(n_x, n_y),\n",
    "    alpha=0.65,\n",
    "    norm=colors.LogNorm(),\n",
    "    range=((0, 2), (y_min, y_max)),\n",
    ")\n",
    "\n",
    "mids, mean, err, quants = getResolution3(\n",
    "    daughters.eval(fld_mc), daughters.eval(fld_reco), x_edges, ax2\n",
    ")\n",
    "print(mean)\n",
    "ax.errorbar(\n",
    "    mids,\n",
    "    mean,\n",
    "    xerr=(mids[0] - x_edges[0]),\n",
    "    yerr=np.array(err).T,\n",
    "    color=\"k\",\n",
    "    fmt=\"none\",\n",
    "    label=r\"median + 90% CI\",\n",
    "    alpha=0.7,\n",
    ")\n",
    "ax.legend(loc=\"upper left\")\n",
    "\n",
    "ax_res.step(mids, quants[2], lw=1.5, label=\"Median\", where=\"mid\", color=\"C1\")\n",
    "ax_res.fill_between(\n",
    "    mids,\n",
    "    quants[1],\n",
    "    quants[3],\n",
    "    alpha=0.45,\n",
    "    step=\"mid\",\n",
    "    color=\"C1\",\n",
    "    label=\"68% confidence interval\",\n",
    ")\n",
    "ax_res.fill_between(\n",
    "    mids,\n",
    "    quants[0],\n",
    "    quants[4],\n",
    "    alpha=0.3,\n",
    "    step=\"mid\",\n",
    "    color=\"C1\",\n",
    "    label=\"90% confidence interval\",\n",
    ")\n",
    "ax_res.set_xlabel(\"True electron energy [GeV]\")\n",
    "ax_res.set_ylabel(r\"$\\Delta$ energy fraction [GeV]\")\n",
    "ax_res.set_xlim(0, 2.0)\n",
    "ax_res.legend(loc=\"lower center\")\n",
    "\n",
    "fig.savefig(\"test2.pdf\")"
   ]
  },
  {
   "cell_type": "code",
   "execution_count": null,
   "metadata": {},
   "outputs": [],
   "source": []
  }
 ],
 "metadata": {
  "kernelspec": {
   "display_name": "uproot env",
   "language": "python",
   "name": "uproot"
  },
  "language_info": {
   "codemirror_mode": {
    "name": "ipython",
    "version": 3
   },
   "file_extension": ".py",
   "mimetype": "text/x-python",
   "name": "python",
   "nbconvert_exporter": "python",
   "pygments_lexer": "ipython3",
   "version": "3.7.4"
  }
 },
 "nbformat": 4,
 "nbformat_minor": 2
}
