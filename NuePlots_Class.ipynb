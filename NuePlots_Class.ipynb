{
 "cells": [
  {
   "cell_type": "markdown",
   "metadata": {},
   "source": [
    "#### Input"
   ]
  },
  {
   "cell_type": "code",
   "execution_count": 1,
   "metadata": {},
   "outputs": [
    {
     "data": {
      "application/javascript": [
       "\n",
       "            setTimeout(function() {\n",
       "                var nbb_cell_id = 1;\n",
       "                var nbb_formatted_code = \"%load_ext autoreload\\n%matplotlib inline\\n%load_ext nb_black\";\n",
       "                var nbb_cells = Jupyter.notebook.get_cells();\n",
       "                for (var i = 0; i < nbb_cells.length; ++i) {\n",
       "                    if (nbb_cells[i].input_prompt_number == nbb_cell_id) {\n",
       "                        nbb_cells[i].set_text(nbb_formatted_code);\n",
       "                        break;\n",
       "                    }\n",
       "                }\n",
       "            }, 500);\n",
       "            "
      ],
      "text/plain": [
       "<IPython.core.display.Javascript object>"
      ]
     },
     "metadata": {},
     "output_type": "display_data"
    }
   ],
   "source": [
    "%load_ext autoreload\n",
    "%matplotlib inline\n",
    "%load_ext nb_black"
   ]
  },
  {
   "cell_type": "code",
   "execution_count": 2,
   "metadata": {},
   "outputs": [
    {
     "data": {
      "application/javascript": [
       "\n",
       "            setTimeout(function() {\n",
       "                var nbb_cell_id = 2;\n",
       "                var nbb_formatted_code = \"import pickle\\nimport numpy as np\\nimport pandas as pd\\nimport matplotlib.pyplot as plt\\nimport scipy.stats as st\\n\\nfrom helpers import plot_class\\nfrom helpers import plot_dicts_nue\\nfrom helpers import helpfunction as helper\";\n",
       "                var nbb_cells = Jupyter.notebook.get_cells();\n",
       "                for (var i = 0; i < nbb_cells.length; ++i) {\n",
       "                    if (nbb_cells[i].input_prompt_number == nbb_cell_id) {\n",
       "                        nbb_cells[i].set_text(nbb_formatted_code);\n",
       "                        break;\n",
       "                    }\n",
       "                }\n",
       "            }, 500);\n",
       "            "
      ],
      "text/plain": [
       "<IPython.core.display.Javascript object>"
      ]
     },
     "metadata": {},
     "output_type": "display_data"
    }
   ],
   "source": [
    "import pickle\n",
    "import numpy as np\n",
    "import pandas as pd\n",
    "import matplotlib.pyplot as plt\n",
    "import scipy.stats as st\n",
    "\n",
    "from helpers import plot_class\n",
    "from helpers import plot_dicts_nue\n",
    "from helpers import helpfunction as helper"
   ]
  },
  {
   "cell_type": "code",
   "execution_count": 3,
   "metadata": {},
   "outputs": [
    {
     "data": {
      "application/javascript": [
       "\n",
       "            setTimeout(function() {\n",
       "                var nbb_cell_id = 3;\n",
       "                var nbb_formatted_code = \"%autoreload\";\n",
       "                var nbb_cells = Jupyter.notebook.get_cells();\n",
       "                for (var i = 0; i < nbb_cells.length; ++i) {\n",
       "                    if (nbb_cells[i].input_prompt_number == nbb_cell_id) {\n",
       "                        nbb_cells[i].set_text(nbb_formatted_code);\n",
       "                        break;\n",
       "                    }\n",
       "                }\n",
       "            }, 500);\n",
       "            "
      ],
      "text/plain": [
       "<IPython.core.display.Javascript object>"
      ]
     },
     "metadata": {},
     "output_type": "display_data"
    }
   ],
   "source": [
    "%autoreload"
   ]
  },
  {
   "cell_type": "markdown",
   "metadata": {},
   "source": [
    "### Constants"
   ]
  },
  {
   "cell_type": "code",
   "execution_count": 4,
   "metadata": {},
   "outputs": [
    {
     "data": {
      "application/javascript": [
       "\n",
       "            setTimeout(function() {\n",
       "                var nbb_cell_id = 4;\n",
       "                var nbb_formatted_code = \"run = 1\\ninput_dir = \\\"./input/23Nov/\\\".format(run)\\noutput_dir = \\\"./output/run{}/\\\".format(run)\";\n",
       "                var nbb_cells = Jupyter.notebook.get_cells();\n",
       "                for (var i = 0; i < nbb_cells.length; ++i) {\n",
       "                    if (nbb_cells[i].input_prompt_number == nbb_cell_id) {\n",
       "                        nbb_cells[i].set_text(nbb_formatted_code);\n",
       "                        break;\n",
       "                    }\n",
       "                }\n",
       "            }, 500);\n",
       "            "
      ],
      "text/plain": [
       "<IPython.core.display.Javascript object>"
      ]
     },
     "metadata": {},
     "output_type": "display_data"
    }
   ],
   "source": [
    "run = 1\n",
    "input_dir = \"./input/23Nov/\".format(run)\n",
    "output_dir = \"./output/run{}/\".format(run)"
   ]
  },
  {
   "cell_type": "code",
   "execution_count": 5,
   "metadata": {},
   "outputs": [
    {
     "name": "stdout",
     "output_type": "stream",
     "text": [
      "CPU times: user 361 ms, sys: 503 ms, total: 865 ms\n",
      "Wall time: 864 ms\n"
     ]
    },
    {
     "data": {
      "application/javascript": [
       "\n",
       "            setTimeout(function() {\n",
       "                var nbb_cell_id = 5;\n",
       "                var nbb_formatted_code = \"%%time\\ndata = pickle.load(open(input_dir+\\\"after_training_run{}.pckl\\\".format(run), 'rb'))\\nsamples = list(data.keys())\";\n",
       "                var nbb_cells = Jupyter.notebook.get_cells();\n",
       "                for (var i = 0; i < nbb_cells.length; ++i) {\n",
       "                    if (nbb_cells[i].input_prompt_number == nbb_cell_id) {\n",
       "                        nbb_cells[i].set_text(nbb_formatted_code);\n",
       "                        break;\n",
       "                    }\n",
       "                }\n",
       "            }, 500);\n",
       "            "
      ],
      "text/plain": [
       "<IPython.core.display.Javascript object>"
      ]
     },
     "metadata": {},
     "output_type": "display_data"
    }
   ],
   "source": [
    "%%time\n",
    "data = pickle.load(open(input_dir+\"after_training_run{}.pckl\".format(run), 'rb'))\n",
    "samples = list(data.keys())"
   ]
  },
  {
   "cell_type": "code",
   "execution_count": 6,
   "metadata": {},
   "outputs": [
    {
     "data": {
      "text/plain": [
       "1     104535\n",
       "11     85622\n",
       "5      34655\n",
       "10     14372\n",
       "3         28\n",
       "31        25\n",
       "Name: category, dtype: int64"
      ]
     },
     "execution_count": 6,
     "metadata": {},
     "output_type": "execute_result"
    },
    {
     "data": {
      "application/javascript": [
       "\n",
       "            setTimeout(function() {\n",
       "                var nbb_cell_id = 6;\n",
       "                var nbb_formatted_code = \"data[\\\"nue\\\"][\\\"daughters\\\"].query(\\\"nslice>0\\\")[\\\"category\\\"].value_counts()\";\n",
       "                var nbb_cells = Jupyter.notebook.get_cells();\n",
       "                for (var i = 0; i < nbb_cells.length; ++i) {\n",
       "                    if (nbb_cells[i].input_prompt_number == nbb_cell_id) {\n",
       "                        nbb_cells[i].set_text(nbb_formatted_code);\n",
       "                        break;\n",
       "                    }\n",
       "                }\n",
       "            }, 500);\n",
       "            "
      ],
      "text/plain": [
       "<IPython.core.display.Javascript object>"
      ]
     },
     "metadata": {},
     "output_type": "display_data"
    }
   ],
   "source": [
    "data[\"nue\"][\"daughters\"].query(\"nslice>0\")[\"category\"].value_counts()"
   ]
  },
  {
   "cell_type": "code",
   "execution_count": 7,
   "metadata": {},
   "outputs": [
    {
     "data": {
      "application/javascript": [
       "\n",
       "            setTimeout(function() {\n",
       "                var nbb_cell_id = 7;\n",
       "                var nbb_formatted_code = \"# Add the category cosmic:\\nfor s in samples:\\n    if s not in helper.data_samples:\\n        cosmic = (data[s][\\\"daughters\\\"][\\\"nu_purity_from_pfp\\\"] < 0.5) & (\\n            data[s][\\\"daughters\\\"][\\\"category\\\"] != 5\\n        )\\n        data[s][\\\"daughters\\\"].loc[cosmic, \\\"category\\\"] = 4\";\n",
       "                var nbb_cells = Jupyter.notebook.get_cells();\n",
       "                for (var i = 0; i < nbb_cells.length; ++i) {\n",
       "                    if (nbb_cells[i].input_prompt_number == nbb_cell_id) {\n",
       "                        nbb_cells[i].set_text(nbb_formatted_code);\n",
       "                        break;\n",
       "                    }\n",
       "                }\n",
       "            }, 500);\n",
       "            "
      ],
      "text/plain": [
       "<IPython.core.display.Javascript object>"
      ]
     },
     "metadata": {},
     "output_type": "display_data"
    }
   ],
   "source": [
    "# Add the category cosmic:\n",
    "for s in samples:\n",
    "    if s not in helper.data_samples:\n",
    "        cosmic = (data[s][\"daughters\"][\"nu_purity_from_pfp\"] < 0.5) & (\n",
    "            data[s][\"daughters\"][\"category\"] != 5\n",
    "        )\n",
    "        data[s][\"daughters\"].loc[cosmic, \"category\"] = 4"
   ]
  },
  {
   "cell_type": "code",
   "execution_count": 8,
   "metadata": {},
   "outputs": [
    {
     "data": {
      "application/javascript": [
       "\n",
       "            setTimeout(function() {\n",
       "                var nbb_cell_id = 8;\n",
       "                var nbb_formatted_code = \"nue_frame = data[\\\"nue\\\"][\\\"daughters\\\"]\\nnue_mc = data[\\\"nue\\\"][\\\"mc\\\"]\\nnue_frame.rename(columns={\\\"selected\\\": \\\"preselection_roberto\\\"}, inplace=True)\";\n",
       "                var nbb_cells = Jupyter.notebook.get_cells();\n",
       "                for (var i = 0; i < nbb_cells.length; ++i) {\n",
       "                    if (nbb_cells[i].input_prompt_number == nbb_cell_id) {\n",
       "                        nbb_cells[i].set_text(nbb_formatted_code);\n",
       "                        break;\n",
       "                    }\n",
       "                }\n",
       "            }, 500);\n",
       "            "
      ],
      "text/plain": [
       "<IPython.core.display.Javascript object>"
      ]
     },
     "metadata": {},
     "output_type": "display_data"
    }
   ],
   "source": [
    "nue_frame = data[\"nue\"][\"daughters\"]\n",
    "nue_mc = data[\"nue\"][\"mc\"]\n",
    "nue_frame.rename(columns={\"selected\": \"preselection_roberto\"}, inplace=True)"
   ]
  },
  {
   "cell_type": "code",
   "execution_count": 9,
   "metadata": {},
   "outputs": [
    {
     "data": {
      "application/javascript": [
       "\n",
       "            setTimeout(function() {\n",
       "                var nbb_cell_id = 9;\n",
       "                var nbb_formatted_code = \"title_str = \\\"MicroBooNE Run{}: {:.1e} POT\\\".format(run, data[\\\"on\\\"][\\\"pot\\\"])\";\n",
       "                var nbb_cells = Jupyter.notebook.get_cells();\n",
       "                for (var i = 0; i < nbb_cells.length; ++i) {\n",
       "                    if (nbb_cells[i].input_prompt_number == nbb_cell_id) {\n",
       "                        nbb_cells[i].set_text(nbb_formatted_code);\n",
       "                        break;\n",
       "                    }\n",
       "                }\n",
       "            }, 500);\n",
       "            "
      ],
      "text/plain": [
       "<IPython.core.display.Javascript object>"
      ]
     },
     "metadata": {},
     "output_type": "display_data"
    }
   ],
   "source": [
    "title_str = \"MicroBooNE Run{}: {:.1e} POT\".format(run, data[\"on\"][\"pot\"])"
   ]
  },
  {
   "cell_type": "code",
   "execution_count": null,
   "metadata": {},
   "outputs": [],
   "source": []
  },
  {
   "cell_type": "code",
   "execution_count": 10,
   "metadata": {},
   "outputs": [
    {
     "name": "stdout",
     "output_type": "stream",
     "text": [
      "Initialisation completed!\n"
     ]
    },
    {
     "data": {
      "application/javascript": [
       "\n",
       "            setTimeout(function() {\n",
       "                var nbb_cell_id = 10;\n",
       "                var nbb_formatted_code = \"plotter = plot_class.Plotter(data, signal=\\\"nue\\\")\";\n",
       "                var nbb_cells = Jupyter.notebook.get_cells();\n",
       "                for (var i = 0; i < nbb_cells.length; ++i) {\n",
       "                    if (nbb_cells[i].input_prompt_number == nbb_cell_id) {\n",
       "                        nbb_cells[i].set_text(nbb_formatted_code);\n",
       "                        break;\n",
       "                    }\n",
       "                }\n",
       "            }, 500);\n",
       "            "
      ],
      "text/plain": [
       "<IPython.core.display.Javascript object>"
      ]
     },
     "metadata": {},
     "output_type": "display_data"
    }
   ],
   "source": [
    "plotter = plot_class.Plotter(data, signal=\"nue\")"
   ]
  },
  {
   "cell_type": "code",
   "execution_count": 87,
   "metadata": {},
   "outputs": [
    {
     "data": {
      "text/plain": [
       "dict_keys(['nu', 'nue', 'on', 'off', 'dirt'])"
      ]
     },
     "execution_count": 87,
     "metadata": {},
     "output_type": "execute_result"
    },
    {
     "data": {
      "application/javascript": [
       "\n",
       "            setTimeout(function() {\n",
       "                var nbb_cell_id = 87;\n",
       "                var nbb_formatted_code = \"plotter.data.keys()\";\n",
       "                var nbb_cells = Jupyter.notebook.get_cells();\n",
       "                for (var i = 0; i < nbb_cells.length; ++i) {\n",
       "                    if (nbb_cells[i].input_prompt_number == nbb_cell_id) {\n",
       "                        nbb_cells[i].set_text(nbb_formatted_code);\n",
       "                        break;\n",
       "                    }\n",
       "                }\n",
       "            }, 500);\n",
       "            "
      ],
      "text/plain": [
       "<IPython.core.display.Javascript object>"
      ]
     },
     "metadata": {},
     "output_type": "display_data"
    }
   ],
   "source": [
    "plotter.data.keys()"
   ]
  },
  {
   "cell_type": "code",
   "execution_count": null,
   "metadata": {},
   "outputs": [],
   "source": []
  },
  {
   "cell_type": "markdown",
   "metadata": {},
   "source": [
    "### Evaluation"
   ]
  },
  {
   "cell_type": "code",
   "execution_count": null,
   "metadata": {},
   "outputs": [],
   "source": [
    "q_s = \"(select & e_candidate)\""
   ]
  },
  {
   "cell_type": "code",
   "execution_count": null,
   "metadata": {},
   "outputs": [],
   "source": [
    "print(nue_frame.query(\"nslice>0\")[\"true_category\"].value_counts())\n",
    "print()\n",
    "print(nue_frame.query(q_s)[\"category\"].value_counts())\n",
    "print()\n",
    "print(nue_frame.query(q_s)[\"interaction\"].value_counts())"
   ]
  },
  {
   "cell_type": "code",
   "execution_count": null,
   "metadata": {},
   "outputs": [],
   "source": [
    "print(pd.Series(nue_mc[\"category\"]).value_counts())\n",
    "print()\n",
    "print(pd.Series(nue_mc[\"interaction\"]).value_counts())\n",
    "print()\n",
    "print(pd.Series(nue_mc[\"true_category\"]).value_counts())"
   ]
  },
  {
   "cell_type": "markdown",
   "metadata": {},
   "source": [
    "### Plots"
   ]
  },
  {
   "cell_type": "markdown",
   "metadata": {},
   "source": [
    "#### Signal sample plots"
   ]
  },
  {
   "cell_type": "code",
   "execution_count": null,
   "metadata": {},
   "outputs": [],
   "source": [
    "data[\"nue\"][\"daughters\"].query(\"e_candidate>0 & preselect\")[\n",
    "    \"shr_openangle_v\"\n",
    "].describe()"
   ]
  },
  {
   "cell_type": "code",
   "execution_count": null,
   "metadata": {},
   "outputs": [],
   "source": [
    "cats = [0, 1, 2, 10]\n",
    "field = \"nu_e\"\n",
    "x_min = 0\n",
    "x_max = 3\n",
    "n_bins = 15\n",
    "\n",
    "fig, ax = plt.subplots(ncols=1, figsize=(3.5, 3.3))\n",
    "\n",
    "for cat in cats:\n",
    "    den = nue_mc[field]\n",
    "    num = nue_mc[field][nue_mc[\"interaction\"] == cat]\n",
    "\n",
    "    den_w = nue_mc[\"weightSpline\"]\n",
    "    num_w = nue_mc[\"weightSpline\"][nue_mc[\"interaction\"] == cat]\n",
    "\n",
    "    eff, unc_low, unc_up, edges = plothelp.efficiency_post(\n",
    "        num, den, num_w=num_w, den_w=den_w, n_bins=n_bins, x_min=x_min, x_max=x_max\n",
    "    )\n",
    "    ax.fill_between(edges, eff - unc_low, eff + unc_up, alpha=0.3, step=\"post\")\n",
    "    ax.step(\n",
    "        edges,\n",
    "        eff,\n",
    "        where=\"post\",\n",
    "        label=\"{0}: {1:.0f}%\".format(\n",
    "            plot_dicts.int_labels[cat], sum(num_w) / sum(den_w) * 100\n",
    "        ),\n",
    "    )\n",
    "ax.set_title(r\"$\\nu_e$ CC\", loc=\"right\")\n",
    "ax.set_title(\"Mode\", loc=\"left\")\n",
    "ax.set_xlabel(\"True neutrino energy [GeV]\")\n",
    "ax.set_ylabel(\"Fraction\")\n",
    "ax.set_ylim(0, 1)\n",
    "ax.set_xlim(x_min, x_max)\n",
    "ax.legend(loc=\"upper right\")\n",
    "\n",
    "fig.tight_layout()\n",
    "\n",
    "fig.savefig(output_dir + \"truth_int.pdf\", bbox_inches=\"tight\")"
   ]
  },
  {
   "cell_type": "code",
   "execution_count": null,
   "metadata": {
    "scrolled": false
   },
   "outputs": [],
   "source": [
    "# eff per cat\n",
    "cats = {2: 11, 1: 10, 3: 1}\n",
    "field = \"nu_e\"\n",
    "x_min = 0\n",
    "x_max = 3\n",
    "n_bins = 15\n",
    "selectors = [\n",
    "    \"n_pfps>0 & daughter==0\",\n",
    "    \"e_candidate & preselect\",\n",
    "    \"e_candidate & select\",\n",
    "]  # q_s\n",
    "labs = [\"NeutrinoID\", \"Pre-selection\", \"Selection\"]\n",
    "\n",
    "for i in range(3):\n",
    "    fig, axes = plt.subplots(ncols=3, figsize=(10.5, 3.3))\n",
    "\n",
    "    for cat, ax in zip(cats.keys(), axes):\n",
    "        for selector, lab in zip(selectors[: (i + 1)], labs):\n",
    "            num = nue_frame.query(selector).query(\"true_category==@cat\")[field]\n",
    "            den = nue_mc[field][nue_mc[\"true_category\"] == cat]\n",
    "\n",
    "            num_w = nue_frame.query(selector).query(\"true_category==@cat\")[\n",
    "                \"weightSpline\"\n",
    "            ]\n",
    "            den_w = nue_mc[\"weightSpline\"][nue_mc[\"true_category\"] == cat]\n",
    "\n",
    "            eff, unc_low, unc_up, edges = plothelp.efficiency_post(\n",
    "                num,\n",
    "                den,\n",
    "                num_w=num_w,\n",
    "                den_w=den_w,\n",
    "                n_bins=n_bins,\n",
    "                x_min=x_min,\n",
    "                x_max=x_max,\n",
    "            )\n",
    "            ax.fill_between(edges, eff - unc_low, eff + unc_up, alpha=0.3, step=\"post\")\n",
    "            ax.step(\n",
    "                edges,\n",
    "                eff,\n",
    "                where=\"post\",\n",
    "                label=\"{0:<13}: {1:#.2g}%\".format(lab, sum(num_w) / sum(den_w) * 100),\n",
    "            )\n",
    "        ax.set_title(plot_dicts.category_labels[cats[cat]], loc=\"right\")\n",
    "        ax.set_title(\"Efficiency\", loc=\"left\")\n",
    "        ax.set_xlabel(\"True neutrino energy [GeV]\")\n",
    "        ax.set_ylabel(\"Efficiency\")\n",
    "        ax.set_ylim(0, 1)\n",
    "        ax.set_xlim(x_min, x_max)\n",
    "        if i == 0:\n",
    "            ax.legend(loc=\"center right\")\n",
    "        elif i == 1:\n",
    "            ax.legend(loc=\"lower right\")\n",
    "        else:\n",
    "            ax.legend(loc=\"upper right\")\n",
    "\n",
    "    fig.tight_layout()\n",
    "\n",
    "    for selector in selectors:\n",
    "        print(\n",
    "            \"Purity: {:.1f}%\".format(\n",
    "                100 * plothelp.get_purity(data, selector, cats.values())\n",
    "            )\n",
    "        )\n",
    "    fig.savefig(output_dir + \"efficiency_cat_\" + str(i) + \".pdf\", bbox_inches=\"tight\")"
   ]
  },
  {
   "cell_type": "code",
   "execution_count": null,
   "metadata": {},
   "outputs": [],
   "source": [
    "# eff per mode\n",
    "cats = [0, 1, 2, 10]\n",
    "field = \"nu_e\"\n",
    "x_min = 0\n",
    "x_max = 3\n",
    "n_bins = 15\n",
    "selectors = [\n",
    "    \"n_pfps>0 & daughter==0\",\n",
    "    \"e_candidate & preselect\",\n",
    "    \"e_candidate & select\",\n",
    "]  # q_s\n",
    "labs = [\"NeutrinoID\", \"Pre-selection\", \"Selection\"]\n",
    "fig, axes = plt.subplots(ncols=4, figsize=(11.5, 3.3))\n",
    "\n",
    "for cat, ax in zip(cats, axes):\n",
    "    for selector, lab in zip(selectors, labs):\n",
    "        num = nue_frame.query(selector).query(\"interaction==@cat & nueccinc\")[field]\n",
    "        den = nue_mc[field][(nue_mc[\"interaction\"] == cat) & nue_mc[\"nueccinc\"] == 1]\n",
    "\n",
    "        num_w = nue_frame.query(selector).query(\"interaction==@cat & nueccinc\")[\n",
    "            \"weightSpline\"\n",
    "        ]\n",
    "        den_w = nue_mc[\"weightSpline\"][\n",
    "            (nue_mc[\"interaction\"] == cat) & nue_mc[\"nueccinc\"] == 1\n",
    "        ]\n",
    "\n",
    "        eff, unc_low, unc_up, edges = plothelp.efficiency_post(\n",
    "            num, den, num_w=num_w, den_w=den_w, n_bins=n_bins, x_min=x_min, x_max=x_max\n",
    "        )\n",
    "        ax.fill_between(edges, eff - unc_low, eff + unc_up, alpha=0.3, step=\"post\")\n",
    "        ax.step(\n",
    "            edges,\n",
    "            eff,\n",
    "            where=\"post\",\n",
    "            label=\"{0:<13}: {1:.0f}%\".format(lab, sum(num_w) / sum(den_w) * 100),\n",
    "        )\n",
    "    ax.set_title(plot_dicts.int_labels[cat], loc=\"right\")\n",
    "    ax.set_title(\"Efficiency\", loc=\"left\")\n",
    "    ax.set_xlabel(\"True neutrino energy [GeV]\")\n",
    "    ax.set_ylabel(\"Efficiency\")\n",
    "    ax.set_ylim(0, 1)\n",
    "    ax.set_xlim(x_min, x_max)\n",
    "    ax.legend(loc=\"upper right\")\n",
    "\n",
    "fig.tight_layout()\n",
    "fig.savefig(output_dir + \"efficiency_int.pdf\", bbox_inches=\"tight\")"
   ]
  },
  {
   "cell_type": "markdown",
   "metadata": {},
   "source": [
    "#### Nicolo Significance"
   ]
  },
  {
   "cell_type": "code",
   "execution_count": null,
   "metadata": {},
   "outputs": [],
   "source": [
    "def test_statistics_distribution_given_numbers(\n",
    "    binning,\n",
    "    expected_number,\n",
    "    systematic_uncertainties={\"nue\": 0, \"numu\": 0, \"dataext\": 0, \"dirt\": 0},\n",
    "    data_on=False,\n",
    "    n_toy=10000,\n",
    "    log=False,\n",
    "):\n",
    "    gauss = st.norm(0, 1)\n",
    "    one_side_sig_percent = gauss.cdf(1) * 100\n",
    "\n",
    "    systematic_uncertainties[\"nue_signal\"] = systematic_uncertainties[\"nue\"]\n",
    "    systematic_uncertainties[\"nue_nonsignal\"] = systematic_uncertainties[\"nue\"]\n",
    "\n",
    "    print(\n",
    "        expected_number[\"nue\"],\n",
    "        expected_number[\"nue_signal\"],\n",
    "        expected_number[\"nue_nonsignal\"],\n",
    "    )\n",
    "\n",
    "    mean_toy = {}\n",
    "    poisson_toy = {}\n",
    "\n",
    "    for sample in expected_number.keys():\n",
    "        if sample == \"data\":\n",
    "            continue\n",
    "\n",
    "        mean_toy[sample] = np.random.normal(\n",
    "            expected_number[sample],\n",
    "            expected_number[sample] * systematic_uncertainties[sample],\n",
    "            n_toy,\n",
    "        )\n",
    "        poisson_toy[sample] = np.random.poisson(mean_toy[sample])\n",
    "\n",
    "    bkg_toy = (\n",
    "        poisson_toy[\"numu\"]\n",
    "        + poisson_toy[\"dirt\"]\n",
    "        + poisson_toy[\"dataext\"]\n",
    "        + poisson_toy[\"nue_nonsignal\"]\n",
    "    )\n",
    "    bkg_plus_signal_toy = bkg_toy + poisson_toy[\"nue_signal\"]\n",
    "\n",
    "    fig, ax = plt.subplots()\n",
    "    bin_contents_total, bin_edges, _ = ax.hist(\n",
    "        [bkg_plus_signal_toy, bkg_toy],\n",
    "        bins=binning[0],\n",
    "        range=(binning[1], binning[2]),\n",
    "        density=True,\n",
    "        label=[\"signal + background\", \"background only\"],\n",
    "        alpha=0.7,\n",
    "        histtype=\"stepfilled\",\n",
    "        lw=2,\n",
    "        log=log,\n",
    "    )\n",
    "\n",
    "    bin_width = (binning[2] - binning[1]) / binning[0]\n",
    "    ax.set_ylabel(\"Probability / {:.2f}\".format(bin_width))\n",
    "    ax.set_xlabel(\"Test statistics = number of selected events\")\n",
    "    ymin, ymax = ax.get_ylim()\n",
    "\n",
    "    # add expected pvalues\n",
    "    percentage_values = [16, 50, 84]\n",
    "    heights = {16: 0.5, 50: 0.7, 84: 0.5}\n",
    "    horizontalalignments = {16: \"right\", 50: \"center\", 84: \"left\"}\n",
    "    position_offset = {16: +10, 50: 0, 84: -10}\n",
    "    expected_quantiles = np.percentile(bkg_plus_signal_toy, percentage_values)\n",
    "    expected_pvalues = []\n",
    "    expected_one_minus_pvalues = []\n",
    "    expected_significance = []\n",
    "\n",
    "    for percentage_value, quantile in zip(percentage_values, expected_quantiles):\n",
    "        one_minus_pvalue = np.less(bkg_toy, quantile).sum() / n_toy\n",
    "        pvalue = 1.0 - one_minus_pvalue\n",
    "        significance = float(gauss.ppf(one_minus_pvalue))\n",
    "        expected_one_minus_pvalues.append(one_minus_pvalue)\n",
    "        expected_pvalues.append(pvalue)\n",
    "        expected_significance.append(significance)\n",
    "\n",
    "        plt.axvline(\n",
    "            quantile,\n",
    "            ymax=heights[percentage_value] - 0.1,\n",
    "            color=\"red\",\n",
    "            linestyle=\"--\",\n",
    "            label=\"expected {}%\".format(percentage_value),\n",
    "        )\n",
    "        plt.text(\n",
    "            quantile + position_offset[percentage_value],\n",
    "            heights[percentage_value] * ymax,\n",
    "            \"p = {:.1e}\\nZ = {:.2f}\".format(pvalue, significance) + r\"$\\sigma$\",\n",
    "            fontsize=10,\n",
    "            verticalalignment=\"center\",\n",
    "            horizontalalignment=horizontalalignments[percentage_value],\n",
    "        )\n",
    "\n",
    "    return True"
   ]
  },
  {
   "cell_type": "code",
   "execution_count": null,
   "metadata": {},
   "outputs": [],
   "source": [
    "binning = [30, 0, 30]  # nbins, min, max\n",
    "\n",
    "# just guess something\n",
    "expected_numbers = {\n",
    "    \"nue\": 5.1,\n",
    "    \"numu\": 3.3,\n",
    "    \"dirt\": 0.1,\n",
    "    \"dataext\": 1.3,\n",
    "    \"data\": 9,\n",
    "    \"nue_signal\": 4.9,\n",
    "    \"nue_nonsignal\": 0.2,\n",
    "}\n",
    "\n",
    "test_statistics_distribution_given_numbers(\n",
    "    binning, expected_numbers, data_on=False, n_toy=10000, log=False\n",
    ")"
   ]
  },
  {
   "cell_type": "markdown",
   "metadata": {},
   "source": [
    "#### Data/MC comparison"
   ]
  },
  {
   "cell_type": "code",
   "execution_count": null,
   "metadata": {
    "scrolled": false
   },
   "outputs": [],
   "source": [
    "%%time\n",
    "%autoreload\n",
    "fig, ax = plt.subplots(\n",
    "    ncols=1,\n",
    "    nrows=2,\n",
    "    figsize=(5 * plothelp.gr, 5),\n",
    "    gridspec_kw={\"height_ratios\": [3, 1]},\n",
    ")\n",
    "\n",
    "ratio,purity, ks_p = plothelp.plot_panel_data_mc(\n",
    "    data,\n",
    "    ax,\n",
    "    \"shr_energy_y_v\",\n",
    "    \"Electron candidate shower energy (Collection plane, uncalibrated) [MeV]\",\n",
    "    N_bins=17,\n",
    "    x_min=0,\n",
    "    x_max=1700,\n",
    "    query=q_s,\n",
    "    legend=True,\n",
    "    title_str=title_str,\n",
    "    kind=\"event_category\",\n",
    "    y_max_scaler=1.1\n",
    ")\n",
    "ax[0].text(\n",
    "    ax[0].get_xlim()[1] * 0.98,\n",
    "    ax[0].get_ylim()[1] * 0.8,\n",
    "    r\"$\\nu_e$\"\n",
    "    + \" CC purity: {0:<3.1f}%\\nKS p-value: {1:<5.2f}\".format(purity * 100, ks_p),\n",
    "    horizontalalignment=\"right\",\n",
    "    fontsize=12,\n",
    ")\n",
    "\n",
    "#ax[0].set_ylim(0, 0.3)\n",
    "fig.tight_layout()\n",
    "fig.savefig(output_dir + \"data_mc/nue_shower_energy_y.pdf\", bbox_inches=\"tight\")"
   ]
  },
  {
   "cell_type": "code",
   "execution_count": null,
   "metadata": {},
   "outputs": [],
   "source": [
    "%%time\n",
    "fig, ax = plt.subplots(\n",
    "    ncols=1,\n",
    "    nrows=2,\n",
    "    figsize=(5 * plothelp.gr, 5),\n",
    "    gridspec_kw={\"height_ratios\": [3, 1]},\n",
    ")\n",
    "\n",
    "ratio,purity, ks_p = plothelp.plot_panel_data_mc(\n",
    "    data,\n",
    "    ax,\n",
    "    \"shr_tkfit_theta_v\",\n",
    "    \"Electron candidate shower theta\",\n",
    "    N_bins=12,\n",
    "    x_min=0,\n",
    "    x_max=np.pi,\n",
    "    query=q_s,\n",
    "    legend=True,\n",
    "    title_str=title_str,\n",
    "    kind=\"event_category\",\n",
    "    y_max_scaler=1.2\n",
    ")\n",
    "ax[0].text(\n",
    "    ax[0].get_xlim()[1] * 0.98,\n",
    "    ax[0].get_ylim()[1] * 0.8,\n",
    "    r\"$\\nu_e$\"\n",
    "    + \" CC purity: {0:<3.1f}%\\nKS p-value: {1:<5.2f}\".format(purity * 100, ks_p),\n",
    "    horizontalalignment=\"right\",\n",
    "    fontsize=12,\n",
    ")\n",
    "\n",
    "x_ticks = [0, np.pi / 4, np.pi / 2, 3 * np.pi / 4, np.pi]\n",
    "x_labels = [r\"$0$\", r\"$\\pi/4$\", r\"$\\pi/2$\", r\"$3\\pi/4$\", r\"$\\pi$\"]\n",
    "ax[1].set_xticks(x_ticks)\n",
    "ax[1].set_xticklabels(x_labels)\n",
    "ax[0].set_xticks(x_ticks)\n",
    "ax[0].set_xticklabels(x_labels)\n",
    "\n",
    "fig.tight_layout()\n",
    "fig.savefig(output_dir + \"data_mc/nue_shower_theta.pdf\", bbox_inches=\"tight\")"
   ]
  },
  {
   "cell_type": "code",
   "execution_count": null,
   "metadata": {},
   "outputs": [],
   "source": [
    "%time\n",
    "fig, ax = plt.subplots(\n",
    "    ncols=1,\n",
    "    nrows=2,\n",
    "    figsize=(4 * plothelp.gr, 5),\n",
    "    gridspec_kw={\"height_ratios\": [3, 1]},\n",
    ")\n",
    "\n",
    "ratio, purity, ks_p = plothelp.plot_panel_data_mc(\n",
    "    data,\n",
    "    ax,\n",
    "    \"shr_energy_y_v\",\n",
    "    \"Candidate shower energy (Collection plane, uncalibrated) [MeV]\",\n",
    "    N_bins=18,\n",
    "    x_min=50,\n",
    "    x_max=500,\n",
    "    query=\"e_candidate>0 & preselect\",\n",
    "    legend=True,\n",
    "    title_str=title_str.split(\"NE\")[-1],\n",
    "    kind=\"event_pdg\",\n",
    "    y_max_scaler=1.1,\n",
    ")\n",
    "ax[0].text(\n",
    "    ax[0].get_xlim()[1] * 0.98,\n",
    "    ax[0].get_ylim()[1] * 0.8,\n",
    "    r\"$\\nu_e$\"\n",
    "    + \" CC purity: {0:<3.1f}%\\nKS p-value: {1:<5.2f}\".format(purity * 100, ks_p),\n",
    "    horizontalalignment=\"right\",\n",
    "    fontsize=12,\n",
    ")\n",
    "fig.tight_layout()\n",
    "fig.savefig(output_dir + \"data_mc/pre_shower_E_pdg.pdf\", bbox_inches=\"tight\")"
   ]
  },
  {
   "cell_type": "code",
   "execution_count": null,
   "metadata": {
    "scrolled": false
   },
   "outputs": [],
   "source": [
    "%time\n",
    "fig, ax = plt.subplots(\n",
    "    ncols=1,\n",
    "    nrows=2,\n",
    "    figsize=(4 * plothelp.gr, 5),\n",
    "    gridspec_kw={\"height_ratios\": [3, 1]},\n",
    ")\n",
    "\n",
    "ratio, purity, ks_p = plothelp.plot_panel_data_mc(\n",
    "    data,\n",
    "    ax,\n",
    "    \"shr_energy_y_v\",\n",
    "    \"Candidate shower energy (Collection plane, uncalibrated) [MeV]\",\n",
    "    N_bins=18,\n",
    "    x_min=50,\n",
    "    x_max=500,\n",
    "    query=\"e_candidate>0 & preselect\",\n",
    "    legend=True,\n",
    "    title_str=title_str.split(\"NE\")[-1],\n",
    "    kind=\"event_category\",\n",
    "    y_max_scaler=1.2,\n",
    ")\n",
    "ax[0].text(\n",
    "    ax[0].get_xlim()[1] * 0.98,\n",
    "    ax[0].get_ylim()[1] * 0.8,\n",
    "    r\"$\\nu_e$\"\n",
    "    + \" CC purity: {0:<3.1f}%\\nKS p-value: {1:<5.2f}\".format(purity * 100, ks_p),\n",
    "    horizontalalignment=\"right\",\n",
    "    fontsize=12,\n",
    ")\n",
    "fig.tight_layout()\n",
    "fig.savefig(output_dir + \"data_mc/pre_shower_E.pdf\", bbox_inches=\"tight\")"
   ]
  },
  {
   "cell_type": "code",
   "execution_count": null,
   "metadata": {},
   "outputs": [],
   "source": [
    "fig, ax = plt.subplots(\n",
    "    ncols=3, nrows=2, figsize=(15, 5), gridspec_kw={\"height_ratios\": [3, 1]}\n",
    ")\n",
    "\n",
    "\n",
    "field_arr = [\"reco_nu_vtx_sce_x\", \"reco_nu_vtx_sce_y\", \"reco_nu_vtx_sce_z\"]\n",
    "lab_arr = [\n",
    "    \"Neutrino candidate vx [cm]\",\n",
    "    \"Neutrino candidate vy [cm]\",\n",
    "    \"Neutrino candidate vz [cm]\",\n",
    "]\n",
    "x_min_arr = helper.lower + np.array([10, 10, 10])\n",
    "x_max_arr = helper.upper - np.array([10, 10, 50])\n",
    "\n",
    "for i, (x_min, x_max, lab, field) in enumerate(\n",
    "    zip(x_min_arr, x_max_arr, lab_arr, field_arr)\n",
    "):\n",
    "    ratio, purity, ks_p = plothelp.plot_panel_data_mc(\n",
    "        data,\n",
    "        ax.T[i],\n",
    "        field,\n",
    "        lab,\n",
    "        N_bins=30,\n",
    "        x_min=x_min,\n",
    "        x_max=x_max,\n",
    "        query=\"e_candidate>0 & preselect\",\n",
    "        legend=(i == 2),\n",
    "        title_str=title_str.split(\"NE\")[-1],\n",
    "        kind=\"event_category\",\n",
    "        y_max_scaler=1.2,\n",
    "    )\n",
    "    ax[0][i].text(\n",
    "        ax[0][i].get_xlim()[1] * 0.98,\n",
    "        ax[0][i].get_ylim()[1] * 0.9,\n",
    "        \"KS p-value: {0:<5.2f}\".format(ks_p),\n",
    "        horizontalalignment=\"right\",\n",
    "        fontsize=12,\n",
    "    )\n",
    "\n",
    "fig.tight_layout()\n",
    "fig.savefig(output_dir + \"data_mc/pre_vtx.pdf\", bbox_inches=\"tight\")"
   ]
  },
  {
   "cell_type": "code",
   "execution_count": null,
   "metadata": {},
   "outputs": [],
   "source": [
    "fig, ax = plt.subplots(\n",
    "    ncols=2, nrows=2, figsize=(11, 5), gridspec_kw={\"height_ratios\": [3, 1]}\n",
    ")\n",
    "\n",
    "ratio, purity, ks_p = plothelp.plot_panel_data_mc(\n",
    "    data,\n",
    "    ax.T[0],\n",
    "    \"shr_tkfit_phi_v\",\n",
    "    \"Electron candidate phi\",\n",
    "    N_bins=20,\n",
    "    x_min=-np.pi,\n",
    "    x_max=np.pi,\n",
    "    legend=False,\n",
    "    query=\"e_candidate>0 & preselect\",\n",
    "    title_str=title_str.split(\"NE\")[-1],\n",
    "    kind=\"event_category\",\n",
    "    y_max_scaler=1.2,\n",
    ")\n",
    "x_ticks = [-np.pi, -np.pi / 2, 0, np.pi / 2, np.pi]\n",
    "x_labels = [r\"$-\\pi$\", r\"$-\\pi/2$\", r\"$0$\", r\"$\\pi/2$\", r\"$\\pi$\"]\n",
    "ax[1][0].set_xticks(x_ticks)\n",
    "ax[1][0].set_xticklabels(x_labels)\n",
    "ax[0][0].set_xticks(x_ticks)\n",
    "ax[0][0].set_xticklabels(x_labels)\n",
    "ax[0][0].text(\n",
    "    ax[0][0].get_xlim()[1] * 0.98,\n",
    "    ax[0][0].get_ylim()[1] * 0.9,\n",
    "    \"KS p-value: {0:<5.2f}\".format(ks_p),\n",
    "    horizontalalignment=\"right\",\n",
    "    fontsize=12,\n",
    ")\n",
    "\n",
    "ratio, purity, ks_p = plothelp.plot_panel_data_mc(\n",
    "    data,\n",
    "    ax.T[1],\n",
    "    \"shr_tkfit_theta_v\",\n",
    "    \"Electron candidate theta\",\n",
    "    N_bins=20,\n",
    "    x_min=0,\n",
    "    x_max=np.pi,\n",
    "    legend=True,\n",
    "    query=\"e_candidate>0 & preselect\",\n",
    "    title_str=title_str.split(\"NE\")[-1],\n",
    "    kind=\"event_category\",\n",
    "    y_max_scaler=1.2,\n",
    ")\n",
    "x_ticks = [0, np.pi / 4, np.pi / 2, 3 * np.pi / 4, np.pi]\n",
    "x_labels = [r\"$0$\", r\"$\\pi/4$\", r\"$\\pi/2$\", r\"$3\\pi/4$\", r\"$\\pi$\"]\n",
    "ax[1][1].set_xticks(x_ticks)\n",
    "ax[1][1].set_xticklabels(x_labels)\n",
    "ax[0][1].set_xticks(x_ticks)\n",
    "ax[0][1].set_xticklabels(x_labels)\n",
    "ax[0][1].text(\n",
    "    ax[0][1].get_xlim()[1] * 0.98,\n",
    "    ax[0][1].get_ylim()[1] * 0.9,\n",
    "    \"KS p-value: {0:<5.2f}\".format(ks_p),\n",
    "    horizontalalignment=\"right\",\n",
    "    fontsize=12,\n",
    ")\n",
    "\n",
    "fig.tight_layout()\n",
    "fig.savefig(output_dir + \"data_mc/pre_angles.pdf\", bbox_inches=\"tight\")"
   ]
  },
  {
   "cell_type": "code",
   "execution_count": null,
   "metadata": {},
   "outputs": [],
   "source": [
    "fig, ax = plt.subplots(\n",
    "    ncols=2, nrows=2, figsize=(11, 5), gridspec_kw={\"height_ratios\": [3, 1]}\n",
    ")\n",
    "\n",
    "ratio, purity, ks_p = plothelp.plot_panel_data_mc(\n",
    "    data,\n",
    "    ax.T[0],\n",
    "    \"shr_dist_v\",\n",
    "    \"Electron candidate vertex distance [cm]\",\n",
    "    N_bins=20,\n",
    "    x_min=0,\n",
    "    x_max=20,\n",
    "    legend=False,\n",
    "    query=\"e_candidate>0 & preselect\",\n",
    "    title_str=title_str.split(\"NE\")[-1],\n",
    "    kind=\"event_pdg\",\n",
    "    y_max_scaler=1.2,\n",
    ")\n",
    "ax[0][0].text(\n",
    "    ax[0][0].get_xlim()[1] * 0.98,\n",
    "    ax[0][0].get_ylim()[1] * 0.9,\n",
    "    \"KS p-value: {0:<5.2f}\".format(ks_p),\n",
    "    horizontalalignment=\"right\",\n",
    "    fontsize=12,\n",
    ")\n",
    "\n",
    "ratio, purity, ks_p = plothelp.plot_panel_data_mc(\n",
    "    data,\n",
    "    ax.T[1],\n",
    "    \"shr_tkfit_dedx_y_v\",\n",
    "    r\"Electron candidate $\\frac{dE}{dx}$ [MeV/cm]\",\n",
    "    N_bins=20,\n",
    "    x_min=0,\n",
    "    x_max=10,\n",
    "    legend=True,\n",
    "    query=\"e_candidate>0 & preselect\",\n",
    "    title_str=title_str.split(\"NE\")[-1],\n",
    "    kind=\"event_pdg\",\n",
    "    y_max_scaler=1.2,\n",
    ")\n",
    "ax[0][1].text(\n",
    "    ax[0][1].get_xlim()[1] * 0.98,\n",
    "    ax[0][1].get_ylim()[1] * 0.9,\n",
    "    \"KS p-value: {0:<5.2f}\".format(ks_p),\n",
    "    horizontalalignment=\"right\",\n",
    "    fontsize=12,\n",
    ")\n",
    "\n",
    "fig.tight_layout()\n",
    "fig.savefig(output_dir + \"data_mc/pre_shwrfields.pdf\", bbox_inches=\"tight\")"
   ]
  },
  {
   "cell_type": "code",
   "execution_count": null,
   "metadata": {},
   "outputs": [],
   "source": [
    "%time\n",
    "fig, ax = plt.subplots(\n",
    "    ncols=1,\n",
    "    nrows=2,\n",
    "    figsize=(4 * plothelp.gr, 5),\n",
    "    gridspec_kw={\"height_ratios\": [3, 1]},\n",
    ")\n",
    "\n",
    "ratio, purity, ks_p = plothelp.plot_panel_data_mc(\n",
    "    data,\n",
    "    ax,\n",
    "    \"score\",\n",
    "    \"Electron Identification score\",\n",
    "    N_bins=30,\n",
    "    x_min=0,\n",
    "    x_max=1,\n",
    "    query=\"e_candidate>0 & preselect\",\n",
    "    legend=True,\n",
    "    title_str=title_str.split(\"NE\")[-1],\n",
    "    kind=\"event_pdg\",\n",
    "    y_max_scaler=1.2,\n",
    ")\n",
    "ax[0].text(\n",
    "    ax[0].get_xlim()[1] * 0.6,\n",
    "    ax[0].get_ylim()[1] * 0.8,\n",
    "    r\"$\\nu_e$\"\n",
    "    + \" CC purity: {0:<3.1f}%\\nKS p-value: {1:<5.2f}\".format(purity * 100, ks_p),\n",
    "    horizontalalignment=\"right\",\n",
    "    fontsize=12,\n",
    ")\n",
    "\n",
    "fig.tight_layout()\n",
    "fig.savefig(output_dir + \"data_mc/pre_e_score.pdf\", bbox_inches=\"tight\")"
   ]
  },
  {
   "cell_type": "code",
   "execution_count": null,
   "metadata": {},
   "outputs": [],
   "source": [
    "%time\n",
    "fig, ax = plt.subplots(\n",
    "    ncols=1,\n",
    "    nrows=2,\n",
    "    figsize=(4 * plothelp.gr, 5),\n",
    "    gridspec_kw={\"height_ratios\": [3, 1]},\n",
    ")\n",
    "\n",
    "ratio, purity, ks_p = plothelp.plot_panel_data_mc(\n",
    "    data,\n",
    "    ax,\n",
    "    \"score\",\n",
    "    \"Other Daughters Identification score\",\n",
    "    N_bins=29,\n",
    "    x_min=0,\n",
    "    x_max=1,\n",
    "    query=\"~e_candidate>0 & preselect\",\n",
    "    legend=True,\n",
    "    title_str=title_str.split(\"NE\")[-1],\n",
    "    kind=\"event_pdg\",\n",
    "    y_max_scaler=1.2,\n",
    ")\n",
    "ax[0].text(\n",
    "    ax[0].get_xlim()[1] * 0.7,\n",
    "    ax[0].get_ylim()[1] * 0.8,\n",
    "    r\"$\\nu_e$\"\n",
    "    + \" CC purity: {0:<3.1f}%\\nKS p-value: {1:<5.2f}\".format(purity * 100, ks_p),\n",
    "    horizontalalignment=\"right\",\n",
    "    fontsize=12,\n",
    ")\n",
    "\n",
    "fig.tight_layout()\n",
    "fig.savefig(output_dir + \"data_mc/pre_daughter_score.pdf\", bbox_inches=\"tight\")"
   ]
  },
  {
   "cell_type": "code",
   "execution_count": null,
   "metadata": {},
   "outputs": [],
   "source": [
    "%time\n",
    "fig, ax = plt.subplots(\n",
    "    ncols=1,\n",
    "    nrows=2,\n",
    "    figsize=(4 * plothelp.gr, 5),\n",
    "    gridspec_kw={\"height_ratios\": [3, 1]},\n",
    ")\n",
    "\n",
    "ratio, purity, ks_p = plothelp.plot_panel_data_mc(\n",
    "    data,\n",
    "    ax,\n",
    "    \"score_event\",\n",
    "    \"Event Identification score\",\n",
    "    N_bins=29,\n",
    "    x_min=0,\n",
    "    x_max=1,\n",
    "    query=\"e_candidate>0 & preselect\",\n",
    "    legend=True,\n",
    "    title_str=title_str.split(\"NE\")[-1],\n",
    "    kind=\"event_category\",\n",
    "    y_max_scaler=1.2,\n",
    ")\n",
    "ax[0].text(\n",
    "    ax[0].get_xlim()[1] * 0.6,\n",
    "    ax[0].get_ylim()[1] * 0.8,\n",
    "    r\"$\\nu_e$\"\n",
    "    + \" CC purity: {0:<3.1f}%\\nKS p-value: {1:<5.2f}\".format(purity * 100, ks_p),\n",
    "    horizontalalignment=\"right\",\n",
    "    fontsize=12,\n",
    ")\n",
    "\n",
    "fig.tight_layout()\n",
    "fig.savefig(output_dir + \"data_mc/pre_event_score.pdf\", bbox_inches=\"tight\")"
   ]
  },
  {
   "cell_type": "code",
   "execution_count": null,
   "metadata": {},
   "outputs": [],
   "source": [
    "fig, ax = plt.subplots(\n",
    "    ncols=2, nrows=2, figsize=(11, 5), gridspec_kw={\"height_ratios\": [3, 1]}\n",
    ")\n",
    "\n",
    "ratio, purity, ks_p = plothelp.plot_panel_data_mc(\n",
    "    data,\n",
    "    ax.T[0],\n",
    "    \"shr_tkfit_phi_v\",\n",
    "    \"Electron candidate phi\",\n",
    "    N_bins=12,\n",
    "    x_min=-np.pi,\n",
    "    x_max=np.pi,\n",
    "    legend=False,\n",
    "    query=q_s,\n",
    "    title_str=title_str.split(\"NE\")[-1],\n",
    "    kind=\"event_category\",\n",
    "    y_max_scaler=1.2,\n",
    ")\n",
    "x_ticks = [-np.pi, -np.pi / 2, 0, np.pi / 2, np.pi]\n",
    "x_labels = [r\"$-\\pi$\", r\"$-\\pi/2$\", r\"$0$\", r\"$\\pi/2$\", r\"$\\pi$\"]\n",
    "ax[1][0].set_xticks(x_ticks)\n",
    "ax[1][0].set_xticklabels(x_labels)\n",
    "ax[0][0].set_xticks(x_ticks)\n",
    "ax[0][0].set_xticklabels(x_labels)\n",
    "\n",
    "ax[0][0].text(\n",
    "    ax[0][0].get_xlim()[1] * 0.98,\n",
    "    ax[0][0].get_ylim()[1] * 0.8,\n",
    "    r\"$\\nu_e$\"\n",
    "    + \" CC purity: {0:<3.1f}%\\nKS p-value: {1:<5.2f}\".format(purity * 100, ks_p),\n",
    "    horizontalalignment=\"right\",\n",
    "    fontsize=12,\n",
    ")\n",
    "\n",
    "ratio, purity, ks_p = plothelp.plot_panel_data_mc(\n",
    "    data,\n",
    "    ax.T[1],\n",
    "    \"shr_tkfit_theta_v\",\n",
    "    \"Electron candidate theta\",\n",
    "    N_bins=12,\n",
    "    x_min=0,\n",
    "    x_max=np.pi,\n",
    "    legend=True,\n",
    "    query=q_s,\n",
    "    title_str=title_str.split(\"NE\")[-1],\n",
    "    kind=\"event_category\",\n",
    "    y_max_scaler=1.2,\n",
    ")\n",
    "x_ticks = [0, np.pi / 4, np.pi / 2, 3 * np.pi / 4, np.pi]\n",
    "x_labels = [r\"$0$\", r\"$\\pi/4$\", r\"$\\pi/2$\", r\"$3\\pi/4$\", r\"$\\pi$\"]\n",
    "ax[1][1].set_xticks(x_ticks)\n",
    "ax[1][1].set_xticklabels(x_labels)\n",
    "ax[0][1].set_xticks(x_ticks)\n",
    "ax[0][1].set_xticklabels(x_labels)\n",
    "\n",
    "ax[0][1].text(\n",
    "    ax[0][1].get_xlim()[1] * 0.98,\n",
    "    ax[0][1].get_ylim()[1] * 0.8,\n",
    "    r\"$\\nu_e$\"\n",
    "    + \" CC purity: {0:<3.1f}%\\nKS p-value: {1:<5.2f}\".format(purity * 100, ks_p),\n",
    "    horizontalalignment=\"right\",\n",
    "    fontsize=12,\n",
    ")\n",
    "\n",
    "fig.tight_layout()\n",
    "fig.savefig(output_dir + \"data_mc/after_angles.pdf\", bbox_inches=\"tight\")"
   ]
  },
  {
   "cell_type": "code",
   "execution_count": null,
   "metadata": {},
   "outputs": [],
   "source": [
    "%time\n",
    "fig, ax = plt.subplots(\n",
    "    ncols=1,\n",
    "    nrows=2,\n",
    "    figsize=(5 * plothelp.gr, 5),\n",
    "    gridspec_kw={\"height_ratios\": [3, 1]},\n",
    ")\n",
    "\n",
    "ratio, purity, ks_p = plothelp.plot_panel_data_mc(\n",
    "    data,\n",
    "    ax,\n",
    "    \"trk_llr_pid_score_v\",\n",
    "    \"Other Daughters Identification score\",\n",
    "    N_bins=29,\n",
    "    x_min=-1,\n",
    "    x_max=1,\n",
    "    query=\"~e_candidate>0 & preselect\",\n",
    "    legend=True,\n",
    "    title_str=title_str.split(\"NE\")[-1],\n",
    "    kind=\"event_pdg\",\n",
    "    y_max_scaler=1.2,\n",
    ")\n",
    "ax[0].text(\n",
    "    ax[0].get_xlim()[1] * 0.7,\n",
    "    ax[0].get_ylim()[1] * 0.8,\n",
    "    r\"$\\nu_e$\"\n",
    "    + \" CC purity: {0:<3.1f}%\\nKS p-value: {1:<5.2f}\".format(purity * 100, ks_p),\n",
    "    horizontalalignment=\"right\",\n",
    "    fontsize=12,\n",
    ")\n",
    "\n",
    "fig.tight_layout()\n",
    "fig.savefig(output_dir + \"data_mc/pre_daughter_nico_zoom.pdf\", bbox_inches=\"tight\")"
   ]
  },
  {
   "cell_type": "code",
   "execution_count": null,
   "metadata": {
    "scrolled": false
   },
   "outputs": [],
   "source": [
    "fig, ax = plt.subplots(\n",
    "    ncols=2, nrows=2, figsize=(11, 5), gridspec_kw={\"height_ratios\": [3, 1]}\n",
    ")\n",
    "\n",
    "ratio, purity, ks_p = plothelp.plot_panel_data_mc(\n",
    "    data,\n",
    "    ax.T[0],\n",
    "    \"shr_moliere_avg_v\",\n",
    "    \"Average Moliere Radius\",\n",
    "    N_bins=20,\n",
    "    x_min=0,\n",
    "    x_max=50,\n",
    "    legend=False,\n",
    "    query=\"e_candidate>0 & preselect\",\n",
    "    title_str=title_str.split(\"NE\")[-1],\n",
    "    kind=\"event_pdg\",\n",
    "    y_max_scaler=1.2,\n",
    ")\n",
    "ax[0][0].text(\n",
    "    ax[0][0].get_xlim()[1] * 0.98,\n",
    "    ax[0][0].get_ylim()[1] * 0.9,\n",
    "    \"KS p-value: {0:<5.2f}\".format(ks_p),\n",
    "    horizontalalignment=\"right\",\n",
    "    fontsize=12,\n",
    ")\n",
    "\n",
    "ratio, purity, ks_p = plothelp.plot_panel_data_mc(\n",
    "    data,\n",
    "    ax.T[1],\n",
    "    \"shr_tkfit_gap10_dedx_y_v\",\n",
    "    r\"Electron candidate $\\frac{dE}{dx}$ [MeV/cm]\",\n",
    "    N_bins=20,\n",
    "    x_min=0,\n",
    "    x_max=6,\n",
    "    legend=True,\n",
    "    query=\"e_candidate>0 & preselect\",\n",
    "    title_str=title_str.split(\"NE\")[-1],\n",
    "    kind=\"event_pdg\",\n",
    "    y_max_scaler=1.2,\n",
    ")\n",
    "ax[0][1].text(\n",
    "    ax[0][1].get_xlim()[1] * 0.98,\n",
    "    ax[0][1].get_ylim()[1] * 0.9,\n",
    "    \"KS p-value: {0:<5.2f}\".format(ks_p),\n",
    "    horizontalalignment=\"right\",\n",
    "    fontsize=12,\n",
    ")\n",
    "\n",
    "fig.tight_layout()\n",
    "fig.savefig(output_dir + \"data_mc/pre_moliere.pdf\", bbox_inches=\"tight\")"
   ]
  },
  {
   "cell_type": "code",
   "execution_count": null,
   "metadata": {
    "scrolled": false
   },
   "outputs": [],
   "source": [
    "fig, ax = plt.subplots(\n",
    "    ncols=2, nrows=2, figsize=(11, 5), gridspec_kw={\"height_ratios\": [3, 1]}\n",
    ")\n",
    "\n",
    "ratio, purity, ks_p = plothelp.plot_panel_data_mc(\n",
    "    data,\n",
    "    ax.T[0],\n",
    "    \"trk_min_cos\",\n",
    "    \"Most opposite pfp angle (cos)\",\n",
    "    N_bins=20,\n",
    "    x_min=-1,\n",
    "    x_max=1,\n",
    "    legend=False,\n",
    "    query=\"e_candidate>0 & preselect\",\n",
    "    title_str=title_str.split(\"NE\")[-1],\n",
    "    kind=\"event_pdg\",\n",
    "    y_max_scaler=1.2,\n",
    ")\n",
    "ax[0][0].text(\n",
    "    ax[0][0].get_xlim()[1] * 0.98,\n",
    "    ax[0][0].get_ylim()[1] * 0.9,\n",
    "    \"KS p-value: {0:<5.2f}\".format(ks_p),\n",
    "    horizontalalignment=\"right\",\n",
    "    fontsize=12,\n",
    ")\n",
    "\n",
    "ratio, purity, ks_p = plothelp.plot_panel_data_mc(\n",
    "    data,\n",
    "    ax.T[1],\n",
    "    \"shr_subclusters_v\",\n",
    "    r\"shr_subclusters_v\",\n",
    "    N_bins=20,\n",
    "    x_min=0,\n",
    "    x_max=50,\n",
    "    legend=True,\n",
    "    query=\"e_candidate>0 & preselect\",\n",
    "    title_str=title_str.split(\"NE\")[-1],\n",
    "    kind=\"event_pdg\",\n",
    "    y_max_scaler=1.2,\n",
    ")\n",
    "ax[0][1].text(\n",
    "    ax[0][1].get_xlim()[1] * 0.98,\n",
    "    ax[0][1].get_ylim()[1] * 0.9,\n",
    "    \"KS p-value: {0:<5.2f}\".format(ks_p),\n",
    "    horizontalalignment=\"right\",\n",
    "    fontsize=12,\n",
    ")\n",
    "\n",
    "fig.tight_layout()\n",
    "fig.savefig(output_dir + \"data_mc/pre_clustershwr.pdf\", bbox_inches=\"tight\")"
   ]
  },
  {
   "cell_type": "code",
   "execution_count": null,
   "metadata": {},
   "outputs": [],
   "source": [
    "### PLOT the containment!\n",
    "fig, ax = plt.subplots(ncols=2, nrows=1, figsize=(7, 3))\n",
    "\n",
    "plot_data = [\n",
    "    data[\"off\"][\"daughters\"].query(\"e_candidate>0 & preselect\")[\"contained_sps_ratio\"],\n",
    "    data[\"nue\"][\"daughters\"].query(\"e_candidate>0 & preselect & nueccinc\")[\n",
    "        \"contained_sps_ratio\"\n",
    "    ],\n",
    "    data[\"off\"][\"daughters\"].query(\"e_candidate>0 & preselect\")[\"contained_fraction\"],\n",
    "    data[\"nue\"][\"daughters\"].query(\"e_candidate>0 & preselect & nueccinc\")[\n",
    "        \"contained_fraction\"\n",
    "    ],\n",
    "]\n",
    "ax[0].hist(plot_data[0:2], bins=50, density=True, label=[\"Ext\", \"Nue\"], histtype=\"step\")\n",
    "ax[0].legend(loc=\"upper center\")\n",
    "ax[0].set_xlabel(\"contained_sps_ratio\")\n",
    "ax[0].set_yscale(\"log\")\n",
    "\n",
    "ax[1].hist(plot_data[2:4], bins=50, density=True, label=[\"Ext\", \"Nue\"], histtype=\"step\")\n",
    "ax[1].legend(loc=\"upper center\")\n",
    "ax[1].set_xlabel(\"contained_fraction\")\n",
    "ax[1].set_yscale(\"log\")\n",
    "\n",
    "fig.tight_layout()"
   ]
  }
 ],
 "metadata": {
  "kernelspec": {
   "display_name": "uproot env",
   "language": "python",
   "name": "uproot"
  },
  "language_info": {
   "codemirror_mode": {
    "name": "ipython",
    "version": 3
   },
   "file_extension": ".py",
   "mimetype": "text/x-python",
   "name": "python",
   "nbconvert_exporter": "python",
   "pygments_lexer": "ipython3",
   "version": "3.7.4"
  }
 },
 "nbformat": 4,
 "nbformat_minor": 2
}
