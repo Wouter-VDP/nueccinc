{
 "cells": [
  {
   "cell_type": "markdown",
   "metadata": {},
   "source": [
    "### Input"
   ]
  },
  {
   "cell_type": "code",
   "execution_count": 1,
   "metadata": {},
   "outputs": [
    {
     "data": {
      "application/javascript": [
       "\n",
       "            setTimeout(function() {\n",
       "                var nbb_cell_id = 1;\n",
       "                var nbb_formatted_code = \"%load_ext autoreload\\n%matplotlib inline\\n%load_ext nb_black\";\n",
       "                var nbb_cells = Jupyter.notebook.get_cells();\n",
       "                for (var i = 0; i < nbb_cells.length; ++i) {\n",
       "                    if (nbb_cells[i].input_prompt_number == nbb_cell_id) {\n",
       "                        nbb_cells[i].set_text(nbb_formatted_code);\n",
       "                        break;\n",
       "                    }\n",
       "                }\n",
       "            }, 500);\n",
       "            "
      ],
      "text/plain": [
       "<IPython.core.display.Javascript object>"
      ]
     },
     "metadata": {},
     "output_type": "display_data"
    }
   ],
   "source": [
    "%load_ext autoreload\n",
    "%matplotlib inline\n",
    "%load_ext nb_black"
   ]
  },
  {
   "cell_type": "code",
   "execution_count": 2,
   "metadata": {},
   "outputs": [
    {
     "data": {
      "application/javascript": [
       "\n",
       "            setTimeout(function() {\n",
       "                var nbb_cell_id = 2;\n",
       "                var nbb_formatted_code = \"import uproot\\nimport numpy as np\\nimport pandas as pd\\nimport matplotlib.pyplot as plt\\nimport helpfunction as helper\\nimport awkward\\nimport pprint\\n\\npd.set_option(\\\"display.max_columns\\\", 500)\";\n",
       "                var nbb_cells = Jupyter.notebook.get_cells();\n",
       "                for (var i = 0; i < nbb_cells.length; ++i) {\n",
       "                    if (nbb_cells[i].input_prompt_number == nbb_cell_id) {\n",
       "                        nbb_cells[i].set_text(nbb_formatted_code);\n",
       "                        break;\n",
       "                    }\n",
       "                }\n",
       "            }, 500);\n",
       "            "
      ],
      "text/plain": [
       "<IPython.core.display.Javascript object>"
      ]
     },
     "metadata": {},
     "output_type": "display_data"
    }
   ],
   "source": [
    "import uproot\n",
    "import numpy as np\n",
    "import pandas as pd\n",
    "import matplotlib.pyplot as plt\n",
    "import helpfunction as helper\n",
    "import awkward\n",
    "import pprint\n",
    "\n",
    "pd.set_option(\"display.max_columns\", 500)"
   ]
  },
  {
   "cell_type": "code",
   "execution_count": 3,
   "metadata": {},
   "outputs": [
    {
     "data": {
      "application/javascript": [
       "\n",
       "            setTimeout(function() {\n",
       "                var nbb_cell_id = 3;\n",
       "                var nbb_formatted_code = \"%autoreload\";\n",
       "                var nbb_cells = Jupyter.notebook.get_cells();\n",
       "                for (var i = 0; i < nbb_cells.length; ++i) {\n",
       "                    if (nbb_cells[i].input_prompt_number == nbb_cell_id) {\n",
       "                        nbb_cells[i].set_text(nbb_formatted_code);\n",
       "                        break;\n",
       "                    }\n",
       "                }\n",
       "            }, 500);\n",
       "            "
      ],
      "text/plain": [
       "<IPython.core.display.Javascript object>"
      ]
     },
     "metadata": {},
     "output_type": "display_data"
    }
   ],
   "source": [
    "%autoreload"
   ]
  },
  {
   "cell_type": "markdown",
   "metadata": {},
   "source": [
    "### Constants"
   ]
  },
  {
   "cell_type": "code",
   "execution_count": 4,
   "metadata": {},
   "outputs": [
    {
     "data": {
      "application/javascript": [
       "\n",
       "            setTimeout(function() {\n",
       "                var nbb_cell_id = 4;\n",
       "                var nbb_formatted_code = \"main_tree = \\\"NeutrinoSelectionFilter\\\"\\nmass_p = 0.93827\\nmin_p_energy = mass_p + 0.04\\nmin_e_energy = 0.020\\nx_sce_magic = 1.03\\npot_target = 1e20\\nmc_samples = [\\\"NUE\\\", \\\"MC\\\", \\\"DIRT\\\"]\";\n",
       "                var nbb_cells = Jupyter.notebook.get_cells();\n",
       "                for (var i = 0; i < nbb_cells.length; ++i) {\n",
       "                    if (nbb_cells[i].input_prompt_number == nbb_cell_id) {\n",
       "                        nbb_cells[i].set_text(nbb_formatted_code);\n",
       "                        break;\n",
       "                    }\n",
       "                }\n",
       "            }, 500);\n",
       "            "
      ],
      "text/plain": [
       "<IPython.core.display.Javascript object>"
      ]
     },
     "metadata": {},
     "output_type": "display_data"
    }
   ],
   "source": [
    "main_tree = \"NeutrinoSelectionFilter\"\n",
    "mass_p = 0.93827\n",
    "min_p_energy = mass_p + 0.04\n",
    "min_e_energy = 0.020\n",
    "x_sce_magic = 1.03\n",
    "pot_target = 1e20\n",
    "mc_samples = [\"NUE\", \"MC\", \"DIRT\"]"
   ]
  },
  {
   "cell_type": "code",
   "execution_count": 5,
   "metadata": {},
   "outputs": [
    {
     "data": {
      "application/javascript": [
       "\n",
       "            setTimeout(function() {\n",
       "                var nbb_cell_id = 5;\n",
       "                var nbb_formatted_code = \"max_trk_score = 0.85\\nmin_cluster_frac = 0.5\";\n",
       "                var nbb_cells = Jupyter.notebook.get_cells();\n",
       "                for (var i = 0; i < nbb_cells.length; ++i) {\n",
       "                    if (nbb_cells[i].input_prompt_number == nbb_cell_id) {\n",
       "                        nbb_cells[i].set_text(nbb_formatted_code);\n",
       "                        break;\n",
       "                    }\n",
       "                }\n",
       "            }, 500);\n",
       "            "
      ],
      "text/plain": [
       "<IPython.core.display.Javascript object>"
      ]
     },
     "metadata": {},
     "output_type": "display_data"
    }
   ],
   "source": [
    "max_trk_score = 0.85\n",
    "min_cluster_frac = 0.5"
   ]
  },
  {
   "cell_type": "markdown",
   "metadata": {},
   "source": [
    "### Load info"
   ]
  },
  {
   "cell_type": "code",
   "execution_count": 6,
   "metadata": {},
   "outputs": [
    {
     "data": {
      "application/javascript": [
       "\n",
       "            setTimeout(function() {\n",
       "                var nbb_cell_id = 6;\n",
       "                var nbb_formatted_code = \"input_dir = \\\"./input/7Oct/run3/\\\"\\noutput_dir = \\\"./output/\\\"\";\n",
       "                var nbb_cells = Jupyter.notebook.get_cells();\n",
       "                for (var i = 0; i < nbb_cells.length; ++i) {\n",
       "                    if (nbb_cells[i].input_prompt_number == nbb_cell_id) {\n",
       "                        nbb_cells[i].set_text(nbb_formatted_code);\n",
       "                        break;\n",
       "                    }\n",
       "                }\n",
       "            }, 500);\n",
       "            "
      ],
      "text/plain": [
       "<IPython.core.display.Javascript object>"
      ]
     },
     "metadata": {},
     "output_type": "display_data"
    }
   ],
   "source": [
    "input_dir = \"./input/7Oct/run3/\"\n",
    "output_dir = \"./output/\""
   ]
  },
  {
   "cell_type": "code",
   "execution_count": 7,
   "metadata": {},
   "outputs": [
    {
     "data": {
      "application/javascript": [
       "\n",
       "            setTimeout(function() {\n",
       "                var nbb_cell_id = 7;\n",
       "                var nbb_formatted_code = \"sample_info = helper.load_sample_info(input_dir, \\\"sample_info.txt\\\")\\npot_scale = pot_target / sample_info[\\\"On\\\"][\\\"POT\\\"]\";\n",
       "                var nbb_cells = Jupyter.notebook.get_cells();\n",
       "                for (var i = 0; i < nbb_cells.length; ++i) {\n",
       "                    if (nbb_cells[i].input_prompt_number == nbb_cell_id) {\n",
       "                        nbb_cells[i].set_text(nbb_formatted_code);\n",
       "                        break;\n",
       "                    }\n",
       "                }\n",
       "            }, 500);\n",
       "            "
      ],
      "text/plain": [
       "<IPython.core.display.Javascript object>"
      ]
     },
     "metadata": {},
     "output_type": "display_data"
    }
   ],
   "source": [
    "sample_info = helper.load_sample_info(input_dir, \"sample_info.txt\")\n",
    "pot_scale = pot_target / sample_info[\"On\"][\"POT\"]"
   ]
  },
  {
   "cell_type": "markdown",
   "metadata": {},
   "source": [
    "### Explore Tree"
   ]
  },
  {
   "cell_type": "code",
   "execution_count": 8,
   "metadata": {},
   "outputs": [
    {
     "name": "stdout",
     "output_type": "stream",
     "text": [
      "Passing rate slice ID:\n",
      "On \t23.27%\n",
      "Off \t14.61%\n",
      "MC \t43.93%\n",
      "NUE \t79.69%\n",
      "DRT \t22.50%\n"
     ]
    },
    {
     "data": {
      "application/javascript": [
       "\n",
       "            setTimeout(function() {\n",
       "                var nbb_cell_id = 8;\n",
       "                var nbb_formatted_code = \"print(\\\"Passing rate slice ID:\\\")\\nfor k, v in sample_info.items():\\n    pass_rate = sum(v[\\\"file\\\"][main_tree].array(\\\"n_pfps\\\") > 0) / v[\\\"numentries\\\"]\\n    print(k, \\\"\\\\t{:.2f}%\\\".format(pass_rate * 100))\";\n",
       "                var nbb_cells = Jupyter.notebook.get_cells();\n",
       "                for (var i = 0; i < nbb_cells.length; ++i) {\n",
       "                    if (nbb_cells[i].input_prompt_number == nbb_cell_id) {\n",
       "                        nbb_cells[i].set_text(nbb_formatted_code);\n",
       "                        break;\n",
       "                    }\n",
       "                }\n",
       "            }, 500);\n",
       "            "
      ],
      "text/plain": [
       "<IPython.core.display.Javascript object>"
      ]
     },
     "metadata": {},
     "output_type": "display_data"
    }
   ],
   "source": [
    "print(\"Passing rate slice ID:\")\n",
    "for k, v in sample_info.items():\n",
    "    pass_rate = sum(v[\"file\"][main_tree].array(\"n_pfps\") > 0) / v[\"numentries\"]\n",
    "    print(k, \"\\t{:.2f}%\".format(pass_rate * 100))"
   ]
  },
  {
   "cell_type": "code",
   "execution_count": 9,
   "metadata": {},
   "outputs": [
    {
     "name": "stdout",
     "output_type": "stream",
     "text": [
      "POT nue from sample: 9.282719e+22\n",
      "POT nue from scaling: 9.239795918367347e+22\n"
     ]
    },
    {
     "data": {
      "application/javascript": [
       "\n",
       "            setTimeout(function() {\n",
       "                var nbb_cell_id = 9;\n",
       "                var nbb_formatted_code = \"pot_nue = sample_info[\\\"NUE\\\"][\\\"file\\\"][\\\"SubRun\\\"].array(\\\"pot\\\").sum()\\nprint(\\\"POT nue from sample:\\\", pot_nue)\\npot_nue_scaling = sample_info[\\\"On\\\"][\\\"POT\\\"] / sample_info[\\\"NUE\\\"][\\\"scaling\\\"]\\nprint(\\\"POT nue from scaling:\\\", pot_nue_scaling)\";\n",
       "                var nbb_cells = Jupyter.notebook.get_cells();\n",
       "                for (var i = 0; i < nbb_cells.length; ++i) {\n",
       "                    if (nbb_cells[i].input_prompt_number == nbb_cell_id) {\n",
       "                        nbb_cells[i].set_text(nbb_formatted_code);\n",
       "                        break;\n",
       "                    }\n",
       "                }\n",
       "            }, 500);\n",
       "            "
      ],
      "text/plain": [
       "<IPython.core.display.Javascript object>"
      ]
     },
     "metadata": {},
     "output_type": "display_data"
    }
   ],
   "source": [
    "pot_nue = sample_info[\"NUE\"][\"file\"][\"SubRun\"].array(\"pot\").sum()\n",
    "print(\"POT nue from sample:\", pot_nue)\n",
    "pot_nue_scaling = sample_info[\"On\"][\"POT\"] / sample_info[\"NUE\"][\"scaling\"]\n",
    "print(\"POT nue from scaling:\", pot_nue_scaling)"
   ]
  },
  {
   "cell_type": "code",
   "execution_count": 10,
   "metadata": {
    "scrolled": false
   },
   "outputs": [
    {
     "data": {
      "application/javascript": [
       "\n",
       "            setTimeout(function() {\n",
       "                var nbb_cell_id = 10;\n",
       "                var nbb_formatted_code = \"fields = [f.decode() for f in sample_info[\\\"NUE\\\"][\\\"file\\\"][main_tree].keys()]\";\n",
       "                var nbb_cells = Jupyter.notebook.get_cells();\n",
       "                for (var i = 0; i < nbb_cells.length; ++i) {\n",
       "                    if (nbb_cells[i].input_prompt_number == nbb_cell_id) {\n",
       "                        nbb_cells[i].set_text(nbb_formatted_code);\n",
       "                        break;\n",
       "                    }\n",
       "                }\n",
       "            }, 500);\n",
       "            "
      ],
      "text/plain": [
       "<IPython.core.display.Javascript object>"
      ]
     },
     "metadata": {},
     "output_type": "display_data"
    }
   ],
   "source": [
    "fields = [f.decode() for f in sample_info[\"NUE\"][\"file\"][main_tree].keys()]"
   ]
  },
  {
   "cell_type": "code",
   "execution_count": 11,
   "metadata": {},
   "outputs": [
    {
     "data": {
      "application/javascript": [
       "\n",
       "            setTimeout(function() {\n",
       "                var nbb_cell_id = 11;\n",
       "                var nbb_formatted_code = \"shr_fields = [f for f in fields if f.startswith(\\\"shr_\\\") and f.endswith(\\\"_v\\\")]\\ntrk_fields = [f for f in fields if f.startswith(\\\"trk_\\\") and f.endswith(\\\"_v\\\")]\\nbackracked_fields = [f for f in fields if f.startswith(\\\"backtracked_\\\")]\\nmc_fields = [f for f in fields if f.startswith((\\\"true_\\\", \\\"mc_\\\"))]\\nother_fields = (\\n    set(fields)\\n    - set(shr_fields)\\n    - set(trk_fields)\\n    - set(backracked_fields)\\n    - set(mc_fields)\\n)\";\n",
       "                var nbb_cells = Jupyter.notebook.get_cells();\n",
       "                for (var i = 0; i < nbb_cells.length; ++i) {\n",
       "                    if (nbb_cells[i].input_prompt_number == nbb_cell_id) {\n",
       "                        nbb_cells[i].set_text(nbb_formatted_code);\n",
       "                        break;\n",
       "                    }\n",
       "                }\n",
       "            }, 500);\n",
       "            "
      ],
      "text/plain": [
       "<IPython.core.display.Javascript object>"
      ]
     },
     "metadata": {},
     "output_type": "display_data"
    }
   ],
   "source": [
    "shr_fields = [f for f in fields if f.startswith(\"shr_\") and f.endswith(\"_v\")]\n",
    "trk_fields = [f for f in fields if f.startswith(\"trk_\") and f.endswith(\"_v\")]\n",
    "backracked_fields = [f for f in fields if f.startswith(\"backtracked_\")]\n",
    "mc_fields = [f for f in fields if f.startswith((\"true_\", \"mc_\"))]\n",
    "other_fields = (\n",
    "    set(fields)\n",
    "    - set(shr_fields)\n",
    "    - set(trk_fields)\n",
    "    - set(backracked_fields)\n",
    "    - set(mc_fields)\n",
    ")"
   ]
  },
  {
   "cell_type": "code",
   "execution_count": 12,
   "metadata": {
    "scrolled": true
   },
   "outputs": [
    {
     "data": {
      "text/plain": [
       "['true_pt',\n",
       " 'true_pt_visible',\n",
       " 'true_p',\n",
       " 'true_p_visible',\n",
       " 'true_e_visible',\n",
       " 'true_nu_vtx_t',\n",
       " 'true_nu_vtx_x',\n",
       " 'true_nu_vtx_y',\n",
       " 'true_nu_vtx_z',\n",
       " 'true_nu_vtx_sce_x',\n",
       " 'true_nu_vtx_sce_y',\n",
       " 'true_nu_vtx_sce_z',\n",
       " 'mc_pdg',\n",
       " 'mc_E',\n",
       " 'mc_vx',\n",
       " 'mc_vy',\n",
       " 'mc_vz',\n",
       " 'mc_endx',\n",
       " 'mc_endy',\n",
       " 'mc_endz',\n",
       " 'mc_px',\n",
       " 'mc_py',\n",
       " 'mc_pz',\n",
       " 'mc_completeness',\n",
       " 'mc_purity']"
      ]
     },
     "execution_count": 12,
     "metadata": {},
     "output_type": "execute_result"
    },
    {
     "data": {
      "application/javascript": [
       "\n",
       "            setTimeout(function() {\n",
       "                var nbb_cell_id = 12;\n",
       "                var nbb_formatted_code = \"mc_fields\";\n",
       "                var nbb_cells = Jupyter.notebook.get_cells();\n",
       "                for (var i = 0; i < nbb_cells.length; ++i) {\n",
       "                    if (nbb_cells[i].input_prompt_number == nbb_cell_id) {\n",
       "                        nbb_cells[i].set_text(nbb_formatted_code);\n",
       "                        break;\n",
       "                    }\n",
       "                }\n",
       "            }, 500);\n",
       "            "
      ],
      "text/plain": [
       "<IPython.core.display.Javascript object>"
      ]
     },
     "metadata": {},
     "output_type": "display_data"
    }
   ],
   "source": [
    "mc_fields"
   ]
  },
  {
   "cell_type": "code",
   "execution_count": 13,
   "metadata": {
    "scrolled": true
   },
   "outputs": [
    {
     "data": {
      "text/plain": [
       "['trk_score_v',\n",
       " 'trk_bragg_p_v',\n",
       " 'trk_bragg_mu_v',\n",
       " 'trk_bragg_mip_v',\n",
       " 'trk_pida_v',\n",
       " 'trk_pid_chipr_v',\n",
       " 'trk_pid_chipi_v',\n",
       " 'trk_pid_chika_v',\n",
       " 'trk_pid_chimu_v',\n",
       " 'trk_bragg_p_u_v',\n",
       " 'trk_bragg_mu_u_v',\n",
       " 'trk_bragg_mip_u_v',\n",
       " 'trk_pida_u_v',\n",
       " 'trk_pid_chipr_u_v',\n",
       " 'trk_pid_chipi_u_v',\n",
       " 'trk_pid_chika_u_v',\n",
       " 'trk_pid_chimu_u_v',\n",
       " 'trk_bragg_p_v_v',\n",
       " 'trk_bragg_mu_v_v',\n",
       " 'trk_bragg_mip_v_v',\n",
       " 'trk_pida_v_v',\n",
       " 'trk_pid_chipr_v_v',\n",
       " 'trk_pid_chipi_v_v',\n",
       " 'trk_pid_chika_v_v',\n",
       " 'trk_pid_chimu_v_v',\n",
       " 'trk_pfp_id_v',\n",
       " 'trk_dir_x_v',\n",
       " 'trk_dir_y_v',\n",
       " 'trk_dir_z_v',\n",
       " 'trk_start_x_v',\n",
       " 'trk_start_y_v',\n",
       " 'trk_start_z_v',\n",
       " 'trk_end_x_v',\n",
       " 'trk_end_y_v',\n",
       " 'trk_end_z_v',\n",
       " 'trk_distance_v',\n",
       " 'trk_theta_v',\n",
       " 'trk_phi_v',\n",
       " 'trk_len_v',\n",
       " 'trk_mcs_muon_mom_v',\n",
       " 'trk_energy_proton_v',\n",
       " 'trk_energy_muon_v']"
      ]
     },
     "execution_count": 13,
     "metadata": {},
     "output_type": "execute_result"
    },
    {
     "data": {
      "application/javascript": [
       "\n",
       "            setTimeout(function() {\n",
       "                var nbb_cell_id = 13;\n",
       "                var nbb_formatted_code = \"trk_fields\";\n",
       "                var nbb_cells = Jupyter.notebook.get_cells();\n",
       "                for (var i = 0; i < nbb_cells.length; ++i) {\n",
       "                    if (nbb_cells[i].input_prompt_number == nbb_cell_id) {\n",
       "                        nbb_cells[i].set_text(nbb_formatted_code);\n",
       "                        break;\n",
       "                    }\n",
       "                }\n",
       "            }, 500);\n",
       "            "
      ],
      "text/plain": [
       "<IPython.core.display.Javascript object>"
      ]
     },
     "metadata": {},
     "output_type": "display_data"
    }
   ],
   "source": [
    "trk_fields"
   ]
  },
  {
   "cell_type": "code",
   "execution_count": 14,
   "metadata": {
    "scrolled": true
   },
   "outputs": [
    {
     "data": {
      "text/plain": [
       "['shr_dedx_u_v',\n",
       " 'shr_dedx_v_v',\n",
       " 'shr_dedx_y_v',\n",
       " 'shr_energy_u_v',\n",
       " 'shr_energy_v_v',\n",
       " 'shr_energy_y_v',\n",
       " 'shr_pfp_id_v',\n",
       " 'shr_start_x_v',\n",
       " 'shr_start_y_v',\n",
       " 'shr_start_z_v',\n",
       " 'shr_start_U_v',\n",
       " 'shr_start_V_v',\n",
       " 'shr_dist_v',\n",
       " 'shr_nclus_v',\n",
       " 'shr_clushitfrac_v',\n",
       " 'shr_px_v',\n",
       " 'shr_py_v',\n",
       " 'shr_pz_v',\n",
       " 'shr_openangle_v',\n",
       " 'shr_theta_v',\n",
       " 'shr_phi_v',\n",
       " 'shr_tkfit_nhits_v',\n",
       " 'shr_tkfit_start_x_v',\n",
       " 'shr_tkfit_start_y_v',\n",
       " 'shr_tkfit_start_z_v',\n",
       " 'shr_tkfit_start_U_v',\n",
       " 'shr_tkfit_start_V_v',\n",
       " 'shr_tkfit_theta_v',\n",
       " 'shr_tkfit_phi_v',\n",
       " 'shr_tkfit_dedx_u_v',\n",
       " 'shr_tkfit_dedx_v_v',\n",
       " 'shr_tkfit_dedx_y_v',\n",
       " 'shr_tkfit_dedx_nhits_u_v',\n",
       " 'shr_tkfit_dedx_nhits_v_v',\n",
       " 'shr_tkfit_dedx_nhits_y_v',\n",
       " 'shr_spacepoint_start_x_v',\n",
       " 'shr_spacepoint_start_y_v',\n",
       " 'shr_spacepoint_start_z_v',\n",
       " 'shr_spacepoint_start_U_v',\n",
       " 'shr_spacepoint_start_V_v',\n",
       " 'shr_hits_start_U_wire_v',\n",
       " 'shr_hits_start_U_x_v',\n",
       " 'shr_hits_start_V_wire_v',\n",
       " 'shr_hits_start_V_x_v',\n",
       " 'shr_hits_start_Y_wire_v',\n",
       " 'shr_hits_start_Y_x_v']"
      ]
     },
     "execution_count": 14,
     "metadata": {},
     "output_type": "execute_result"
    },
    {
     "data": {
      "application/javascript": [
       "\n",
       "            setTimeout(function() {\n",
       "                var nbb_cell_id = 14;\n",
       "                var nbb_formatted_code = \"shr_fields\";\n",
       "                var nbb_cells = Jupyter.notebook.get_cells();\n",
       "                for (var i = 0; i < nbb_cells.length; ++i) {\n",
       "                    if (nbb_cells[i].input_prompt_number == nbb_cell_id) {\n",
       "                        nbb_cells[i].set_text(nbb_formatted_code);\n",
       "                        break;\n",
       "                    }\n",
       "                }\n",
       "            }, 500);\n",
       "            "
      ],
      "text/plain": [
       "<IPython.core.display.Javascript object>"
      ]
     },
     "metadata": {},
     "output_type": "display_data"
    }
   ],
   "source": [
    "shr_fields"
   ]
  },
  {
   "cell_type": "code",
   "execution_count": 15,
   "metadata": {
    "scrolled": true
   },
   "outputs": [
    {
     "data": {
      "text/plain": [
       "['backtracked_pdg',\n",
       " 'backtracked_e',\n",
       " 'backtracked_purity',\n",
       " 'backtracked_completeness',\n",
       " 'backtracked_overlay_purity',\n",
       " 'backtracked_px',\n",
       " 'backtracked_py',\n",
       " 'backtracked_pz',\n",
       " 'backtracked_start_x',\n",
       " 'backtracked_start_y',\n",
       " 'backtracked_start_z',\n",
       " 'backtracked_start_t',\n",
       " 'backtracked_start_U',\n",
       " 'backtracked_start_V',\n",
       " 'backtracked_start_Y',\n",
       " 'backtracked_sce_start_x',\n",
       " 'backtracked_sce_start_y',\n",
       " 'backtracked_sce_start_z',\n",
       " 'backtracked_sce_start_U',\n",
       " 'backtracked_sce_start_V',\n",
       " 'backtracked_sce_start_Y']"
      ]
     },
     "execution_count": 15,
     "metadata": {},
     "output_type": "execute_result"
    },
    {
     "data": {
      "application/javascript": [
       "\n",
       "            setTimeout(function() {\n",
       "                var nbb_cell_id = 15;\n",
       "                var nbb_formatted_code = \"backracked_fields\";\n",
       "                var nbb_cells = Jupyter.notebook.get_cells();\n",
       "                for (var i = 0; i < nbb_cells.length; ++i) {\n",
       "                    if (nbb_cells[i].input_prompt_number == nbb_cell_id) {\n",
       "                        nbb_cells[i].set_text(nbb_formatted_code);\n",
       "                        break;\n",
       "                    }\n",
       "                }\n",
       "            }, 500);\n",
       "            "
      ],
      "text/plain": [
       "<IPython.core.display.Javascript object>"
      ]
     },
     "metadata": {},
     "output_type": "display_data"
    }
   ],
   "source": [
    "backracked_fields"
   ]
  },
  {
   "cell_type": "code",
   "execution_count": 16,
   "metadata": {
    "scrolled": true
   },
   "outputs": [
    {
     "data": {
      "text/plain": [
       "{'CosmicIP',\n",
       " 'bdt_cosmic',\n",
       " 'bdt_ext',\n",
       " 'bdt_global',\n",
       " 'bdt_nuNCpi0',\n",
       " 'bdt_numuCC',\n",
       " 'bdt_numuCCpi0',\n",
       " 'best_cosmic_flashmatch_score',\n",
       " 'best_obviouscosmic_flashmatch_score',\n",
       " 'category',\n",
       " 'ccnc',\n",
       " 'contained_fraction',\n",
       " 'cosmic_flashmatch_score_v',\n",
       " 'crthitpe',\n",
       " 'crtveto',\n",
       " 'dmc_boundary',\n",
       " 'dshr_boundary',\n",
       " 'dshr_x_boundary',\n",
       " 'dshr_y_boundary',\n",
       " 'dshr_z_boundary',\n",
       " 'dtrk',\n",
       " 'dtrk_boundary',\n",
       " 'dtrk_x_boundary',\n",
       " 'dtrk_y_boundary',\n",
       " 'dtrk_z_boundary',\n",
       " 'dvtx',\n",
       " 'dvtx_boundary',\n",
       " 'dvtx_x_boundary',\n",
       " 'dvtx_y_boundary',\n",
       " 'dvtx_z_boundary',\n",
       " 'elec_c',\n",
       " 'elec_dist',\n",
       " 'elec_e',\n",
       " 'elec_edep',\n",
       " 'elec_etot',\n",
       " 'elec_p',\n",
       " 'elec_parent',\n",
       " 'elec_vx',\n",
       " 'elec_vy',\n",
       " 'elec_vz',\n",
       " 'endmuonmichel',\n",
       " 'endmuonprocess',\n",
       " 'evgamnhits',\n",
       " 'evlepnhits',\n",
       " 'evneunhits',\n",
       " 'evnhits',\n",
       " 'evnunhits',\n",
       " 'evothnhits',\n",
       " 'evpi0nhits',\n",
       " 'evpi1nhits',\n",
       " 'evpronhits',\n",
       " 'evt',\n",
       " 'extra_energy_y',\n",
       " 'frac_slnoise_pl1',\n",
       " 'gamma1_edep',\n",
       " 'gamma1_etot',\n",
       " 'gamma2_edep',\n",
       " 'gamma2_etot',\n",
       " 'gamma_dist',\n",
       " 'gamma_edep',\n",
       " 'gamma_etot',\n",
       " 'gamma_parent',\n",
       " 'hits_ratio',\n",
       " 'hits_u',\n",
       " 'hits_v',\n",
       " 'hits_y',\n",
       " 'interaction',\n",
       " 'isVtxInActive',\n",
       " 'isVtxInFiducial',\n",
       " 'leeweight',\n",
       " 'lep_e',\n",
       " 'matched_E',\n",
       " 'muon_c',\n",
       " 'muon_e',\n",
       " 'muon_p',\n",
       " 'n_pfps',\n",
       " 'n_showers',\n",
       " 'n_showers_contained',\n",
       " 'n_tracks',\n",
       " 'n_tracks_contained',\n",
       " 'nelec',\n",
       " 'nflag_pl1',\n",
       " 'nhits_pl1',\n",
       " 'nmuon',\n",
       " 'nneutron',\n",
       " 'nnoise_pl1',\n",
       " 'npi0',\n",
       " 'npion',\n",
       " 'nproton',\n",
       " 'nslhits_pl1',\n",
       " 'nslice',\n",
       " 'nslnoise_pl1',\n",
       " 'nu_e',\n",
       " 'nu_flashmatch_score',\n",
       " 'nu_pdg',\n",
       " 'nu_pt',\n",
       " 'nu_sce_x',\n",
       " 'nu_sce_y',\n",
       " 'nu_sce_z',\n",
       " 'nu_vtx_x',\n",
       " 'nu_vtx_y',\n",
       " 'nu_vtx_z',\n",
       " 'p',\n",
       " 'pass',\n",
       " 'pfgamnhits',\n",
       " 'pflepnhits',\n",
       " 'pfneunhits',\n",
       " 'pfnhits',\n",
       " 'pfnplanehits_U',\n",
       " 'pfnplanehits_V',\n",
       " 'pfnplanehits_Y',\n",
       " 'pfnunhits',\n",
       " 'pfothnhits',\n",
       " 'pfp_slice_idx',\n",
       " 'pfpdg',\n",
       " 'pfpi0nhits',\n",
       " 'pfpi1nhits',\n",
       " 'pfpronhits',\n",
       " 'pi0_c',\n",
       " 'pi0_e',\n",
       " 'pi0_p',\n",
       " 'pion_c',\n",
       " 'pion_e',\n",
       " 'pion_p',\n",
       " 'proton_c',\n",
       " 'proton_e',\n",
       " 'proton_p',\n",
       " 'pt',\n",
       " 'reco_nu_vtx_sce_x',\n",
       " 'reco_nu_vtx_sce_y',\n",
       " 'reco_nu_vtx_sce_z',\n",
       " 'reco_nu_vtx_x',\n",
       " 'reco_nu_vtx_y',\n",
       " 'reco_nu_vtx_z',\n",
       " 'run',\n",
       " 'selected',\n",
       " 'shr_bkt_E',\n",
       " 'shr_bkt_completeness',\n",
       " 'shr_bkt_pdg',\n",
       " 'shr_bkt_purity',\n",
       " 'shr_bragg_kaon',\n",
       " 'shr_bragg_mip',\n",
       " 'shr_bragg_mu',\n",
       " 'shr_bragg_p',\n",
       " 'shr_bragg_pion',\n",
       " 'shr_chimu',\n",
       " 'shr_chipr',\n",
       " 'shr_dedx_U',\n",
       " 'shr_dedx_U_cali',\n",
       " 'shr_dedx_V',\n",
       " 'shr_dedx_V_cali',\n",
       " 'shr_dedx_Y',\n",
       " 'shr_dedx_Y_cali',\n",
       " 'shr_distance',\n",
       " 'shr_energy',\n",
       " 'shr_energy_cali',\n",
       " 'shr_energy_tot',\n",
       " 'shr_energy_tot_cali',\n",
       " 'shr_hits_max',\n",
       " 'shr_hits_tot',\n",
       " 'shr_hits_u_tot',\n",
       " 'shr_hits_v_tot',\n",
       " 'shr_hits_y_tot',\n",
       " 'shr_id',\n",
       " 'shr_openangle',\n",
       " 'shr_pca_0',\n",
       " 'shr_pca_1',\n",
       " 'shr_pca_2',\n",
       " 'shr_phi',\n",
       " 'shr_px',\n",
       " 'shr_py',\n",
       " 'shr_pz',\n",
       " 'shr_score',\n",
       " 'shr_start_x',\n",
       " 'shr_start_y',\n",
       " 'shr_start_z',\n",
       " 'shr_theta',\n",
       " 'shr_tkfit_dedx_U',\n",
       " 'shr_tkfit_dedx_V',\n",
       " 'shr_tkfit_dedx_Y',\n",
       " 'shr_tkfit_nhits_U',\n",
       " 'shr_tkfit_nhits_V',\n",
       " 'shr_tkfit_nhits_Y',\n",
       " 'shr_tkfit_phi',\n",
       " 'shr_tkfit_start_x',\n",
       " 'shr_tkfit_start_y',\n",
       " 'shr_tkfit_start_z',\n",
       " 'shr_tkfit_theta',\n",
       " 'slclustfrac',\n",
       " 'slgamnhits',\n",
       " 'sllepnhits',\n",
       " 'slneunhits',\n",
       " 'slnhits',\n",
       " 'slnunhits',\n",
       " 'slothnhits',\n",
       " 'slpdg',\n",
       " 'slpi0nhits',\n",
       " 'slpi1nhits',\n",
       " 'slpronhits',\n",
       " 'sub',\n",
       " 'swtrig',\n",
       " 'theta',\n",
       " 'tksh_angle',\n",
       " 'tksh_distance',\n",
       " 'topological_score',\n",
       " 'total_hits_y',\n",
       " 'trk_bkt_E',\n",
       " 'trk_bkt_completeness',\n",
       " 'trk_bkt_pdg',\n",
       " 'trk_bkt_purity',\n",
       " 'trk_bragg_kaon',\n",
       " 'trk_bragg_mip',\n",
       " 'trk_bragg_mu',\n",
       " 'trk_bragg_p',\n",
       " 'trk_bragg_pion',\n",
       " 'trk_chimu',\n",
       " 'trk_chipr',\n",
       " 'trk_chipr_best',\n",
       " 'trk_chipr_worst',\n",
       " 'trk_distance',\n",
       " 'trk_energy',\n",
       " 'trk_energy_hits_tot',\n",
       " 'trk_energy_tot',\n",
       " 'trk_hits_max',\n",
       " 'trk_hits_tot',\n",
       " 'trk_hits_u_tot',\n",
       " 'trk_hits_v_tot',\n",
       " 'trk_hits_y_tot',\n",
       " 'trk_id',\n",
       " 'trk_len',\n",
       " 'trk_phi',\n",
       " 'trk_pida',\n",
       " 'trk_score',\n",
       " 'trk_theta',\n",
       " 'vtx_x',\n",
       " 'vtx_y',\n",
       " 'vtx_z',\n",
       " 'weightSpline',\n",
       " 'weights',\n",
       " 'weightsFlux',\n",
       " 'weightsGenie',\n",
       " 'weightsReint',\n",
       " 'xsceoffset',\n",
       " 'xtimeoffset',\n",
       " 'ysceoffset',\n",
       " 'zsceoffset'}"
      ]
     },
     "execution_count": 16,
     "metadata": {},
     "output_type": "execute_result"
    },
    {
     "data": {
      "application/javascript": [
       "\n",
       "            setTimeout(function() {\n",
       "                var nbb_cell_id = 16;\n",
       "                var nbb_formatted_code = \"other_fields\";\n",
       "                var nbb_cells = Jupyter.notebook.get_cells();\n",
       "                for (var i = 0; i < nbb_cells.length; ++i) {\n",
       "                    if (nbb_cells[i].input_prompt_number == nbb_cell_id) {\n",
       "                        nbb_cells[i].set_text(nbb_formatted_code);\n",
       "                        break;\n",
       "                    }\n",
       "                }\n",
       "            }, 500);\n",
       "            "
      ],
      "text/plain": [
       "<IPython.core.display.Javascript object>"
      ]
     },
     "metadata": {},
     "output_type": "display_data"
    }
   ],
   "source": [
    "other_fields"
   ]
  },
  {
   "cell_type": "code",
   "execution_count": 17,
   "metadata": {},
   "outputs": [
    {
     "data": {
      "text/plain": [
       "['interaction',\n",
       " 'weightsReint',\n",
       " 'shr_spacepoint_start_x_v',\n",
       " 'shr_spacepoint_start_y_v',\n",
       " 'shr_spacepoint_start_z_v',\n",
       " 'shr_spacepoint_start_U_v',\n",
       " 'shr_spacepoint_start_V_v']"
      ]
     },
     "execution_count": 17,
     "metadata": {},
     "output_type": "execute_result"
    },
    {
     "data": {
      "application/javascript": [
       "\n",
       "            setTimeout(function() {\n",
       "                var nbb_cell_id = 17;\n",
       "                var nbb_formatted_code = \"# search through fields:\\n[f for f in fields if \\\"int\\\" in f]\";\n",
       "                var nbb_cells = Jupyter.notebook.get_cells();\n",
       "                for (var i = 0; i < nbb_cells.length; ++i) {\n",
       "                    if (nbb_cells[i].input_prompt_number == nbb_cell_id) {\n",
       "                        nbb_cells[i].set_text(nbb_formatted_code);\n",
       "                        break;\n",
       "                    }\n",
       "                }\n",
       "            }, 500);\n",
       "            "
      ],
      "text/plain": [
       "<IPython.core.display.Javascript object>"
      ]
     },
     "metadata": {},
     "output_type": "display_data"
    }
   ],
   "source": [
    "# search through fields:\n",
    "[f for f in fields if \"int\" in f]"
   ]
  },
  {
   "cell_type": "markdown",
   "metadata": {},
   "source": [
    "### Load into Pandas\n",
    "At some point, you might need: for df in file.pandas.iterate"
   ]
  },
  {
   "cell_type": "code",
   "execution_count": 18,
   "metadata": {},
   "outputs": [
    {
     "data": {
      "application/javascript": [
       "\n",
       "            setTimeout(function() {\n",
       "                var nbb_cell_id = 18;\n",
       "                var nbb_formatted_code = \"col_pfp = [\\\"pfnplanehits_U\\\", \\\"pfnplanehits_V\\\", \\\"pfnplanehits_Y\\\"]\\ncol_trk = [\\\"trk_score_v\\\", \\\"trk_distance_v\\\"]\\ncol_shr = [\\\"shr_dist_v\\\", \\\"shr_energy_y_v\\\"]\\ncol_backtracked = [\\\"backtracked_pdg\\\", \\\"backtracked_e\\\", \\\"backtracked_completeness\\\"]\\ncol_mc = [\\n    \\\"true_nu_vtx_x\\\",\\n    \\\"true_nu_vtx_y\\\",\\n    \\\"true_nu_vtx_z\\\",\\n    \\\"true_nu_vtx_sce_x\\\",\\n    \\\"true_nu_vtx_sce_y\\\",\\n    \\\"true_nu_vtx_sce_z\\\",\\n    \\\"nu_e\\\",\\n    \\\"nu_pdg\\\",\\n    \\\"theta\\\",\\n    \\\"ccnc\\\",\\n    \\\"interaction\\\",\\n    \\\"weightSpline\\\",\\n    \\\"leeweight\\\",\\n]\\ncol_event = [\\n    \\\"run\\\",\\n    \\\"sub\\\",\\n    \\\"evt\\\",\\n    \\\"topological_score\\\",\\n    \\\"n_pfps\\\",\\n    \\\"n_showers\\\",\\n    \\\"n_tracks\\\",\\n    \\\"reco_nu_vtx_sce_x\\\",\\n    \\\"reco_nu_vtx_sce_y\\\",\\n    \\\"reco_nu_vtx_sce_z\\\",\\n    \\\"reco_nu_vtx_x\\\",\\n    \\\"reco_nu_vtx_y\\\",\\n    \\\"reco_nu_vtx_z\\\",\\n    \\\"crtveto\\\",\\n    \\\"slclustfrac\\\",\\n]\\n\\ncols_flatten = col_trk + col_shr + col_pfp\\ncols_reco = col_event + cols_flatten\";\n",
       "                var nbb_cells = Jupyter.notebook.get_cells();\n",
       "                for (var i = 0; i < nbb_cells.length; ++i) {\n",
       "                    if (nbb_cells[i].input_prompt_number == nbb_cell_id) {\n",
       "                        nbb_cells[i].set_text(nbb_formatted_code);\n",
       "                        break;\n",
       "                    }\n",
       "                }\n",
       "            }, 500);\n",
       "            "
      ],
      "text/plain": [
       "<IPython.core.display.Javascript object>"
      ]
     },
     "metadata": {},
     "output_type": "display_data"
    }
   ],
   "source": [
    "col_pfp = [\"pfnplanehits_U\", \"pfnplanehits_V\", \"pfnplanehits_Y\"]\n",
    "col_trk = [\"trk_score_v\", \"trk_distance_v\"]\n",
    "col_shr = [\"shr_dist_v\", \"shr_energy_y_v\"]\n",
    "col_backtracked = [\"backtracked_pdg\", \"backtracked_e\", \"backtracked_completeness\"]\n",
    "col_mc = [\n",
    "    \"true_nu_vtx_x\",\n",
    "    \"true_nu_vtx_y\",\n",
    "    \"true_nu_vtx_z\",\n",
    "    \"true_nu_vtx_sce_x\",\n",
    "    \"true_nu_vtx_sce_y\",\n",
    "    \"true_nu_vtx_sce_z\",\n",
    "    \"nu_e\",\n",
    "    \"nu_pdg\",\n",
    "    \"theta\",\n",
    "    \"ccnc\",\n",
    "    \"interaction\",\n",
    "    \"weightSpline\",\n",
    "    \"leeweight\",\n",
    "]\n",
    "col_event = [\n",
    "    \"run\",\n",
    "    \"sub\",\n",
    "    \"evt\",\n",
    "    \"topological_score\",\n",
    "    \"n_pfps\",\n",
    "    \"n_showers\",\n",
    "    \"n_tracks\",\n",
    "    \"reco_nu_vtx_sce_x\",\n",
    "    \"reco_nu_vtx_sce_y\",\n",
    "    \"reco_nu_vtx_sce_z\",\n",
    "    \"reco_nu_vtx_x\",\n",
    "    \"reco_nu_vtx_y\",\n",
    "    \"reco_nu_vtx_z\",\n",
    "    \"crtveto\",\n",
    "    \"slclustfrac\",\n",
    "]\n",
    "\n",
    "cols_flatten = col_trk + col_shr + col_pfp\n",
    "cols_reco = col_event + cols_flatten"
   ]
  },
  {
   "cell_type": "code",
   "execution_count": 19,
   "metadata": {},
   "outputs": [
    {
     "name": "stdout",
     "output_type": "stream",
     "text": [
      "On\n",
      "Off\n",
      "MC\n",
      "NUE\n",
      "DRT\n",
      "CPU times: user 22.4 s, sys: 300 ms, total: 22.7 s\n",
      "Wall time: 20.7 s\n"
     ]
    },
    {
     "data": {
      "application/javascript": [
       "\n",
       "            setTimeout(function() {\n",
       "                var nbb_cell_id = 19;\n",
       "                var nbb_formatted_code = \"%%time\\n# Load the sample daughter frames\\nfor k, v in sample_info.items():\\n    print(k)\\n    cols_load = cols_reco.copy()\\n    if k in mc_samples:\\n        cols_load+= (col_mc+col_backtracked)\\n    v['daughters'] = v[\\\"file\\\"][main_tree].pandas.df(cols_load, flatten=True)\\n    v['daughters'].index.names = ['event', 'daughter']\";\n",
       "                var nbb_cells = Jupyter.notebook.get_cells();\n",
       "                for (var i = 0; i < nbb_cells.length; ++i) {\n",
       "                    if (nbb_cells[i].input_prompt_number == nbb_cell_id) {\n",
       "                        nbb_cells[i].set_text(nbb_formatted_code);\n",
       "                        break;\n",
       "                    }\n",
       "                }\n",
       "            }, 500);\n",
       "            "
      ],
      "text/plain": [
       "<IPython.core.display.Javascript object>"
      ]
     },
     "metadata": {},
     "output_type": "display_data"
    }
   ],
   "source": [
    "%%time\n",
    "# Load the sample daughter frames\n",
    "for k, v in sample_info.items():\n",
    "    print(k)\n",
    "    cols_load = cols_reco.copy()\n",
    "    if k in mc_samples:\n",
    "        cols_load+= (col_mc+col_backtracked)\n",
    "    v['daughters'] = v[\"file\"][main_tree].pandas.df(cols_load, flatten=True)\n",
    "    v['daughters'].index.names = ['event', 'daughter']"
   ]
  },
  {
   "cell_type": "code",
   "execution_count": 20,
   "metadata": {},
   "outputs": [
    {
     "name": "stdout",
     "output_type": "stream",
     "text": [
      "Nue signal passing the Slice ID \t84.78%\n"
     ]
    },
    {
     "data": {
      "application/javascript": [
       "\n",
       "            setTimeout(function() {\n",
       "                var nbb_cell_id = 20;\n",
       "                var nbb_formatted_code = \"# Only for signal sample:\\ntable_cols = [\\n    \\\"mc_pdg\\\",\\n    \\\"mc_E\\\",\\n    \\\"theta\\\",\\n    \\\"true_nu_vtx_x\\\",\\n    \\\"true_nu_vtx_y\\\",\\n    \\\"true_nu_vtx_z\\\",\\n    \\\"n_pfps\\\",\\n    \\\"interaction\\\",\\n    \\\"weightSpline\\\",\\n    \\\"leeweight\\\",\\n]\\nnue_mc_arrays = sample_info[\\\"NUE\\\"][\\\"file\\\"][main_tree].arrays(\\n    table_cols, namedecode=\\\"utf-8\\\"\\n)\\nnue_mc_arrays[\\\"leeweight\\\"] *= nue_mc_arrays[\\\"weightSpline\\\"]\\n\\nhas_proton = (\\n    nue_mc_arrays[\\\"mc_E\\\"][nue_mc_arrays[\\\"mc_pdg\\\"] == 2212] > min_p_energy\\n).any()\\nhas_electron = (\\n    nue_mc_arrays[\\\"mc_E\\\"][nue_mc_arrays[\\\"mc_pdg\\\"] == 11] > min_e_energy\\n).any()\\nhas_fiducial_vtx = helper.is_fid(\\n    nue_mc_arrays[\\\"true_nu_vtx_x\\\"],\\n    nue_mc_arrays[\\\"true_nu_vtx_y\\\"],\\n    nue_mc_arrays[\\\"true_nu_vtx_z\\\"],\\n)\\n\\nsignal_mask = has_fiducial_vtx & has_electron\\nsample_info[\\\"NUE\\\"][\\\"daughters\\\"][\\\"nueccinc\\\"] = np.repeat(\\n    signal_mask, nue_mc_arrays[\\\"n_pfps\\\"]\\n)\\nsample_info[\\\"NUE\\\"][\\\"mc\\\"] = nue_mc_arrays\\n\\npass_rate = sum((signal_mask * nue_mc_arrays[\\\"n_pfps\\\"]) > 0) / sum(signal_mask)\\nprint(\\\"Nue signal passing the Slice ID \\\\t{:.2f}%\\\".format(pass_rate * 100))\";\n",
       "                var nbb_cells = Jupyter.notebook.get_cells();\n",
       "                for (var i = 0; i < nbb_cells.length; ++i) {\n",
       "                    if (nbb_cells[i].input_prompt_number == nbb_cell_id) {\n",
       "                        nbb_cells[i].set_text(nbb_formatted_code);\n",
       "                        break;\n",
       "                    }\n",
       "                }\n",
       "            }, 500);\n",
       "            "
      ],
      "text/plain": [
       "<IPython.core.display.Javascript object>"
      ]
     },
     "metadata": {},
     "output_type": "display_data"
    }
   ],
   "source": [
    "# Only for signal sample:\n",
    "table_cols = [\n",
    "    \"mc_pdg\",\n",
    "    \"mc_E\",\n",
    "    \"theta\",\n",
    "    \"true_nu_vtx_x\",\n",
    "    \"true_nu_vtx_y\",\n",
    "    \"true_nu_vtx_z\",\n",
    "    \"n_pfps\",\n",
    "    \"interaction\",\n",
    "    \"weightSpline\",\n",
    "    \"leeweight\",\n",
    "]\n",
    "nue_mc_arrays = sample_info[\"NUE\"][\"file\"][main_tree].arrays(\n",
    "    table_cols, namedecode=\"utf-8\"\n",
    ")\n",
    "nue_mc_arrays[\"leeweight\"] *= nue_mc_arrays[\"weightSpline\"]\n",
    "\n",
    "has_proton = (\n",
    "    nue_mc_arrays[\"mc_E\"][nue_mc_arrays[\"mc_pdg\"] == 2212] > min_p_energy\n",
    ").any()\n",
    "has_electron = (\n",
    "    nue_mc_arrays[\"mc_E\"][nue_mc_arrays[\"mc_pdg\"] == 11] > min_e_energy\n",
    ").any()\n",
    "has_fiducial_vtx = helper.is_fid(\n",
    "    nue_mc_arrays[\"true_nu_vtx_x\"],\n",
    "    nue_mc_arrays[\"true_nu_vtx_y\"],\n",
    "    nue_mc_arrays[\"true_nu_vtx_z\"],\n",
    ")\n",
    "\n",
    "signal_mask = has_fiducial_vtx & has_electron\n",
    "sample_info[\"NUE\"][\"daughters\"][\"nueccinc\"] = np.repeat(\n",
    "    signal_mask, nue_mc_arrays[\"n_pfps\"]\n",
    ")\n",
    "sample_info[\"NUE\"][\"mc\"] = nue_mc_arrays\n",
    "\n",
    "pass_rate = sum((signal_mask * nue_mc_arrays[\"n_pfps\"]) > 0) / sum(signal_mask)\n",
    "print(\"Nue signal passing the Slice ID \\t{:.2f}%\".format(pass_rate * 100))"
   ]
  },
  {
   "cell_type": "markdown",
   "metadata": {},
   "source": [
    "### Add fields"
   ]
  },
  {
   "cell_type": "code",
   "execution_count": 21,
   "metadata": {},
   "outputs": [
    {
     "name": "stdout",
     "output_type": "stream",
     "text": [
      "CPU times: user 2.16 s, sys: 56 ms, total: 2.22 s\n",
      "Wall time: 1.66 s\n"
     ]
    },
    {
     "data": {
      "application/javascript": [
       "\n",
       "            setTimeout(function() {\n",
       "                var nbb_cell_id = 21;\n",
       "                var nbb_formatted_code = \"%%time\\n# For all samples\\nfor k, v in sample_info.items():\\n    # Add fiducial reco sce vtx\\n    v[\\\"daughters\\\"][\\\"reco_fid_vol\\\"] = np.repeat(\\n        helper.is_fid(\\n            *v[\\\"daughters\\\"][\\n                [\\\"reco_nu_vtx_sce_x\\\", \\\"reco_nu_vtx_sce_y\\\", \\\"reco_nu_vtx_sce_z\\\"]\\n            ]\\n            .xs(0, level=\\\"daughter\\\")\\n            .values.T\\n        ),\\n        v[\\\"daughters\\\"][\\\"n_pfps\\\"].xs(0, level=\\\"daughter\\\"),\\n    )\\n    # Add maxangle\\n    # Todo\\n    # a.distinct(b, nested=True)\\n    \\n    # Add electron candidate check\\n    e_cand_str = 'pfnplanehits_U & pfnplanehits_V & pfnplanehits_Y & trk_score_v<@max_trk_score'    \\n    electron_candidate = v[\\\"daughters\\\"].query(e_cand_str)\\n    data = v[\\\"daughters\\\"][\\n                [\\n                    \\\"pfnplanehits_U\\\", \\\"pfnplanehits_V\\\", \\\"pfnplanehits_Y\\\",\\n                    \\\"trk_score_v\\\",\\n                    \\\"shr_energy_y_v\\\",\\n                ]\\n            ]\\n    e_cand_str = \\\"pfnplanehits_U>0 & pfnplanehits_V>0 & pfnplanehits_Y>0 & trk_score_v<@max_trk_score\\\"\\n    electron_candidate = data.eval(e_cand_str)\\n    e_cand_maxe = data[electron_candidate][\\\"shr_energy_y_v\\\"].groupby(\\\"event\\\").transform(max) == v[\\\"daughters\\\"][electron_candidate][\\\"shr_energy_y_v\\\"]\\n    v[\\\"daughters\\\"][\\\"e_candidate\\\"] = False\\n    v[\\\"daughters\\\"].loc[e_cand_maxe[e_cand_maxe == True].index, \\\"e_candidate\\\"] = True\";\n",
       "                var nbb_cells = Jupyter.notebook.get_cells();\n",
       "                for (var i = 0; i < nbb_cells.length; ++i) {\n",
       "                    if (nbb_cells[i].input_prompt_number == nbb_cell_id) {\n",
       "                        nbb_cells[i].set_text(nbb_formatted_code);\n",
       "                        break;\n",
       "                    }\n",
       "                }\n",
       "            }, 500);\n",
       "            "
      ],
      "text/plain": [
       "<IPython.core.display.Javascript object>"
      ]
     },
     "metadata": {},
     "output_type": "display_data"
    }
   ],
   "source": [
    "%%time\n",
    "# For all samples\n",
    "for k, v in sample_info.items():\n",
    "    # Add fiducial reco sce vtx\n",
    "    v[\"daughters\"][\"reco_fid_vol\"] = np.repeat(\n",
    "        helper.is_fid(\n",
    "            *v[\"daughters\"][\n",
    "                [\"reco_nu_vtx_sce_x\", \"reco_nu_vtx_sce_y\", \"reco_nu_vtx_sce_z\"]\n",
    "            ]\n",
    "            .xs(0, level=\"daughter\")\n",
    "            .values.T\n",
    "        ),\n",
    "        v[\"daughters\"][\"n_pfps\"].xs(0, level=\"daughter\"),\n",
    "    )\n",
    "    # Add maxangle\n",
    "    # Todo\n",
    "    # a.distinct(b, nested=True)\n",
    "    \n",
    "    # Add electron candidate check\n",
    "    e_cand_str = 'pfnplanehits_U & pfnplanehits_V & pfnplanehits_Y & trk_score_v<@max_trk_score'    \n",
    "    electron_candidate = v[\"daughters\"].query(e_cand_str)\n",
    "    data = v[\"daughters\"][\n",
    "                [\n",
    "                    \"pfnplanehits_U\", \"pfnplanehits_V\", \"pfnplanehits_Y\",\n",
    "                    \"trk_score_v\",\n",
    "                    \"shr_energy_y_v\",\n",
    "                ]\n",
    "            ]\n",
    "    e_cand_str = \"pfnplanehits_U>0 & pfnplanehits_V>0 & pfnplanehits_Y>0 & trk_score_v<@max_trk_score\"\n",
    "    electron_candidate = data.eval(e_cand_str)\n",
    "    e_cand_maxe = data[electron_candidate][\"shr_energy_y_v\"].groupby(\"event\").transform(max) == v[\"daughters\"][electron_candidate][\"shr_energy_y_v\"]\n",
    "    v[\"daughters\"][\"e_candidate\"] = False\n",
    "    v[\"daughters\"].loc[e_cand_maxe[e_cand_maxe == True].index, \"e_candidate\"] = True"
   ]
  },
  {
   "cell_type": "code",
   "execution_count": 22,
   "metadata": {},
   "outputs": [
    {
     "name": "stdout",
     "output_type": "stream",
     "text": [
      "CPU times: user 425 ms, sys: 35.9 ms, total: 461 ms\n",
      "Wall time: 239 ms\n"
     ]
    },
    {
     "data": {
      "application/javascript": [
       "\n",
       "            setTimeout(function() {\n",
       "                var nbb_cell_id = 22;\n",
       "                var nbb_formatted_code = \"%%time\\n# For MC samples\\nfor k, v in sample_info.items():\\n    if k in mc_samples:\\n        # Correct the LEE weight using the splineweight\\n        v['daughters'][\\\"leeweight\\\"]*=v['daughters'][\\\"weightSpline\\\"]\\n        # Add distance between reco_sce and true vertex\\n        data = (\\n            v[\\\"daughters\\\"][\\n                [\\n                    \\\"reco_nu_vtx_sce_x\\\",\\n                    \\\"reco_nu_vtx_sce_y\\\",\\n                    \\\"reco_nu_vtx_sce_z\\\",\\n                    \\\"true_nu_vtx_x\\\",\\n                    \\\"true_nu_vtx_y\\\",\\n                    \\\"true_nu_vtx_z\\\",\\n                ]\\n            ]\\n            .xs(0, level=\\\"daughter\\\")\\n            .values.T\\n        )\\n        data[0]-=x_sce_magic # Correct x location for the 0.6 sign error\\n        \\n        v[\\\"daughters\\\"][\\\"true_vtx_distance\\\"] = np.repeat(\\n            np.linalg.norm(data[0:3] - data[3:6], axis=0),\\n            v[\\\"daughters\\\"][\\\"n_pfps\\\"].xs(0, level=\\\"daughter\\\"),\\n        )\\n        # Cross-check vtx distance\\n        data = (\\n            v[\\\"daughters\\\"][\\n                [\\n                    \\\"true_nu_vtx_sce_x\\\",\\n                    \\\"true_nu_vtx_sce_y\\\",\\n                    \\\"true_nu_vtx_sce_z\\\",\\n                    \\\"reco_nu_vtx_x\\\",\\n                    \\\"reco_nu_vtx_y\\\",\\n                    \\\"reco_nu_vtx_z\\\",\\n                ]\\n            ]\\n            .xs(0, level=\\\"daughter\\\")\\n            .values.T\\n        )\\n        v[\\\"daughters\\\"][\\\"true_vtx_distance_check\\\"] = np.repeat(\\n            np.linalg.norm(data[0:3] - data[3:6], axis=0),\\n            v[\\\"daughters\\\"][\\\"n_pfps\\\"].xs(0, level=\\\"daughter\\\"),\\n        )\";\n",
       "                var nbb_cells = Jupyter.notebook.get_cells();\n",
       "                for (var i = 0; i < nbb_cells.length; ++i) {\n",
       "                    if (nbb_cells[i].input_prompt_number == nbb_cell_id) {\n",
       "                        nbb_cells[i].set_text(nbb_formatted_code);\n",
       "                        break;\n",
       "                    }\n",
       "                }\n",
       "            }, 500);\n",
       "            "
      ],
      "text/plain": [
       "<IPython.core.display.Javascript object>"
      ]
     },
     "metadata": {},
     "output_type": "display_data"
    }
   ],
   "source": [
    "%%time\n",
    "# For MC samples\n",
    "for k, v in sample_info.items():\n",
    "    if k in mc_samples:\n",
    "        # Correct the LEE weight using the splineweight\n",
    "        v['daughters'][\"leeweight\"]*=v['daughters'][\"weightSpline\"]\n",
    "        # Add distance between reco_sce and true vertex\n",
    "        data = (\n",
    "            v[\"daughters\"][\n",
    "                [\n",
    "                    \"reco_nu_vtx_sce_x\",\n",
    "                    \"reco_nu_vtx_sce_y\",\n",
    "                    \"reco_nu_vtx_sce_z\",\n",
    "                    \"true_nu_vtx_x\",\n",
    "                    \"true_nu_vtx_y\",\n",
    "                    \"true_nu_vtx_z\",\n",
    "                ]\n",
    "            ]\n",
    "            .xs(0, level=\"daughter\")\n",
    "            .values.T\n",
    "        )\n",
    "        data[0]-=x_sce_magic # Correct x location for the 0.6 sign error\n",
    "        \n",
    "        v[\"daughters\"][\"true_vtx_distance\"] = np.repeat(\n",
    "            np.linalg.norm(data[0:3] - data[3:6], axis=0),\n",
    "            v[\"daughters\"][\"n_pfps\"].xs(0, level=\"daughter\"),\n",
    "        )\n",
    "        # Cross-check vtx distance\n",
    "        data = (\n",
    "            v[\"daughters\"][\n",
    "                [\n",
    "                    \"true_nu_vtx_sce_x\",\n",
    "                    \"true_nu_vtx_sce_y\",\n",
    "                    \"true_nu_vtx_sce_z\",\n",
    "                    \"reco_nu_vtx_x\",\n",
    "                    \"reco_nu_vtx_y\",\n",
    "                    \"reco_nu_vtx_z\",\n",
    "                ]\n",
    "            ]\n",
    "            .xs(0, level=\"daughter\")\n",
    "            .values.T\n",
    "        )\n",
    "        v[\"daughters\"][\"true_vtx_distance_check\"] = np.repeat(\n",
    "            np.linalg.norm(data[0:3] - data[3:6], axis=0),\n",
    "            v[\"daughters\"][\"n_pfps\"].xs(0, level=\"daughter\"),\n",
    "        )"
   ]
  },
  {
   "cell_type": "code",
   "execution_count": 23,
   "metadata": {
    "scrolled": false
   },
   "outputs": [
    {
     "data": {
      "text/html": [
       "<div>\n",
       "<style scoped>\n",
       "    .dataframe tbody tr th:only-of-type {\n",
       "        vertical-align: middle;\n",
       "    }\n",
       "\n",
       "    .dataframe tbody tr th {\n",
       "        vertical-align: top;\n",
       "    }\n",
       "\n",
       "    .dataframe thead th {\n",
       "        text-align: right;\n",
       "    }\n",
       "</style>\n",
       "<table border=\"1\" class=\"dataframe\">\n",
       "  <thead>\n",
       "    <tr style=\"text-align: right;\">\n",
       "      <th></th>\n",
       "      <th></th>\n",
       "      <th>pfnplanehits_U</th>\n",
       "      <th>pfnplanehits_V</th>\n",
       "      <th>pfnplanehits_Y</th>\n",
       "      <th>trk_score_v</th>\n",
       "      <th>shr_energy_y_v</th>\n",
       "      <th>shr_dist_v</th>\n",
       "      <th>e_candidate</th>\n",
       "      <th>backtracked_pdg</th>\n",
       "      <th>reco_fid_vol</th>\n",
       "      <th>crtveto</th>\n",
       "    </tr>\n",
       "    <tr>\n",
       "      <th>event</th>\n",
       "      <th>daughter</th>\n",
       "      <th></th>\n",
       "      <th></th>\n",
       "      <th></th>\n",
       "      <th></th>\n",
       "      <th></th>\n",
       "      <th></th>\n",
       "      <th></th>\n",
       "      <th></th>\n",
       "      <th></th>\n",
       "      <th></th>\n",
       "    </tr>\n",
       "  </thead>\n",
       "  <tbody>\n",
       "    <tr>\n",
       "      <td>0</td>\n",
       "      <td>0</td>\n",
       "      <td>116</td>\n",
       "      <td>522</td>\n",
       "      <td>775</td>\n",
       "      <td>0.068805</td>\n",
       "      <td>7.877512e+02</td>\n",
       "      <td>2.294480e+01</td>\n",
       "      <td>True</td>\n",
       "      <td>11</td>\n",
       "      <td>True</td>\n",
       "      <td>0</td>\n",
       "    </tr>\n",
       "    <tr>\n",
       "      <td rowspan=\"6\" valign=\"top\">2</td>\n",
       "      <td>0</td>\n",
       "      <td>86</td>\n",
       "      <td>31</td>\n",
       "      <td>88</td>\n",
       "      <td>0.944017</td>\n",
       "      <td>1.684017e+02</td>\n",
       "      <td>2.635687e-01</td>\n",
       "      <td>False</td>\n",
       "      <td>2212</td>\n",
       "      <td>False</td>\n",
       "      <td>0</td>\n",
       "    </tr>\n",
       "    <tr>\n",
       "      <td>1</td>\n",
       "      <td>67</td>\n",
       "      <td>27</td>\n",
       "      <td>30</td>\n",
       "      <td>0.857191</td>\n",
       "      <td>4.368167e+01</td>\n",
       "      <td>1.221960e+00</td>\n",
       "      <td>False</td>\n",
       "      <td>211</td>\n",
       "      <td>False</td>\n",
       "      <td>0</td>\n",
       "    </tr>\n",
       "    <tr>\n",
       "      <td>2</td>\n",
       "      <td>17</td>\n",
       "      <td>6</td>\n",
       "      <td>21</td>\n",
       "      <td>0.993165</td>\n",
       "      <td>3.705166e+01</td>\n",
       "      <td>7.009138e-01</td>\n",
       "      <td>False</td>\n",
       "      <td>11</td>\n",
       "      <td>False</td>\n",
       "      <td>0</td>\n",
       "    </tr>\n",
       "    <tr>\n",
       "      <td>3</td>\n",
       "      <td>0</td>\n",
       "      <td>7</td>\n",
       "      <td>9</td>\n",
       "      <td>0.831197</td>\n",
       "      <td>-3.402823e+38</td>\n",
       "      <td>-3.402823e+38</td>\n",
       "      <td>False</td>\n",
       "      <td>2212</td>\n",
       "      <td>False</td>\n",
       "      <td>0</td>\n",
       "    </tr>\n",
       "    <tr>\n",
       "      <td>4</td>\n",
       "      <td>3</td>\n",
       "      <td>8</td>\n",
       "      <td>5</td>\n",
       "      <td>0.845124</td>\n",
       "      <td>-3.402823e+38</td>\n",
       "      <td>-3.402823e+38</td>\n",
       "      <td>True</td>\n",
       "      <td>2212</td>\n",
       "      <td>False</td>\n",
       "      <td>0</td>\n",
       "    </tr>\n",
       "    <tr>\n",
       "      <td>5</td>\n",
       "      <td>3</td>\n",
       "      <td>6</td>\n",
       "      <td>0</td>\n",
       "      <td>0.760565</td>\n",
       "      <td>-3.402823e+38</td>\n",
       "      <td>-3.402823e+38</td>\n",
       "      <td>False</td>\n",
       "      <td>2212</td>\n",
       "      <td>False</td>\n",
       "      <td>0</td>\n",
       "    </tr>\n",
       "    <tr>\n",
       "      <td rowspan=\"6\" valign=\"top\">3</td>\n",
       "      <td>0</td>\n",
       "      <td>50</td>\n",
       "      <td>115</td>\n",
       "      <td>264</td>\n",
       "      <td>0.995618</td>\n",
       "      <td>2.223447e+02</td>\n",
       "      <td>2.236893e+01</td>\n",
       "      <td>False</td>\n",
       "      <td>0</td>\n",
       "      <td>True</td>\n",
       "      <td>0</td>\n",
       "    </tr>\n",
       "    <tr>\n",
       "      <td>1</td>\n",
       "      <td>87</td>\n",
       "      <td>215</td>\n",
       "      <td>73</td>\n",
       "      <td>0.978480</td>\n",
       "      <td>1.088965e+02</td>\n",
       "      <td>8.555756e-01</td>\n",
       "      <td>False</td>\n",
       "      <td>211</td>\n",
       "      <td>True</td>\n",
       "      <td>0</td>\n",
       "    </tr>\n",
       "    <tr>\n",
       "      <td>2</td>\n",
       "      <td>67</td>\n",
       "      <td>68</td>\n",
       "      <td>71</td>\n",
       "      <td>0.036156</td>\n",
       "      <td>9.686684e+01</td>\n",
       "      <td>1.258941e+01</td>\n",
       "      <td>True</td>\n",
       "      <td>22</td>\n",
       "      <td>True</td>\n",
       "      <td>0</td>\n",
       "    </tr>\n",
       "    <tr>\n",
       "      <td>3</td>\n",
       "      <td>0</td>\n",
       "      <td>40</td>\n",
       "      <td>40</td>\n",
       "      <td>0.004658</td>\n",
       "      <td>5.816462e+01</td>\n",
       "      <td>3.512400e+01</td>\n",
       "      <td>False</td>\n",
       "      <td>11</td>\n",
       "      <td>True</td>\n",
       "      <td>0</td>\n",
       "    </tr>\n",
       "    <tr>\n",
       "      <td>4</td>\n",
       "      <td>11</td>\n",
       "      <td>41</td>\n",
       "      <td>21</td>\n",
       "      <td>0.899024</td>\n",
       "      <td>2.236086e+01</td>\n",
       "      <td>1.640399e+00</td>\n",
       "      <td>False</td>\n",
       "      <td>11</td>\n",
       "      <td>True</td>\n",
       "      <td>0</td>\n",
       "    </tr>\n",
       "    <tr>\n",
       "      <td>5</td>\n",
       "      <td>11</td>\n",
       "      <td>6</td>\n",
       "      <td>4</td>\n",
       "      <td>0.885375</td>\n",
       "      <td>-3.402823e+38</td>\n",
       "      <td>-3.402823e+38</td>\n",
       "      <td>False</td>\n",
       "      <td>211</td>\n",
       "      <td>True</td>\n",
       "      <td>0</td>\n",
       "    </tr>\n",
       "    <tr>\n",
       "      <td rowspan=\"5\" valign=\"top\">4</td>\n",
       "      <td>0</td>\n",
       "      <td>140</td>\n",
       "      <td>56</td>\n",
       "      <td>132</td>\n",
       "      <td>0.026412</td>\n",
       "      <td>1.790953e+02</td>\n",
       "      <td>2.194183e+00</td>\n",
       "      <td>True</td>\n",
       "      <td>11</td>\n",
       "      <td>True</td>\n",
       "      <td>0</td>\n",
       "    </tr>\n",
       "    <tr>\n",
       "      <td>1</td>\n",
       "      <td>62</td>\n",
       "      <td>40</td>\n",
       "      <td>112</td>\n",
       "      <td>0.969382</td>\n",
       "      <td>1.842526e+02</td>\n",
       "      <td>8.727643e-01</td>\n",
       "      <td>False</td>\n",
       "      <td>2212</td>\n",
       "      <td>True</td>\n",
       "      <td>0</td>\n",
       "    </tr>\n",
       "    <tr>\n",
       "      <td>2</td>\n",
       "      <td>54</td>\n",
       "      <td>24</td>\n",
       "      <td>70</td>\n",
       "      <td>0.300715</td>\n",
       "      <td>7.071710e+01</td>\n",
       "      <td>1.860114e+01</td>\n",
       "      <td>False</td>\n",
       "      <td>22</td>\n",
       "      <td>True</td>\n",
       "      <td>0</td>\n",
       "    </tr>\n",
       "    <tr>\n",
       "      <td>3</td>\n",
       "      <td>20</td>\n",
       "      <td>20</td>\n",
       "      <td>16</td>\n",
       "      <td>0.004113</td>\n",
       "      <td>2.316853e+01</td>\n",
       "      <td>1.096010e+02</td>\n",
       "      <td>False</td>\n",
       "      <td>22</td>\n",
       "      <td>True</td>\n",
       "      <td>0</td>\n",
       "    </tr>\n",
       "    <tr>\n",
       "      <td>4</td>\n",
       "      <td>8</td>\n",
       "      <td>5</td>\n",
       "      <td>0</td>\n",
       "      <td>0.762992</td>\n",
       "      <td>-3.402823e+38</td>\n",
       "      <td>-3.402823e+38</td>\n",
       "      <td>False</td>\n",
       "      <td>2212</td>\n",
       "      <td>True</td>\n",
       "      <td>0</td>\n",
       "    </tr>\n",
       "    <tr>\n",
       "      <td rowspan=\"2\" valign=\"top\">7</td>\n",
       "      <td>0</td>\n",
       "      <td>257</td>\n",
       "      <td>168</td>\n",
       "      <td>191</td>\n",
       "      <td>0.007112</td>\n",
       "      <td>3.841982e+02</td>\n",
       "      <td>1.034956e+00</td>\n",
       "      <td>True</td>\n",
       "      <td>11</td>\n",
       "      <td>True</td>\n",
       "      <td>0</td>\n",
       "    </tr>\n",
       "    <tr>\n",
       "      <td>1</td>\n",
       "      <td>86</td>\n",
       "      <td>121</td>\n",
       "      <td>146</td>\n",
       "      <td>0.967723</td>\n",
       "      <td>2.373854e+02</td>\n",
       "      <td>3.042643e-02</td>\n",
       "      <td>False</td>\n",
       "      <td>2212</td>\n",
       "      <td>True</td>\n",
       "      <td>0</td>\n",
       "    </tr>\n",
       "  </tbody>\n",
       "</table>\n",
       "</div>"
      ],
      "text/plain": [
       "                pfnplanehits_U  pfnplanehits_V  pfnplanehits_Y  trk_score_v  \\\n",
       "event daughter                                                                \n",
       "0     0                    116             522             775     0.068805   \n",
       "2     0                     86              31              88     0.944017   \n",
       "      1                     67              27              30     0.857191   \n",
       "      2                     17               6              21     0.993165   \n",
       "      3                      0               7               9     0.831197   \n",
       "      4                      3               8               5     0.845124   \n",
       "      5                      3               6               0     0.760565   \n",
       "3     0                     50             115             264     0.995618   \n",
       "      1                     87             215              73     0.978480   \n",
       "      2                     67              68              71     0.036156   \n",
       "      3                      0              40              40     0.004658   \n",
       "      4                     11              41              21     0.899024   \n",
       "      5                     11               6               4     0.885375   \n",
       "4     0                    140              56             132     0.026412   \n",
       "      1                     62              40             112     0.969382   \n",
       "      2                     54              24              70     0.300715   \n",
       "      3                     20              20              16     0.004113   \n",
       "      4                      8               5               0     0.762992   \n",
       "7     0                    257             168             191     0.007112   \n",
       "      1                     86             121             146     0.967723   \n",
       "\n",
       "                shr_energy_y_v    shr_dist_v  e_candidate  backtracked_pdg  \\\n",
       "event daughter                                                               \n",
       "0     0           7.877512e+02  2.294480e+01         True               11   \n",
       "2     0           1.684017e+02  2.635687e-01        False             2212   \n",
       "      1           4.368167e+01  1.221960e+00        False              211   \n",
       "      2           3.705166e+01  7.009138e-01        False               11   \n",
       "      3          -3.402823e+38 -3.402823e+38        False             2212   \n",
       "      4          -3.402823e+38 -3.402823e+38         True             2212   \n",
       "      5          -3.402823e+38 -3.402823e+38        False             2212   \n",
       "3     0           2.223447e+02  2.236893e+01        False                0   \n",
       "      1           1.088965e+02  8.555756e-01        False              211   \n",
       "      2           9.686684e+01  1.258941e+01         True               22   \n",
       "      3           5.816462e+01  3.512400e+01        False               11   \n",
       "      4           2.236086e+01  1.640399e+00        False               11   \n",
       "      5          -3.402823e+38 -3.402823e+38        False              211   \n",
       "4     0           1.790953e+02  2.194183e+00         True               11   \n",
       "      1           1.842526e+02  8.727643e-01        False             2212   \n",
       "      2           7.071710e+01  1.860114e+01        False               22   \n",
       "      3           2.316853e+01  1.096010e+02        False               22   \n",
       "      4          -3.402823e+38 -3.402823e+38        False             2212   \n",
       "7     0           3.841982e+02  1.034956e+00         True               11   \n",
       "      1           2.373854e+02  3.042643e-02        False             2212   \n",
       "\n",
       "                reco_fid_vol  crtveto  \n",
       "event daughter                         \n",
       "0     0                 True        0  \n",
       "2     0                False        0  \n",
       "      1                False        0  \n",
       "      2                False        0  \n",
       "      3                False        0  \n",
       "      4                False        0  \n",
       "      5                False        0  \n",
       "3     0                 True        0  \n",
       "      1                 True        0  \n",
       "      2                 True        0  \n",
       "      3                 True        0  \n",
       "      4                 True        0  \n",
       "      5                 True        0  \n",
       "4     0                 True        0  \n",
       "      1                 True        0  \n",
       "      2                 True        0  \n",
       "      3                 True        0  \n",
       "      4                 True        0  \n",
       "7     0                 True        0  \n",
       "      1                 True        0  "
      ]
     },
     "execution_count": 23,
     "metadata": {},
     "output_type": "execute_result"
    },
    {
     "data": {
      "application/javascript": [
       "\n",
       "            setTimeout(function() {\n",
       "                var nbb_cell_id = 23;\n",
       "                var nbb_formatted_code = \"cols_lookup = [\\n    \\\"pfnplanehits_U\\\",\\n    \\\"pfnplanehits_V\\\",\\n    \\\"pfnplanehits_Y\\\",\\n    \\\"trk_score_v\\\",\\n    \\\"shr_energy_y_v\\\",\\n    \\\"shr_dist_v\\\",\\n    \\\"e_candidate\\\",\\n    \\\"backtracked_pdg\\\",\\n    \\\"reco_fid_vol\\\",\\n    \\\"crtveto\\\",\\n]\\nsample_info[\\\"NUE\\\"][\\\"daughters\\\"][cols_lookup].loc[:7]\";\n",
       "                var nbb_cells = Jupyter.notebook.get_cells();\n",
       "                for (var i = 0; i < nbb_cells.length; ++i) {\n",
       "                    if (nbb_cells[i].input_prompt_number == nbb_cell_id) {\n",
       "                        nbb_cells[i].set_text(nbb_formatted_code);\n",
       "                        break;\n",
       "                    }\n",
       "                }\n",
       "            }, 500);\n",
       "            "
      ],
      "text/plain": [
       "<IPython.core.display.Javascript object>"
      ]
     },
     "metadata": {},
     "output_type": "display_data"
    }
   ],
   "source": [
    "cols_lookup = [\n",
    "    \"pfnplanehits_U\",\n",
    "    \"pfnplanehits_V\",\n",
    "    \"pfnplanehits_Y\",\n",
    "    \"trk_score_v\",\n",
    "    \"shr_energy_y_v\",\n",
    "    \"shr_dist_v\",\n",
    "    \"e_candidate\",\n",
    "    \"backtracked_pdg\",\n",
    "    \"reco_fid_vol\",\n",
    "    \"crtveto\",\n",
    "]\n",
    "sample_info[\"NUE\"][\"daughters\"][cols_lookup].loc[:7]"
   ]
  },
  {
   "cell_type": "markdown",
   "metadata": {},
   "source": [
    "### Quality cuts / Pre-selection"
   ]
  },
  {
   "cell_type": "code",
   "execution_count": 24,
   "metadata": {},
   "outputs": [
    {
     "data": {
      "application/javascript": [
       "\n",
       "            setTimeout(function() {\n",
       "                var nbb_cell_id = 24;\n",
       "                var nbb_formatted_code = \"query_preselect = (\\n    \\\"e_candidate & reco_fid_vol & slclustfrac>@min_cluster_frac & ~crtveto\\\"\\n)\";\n",
       "                var nbb_cells = Jupyter.notebook.get_cells();\n",
       "                for (var i = 0; i < nbb_cells.length; ++i) {\n",
       "                    if (nbb_cells[i].input_prompt_number == nbb_cell_id) {\n",
       "                        nbb_cells[i].set_text(nbb_formatted_code);\n",
       "                        break;\n",
       "                    }\n",
       "                }\n",
       "            }, 500);\n",
       "            "
      ],
      "text/plain": [
       "<IPython.core.display.Javascript object>"
      ]
     },
     "metadata": {},
     "output_type": "display_data"
    }
   ],
   "source": [
    "query_preselect = (\n",
    "    \"e_candidate & reco_fid_vol & slclustfrac>@min_cluster_frac & ~crtveto\"\n",
    ")"
   ]
  },
  {
   "cell_type": "code",
   "execution_count": 25,
   "metadata": {
    "scrolled": false
   },
   "outputs": [
    {
     "name": "stdout",
     "output_type": "stream",
     "text": [
      "On \t4.49%\n",
      "Off \t2.28%\n",
      "MC \t11.33%\n",
      "NUE \t59.73%\n",
      "DRT \t1.75%\n",
      "Nue signal passing the preselection \t73.06%\n",
      "Nue Intrinsic signal passing: 96.315 per 1e+20 POT\n",
      "Nue LEE signal passing: 10.377 per 1e+20 POT\n",
      "CPU times: user 651 ms, sys: 15.9 ms, total: 667 ms\n",
      "Wall time: 334 ms\n"
     ]
    },
    {
     "name": "stderr",
     "output_type": "stream",
     "text": [
      "/home/wouter/Binaries/miniconda3/envs/uproot/lib/python3.7/site-packages/pandas/core/computation/expressions.py:194: UserWarning: evaluating in Python space because the '*' operator is not supported by numexpr for the bool dtype, use '&' instead\n",
      "  op=op_str, alt_op=unsupported[op_str]\n"
     ]
    },
    {
     "data": {
      "application/javascript": [
       "\n",
       "            setTimeout(function() {\n",
       "                var nbb_cell_id = 25;\n",
       "                var nbb_formatted_code = \"%%time\\n# Passing rate pre-selection\\nfor k, v in sample_info.items():\\n    v[\\\"daughters\\\"][\\\"preselect\\\"] = v[\\\"daughters\\\"].eval(\\n        query_preselect\\n    )\\n    pass_rate = sum(v[\\\"daughters\\\"][\\\"preselect\\\"])/v['numentries']\\n    print(k, \\\"\\\\t{:.2f}%\\\".format(pass_rate * 100))\\n    \\n# Passing rate signal, weights applied!\\npass_rate = sum(sample_info[\\\"NUE\\\"]['daughters'].eval('preselect*weightSpline*nueccinc'))/sum(sample_info[\\\"NUE\\\"][\\\"mc\\\"]['weightSpline']*signal_mask)\\nprint(\\\"Nue signal passing the preselection \\\\t{:.2f}%\\\".format(pass_rate * 100))\\nnue_pass = sum(sample_info[\\\"NUE\\\"]['daughters'].eval('preselect*nueccinc'))*sample_info[\\\"NUE\\\"]['scaling']*pot_scale\\nprint(\\\"Nue Intrinsic signal passing: {0:0.3f} per {1:0.2g} POT\\\".format(nue_pass,pot_target))\\nlee_pass = sum(sample_info[\\\"NUE\\\"]['daughters'].eval('preselect*leeweight*nueccinc'))*sample_info[\\\"NUE\\\"]['scaling']*pot_scale\\nprint(\\\"Nue LEE signal passing: {0:0.3f} per {1:0.2g} POT\\\".format(lee_pass,pot_target))\";\n",
       "                var nbb_cells = Jupyter.notebook.get_cells();\n",
       "                for (var i = 0; i < nbb_cells.length; ++i) {\n",
       "                    if (nbb_cells[i].input_prompt_number == nbb_cell_id) {\n",
       "                        nbb_cells[i].set_text(nbb_formatted_code);\n",
       "                        break;\n",
       "                    }\n",
       "                }\n",
       "            }, 500);\n",
       "            "
      ],
      "text/plain": [
       "<IPython.core.display.Javascript object>"
      ]
     },
     "metadata": {},
     "output_type": "display_data"
    }
   ],
   "source": [
    "%%time\n",
    "# Passing rate pre-selection\n",
    "for k, v in sample_info.items():\n",
    "    v[\"daughters\"][\"preselect\"] = v[\"daughters\"].eval(\n",
    "        query_preselect\n",
    "    )\n",
    "    pass_rate = sum(v[\"daughters\"][\"preselect\"])/v['numentries']\n",
    "    print(k, \"\\t{:.2f}%\".format(pass_rate * 100))\n",
    "    \n",
    "# Passing rate signal, weights applied!\n",
    "pass_rate = sum(sample_info[\"NUE\"]['daughters'].eval('preselect*weightSpline*nueccinc'))/sum(sample_info[\"NUE\"][\"mc\"]['weightSpline']*signal_mask)\n",
    "print(\"Nue signal passing the preselection \\t{:.2f}%\".format(pass_rate * 100))\n",
    "nue_pass = sum(sample_info[\"NUE\"]['daughters'].eval('preselect*nueccinc'))*sample_info[\"NUE\"]['scaling']*pot_scale\n",
    "print(\"Nue Intrinsic signal passing: {0:0.3f} per {1:0.2g} POT\".format(nue_pass,pot_target))\n",
    "lee_pass = sum(sample_info[\"NUE\"]['daughters'].eval('preselect*leeweight*nueccinc'))*sample_info[\"NUE\"]['scaling']*pot_scale\n",
    "print(\"Nue LEE signal passing: {0:0.3f} per {1:0.2g} POT\".format(lee_pass,pot_target))"
   ]
  },
  {
   "cell_type": "code",
   "execution_count": 26,
   "metadata": {},
   "outputs": [
    {
     "data": {
      "text/plain": [
       "1     173507\n",
       "0     125426\n",
       "2      84875\n",
       "10     36013\n",
       "3       1327\n",
       "Name: interaction, dtype: int64"
      ]
     },
     "execution_count": 26,
     "metadata": {},
     "output_type": "execute_result"
    },
    {
     "data": {
      "application/javascript": [
       "\n",
       "            setTimeout(function() {\n",
       "                var nbb_cell_id = 26;\n",
       "                var nbb_formatted_code = \"sample_info[\\\"NUE\\\"][\\\"daughters\\\"][\\\"interaction\\\"].value_counts()\";\n",
       "                var nbb_cells = Jupyter.notebook.get_cells();\n",
       "                for (var i = 0; i < nbb_cells.length; ++i) {\n",
       "                    if (nbb_cells[i].input_prompt_number == nbb_cell_id) {\n",
       "                        nbb_cells[i].set_text(nbb_formatted_code);\n",
       "                        break;\n",
       "                    }\n",
       "                }\n",
       "            }, 500);\n",
       "            "
      ],
      "text/plain": [
       "<IPython.core.display.Javascript object>"
      ]
     },
     "metadata": {},
     "output_type": "display_data"
    }
   ],
   "source": [
    "sample_info[\"NUE\"][\"daughters\"][\"interaction\"].value_counts()"
   ]
  },
  {
   "cell_type": "markdown",
   "metadata": {},
   "source": [
    "### Plots"
   ]
  },
  {
   "cell_type": "code",
   "execution_count": 27,
   "metadata": {
    "scrolled": false
   },
   "outputs": [
    {
     "data": {
      "image/png": "[encoded data removed]",
      "text/plain": [
       "<Figure size 576x288 with 2 Axes>"
      ]
     },
     "metadata": {
      "needs_background": "light"
     },
     "output_type": "display_data"
    },
    {
     "data": {
      "application/javascript": [
       "\n",
       "            setTimeout(function() {\n",
       "                var nbb_cell_id = 27;\n",
       "                var nbb_formatted_code = \"fig, ax = plt.subplots(ncols=2, figsize=(8, 4))\\n\\nax[0].hist(\\n    sample_info[\\\"NUE\\\"][\\\"daughters\\\"]\\n    .query(\\\"nueccinc\\\")[\\\"true_vtx_distance\\\"]\\n    .xs(0, level=\\\"daughter\\\"),\\n    bins=50,\\n    range=(0, 5),\\n    label=\\\"|true_nu_vtx - reco_nu_vtx_sce|\\\",\\n    alpha=0.7,\\n)\\nax[0].hist(\\n    sample_info[\\\"NUE\\\"][\\\"daughters\\\"]\\n    .query(\\\"nueccinc\\\")[\\\"true_vtx_distance_check\\\"]\\n    .xs(0, level=\\\"daughter\\\"),\\n    bins=50,\\n    range=(0, 5),\\n    label=\\\"|true_nu_vtx_sce - reco_nu_vtx|\\\",\\n    alpha=0.7,\\n)\\nax[0].set_xlabel(\\\"Neutrino vertex distance [cm]\\\")\\nax[0].set_title(r\\\"$\\\\nu_e$ CC Inclusive\\\", loc=\\\"left\\\")\\nax[0].set_title(\\\"Run3 Overlay\\\", loc=\\\"right\\\")\\nax[0].legend()\\n\\nax[1].hist(\\n    sample_info[\\\"NUE\\\"][\\\"daughters\\\"]\\n    .query(\\\"nueccinc\\\")\\n    .xs(0, level=\\\"daughter\\\")\\n    .eval(\\\"true_nu_vtx_x+@x_sce_magic-reco_nu_vtx_sce_x\\\"),\\n    bins=51,\\n    range=(-2, 2),\\n    label=\\\"|true_nu_vtx - reco_nu_vtx_sce|\\\",\\n    alpha=0.7,\\n)\\nax[1].hist(\\n    sample_info[\\\"NUE\\\"][\\\"daughters\\\"]\\n    .query(\\\"nueccinc\\\")\\n    .xs(0, level=\\\"daughter\\\")\\n    .eval(\\\"true_nu_vtx_sce_x-reco_nu_vtx_x\\\"),\\n    bins=51,\\n    range=(-2, 2),\\n    label=\\\"|true_nu_vtx_sce - reco_nu_vtx|\\\",\\n    alpha=0.7,\\n)\\nax[1].set_xlabel(\\\"Neutrino vertex distance x-coordinate [cm]\\\")\\nax[1].set_title(r\\\"$\\\\nu_e$ CC Inclusive\\\", loc=\\\"left\\\")\\nax[1].set_title(\\\"Run3 Overlay\\\", loc=\\\"right\\\")\\nax[1].set_ylim(0, ax[1].get_ylim()[1] * 1.25)\\nax[1].legend()\\n\\nfig.tight_layout()\\nfig.savefig(output_dir + \\\"vtx_distance.pdf\\\")\";\n",
       "                var nbb_cells = Jupyter.notebook.get_cells();\n",
       "                for (var i = 0; i < nbb_cells.length; ++i) {\n",
       "                    if (nbb_cells[i].input_prompt_number == nbb_cell_id) {\n",
       "                        nbb_cells[i].set_text(nbb_formatted_code);\n",
       "                        break;\n",
       "                    }\n",
       "                }\n",
       "            }, 500);\n",
       "            "
      ],
      "text/plain": [
       "<IPython.core.display.Javascript object>"
      ]
     },
     "metadata": {},
     "output_type": "display_data"
    }
   ],
   "source": [
    "fig, ax = plt.subplots(ncols=2, figsize=(8, 4))\n",
    "\n",
    "ax[0].hist(\n",
    "    sample_info[\"NUE\"][\"daughters\"]\n",
    "    .query(\"nueccinc\")[\"true_vtx_distance\"]\n",
    "    .xs(0, level=\"daughter\"),\n",
    "    bins=50,\n",
    "    range=(0, 5),\n",
    "    label=\"|true_nu_vtx - reco_nu_vtx_sce|\",\n",
    "    alpha=0.7,\n",
    ")\n",
    "ax[0].hist(\n",
    "    sample_info[\"NUE\"][\"daughters\"]\n",
    "    .query(\"nueccinc\")[\"true_vtx_distance_check\"]\n",
    "    .xs(0, level=\"daughter\"),\n",
    "    bins=50,\n",
    "    range=(0, 5),\n",
    "    label=\"|true_nu_vtx_sce - reco_nu_vtx|\",\n",
    "    alpha=0.7,\n",
    ")\n",
    "ax[0].set_xlabel(\"Neutrino vertex distance [cm]\")\n",
    "ax[0].set_title(r\"$\\nu_e$ CC Inclusive\", loc=\"left\")\n",
    "ax[0].set_title(\"Run3 Overlay\", loc=\"right\")\n",
    "ax[0].legend()\n",
    "\n",
    "ax[1].hist(\n",
    "    sample_info[\"NUE\"][\"daughters\"]\n",
    "    .query(\"nueccinc\")\n",
    "    .xs(0, level=\"daughter\")\n",
    "    .eval(\"true_nu_vtx_x+@x_sce_magic-reco_nu_vtx_sce_x\"),\n",
    "    bins=51,\n",
    "    range=(-2, 2),\n",
    "    label=\"|true_nu_vtx - reco_nu_vtx_sce|\",\n",
    "    alpha=0.7,\n",
    ")\n",
    "ax[1].hist(\n",
    "    sample_info[\"NUE\"][\"daughters\"]\n",
    "    .query(\"nueccinc\")\n",
    "    .xs(0, level=\"daughter\")\n",
    "    .eval(\"true_nu_vtx_sce_x-reco_nu_vtx_x\"),\n",
    "    bins=51,\n",
    "    range=(-2, 2),\n",
    "    label=\"|true_nu_vtx_sce - reco_nu_vtx|\",\n",
    "    alpha=0.7,\n",
    ")\n",
    "ax[1].set_xlabel(\"Neutrino vertex distance x-coordinate [cm]\")\n",
    "ax[1].set_title(r\"$\\nu_e$ CC Inclusive\", loc=\"left\")\n",
    "ax[1].set_title(\"Run3 Overlay\", loc=\"right\")\n",
    "ax[1].set_ylim(0, ax[1].get_ylim()[1] * 1.25)\n",
    "ax[1].legend()\n",
    "\n",
    "fig.tight_layout()\n",
    "fig.savefig(output_dir + \"vtx_distance.pdf\")"
   ]
  },
  {
   "cell_type": "markdown",
   "metadata": {},
   "source": [
    "### Sandbox!"
   ]
  },
  {
   "cell_type": "raw",
   "metadata": {},
   "source": [
    "%%timeit\n",
    "sample_info[\"NUE\"][\"daughters\"][\"n_showers\"].groupby(\"event\").first()"
   ]
  },
  {
   "cell_type": "raw",
   "metadata": {},
   "source": [
    "%%timeit\n",
    "sample_info[\"NUE\"][\"daughters\"]['n_showers'].swaplevel().loc[0]"
   ]
  },
  {
   "cell_type": "raw",
   "metadata": {},
   "source": [
    "%%timeit\n",
    "sample_info[\"NUE\"][\"daughters\"].loc[(slice(None), slice(0)), \"n_showers\"]"
   ]
  },
  {
   "cell_type": "raw",
   "metadata": {},
   "source": [
    "%%timeit\n",
    "sample_info[\"NUE\"][\"daughters\"][\"n_showers\"].xs(0, level=\"daughter\")"
   ]
  },
  {
   "cell_type": "raw",
   "metadata": {},
   "source": [
    "%%timeit\n",
    "sample_info[\"NUE\"][\"daughters\"][\"n_showers\"].mean(level=\"event\")"
   ]
  },
  {
   "cell_type": "raw",
   "metadata": {},
   "source": [
    "%%timeit\n",
    "## With broadcasting to the multiindex!\n",
    "sample_info[\"NUE\"][\"daughters\"][\"n_showers\"].xs(0, level=\"daughter\").reindex(\n",
    "    sample_info[\"NUE\"][\"daughters\"].index, level=0\n",
    ")"
   ]
  },
  {
   "cell_type": "raw",
   "metadata": {},
   "source": [
    "%%timeit\n",
    "sample_info[\"NUE\"][\"daughters\"].sort_values(\n",
    "    by=[\"event\", \"shr_energy_y_v\"], ascending=[True, False]\n",
    ").xs(0, level=\"daughter\")"
   ]
  },
  {
   "cell_type": "raw",
   "metadata": {},
   "source": [
    "%%timeit\n",
    "e_cand_str = \"pfnplanehits_U>0 & pfnplanehits_V>0 & pfnplanehits_Y>0 & trk_score_v<@max_trk_score\"\n",
    "electron_candidate = sample_info[\"NUE\"][\"daughters\"].eval(e_cand_str)\n",
    "\n",
    "e_cand_maxe = (\n",
    "    sample_info[\"NUE\"][\"daughters\"][electron_candidate][\"shr_energy_y_v\"]\n",
    "    .groupby(\"event\")\n",
    "    .transform(max)\n",
    "    == sample_info[\"NUE\"][\"daughters\"][electron_candidate][\"shr_energy_y_v\"]\n",
    ")\n",
    "\n",
    "sample_info[\"NUE\"][\"daughters\"][\"e_candidate\"] = False\n",
    "sample_info[\"NUE\"][\"daughters\"].loc[\n",
    "    e_cand_maxe[e_cand_maxe == True].index, \"e_candidate\"\n",
    "] = True"
   ]
  }
 ],
 "metadata": {
  "kernelspec": {
   "display_name": "uproot env",
   "language": "python",
   "name": "uproot"
  },
  "language_info": {
   "codemirror_mode": {
    "name": "ipython",
    "version": 3
   },
   "file_extension": ".py",
   "mimetype": "text/x-python",
   "name": "python",
   "nbconvert_exporter": "python",
   "pygments_lexer": "ipython3",
   "version": "3.7.4"
  }
 },
 "nbformat": 4,
 "nbformat_minor": 2
}
