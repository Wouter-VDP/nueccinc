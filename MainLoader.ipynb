{
 "cells": [
  {
   "cell_type": "markdown",
   "metadata": {},
   "source": [
    "### Input"
   ]
  },
  {
   "cell_type": "code",
   "execution_count": 1,
   "metadata": {},
   "outputs": [
    {
     "data": {
      "application/javascript": [
       "\n",
       "            setTimeout(function() {\n",
       "                var nbb_cell_id = 1;\n",
       "                var nbb_formatted_code = \"%load_ext autoreload\\n%matplotlib inline\\n%load_ext nb_black\";\n",
       "                var nbb_cells = Jupyter.notebook.get_cells();\n",
       "                for (var i = 0; i < nbb_cells.length; ++i) {\n",
       "                    if (nbb_cells[i].input_prompt_number == nbb_cell_id) {\n",
       "                        nbb_cells[i].set_text(nbb_formatted_code);\n",
       "                        break;\n",
       "                    }\n",
       "                }\n",
       "            }, 500);\n",
       "            "
      ],
      "text/plain": [
       "<IPython.core.display.Javascript object>"
      ]
     },
     "metadata": {},
     "output_type": "display_data"
    }
   ],
   "source": [
    "%load_ext autoreload\n",
    "%matplotlib inline\n",
    "%load_ext nb_black"
   ]
  },
  {
   "cell_type": "code",
   "execution_count": 2,
   "metadata": {},
   "outputs": [
    {
     "data": {
      "application/javascript": [
       "\n",
       "            setTimeout(function() {\n",
       "                var nbb_cell_id = 2;\n",
       "                var nbb_formatted_code = \"import uproot\\nimport numpy as np\\nimport pandas as pd\\nimport matplotlib.pyplot as plt\\nimport helpfunction as helper\\n\\nfrom sklearn.model_selection import train_test_split\\nfrom sklearn.metrics import classification_report\\nfrom xgboost import XGBClassifier\\nfrom sklearn.metrics import accuracy_score\\nfrom sklearn.metrics import roc_curve, auc\\n\\npd.set_option(\\\"display.max_columns\\\", 500)\";\n",
       "                var nbb_cells = Jupyter.notebook.get_cells();\n",
       "                for (var i = 0; i < nbb_cells.length; ++i) {\n",
       "                    if (nbb_cells[i].input_prompt_number == nbb_cell_id) {\n",
       "                        nbb_cells[i].set_text(nbb_formatted_code);\n",
       "                        break;\n",
       "                    }\n",
       "                }\n",
       "            }, 500);\n",
       "            "
      ],
      "text/plain": [
       "<IPython.core.display.Javascript object>"
      ]
     },
     "metadata": {},
     "output_type": "display_data"
    }
   ],
   "source": [
    "import uproot\n",
    "import numpy as np\n",
    "import pandas as pd\n",
    "import matplotlib.pyplot as plt\n",
    "import helpfunction as helper\n",
    "\n",
    "from sklearn.model_selection import train_test_split\n",
    "from sklearn.metrics import classification_report\n",
    "from xgboost import XGBClassifier\n",
    "from sklearn.metrics import accuracy_score\n",
    "from sklearn.metrics import roc_curve, auc\n",
    "\n",
    "pd.set_option(\"display.max_columns\", 500)"
   ]
  },
  {
   "cell_type": "code",
   "execution_count": 3,
   "metadata": {},
   "outputs": [
    {
     "data": {
      "application/javascript": [
       "\n",
       "            setTimeout(function() {\n",
       "                var nbb_cell_id = 3;\n",
       "                var nbb_formatted_code = \"%autoreload\";\n",
       "                var nbb_cells = Jupyter.notebook.get_cells();\n",
       "                for (var i = 0; i < nbb_cells.length; ++i) {\n",
       "                    if (nbb_cells[i].input_prompt_number == nbb_cell_id) {\n",
       "                        nbb_cells[i].set_text(nbb_formatted_code);\n",
       "                        break;\n",
       "                    }\n",
       "                }\n",
       "            }, 500);\n",
       "            "
      ],
      "text/plain": [
       "<IPython.core.display.Javascript object>"
      ]
     },
     "metadata": {},
     "output_type": "display_data"
    }
   ],
   "source": [
    "%autoreload"
   ]
  },
  {
   "cell_type": "markdown",
   "metadata": {},
   "source": [
    "### Constants"
   ]
  },
  {
   "cell_type": "code",
   "execution_count": 4,
   "metadata": {},
   "outputs": [
    {
     "data": {
      "application/javascript": [
       "\n",
       "            setTimeout(function() {\n",
       "                var nbb_cell_id = 4;\n",
       "                var nbb_formatted_code = \"main_tree = \\\"NeutrinoSelectionFilter\\\"\\nmass_p = 0.93827\\nmin_p_energy = mass_p + 0.04\\nmin_e_energy = 0.020\\nx_sce_magic = 1.03\\nseed = 7\\ntest_size = 0.4\\n\\npot_target = 1e20\\nmc_samples = [\\\"NUE\\\", \\\"MC\\\", \\\"DRT\\\"]\";\n",
       "                var nbb_cells = Jupyter.notebook.get_cells();\n",
       "                for (var i = 0; i < nbb_cells.length; ++i) {\n",
       "                    if (nbb_cells[i].input_prompt_number == nbb_cell_id) {\n",
       "                        nbb_cells[i].set_text(nbb_formatted_code);\n",
       "                        break;\n",
       "                    }\n",
       "                }\n",
       "            }, 500);\n",
       "            "
      ],
      "text/plain": [
       "<IPython.core.display.Javascript object>"
      ]
     },
     "metadata": {},
     "output_type": "display_data"
    }
   ],
   "source": [
    "main_tree = \"NeutrinoSelectionFilter\"\n",
    "mass_p = 0.93827\n",
    "min_p_energy = mass_p + 0.04\n",
    "min_e_energy = 0.020\n",
    "x_sce_magic = 1.03\n",
    "seed = 7\n",
    "test_size = 0.4\n",
    "\n",
    "pot_target = 1e20\n",
    "mc_samples = [\"NUE\", \"MC\", \"DRT\"]"
   ]
  },
  {
   "cell_type": "code",
   "execution_count": 5,
   "metadata": {},
   "outputs": [
    {
     "data": {
      "application/javascript": [
       "\n",
       "            setTimeout(function() {\n",
       "                var nbb_cell_id = 5;\n",
       "                var nbb_formatted_code = \"max_trk_score = 0.85\\nmin_cluster_frac = 0.5\";\n",
       "                var nbb_cells = Jupyter.notebook.get_cells();\n",
       "                for (var i = 0; i < nbb_cells.length; ++i) {\n",
       "                    if (nbb_cells[i].input_prompt_number == nbb_cell_id) {\n",
       "                        nbb_cells[i].set_text(nbb_formatted_code);\n",
       "                        break;\n",
       "                    }\n",
       "                }\n",
       "            }, 500);\n",
       "            "
      ],
      "text/plain": [
       "<IPython.core.display.Javascript object>"
      ]
     },
     "metadata": {},
     "output_type": "display_data"
    }
   ],
   "source": [
    "max_trk_score = 0.85\n",
    "min_cluster_frac = 0.5"
   ]
  },
  {
   "cell_type": "markdown",
   "metadata": {},
   "source": [
    "### Load info"
   ]
  },
  {
   "cell_type": "code",
   "execution_count": 6,
   "metadata": {},
   "outputs": [
    {
     "data": {
      "application/javascript": [
       "\n",
       "            setTimeout(function() {\n",
       "                var nbb_cell_id = 6;\n",
       "                var nbb_formatted_code = \"input_dir = \\\"./input/7Oct/run3/\\\"\\noutput_dir = \\\"./output/\\\"\";\n",
       "                var nbb_cells = Jupyter.notebook.get_cells();\n",
       "                for (var i = 0; i < nbb_cells.length; ++i) {\n",
       "                    if (nbb_cells[i].input_prompt_number == nbb_cell_id) {\n",
       "                        nbb_cells[i].set_text(nbb_formatted_code);\n",
       "                        break;\n",
       "                    }\n",
       "                }\n",
       "            }, 500);\n",
       "            "
      ],
      "text/plain": [
       "<IPython.core.display.Javascript object>"
      ]
     },
     "metadata": {},
     "output_type": "display_data"
    }
   ],
   "source": [
    "input_dir = \"./input/7Oct/run3/\"\n",
    "output_dir = \"./output/\""
   ]
  },
  {
   "cell_type": "code",
   "execution_count": 7,
   "metadata": {},
   "outputs": [
    {
     "data": {
      "application/javascript": [
       "\n",
       "            setTimeout(function() {\n",
       "                var nbb_cell_id = 7;\n",
       "                var nbb_formatted_code = \"sample_info = helper.load_sample_info(input_dir, \\\"sample_info.txt\\\")\\npot_scale = pot_target / sample_info[\\\"On\\\"][\\\"POT\\\"]\";\n",
       "                var nbb_cells = Jupyter.notebook.get_cells();\n",
       "                for (var i = 0; i < nbb_cells.length; ++i) {\n",
       "                    if (nbb_cells[i].input_prompt_number == nbb_cell_id) {\n",
       "                        nbb_cells[i].set_text(nbb_formatted_code);\n",
       "                        break;\n",
       "                    }\n",
       "                }\n",
       "            }, 500);\n",
       "            "
      ],
      "text/plain": [
       "<IPython.core.display.Javascript object>"
      ]
     },
     "metadata": {},
     "output_type": "display_data"
    }
   ],
   "source": [
    "sample_info = helper.load_sample_info(input_dir, \"sample_info.txt\")\n",
    "pot_scale = pot_target / sample_info[\"On\"][\"POT\"]"
   ]
  },
  {
   "cell_type": "markdown",
   "metadata": {},
   "source": [
    "### Explore Tree"
   ]
  },
  {
   "cell_type": "code",
   "execution_count": 8,
   "metadata": {},
   "outputs": [
    {
     "name": "stdout",
     "output_type": "stream",
     "text": [
      "Passing rate slice ID:\n",
      "On \t23.27%\n",
      "Off \t14.61%\n",
      "MC \t43.93%\n",
      "NUE \t79.69%\n",
      "DRT \t22.50%\n"
     ]
    },
    {
     "data": {
      "application/javascript": [
       "\n",
       "            setTimeout(function() {\n",
       "                var nbb_cell_id = 8;\n",
       "                var nbb_formatted_code = \"print(\\\"Passing rate slice ID:\\\")\\nfor k, v in sample_info.items():\\n    pass_rate = sum(v[\\\"file\\\"][main_tree].array(\\\"n_pfps\\\") > 0) / v[\\\"numentries\\\"]\\n    print(k, \\\"\\\\t{:.2f}%\\\".format(pass_rate * 100))\";\n",
       "                var nbb_cells = Jupyter.notebook.get_cells();\n",
       "                for (var i = 0; i < nbb_cells.length; ++i) {\n",
       "                    if (nbb_cells[i].input_prompt_number == nbb_cell_id) {\n",
       "                        nbb_cells[i].set_text(nbb_formatted_code);\n",
       "                        break;\n",
       "                    }\n",
       "                }\n",
       "            }, 500);\n",
       "            "
      ],
      "text/plain": [
       "<IPython.core.display.Javascript object>"
      ]
     },
     "metadata": {},
     "output_type": "display_data"
    }
   ],
   "source": [
    "print(\"Passing rate slice ID:\")\n",
    "for k, v in sample_info.items():\n",
    "    pass_rate = sum(v[\"file\"][main_tree].array(\"n_pfps\") > 0) / v[\"numentries\"]\n",
    "    print(k, \"\\t{:.2f}%\".format(pass_rate * 100))"
   ]
  },
  {
   "cell_type": "code",
   "execution_count": 9,
   "metadata": {},
   "outputs": [
    {
     "name": "stdout",
     "output_type": "stream",
     "text": [
      "POT nue from sample: 9.282719e+22\n",
      "POT nue from scaling: 9.239795918367347e+22\n"
     ]
    },
    {
     "data": {
      "application/javascript": [
       "\n",
       "            setTimeout(function() {\n",
       "                var nbb_cell_id = 9;\n",
       "                var nbb_formatted_code = \"pot_nue = sample_info[\\\"NUE\\\"][\\\"file\\\"][\\\"SubRun\\\"].array(\\\"pot\\\").sum()\\nprint(\\\"POT nue from sample:\\\", pot_nue)\\npot_nue_scaling = sample_info[\\\"On\\\"][\\\"POT\\\"] / sample_info[\\\"NUE\\\"][\\\"scaling\\\"]\\nprint(\\\"POT nue from scaling:\\\", pot_nue_scaling)\";\n",
       "                var nbb_cells = Jupyter.notebook.get_cells();\n",
       "                for (var i = 0; i < nbb_cells.length; ++i) {\n",
       "                    if (nbb_cells[i].input_prompt_number == nbb_cell_id) {\n",
       "                        nbb_cells[i].set_text(nbb_formatted_code);\n",
       "                        break;\n",
       "                    }\n",
       "                }\n",
       "            }, 500);\n",
       "            "
      ],
      "text/plain": [
       "<IPython.core.display.Javascript object>"
      ]
     },
     "metadata": {},
     "output_type": "display_data"
    }
   ],
   "source": [
    "pot_nue = sample_info[\"NUE\"][\"file\"][\"SubRun\"].array(\"pot\").sum()\n",
    "print(\"POT nue from sample:\", pot_nue)\n",
    "pot_nue_scaling = sample_info[\"On\"][\"POT\"] / sample_info[\"NUE\"][\"scaling\"]\n",
    "print(\"POT nue from scaling:\", pot_nue_scaling)"
   ]
  },
  {
   "cell_type": "code",
   "execution_count": 10,
   "metadata": {
    "scrolled": false
   },
   "outputs": [
    {
     "data": {
      "application/javascript": [
       "\n",
       "            setTimeout(function() {\n",
       "                var nbb_cell_id = 10;\n",
       "                var nbb_formatted_code = \"fields = [f.decode() for f in sample_info[\\\"NUE\\\"][\\\"file\\\"][main_tree].keys()]\";\n",
       "                var nbb_cells = Jupyter.notebook.get_cells();\n",
       "                for (var i = 0; i < nbb_cells.length; ++i) {\n",
       "                    if (nbb_cells[i].input_prompt_number == nbb_cell_id) {\n",
       "                        nbb_cells[i].set_text(nbb_formatted_code);\n",
       "                        break;\n",
       "                    }\n",
       "                }\n",
       "            }, 500);\n",
       "            "
      ],
      "text/plain": [
       "<IPython.core.display.Javascript object>"
      ]
     },
     "metadata": {},
     "output_type": "display_data"
    }
   ],
   "source": [
    "fields = [f.decode() for f in sample_info[\"NUE\"][\"file\"][main_tree].keys()]"
   ]
  },
  {
   "cell_type": "code",
   "execution_count": 11,
   "metadata": {},
   "outputs": [
    {
     "data": {
      "application/javascript": [
       "\n",
       "            setTimeout(function() {\n",
       "                var nbb_cell_id = 11;\n",
       "                var nbb_formatted_code = \"shr_fields = [f for f in fields if f.startswith(\\\"shr_\\\") and f.endswith(\\\"_v\\\")]\\ntrk_fields = [f for f in fields if f.startswith(\\\"trk_\\\") and f.endswith(\\\"_v\\\")]\\nbackracked_fields = [f for f in fields if f.startswith(\\\"backtracked_\\\")]\\nmc_fields = [f for f in fields if f.startswith((\\\"true_\\\", \\\"mc_\\\"))]\\nother_fields = (\\n    set(fields)\\n    - set(shr_fields)\\n    - set(trk_fields)\\n    - set(backracked_fields)\\n    - set(mc_fields)\\n)\";\n",
       "                var nbb_cells = Jupyter.notebook.get_cells();\n",
       "                for (var i = 0; i < nbb_cells.length; ++i) {\n",
       "                    if (nbb_cells[i].input_prompt_number == nbb_cell_id) {\n",
       "                        nbb_cells[i].set_text(nbb_formatted_code);\n",
       "                        break;\n",
       "                    }\n",
       "                }\n",
       "            }, 500);\n",
       "            "
      ],
      "text/plain": [
       "<IPython.core.display.Javascript object>"
      ]
     },
     "metadata": {},
     "output_type": "display_data"
    }
   ],
   "source": [
    "shr_fields = [f for f in fields if f.startswith(\"shr_\") and f.endswith(\"_v\")]\n",
    "trk_fields = [f for f in fields if f.startswith(\"trk_\") and f.endswith(\"_v\")]\n",
    "backracked_fields = [f for f in fields if f.startswith(\"backtracked_\")]\n",
    "mc_fields = [f for f in fields if f.startswith((\"true_\", \"mc_\"))]\n",
    "other_fields = (\n",
    "    set(fields)\n",
    "    - set(shr_fields)\n",
    "    - set(trk_fields)\n",
    "    - set(backracked_fields)\n",
    "    - set(mc_fields)\n",
    ")"
   ]
  },
  {
   "cell_type": "code",
   "execution_count": 12,
   "metadata": {
    "scrolled": true
   },
   "outputs": [
    {
     "data": {
      "text/plain": [
       "['true_pt',\n",
       " 'true_pt_visible',\n",
       " 'true_p',\n",
       " 'true_p_visible',\n",
       " 'true_e_visible',\n",
       " 'true_nu_vtx_t',\n",
       " 'true_nu_vtx_x',\n",
       " 'true_nu_vtx_y',\n",
       " 'true_nu_vtx_z',\n",
       " 'true_nu_vtx_sce_x',\n",
       " 'true_nu_vtx_sce_y',\n",
       " 'true_nu_vtx_sce_z',\n",
       " 'mc_pdg',\n",
       " 'mc_E',\n",
       " 'mc_vx',\n",
       " 'mc_vy',\n",
       " 'mc_vz',\n",
       " 'mc_endx',\n",
       " 'mc_endy',\n",
       " 'mc_endz',\n",
       " 'mc_px',\n",
       " 'mc_py',\n",
       " 'mc_pz',\n",
       " 'mc_completeness',\n",
       " 'mc_purity']"
      ]
     },
     "execution_count": 12,
     "metadata": {},
     "output_type": "execute_result"
    },
    {
     "data": {
      "application/javascript": [
       "\n",
       "            setTimeout(function() {\n",
       "                var nbb_cell_id = 12;\n",
       "                var nbb_formatted_code = \"mc_fields\";\n",
       "                var nbb_cells = Jupyter.notebook.get_cells();\n",
       "                for (var i = 0; i < nbb_cells.length; ++i) {\n",
       "                    if (nbb_cells[i].input_prompt_number == nbb_cell_id) {\n",
       "                        nbb_cells[i].set_text(nbb_formatted_code);\n",
       "                        break;\n",
       "                    }\n",
       "                }\n",
       "            }, 500);\n",
       "            "
      ],
      "text/plain": [
       "<IPython.core.display.Javascript object>"
      ]
     },
     "metadata": {},
     "output_type": "display_data"
    }
   ],
   "source": [
    "mc_fields"
   ]
  },
  {
   "cell_type": "code",
   "execution_count": 13,
   "metadata": {
    "scrolled": true
   },
   "outputs": [
    {
     "data": {
      "text/plain": [
       "['trk_score_v',\n",
       " 'trk_bragg_p_v',\n",
       " 'trk_bragg_mu_v',\n",
       " 'trk_bragg_mip_v',\n",
       " 'trk_pida_v',\n",
       " 'trk_pid_chipr_v',\n",
       " 'trk_pid_chipi_v',\n",
       " 'trk_pid_chika_v',\n",
       " 'trk_pid_chimu_v',\n",
       " 'trk_bragg_p_u_v',\n",
       " 'trk_bragg_mu_u_v',\n",
       " 'trk_bragg_mip_u_v',\n",
       " 'trk_pida_u_v',\n",
       " 'trk_pid_chipr_u_v',\n",
       " 'trk_pid_chipi_u_v',\n",
       " 'trk_pid_chika_u_v',\n",
       " 'trk_pid_chimu_u_v',\n",
       " 'trk_bragg_p_v_v',\n",
       " 'trk_bragg_mu_v_v',\n",
       " 'trk_bragg_mip_v_v',\n",
       " 'trk_pida_v_v',\n",
       " 'trk_pid_chipr_v_v',\n",
       " 'trk_pid_chipi_v_v',\n",
       " 'trk_pid_chika_v_v',\n",
       " 'trk_pid_chimu_v_v',\n",
       " 'trk_pfp_id_v',\n",
       " 'trk_dir_x_v',\n",
       " 'trk_dir_y_v',\n",
       " 'trk_dir_z_v',\n",
       " 'trk_start_x_v',\n",
       " 'trk_start_y_v',\n",
       " 'trk_start_z_v',\n",
       " 'trk_end_x_v',\n",
       " 'trk_end_y_v',\n",
       " 'trk_end_z_v',\n",
       " 'trk_distance_v',\n",
       " 'trk_theta_v',\n",
       " 'trk_phi_v',\n",
       " 'trk_len_v',\n",
       " 'trk_mcs_muon_mom_v',\n",
       " 'trk_energy_proton_v',\n",
       " 'trk_energy_muon_v']"
      ]
     },
     "execution_count": 13,
     "metadata": {},
     "output_type": "execute_result"
    },
    {
     "data": {
      "application/javascript": [
       "\n",
       "            setTimeout(function() {\n",
       "                var nbb_cell_id = 13;\n",
       "                var nbb_formatted_code = \"trk_fields\";\n",
       "                var nbb_cells = Jupyter.notebook.get_cells();\n",
       "                for (var i = 0; i < nbb_cells.length; ++i) {\n",
       "                    if (nbb_cells[i].input_prompt_number == nbb_cell_id) {\n",
       "                        nbb_cells[i].set_text(nbb_formatted_code);\n",
       "                        break;\n",
       "                    }\n",
       "                }\n",
       "            }, 500);\n",
       "            "
      ],
      "text/plain": [
       "<IPython.core.display.Javascript object>"
      ]
     },
     "metadata": {},
     "output_type": "display_data"
    }
   ],
   "source": [
    "trk_fields"
   ]
  },
  {
   "cell_type": "code",
   "execution_count": 14,
   "metadata": {
    "scrolled": true
   },
   "outputs": [
    {
     "data": {
      "text/plain": [
       "['shr_dedx_u_v',\n",
       " 'shr_dedx_v_v',\n",
       " 'shr_dedx_y_v',\n",
       " 'shr_energy_u_v',\n",
       " 'shr_energy_v_v',\n",
       " 'shr_energy_y_v',\n",
       " 'shr_pfp_id_v',\n",
       " 'shr_start_x_v',\n",
       " 'shr_start_y_v',\n",
       " 'shr_start_z_v',\n",
       " 'shr_start_U_v',\n",
       " 'shr_start_V_v',\n",
       " 'shr_dist_v',\n",
       " 'shr_nclus_v',\n",
       " 'shr_clushitfrac_v',\n",
       " 'shr_px_v',\n",
       " 'shr_py_v',\n",
       " 'shr_pz_v',\n",
       " 'shr_openangle_v',\n",
       " 'shr_theta_v',\n",
       " 'shr_phi_v',\n",
       " 'shr_tkfit_nhits_v',\n",
       " 'shr_tkfit_start_x_v',\n",
       " 'shr_tkfit_start_y_v',\n",
       " 'shr_tkfit_start_z_v',\n",
       " 'shr_tkfit_start_U_v',\n",
       " 'shr_tkfit_start_V_v',\n",
       " 'shr_tkfit_theta_v',\n",
       " 'shr_tkfit_phi_v',\n",
       " 'shr_tkfit_dedx_u_v',\n",
       " 'shr_tkfit_dedx_v_v',\n",
       " 'shr_tkfit_dedx_y_v',\n",
       " 'shr_tkfit_dedx_nhits_u_v',\n",
       " 'shr_tkfit_dedx_nhits_v_v',\n",
       " 'shr_tkfit_dedx_nhits_y_v',\n",
       " 'shr_spacepoint_start_x_v',\n",
       " 'shr_spacepoint_start_y_v',\n",
       " 'shr_spacepoint_start_z_v',\n",
       " 'shr_spacepoint_start_U_v',\n",
       " 'shr_spacepoint_start_V_v',\n",
       " 'shr_hits_start_U_wire_v',\n",
       " 'shr_hits_start_U_x_v',\n",
       " 'shr_hits_start_V_wire_v',\n",
       " 'shr_hits_start_V_x_v',\n",
       " 'shr_hits_start_Y_wire_v',\n",
       " 'shr_hits_start_Y_x_v']"
      ]
     },
     "execution_count": 14,
     "metadata": {},
     "output_type": "execute_result"
    },
    {
     "data": {
      "application/javascript": [
       "\n",
       "            setTimeout(function() {\n",
       "                var nbb_cell_id = 14;\n",
       "                var nbb_formatted_code = \"shr_fields\";\n",
       "                var nbb_cells = Jupyter.notebook.get_cells();\n",
       "                for (var i = 0; i < nbb_cells.length; ++i) {\n",
       "                    if (nbb_cells[i].input_prompt_number == nbb_cell_id) {\n",
       "                        nbb_cells[i].set_text(nbb_formatted_code);\n",
       "                        break;\n",
       "                    }\n",
       "                }\n",
       "            }, 500);\n",
       "            "
      ],
      "text/plain": [
       "<IPython.core.display.Javascript object>"
      ]
     },
     "metadata": {},
     "output_type": "display_data"
    }
   ],
   "source": [
    "shr_fields"
   ]
  },
  {
   "cell_type": "code",
   "execution_count": 15,
   "metadata": {
    "scrolled": true
   },
   "outputs": [
    {
     "data": {
      "text/plain": [
       "['backtracked_pdg',\n",
       " 'backtracked_e',\n",
       " 'backtracked_purity',\n",
       " 'backtracked_completeness',\n",
       " 'backtracked_overlay_purity',\n",
       " 'backtracked_px',\n",
       " 'backtracked_py',\n",
       " 'backtracked_pz',\n",
       " 'backtracked_start_x',\n",
       " 'backtracked_start_y',\n",
       " 'backtracked_start_z',\n",
       " 'backtracked_start_t',\n",
       " 'backtracked_start_U',\n",
       " 'backtracked_start_V',\n",
       " 'backtracked_start_Y',\n",
       " 'backtracked_sce_start_x',\n",
       " 'backtracked_sce_start_y',\n",
       " 'backtracked_sce_start_z',\n",
       " 'backtracked_sce_start_U',\n",
       " 'backtracked_sce_start_V',\n",
       " 'backtracked_sce_start_Y']"
      ]
     },
     "execution_count": 15,
     "metadata": {},
     "output_type": "execute_result"
    },
    {
     "data": {
      "application/javascript": [
       "\n",
       "            setTimeout(function() {\n",
       "                var nbb_cell_id = 15;\n",
       "                var nbb_formatted_code = \"backracked_fields\";\n",
       "                var nbb_cells = Jupyter.notebook.get_cells();\n",
       "                for (var i = 0; i < nbb_cells.length; ++i) {\n",
       "                    if (nbb_cells[i].input_prompt_number == nbb_cell_id) {\n",
       "                        nbb_cells[i].set_text(nbb_formatted_code);\n",
       "                        break;\n",
       "                    }\n",
       "                }\n",
       "            }, 500);\n",
       "            "
      ],
      "text/plain": [
       "<IPython.core.display.Javascript object>"
      ]
     },
     "metadata": {},
     "output_type": "display_data"
    }
   ],
   "source": [
    "backracked_fields"
   ]
  },
  {
   "cell_type": "code",
   "execution_count": 16,
   "metadata": {
    "scrolled": true
   },
   "outputs": [
    {
     "data": {
      "text/plain": [
       "{'CosmicIP',\n",
       " 'bdt_cosmic',\n",
       " 'bdt_ext',\n",
       " 'bdt_global',\n",
       " 'bdt_nuNCpi0',\n",
       " 'bdt_numuCC',\n",
       " 'bdt_numuCCpi0',\n",
       " 'best_cosmic_flashmatch_score',\n",
       " 'best_obviouscosmic_flashmatch_score',\n",
       " 'category',\n",
       " 'ccnc',\n",
       " 'contained_fraction',\n",
       " 'cosmic_flashmatch_score_v',\n",
       " 'crthitpe',\n",
       " 'crtveto',\n",
       " 'dmc_boundary',\n",
       " 'dshr_boundary',\n",
       " 'dshr_x_boundary',\n",
       " 'dshr_y_boundary',\n",
       " 'dshr_z_boundary',\n",
       " 'dtrk',\n",
       " 'dtrk_boundary',\n",
       " 'dtrk_x_boundary',\n",
       " 'dtrk_y_boundary',\n",
       " 'dtrk_z_boundary',\n",
       " 'dvtx',\n",
       " 'dvtx_boundary',\n",
       " 'dvtx_x_boundary',\n",
       " 'dvtx_y_boundary',\n",
       " 'dvtx_z_boundary',\n",
       " 'elec_c',\n",
       " 'elec_dist',\n",
       " 'elec_e',\n",
       " 'elec_edep',\n",
       " 'elec_etot',\n",
       " 'elec_p',\n",
       " 'elec_parent',\n",
       " 'elec_vx',\n",
       " 'elec_vy',\n",
       " 'elec_vz',\n",
       " 'endmuonmichel',\n",
       " 'endmuonprocess',\n",
       " 'evgamnhits',\n",
       " 'evlepnhits',\n",
       " 'evneunhits',\n",
       " 'evnhits',\n",
       " 'evnunhits',\n",
       " 'evothnhits',\n",
       " 'evpi0nhits',\n",
       " 'evpi1nhits',\n",
       " 'evpronhits',\n",
       " 'evt',\n",
       " 'extra_energy_y',\n",
       " 'frac_slnoise_pl1',\n",
       " 'gamma1_edep',\n",
       " 'gamma1_etot',\n",
       " 'gamma2_edep',\n",
       " 'gamma2_etot',\n",
       " 'gamma_dist',\n",
       " 'gamma_edep',\n",
       " 'gamma_etot',\n",
       " 'gamma_parent',\n",
       " 'hits_ratio',\n",
       " 'hits_u',\n",
       " 'hits_v',\n",
       " 'hits_y',\n",
       " 'interaction',\n",
       " 'isVtxInActive',\n",
       " 'isVtxInFiducial',\n",
       " 'leeweight',\n",
       " 'lep_e',\n",
       " 'matched_E',\n",
       " 'muon_c',\n",
       " 'muon_e',\n",
       " 'muon_p',\n",
       " 'n_pfps',\n",
       " 'n_showers',\n",
       " 'n_showers_contained',\n",
       " 'n_tracks',\n",
       " 'n_tracks_contained',\n",
       " 'nelec',\n",
       " 'nflag_pl1',\n",
       " 'nhits_pl1',\n",
       " 'nmuon',\n",
       " 'nneutron',\n",
       " 'nnoise_pl1',\n",
       " 'npi0',\n",
       " 'npion',\n",
       " 'nproton',\n",
       " 'nslhits_pl1',\n",
       " 'nslice',\n",
       " 'nslnoise_pl1',\n",
       " 'nu_e',\n",
       " 'nu_flashmatch_score',\n",
       " 'nu_pdg',\n",
       " 'nu_pt',\n",
       " 'nu_sce_x',\n",
       " 'nu_sce_y',\n",
       " 'nu_sce_z',\n",
       " 'nu_vtx_x',\n",
       " 'nu_vtx_y',\n",
       " 'nu_vtx_z',\n",
       " 'p',\n",
       " 'pass',\n",
       " 'pfgamnhits',\n",
       " 'pflepnhits',\n",
       " 'pfneunhits',\n",
       " 'pfnhits',\n",
       " 'pfnplanehits_U',\n",
       " 'pfnplanehits_V',\n",
       " 'pfnplanehits_Y',\n",
       " 'pfnunhits',\n",
       " 'pfothnhits',\n",
       " 'pfp_slice_idx',\n",
       " 'pfpdg',\n",
       " 'pfpi0nhits',\n",
       " 'pfpi1nhits',\n",
       " 'pfpronhits',\n",
       " 'pi0_c',\n",
       " 'pi0_e',\n",
       " 'pi0_p',\n",
       " 'pion_c',\n",
       " 'pion_e',\n",
       " 'pion_p',\n",
       " 'proton_c',\n",
       " 'proton_e',\n",
       " 'proton_p',\n",
       " 'pt',\n",
       " 'reco_nu_vtx_sce_x',\n",
       " 'reco_nu_vtx_sce_y',\n",
       " 'reco_nu_vtx_sce_z',\n",
       " 'reco_nu_vtx_x',\n",
       " 'reco_nu_vtx_y',\n",
       " 'reco_nu_vtx_z',\n",
       " 'run',\n",
       " 'selected',\n",
       " 'shr_bkt_E',\n",
       " 'shr_bkt_completeness',\n",
       " 'shr_bkt_pdg',\n",
       " 'shr_bkt_purity',\n",
       " 'shr_bragg_kaon',\n",
       " 'shr_bragg_mip',\n",
       " 'shr_bragg_mu',\n",
       " 'shr_bragg_p',\n",
       " 'shr_bragg_pion',\n",
       " 'shr_chimu',\n",
       " 'shr_chipr',\n",
       " 'shr_dedx_U',\n",
       " 'shr_dedx_U_cali',\n",
       " 'shr_dedx_V',\n",
       " 'shr_dedx_V_cali',\n",
       " 'shr_dedx_Y',\n",
       " 'shr_dedx_Y_cali',\n",
       " 'shr_distance',\n",
       " 'shr_energy',\n",
       " 'shr_energy_cali',\n",
       " 'shr_energy_tot',\n",
       " 'shr_energy_tot_cali',\n",
       " 'shr_hits_max',\n",
       " 'shr_hits_tot',\n",
       " 'shr_hits_u_tot',\n",
       " 'shr_hits_v_tot',\n",
       " 'shr_hits_y_tot',\n",
       " 'shr_id',\n",
       " 'shr_openangle',\n",
       " 'shr_pca_0',\n",
       " 'shr_pca_1',\n",
       " 'shr_pca_2',\n",
       " 'shr_phi',\n",
       " 'shr_px',\n",
       " 'shr_py',\n",
       " 'shr_pz',\n",
       " 'shr_score',\n",
       " 'shr_start_x',\n",
       " 'shr_start_y',\n",
       " 'shr_start_z',\n",
       " 'shr_theta',\n",
       " 'shr_tkfit_dedx_U',\n",
       " 'shr_tkfit_dedx_V',\n",
       " 'shr_tkfit_dedx_Y',\n",
       " 'shr_tkfit_nhits_U',\n",
       " 'shr_tkfit_nhits_V',\n",
       " 'shr_tkfit_nhits_Y',\n",
       " 'shr_tkfit_phi',\n",
       " 'shr_tkfit_start_x',\n",
       " 'shr_tkfit_start_y',\n",
       " 'shr_tkfit_start_z',\n",
       " 'shr_tkfit_theta',\n",
       " 'slclustfrac',\n",
       " 'slgamnhits',\n",
       " 'sllepnhits',\n",
       " 'slneunhits',\n",
       " 'slnhits',\n",
       " 'slnunhits',\n",
       " 'slothnhits',\n",
       " 'slpdg',\n",
       " 'slpi0nhits',\n",
       " 'slpi1nhits',\n",
       " 'slpronhits',\n",
       " 'sub',\n",
       " 'swtrig',\n",
       " 'theta',\n",
       " 'tksh_angle',\n",
       " 'tksh_distance',\n",
       " 'topological_score',\n",
       " 'total_hits_y',\n",
       " 'trk_bkt_E',\n",
       " 'trk_bkt_completeness',\n",
       " 'trk_bkt_pdg',\n",
       " 'trk_bkt_purity',\n",
       " 'trk_bragg_kaon',\n",
       " 'trk_bragg_mip',\n",
       " 'trk_bragg_mu',\n",
       " 'trk_bragg_p',\n",
       " 'trk_bragg_pion',\n",
       " 'trk_chimu',\n",
       " 'trk_chipr',\n",
       " 'trk_chipr_best',\n",
       " 'trk_chipr_worst',\n",
       " 'trk_distance',\n",
       " 'trk_energy',\n",
       " 'trk_energy_hits_tot',\n",
       " 'trk_energy_tot',\n",
       " 'trk_hits_max',\n",
       " 'trk_hits_tot',\n",
       " 'trk_hits_u_tot',\n",
       " 'trk_hits_v_tot',\n",
       " 'trk_hits_y_tot',\n",
       " 'trk_id',\n",
       " 'trk_len',\n",
       " 'trk_phi',\n",
       " 'trk_pida',\n",
       " 'trk_score',\n",
       " 'trk_theta',\n",
       " 'vtx_x',\n",
       " 'vtx_y',\n",
       " 'vtx_z',\n",
       " 'weightSpline',\n",
       " 'weights',\n",
       " 'weightsFlux',\n",
       " 'weightsGenie',\n",
       " 'weightsReint',\n",
       " 'xsceoffset',\n",
       " 'xtimeoffset',\n",
       " 'ysceoffset',\n",
       " 'zsceoffset'}"
      ]
     },
     "execution_count": 16,
     "metadata": {},
     "output_type": "execute_result"
    },
    {
     "data": {
      "application/javascript": [
       "\n",
       "            setTimeout(function() {\n",
       "                var nbb_cell_id = 16;\n",
       "                var nbb_formatted_code = \"other_fields\";\n",
       "                var nbb_cells = Jupyter.notebook.get_cells();\n",
       "                for (var i = 0; i < nbb_cells.length; ++i) {\n",
       "                    if (nbb_cells[i].input_prompt_number == nbb_cell_id) {\n",
       "                        nbb_cells[i].set_text(nbb_formatted_code);\n",
       "                        break;\n",
       "                    }\n",
       "                }\n",
       "            }, 500);\n",
       "            "
      ],
      "text/plain": [
       "<IPython.core.display.Javascript object>"
      ]
     },
     "metadata": {},
     "output_type": "display_data"
    }
   ],
   "source": [
    "other_fields"
   ]
  },
  {
   "cell_type": "code",
   "execution_count": 17,
   "metadata": {},
   "outputs": [
    {
     "data": {
      "text/plain": [
       "['n_tracks_contained', 'n_showers_contained', 'contained_fraction']"
      ]
     },
     "execution_count": 17,
     "metadata": {},
     "output_type": "execute_result"
    },
    {
     "data": {
      "application/javascript": [
       "\n",
       "            setTimeout(function() {\n",
       "                var nbb_cell_id = 17;\n",
       "                var nbb_formatted_code = \"# search through fields:\\n[f for f in fields if \\\"con\\\" in f]\";\n",
       "                var nbb_cells = Jupyter.notebook.get_cells();\n",
       "                for (var i = 0; i < nbb_cells.length; ++i) {\n",
       "                    if (nbb_cells[i].input_prompt_number == nbb_cell_id) {\n",
       "                        nbb_cells[i].set_text(nbb_formatted_code);\n",
       "                        break;\n",
       "                    }\n",
       "                }\n",
       "            }, 500);\n",
       "            "
      ],
      "text/plain": [
       "<IPython.core.display.Javascript object>"
      ]
     },
     "metadata": {},
     "output_type": "display_data"
    }
   ],
   "source": [
    "# search through fields:\n",
    "[f for f in fields if \"con\" in f]"
   ]
  },
  {
   "cell_type": "markdown",
   "metadata": {},
   "source": [
    "### Load into Pandas\n",
    "At some point, you might need: for df in file.pandas.iterate"
   ]
  },
  {
   "cell_type": "code",
   "execution_count": 18,
   "metadata": {},
   "outputs": [
    {
     "data": {
      "application/javascript": [
       "\n",
       "            setTimeout(function() {\n",
       "                var nbb_cell_id = 18;\n",
       "                var nbb_formatted_code = \"col_pfp = [\\\"pfnplanehits_U\\\", \\\"pfnplanehits_V\\\", \\\"pfnplanehits_Y\\\", \\\"pfnhits\\\"]\\ncol_trk = [\\n    \\\"trk_score_v\\\",\\n    \\\"trk_distance_v\\\",\\n    \\\"trk_theta_v\\\",\\n    \\\"trk_phi_v\\\",\\n    \\\"trk_len_v\\\",\\n    \\\"trk_pid_chipr_v\\\",\\n    \\\"trk_pid_chimu_v\\\",\\n]\\ncol_shr = [\\n    \\\"shr_dist_v\\\",\\n    \\\"shr_energy_y_v\\\",\\n    \\\"shr_openangle_v\\\",\\n    \\\"shr_tkfit_start_x_v\\\",\\n    \\\"shr_tkfit_start_y_v\\\",\\n    \\\"shr_tkfit_start_z_v\\\",\\n    \\\"shr_tkfit_theta_v\\\",\\n    \\\"shr_tkfit_phi_v\\\",\\n    \\\"shr_tkfit_dedx_u_v\\\",\\n    \\\"shr_tkfit_dedx_v_v\\\",\\n    \\\"shr_tkfit_dedx_y_v\\\",\\n    \\\"shr_tkfit_nhits_v\\\",\\n    \\\"shr_tkfit_dedx_nhits_u_v\\\",\\n    \\\"shr_tkfit_dedx_nhits_v_v\\\",\\n    \\\"shr_tkfit_dedx_nhits_y_v\\\",\\n]\\ncol_backtracked = [\\n    \\\"backtracked_pdg\\\",\\n    \\\"backtracked_e\\\",\\n    \\\"backtracked_completeness\\\",\\n    \\\"backtracked_purity\\\",\\n    \\\"backtracked_overlay_purity\\\",\\n]\\ncol_mc = [\\n    \\\"true_nu_vtx_x\\\",\\n    \\\"true_nu_vtx_y\\\",\\n    \\\"true_nu_vtx_z\\\",\\n    \\\"true_nu_vtx_sce_x\\\",\\n    \\\"true_nu_vtx_sce_y\\\",\\n    \\\"true_nu_vtx_sce_z\\\",\\n    \\\"nu_e\\\",\\n    \\\"nu_pdg\\\",\\n    \\\"theta\\\",\\n    \\\"ccnc\\\",\\n    \\\"interaction\\\",\\n    \\\"weightSpline\\\",\\n    \\\"leeweight\\\",\\n]\\ncol_event = [\\n    \\\"run\\\",\\n    \\\"sub\\\",\\n    \\\"evt\\\",\\n    \\\"topological_score\\\",\\n    \\\"n_pfps\\\",\\n    \\\"n_showers\\\",\\n    \\\"n_tracks\\\",\\n    \\\"reco_nu_vtx_sce_x\\\",\\n    \\\"reco_nu_vtx_sce_y\\\",\\n    \\\"reco_nu_vtx_sce_z\\\",\\n    \\\"reco_nu_vtx_x\\\",\\n    \\\"reco_nu_vtx_y\\\",\\n    \\\"reco_nu_vtx_z\\\",\\n    \\\"crtveto\\\",\\n    \\\"slclustfrac\\\",\\n    \\\"hits_ratio\\\",\\n    \\\"nu_flashmatch_score\\\",\\n    \\\"contained_fraction\\\",\\n]\\n\\ncols_flatten = col_trk + col_shr + col_pfp\\ncols_reco = col_event + cols_flatten\";\n",
       "                var nbb_cells = Jupyter.notebook.get_cells();\n",
       "                for (var i = 0; i < nbb_cells.length; ++i) {\n",
       "                    if (nbb_cells[i].input_prompt_number == nbb_cell_id) {\n",
       "                        nbb_cells[i].set_text(nbb_formatted_code);\n",
       "                        break;\n",
       "                    }\n",
       "                }\n",
       "            }, 500);\n",
       "            "
      ],
      "text/plain": [
       "<IPython.core.display.Javascript object>"
      ]
     },
     "metadata": {},
     "output_type": "display_data"
    }
   ],
   "source": [
    "col_pfp = [\"pfnplanehits_U\", \"pfnplanehits_V\", \"pfnplanehits_Y\", \"pfnhits\"]\n",
    "col_trk = [\n",
    "    \"trk_score_v\",\n",
    "    \"trk_distance_v\",\n",
    "    \"trk_theta_v\",\n",
    "    \"trk_phi_v\",\n",
    "    \"trk_len_v\",\n",
    "    \"trk_pid_chipr_v\",\n",
    "    \"trk_pid_chimu_v\",\n",
    "]\n",
    "col_shr = [\n",
    "    \"shr_dist_v\",\n",
    "    \"shr_energy_y_v\",\n",
    "    \"shr_openangle_v\",\n",
    "    \"shr_tkfit_start_x_v\",\n",
    "    \"shr_tkfit_start_y_v\",\n",
    "    \"shr_tkfit_start_z_v\",\n",
    "    \"shr_tkfit_theta_v\",\n",
    "    \"shr_tkfit_phi_v\",\n",
    "    \"shr_tkfit_dedx_u_v\",\n",
    "    \"shr_tkfit_dedx_v_v\",\n",
    "    \"shr_tkfit_dedx_y_v\",\n",
    "    \"shr_tkfit_nhits_v\",\n",
    "    \"shr_tkfit_dedx_nhits_u_v\",\n",
    "    \"shr_tkfit_dedx_nhits_v_v\",\n",
    "    \"shr_tkfit_dedx_nhits_y_v\",\n",
    "]\n",
    "col_backtracked = [\n",
    "    \"backtracked_pdg\",\n",
    "    \"backtracked_e\",\n",
    "    \"backtracked_completeness\",\n",
    "    \"backtracked_purity\",\n",
    "    \"backtracked_overlay_purity\",\n",
    "]\n",
    "col_mc = [\n",
    "    \"true_nu_vtx_x\",\n",
    "    \"true_nu_vtx_y\",\n",
    "    \"true_nu_vtx_z\",\n",
    "    \"true_nu_vtx_sce_x\",\n",
    "    \"true_nu_vtx_sce_y\",\n",
    "    \"true_nu_vtx_sce_z\",\n",
    "    \"nu_e\",\n",
    "    \"nu_pdg\",\n",
    "    \"theta\",\n",
    "    \"ccnc\",\n",
    "    \"interaction\",\n",
    "    \"weightSpline\",\n",
    "    \"leeweight\",\n",
    "]\n",
    "col_event = [\n",
    "    \"run\",\n",
    "    \"sub\",\n",
    "    \"evt\",\n",
    "    \"topological_score\",\n",
    "    \"n_pfps\",\n",
    "    \"n_showers\",\n",
    "    \"n_tracks\",\n",
    "    \"reco_nu_vtx_sce_x\",\n",
    "    \"reco_nu_vtx_sce_y\",\n",
    "    \"reco_nu_vtx_sce_z\",\n",
    "    \"reco_nu_vtx_x\",\n",
    "    \"reco_nu_vtx_y\",\n",
    "    \"reco_nu_vtx_z\",\n",
    "    \"crtveto\",\n",
    "    \"slclustfrac\",\n",
    "    \"hits_ratio\",\n",
    "    \"nu_flashmatch_score\",\n",
    "    \"contained_fraction\",\n",
    "]\n",
    "\n",
    "cols_flatten = col_trk + col_shr + col_pfp\n",
    "cols_reco = col_event + cols_flatten"
   ]
  },
  {
   "cell_type": "code",
   "execution_count": 19,
   "metadata": {},
   "outputs": [
    {
     "name": "stdout",
     "output_type": "stream",
     "text": [
      "On\n",
      "Off\n",
      "MC\n",
      "NUE\n",
      "DRT\n",
      "CPU times: user 36.6 s, sys: 331 ms, total: 36.9 s\n",
      "Wall time: 34.8 s\n"
     ]
    },
    {
     "data": {
      "application/javascript": [
       "\n",
       "            setTimeout(function() {\n",
       "                var nbb_cell_id = 19;\n",
       "                var nbb_formatted_code = \"%%time\\n# Load the sample daughter frames, this takes about a minute and 1gb of RAM\\nfor k, v in sample_info.items():\\n    print(k)\\n    cols_load = cols_reco.copy()\\n    if k in mc_samples:\\n        cols_load+= (col_mc+col_backtracked)\\n    v['daughters'] = v[\\\"file\\\"][main_tree].pandas.df(cols_load, flatten=True)\\n    v['daughters'].index.names = ['event', 'daughter']\";\n",
       "                var nbb_cells = Jupyter.notebook.get_cells();\n",
       "                for (var i = 0; i < nbb_cells.length; ++i) {\n",
       "                    if (nbb_cells[i].input_prompt_number == nbb_cell_id) {\n",
       "                        nbb_cells[i].set_text(nbb_formatted_code);\n",
       "                        break;\n",
       "                    }\n",
       "                }\n",
       "            }, 500);\n",
       "            "
      ],
      "text/plain": [
       "<IPython.core.display.Javascript object>"
      ]
     },
     "metadata": {},
     "output_type": "display_data"
    }
   ],
   "source": [
    "%%time\n",
    "# Load the sample daughter frames, this takes about a minute and 1gb of RAM\n",
    "for k, v in sample_info.items():\n",
    "    print(k)\n",
    "    cols_load = cols_reco.copy()\n",
    "    if k in mc_samples:\n",
    "        cols_load+= (col_mc+col_backtracked)\n",
    "    v['daughters'] = v[\"file\"][main_tree].pandas.df(cols_load, flatten=True)\n",
    "    v['daughters'].index.names = ['event', 'daughter']"
   ]
  },
  {
   "cell_type": "code",
   "execution_count": 20,
   "metadata": {},
   "outputs": [
    {
     "name": "stdout",
     "output_type": "stream",
     "text": [
      "Nue signal passing the Slice ID \t84.78%\n"
     ]
    },
    {
     "data": {
      "application/javascript": [
       "\n",
       "            setTimeout(function() {\n",
       "                var nbb_cell_id = 20;\n",
       "                var nbb_formatted_code = \"# Only for signal sample:\\ntable_cols = [\\n    \\\"mc_pdg\\\",\\n    \\\"mc_E\\\",\\n    \\\"theta\\\",\\n    \\\"true_nu_vtx_x\\\",\\n    \\\"true_nu_vtx_y\\\",\\n    \\\"true_nu_vtx_z\\\",\\n    \\\"n_pfps\\\",\\n    \\\"interaction\\\",\\n    \\\"weightSpline\\\",\\n    \\\"leeweight\\\",\\n]\\nnue_mc_arrays = sample_info[\\\"NUE\\\"][\\\"file\\\"][main_tree].arrays(\\n    table_cols, namedecode=\\\"utf-8\\\"\\n)\\nnue_mc_arrays[\\\"leeweight\\\"] *= nue_mc_arrays[\\\"weightSpline\\\"]\\n\\nhas_proton = (\\n    nue_mc_arrays[\\\"mc_E\\\"][nue_mc_arrays[\\\"mc_pdg\\\"] == 2212] > min_p_energy\\n).any()\\nhas_electron = (\\n    nue_mc_arrays[\\\"mc_E\\\"][nue_mc_arrays[\\\"mc_pdg\\\"] == 11] > min_e_energy\\n).any()\\nhas_fiducial_vtx = helper.is_fid(\\n    nue_mc_arrays[\\\"true_nu_vtx_x\\\"],\\n    nue_mc_arrays[\\\"true_nu_vtx_y\\\"],\\n    nue_mc_arrays[\\\"true_nu_vtx_z\\\"],\\n)\\n\\nsignal_mask = has_fiducial_vtx & has_electron\\nsample_info[\\\"NUE\\\"][\\\"daughters\\\"][\\\"nueccinc\\\"] = np.repeat(\\n    signal_mask, nue_mc_arrays[\\\"n_pfps\\\"]\\n)\\nsample_info[\\\"NUE\\\"][\\\"mc\\\"] = nue_mc_arrays\\n\\npass_rate = sum((signal_mask * nue_mc_arrays[\\\"n_pfps\\\"]) > 0) / sum(signal_mask)\\nprint(\\\"Nue signal passing the Slice ID \\\\t{:.2f}%\\\".format(pass_rate * 100))\";\n",
       "                var nbb_cells = Jupyter.notebook.get_cells();\n",
       "                for (var i = 0; i < nbb_cells.length; ++i) {\n",
       "                    if (nbb_cells[i].input_prompt_number == nbb_cell_id) {\n",
       "                        nbb_cells[i].set_text(nbb_formatted_code);\n",
       "                        break;\n",
       "                    }\n",
       "                }\n",
       "            }, 500);\n",
       "            "
      ],
      "text/plain": [
       "<IPython.core.display.Javascript object>"
      ]
     },
     "metadata": {},
     "output_type": "display_data"
    }
   ],
   "source": [
    "# Only for signal sample:\n",
    "table_cols = [\n",
    "    \"mc_pdg\",\n",
    "    \"mc_E\",\n",
    "    \"theta\",\n",
    "    \"true_nu_vtx_x\",\n",
    "    \"true_nu_vtx_y\",\n",
    "    \"true_nu_vtx_z\",\n",
    "    \"n_pfps\",\n",
    "    \"interaction\",\n",
    "    \"weightSpline\",\n",
    "    \"leeweight\",\n",
    "]\n",
    "nue_mc_arrays = sample_info[\"NUE\"][\"file\"][main_tree].arrays(\n",
    "    table_cols, namedecode=\"utf-8\"\n",
    ")\n",
    "nue_mc_arrays[\"leeweight\"] *= nue_mc_arrays[\"weightSpline\"]\n",
    "\n",
    "has_proton = (\n",
    "    nue_mc_arrays[\"mc_E\"][nue_mc_arrays[\"mc_pdg\"] == 2212] > min_p_energy\n",
    ").any()\n",
    "has_electron = (\n",
    "    nue_mc_arrays[\"mc_E\"][nue_mc_arrays[\"mc_pdg\"] == 11] > min_e_energy\n",
    ").any()\n",
    "has_fiducial_vtx = helper.is_fid(\n",
    "    nue_mc_arrays[\"true_nu_vtx_x\"],\n",
    "    nue_mc_arrays[\"true_nu_vtx_y\"],\n",
    "    nue_mc_arrays[\"true_nu_vtx_z\"],\n",
    ")\n",
    "\n",
    "signal_mask = has_fiducial_vtx & has_electron\n",
    "sample_info[\"NUE\"][\"daughters\"][\"nueccinc\"] = np.repeat(\n",
    "    signal_mask, nue_mc_arrays[\"n_pfps\"]\n",
    ")\n",
    "sample_info[\"NUE\"][\"mc\"] = nue_mc_arrays\n",
    "\n",
    "pass_rate = sum((signal_mask * nue_mc_arrays[\"n_pfps\"]) > 0) / sum(signal_mask)\n",
    "print(\"Nue signal passing the Slice ID \\t{:.2f}%\".format(pass_rate * 100))"
   ]
  },
  {
   "cell_type": "markdown",
   "metadata": {},
   "source": [
    "### Add fields"
   ]
  },
  {
   "cell_type": "code",
   "execution_count": 21,
   "metadata": {},
   "outputs": [
    {
     "name": "stdout",
     "output_type": "stream",
     "text": [
      "CPU times: user 2.51 s, sys: 51.9 ms, total: 2.56 s\n",
      "Wall time: 1.78 s\n"
     ]
    },
    {
     "data": {
      "application/javascript": [
       "\n",
       "            setTimeout(function() {\n",
       "                var nbb_cell_id = 21;\n",
       "                var nbb_formatted_code = \"%%time\\n# For all samples\\nfor k, v in sample_info.items():\\n    # Add fiducial reco sce vtx\\n    v[\\\"daughters\\\"][\\\"reco_fid_vol\\\"] = np.repeat(\\n        helper.is_fid(\\n            *v[\\\"daughters\\\"][\\n                [\\\"reco_nu_vtx_sce_x\\\", \\\"reco_nu_vtx_sce_y\\\", \\\"reco_nu_vtx_sce_z\\\"]\\n            ]\\n            .xs(0, level=\\\"daughter\\\")\\n            .values.T\\n        ),\\n        v[\\\"daughters\\\"][\\\"n_pfps\\\"].xs(0, level=\\\"daughter\\\"),\\n    )\\n    # Add maxangle\\n    # Todo\\n    # a.distinct(b, nested=True)\\n    \\n    # Add electron candidate check\\n    e_cand_str = 'pfnplanehits_U>0 & pfnplanehits_V>0 & pfnplanehits_Y>0 & trk_score_v<@max_trk_score & shr_tkfit_dedx_nhits_y_v>0'    \\n    data = v[\\\"daughters\\\"][\\n                [\\n                    \\\"pfnplanehits_U\\\", \\\"pfnplanehits_V\\\", \\\"pfnplanehits_Y\\\",\\n                    \\\"trk_score_v\\\",'shr_tkfit_dedx_nhits_y_v',\\n                    \\\"shr_energy_y_v\\\",\\n                ]\\n            ]\\n    electron_candidate = data.eval(e_cand_str)\\n    e_cand_maxe = data[electron_candidate][\\\"shr_energy_y_v\\\"].groupby(\\\"event\\\").transform(max) == data[electron_candidate][\\\"shr_energy_y_v\\\"]\\n    v[\\\"daughters\\\"][\\\"e_candidate\\\"] = False\\n    v[\\\"daughters\\\"].loc[e_cand_maxe[e_cand_maxe == True].index, \\\"e_candidate\\\"] = True\\n    # Add dedx for plane with most hits:\\n    dedx_cols = [\\\"shr_tkfit_dedx_u_v\\\",\\n                    \\\"shr_tkfit_dedx_v_v\\\",\\n                    \\\"shr_tkfit_dedx_y_v\\\",\\n                    'shr_tkfit_nhits_v',\\n                    \\\"shr_tkfit_dedx_nhits_u_v\\\",\\n                    \\\"shr_tkfit_dedx_nhits_v_v\\\",\\n                    \\\"shr_tkfit_dedx_nhits_y_v\\\"]\\n    v[\\\"daughters\\\"][dedx_cols]=v[\\\"daughters\\\"][dedx_cols].clip(lower=0)\\n    str_dedx_weighted_mean='(shr_tkfit_dedx_u_v*shr_tkfit_dedx_nhits_u_v+shr_tkfit_dedx_v_v*shr_tkfit_dedx_nhits_v_v+2*shr_tkfit_dedx_y_v*shr_tkfit_dedx_nhits_y_v)/(shr_tkfit_dedx_nhits_u_v+shr_tkfit_dedx_nhits_v_v+2*shr_tkfit_dedx_nhits_y_v)'\\n    v[\\\"daughters\\\"]['shr_tkfit_dedx_wm_v']= v[\\\"daughters\\\"].eval(str_dedx_weighted_mean)\";\n",
       "                var nbb_cells = Jupyter.notebook.get_cells();\n",
       "                for (var i = 0; i < nbb_cells.length; ++i) {\n",
       "                    if (nbb_cells[i].input_prompt_number == nbb_cell_id) {\n",
       "                        nbb_cells[i].set_text(nbb_formatted_code);\n",
       "                        break;\n",
       "                    }\n",
       "                }\n",
       "            }, 500);\n",
       "            "
      ],
      "text/plain": [
       "<IPython.core.display.Javascript object>"
      ]
     },
     "metadata": {},
     "output_type": "display_data"
    }
   ],
   "source": [
    "%%time\n",
    "# For all samples\n",
    "for k, v in sample_info.items():\n",
    "    # Add fiducial reco sce vtx\n",
    "    v[\"daughters\"][\"reco_fid_vol\"] = np.repeat(\n",
    "        helper.is_fid(\n",
    "            *v[\"daughters\"][\n",
    "                [\"reco_nu_vtx_sce_x\", \"reco_nu_vtx_sce_y\", \"reco_nu_vtx_sce_z\"]\n",
    "            ]\n",
    "            .xs(0, level=\"daughter\")\n",
    "            .values.T\n",
    "        ),\n",
    "        v[\"daughters\"][\"n_pfps\"].xs(0, level=\"daughter\"),\n",
    "    )\n",
    "    # Add maxangle\n",
    "    # Todo\n",
    "    # a.distinct(b, nested=True)\n",
    "    \n",
    "    # Add electron candidate check\n",
    "    e_cand_str = 'pfnplanehits_U>0 & pfnplanehits_V>0 & pfnplanehits_Y>0 & trk_score_v<@max_trk_score & shr_tkfit_dedx_nhits_y_v>0'    \n",
    "    data = v[\"daughters\"][\n",
    "                [\n",
    "                    \"pfnplanehits_U\", \"pfnplanehits_V\", \"pfnplanehits_Y\",\n",
    "                    \"trk_score_v\",'shr_tkfit_dedx_nhits_y_v',\n",
    "                    \"shr_energy_y_v\",\n",
    "                ]\n",
    "            ]\n",
    "    electron_candidate = data.eval(e_cand_str)\n",
    "    e_cand_maxe = data[electron_candidate][\"shr_energy_y_v\"].groupby(\"event\").transform(max) == data[electron_candidate][\"shr_energy_y_v\"]\n",
    "    v[\"daughters\"][\"e_candidate\"] = False\n",
    "    v[\"daughters\"].loc[e_cand_maxe[e_cand_maxe == True].index, \"e_candidate\"] = True\n",
    "    # Add dedx for plane with most hits:\n",
    "    dedx_cols = [\"shr_tkfit_dedx_u_v\",\n",
    "                    \"shr_tkfit_dedx_v_v\",\n",
    "                    \"shr_tkfit_dedx_y_v\",\n",
    "                    'shr_tkfit_nhits_v',\n",
    "                    \"shr_tkfit_dedx_nhits_u_v\",\n",
    "                    \"shr_tkfit_dedx_nhits_v_v\",\n",
    "                    \"shr_tkfit_dedx_nhits_y_v\"]\n",
    "    v[\"daughters\"][dedx_cols]=v[\"daughters\"][dedx_cols].clip(lower=0)\n",
    "    str_dedx_weighted_mean='(shr_tkfit_dedx_u_v*shr_tkfit_dedx_nhits_u_v+shr_tkfit_dedx_v_v*shr_tkfit_dedx_nhits_v_v+2*shr_tkfit_dedx_y_v*shr_tkfit_dedx_nhits_y_v)/(shr_tkfit_dedx_nhits_u_v+shr_tkfit_dedx_nhits_v_v+2*shr_tkfit_dedx_nhits_y_v)'\n",
    "    v[\"daughters\"]['shr_tkfit_dedx_wm_v']= v[\"daughters\"].eval(str_dedx_weighted_mean)"
   ]
  },
  {
   "cell_type": "code",
   "execution_count": 22,
   "metadata": {
    "scrolled": false
   },
   "outputs": [
    {
     "name": "stderr",
     "output_type": "stream",
     "text": [
      "/home/wouter/Binaries/miniconda3/envs/uproot/lib/python3.7/site-packages/numpy/linalg/linalg.py:2512: RuntimeWarning: overflow encountered in multiply\n",
      "  s = (x.conj() * x).real\n"
     ]
    },
    {
     "name": "stdout",
     "output_type": "stream",
     "text": [
      "CPU times: user 2.33 s, sys: 140 ms, total: 2.47 s\n",
      "Wall time: 1.32 s\n"
     ]
    },
    {
     "data": {
      "application/javascript": [
       "\n",
       "            setTimeout(function() {\n",
       "                var nbb_cell_id = 22;\n",
       "                var nbb_formatted_code = \"%%time\\n# For MC samples\\nfor k, v in sample_info.items():\\n    if k in mc_samples:\\n        \\n        # Correct the LEE weight using the splineweight\\n        v['daughters'][\\\"leeweight\\\"]*=v['daughters'][\\\"weightSpline\\\"]\\n        \\n        # Add distance between reco_sce and true vertex\\n        data = (\\n            v[\\\"daughters\\\"][\\n                [\\n                    \\\"reco_nu_vtx_sce_x\\\",\\n                    \\\"reco_nu_vtx_sce_y\\\",\\n                    \\\"reco_nu_vtx_sce_z\\\",\\n                    \\\"true_nu_vtx_x\\\",\\n                    \\\"true_nu_vtx_y\\\",\\n                    \\\"true_nu_vtx_z\\\",\\n                ]\\n            ]\\n            .xs(0, level=\\\"daughter\\\")\\n            .values.T\\n        )\\n        data[0]-=x_sce_magic # Correct x location for the 0.6 sign error\\n        \\n        v[\\\"daughters\\\"][\\\"true_vtx_distance\\\"] = np.repeat(\\n            np.linalg.norm(data[0:3] - data[3:6], axis=0),\\n            v[\\\"daughters\\\"][\\\"n_pfps\\\"].xs(0, level=\\\"daughter\\\"),\\n        )\\n        # Cross-check vtx distance\\n        data = (\\n            v[\\\"daughters\\\"][\\n                [\\n                    \\\"true_nu_vtx_sce_x\\\",\\n                    \\\"true_nu_vtx_sce_y\\\",\\n                    \\\"true_nu_vtx_sce_z\\\",\\n                    \\\"reco_nu_vtx_x\\\",\\n                    \\\"reco_nu_vtx_y\\\",\\n                    \\\"reco_nu_vtx_z\\\",\\n                ]\\n            ]\\n            .xs(0, level=\\\"daughter\\\")\\n            .values.T\\n        )\\n        v[\\\"daughters\\\"][\\\"true_vtx_distance_check\\\"] = np.repeat(\\n            np.linalg.norm(data[0:3] - data[3:6], axis=0),\\n            v[\\\"daughters\\\"][\\\"n_pfps\\\"].xs(0, level=\\\"daughter\\\"),\\n        )\\n        # Add the distance between the true neutrino vertex and the reconstructed shower start point\\n        data = (\\n            v[\\\"daughters\\\"][\\n                [\\n                    \\\"true_nu_vtx_sce_x\\\",\\n                    \\\"true_nu_vtx_sce_y\\\",\\n                    \\\"true_nu_vtx_sce_z\\\",\\n                    \\\"shr_tkfit_start_x_v\\\",\\n                    \\\"shr_tkfit_start_y_v\\\",\\n                    \\\"shr_tkfit_start_z_v\\\",\\n                ]\\n            ]\\n            .values.T\\n        )\\n        v[\\\"daughters\\\"][\\\"true_shower_distance\\\"] = np.linalg.norm(data[0:3] - data[3:6], axis=0)\\n        \\n        # Add the modified purity/completeness to account for overlay.\\n        overlay_mask = v[\\\"daughters\\\"].eval('backtracked_overlay_purity>backtracked_purity')\\n        v[\\\"daughters\\\"].loc[overlay_mask, 'backtracked_pdg'] = 0\\n        v[\\\"daughters\\\"].loc[overlay_mask, 'backtracked_purity'] = v[\\\"daughters\\\"].loc[overlay_mask, 'backtracked_overlay_purity']\\n        v[\\\"daughters\\\"].loc[overlay_mask, 'backtracked_completeness'] = 0\\n        \\n        # Drop some stuff you do not need anymore\\n        drop_cols = ['backtracked_overlay_purity',\\n                     #\\\"true_nu_vtx_sce_x\\\",\\n                     \\\"true_nu_vtx_sce_y\\\",\\n                     \\\"true_nu_vtx_sce_z\\\",\\n                     #\\\"reco_nu_vtx_x\\\",\\n                     \\\"reco_nu_vtx_y\\\",\\n                     \\\"reco_nu_vtx_z\\\"]\\n        for c in drop_cols:\\n            if c in v[\\\"daughters\\\"].columns:\\n                v[\\\"daughters\\\"].drop(c, inplace=True, axis=1)\\n            else:\\n                print(c, \\\" was not in dataframe!\\\")\";\n",
       "                var nbb_cells = Jupyter.notebook.get_cells();\n",
       "                for (var i = 0; i < nbb_cells.length; ++i) {\n",
       "                    if (nbb_cells[i].input_prompt_number == nbb_cell_id) {\n",
       "                        nbb_cells[i].set_text(nbb_formatted_code);\n",
       "                        break;\n",
       "                    }\n",
       "                }\n",
       "            }, 500);\n",
       "            "
      ],
      "text/plain": [
       "<IPython.core.display.Javascript object>"
      ]
     },
     "metadata": {},
     "output_type": "display_data"
    }
   ],
   "source": [
    "%%time\n",
    "# For MC samples\n",
    "for k, v in sample_info.items():\n",
    "    if k in mc_samples:\n",
    "        \n",
    "        # Correct the LEE weight using the splineweight\n",
    "        v['daughters'][\"leeweight\"]*=v['daughters'][\"weightSpline\"]\n",
    "        \n",
    "        # Add distance between reco_sce and true vertex\n",
    "        data = (\n",
    "            v[\"daughters\"][\n",
    "                [\n",
    "                    \"reco_nu_vtx_sce_x\",\n",
    "                    \"reco_nu_vtx_sce_y\",\n",
    "                    \"reco_nu_vtx_sce_z\",\n",
    "                    \"true_nu_vtx_x\",\n",
    "                    \"true_nu_vtx_y\",\n",
    "                    \"true_nu_vtx_z\",\n",
    "                ]\n",
    "            ]\n",
    "            .xs(0, level=\"daughter\")\n",
    "            .values.T\n",
    "        )\n",
    "        data[0]-=x_sce_magic # Correct x location for the 0.6 sign error\n",
    "        \n",
    "        v[\"daughters\"][\"true_vtx_distance\"] = np.repeat(\n",
    "            np.linalg.norm(data[0:3] - data[3:6], axis=0),\n",
    "            v[\"daughters\"][\"n_pfps\"].xs(0, level=\"daughter\"),\n",
    "        )\n",
    "        # Cross-check vtx distance\n",
    "        data = (\n",
    "            v[\"daughters\"][\n",
    "                [\n",
    "                    \"true_nu_vtx_sce_x\",\n",
    "                    \"true_nu_vtx_sce_y\",\n",
    "                    \"true_nu_vtx_sce_z\",\n",
    "                    \"reco_nu_vtx_x\",\n",
    "                    \"reco_nu_vtx_y\",\n",
    "                    \"reco_nu_vtx_z\",\n",
    "                ]\n",
    "            ]\n",
    "            .xs(0, level=\"daughter\")\n",
    "            .values.T\n",
    "        )\n",
    "        v[\"daughters\"][\"true_vtx_distance_check\"] = np.repeat(\n",
    "            np.linalg.norm(data[0:3] - data[3:6], axis=0),\n",
    "            v[\"daughters\"][\"n_pfps\"].xs(0, level=\"daughter\"),\n",
    "        )\n",
    "        # Add the distance between the true neutrino vertex and the reconstructed shower start point\n",
    "        data = (\n",
    "            v[\"daughters\"][\n",
    "                [\n",
    "                    \"true_nu_vtx_sce_x\",\n",
    "                    \"true_nu_vtx_sce_y\",\n",
    "                    \"true_nu_vtx_sce_z\",\n",
    "                    \"shr_tkfit_start_x_v\",\n",
    "                    \"shr_tkfit_start_y_v\",\n",
    "                    \"shr_tkfit_start_z_v\",\n",
    "                ]\n",
    "            ]\n",
    "            .values.T\n",
    "        )\n",
    "        v[\"daughters\"][\"true_shower_distance\"] = np.linalg.norm(data[0:3] - data[3:6], axis=0)\n",
    "        \n",
    "        # Add the modified purity/completeness to account for overlay.\n",
    "        overlay_mask = v[\"daughters\"].eval('backtracked_overlay_purity>backtracked_purity')\n",
    "        v[\"daughters\"].loc[overlay_mask, 'backtracked_pdg'] = 0\n",
    "        v[\"daughters\"].loc[overlay_mask, 'backtracked_purity'] = v[\"daughters\"].loc[overlay_mask, 'backtracked_overlay_purity']\n",
    "        v[\"daughters\"].loc[overlay_mask, 'backtracked_completeness'] = 0\n",
    "        \n",
    "        # Drop some stuff you do not need anymore\n",
    "        drop_cols = ['backtracked_overlay_purity',\n",
    "                     #\"true_nu_vtx_sce_x\",\n",
    "                     \"true_nu_vtx_sce_y\",\n",
    "                     \"true_nu_vtx_sce_z\",\n",
    "                     #\"reco_nu_vtx_x\",\n",
    "                     \"reco_nu_vtx_y\",\n",
    "                     \"reco_nu_vtx_z\"]\n",
    "        for c in drop_cols:\n",
    "            if c in v[\"daughters\"].columns:\n",
    "                v[\"daughters\"].drop(c, inplace=True, axis=1)\n",
    "            else:\n",
    "                print(c, \" was not in dataframe!\")"
   ]
  },
  {
   "cell_type": "code",
   "execution_count": 23,
   "metadata": {},
   "outputs": [
    {
     "name": "stdout",
     "output_type": "stream",
     "text": [
      "CPU times: user 821 ms, sys: 40 ms, total: 861 ms\n",
      "Wall time: 430 ms\n"
     ]
    },
    {
     "data": {
      "application/javascript": [
       "\n",
       "            setTimeout(function() {\n",
       "                var nbb_cell_id = 23;\n",
       "                var nbb_formatted_code = \"%%time\\n# For MC samples, fields needed as training labels:\\nfor k, v in sample_info.items():\\n    if k in mc_samples:\\n        # Add training labels and weights\\n        e_cand = v[\\\"daughters\\\"]['e_candidate']\\n        e_good = v[\\\"daughters\\\"].eval('e_candidate & abs(backtracked_pdg)==11 & backtracked_purity>0.75 & backtracked_completeness>0.5')\\n        e_cand_bad = v[\\\"daughters\\\"].eval('e_candidate & abs(backtracked_pdg)!=11')\\n        other_bad = v[\\\"daughters\\\"].eval('~e_candidate & (abs(backtracked_pdg)==13) | backtracked_pdg==22 | backtracked_pdg==0')\\n        \\n        v[\\\"daughters\\\"]['train_weight'] = v[\\\"daughters\\\"][[\\\"weightSpline\\\",\\\"leeweight\\\"]].max(axis=1) # weight low energy electrons a bit higher\\n        v[\\\"daughters\\\"].loc[e_good, \\\"train_weight\\\"] *= 5 # can be tuned\\n        \\n        v[\\\"daughters\\\"]['train_label'] = True\\n        v[\\\"daughters\\\"].loc[e_cand_bad, \\\"train_label\\\"] = False\\n        v[\\\"daughters\\\"].loc[other_bad, \\\"train_label\\\"] = False\";\n",
       "                var nbb_cells = Jupyter.notebook.get_cells();\n",
       "                for (var i = 0; i < nbb_cells.length; ++i) {\n",
       "                    if (nbb_cells[i].input_prompt_number == nbb_cell_id) {\n",
       "                        nbb_cells[i].set_text(nbb_formatted_code);\n",
       "                        break;\n",
       "                    }\n",
       "                }\n",
       "            }, 500);\n",
       "            "
      ],
      "text/plain": [
       "<IPython.core.display.Javascript object>"
      ]
     },
     "metadata": {},
     "output_type": "display_data"
    }
   ],
   "source": [
    "%%time\n",
    "# For MC samples, fields needed as training labels:\n",
    "for k, v in sample_info.items():\n",
    "    if k in mc_samples:\n",
    "        # Add training labels and weights\n",
    "        e_cand = v[\"daughters\"]['e_candidate']\n",
    "        e_good = v[\"daughters\"].eval('e_candidate & abs(backtracked_pdg)==11 & backtracked_purity>0.75 & backtracked_completeness>0.5')\n",
    "        e_cand_bad = v[\"daughters\"].eval('e_candidate & abs(backtracked_pdg)!=11')\n",
    "        other_bad = v[\"daughters\"].eval('~e_candidate & (abs(backtracked_pdg)==13) | backtracked_pdg==22 | backtracked_pdg==0')\n",
    "        \n",
    "        v[\"daughters\"]['train_weight'] = v[\"daughters\"][[\"weightSpline\",\"leeweight\"]].max(axis=1) # weight low energy electrons a bit higher\n",
    "        v[\"daughters\"].loc[e_good, \"train_weight\"] *= 5 # can be tuned\n",
    "        \n",
    "        v[\"daughters\"]['train_label'] = True\n",
    "        v[\"daughters\"].loc[e_cand_bad, \"train_label\"] = False\n",
    "        v[\"daughters\"].loc[other_bad, \"train_label\"] = False"
   ]
  },
  {
   "cell_type": "markdown",
   "metadata": {},
   "source": [
    "### Quality cuts / Pre-selection"
   ]
  },
  {
   "cell_type": "code",
   "execution_count": 24,
   "metadata": {},
   "outputs": [
    {
     "data": {
      "application/javascript": [
       "\n",
       "            setTimeout(function() {\n",
       "                var nbb_cell_id = 24;\n",
       "                var nbb_formatted_code = \"query_preselect = (\\n    \\\"e_candidate & reco_fid_vol & slclustfrac>@min_cluster_frac & ~crtveto\\\"\\n)\";\n",
       "                var nbb_cells = Jupyter.notebook.get_cells();\n",
       "                for (var i = 0; i < nbb_cells.length; ++i) {\n",
       "                    if (nbb_cells[i].input_prompt_number == nbb_cell_id) {\n",
       "                        nbb_cells[i].set_text(nbb_formatted_code);\n",
       "                        break;\n",
       "                    }\n",
       "                }\n",
       "            }, 500);\n",
       "            "
      ],
      "text/plain": [
       "<IPython.core.display.Javascript object>"
      ]
     },
     "metadata": {},
     "output_type": "display_data"
    }
   ],
   "source": [
    "query_preselect = (\n",
    "    \"e_candidate & reco_fid_vol & slclustfrac>@min_cluster_frac & ~crtveto\"\n",
    ")"
   ]
  },
  {
   "cell_type": "code",
   "execution_count": 25,
   "metadata": {
    "scrolled": false
   },
   "outputs": [
    {
     "name": "stdout",
     "output_type": "stream",
     "text": [
      "On \t3.39%\n",
      "Off \t1.74%\n",
      "MC \t8.96%\n",
      "NUE \t52.16%\n",
      "DRT \t1.36%\n",
      "Nue signal passing the preselection \t63.90%\n",
      "Nue Intrinsic signal passing: 84.291 per 1e+20 POT\n",
      "Nue LEE signal passing: 8.720 per 1e+20 POT\n",
      "CPU times: user 1.01 s, sys: 11.8 ms, total: 1.02 s\n",
      "Wall time: 512 ms\n"
     ]
    },
    {
     "name": "stderr",
     "output_type": "stream",
     "text": [
      "/home/wouter/Binaries/miniconda3/envs/uproot/lib/python3.7/site-packages/pandas/core/computation/expressions.py:194: UserWarning: evaluating in Python space because the '*' operator is not supported by numexpr for the bool dtype, use '&' instead\n",
      "  op=op_str, alt_op=unsupported[op_str]\n"
     ]
    },
    {
     "data": {
      "application/javascript": [
       "\n",
       "            setTimeout(function() {\n",
       "                var nbb_cell_id = 25;\n",
       "                var nbb_formatted_code = \"%%time\\n# Passing rate pre-selection\\nfor k, v in sample_info.items():\\n    v[\\\"daughters\\\"][\\\"preselect\\\"] = v[\\\"daughters\\\"].eval(\\n        query_preselect\\n    )\\n    v[\\\"daughters\\\"][\\\"preselect\\\"] = v[\\\"daughters\\\"][\\\"preselect\\\"].groupby(\\\"event\\\").transform(max)\\n    \\n    pass_rate = sum(v[\\\"daughters\\\"].eval(\\\"e_candidate & preselect\\\"))/v['numentries']\\n    print(k, \\\"\\\\t{:.2f}%\\\".format(pass_rate * 100))\\n    \\n# Passing rate signal, weights applied!\\npass_rate = sum(sample_info[\\\"NUE\\\"]['daughters'].eval('(e_candidate & preselect)*weightSpline*nueccinc'))/sum(sample_info[\\\"NUE\\\"][\\\"mc\\\"]['weightSpline']*signal_mask)\\nprint(\\\"Nue signal passing the preselection \\\\t{:.2f}%\\\".format(pass_rate * 100))\\nnue_pass = sum(sample_info[\\\"NUE\\\"]['daughters'].eval('(e_candidate & preselect)*nueccinc'))*sample_info[\\\"NUE\\\"]['scaling']*pot_scale\\nprint(\\\"Nue Intrinsic signal passing: {0:0.3f} per {1:0.2g} POT\\\".format(nue_pass,pot_target))\\nlee_pass = sum(sample_info[\\\"NUE\\\"]['daughters'].eval('(e_candidate & preselect)*leeweight*nueccinc'))*sample_info[\\\"NUE\\\"]['scaling']*pot_scale\\nprint(\\\"Nue LEE signal passing: {0:0.3f} per {1:0.2g} POT\\\".format(lee_pass,pot_target))\";\n",
       "                var nbb_cells = Jupyter.notebook.get_cells();\n",
       "                for (var i = 0; i < nbb_cells.length; ++i) {\n",
       "                    if (nbb_cells[i].input_prompt_number == nbb_cell_id) {\n",
       "                        nbb_cells[i].set_text(nbb_formatted_code);\n",
       "                        break;\n",
       "                    }\n",
       "                }\n",
       "            }, 500);\n",
       "            "
      ],
      "text/plain": [
       "<IPython.core.display.Javascript object>"
      ]
     },
     "metadata": {},
     "output_type": "display_data"
    }
   ],
   "source": [
    "%%time\n",
    "# Passing rate pre-selection\n",
    "for k, v in sample_info.items():\n",
    "    v[\"daughters\"][\"preselect\"] = v[\"daughters\"].eval(\n",
    "        query_preselect\n",
    "    )\n",
    "    v[\"daughters\"][\"preselect\"] = v[\"daughters\"][\"preselect\"].groupby(\"event\").transform(max)\n",
    "    \n",
    "    pass_rate = sum(v[\"daughters\"].eval(\"e_candidate & preselect\"))/v['numentries']\n",
    "    print(k, \"\\t{:.2f}%\".format(pass_rate * 100))\n",
    "    \n",
    "# Passing rate signal, weights applied!\n",
    "pass_rate = sum(sample_info[\"NUE\"]['daughters'].eval('(e_candidate & preselect)*weightSpline*nueccinc'))/sum(sample_info[\"NUE\"][\"mc\"]['weightSpline']*signal_mask)\n",
    "print(\"Nue signal passing the preselection \\t{:.2f}%\".format(pass_rate * 100))\n",
    "nue_pass = sum(sample_info[\"NUE\"]['daughters'].eval('(e_candidate & preselect)*nueccinc'))*sample_info[\"NUE\"]['scaling']*pot_scale\n",
    "print(\"Nue Intrinsic signal passing: {0:0.3f} per {1:0.2g} POT\".format(nue_pass,pot_target))\n",
    "lee_pass = sum(sample_info[\"NUE\"]['daughters'].eval('(e_candidate & preselect)*leeweight*nueccinc'))*sample_info[\"NUE\"]['scaling']*pot_scale\n",
    "print(\"Nue LEE signal passing: {0:0.3f} per {1:0.2g} POT\".format(lee_pass,pot_target))"
   ]
  },
  {
   "cell_type": "markdown",
   "metadata": {},
   "source": [
    "### Machine Learning: Daughter training!"
   ]
  },
  {
   "cell_type": "code",
   "execution_count": 26,
   "metadata": {},
   "outputs": [
    {
     "data": {
      "application/javascript": [
       "\n",
       "            setTimeout(function() {\n",
       "                var nbb_cell_id = 26;\n",
       "                var nbb_formatted_code = \"col_train_electron = [\\n    \\\"topological_score\\\",\\n    \\\"n_showers\\\",\\n    \\\"n_tracks\\\",\\n    \\\"trk_score_v\\\",\\n    \\\"trk_len_v\\\",\\n    \\\"trk_pid_chipr_v\\\",\\n    \\\"trk_pid_chimu_v\\\",\\n    \\\"shr_dist_v\\\",\\n    \\\"shr_energy_y_v\\\",\\n    \\\"shr_openangle_v\\\",\\n    \\\"shr_tkfit_theta_v\\\",\\n    \\\"shr_tkfit_phi_v\\\",\\n    \\\"shr_tkfit_dedx_wm_v\\\",\\n    \\\"shr_tkfit_dedx_y_v\\\",\\n    \\\"shr_tkfit_dedx_nhits_y_v\\\",\\n    ##\\\"train_weight\\\",\\n    ##\\\"train_label\\\",\\n]\\ncol_train_other = [\\n    \\\"topological_score\\\",\\n    \\\"n_pfps\\\",\\n    \\\"n_showers\\\",\\n    \\\"n_tracks\\\",\\n    \\\"trk_score_v\\\",\\n    \\\"trk_distance_v\\\",\\n    \\\"trk_theta_v\\\",\\n    \\\"trk_phi_v\\\",\\n    \\\"trk_len_v\\\",\\n    \\\"trk_pid_chipr_v\\\",\\n    \\\"trk_pid_chimu_v\\\",\\n    \\\"shr_energy_y_v\\\",\\n    \\\"shr_openangle_v\\\",\\n    \\\"shr_tkfit_dedx_wm_v\\\",\\n    \\\"shr_tkfit_dedx_y_v\\\",\\n    \\\"shr_tkfit_dedx_nhits_y_v\\\",\\n    ##\\\"train_weight\\\",\\n    ##\\\"train_label\\\",\\n]\\n\\ncol_train_event = [\\n    \\\"topological_score\\\",\\n    \\\"n_showers\\\",\\n    \\\"n_tracks\\\",\\n    \\\"hits_ratio\\\",\\n    \\\"nu_flashmatch_score\\\",\\n    \\\"contained_fraction\\\",\\n    \\\"pfnhits\\\",\\n    ## 'nueccinc'\\n    # total downwardsgoing (if ext is important)?\\n    # maxangle\\n    # train weight event -> use the train weight of the electron candidate\\n    # e_candidatew_score\\n    # max_other_bkg_score\\n    # min_other_bkg_score\\n    # avg_other_bkg_score\\n]\";\n",
       "                var nbb_cells = Jupyter.notebook.get_cells();\n",
       "                for (var i = 0; i < nbb_cells.length; ++i) {\n",
       "                    if (nbb_cells[i].input_prompt_number == nbb_cell_id) {\n",
       "                        nbb_cells[i].set_text(nbb_formatted_code);\n",
       "                        break;\n",
       "                    }\n",
       "                }\n",
       "            }, 500);\n",
       "            "
      ],
      "text/plain": [
       "<IPython.core.display.Javascript object>"
      ]
     },
     "metadata": {},
     "output_type": "display_data"
    }
   ],
   "source": [
    "col_train_electron = [\n",
    "    \"topological_score\",\n",
    "    \"n_showers\",\n",
    "    \"n_tracks\",\n",
    "    \"trk_score_v\",\n",
    "    \"trk_len_v\",\n",
    "    \"trk_pid_chipr_v\",\n",
    "    \"trk_pid_chimu_v\",\n",
    "    \"shr_dist_v\",\n",
    "    \"shr_energy_y_v\",\n",
    "    \"shr_openangle_v\",\n",
    "    \"shr_tkfit_theta_v\",\n",
    "    \"shr_tkfit_phi_v\",\n",
    "    \"shr_tkfit_dedx_wm_v\",\n",
    "    \"shr_tkfit_dedx_y_v\",\n",
    "    \"shr_tkfit_dedx_nhits_y_v\",\n",
    "    ##\"train_weight\",\n",
    "    ##\"train_label\",\n",
    "]\n",
    "col_train_other = [\n",
    "    \"topological_score\",\n",
    "    \"n_pfps\",\n",
    "    \"n_showers\",\n",
    "    \"n_tracks\",\n",
    "    \"trk_score_v\",\n",
    "    \"trk_distance_v\",\n",
    "    \"trk_theta_v\",\n",
    "    \"trk_phi_v\",\n",
    "    \"trk_len_v\",\n",
    "    \"trk_pid_chipr_v\",\n",
    "    \"trk_pid_chimu_v\",\n",
    "    \"shr_energy_y_v\",\n",
    "    \"shr_openangle_v\",\n",
    "    \"shr_tkfit_dedx_wm_v\",\n",
    "    \"shr_tkfit_dedx_y_v\",\n",
    "    \"shr_tkfit_dedx_nhits_y_v\",\n",
    "    ##\"train_weight\",\n",
    "    ##\"train_label\",\n",
    "]\n",
    "\n",
    "col_train_event = [\n",
    "    \"topological_score\",\n",
    "    \"n_showers\",\n",
    "    \"n_tracks\",\n",
    "    \"hits_ratio\",\n",
    "    \"nu_flashmatch_score\",\n",
    "    \"contained_fraction\",\n",
    "    \"pfnhits\",\n",
    "    ## 'nueccinc'\n",
    "    # total downwardsgoing (if ext is important)?\n",
    "    # maxangle\n",
    "    # train weight event -> use the train weight of the electron candidate\n",
    "    # e_candidatew_score\n",
    "    # max_other_bkg_score\n",
    "    # min_other_bkg_score\n",
    "    # avg_other_bkg_score\n",
    "]"
   ]
  },
  {
   "cell_type": "markdown",
   "metadata": {},
   "source": [
    "#### Electron training"
   ]
  },
  {
   "cell_type": "code",
   "execution_count": 27,
   "metadata": {},
   "outputs": [
    {
     "data": {
      "application/javascript": [
       "\n",
       "            setTimeout(function() {\n",
       "                var nbb_cell_id = 27;\n",
       "                var nbb_formatted_code = \"train_q = \\\"preselect & e_candidate\\\"\\nX = sample_info[\\\"NUE\\\"][\\\"daughters\\\"].query(train_q)[col_train_electron]\\nY = sample_info[\\\"NUE\\\"][\\\"daughters\\\"].query(train_q)[[\\\"train_label\\\", \\\"train_weight\\\"]]\\nXnue_train, Xnue_test, ynue_train, ynue_test = train_test_split(\\n    X, Y, test_size=test_size, random_state=seed\\n)\\nX = sample_info[\\\"MC\\\"][\\\"daughters\\\"].query(train_q)[col_train_electron]\\nY = sample_info[\\\"MC\\\"][\\\"daughters\\\"].query(train_q)[[\\\"train_label\\\", \\\"train_weight\\\"]]\\nXmc_train, Xmc_test, ymc_train, ymc_test = train_test_split(\\n    X, Y, test_size=test_size, random_state=seed\\n)\\n# Merge our two samples\\nX_train = pd.concat([Xmc_train, Xnue_train]).reset_index(drop=True)\\ny_train = pd.concat([ymc_train, ynue_train]).reset_index(drop=True)\\nX_test = pd.concat([Xmc_test, Xnue_test]).reset_index(drop=True)\\ny_test = pd.concat([ymc_test, ynue_test]).reset_index(drop=True)\";\n",
       "                var nbb_cells = Jupyter.notebook.get_cells();\n",
       "                for (var i = 0; i < nbb_cells.length; ++i) {\n",
       "                    if (nbb_cells[i].input_prompt_number == nbb_cell_id) {\n",
       "                        nbb_cells[i].set_text(nbb_formatted_code);\n",
       "                        break;\n",
       "                    }\n",
       "                }\n",
       "            }, 500);\n",
       "            "
      ],
      "text/plain": [
       "<IPython.core.display.Javascript object>"
      ]
     },
     "metadata": {},
     "output_type": "display_data"
    }
   ],
   "source": [
    "train_q = \"preselect & e_candidate\"\n",
    "X = sample_info[\"NUE\"][\"daughters\"].query(train_q)[col_train_electron]\n",
    "Y = sample_info[\"NUE\"][\"daughters\"].query(train_q)[[\"train_label\", \"train_weight\"]]\n",
    "Xnue_train, Xnue_test, ynue_train, ynue_test = train_test_split(\n",
    "    X, Y, test_size=test_size, random_state=seed\n",
    ")\n",
    "X = sample_info[\"MC\"][\"daughters\"].query(train_q)[col_train_electron]\n",
    "Y = sample_info[\"MC\"][\"daughters\"].query(train_q)[[\"train_label\", \"train_weight\"]]\n",
    "Xmc_train, Xmc_test, ymc_train, ymc_test = train_test_split(\n",
    "    X, Y, test_size=test_size, random_state=seed\n",
    ")\n",
    "# Merge our two samples\n",
    "X_train = pd.concat([Xmc_train, Xnue_train]).reset_index(drop=True)\n",
    "y_train = pd.concat([ymc_train, ynue_train]).reset_index(drop=True)\n",
    "X_test = pd.concat([Xmc_test, Xnue_test]).reset_index(drop=True)\n",
    "y_test = pd.concat([ymc_test, ynue_test]).reset_index(drop=True)"
   ]
  },
  {
   "cell_type": "code",
   "execution_count": 28,
   "metadata": {},
   "outputs": [
    {
     "name": "stdout",
     "output_type": "stream",
     "text": [
      "CPU times: user 2 µs, sys: 0 ns, total: 2 µs\n",
      "Wall time: 4.53 µs\n"
     ]
    },
    {
     "name": "stderr",
     "output_type": "stream",
     "text": [
      "/home/wouter/Binaries/miniconda3/envs/uproot/lib/python3.7/site-packages/xgboost/core.py:587: FutureWarning: Series.base is deprecated and will be removed in a future version\n",
      "  if getattr(data, 'base', None) is not None and \\\n",
      "/home/wouter/Binaries/miniconda3/envs/uproot/lib/python3.7/site-packages/xgboost/core.py:588: FutureWarning: Series.base is deprecated and will be removed in a future version\n",
      "  data.base is not None and isinstance(data, np.ndarray) \\\n"
     ]
    },
    {
     "data": {
      "text/plain": [
       "XGBClassifier(base_score=0.5, booster='gbtree', colsample_bylevel=1,\n",
       "              colsample_bynode=1, colsample_bytree=1, gamma=0,\n",
       "              learning_rate=0.1, max_delta_step=0, max_depth=6,\n",
       "              min_child_weight=1, missing=None, n_estimators=100, n_jobs=1,\n",
       "              nthread=None, objective='binary:logistic', random_state=0,\n",
       "              reg_alpha=0, reg_lambda=1, scale_pos_weight=1, seed=None,\n",
       "              silent=None, subsample=1, verbosity=1)"
      ]
     },
     "execution_count": 28,
     "metadata": {},
     "output_type": "execute_result"
    },
    {
     "data": {
      "application/javascript": [
       "\n",
       "            setTimeout(function() {\n",
       "                var nbb_cell_id = 28;\n",
       "                var nbb_formatted_code = \"%time\\n# fit model no training data\\nmodel_e = XGBClassifier(max_depth=6)\\nmodel_e.fit(X_train, y_train[\\\"train_label\\\"], sample_weight=y_train[\\\"train_weight\\\"])\";\n",
       "                var nbb_cells = Jupyter.notebook.get_cells();\n",
       "                for (var i = 0; i < nbb_cells.length; ++i) {\n",
       "                    if (nbb_cells[i].input_prompt_number == nbb_cell_id) {\n",
       "                        nbb_cells[i].set_text(nbb_formatted_code);\n",
       "                        break;\n",
       "                    }\n",
       "                }\n",
       "            }, 500);\n",
       "            "
      ],
      "text/plain": [
       "<IPython.core.display.Javascript object>"
      ]
     },
     "metadata": {},
     "output_type": "display_data"
    }
   ],
   "source": [
    "%time\n",
    "# fit model no training data\n",
    "model_e = XGBClassifier(max_depth=6)\n",
    "model_e.fit(X_train, y_train[\"train_label\"], sample_weight=y_train[\"train_weight\"])"
   ]
  },
  {
   "cell_type": "code",
   "execution_count": 29,
   "metadata": {},
   "outputs": [
    {
     "name": "stdout",
     "output_type": "stream",
     "text": [
      "              precision    recall  f1-score   support\n",
      "\n",
      "    electron       0.92      0.76      0.83     35893\n",
      "non_electron       0.75      0.92      0.83     28337\n",
      "\n",
      "    accuracy                           0.83     64230\n",
      "   macro avg       0.84      0.84      0.83     64230\n",
      "weighted avg       0.85      0.83      0.83     64230\n",
      "\n",
      "Test accuracy: 82.94%\n",
      "Train accuracy: 83.70%\n",
      "\n",
      "1. feature shr_energy_y_v (0.501012)\n",
      "2. feature shr_dist_v (0.074168)\n",
      "3. feature trk_len_v (0.070565)\n",
      "4. feature trk_score_v (0.058430)\n",
      "5. feature n_tracks (0.051702)\n",
      "6. feature n_showers (0.050645)\n",
      "7. feature trk_pid_chipr_v (0.037051)\n",
      "8. feature shr_tkfit_dedx_wm_v (0.035509)\n",
      "9. feature trk_pid_chimu_v (0.026547)\n",
      "10. feature shr_tkfit_dedx_y_v (0.022714)\n",
      "11. feature topological_score (0.022608)\n",
      "12. feature shr_tkfit_dedx_nhits_y_v (0.016647)\n",
      "13. feature shr_tkfit_theta_v (0.014365)\n",
      "14. feature shr_tkfit_phi_v (0.009050)\n",
      "15. feature shr_openangle_v (0.008986)\n"
     ]
    },
    {
     "data": {
      "application/javascript": [
       "\n",
       "            setTimeout(function() {\n",
       "                var nbb_cell_id = 29;\n",
       "                var nbb_formatted_code = \"# make predictions for test data\\ny_pred = model_e.predict(X_test)\\ntarget_names = [\\\"electron\\\", \\\"non_electron\\\"]\\nprint(classification_report(y_test[\\\"train_label\\\"], y_pred, target_names=target_names))\\npredictions = [round(value) for value in y_pred]\\n\\n# evaluate predictions\\naccuracy = accuracy_score(y_test[\\\"train_label\\\"], predictions)\\nprint(\\\"Test accuracy: %.2f%%\\\" % (accuracy * 100.0))\\n\\n\\n# make predictions for test data\\ny_pred_train = model_e.predict(X_train)\\npredictions = [round(value) for value in y_pred_train]\\n# evaluate predictions\\naccuracy = accuracy_score(y_train[\\\"train_label\\\"], predictions)\\nprint(\\\"Train accuracy: %.2f%%\\\\n\\\" % (accuracy * 100.0))\\n\\nimportances = model_e.feature_importances_\\nsort = np.argsort(-importances)\\n\\nfor i, (n, im) in enumerate(zip(np.array(col_train_electron)[sort], importances[sort])):\\n    print(\\\"%d. feature %s (%f)\\\" % (i + 1, n, im))\";\n",
       "                var nbb_cells = Jupyter.notebook.get_cells();\n",
       "                for (var i = 0; i < nbb_cells.length; ++i) {\n",
       "                    if (nbb_cells[i].input_prompt_number == nbb_cell_id) {\n",
       "                        nbb_cells[i].set_text(nbb_formatted_code);\n",
       "                        break;\n",
       "                    }\n",
       "                }\n",
       "            }, 500);\n",
       "            "
      ],
      "text/plain": [
       "<IPython.core.display.Javascript object>"
      ]
     },
     "metadata": {},
     "output_type": "display_data"
    }
   ],
   "source": [
    "# make predictions for test data\n",
    "y_pred = model_e.predict(X_test)\n",
    "target_names = [\"electron\", \"non_electron\"]\n",
    "print(classification_report(y_test[\"train_label\"], y_pred, target_names=target_names))\n",
    "predictions = [round(value) for value in y_pred]\n",
    "\n",
    "# evaluate predictions\n",
    "accuracy = accuracy_score(y_test[\"train_label\"], predictions)\n",
    "print(\"Test accuracy: %.2f%%\" % (accuracy * 100.0))\n",
    "\n",
    "\n",
    "# make predictions for test data\n",
    "y_pred_train = model_e.predict(X_train)\n",
    "predictions = [round(value) for value in y_pred_train]\n",
    "# evaluate predictions\n",
    "accuracy = accuracy_score(y_train[\"train_label\"], predictions)\n",
    "print(\"Train accuracy: %.2f%%\\n\" % (accuracy * 100.0))\n",
    "\n",
    "importances = model_e.feature_importances_\n",
    "sort = np.argsort(-importances)\n",
    "\n",
    "for i, (n, im) in enumerate(zip(np.array(col_train_electron)[sort], importances[sort])):\n",
    "    print(\"%d. feature %s (%f)\" % (i + 1, n, im))"
   ]
  },
  {
   "cell_type": "code",
   "execution_count": 30,
   "metadata": {},
   "outputs": [
    {
     "data": {
      "image/png": "[encoded data removed]",
      "text/plain": [
       "<Figure size 576x288 with 2 Axes>"
      ]
     },
     "metadata": {
      "needs_background": "light"
     },
     "output_type": "display_data"
    },
    {
     "data": {
      "application/javascript": [
       "\n",
       "            setTimeout(function() {\n",
       "                var nbb_cell_id = 30;\n",
       "                var nbb_formatted_code = \"fig, ax = plt.subplots(ncols=2, figsize=(8, 4))\\n\\ny_pred = model_e.predict_proba(X_test).T[1]\\nfpr, tpr, _ = roc_curve(y_test[\\\"train_label\\\"], y_pred)\\nroc_auc = auc(fpr, tpr)\\n\\nax[0].hist(\\n    y_pred[y_test[\\\"train_label\\\"] == 0],\\n    alpha=0.5,\\n    bins=50,\\n    range=(0, 1),\\n    label=\\\"no electrons\\\",\\n    density=False,\\n)\\nax[0].hist(\\n    y_pred[(y_test[\\\"train_label\\\"] == 1) & (y_test[\\\"train_weight\\\"] > 2)],\\n    alpha=0.5,\\n    bins=50,\\n    range=(0, 1),\\n    label=\\\"good electrons\\\",\\n    density=False,\\n)\\nax[0].hist(\\n    y_pred[(y_test[\\\"train_label\\\"] == 1) & (y_test[\\\"train_weight\\\"] < 2)],\\n    alpha=0.5,\\n    bins=50,\\n    range=(0, 1),\\n    label=\\\"bad electrons\\\",\\n    density=False,\\n)\\nax[0].legend(loc=\\\"upper left\\\")\\nax[0].set_xlim(0, 1)\\nax[0].set_xlabel(\\\"Electron identification\\\")\\nax[0].set_ylabel(\\\"Entries per bin\\\")\\nax[0].set_title(\\\"Electron Candidate XGB\\\")\\n\\nax[1].plot(fpr, tpr, label=\\\"ROC curve (area = %0.2f)\\\" % roc_auc)\\nplt.plot([0, 1], [0, 1], linestyle=\\\"--\\\")\\nplt.xlim([0.0, 1.0])\\nplt.ylim([0.0, 1.0])\\nplt.xlabel(\\\"False Positive Rate\\\")\\nplt.ylabel(\\\"True Positive Rate\\\")\\nplt.title(\\\"Receiver Operating Characteristic\\\")\\nplt.legend(loc=\\\"lower right\\\")\\n\\nfig.tight_layout()\\nfig.savefig(output_dir + \\\"e_bdt_test.pdf\\\")\";\n",
       "                var nbb_cells = Jupyter.notebook.get_cells();\n",
       "                for (var i = 0; i < nbb_cells.length; ++i) {\n",
       "                    if (nbb_cells[i].input_prompt_number == nbb_cell_id) {\n",
       "                        nbb_cells[i].set_text(nbb_formatted_code);\n",
       "                        break;\n",
       "                    }\n",
       "                }\n",
       "            }, 500);\n",
       "            "
      ],
      "text/plain": [
       "<IPython.core.display.Javascript object>"
      ]
     },
     "metadata": {},
     "output_type": "display_data"
    }
   ],
   "source": [
    "fig, ax = plt.subplots(ncols=2, figsize=(8, 4))\n",
    "\n",
    "y_pred = model_e.predict_proba(X_test).T[1]\n",
    "fpr, tpr, _ = roc_curve(y_test[\"train_label\"], y_pred)\n",
    "roc_auc = auc(fpr, tpr)\n",
    "\n",
    "ax[0].hist(\n",
    "    y_pred[y_test[\"train_label\"] == 0],\n",
    "    alpha=0.5,\n",
    "    bins=50,\n",
    "    range=(0, 1),\n",
    "    label=\"no electrons\",\n",
    "    density=False,\n",
    ")\n",
    "ax[0].hist(\n",
    "    y_pred[(y_test[\"train_label\"] == 1) & (y_test[\"train_weight\"] > 2)],\n",
    "    alpha=0.5,\n",
    "    bins=50,\n",
    "    range=(0, 1),\n",
    "    label=\"good electrons\",\n",
    "    density=False,\n",
    ")\n",
    "ax[0].hist(\n",
    "    y_pred[(y_test[\"train_label\"] == 1) & (y_test[\"train_weight\"] < 2)],\n",
    "    alpha=0.5,\n",
    "    bins=50,\n",
    "    range=(0, 1),\n",
    "    label=\"bad electrons\",\n",
    "    density=False,\n",
    ")\n",
    "ax[0].legend(loc=\"upper left\")\n",
    "ax[0].set_xlim(0, 1)\n",
    "ax[0].set_xlabel(\"Electron identification\")\n",
    "ax[0].set_ylabel(\"Entries per bin\")\n",
    "ax[0].set_title(\"Electron Candidate XGB\")\n",
    "\n",
    "ax[1].plot(fpr, tpr, label=\"ROC curve (area = %0.2f)\" % roc_auc)\n",
    "plt.plot([0, 1], [0, 1], linestyle=\"--\")\n",
    "plt.xlim([0.0, 1.0])\n",
    "plt.ylim([0.0, 1.0])\n",
    "plt.xlabel(\"False Positive Rate\")\n",
    "plt.ylabel(\"True Positive Rate\")\n",
    "plt.title(\"Receiver Operating Characteristic\")\n",
    "plt.legend(loc=\"lower right\")\n",
    "\n",
    "fig.tight_layout()\n",
    "fig.savefig(output_dir + \"e_bdt_test.pdf\")"
   ]
  },
  {
   "cell_type": "markdown",
   "metadata": {},
   "source": [
    "#### Other daughters training"
   ]
  },
  {
   "cell_type": "code",
   "execution_count": 31,
   "metadata": {},
   "outputs": [
    {
     "data": {
      "application/javascript": [
       "\n",
       "            setTimeout(function() {\n",
       "                var nbb_cell_id = 31;\n",
       "                var nbb_formatted_code = \"train_q = \\\"preselect & ~e_candidate\\\"\\nX = sample_info[\\\"NUE\\\"][\\\"daughters\\\"].query(train_q)[col_train_other]\\nY = sample_info[\\\"NUE\\\"][\\\"daughters\\\"].query(train_q)[[\\\"train_label\\\", \\\"train_weight\\\"]]\\nXnue_train, Xnue_test, ynue_train, ynue_test = train_test_split(\\n    X, Y, test_size=test_size, random_state=seed\\n)\\nX = sample_info[\\\"MC\\\"][\\\"daughters\\\"].query(train_q)[col_train_other]\\nY = sample_info[\\\"MC\\\"][\\\"daughters\\\"].query(train_q)[[\\\"train_label\\\", \\\"train_weight\\\"]]\\nXmc_train, Xmc_test, ymc_train, ymc_test = train_test_split(\\n    X, Y, test_size=test_size, random_state=seed\\n)\\n# Merge our two samples\\nX_train = pd.concat([Xmc_train, Xnue_train]).reset_index(drop=True)\\ny_train = pd.concat([ymc_train, ynue_train]).reset_index(drop=True)\\nX_test = pd.concat([Xmc_test, Xnue_test]).reset_index(drop=True)\\ny_test = pd.concat([ymc_test, ynue_test]).reset_index(drop=True)\";\n",
       "                var nbb_cells = Jupyter.notebook.get_cells();\n",
       "                for (var i = 0; i < nbb_cells.length; ++i) {\n",
       "                    if (nbb_cells[i].input_prompt_number == nbb_cell_id) {\n",
       "                        nbb_cells[i].set_text(nbb_formatted_code);\n",
       "                        break;\n",
       "                    }\n",
       "                }\n",
       "            }, 500);\n",
       "            "
      ],
      "text/plain": [
       "<IPython.core.display.Javascript object>"
      ]
     },
     "metadata": {},
     "output_type": "display_data"
    }
   ],
   "source": [
    "train_q = \"preselect & ~e_candidate\"\n",
    "X = sample_info[\"NUE\"][\"daughters\"].query(train_q)[col_train_other]\n",
    "Y = sample_info[\"NUE\"][\"daughters\"].query(train_q)[[\"train_label\", \"train_weight\"]]\n",
    "Xnue_train, Xnue_test, ynue_train, ynue_test = train_test_split(\n",
    "    X, Y, test_size=test_size, random_state=seed\n",
    ")\n",
    "X = sample_info[\"MC\"][\"daughters\"].query(train_q)[col_train_other]\n",
    "Y = sample_info[\"MC\"][\"daughters\"].query(train_q)[[\"train_label\", \"train_weight\"]]\n",
    "Xmc_train, Xmc_test, ymc_train, ymc_test = train_test_split(\n",
    "    X, Y, test_size=test_size, random_state=seed\n",
    ")\n",
    "# Merge our two samples\n",
    "X_train = pd.concat([Xmc_train, Xnue_train]).reset_index(drop=True)\n",
    "y_train = pd.concat([ymc_train, ynue_train]).reset_index(drop=True)\n",
    "X_test = pd.concat([Xmc_test, Xnue_test]).reset_index(drop=True)\n",
    "y_test = pd.concat([ymc_test, ynue_test]).reset_index(drop=True)"
   ]
  },
  {
   "cell_type": "code",
   "execution_count": 32,
   "metadata": {},
   "outputs": [
    {
     "name": "stdout",
     "output_type": "stream",
     "text": [
      "CPU times: user 2 µs, sys: 0 ns, total: 2 µs\n",
      "Wall time: 5.01 µs\n"
     ]
    },
    {
     "name": "stderr",
     "output_type": "stream",
     "text": [
      "/home/wouter/Binaries/miniconda3/envs/uproot/lib/python3.7/site-packages/xgboost/core.py:587: FutureWarning: Series.base is deprecated and will be removed in a future version\n",
      "  if getattr(data, 'base', None) is not None and \\\n",
      "/home/wouter/Binaries/miniconda3/envs/uproot/lib/python3.7/site-packages/xgboost/core.py:588: FutureWarning: Series.base is deprecated and will be removed in a future version\n",
      "  data.base is not None and isinstance(data, np.ndarray) \\\n"
     ]
    },
    {
     "data": {
      "text/plain": [
       "XGBClassifier(base_score=0.5, booster='gbtree', colsample_bylevel=1,\n",
       "              colsample_bynode=1, colsample_bytree=1, gamma=0,\n",
       "              learning_rate=0.1, max_delta_step=0, max_depth=6,\n",
       "              min_child_weight=1, missing=None, n_estimators=100, n_jobs=1,\n",
       "              nthread=None, objective='binary:logistic', random_state=0,\n",
       "              reg_alpha=0, reg_lambda=1, scale_pos_weight=1, seed=None,\n",
       "              silent=None, subsample=1, verbosity=1)"
      ]
     },
     "execution_count": 32,
     "metadata": {},
     "output_type": "execute_result"
    },
    {
     "data": {
      "application/javascript": [
       "\n",
       "            setTimeout(function() {\n",
       "                var nbb_cell_id = 32;\n",
       "                var nbb_formatted_code = \"%time\\n# fit model no training data\\nmodel_d = XGBClassifier(max_depth=6)\\nmodel_d.fit(X_train, y_train[\\\"train_label\\\"], sample_weight=y_train[\\\"train_weight\\\"])\";\n",
       "                var nbb_cells = Jupyter.notebook.get_cells();\n",
       "                for (var i = 0; i < nbb_cells.length; ++i) {\n",
       "                    if (nbb_cells[i].input_prompt_number == nbb_cell_id) {\n",
       "                        nbb_cells[i].set_text(nbb_formatted_code);\n",
       "                        break;\n",
       "                    }\n",
       "                }\n",
       "            }, 500);\n",
       "            "
      ],
      "text/plain": [
       "<IPython.core.display.Javascript object>"
      ]
     },
     "metadata": {},
     "output_type": "display_data"
    }
   ],
   "source": [
    "%time\n",
    "# fit model no training data\n",
    "model_d = XGBClassifier(max_depth=6)\n",
    "model_d.fit(X_train, y_train[\"train_label\"], sample_weight=y_train[\"train_weight\"])"
   ]
  },
  {
   "cell_type": "code",
   "execution_count": 33,
   "metadata": {},
   "outputs": [
    {
     "name": "stdout",
     "output_type": "stream",
     "text": [
      "                       precision    recall  f1-score   support\n",
      "\n",
      "    proton, pion, ...       0.79      0.75      0.77     83729\n",
      "muon, overlay, photon       0.77      0.81      0.79     86606\n",
      "\n",
      "             accuracy                           0.78    170335\n",
      "            macro avg       0.78      0.78      0.78    170335\n",
      "         weighted avg       0.78      0.78      0.78    170335\n",
      "\n",
      "Test accuracy: 77.98%\n",
      "Train accuracy: 78.65%\n",
      "\n",
      "1. feature trk_distance_v (0.218993)\n",
      "2. feature trk_pid_chipr_v (0.180062)\n",
      "3. feature trk_len_v (0.126390)\n",
      "4. feature trk_score_v (0.118298)\n",
      "5. feature trk_theta_v (0.051368)\n",
      "6. feature topological_score (0.043528)\n",
      "7. feature n_showers (0.041904)\n",
      "8. feature n_tracks (0.040530)\n",
      "9. feature shr_tkfit_dedx_y_v (0.033047)\n",
      "10. feature trk_pid_chimu_v (0.032358)\n",
      "11. feature shr_energy_y_v (0.031068)\n",
      "12. feature shr_tkfit_dedx_nhits_y_v (0.026381)\n",
      "13. feature shr_tkfit_dedx_wm_v (0.023979)\n",
      "14. feature n_pfps (0.021869)\n",
      "15. feature trk_phi_v (0.005730)\n",
      "16. feature shr_openangle_v (0.004496)\n"
     ]
    },
    {
     "data": {
      "application/javascript": [
       "\n",
       "            setTimeout(function() {\n",
       "                var nbb_cell_id = 33;\n",
       "                var nbb_formatted_code = \"# make predictions for test data\\ny_pred = model_d.predict(X_test)\\ntarget_names = [\\\"proton, pion, ...\\\", \\\"muon, overlay, photon\\\"]\\nprint(classification_report(y_test[\\\"train_label\\\"], y_pred, target_names=target_names))\\npredictions = [round(value) for value in y_pred]\\n\\n# evaluate predictions\\naccuracy = accuracy_score(y_test[\\\"train_label\\\"], predictions)\\nprint(\\\"Test accuracy: %.2f%%\\\" % (accuracy * 100.0))\\n\\n\\n# make predictions for test data\\ny_pred_train = model_d.predict(X_train)\\npredictions = [round(value) for value in y_pred_train]\\n# evaluate predictions\\naccuracy = accuracy_score(y_train[\\\"train_label\\\"], predictions)\\nprint(\\\"Train accuracy: %.2f%%\\\\n\\\" % (accuracy * 100.0))\\n\\nimportances = model_d.feature_importances_\\nsort = np.argsort(-importances)\\n\\nfor i, (n, im) in enumerate(zip(np.array(col_train_other)[sort], importances[sort])):\\n    print(\\\"%d. feature %s (%f)\\\" % (i + 1, n, im))\";\n",
       "                var nbb_cells = Jupyter.notebook.get_cells();\n",
       "                for (var i = 0; i < nbb_cells.length; ++i) {\n",
       "                    if (nbb_cells[i].input_prompt_number == nbb_cell_id) {\n",
       "                        nbb_cells[i].set_text(nbb_formatted_code);\n",
       "                        break;\n",
       "                    }\n",
       "                }\n",
       "            }, 500);\n",
       "            "
      ],
      "text/plain": [
       "<IPython.core.display.Javascript object>"
      ]
     },
     "metadata": {},
     "output_type": "display_data"
    }
   ],
   "source": [
    "# make predictions for test data\n",
    "y_pred = model_d.predict(X_test)\n",
    "target_names = [\"proton, pion, ...\", \"muon, overlay, photon\"]\n",
    "print(classification_report(y_test[\"train_label\"], y_pred, target_names=target_names))\n",
    "predictions = [round(value) for value in y_pred]\n",
    "\n",
    "# evaluate predictions\n",
    "accuracy = accuracy_score(y_test[\"train_label\"], predictions)\n",
    "print(\"Test accuracy: %.2f%%\" % (accuracy * 100.0))\n",
    "\n",
    "\n",
    "# make predictions for test data\n",
    "y_pred_train = model_d.predict(X_train)\n",
    "predictions = [round(value) for value in y_pred_train]\n",
    "# evaluate predictions\n",
    "accuracy = accuracy_score(y_train[\"train_label\"], predictions)\n",
    "print(\"Train accuracy: %.2f%%\\n\" % (accuracy * 100.0))\n",
    "\n",
    "importances = model_d.feature_importances_\n",
    "sort = np.argsort(-importances)\n",
    "\n",
    "for i, (n, im) in enumerate(zip(np.array(col_train_other)[sort], importances[sort])):\n",
    "    print(\"%d. feature %s (%f)\" % (i + 1, n, im))"
   ]
  },
  {
   "cell_type": "code",
   "execution_count": 34,
   "metadata": {},
   "outputs": [
    {
     "data": {
      "image/png": "[encoded data removed]",
      "text/plain": [
       "<Figure size 576x288 with 2 Axes>"
      ]
     },
     "metadata": {
      "needs_background": "light"
     },
     "output_type": "display_data"
    },
    {
     "data": {
      "application/javascript": [
       "\n",
       "            setTimeout(function() {\n",
       "                var nbb_cell_id = 34;\n",
       "                var nbb_formatted_code = \"fig, ax = plt.subplots(ncols=2, figsize=(8, 4))\\n\\ny_pred = model_d.predict_proba(X_test).T[1]\\nfpr, tpr, _ = roc_curve(y_test[\\\"train_label\\\"], y_pred)\\nroc_auc = auc(fpr, tpr)\\n\\nax[0].hist(\\n    y_pred[y_test[\\\"train_label\\\"] == 0],\\n    alpha=0.5,\\n    bins=50,\\n    range=(0, 1),\\n    label=\\\"muon, overlay, photon\\\",\\n    density=False,\\n)\\nax[0].hist(\\n    y_pred[y_test[\\\"train_label\\\"] == 1],\\n    alpha=0.5,\\n    bins=50,\\n    range=(0, 1),\\n    label=\\\"proton, pion, ...\\\",\\n    density=False,\\n)\\nax[0].legend(loc=\\\"upper left\\\")\\nax[0].set_xlim(0, 1)\\nax[0].set_xlabel(\\\"Daughter identification\\\")\\nax[0].set_ylabel(\\\"Entries per bin\\\")\\nax[0].set_title(\\\"Daughter XGB\\\")\\n\\nax[1].plot(fpr, tpr, label=\\\"ROC curve (area = %0.2f)\\\" % roc_auc)\\nplt.plot([0, 1], [0, 1], linestyle=\\\"--\\\")\\nplt.xlim([0.0, 1.0])\\nplt.ylim([0.0, 1.0])\\nplt.xlabel(\\\"False Positive Rate\\\")\\nplt.ylabel(\\\"True Positive Rate\\\")\\nplt.title(\\\"Receiver Operating Characteristic\\\")\\nplt.legend(loc=\\\"lower right\\\")\\n\\nfig.tight_layout()\\nfig.savefig(output_dir + \\\"daughter_bdt_test.pdf\\\")\";\n",
       "                var nbb_cells = Jupyter.notebook.get_cells();\n",
       "                for (var i = 0; i < nbb_cells.length; ++i) {\n",
       "                    if (nbb_cells[i].input_prompt_number == nbb_cell_id) {\n",
       "                        nbb_cells[i].set_text(nbb_formatted_code);\n",
       "                        break;\n",
       "                    }\n",
       "                }\n",
       "            }, 500);\n",
       "            "
      ],
      "text/plain": [
       "<IPython.core.display.Javascript object>"
      ]
     },
     "metadata": {},
     "output_type": "display_data"
    }
   ],
   "source": [
    "fig, ax = plt.subplots(ncols=2, figsize=(8, 4))\n",
    "\n",
    "y_pred = model_d.predict_proba(X_test).T[1]\n",
    "fpr, tpr, _ = roc_curve(y_test[\"train_label\"], y_pred)\n",
    "roc_auc = auc(fpr, tpr)\n",
    "\n",
    "ax[0].hist(\n",
    "    y_pred[y_test[\"train_label\"] == 0],\n",
    "    alpha=0.5,\n",
    "    bins=50,\n",
    "    range=(0, 1),\n",
    "    label=\"muon, overlay, photon\",\n",
    "    density=False,\n",
    ")\n",
    "ax[0].hist(\n",
    "    y_pred[y_test[\"train_label\"] == 1],\n",
    "    alpha=0.5,\n",
    "    bins=50,\n",
    "    range=(0, 1),\n",
    "    label=\"proton, pion, ...\",\n",
    "    density=False,\n",
    ")\n",
    "ax[0].legend(loc=\"upper left\")\n",
    "ax[0].set_xlim(0, 1)\n",
    "ax[0].set_xlabel(\"Daughter identification\")\n",
    "ax[0].set_ylabel(\"Entries per bin\")\n",
    "ax[0].set_title(\"Daughter XGB\")\n",
    "\n",
    "ax[1].plot(fpr, tpr, label=\"ROC curve (area = %0.2f)\" % roc_auc)\n",
    "plt.plot([0, 1], [0, 1], linestyle=\"--\")\n",
    "plt.xlim([0.0, 1.0])\n",
    "plt.ylim([0.0, 1.0])\n",
    "plt.xlabel(\"False Positive Rate\")\n",
    "plt.ylabel(\"True Positive Rate\")\n",
    "plt.title(\"Receiver Operating Characteristic\")\n",
    "plt.legend(loc=\"lower right\")\n",
    "\n",
    "fig.tight_layout()\n",
    "fig.savefig(output_dir + \"daughter_bdt_test.pdf\")"
   ]
  },
  {
   "cell_type": "markdown",
   "metadata": {},
   "source": [
    "#### Apply models on the samples!"
   ]
  },
  {
   "cell_type": "code",
   "execution_count": 35,
   "metadata": {},
   "outputs": [
    {
     "name": "stdout",
     "output_type": "stream",
     "text": [
      "CPU times: user 3 µs, sys: 0 ns, total: 3 µs\n",
      "Wall time: 6.91 µs\n"
     ]
    },
    {
     "data": {
      "application/javascript": [
       "\n",
       "            setTimeout(function() {\n",
       "                var nbb_cell_id = 35;\n",
       "                var nbb_formatted_code = \"%time\\n# add the columns for each daughter (all samples)\\nfor k, v in sample_info.items():\\n    v[\\\"daughters\\\"][\\\"score\\\"] = -1\\n    mask_e_cand = v[\\\"daughters\\\"].eval(\\\"preselect & e_candidate\\\")\\n    v[\\\"daughters\\\"].loc[mask_e_cand, \\\"score\\\"] = model_e.predict_proba(\\n        v[\\\"daughters\\\"][col_train_electron][mask_e_cand]\\n    ).T[1]\\n    mask_d = v[\\\"daughters\\\"].eval(\\\"preselect & ~e_candidate\\\")\\n    v[\\\"daughters\\\"].loc[mask_d, \\\"score\\\"] = model_d.predict_proba(\\n        v[\\\"daughters\\\"][col_train_other][mask_d]\\n    ).T[1]\";\n",
       "                var nbb_cells = Jupyter.notebook.get_cells();\n",
       "                for (var i = 0; i < nbb_cells.length; ++i) {\n",
       "                    if (nbb_cells[i].input_prompt_number == nbb_cell_id) {\n",
       "                        nbb_cells[i].set_text(nbb_formatted_code);\n",
       "                        break;\n",
       "                    }\n",
       "                }\n",
       "            }, 500);\n",
       "            "
      ],
      "text/plain": [
       "<IPython.core.display.Javascript object>"
      ]
     },
     "metadata": {},
     "output_type": "display_data"
    }
   ],
   "source": [
    "%time\n",
    "# add the columns for each daughter (all samples)\n",
    "for k, v in sample_info.items():\n",
    "    v[\"daughters\"][\"score\"] = -1\n",
    "    mask_e_cand = v[\"daughters\"].eval(\"preselect & e_candidate\")\n",
    "    v[\"daughters\"].loc[mask_e_cand, \"score\"] = model_e.predict_proba(\n",
    "        v[\"daughters\"][col_train_electron][mask_e_cand]\n",
    "    ).T[1]\n",
    "    mask_d = v[\"daughters\"].eval(\"preselect & ~e_candidate\")\n",
    "    v[\"daughters\"].loc[mask_d, \"score\"] = model_d.predict_proba(\n",
    "        v[\"daughters\"][col_train_other][mask_d]\n",
    "    ).T[1]"
   ]
  },
  {
   "cell_type": "code",
   "execution_count": 36,
   "metadata": {},
   "outputs": [
    {
     "name": "stdout",
     "output_type": "stream",
     "text": [
      "On \t0.08%\n",
      "Off \t0.03%\n",
      "MC \t0.25%\n",
      "NUE \t28.94%\n",
      "DRT \t0.02%\n",
      "Nue signal passing the selection \t35.41%\n",
      "Nue Intrinsic signal passing: 46.993 per 1e+20 POT\n",
      "Nue LEE signal passing: 2.005 per 1e+20 POT\n",
      "Purity MC: 15.7%\n",
      "Data/MC-ratio: 1.07\n",
      "\n",
      "CPU times: user 506 ms, sys: 0 ns, total: 506 ms\n",
      "Wall time: 501 ms\n"
     ]
    },
    {
     "data": {
      "application/javascript": [
       "\n",
       "            setTimeout(function() {\n",
       "                var nbb_cell_id = 36;\n",
       "                var nbb_formatted_code = \"%%time\\nquery_select = (\\n    \\\"e_candidate & preselect & score>0.95\\\"\\n)\\n# Passing rate selection\\nfor k, v in sample_info.items():\\n    v[\\\"daughters\\\"][\\\"select\\\"] = v[\\\"daughters\\\"].eval(\\n        query_select\\n    )\\n    pass_rate = sum(v[\\\"daughters\\\"].eval(\\\"e_candidate & select\\\"))/v['numentries']\\n    print(k, \\\"\\\\t{:.2f}%\\\".format(pass_rate * 100))\\n    \\n# Passing rate signal, weights applied!\\npass_rate = sum(sample_info[\\\"NUE\\\"]['daughters'].eval('select*weightSpline*nueccinc'))/sum(sample_info[\\\"NUE\\\"][\\\"mc\\\"]['weightSpline']*signal_mask)\\nprint(\\\"Nue signal passing the selection \\\\t{:.2f}%\\\".format(pass_rate * 100))\\nnue_pass = sum(sample_info[\\\"NUE\\\"]['daughters'].eval('select*weightSpline*nueccinc'))*sample_info[\\\"NUE\\\"]['scaling']*pot_scale\\nprint(\\\"Nue Intrinsic signal passing: {0:0.3f} per {1:0.2g} POT\\\".format(nue_pass,pot_target))\\nlee_pass = sum(sample_info[\\\"NUE\\\"]['daughters'].eval('select*leeweight*nueccinc'))*sample_info[\\\"NUE\\\"]['scaling']*pot_scale\\nprint(\\\"Nue LEE signal passing: {0:0.3f} per {1:0.2g} POT\\\".format(lee_pass,pot_target))\\n\\n## Calculate the purity:\\npurity_denom = sum(sample_info[\\\"MC\\\"]['daughters'].eval('select*weightSpline'))*sample_info[\\\"MC\\\"]['scaling']\\npurity_denom+= sum(sample_info[\\\"DRT\\\"]['daughters'].eval('select*weightSpline'))*sample_info[\\\"DRT\\\"]['scaling']\\npurity_denom+= sum(sample_info[\\\"Off\\\"]['daughters'].eval('select'))*sample_info[\\\"Off\\\"]['scaling']\\n\\npurity_mc = sum(sample_info[\\\"NUE\\\"]['daughters'].eval('select*weightSpline*nueccinc'))*sample_info[\\\"NUE\\\"]['scaling']/ purity_denom\\npurity_data = sum(sample_info[\\\"NUE\\\"]['daughters'].eval('select*weightSpline*nueccinc'))*sample_info[\\\"NUE\\\"]['scaling']/ sum(sample_info[\\\"On\\\"]['daughters'].eval('select'))\\nprint(\\\"Purity MC: {:.1f}%\\\\nData/MC-ratio: {:.2f}\\\\n\\\".format(purity_mc*100,sum(sample_info[\\\"On\\\"]['daughters'].eval('select'))/purity_denom))\";\n",
       "                var nbb_cells = Jupyter.notebook.get_cells();\n",
       "                for (var i = 0; i < nbb_cells.length; ++i) {\n",
       "                    if (nbb_cells[i].input_prompt_number == nbb_cell_id) {\n",
       "                        nbb_cells[i].set_text(nbb_formatted_code);\n",
       "                        break;\n",
       "                    }\n",
       "                }\n",
       "            }, 500);\n",
       "            "
      ],
      "text/plain": [
       "<IPython.core.display.Javascript object>"
      ]
     },
     "metadata": {},
     "output_type": "display_data"
    }
   ],
   "source": [
    "%%time\n",
    "query_select = (\n",
    "    \"e_candidate & preselect & score>0.95\"\n",
    ")\n",
    "# Passing rate selection\n",
    "for k, v in sample_info.items():\n",
    "    v[\"daughters\"][\"select\"] = v[\"daughters\"].eval(\n",
    "        query_select\n",
    "    )\n",
    "    pass_rate = sum(v[\"daughters\"].eval(\"e_candidate & select\"))/v['numentries']\n",
    "    print(k, \"\\t{:.2f}%\".format(pass_rate * 100))\n",
    "    \n",
    "# Passing rate signal, weights applied!\n",
    "pass_rate = sum(sample_info[\"NUE\"]['daughters'].eval('select*weightSpline*nueccinc'))/sum(sample_info[\"NUE\"][\"mc\"]['weightSpline']*signal_mask)\n",
    "print(\"Nue signal passing the selection \\t{:.2f}%\".format(pass_rate * 100))\n",
    "nue_pass = sum(sample_info[\"NUE\"]['daughters'].eval('select*weightSpline*nueccinc'))*sample_info[\"NUE\"]['scaling']*pot_scale\n",
    "print(\"Nue Intrinsic signal passing: {0:0.3f} per {1:0.2g} POT\".format(nue_pass,pot_target))\n",
    "lee_pass = sum(sample_info[\"NUE\"]['daughters'].eval('select*leeweight*nueccinc'))*sample_info[\"NUE\"]['scaling']*pot_scale\n",
    "print(\"Nue LEE signal passing: {0:0.3f} per {1:0.2g} POT\".format(lee_pass,pot_target))\n",
    "\n",
    "## Calculate the purity:\n",
    "purity_denom = sum(sample_info[\"MC\"]['daughters'].eval('select*weightSpline'))*sample_info[\"MC\"]['scaling']\n",
    "purity_denom+= sum(sample_info[\"DRT\"]['daughters'].eval('select*weightSpline'))*sample_info[\"DRT\"]['scaling']\n",
    "purity_denom+= sum(sample_info[\"Off\"]['daughters'].eval('select'))*sample_info[\"Off\"]['scaling']\n",
    "\n",
    "purity_mc = sum(sample_info[\"NUE\"]['daughters'].eval('select*weightSpline*nueccinc'))*sample_info[\"NUE\"]['scaling']/ purity_denom\n",
    "purity_data = sum(sample_info[\"NUE\"]['daughters'].eval('select*weightSpline*nueccinc'))*sample_info[\"NUE\"]['scaling']/ sum(sample_info[\"On\"]['daughters'].eval('select'))\n",
    "print(\"Purity MC: {:.1f}%\\nData/MC-ratio: {:.2f}\\n\".format(purity_mc*100,sum(sample_info[\"On\"]['daughters'].eval('select'))/purity_denom))"
   ]
  },
  {
   "cell_type": "markdown",
   "metadata": {},
   "source": [
    "### Plots"
   ]
  },
  {
   "cell_type": "code",
   "execution_count": 37,
   "metadata": {
    "scrolled": false
   },
   "outputs": [
    {
     "data": {
      "image/png": "[encoded data removed]",
      "text/plain": [
       "<Figure size 576x288 with 2 Axes>"
      ]
     },
     "metadata": {
      "needs_background": "light"
     },
     "output_type": "display_data"
    },
    {
     "data": {
      "application/javascript": [
       "\n",
       "            setTimeout(function() {\n",
       "                var nbb_cell_id = 37;\n",
       "                var nbb_formatted_code = \"fig, ax = plt.subplots(ncols=2, figsize=(8, 4))\\n\\nax[0].hist(\\n    sample_info[\\\"NUE\\\"][\\\"daughters\\\"]\\n    .query(\\\"nueccinc\\\")[\\\"true_vtx_distance\\\"]\\n    .xs(0, level=\\\"daughter\\\"),\\n    bins=50,\\n    range=(0, 5),\\n    label=\\\"|true_nu_vtx - reco_nu_vtx_sce|\\\",\\n    alpha=0.7,\\n)\\nax[0].hist(\\n    sample_info[\\\"NUE\\\"][\\\"daughters\\\"]\\n    .query(\\\"nueccinc\\\")[\\\"true_vtx_distance_check\\\"]\\n    .xs(0, level=\\\"daughter\\\"),\\n    bins=50,\\n    range=(0, 5),\\n    label=\\\"|true_nu_vtx_sce - reco_nu_vtx|\\\",\\n    alpha=0.7,\\n)\\nax[0].set_xlabel(\\\"Neutrino vertex distance [cm]\\\")\\nax[0].set_title(r\\\"$\\\\nu_e$ CC Inclusive\\\", loc=\\\"left\\\")\\nax[0].set_title(\\\"Run3 Overlay\\\", loc=\\\"right\\\")\\nax[0].legend()\\n\\nax[1].hist(\\n    sample_info[\\\"NUE\\\"][\\\"daughters\\\"]\\n    .query(\\\"nueccinc\\\")\\n    .xs(0, level=\\\"daughter\\\")\\n    .eval(\\\"true_nu_vtx_x+@x_sce_magic-reco_nu_vtx_sce_x\\\"),\\n    bins=51,\\n    range=(-2, 2),\\n    label=\\\"|true_nu_vtx - reco_nu_vtx_sce|\\\",\\n    alpha=0.7,\\n)\\nax[1].hist(\\n    sample_info[\\\"NUE\\\"][\\\"daughters\\\"]\\n    .query(\\\"nueccinc\\\")\\n    .xs(0, level=\\\"daughter\\\")\\n    .eval(\\\"true_nu_vtx_sce_x-reco_nu_vtx_x\\\"),\\n    bins=51,\\n    range=(-2, 2),\\n    label=\\\"|true_nu_vtx_sce - reco_nu_vtx|\\\",\\n    alpha=0.7,\\n)\\nax[1].set_xlabel(\\\"Neutrino vertex distance x-coordinate [cm]\\\")\\nax[1].set_title(r\\\"$\\\\nu_e$ CC Inclusive\\\", loc=\\\"left\\\")\\nax[1].set_title(\\\"Run3 Overlay\\\", loc=\\\"right\\\")\\nax[1].set_ylim(0, ax[1].get_ylim()[1] * 1.25)\\nax[1].legend()\\n\\nfig.tight_layout()\\nfig.savefig(output_dir + \\\"vtx_distance.pdf\\\")\";\n",
       "                var nbb_cells = Jupyter.notebook.get_cells();\n",
       "                for (var i = 0; i < nbb_cells.length; ++i) {\n",
       "                    if (nbb_cells[i].input_prompt_number == nbb_cell_id) {\n",
       "                        nbb_cells[i].set_text(nbb_formatted_code);\n",
       "                        break;\n",
       "                    }\n",
       "                }\n",
       "            }, 500);\n",
       "            "
      ],
      "text/plain": [
       "<IPython.core.display.Javascript object>"
      ]
     },
     "metadata": {},
     "output_type": "display_data"
    }
   ],
   "source": [
    "fig, ax = plt.subplots(ncols=2, figsize=(8, 4))\n",
    "\n",
    "ax[0].hist(\n",
    "    sample_info[\"NUE\"][\"daughters\"]\n",
    "    .query(\"nueccinc\")[\"true_vtx_distance\"]\n",
    "    .xs(0, level=\"daughter\"),\n",
    "    bins=50,\n",
    "    range=(0, 5),\n",
    "    label=\"|true_nu_vtx - reco_nu_vtx_sce|\",\n",
    "    alpha=0.7,\n",
    ")\n",
    "ax[0].hist(\n",
    "    sample_info[\"NUE\"][\"daughters\"]\n",
    "    .query(\"nueccinc\")[\"true_vtx_distance_check\"]\n",
    "    .xs(0, level=\"daughter\"),\n",
    "    bins=50,\n",
    "    range=(0, 5),\n",
    "    label=\"|true_nu_vtx_sce - reco_nu_vtx|\",\n",
    "    alpha=0.7,\n",
    ")\n",
    "ax[0].set_xlabel(\"Neutrino vertex distance [cm]\")\n",
    "ax[0].set_title(r\"$\\nu_e$ CC Inclusive\", loc=\"left\")\n",
    "ax[0].set_title(\"Run3 Overlay\", loc=\"right\")\n",
    "ax[0].legend()\n",
    "\n",
    "ax[1].hist(\n",
    "    sample_info[\"NUE\"][\"daughters\"]\n",
    "    .query(\"nueccinc\")\n",
    "    .xs(0, level=\"daughter\")\n",
    "    .eval(\"true_nu_vtx_x+@x_sce_magic-reco_nu_vtx_sce_x\"),\n",
    "    bins=51,\n",
    "    range=(-2, 2),\n",
    "    label=\"|true_nu_vtx - reco_nu_vtx_sce|\",\n",
    "    alpha=0.7,\n",
    ")\n",
    "ax[1].hist(\n",
    "    sample_info[\"NUE\"][\"daughters\"]\n",
    "    .query(\"nueccinc\")\n",
    "    .xs(0, level=\"daughter\")\n",
    "    .eval(\"true_nu_vtx_sce_x-reco_nu_vtx_x\"),\n",
    "    bins=51,\n",
    "    range=(-2, 2),\n",
    "    label=\"|true_nu_vtx_sce - reco_nu_vtx|\",\n",
    "    alpha=0.7,\n",
    ")\n",
    "ax[1].set_xlabel(\"Neutrino vertex distance x-coordinate [cm]\")\n",
    "ax[1].set_title(r\"$\\nu_e$ CC Inclusive\", loc=\"left\")\n",
    "ax[1].set_title(\"Run3 Overlay\", loc=\"right\")\n",
    "ax[1].set_ylim(0, ax[1].get_ylim()[1] * 1.25)\n",
    "ax[1].legend()\n",
    "\n",
    "fig.tight_layout()\n",
    "fig.savefig(output_dir + \"vtx_distance.pdf\")"
   ]
  },
  {
   "cell_type": "code",
   "execution_count": 38,
   "metadata": {},
   "outputs": [
    {
     "data": {
      "image/png": "[encoded data removed]",
      "text/plain": [
       "<Figure size 648x288 with 1 Axes>"
      ]
     },
     "metadata": {
      "needs_background": "light"
     },
     "output_type": "display_data"
    },
    {
     "data": {
      "application/javascript": [
       "\n",
       "            setTimeout(function() {\n",
       "                var nbb_cell_id = 38;\n",
       "                var nbb_formatted_code = \"fig, ax = plt.subplots(ncols=1, figsize=(9, 4))\\n\\ndata = sample_info[\\\"NUE\\\"][\\\"daughters\\\"].query(\\\"e_candidate & abs(backtracked_pdg==11)\\\")[\\n    [\\\"shr_tkfit_dedx_y_v\\\", \\\"shr_tkfit_dedx_wm_v\\\"]\\n]\\n\\nfor col in data.columns:\\n    ax.hist(data[col], bins=50, range=(0, 20), label=col, alpha=0.5)\\nax.legend()\\n\\nfig.tight_layout()\\nfig.savefig(output_dir + \\\"e_preselection_dedx.pdf\\\")\";\n",
       "                var nbb_cells = Jupyter.notebook.get_cells();\n",
       "                for (var i = 0; i < nbb_cells.length; ++i) {\n",
       "                    if (nbb_cells[i].input_prompt_number == nbb_cell_id) {\n",
       "                        nbb_cells[i].set_text(nbb_formatted_code);\n",
       "                        break;\n",
       "                    }\n",
       "                }\n",
       "            }, 500);\n",
       "            "
      ],
      "text/plain": [
       "<IPython.core.display.Javascript object>"
      ]
     },
     "metadata": {},
     "output_type": "display_data"
    }
   ],
   "source": [
    "fig, ax = plt.subplots(ncols=1, figsize=(9, 4))\n",
    "\n",
    "data = sample_info[\"NUE\"][\"daughters\"].query(\"e_candidate & abs(backtracked_pdg==11)\")[\n",
    "    [\"shr_tkfit_dedx_y_v\", \"shr_tkfit_dedx_wm_v\"]\n",
    "]\n",
    "\n",
    "for col in data.columns:\n",
    "    ax.hist(data[col], bins=50, range=(0, 20), label=col, alpha=0.5)\n",
    "ax.legend()\n",
    "\n",
    "fig.tight_layout()\n",
    "fig.savefig(output_dir + \"e_preselection_dedx.pdf\")"
   ]
  },
  {
   "cell_type": "markdown",
   "metadata": {},
   "source": [
    "### Sandbox!"
   ]
  },
  {
   "cell_type": "raw",
   "metadata": {},
   "source": [
    "%%timeit\n",
    "sample_info[\"NUE\"][\"daughters\"][\"n_showers\"].groupby(\"event\").first()"
   ]
  },
  {
   "cell_type": "raw",
   "metadata": {},
   "source": [
    "%%timeit\n",
    "sample_info[\"NUE\"][\"daughters\"]['n_showers'].swaplevel().loc[0]"
   ]
  },
  {
   "cell_type": "raw",
   "metadata": {},
   "source": [
    "%%timeit\n",
    "sample_info[\"NUE\"][\"daughters\"].loc[(slice(None), slice(0)), \"n_showers\"]"
   ]
  },
  {
   "cell_type": "raw",
   "metadata": {},
   "source": [
    "%%timeit\n",
    "sample_info[\"NUE\"][\"daughters\"][\"n_showers\"].xs(0, level=\"daughter\")"
   ]
  },
  {
   "cell_type": "raw",
   "metadata": {},
   "source": [
    "%%timeit\n",
    "sample_info[\"NUE\"][\"daughters\"][\"n_showers\"].mean(level=\"event\")"
   ]
  },
  {
   "cell_type": "raw",
   "metadata": {},
   "source": [
    "%%timeit\n",
    "## With broadcasting to the multiindex!\n",
    "sample_info[\"NUE\"][\"daughters\"][\"n_showers\"].xs(0, level=\"daughter\").reindex(\n",
    "    sample_info[\"NUE\"][\"daughters\"].index, level=0\n",
    ")"
   ]
  },
  {
   "cell_type": "raw",
   "metadata": {},
   "source": [
    "%%timeit\n",
    "sample_info[\"NUE\"][\"daughters\"].sort_values(\n",
    "    by=[\"event\", \"shr_energy_y_v\"], ascending=[True, False]\n",
    ").xs(0, level=\"daughter\")"
   ]
  },
  {
   "cell_type": "raw",
   "metadata": {},
   "source": [
    "%%timeit\n",
    "e_cand_str = \"pfnplanehits_U>0 & pfnplanehits_V>0 & pfnplanehits_Y>0 & trk_score_v<@max_trk_score\"\n",
    "electron_candidate = sample_info[\"NUE\"][\"daughters\"].eval(e_cand_str)\n",
    "\n",
    "e_cand_maxe = (\n",
    "    sample_info[\"NUE\"][\"daughters\"][electron_candidate][\"shr_energy_y_v\"]\n",
    "    .groupby(\"event\")\n",
    "    .transform(max)\n",
    "    == sample_info[\"NUE\"][\"daughters\"][electron_candidate][\"shr_energy_y_v\"]\n",
    ")\n",
    "\n",
    "sample_info[\"NUE\"][\"daughters\"][\"e_candidate\"] = False\n",
    "sample_info[\"NUE\"][\"daughters\"].loc[\n",
    "    e_cand_maxe[e_cand_maxe == True].index, \"e_candidate\"\n",
    "] = True"
   ]
  },
  {
   "cell_type": "code",
   "execution_count": null,
   "metadata": {},
   "outputs": [],
   "source": []
  }
 ],
 "metadata": {
  "kernelspec": {
   "display_name": "uproot env",
   "language": "python",
   "name": "uproot"
  },
  "language_info": {
   "codemirror_mode": {
    "name": "ipython",
    "version": 3
   },
   "file_extension": ".py",
   "mimetype": "text/x-python",
   "name": "python",
   "nbconvert_exporter": "python",
   "pygments_lexer": "ipython3",
   "version": "3.7.4"
  }
 },
 "nbformat": 4,
 "nbformat_minor": 2
}
