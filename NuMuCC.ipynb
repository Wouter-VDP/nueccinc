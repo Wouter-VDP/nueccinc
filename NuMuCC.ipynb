{
 "cells": [
  {
   "cell_type": "code",
   "execution_count": 1,
   "metadata": {},
   "outputs": [
    {
     "data": {
      "application/javascript": [
       "\n",
       "            setTimeout(function() {\n",
       "                var nbb_cell_id = 1;\n",
       "                var nbb_formatted_code = \"%load_ext autoreload\\n%matplotlib inline\\n%load_ext nb_black\";\n",
       "                var nbb_cells = Jupyter.notebook.get_cells();\n",
       "                for (var i = 0; i < nbb_cells.length; ++i) {\n",
       "                    if (nbb_cells[i].input_prompt_number == nbb_cell_id) {\n",
       "                        nbb_cells[i].set_text(nbb_formatted_code);\n",
       "                        break;\n",
       "                    }\n",
       "                }\n",
       "            }, 500);\n",
       "            "
      ],
      "text/plain": [
       "<IPython.core.display.Javascript object>"
      ]
     },
     "metadata": {},
     "output_type": "display_data"
    }
   ],
   "source": [
    "%load_ext autoreload\n",
    "%matplotlib inline\n",
    "%load_ext nb_black"
   ]
  },
  {
   "cell_type": "code",
   "execution_count": 2,
   "metadata": {},
   "outputs": [
    {
     "data": {
      "application/javascript": [
       "\n",
       "            setTimeout(function() {\n",
       "                var nbb_cell_id = 2;\n",
       "                var nbb_formatted_code = \"import pickle\\nimport numpy as np\\nimport pandas as pd\\nimport matplotlib.pyplot as plt\\nimport scipy.stats as st\\n\\nfrom helpers import helpplots_numu as plothelp\\nfrom helpers import helpfunction as helper\\nfrom helpers import plot_dicts_numu as plot_dicts\\n\\npd.set_option(\\\"display.max_columns\\\", 500)\";\n",
       "                var nbb_cells = Jupyter.notebook.get_cells();\n",
       "                for (var i = 0; i < nbb_cells.length; ++i) {\n",
       "                    if (nbb_cells[i].input_prompt_number == nbb_cell_id) {\n",
       "                        nbb_cells[i].set_text(nbb_formatted_code);\n",
       "                        break;\n",
       "                    }\n",
       "                }\n",
       "            }, 500);\n",
       "            "
      ],
      "text/plain": [
       "<IPython.core.display.Javascript object>"
      ]
     },
     "metadata": {},
     "output_type": "display_data"
    }
   ],
   "source": [
    "import pickle\n",
    "import numpy as np\n",
    "import pandas as pd\n",
    "import matplotlib.pyplot as plt\n",
    "import scipy.stats as st\n",
    "\n",
    "from helpers import helpplots_numu as plothelp\n",
    "from helpers import helpfunction as helper\n",
    "from helpers import plot_dicts_numu as plot_dicts\n",
    "\n",
    "pd.set_option(\"display.max_columns\", 500)"
   ]
  },
  {
   "cell_type": "code",
   "execution_count": 3,
   "metadata": {},
   "outputs": [
    {
     "data": {
      "application/javascript": [
       "\n",
       "            setTimeout(function() {\n",
       "                var nbb_cell_id = 3;\n",
       "                var nbb_formatted_code = \"%autoreload\";\n",
       "                var nbb_cells = Jupyter.notebook.get_cells();\n",
       "                for (var i = 0; i < nbb_cells.length; ++i) {\n",
       "                    if (nbb_cells[i].input_prompt_number == nbb_cell_id) {\n",
       "                        nbb_cells[i].set_text(nbb_formatted_code);\n",
       "                        break;\n",
       "                    }\n",
       "                }\n",
       "            }, 500);\n",
       "            "
      ],
      "text/plain": [
       "<IPython.core.display.Javascript object>"
      ]
     },
     "metadata": {},
     "output_type": "display_data"
    }
   ],
   "source": [
    "%autoreload"
   ]
  },
  {
   "cell_type": "code",
   "execution_count": 4,
   "metadata": {},
   "outputs": [
    {
     "data": {
      "application/javascript": [
       "\n",
       "            setTimeout(function() {\n",
       "                var nbb_cell_id = 4;\n",
       "                var nbb_formatted_code = \"run = 1\\ninput_dir = \\\"./input/15Nov/run{}/\\\".format(run)\\noutput_dir = \\\"./output/run{}/\\\".format(run)\";\n",
       "                var nbb_cells = Jupyter.notebook.get_cells();\n",
       "                for (var i = 0; i < nbb_cells.length; ++i) {\n",
       "                    if (nbb_cells[i].input_prompt_number == nbb_cell_id) {\n",
       "                        nbb_cells[i].set_text(nbb_formatted_code);\n",
       "                        break;\n",
       "                    }\n",
       "                }\n",
       "            }, 500);\n",
       "            "
      ],
      "text/plain": [
       "<IPython.core.display.Javascript object>"
      ]
     },
     "metadata": {},
     "output_type": "display_data"
    }
   ],
   "source": [
    "run = 1\n",
    "input_dir = \"./input/15Nov/run{}/\".format(run)\n",
    "output_dir = \"./output/run{}/\".format(run)"
   ]
  },
  {
   "cell_type": "code",
   "execution_count": 5,
   "metadata": {},
   "outputs": [
    {
     "name": "stdout",
     "output_type": "stream",
     "text": [
      "CPU times: user 619 ms, sys: 1.03 s, total: 1.64 s\n",
      "Wall time: 1.64 s\n"
     ]
    },
    {
     "data": {
      "application/javascript": [
       "\n",
       "            setTimeout(function() {\n",
       "                var nbb_cell_id = 5;\n",
       "                var nbb_formatted_code = \"%%time\\ndata = pickle.load(open(input_dir+\\\"samples.pckl\\\", 'rb'))\\nsamples = list(data.keys())\\ntitle_str = \\\"MicroBooNE Run{}: {:.1e} POT\\\".format(run, data[\\\"on\\\"][\\\"pot\\\"])\";\n",
       "                var nbb_cells = Jupyter.notebook.get_cells();\n",
       "                for (var i = 0; i < nbb_cells.length; ++i) {\n",
       "                    if (nbb_cells[i].input_prompt_number == nbb_cell_id) {\n",
       "                        nbb_cells[i].set_text(nbb_formatted_code);\n",
       "                        break;\n",
       "                    }\n",
       "                }\n",
       "            }, 500);\n",
       "            "
      ],
      "text/plain": [
       "<IPython.core.display.Javascript object>"
      ]
     },
     "metadata": {},
     "output_type": "display_data"
    }
   ],
   "source": [
    "%%time\n",
    "data = pickle.load(open(input_dir+\"samples.pckl\", 'rb'))\n",
    "samples = list(data.keys())\n",
    "title_str = \"MicroBooNE Run{}: {:.1e} POT\".format(run, data[\"on\"][\"pot\"])"
   ]
  },
  {
   "cell_type": "code",
   "execution_count": 6,
   "metadata": {},
   "outputs": [
    {
     "data": {
      "application/javascript": [
       "\n",
       "            setTimeout(function() {\n",
       "                var nbb_cell_id = 6;\n",
       "                var nbb_formatted_code = \"q_muon_select = \\\"trk_llr_pid_score_v>1.5 & trk_score_v>0.8 & trk_len_v>20 & pfp_generation_v==2 & trk_distance_v<4\\\"\\nq_event_select = \\\"muon_candidate & ~crtveto & _closestNuCosmicDist>20 & slpdg==14 & topological_score>0.06\\\"\\n\\n# q_muon_select = \\\"trk_llr_pid_score_v>-10\\\"\\n# q_event_select = \\\"muon_candidate\\\"\";\n",
       "                var nbb_cells = Jupyter.notebook.get_cells();\n",
       "                for (var i = 0; i < nbb_cells.length; ++i) {\n",
       "                    if (nbb_cells[i].input_prompt_number == nbb_cell_id) {\n",
       "                        nbb_cells[i].set_text(nbb_formatted_code);\n",
       "                        break;\n",
       "                    }\n",
       "                }\n",
       "            }, 500);\n",
       "            "
      ],
      "text/plain": [
       "<IPython.core.display.Javascript object>"
      ]
     },
     "metadata": {},
     "output_type": "display_data"
    }
   ],
   "source": [
    "q_muon_select = \"trk_llr_pid_score_v>1.5 & trk_score_v>0.8 & trk_len_v>20 & pfp_generation_v==2 & trk_distance_v<4\"\n",
    "q_event_select = \"muon_candidate & ~crtveto & _closestNuCosmicDist>20 & slpdg==14 & topological_score>0.06\"\n",
    "\n",
    "# q_muon_select = \"trk_llr_pid_score_v>-10\"\n",
    "# q_event_select = \"muon_candidate\""
   ]
  },
  {
   "cell_type": "code",
   "execution_count": 7,
   "metadata": {},
   "outputs": [
    {
     "data": {
      "application/javascript": [
       "\n",
       "            setTimeout(function() {\n",
       "                var nbb_cell_id = 7;\n",
       "                var nbb_formatted_code = \"for k, v in data.items():\\n    muon_candidate = v[\\\"daughters\\\"].eval(q_muon_select)\\n    muon_cand_maxll = (\\n        v[\\\"daughters\\\"][muon_candidate][\\\"trk_llr_pid_score_v\\\"]\\n        .groupby(\\\"event\\\")\\n        .transform(max)\\n        == v[\\\"daughters\\\"][muon_candidate][\\\"trk_llr_pid_score_v\\\"]\\n    )\\n    v[\\\"daughters\\\"][\\\"muon_candidate\\\"] = False\\n    v[\\\"daughters\\\"].loc[\\n        muon_cand_maxll[muon_cand_maxll == True].index, \\\"muon_candidate\\\"\\n    ] = True\\n    # At some point you would like to broadcast this\\n    v[\\\"daughters\\\"][\\\"numuccinc\\\"] = v[\\\"daughters\\\"].eval(q_event_select)\\n    v[\\\"daughters\\\"][\\\"track_at_vtx\\\"] = v[\\\"daughters\\\"].eval(\\n        \\\"trk_distance_v<3 & trk_distance_v>=0 & trk_score_v>0.3\\\"\\n    )\\n    v[\\\"daughters\\\"][\\\"track_at_vtx\\\"] = (\\n        v[\\\"daughters\\\"][\\\"track_at_vtx\\\"].groupby(\\\"event\\\").transform(sum)\\n    )\";\n",
       "                var nbb_cells = Jupyter.notebook.get_cells();\n",
       "                for (var i = 0; i < nbb_cells.length; ++i) {\n",
       "                    if (nbb_cells[i].input_prompt_number == nbb_cell_id) {\n",
       "                        nbb_cells[i].set_text(nbb_formatted_code);\n",
       "                        break;\n",
       "                    }\n",
       "                }\n",
       "            }, 500);\n",
       "            "
      ],
      "text/plain": [
       "<IPython.core.display.Javascript object>"
      ]
     },
     "metadata": {},
     "output_type": "display_data"
    }
   ],
   "source": [
    "for k, v in data.items():\n",
    "    muon_candidate = v[\"daughters\"].eval(q_muon_select)\n",
    "    muon_cand_maxll = (\n",
    "        v[\"daughters\"][muon_candidate][\"trk_llr_pid_score_v\"]\n",
    "        .groupby(\"event\")\n",
    "        .transform(max)\n",
    "        == v[\"daughters\"][muon_candidate][\"trk_llr_pid_score_v\"]\n",
    "    )\n",
    "    v[\"daughters\"][\"muon_candidate\"] = False\n",
    "    v[\"daughters\"].loc[\n",
    "        muon_cand_maxll[muon_cand_maxll == True].index, \"muon_candidate\"\n",
    "    ] = True\n",
    "    # At some point you would like to broadcast this\n",
    "    v[\"daughters\"][\"numuccinc\"] = v[\"daughters\"].eval(q_event_select)\n",
    "    v[\"daughters\"][\"track_at_vtx\"] = v[\"daughters\"].eval(\n",
    "        \"trk_distance_v<3 & trk_distance_v>=0 & trk_score_v>0.3\"\n",
    "    )\n",
    "    v[\"daughters\"][\"track_at_vtx\"] = (\n",
    "        v[\"daughters\"][\"track_at_vtx\"].groupby(\"event\").transform(sum)\n",
    "    )"
   ]
  },
  {
   "cell_type": "code",
   "execution_count": 8,
   "metadata": {},
   "outputs": [
    {
     "data": {
      "application/javascript": [
       "\n",
       "            setTimeout(function() {\n",
       "                var nbb_cell_id = 8;\n",
       "                var nbb_formatted_code = \"nu_df = pd.DataFrame(data[\\\"nu\\\"][\\\"mc\\\"])\";\n",
       "                var nbb_cells = Jupyter.notebook.get_cells();\n",
       "                for (var i = 0; i < nbb_cells.length; ++i) {\n",
       "                    if (nbb_cells[i].input_prompt_number == nbb_cell_id) {\n",
       "                        nbb_cells[i].set_text(nbb_formatted_code);\n",
       "                        break;\n",
       "                    }\n",
       "                }\n",
       "            }, 500);\n",
       "            "
      ],
      "text/plain": [
       "<IPython.core.display.Javascript object>"
      ]
     },
     "metadata": {},
     "output_type": "display_data"
    }
   ],
   "source": [
    "nu_df = pd.DataFrame(data[\"nu\"][\"mc\"])"
   ]
  },
  {
   "cell_type": "code",
   "execution_count": 9,
   "metadata": {},
   "outputs": [
    {
     "data": {
      "application/javascript": [
       "\n",
       "            setTimeout(function() {\n",
       "                var nbb_cell_id = 9;\n",
       "                var nbb_formatted_code = \"nu_df[\\\"true_vtx_fid\\\"] = helper.is_fid(\\n    data[\\\"nu\\\"][\\\"mc\\\"][\\\"true_nu_vtx_x\\\"],\\n    data[\\\"nu\\\"][\\\"mc\\\"][\\\"true_nu_vtx_y\\\"],\\n    data[\\\"nu\\\"][\\\"mc\\\"][\\\"true_nu_vtx_z\\\"],\\n)\";\n",
       "                var nbb_cells = Jupyter.notebook.get_cells();\n",
       "                for (var i = 0; i < nbb_cells.length; ++i) {\n",
       "                    if (nbb_cells[i].input_prompt_number == nbb_cell_id) {\n",
       "                        nbb_cells[i].set_text(nbb_formatted_code);\n",
       "                        break;\n",
       "                    }\n",
       "                }\n",
       "            }, 500);\n",
       "            "
      ],
      "text/plain": [
       "<IPython.core.display.Javascript object>"
      ]
     },
     "metadata": {},
     "output_type": "display_data"
    }
   ],
   "source": [
    "nu_df[\"true_vtx_fid\"] = helper.is_fid(\n",
    "    data[\"nu\"][\"mc\"][\"true_nu_vtx_x\"],\n",
    "    data[\"nu\"][\"mc\"][\"true_nu_vtx_y\"],\n",
    "    data[\"nu\"][\"mc\"][\"true_nu_vtx_z\"],\n",
    ")"
   ]
  },
  {
   "cell_type": "code",
   "execution_count": 10,
   "metadata": {},
   "outputs": [
    {
     "data": {
      "application/javascript": [
       "\n",
       "            setTimeout(function() {\n",
       "                var nbb_cell_id = 10;\n",
       "                var nbb_formatted_code = \"q_30 = \\\"abs(nu_pdg)==14 & nmuon==1 & nproton==0 & (npi0+npion)==0 & true_vtx_fid\\\"\\nq_31 = \\\"abs(nu_pdg)==14 & nmuon==1 & nproton>0 & (npi0+npion)==0 & true_vtx_fid\\\"\\nq_32 = \\\"abs(nu_pdg)==14 & nmuon==1 & (npi0+npion)>0 & true_vtx_fid\\\"\\nq_33 = \\\"abs(nu_pdg)==14 & nmuon==0 & true_vtx_fid\\\"\\nq_10 = \\\"abs(nu_pdg)==12 & true_vtx_fid\\\"\\nq_5 = \\\"true_vtx_fid==0\\\"\\nnew_cat = (\\n    nu_df.eval(q_30) * 30\\n    + nu_df.eval(q_31) * 31\\n    + nu_df.eval(q_32) * 32\\n    + nu_df.eval(q_33) * 33\\n    + nu_df.eval(q_10) * 10\\n    + nu_df.eval(q_5) * 5\\n)\\nnu_df[\\\"category\\\"] = new_cat\";\n",
       "                var nbb_cells = Jupyter.notebook.get_cells();\n",
       "                for (var i = 0; i < nbb_cells.length; ++i) {\n",
       "                    if (nbb_cells[i].input_prompt_number == nbb_cell_id) {\n",
       "                        nbb_cells[i].set_text(nbb_formatted_code);\n",
       "                        break;\n",
       "                    }\n",
       "                }\n",
       "            }, 500);\n",
       "            "
      ],
      "text/plain": [
       "<IPython.core.display.Javascript object>"
      ]
     },
     "metadata": {},
     "output_type": "display_data"
    }
   ],
   "source": [
    "q_30 = \"abs(nu_pdg)==14 & nmuon==1 & nproton==0 & (npi0+npion)==0 & true_vtx_fid\"\n",
    "q_31 = \"abs(nu_pdg)==14 & nmuon==1 & nproton>0 & (npi0+npion)==0 & true_vtx_fid\"\n",
    "q_32 = \"abs(nu_pdg)==14 & nmuon==1 & (npi0+npion)>0 & true_vtx_fid\"\n",
    "q_33 = \"abs(nu_pdg)==14 & nmuon==0 & true_vtx_fid\"\n",
    "q_10 = \"abs(nu_pdg)==12 & true_vtx_fid\"\n",
    "q_5 = \"true_vtx_fid==0\"\n",
    "new_cat = (\n",
    "    nu_df.eval(q_30) * 30\n",
    "    + nu_df.eval(q_31) * 31\n",
    "    + nu_df.eval(q_32) * 32\n",
    "    + nu_df.eval(q_33) * 33\n",
    "    + nu_df.eval(q_10) * 10\n",
    "    + nu_df.eval(q_5) * 5\n",
    ")\n",
    "nu_df[\"category\"] = new_cat"
   ]
  },
  {
   "cell_type": "code",
   "execution_count": 11,
   "metadata": {},
   "outputs": [
    {
     "data": {
      "application/javascript": [
       "\n",
       "            setTimeout(function() {\n",
       "                var nbb_cell_id = 11;\n",
       "                var nbb_formatted_code = \"q_30 = \\\"category!=5 & abs(nu_pdg)==14 & nmuon==1 & nproton==0 & (npi0+npion)==0\\\"\\nq_31 = \\\"category!=5 & abs(nu_pdg)==14 & nmuon==1 & nproton>0 & (npi0+npion)==0\\\"\\nq_32 = \\\"category!=5 & abs(nu_pdg)==14 & nmuon==1 & (npi0+npion)>0\\\"\\nq_33 = \\\"category!=5 & abs(nu_pdg)==14 & nmuon==0\\\"\\nq_10 = \\\"category!=5 & abs(nu_pdg)==12\\\"\\nq_5 = \\\"category==5\\\"\\nfor k, v in data.items():\\n    if k not in helper.data_samples:\\n        new_cat = (\\n            v[\\\"daughters\\\"].eval(q_30) * 30\\n            + v[\\\"daughters\\\"].eval(q_31) * 31\\n            + v[\\\"daughters\\\"].eval(q_32) * 32\\n            + v[\\\"daughters\\\"].eval(q_33) * 33\\n            + v[\\\"daughters\\\"].eval(q_10) * 10\\n            + v[\\\"daughters\\\"].eval(q_5) * 5\\n        )\\n        v[\\\"daughters\\\"][\\\"category\\\"] = new_cat\\n        cosmic = (v[\\\"daughters\\\"][\\\"nu_completeness_from_pfp\\\"] < 0.2) & (\\n            v[\\\"daughters\\\"][\\\"category\\\"] != 5\\n        )\\n        v[\\\"daughters\\\"].loc[cosmic, \\\"category\\\"] = 4\";\n",
       "                var nbb_cells = Jupyter.notebook.get_cells();\n",
       "                for (var i = 0; i < nbb_cells.length; ++i) {\n",
       "                    if (nbb_cells[i].input_prompt_number == nbb_cell_id) {\n",
       "                        nbb_cells[i].set_text(nbb_formatted_code);\n",
       "                        break;\n",
       "                    }\n",
       "                }\n",
       "            }, 500);\n",
       "            "
      ],
      "text/plain": [
       "<IPython.core.display.Javascript object>"
      ]
     },
     "metadata": {},
     "output_type": "display_data"
    }
   ],
   "source": [
    "q_30 = \"category!=5 & abs(nu_pdg)==14 & nmuon==1 & nproton==0 & (npi0+npion)==0\"\n",
    "q_31 = \"category!=5 & abs(nu_pdg)==14 & nmuon==1 & nproton>0 & (npi0+npion)==0\"\n",
    "q_32 = \"category!=5 & abs(nu_pdg)==14 & nmuon==1 & (npi0+npion)>0\"\n",
    "q_33 = \"category!=5 & abs(nu_pdg)==14 & nmuon==0\"\n",
    "q_10 = \"category!=5 & abs(nu_pdg)==12\"\n",
    "q_5 = \"category==5\"\n",
    "for k, v in data.items():\n",
    "    if k not in helper.data_samples:\n",
    "        new_cat = (\n",
    "            v[\"daughters\"].eval(q_30) * 30\n",
    "            + v[\"daughters\"].eval(q_31) * 31\n",
    "            + v[\"daughters\"].eval(q_32) * 32\n",
    "            + v[\"daughters\"].eval(q_33) * 33\n",
    "            + v[\"daughters\"].eval(q_10) * 10\n",
    "            + v[\"daughters\"].eval(q_5) * 5\n",
    "        )\n",
    "        v[\"daughters\"][\"category\"] = new_cat\n",
    "        cosmic = (v[\"daughters\"][\"nu_completeness_from_pfp\"] < 0.2) & (\n",
    "            v[\"daughters\"][\"category\"] != 5\n",
    "        )\n",
    "        v[\"daughters\"].loc[cosmic, \"category\"] = 4"
   ]
  },
  {
   "cell_type": "code",
   "execution_count": 12,
   "metadata": {},
   "outputs": [
    {
     "name": "stdout",
     "output_type": "stream",
     "text": [
      "31    48047\n",
      "5     40911\n",
      "32    23507\n",
      "30     9876\n",
      "33     3012\n",
      "4      2481\n",
      "10       91\n",
      "Name: category, dtype: int64\n",
      "5     345156\n",
      "31     85176\n",
      "33     58334\n",
      "32     43803\n",
      "30     18351\n",
      "10      1319\n",
      "0          3\n",
      "Name: category, dtype: int64\n",
      "14337\n"
     ]
    },
    {
     "data": {
      "application/javascript": [
       "\n",
       "            setTimeout(function() {\n",
       "                var nbb_cell_id = 12;\n",
       "                var nbb_formatted_code = \"print(data[\\\"nu\\\"][\\\"daughters\\\"].query(\\\"numuccinc\\\")[\\\"category\\\"].value_counts())\\nprint(nu_df[\\\"category\\\"].value_counts())\\nprint(sum(data[\\\"on\\\"][\\\"daughters\\\"].eval(\\\"numuccinc\\\")))\";\n",
       "                var nbb_cells = Jupyter.notebook.get_cells();\n",
       "                for (var i = 0; i < nbb_cells.length; ++i) {\n",
       "                    if (nbb_cells[i].input_prompt_number == nbb_cell_id) {\n",
       "                        nbb_cells[i].set_text(nbb_formatted_code);\n",
       "                        break;\n",
       "                    }\n",
       "                }\n",
       "            }, 500);\n",
       "            "
      ],
      "text/plain": [
       "<IPython.core.display.Javascript object>"
      ]
     },
     "metadata": {},
     "output_type": "display_data"
    }
   ],
   "source": [
    "print(data[\"nu\"][\"daughters\"].query(\"numuccinc\")[\"category\"].value_counts())\n",
    "print(nu_df[\"category\"].value_counts())\n",
    "print(sum(data[\"on\"][\"daughters\"].eval(\"numuccinc\")))"
   ]
  },
  {
   "cell_type": "code",
   "execution_count": 13,
   "metadata": {},
   "outputs": [
    {
     "data": {
      "text/plain": [
       "0.5527048123260707"
      ]
     },
     "execution_count": 13,
     "metadata": {},
     "output_type": "execute_result"
    },
    {
     "data": {
      "application/javascript": [
       "\n",
       "            setTimeout(function() {\n",
       "                var nbb_cell_id = 13;\n",
       "                var nbb_formatted_code = \"sum(data[\\\"nu\\\"][\\\"daughters\\\"].eval(\\\"numuccinc & category>29 & category<33\\\")) / sum(\\n    nu_df.eval(\\\"category>29 & category<33\\\")\\n)\";\n",
       "                var nbb_cells = Jupyter.notebook.get_cells();\n",
       "                for (var i = 0; i < nbb_cells.length; ++i) {\n",
       "                    if (nbb_cells[i].input_prompt_number == nbb_cell_id) {\n",
       "                        nbb_cells[i].set_text(nbb_formatted_code);\n",
       "                        break;\n",
       "                    }\n",
       "                }\n",
       "            }, 500);\n",
       "            "
      ],
      "text/plain": [
       "<IPython.core.display.Javascript object>"
      ]
     },
     "metadata": {},
     "output_type": "display_data"
    }
   ],
   "source": [
    "sum(data[\"nu\"][\"daughters\"].eval(\"numuccinc & category>29 & category<33\")) / sum(\n",
    "    nu_df.eval(\"category>29 & category<33\")\n",
    ")"
   ]
  },
  {
   "cell_type": "code",
   "execution_count": 14,
   "metadata": {},
   "outputs": [
    {
     "name": "stdout",
     "output_type": "stream",
     "text": [
      "19266.978875756264\n",
      "10189.735484719276\n",
      "86721.4129499197\n",
      "48543.33531713486\n",
      "43776.63062018156\n",
      "23493.113354444504\n"
     ]
    },
    {
     "data": {
      "image/png": "[encoded data removed]",
      "text/plain": [
       "<Figure size 576x252 with 2 Axes>"
      ]
     },
     "metadata": {
      "needs_background": "light"
     },
     "output_type": "display_data"
    },
    {
     "data": {
      "application/javascript": [
       "\n",
       "            setTimeout(function() {\n",
       "                var nbb_cell_id = 14;\n",
       "                var nbb_formatted_code = \"# eff per mode\\ncats = [0, 1, 2, 10]\\nfield = \\\"nu_e\\\"\\nx_min = 0.15\\nx_max = 3\\nn_bins = 10\\nfig, ax = plt.subplots(ncols=2, figsize=(8, 3.5))\\n\\n\\ncats = [0, 10, 1, 2]\\nfor cat in cats:\\n    num = (\\n        data[\\\"nu\\\"][\\\"daughters\\\"]\\n        .query(\\\"numuccinc & category>29 & category<33\\\")\\n        .query(\\\"interaction==@cat\\\")[field]\\n    )\\n    den = nu_df.query(\\\"category>29 & category<33\\\").query(\\\"interaction==@cat\\\")[field]\\n\\n    num_w = (\\n        data[\\\"nu\\\"][\\\"daughters\\\"]\\n        .query(\\\"numuccinc & category>29 & category<33\\\")\\n        .query(\\\"interaction==@cat\\\")[\\\"weightSpline\\\"]\\n    )\\n    den_w = nu_df.query(\\\"category>29 & category<33\\\").query(\\\"interaction==@cat\\\")[\\n        \\\"weightSpline\\\"\\n    ]\\n\\n    eff, unc_low, unc_up, edges = plothelp.efficiency_post(\\n        num, den, num_w=num_w, den_w=den_w, n_bins=n_bins, x_min=x_min, x_max=x_max\\n    )\\n    ax[0].fill_between(edges, eff - unc_low, eff + unc_up, alpha=0.3, step=\\\"post\\\")\\n    ax[0].step(\\n        edges,\\n        eff,\\n        where=\\\"post\\\",\\n        label=\\\"{0}: {1:.0f}%\\\".format(\\n            plot_dicts.int_labels[cat], sum(num_w) / sum(den_w) * 100\\n        ),\\n    )\\nax[0].set_title(r\\\"$\\\\nu_\\\\mu$ CC Filter, MicroBooNE In Progress\\\", loc=\\\"right\\\")\\nax[0].set_xlabel(\\\"True neutrino energy [GeV]\\\")\\nax[0].set_ylabel(\\\"Efficiency\\\")\\nax[0].set_ylim(0, 1)\\nax[0].set_xlim(x_min, x_max)\\nax[0].legend(loc=\\\"lower right\\\")\\n\\n\\ncats = [30, 31, 32]\\nfor cat in cats:\\n    num = (\\n        data[\\\"nu\\\"][\\\"daughters\\\"]\\n        .query(\\\"numuccinc & category>29 & category<33\\\")\\n        .query(\\\"category==@cat\\\")[field]\\n    )\\n    den = nu_df.query(\\\"category>29 & category<33\\\").query(\\\"category==@cat\\\")[field]\\n\\n    num_w = (\\n        data[\\\"nu\\\"][\\\"daughters\\\"]\\n        .query(\\\"numuccinc & category>29 & category<33\\\")\\n        .query(\\\"category==@cat\\\")[\\\"weightSpline\\\"]\\n    )\\n    den_w = nu_df.query(\\\"category>29 & category<33\\\").query(\\\"category==@cat\\\")[\\n        \\\"weightSpline\\\"\\n    ]\\n    print(sum(den_w))\\n    print(sum(num_w))\\n    eff, unc_low, unc_up, edges = plothelp.efficiency_post(\\n        num, den, num_w=num_w, den_w=den_w, n_bins=n_bins, x_min=x_min, x_max=x_max\\n    )\\n    ax[1].fill_between(edges, eff - unc_low, eff + unc_up, alpha=0.3, step=\\\"post\\\")\\n    ax[1].step(\\n        edges,\\n        eff,\\n        where=\\\"post\\\",\\n        label=\\\"{0}: {1:.0f}%\\\".format(\\n            plot_dicts.category_labels[cat], sum(num_w) / sum(den_w) * 100\\n        ),\\n    )\\nax[1].set_title(r\\\"$\\\\nu_\\\\mu$ CC Filter, MicroBooNE In Progress\\\", loc=\\\"right\\\")\\nax[1].set_xlabel(\\\"True neutrino energy [GeV]\\\")\\nax[1].set_ylabel(\\\"Efficiency\\\")\\nax[1].set_ylim(0, 1)\\nax[1].set_xlim(x_min, x_max)\\nax[1].legend(loc=\\\"lower right\\\")\\n\\nfig.tight_layout()\\nfig.savefig(output_dir + \\\"numu_efficiency.pdf\\\", bbox_inches=\\\"tight\\\")\";\n",
       "                var nbb_cells = Jupyter.notebook.get_cells();\n",
       "                for (var i = 0; i < nbb_cells.length; ++i) {\n",
       "                    if (nbb_cells[i].input_prompt_number == nbb_cell_id) {\n",
       "                        nbb_cells[i].set_text(nbb_formatted_code);\n",
       "                        break;\n",
       "                    }\n",
       "                }\n",
       "            }, 500);\n",
       "            "
      ],
      "text/plain": [
       "<IPython.core.display.Javascript object>"
      ]
     },
     "metadata": {},
     "output_type": "display_data"
    }
   ],
   "source": [
    "# eff per mode\n",
    "cats = [0, 1, 2, 10]\n",
    "field = \"nu_e\"\n",
    "x_min = 0.15\n",
    "x_max = 3\n",
    "n_bins = 10\n",
    "fig, ax = plt.subplots(ncols=2, figsize=(8, 3.5))\n",
    "\n",
    "\n",
    "cats = [0, 10, 1, 2]\n",
    "for cat in cats:\n",
    "    num = (\n",
    "        data[\"nu\"][\"daughters\"]\n",
    "        .query(\"numuccinc & category>29 & category<33\")\n",
    "        .query(\"interaction==@cat\")[field]\n",
    "    )\n",
    "    den = nu_df.query(\"category>29 & category<33\").query(\"interaction==@cat\")[field]\n",
    "\n",
    "    num_w = (\n",
    "        data[\"nu\"][\"daughters\"]\n",
    "        .query(\"numuccinc & category>29 & category<33\")\n",
    "        .query(\"interaction==@cat\")[\"weightSpline\"]\n",
    "    )\n",
    "    den_w = nu_df.query(\"category>29 & category<33\").query(\"interaction==@cat\")[\n",
    "        \"weightSpline\"\n",
    "    ]\n",
    "\n",
    "    eff, unc_low, unc_up, edges = plothelp.efficiency_post(\n",
    "        num, den, num_w=num_w, den_w=den_w, n_bins=n_bins, x_min=x_min, x_max=x_max\n",
    "    )\n",
    "    ax[0].fill_between(edges, eff - unc_low, eff + unc_up, alpha=0.3, step=\"post\")\n",
    "    ax[0].step(\n",
    "        edges,\n",
    "        eff,\n",
    "        where=\"post\",\n",
    "        label=\"{0}: {1:.0f}%\".format(\n",
    "            plot_dicts.int_labels[cat], sum(num_w) / sum(den_w) * 100\n",
    "        ),\n",
    "    )\n",
    "ax[0].set_title(r\"$\\nu_\\mu$ CC Filter, MicroBooNE In Progress\", loc=\"right\")\n",
    "ax[0].set_xlabel(\"True neutrino energy [GeV]\")\n",
    "ax[0].set_ylabel(\"Efficiency\")\n",
    "ax[0].set_ylim(0, 1)\n",
    "ax[0].set_xlim(x_min, x_max)\n",
    "ax[0].legend(loc=\"lower right\")\n",
    "\n",
    "\n",
    "cats = [30, 31, 32]\n",
    "for cat in cats:\n",
    "    num = (\n",
    "        data[\"nu\"][\"daughters\"]\n",
    "        .query(\"numuccinc & category>29 & category<33\")\n",
    "        .query(\"category==@cat\")[field]\n",
    "    )\n",
    "    den = nu_df.query(\"category>29 & category<33\").query(\"category==@cat\")[field]\n",
    "\n",
    "    num_w = (\n",
    "        data[\"nu\"][\"daughters\"]\n",
    "        .query(\"numuccinc & category>29 & category<33\")\n",
    "        .query(\"category==@cat\")[\"weightSpline\"]\n",
    "    )\n",
    "    den_w = nu_df.query(\"category>29 & category<33\").query(\"category==@cat\")[\n",
    "        \"weightSpline\"\n",
    "    ]\n",
    "    print(sum(den_w))\n",
    "    print(sum(num_w))\n",
    "    eff, unc_low, unc_up, edges = plothelp.efficiency_post(\n",
    "        num, den, num_w=num_w, den_w=den_w, n_bins=n_bins, x_min=x_min, x_max=x_max\n",
    "    )\n",
    "    ax[1].fill_between(edges, eff - unc_low, eff + unc_up, alpha=0.3, step=\"post\")\n",
    "    ax[1].step(\n",
    "        edges,\n",
    "        eff,\n",
    "        where=\"post\",\n",
    "        label=\"{0}: {1:.0f}%\".format(\n",
    "            plot_dicts.category_labels[cat], sum(num_w) / sum(den_w) * 100\n",
    "        ),\n",
    "    )\n",
    "ax[1].set_title(r\"$\\nu_\\mu$ CC Filter, MicroBooNE In Progress\", loc=\"right\")\n",
    "ax[1].set_xlabel(\"True neutrino energy [GeV]\")\n",
    "ax[1].set_ylabel(\"Efficiency\")\n",
    "ax[1].set_ylim(0, 1)\n",
    "ax[1].set_xlim(x_min, x_max)\n",
    "ax[1].legend(loc=\"lower right\")\n",
    "\n",
    "fig.tight_layout()\n",
    "fig.savefig(output_dir + \"numu_efficiency.pdf\", bbox_inches=\"tight\")"
   ]
  },
  {
   "cell_type": "code",
   "execution_count": 15,
   "metadata": {},
   "outputs": [
    {
     "ename": "NameError",
     "evalue": "name 'dict_modes' is not defined",
     "output_type": "error",
     "traceback": [
      "\u001b[0;31m---------------------------------------------------------------------------\u001b[0m",
      "\u001b[0;31mNameError\u001b[0m                                 Traceback (most recent call last)",
      "\u001b[0;32m<ipython-input-15-a284d26d0b1b>\u001b[0m in \u001b[0;36m<module>\u001b[0;34m\u001b[0m\n\u001b[1;32m      1\u001b[0m \u001b[0;31m# left\u001b[0m\u001b[0;34m\u001b[0m\u001b[0;34m\u001b[0m\u001b[0;34m\u001b[0m\u001b[0m\n\u001b[0;32m----> 2\u001b[0;31m \u001b[0;32mfor\u001b[0m \u001b[0mk\u001b[0m\u001b[0;34m,\u001b[0m \u001b[0mv\u001b[0m \u001b[0;32min\u001b[0m \u001b[0mdict_modes\u001b[0m\u001b[0;34m.\u001b[0m\u001b[0mitems\u001b[0m\u001b[0;34m(\u001b[0m\u001b[0;34m)\u001b[0m\u001b[0;34m:\u001b[0m\u001b[0;34m\u001b[0m\u001b[0;34m\u001b[0m\u001b[0m\n\u001b[0m\u001b[1;32m      3\u001b[0m     \u001b[0;32mif\u001b[0m \u001b[0mv\u001b[0m \u001b[0;34m==\u001b[0m \u001b[0;34m\"?\"\u001b[0m\u001b[0;34m:\u001b[0m\u001b[0;34m\u001b[0m\u001b[0;34m\u001b[0m\u001b[0m\n\u001b[1;32m      4\u001b[0m         \u001b[0;32mcontinue\u001b[0m\u001b[0;34m\u001b[0m\u001b[0;34m\u001b[0m\u001b[0m\n\u001b[1;32m      5\u001b[0m     \u001b[0mtype_sig\u001b[0m \u001b[0;34m=\u001b[0m \u001b[0;34m(\u001b[0m\u001b[0md\u001b[0m\u001b[0;34m[\u001b[0m\u001b[0;34m\"nu\"\u001b[0m\u001b[0;34m]\u001b[0m\u001b[0;34m[\u001b[0m\u001b[0;34m\"events\"\u001b[0m\u001b[0;34m]\u001b[0m\u001b[0;34m.\u001b[0m\u001b[0marray\u001b[0m\u001b[0;34m(\u001b[0m\u001b[0;34m\"mc_nu_interaction_type\"\u001b[0m\u001b[0;34m)\u001b[0m \u001b[0;34m==\u001b[0m \u001b[0mk\u001b[0m\u001b[0;34m)\u001b[0m \u001b[0;34m&\u001b[0m \u001b[0msig_mask_ccinc\u001b[0m\u001b[0;34m\u001b[0m\u001b[0;34m\u001b[0m\u001b[0m\n",
      "\u001b[0;31mNameError\u001b[0m: name 'dict_modes' is not defined"
     ]
    },
    {
     "data": {
      "application/javascript": [
       "\n",
       "            setTimeout(function() {\n",
       "                var nbb_cell_id = 15;\n",
       "                var nbb_formatted_code = \"# left\\nfor k, v in dict_modes.items():\\n    if v == \\\"?\\\":\\n        continue\\n    type_sig = (d[\\\"nu\\\"][\\\"events\\\"].array(\\\"mc_nu_interaction_type\\\") == k) & sig_mask_ccinc\\n    type_sel = (d[\\\"nu\\\"][\\\"events\\\"].array(\\\"mc_nu_interaction_type\\\") == k) & sig_mask_sel\\n\\n    denom = d[\\\"nu\\\"][\\\"events\\\"].array(\\\"mc_nu_energy\\\")[type_sig]\\n    nom = d[\\\"nu\\\"][\\\"events\\\"].array(\\\"mc_nu_energy\\\")[type_sel]\\n\\n    data = [denom, nom]\\n    edges, _, bins, _, _ = helper.histHelper(10, kin_min_mu, 3, data)\\n    fraq = bins[1] / bins[0]\\n    err = np.sqrt(fraq * (1 - fraq) / bins[0])\\n    fraq = np.append(fraq, fraq[-1])\\n    err = np.append(err, err[-1])\\n\\n    ax[0].fill_between(edges, fraq - err, fraq + err, alpha=0.3, step=\\\"post\\\")\\n    ax[0].step(\\n        edges,\\n        fraq,\\n        where=\\\"post\\\",\\n        label=\\\"{0:>4}: Efficiency {1:0.1f}%\\\".format(v, len(nom) / len(denom) * 100),\\n    )\\n\\nax[0].set_xlabel(\\\"True neutrino energy [GeV]\\\")\\nax[0].set_ylabel(\\\"Efficiency\\\")\\nax[0].set_ylim(0, 1)\\nax[0].set_xlim(kin_min_mu, 3)\\nax[0].legend(loc=\\\"upper left\\\")\\n\\n\\n# right\\nfor x_proton in range(4):\\n    denom = d[\\\"nu\\\"][\\\"events\\\"].array(\\\"mc_nu_energy\\\")[sig_masks_proton[x_proton]]\\n    nom = d[\\\"nu\\\"][\\\"events\\\"].array(\\\"mc_nu_energy\\\")[\\n        sig_masks_proton[x_proton] & d[\\\"nu\\\"][\\\"events\\\"].array(\\\"nu_mu_cc_selected\\\")\\n    ]\\n\\n    data = [denom, nom]\\n    edges, _, bins, _, _ = helper.histHelper(10, kin_min_mu, 3, data)\\n    fraq = bins[1] / bins[0]\\n    err = np.sqrt(fraq * (1 - fraq) / bins[0])\\n    fraq = np.append(fraq, fraq[-1])\\n    err = np.append(err, err[-1])\\n\\n    ax[1].fill_between(edges, fraq - err, fraq + err, alpha=0.3, step=\\\"post\\\")\\n    ax[1].step(\\n        edges,\\n        fraq,\\n        where=\\\"post\\\",\\n        label=\\\"{0:>5}: Efficiency {1:0.1f}%\\\".format(\\n            r\\\"$1\\\\mu$\\\" + str(x_proton) + r\\\"$p$\\\", len(nom) / len(denom) * 100\\n        ),\\n    )\\nax[1].set_xlabel(\\\"True neutrino energy [GeV]\\\")\\nax[1].set_ylabel(\\\"Efficiency\\\")\\nax[1].set_ylim(0, 1)\\nax[0].set_xlim(kin_min_mu, 3)\\nax[1].legend(loc=0)\\n\\nax[0].set_title(title_mc_str, loc=\\\"right\\\")\\nax[1].set_title(title_mc_str, loc=\\\"right\\\")\\n\\nfig.tight_layout()\\nfig.savefig(outdir + \\\"modes_eff.pdf\\\", bbox_inches=\\\"tight\\\")\";\n",
       "                var nbb_cells = Jupyter.notebook.get_cells();\n",
       "                for (var i = 0; i < nbb_cells.length; ++i) {\n",
       "                    if (nbb_cells[i].input_prompt_number == nbb_cell_id) {\n",
       "                        nbb_cells[i].set_text(nbb_formatted_code);\n",
       "                        break;\n",
       "                    }\n",
       "                }\n",
       "            }, 500);\n",
       "            "
      ],
      "text/plain": [
       "<IPython.core.display.Javascript object>"
      ]
     },
     "metadata": {},
     "output_type": "display_data"
    }
   ],
   "source": [
    "# left\n",
    "for k, v in dict_modes.items():\n",
    "    if v == \"?\":\n",
    "        continue\n",
    "    type_sig = (d[\"nu\"][\"events\"].array(\"mc_nu_interaction_type\") == k) & sig_mask_ccinc\n",
    "    type_sel = (d[\"nu\"][\"events\"].array(\"mc_nu_interaction_type\") == k) & sig_mask_sel\n",
    "\n",
    "    denom = d[\"nu\"][\"events\"].array(\"mc_nu_energy\")[type_sig]\n",
    "    nom = d[\"nu\"][\"events\"].array(\"mc_nu_energy\")[type_sel]\n",
    "\n",
    "    data = [denom, nom]\n",
    "    edges, _, bins, _, _ = helper.histHelper(10, kin_min_mu, 3, data)\n",
    "    fraq = bins[1] / bins[0]\n",
    "    err = np.sqrt(fraq * (1 - fraq) / bins[0])\n",
    "    fraq = np.append(fraq, fraq[-1])\n",
    "    err = np.append(err, err[-1])\n",
    "\n",
    "    ax[0].fill_between(edges, fraq - err, fraq + err, alpha=0.3, step=\"post\")\n",
    "    ax[0].step(\n",
    "        edges,\n",
    "        fraq,\n",
    "        where=\"post\",\n",
    "        label=\"{0:>4}: Efficiency {1:0.1f}%\".format(v, len(nom) / len(denom) * 100),\n",
    "    )\n",
    "\n",
    "ax[0].set_xlabel(\"True neutrino energy [GeV]\")\n",
    "ax[0].set_ylabel(\"Efficiency\")\n",
    "ax[0].set_ylim(0, 1)\n",
    "ax[0].set_xlim(kin_min_mu, 3)\n",
    "ax[0].legend(loc=\"upper left\")\n",
    "\n",
    "\n",
    "# right\n",
    "for x_proton in range(4):\n",
    "    denom = d[\"nu\"][\"events\"].array(\"mc_nu_energy\")[sig_masks_proton[x_proton]]\n",
    "    nom = d[\"nu\"][\"events\"].array(\"mc_nu_energy\")[\n",
    "        sig_masks_proton[x_proton] & d[\"nu\"][\"events\"].array(\"nu_mu_cc_selected\")\n",
    "    ]\n",
    "\n",
    "    data = [denom, nom]\n",
    "    edges, _, bins, _, _ = helper.histHelper(10, kin_min_mu, 3, data)\n",
    "    fraq = bins[1] / bins[0]\n",
    "    err = np.sqrt(fraq * (1 - fraq) / bins[0])\n",
    "    fraq = np.append(fraq, fraq[-1])\n",
    "    err = np.append(err, err[-1])\n",
    "\n",
    "    ax[1].fill_between(edges, fraq - err, fraq + err, alpha=0.3, step=\"post\")\n",
    "    ax[1].step(\n",
    "        edges,\n",
    "        fraq,\n",
    "        where=\"post\",\n",
    "        label=\"{0:>5}: Efficiency {1:0.1f}%\".format(\n",
    "            r\"$1\\mu$\" + str(x_proton) + r\"$p$\", len(nom) / len(denom) * 100\n",
    "        ),\n",
    "    )\n",
    "ax[1].set_xlabel(\"True neutrino energy [GeV]\")\n",
    "ax[1].set_ylabel(\"Efficiency\")\n",
    "ax[1].set_ylim(0, 1)\n",
    "ax[0].set_xlim(kin_min_mu, 3)\n",
    "ax[1].legend(loc=0)\n",
    "\n",
    "ax[0].set_title(title_mc_str, loc=\"right\")\n",
    "ax[1].set_title(title_mc_str, loc=\"right\")\n",
    "\n",
    "fig.tight_layout()\n",
    "fig.savefig(outdir + \"modes_eff.pdf\", bbox_inches=\"tight\")"
   ]
  },
  {
   "cell_type": "code",
   "execution_count": null,
   "metadata": {},
   "outputs": [],
   "source": [
    "fig, ax = plt.subplots(\n",
    "    ncols=1,\n",
    "    nrows=2,\n",
    "    figsize=(4 * plothelp.gr, 5),\n",
    "    gridspec_kw={\"height_ratios\": [3, 1]},\n",
    ")\n",
    "\n",
    "ratio, purity, ks_p = plothelp.plot_panel_data_mc(\n",
    "    data,\n",
    "    ax,\n",
    "    \"track_at_vtx\",\n",
    "    \"Track multiplicity\",\n",
    "    N_bins=6,\n",
    "    x_min=0.5,\n",
    "    x_max=6.5,\n",
    "    query=\"numuccinc\",\n",
    "    legend=True,\n",
    "    title_str=title_str.split(\"NE\")[-1],\n",
    "    kind=\"event_category\",\n",
    "    y_max_scaler=1.1,\n",
    ")\n",
    "ax[0].text(\n",
    "    ax[0].get_xlim()[1] * 0.9,\n",
    "    ax[0].get_ylim()[1] * 0.8,\n",
    "    r\"$\\nu_\\mu$\"\n",
    "    + \" CC purity: {0:<3.1f}%\\nKS p-value: {1:<5.2f}\".format(purity * 100, ks_p),\n",
    "    horizontalalignment=\"right\",\n",
    "    fontsize=12,\n",
    ")\n",
    "\n",
    "fig.tight_layout()\n",
    "fig.savefig(output_dir + \"data_mc/numu_vtxntrack.pdf\", bbox_inches=\"tight\")"
   ]
  },
  {
   "cell_type": "code",
   "execution_count": null,
   "metadata": {},
   "outputs": [],
   "source": [
    "fig, ax = plt.subplots(\n",
    "    ncols=1,\n",
    "    nrows=2,\n",
    "    figsize=(3 * plothelp.gr, 5),\n",
    "    gridspec_kw={\"height_ratios\": [3, 1]},\n",
    ")\n",
    "\n",
    "ratio, purity, ks_p = plothelp.plot_panel_data_mc(\n",
    "    data,\n",
    "    ax,\n",
    "    \"trk_mcs_muon_mom_v\",\n",
    "    \"Muon Momentum (MCS) [GeV/c]\",\n",
    "    N_bins=30,\n",
    "    x_min=0.146,\n",
    "    x_max=1.25,\n",
    "    query=\"numuccinc\",\n",
    "    legend=False,\n",
    "    title_str=title_str.split(\"NE\")[-1],\n",
    "    kind=\"event_category\",\n",
    "    y_max_scaler=1.1,\n",
    ")\n",
    "ax[0].text(\n",
    "    ax[0].get_xlim()[1] * 0.7,\n",
    "    ax[0].get_ylim()[1] * 0.8,\n",
    "    r\"$\\nu_\\mu$\"\n",
    "    + \" CC purity: {0:<3.1f}%\\nKS p-value: {1:<5.2f}\".format(purity * 100, ks_p),\n",
    "    horizontalalignment=\"right\",\n",
    "    fontsize=12,\n",
    ")\n",
    "\n",
    "fig.tight_layout()\n",
    "fig.savefig(output_dir + \"data_mc/numu_mcsmom.pdf\", bbox_inches=\"tight\")"
   ]
  },
  {
   "cell_type": "code",
   "execution_count": null,
   "metadata": {},
   "outputs": [],
   "source": [
    "fig, ax = plt.subplots(\n",
    "    ncols=1,\n",
    "    nrows=2,\n",
    "    figsize=(3 * plothelp.gr, 5),\n",
    "    gridspec_kw={\"height_ratios\": [3, 1]},\n",
    ")\n",
    "\n",
    "ratio, purity, ks_p = plothelp.plot_panel_data_mc(\n",
    "    data,\n",
    "    ax,\n",
    "    \"trk_phi_v\",\n",
    "    r\"Muon candidate $\\phi$\",\n",
    "    N_bins=30,\n",
    "    x_min=-np.pi,\n",
    "    x_max=np.pi,\n",
    "    query=\"numuccinc\",\n",
    "    legend=False,\n",
    "    title_str=title_str.split(\"NE\")[-1],\n",
    "    kind=\"event_category\",\n",
    "    y_max_scaler=1.25,\n",
    ")\n",
    "ax[0].text(\n",
    "    ax[0].get_xlim()[1] * 0.0,\n",
    "    ax[0].get_ylim()[1] * 0.8,\n",
    "    r\"$\\nu_\\mu$\"\n",
    "    + \" CC purity: {0:<3.1f}%\\nKS p-value: {1:<5.2f}\".format(purity * 100, ks_p),\n",
    "    horizontalalignment=\"right\",\n",
    "    fontsize=12,\n",
    ")\n",
    "\n",
    "x_ticks = [-np.pi, -np.pi / 2, 0, np.pi / 2, np.pi]\n",
    "x_labels = [r\"$-\\pi$\", r\"$-\\pi/2$\", r\"$0$\", r\"$\\pi/2$\", r\"$\\pi$\"]\n",
    "ax[1].set_xticks(x_ticks)\n",
    "ax[1].set_xticklabels(x_labels)\n",
    "ax[0].set_xticks(x_ticks)\n",
    "ax[0].set_xticklabels(x_labels)\n",
    "\n",
    "\n",
    "fig.tight_layout()\n",
    "fig.savefig(output_dir + \"data_mc/numu_phi.pdf\", bbox_inches=\"tight\")"
   ]
  },
  {
   "cell_type": "code",
   "execution_count": null,
   "metadata": {},
   "outputs": [],
   "source": [
    "fig, ax = plt.subplots(\n",
    "    ncols=1,\n",
    "    nrows=2,\n",
    "    figsize=(3 * plothelp.gr, 5),\n",
    "    gridspec_kw={\"height_ratios\": [3, 1]},\n",
    ")\n",
    "\n",
    "ratio, purity, ks_p = plothelp.plot_panel_data_mc(\n",
    "    data,\n",
    "    ax,\n",
    "    \"trk_theta_v\",\n",
    "    r\"Muon candidate $\\theta$\",\n",
    "    N_bins=30,\n",
    "    x_min=0,\n",
    "    x_max=np.pi,\n",
    "    query=\"numuccinc\",\n",
    "    legend=False,\n",
    "    title_str=title_str.split(\"NE\")[-1],\n",
    "    kind=\"event_category\",\n",
    "    y_max_scaler=1.25,\n",
    ")\n",
    "ax[0].text(\n",
    "    ax[0].get_xlim()[1] * 0.8,\n",
    "    ax[0].get_ylim()[1] * 0.8,\n",
    "    r\"$\\nu_\\mu$\"\n",
    "    + \" CC purity: {0:<3.1f}%\\nKS p-value: {1:<5.2f}\".format(purity * 100, ks_p),\n",
    "    horizontalalignment=\"right\",\n",
    "    fontsize=12,\n",
    ")\n",
    "\n",
    "x_ticks = [0, np.pi / 4, np.pi / 2, 3 * np.pi / 4, np.pi]\n",
    "x_labels = [r\"$0$\", r\"$\\pi/4$\", r\"$\\pi/2$\", r\"$3\\pi/4$\", r\"$\\pi$\"]\n",
    "ax[1].set_xticks(x_ticks)\n",
    "ax[1].set_xticklabels(x_labels)\n",
    "ax[0].set_xticks(x_ticks)\n",
    "ax[0].set_xticklabels(x_labels)\n",
    "\n",
    "\n",
    "fig.tight_layout()\n",
    "fig.savefig(output_dir + \"data_mc/numu_phi.pdf\", bbox_inches=\"tight\")"
   ]
  },
  {
   "cell_type": "markdown",
   "metadata": {},
   "source": [
    "# Done"
   ]
  }
 ],
 "metadata": {
  "kernelspec": {
   "display_name": "uproot env",
   "language": "python",
   "name": "uproot"
  },
  "language_info": {
   "codemirror_mode": {
    "name": "ipython",
    "version": 3
   },
   "file_extension": ".py",
   "mimetype": "text/x-python",
   "name": "python",
   "nbconvert_exporter": "python",
   "pygments_lexer": "ipython3",
   "version": "3.7.4"
  }
 },
 "nbformat": 4,
 "nbformat_minor": 2
}
