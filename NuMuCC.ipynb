{
 "cells": [
  {
   "cell_type": "code",
   "execution_count": 1,
   "metadata": {},
   "outputs": [
    {
     "data": {
      "application/javascript": [
       "\n",
       "            setTimeout(function() {\n",
       "                var nbb_cell_id = 1;\n",
       "                var nbb_formatted_code = \"%load_ext autoreload\\n%matplotlib inline\\n%load_ext nb_black\";\n",
       "                var nbb_cells = Jupyter.notebook.get_cells();\n",
       "                for (var i = 0; i < nbb_cells.length; ++i) {\n",
       "                    if (nbb_cells[i].input_prompt_number == nbb_cell_id) {\n",
       "                        nbb_cells[i].set_text(nbb_formatted_code);\n",
       "                        break;\n",
       "                    }\n",
       "                }\n",
       "            }, 500);\n",
       "            "
      ],
      "text/plain": [
       "<IPython.core.display.Javascript object>"
      ]
     },
     "metadata": {},
     "output_type": "display_data"
    }
   ],
   "source": [
    "%load_ext autoreload\n",
    "%matplotlib inline\n",
    "%load_ext nb_black"
   ]
  },
  {
   "cell_type": "code",
   "execution_count": 2,
   "metadata": {},
   "outputs": [
    {
     "data": {
      "application/javascript": [
       "\n",
       "            setTimeout(function() {\n",
       "                var nbb_cell_id = 2;\n",
       "                var nbb_formatted_code = \"import pickle\\nimport numpy as np\\nimport pandas as pd\\nimport matplotlib.pyplot as plt\\nimport scipy.stats as st\\n\\nfrom helpers import helpplots_numu as plothelp\\nfrom helpers import helpfunction as helper\\nfrom helpers import plot_dicts_numu as plot_dicts\\n\\npd.set_option(\\\"display.max_columns\\\", 500)\";\n",
       "                var nbb_cells = Jupyter.notebook.get_cells();\n",
       "                for (var i = 0; i < nbb_cells.length; ++i) {\n",
       "                    if (nbb_cells[i].input_prompt_number == nbb_cell_id) {\n",
       "                        nbb_cells[i].set_text(nbb_formatted_code);\n",
       "                        break;\n",
       "                    }\n",
       "                }\n",
       "            }, 500);\n",
       "            "
      ],
      "text/plain": [
       "<IPython.core.display.Javascript object>"
      ]
     },
     "metadata": {},
     "output_type": "display_data"
    }
   ],
   "source": [
    "import pickle\n",
    "import numpy as np\n",
    "import pandas as pd\n",
    "import matplotlib.pyplot as plt\n",
    "import scipy.stats as st\n",
    "\n",
    "from helpers import helpplots_numu as plothelp\n",
    "from helpers import helpfunction as helper\n",
    "from helpers import plot_dicts_numu as plot_dicts\n",
    "\n",
    "pd.set_option(\"display.max_columns\", 500)"
   ]
  },
  {
   "cell_type": "code",
   "execution_count": 3,
   "metadata": {},
   "outputs": [
    {
     "data": {
      "application/javascript": [
       "\n",
       "            setTimeout(function() {\n",
       "                var nbb_cell_id = 3;\n",
       "                var nbb_formatted_code = \"%autoreload\";\n",
       "                var nbb_cells = Jupyter.notebook.get_cells();\n",
       "                for (var i = 0; i < nbb_cells.length; ++i) {\n",
       "                    if (nbb_cells[i].input_prompt_number == nbb_cell_id) {\n",
       "                        nbb_cells[i].set_text(nbb_formatted_code);\n",
       "                        break;\n",
       "                    }\n",
       "                }\n",
       "            }, 500);\n",
       "            "
      ],
      "text/plain": [
       "<IPython.core.display.Javascript object>"
      ]
     },
     "metadata": {},
     "output_type": "display_data"
    }
   ],
   "source": [
    "%autoreload"
   ]
  },
  {
   "cell_type": "code",
   "execution_count": 4,
   "metadata": {},
   "outputs": [
    {
     "data": {
      "application/javascript": [
       "\n",
       "            setTimeout(function() {\n",
       "                var nbb_cell_id = 4;\n",
       "                var nbb_formatted_code = \"run = 3\\ninput_dir = \\\"./input/23Nov/\\\"\\noutput_dir = \\\"./output/run{}/\\\".format(run)\";\n",
       "                var nbb_cells = Jupyter.notebook.get_cells();\n",
       "                for (var i = 0; i < nbb_cells.length; ++i) {\n",
       "                    if (nbb_cells[i].input_prompt_number == nbb_cell_id) {\n",
       "                        nbb_cells[i].set_text(nbb_formatted_code);\n",
       "                        break;\n",
       "                    }\n",
       "                }\n",
       "            }, 500);\n",
       "            "
      ],
      "text/plain": [
       "<IPython.core.display.Javascript object>"
      ]
     },
     "metadata": {},
     "output_type": "display_data"
    }
   ],
   "source": [
    "run = 3\n",
    "input_dir = \"./input/23Nov/\"\n",
    "output_dir = \"./output/run{}/\".format(run)"
   ]
  },
  {
   "cell_type": "code",
   "execution_count": 5,
   "metadata": {},
   "outputs": [
    {
     "name": "stdout",
     "output_type": "stream",
     "text": [
      "CPU times: user 332 ms, sys: 580 ms, total: 911 ms\n",
      "Wall time: 911 ms\n"
     ]
    },
    {
     "data": {
      "application/javascript": [
       "\n",
       "            setTimeout(function() {\n",
       "                var nbb_cell_id = 5;\n",
       "                var nbb_formatted_code = \"%%time\\ndata = pickle.load(open(input_dir+\\\"run{}_slimmed.pckl\\\".format(run), 'rb'))\\nsamples = list(data.keys())\\ntitle_str = \\\"MicroBooNE Run{}: {:.1e} POT\\\".format(run, data[\\\"on\\\"][\\\"pot\\\"])\";\n",
       "                var nbb_cells = Jupyter.notebook.get_cells();\n",
       "                for (var i = 0; i < nbb_cells.length; ++i) {\n",
       "                    if (nbb_cells[i].input_prompt_number == nbb_cell_id) {\n",
       "                        nbb_cells[i].set_text(nbb_formatted_code);\n",
       "                        break;\n",
       "                    }\n",
       "                }\n",
       "            }, 500);\n",
       "            "
      ],
      "text/plain": [
       "<IPython.core.display.Javascript object>"
      ]
     },
     "metadata": {},
     "output_type": "display_data"
    }
   ],
   "source": [
    "%%time\n",
    "data = pickle.load(open(input_dir+\"run{}_slimmed.pckl\".format(run), 'rb'))\n",
    "samples = list(data.keys())\n",
    "title_str = \"MicroBooNE Run{}: {:.1e} POT\".format(run, data[\"on\"][\"pot\"])"
   ]
  },
  {
   "cell_type": "code",
   "execution_count": 6,
   "metadata": {},
   "outputs": [
    {
     "data": {
      "application/javascript": [
       "\n",
       "            setTimeout(function() {\n",
       "                var nbb_cell_id = 6;\n",
       "                var nbb_formatted_code = \"q_muon_select = \\\"trk_llr_pid_score_v>0.0 & trk_score_v>0.8 & trk_len_v>20 & pfp_generation_v==2 & trk_distance_v<4\\\"\\nq_event_select = \\\"reco_fid_vol & muon_candidate & ~(crtveto & crthitpe>100) & _closestNuCosmicDist>20 & CosmicIP>20 & slpdg==14 & topological_score>0.06\\\"\";\n",
       "                var nbb_cells = Jupyter.notebook.get_cells();\n",
       "                for (var i = 0; i < nbb_cells.length; ++i) {\n",
       "                    if (nbb_cells[i].input_prompt_number == nbb_cell_id) {\n",
       "                        nbb_cells[i].set_text(nbb_formatted_code);\n",
       "                        break;\n",
       "                    }\n",
       "                }\n",
       "            }, 500);\n",
       "            "
      ],
      "text/plain": [
       "<IPython.core.display.Javascript object>"
      ]
     },
     "metadata": {},
     "output_type": "display_data"
    }
   ],
   "source": [
    "q_muon_select = \"trk_llr_pid_score_v>0.0 & trk_score_v>0.8 & trk_len_v>20 & pfp_generation_v==2 & trk_distance_v<4\"\n",
    "q_event_select = \"reco_fid_vol & muon_candidate & ~(crtveto & crthitpe>100) & _closestNuCosmicDist>20 & CosmicIP>20 & slpdg==14 & topological_score>0.06\""
   ]
  },
  {
   "cell_type": "code",
   "execution_count": 7,
   "metadata": {},
   "outputs": [
    {
     "data": {
      "application/javascript": [
       "\n",
       "            setTimeout(function() {\n",
       "                var nbb_cell_id = 7;\n",
       "                var nbb_formatted_code = \"for k, v in data.items():\\n    if \\\"_closestNuCosmicDist\\\" not in v[\\\"daughters\\\"]:\\n        v[\\\"daughters\\\"][\\\"_closestNuCosmicDist\\\"] = 999\\n\\n    # Add fiducial reco sce vtx\\n    v[\\\"daughters\\\"][\\\"reco_fid_vol\\\"] = np.repeat(\\n        helper.is_fid(\\n            *v[\\\"daughters\\\"][\\n                [\\\"reco_nu_vtx_sce_x\\\", \\\"reco_nu_vtx_sce_y\\\", \\\"reco_nu_vtx_sce_z\\\"]\\n            ]\\n            .xs(0, level=\\\"daughter\\\")\\n            .values.T\\n        ),\\n        v[\\\"daughters\\\"][\\\"n_pfps\\\"].xs(0, level=\\\"daughter\\\"),\\n    )\\n\\n    muon_candidate = v[\\\"daughters\\\"].eval(q_muon_select)\\n    muon_cand_maxll = (\\n        v[\\\"daughters\\\"][muon_candidate][\\\"trk_llr_pid_score_v\\\"]\\n        .groupby(\\\"event\\\")\\n        .transform(max)\\n        == v[\\\"daughters\\\"][muon_candidate][\\\"trk_llr_pid_score_v\\\"]\\n    )\\n    v[\\\"daughters\\\"][\\\"muon_candidate\\\"] = False\\n    v[\\\"daughters\\\"].loc[\\n        muon_cand_maxll[muon_cand_maxll == True].index, \\\"muon_candidate\\\"\\n    ] = True\\n\\n    end_mask = helper.is_contain(\\n        v[\\\"daughters\\\"][\\\"trk_sce_end_x_v\\\"],\\n        v[\\\"daughters\\\"][\\\"trk_sce_end_y_v\\\"],\\n        v[\\\"daughters\\\"][\\\"trk_sce_end_z_v\\\"],\\n    )\\n    # This code defines a containment of all other objects except of the muon.\\n    # v[\\\"daughters\\\"][\\\"non_muon_end_contained\\\"] = end_mask\\n    # v[\\\"daughters\\\"].loc[\\n    #    muon_cand_maxll[muon_cand_maxll == True].index, \\\"non_muon_end_contained\\\"\\n    # ] = True\\n    # v[\\\"daughters\\\"][\\\"non_muon_end_contained\\\"] = (\\n    #    v[\\\"daughters\\\"][\\\"non_muon_end_contained\\\"].groupby(\\\"event\\\").transform(min)\\n    # )\\n\\n    # At some point you would like to broadcast this\\n    v[\\\"daughters\\\"][\\\"numuccinc\\\"] = v[\\\"daughters\\\"].eval(q_event_select)\\n    v[\\\"daughters\\\"][\\\"track_at_vtx\\\"] = v[\\\"daughters\\\"].eval(\\n        \\\"trk_distance_v<3 & trk_distance_v>=0 & trk_score_v>0.3\\\"\\n    )\\n    v[\\\"daughters\\\"][\\\"track_at_vtx\\\"] = (\\n        v[\\\"daughters\\\"][\\\"track_at_vtx\\\"].groupby(\\\"event\\\").transform(sum)\\n    )\";\n",
       "                var nbb_cells = Jupyter.notebook.get_cells();\n",
       "                for (var i = 0; i < nbb_cells.length; ++i) {\n",
       "                    if (nbb_cells[i].input_prompt_number == nbb_cell_id) {\n",
       "                        nbb_cells[i].set_text(nbb_formatted_code);\n",
       "                        break;\n",
       "                    }\n",
       "                }\n",
       "            }, 500);\n",
       "            "
      ],
      "text/plain": [
       "<IPython.core.display.Javascript object>"
      ]
     },
     "metadata": {},
     "output_type": "display_data"
    }
   ],
   "source": [
    "for k, v in data.items():\n",
    "    if \"_closestNuCosmicDist\" not in v[\"daughters\"]:\n",
    "        v[\"daughters\"][\"_closestNuCosmicDist\"] = 999\n",
    "\n",
    "    # Add fiducial reco sce vtx\n",
    "    v[\"daughters\"][\"reco_fid_vol\"] = np.repeat(\n",
    "        helper.is_fid(\n",
    "            *v[\"daughters\"][\n",
    "                [\"reco_nu_vtx_sce_x\", \"reco_nu_vtx_sce_y\", \"reco_nu_vtx_sce_z\"]\n",
    "            ]\n",
    "            .xs(0, level=\"daughter\")\n",
    "            .values.T\n",
    "        ),\n",
    "        v[\"daughters\"][\"n_pfps\"].xs(0, level=\"daughter\"),\n",
    "    )\n",
    "\n",
    "    muon_candidate = v[\"daughters\"].eval(q_muon_select)\n",
    "    muon_cand_maxll = (\n",
    "        v[\"daughters\"][muon_candidate][\"trk_llr_pid_score_v\"]\n",
    "        .groupby(\"event\")\n",
    "        .transform(max)\n",
    "        == v[\"daughters\"][muon_candidate][\"trk_llr_pid_score_v\"]\n",
    "    )\n",
    "    v[\"daughters\"][\"muon_candidate\"] = False\n",
    "    v[\"daughters\"].loc[\n",
    "        muon_cand_maxll[muon_cand_maxll == True].index, \"muon_candidate\"\n",
    "    ] = True\n",
    "\n",
    "    end_mask = helper.is_contain(\n",
    "        v[\"daughters\"][\"trk_sce_end_x_v\"],\n",
    "        v[\"daughters\"][\"trk_sce_end_y_v\"],\n",
    "        v[\"daughters\"][\"trk_sce_end_z_v\"],\n",
    "    )\n",
    "    # This code defines a containment of all other objects except of the muon.\n",
    "    # v[\"daughters\"][\"non_muon_end_contained\"] = end_mask\n",
    "    # v[\"daughters\"].loc[\n",
    "    #    muon_cand_maxll[muon_cand_maxll == True].index, \"non_muon_end_contained\"\n",
    "    # ] = True\n",
    "    # v[\"daughters\"][\"non_muon_end_contained\"] = (\n",
    "    #    v[\"daughters\"][\"non_muon_end_contained\"].groupby(\"event\").transform(min)\n",
    "    # )\n",
    "\n",
    "    v[\"daughters\"][\"numuccinc\"] = v[\"daughters\"].eval(q_event_select)\n",
    "    v[\"daughters\"][\"track_at_vtx\"] = v[\"daughters\"].eval(\n",
    "        \"trk_distance_v<3 & trk_distance_v>=0 & trk_score_v>0.3\"\n",
    "    )\n",
    "    v[\"daughters\"][\"track_at_vtx\"] = (\n",
    "        v[\"daughters\"][\"track_at_vtx\"].groupby(\"event\").transform(sum)\n",
    "    )"
   ]
  },
  {
   "cell_type": "code",
   "execution_count": 8,
   "metadata": {},
   "outputs": [
    {
     "data": {
      "application/javascript": [
       "\n",
       "            setTimeout(function() {\n",
       "                var nbb_cell_id = 8;\n",
       "                var nbb_formatted_code = \"nu_df = pd.DataFrame(data[\\\"nu\\\"][\\\"mc\\\"])\";\n",
       "                var nbb_cells = Jupyter.notebook.get_cells();\n",
       "                for (var i = 0; i < nbb_cells.length; ++i) {\n",
       "                    if (nbb_cells[i].input_prompt_number == nbb_cell_id) {\n",
       "                        nbb_cells[i].set_text(nbb_formatted_code);\n",
       "                        break;\n",
       "                    }\n",
       "                }\n",
       "            }, 500);\n",
       "            "
      ],
      "text/plain": [
       "<IPython.core.display.Javascript object>"
      ]
     },
     "metadata": {},
     "output_type": "display_data"
    }
   ],
   "source": [
    "nu_df = pd.DataFrame(data[\"nu\"][\"mc\"])"
   ]
  },
  {
   "cell_type": "code",
   "execution_count": 9,
   "metadata": {},
   "outputs": [
    {
     "data": {
      "application/javascript": [
       "\n",
       "            setTimeout(function() {\n",
       "                var nbb_cell_id = 9;\n",
       "                var nbb_formatted_code = \"nu_df[\\\"true_vtx_fid\\\"] = helper.is_fid(\\n    data[\\\"nu\\\"][\\\"mc\\\"][\\\"true_nu_vtx_x\\\"],\\n    data[\\\"nu\\\"][\\\"mc\\\"][\\\"true_nu_vtx_y\\\"],\\n    data[\\\"nu\\\"][\\\"mc\\\"][\\\"true_nu_vtx_z\\\"],\\n)\";\n",
       "                var nbb_cells = Jupyter.notebook.get_cells();\n",
       "                for (var i = 0; i < nbb_cells.length; ++i) {\n",
       "                    if (nbb_cells[i].input_prompt_number == nbb_cell_id) {\n",
       "                        nbb_cells[i].set_text(nbb_formatted_code);\n",
       "                        break;\n",
       "                    }\n",
       "                }\n",
       "            }, 500);\n",
       "            "
      ],
      "text/plain": [
       "<IPython.core.display.Javascript object>"
      ]
     },
     "metadata": {},
     "output_type": "display_data"
    }
   ],
   "source": [
    "nu_df[\"true_vtx_fid\"] = helper.is_fid(\n",
    "    data[\"nu\"][\"mc\"][\"true_nu_vtx_x\"],\n",
    "    data[\"nu\"][\"mc\"][\"true_nu_vtx_y\"],\n",
    "    data[\"nu\"][\"mc\"][\"true_nu_vtx_z\"],\n",
    ")"
   ]
  },
  {
   "cell_type": "code",
   "execution_count": 10,
   "metadata": {},
   "outputs": [
    {
     "data": {
      "application/javascript": [
       "\n",
       "            setTimeout(function() {\n",
       "                var nbb_cell_id = 10;\n",
       "                var nbb_formatted_code = \"q_30 = \\\"abs(nu_pdg)==14 & nmuon==1 & nproton==0 & (npi0+npion)==0 & true_vtx_fid\\\"\\nq_31 = \\\"abs(nu_pdg)==14 & nmuon==1 & nproton>0 & (npi0+npion)==0 & true_vtx_fid\\\"\\nq_32 = \\\"abs(nu_pdg)==14 & nmuon==1 & (npi0+npion)>0 & true_vtx_fid\\\"\\nq_33 = \\\"abs(nu_pdg)==14 & nmuon==0 & true_vtx_fid\\\"\\nq_10 = \\\"abs(nu_pdg)==12 & true_vtx_fid\\\"\\nq_5 = \\\"true_vtx_fid==0\\\"\\nnew_cat = (\\n    nu_df.eval(q_30) * 30\\n    + nu_df.eval(q_31) * 31\\n    + nu_df.eval(q_32) * 32\\n    + nu_df.eval(q_33) * 33\\n    + nu_df.eval(q_10) * 10\\n    + nu_df.eval(q_5) * 5\\n)\\nnu_df[\\\"category\\\"] = new_cat\";\n",
       "                var nbb_cells = Jupyter.notebook.get_cells();\n",
       "                for (var i = 0; i < nbb_cells.length; ++i) {\n",
       "                    if (nbb_cells[i].input_prompt_number == nbb_cell_id) {\n",
       "                        nbb_cells[i].set_text(nbb_formatted_code);\n",
       "                        break;\n",
       "                    }\n",
       "                }\n",
       "            }, 500);\n",
       "            "
      ],
      "text/plain": [
       "<IPython.core.display.Javascript object>"
      ]
     },
     "metadata": {},
     "output_type": "display_data"
    }
   ],
   "source": [
    "q_30 = \"abs(nu_pdg)==14 & nmuon==1 & nproton==0 & (npi0+npion)==0 & true_vtx_fid\"\n",
    "q_31 = \"abs(nu_pdg)==14 & nmuon==1 & nproton>0 & (npi0+npion)==0 & true_vtx_fid\"\n",
    "q_32 = \"abs(nu_pdg)==14 & nmuon==1 & (npi0+npion)>0 & true_vtx_fid\"\n",
    "q_33 = \"abs(nu_pdg)==14 & nmuon==0 & true_vtx_fid\"\n",
    "q_10 = \"abs(nu_pdg)==12 & true_vtx_fid\"\n",
    "q_5 = \"true_vtx_fid==0\"\n",
    "new_cat = (\n",
    "    nu_df.eval(q_30) * 30\n",
    "    + nu_df.eval(q_31) * 31\n",
    "    + nu_df.eval(q_32) * 32\n",
    "    + nu_df.eval(q_33) * 33\n",
    "    + nu_df.eval(q_10) * 10\n",
    "    + nu_df.eval(q_5) * 5\n",
    ")\n",
    "nu_df[\"category\"] = new_cat"
   ]
  },
  {
   "cell_type": "code",
   "execution_count": 11,
   "metadata": {},
   "outputs": [
    {
     "data": {
      "application/javascript": [
       "\n",
       "            setTimeout(function() {\n",
       "                var nbb_cell_id = 11;\n",
       "                var nbb_formatted_code = \"q_30 = \\\"category!=5 & abs(nu_pdg)==14 & nmuon==1 & nproton==0 & (npi0+npion)==0\\\"\\nq_31 = \\\"category!=5 & abs(nu_pdg)==14 & nmuon==1 & nproton>0 & (npi0+npion)==0\\\"\\nq_32 = \\\"category!=5 & abs(nu_pdg)==14 & nmuon==1 & (npi0+npion)>0\\\"\\nq_33 = \\\"category!=5 & abs(nu_pdg)==14 & nmuon==0\\\"\\nq_10 = \\\"category!=5 & abs(nu_pdg)==12\\\"\\nq_5 = \\\"category==5\\\"\\nfor k, v in data.items():\\n    if k not in helper.data_samples:\\n        new_cat = (\\n            v[\\\"daughters\\\"].eval(q_30) * 30\\n            + v[\\\"daughters\\\"].eval(q_31) * 31\\n            + v[\\\"daughters\\\"].eval(q_32) * 32\\n            + v[\\\"daughters\\\"].eval(q_33) * 33\\n            + v[\\\"daughters\\\"].eval(q_10) * 10\\n            + v[\\\"daughters\\\"].eval(q_5) * 5\\n        )\\n        v[\\\"daughters\\\"][\\\"category\\\"] = new_cat\\n        cosmic = (v[\\\"daughters\\\"][\\\"nu_purity_from_pfp\\\"] < 0.5) & (\\n            v[\\\"daughters\\\"][\\\"category\\\"] != 5\\n        )\\n        v[\\\"daughters\\\"].loc[cosmic, \\\"category\\\"] = 4\";\n",
       "                var nbb_cells = Jupyter.notebook.get_cells();\n",
       "                for (var i = 0; i < nbb_cells.length; ++i) {\n",
       "                    if (nbb_cells[i].input_prompt_number == nbb_cell_id) {\n",
       "                        nbb_cells[i].set_text(nbb_formatted_code);\n",
       "                        break;\n",
       "                    }\n",
       "                }\n",
       "            }, 500);\n",
       "            "
      ],
      "text/plain": [
       "<IPython.core.display.Javascript object>"
      ]
     },
     "metadata": {},
     "output_type": "display_data"
    }
   ],
   "source": [
    "q_30 = \"category!=5 & abs(nu_pdg)==14 & nmuon==1 & nproton==0 & (npi0+npion)==0\"\n",
    "q_31 = \"category!=5 & abs(nu_pdg)==14 & nmuon==1 & nproton>0 & (npi0+npion)==0\"\n",
    "q_32 = \"category!=5 & abs(nu_pdg)==14 & nmuon==1 & (npi0+npion)>0\"\n",
    "q_33 = \"category!=5 & abs(nu_pdg)==14 & nmuon==0\"\n",
    "q_10 = \"category!=5 & abs(nu_pdg)==12\"\n",
    "q_5 = \"category==5\"\n",
    "for k, v in data.items():\n",
    "    if k not in helper.data_samples:\n",
    "        new_cat = (\n",
    "            v[\"daughters\"].eval(q_30) * 30\n",
    "            + v[\"daughters\"].eval(q_31) * 31\n",
    "            + v[\"daughters\"].eval(q_32) * 32\n",
    "            + v[\"daughters\"].eval(q_33) * 33\n",
    "            + v[\"daughters\"].eval(q_10) * 10\n",
    "            + v[\"daughters\"].eval(q_5) * 5\n",
    "        )\n",
    "        v[\"daughters\"][\"category\"] = new_cat\n",
    "        cosmic = (v[\"daughters\"][\"nu_purity_from_pfp\"] < 0.5) & (\n",
    "            v[\"daughters\"][\"category\"] != 5\n",
    "        )\n",
    "        v[\"daughters\"].loc[cosmic, \"category\"] = 4"
   ]
  },
  {
   "cell_type": "code",
   "execution_count": 12,
   "metadata": {},
   "outputs": [
    {
     "name": "stdout",
     "output_type": "stream",
     "text": [
      "31    60778\n",
      "32    28961\n",
      "5     16005\n",
      "30    13196\n",
      "33     4450\n",
      "4      3916\n",
      "10      123\n",
      "Name: category, dtype: int64\n",
      "5     543442\n",
      "31    134797\n",
      "33     91602\n",
      "32     68892\n",
      "30     29094\n",
      "10      2195\n",
      "0          1\n",
      "Name: category, dtype: int64\n",
      "1121\n"
     ]
    },
    {
     "data": {
      "application/javascript": [
       "\n",
       "            setTimeout(function() {\n",
       "                var nbb_cell_id = 12;\n",
       "                var nbb_formatted_code = \"print(data[\\\"nu\\\"][\\\"daughters\\\"].query(\\\"numuccinc\\\")[\\\"category\\\"].value_counts())\\nprint(nu_df[\\\"category\\\"].value_counts())\\nprint(sum(data[\\\"on\\\"][\\\"daughters\\\"].eval(\\\"numuccinc\\\")))\";\n",
       "                var nbb_cells = Jupyter.notebook.get_cells();\n",
       "                for (var i = 0; i < nbb_cells.length; ++i) {\n",
       "                    if (nbb_cells[i].input_prompt_number == nbb_cell_id) {\n",
       "                        nbb_cells[i].set_text(nbb_formatted_code);\n",
       "                        break;\n",
       "                    }\n",
       "                }\n",
       "            }, 500);\n",
       "            "
      ],
      "text/plain": [
       "<IPython.core.display.Javascript object>"
      ]
     },
     "metadata": {},
     "output_type": "display_data"
    }
   ],
   "source": [
    "print(data[\"nu\"][\"daughters\"].query(\"numuccinc\")[\"category\"].value_counts())\n",
    "print(nu_df[\"category\"].value_counts())\n",
    "print(sum(data[\"on\"][\"daughters\"].eval(\"numuccinc\")))"
   ]
  },
  {
   "cell_type": "code",
   "execution_count": 13,
   "metadata": {},
   "outputs": [
    {
     "data": {
      "text/plain": [
       "0.44219294364279177"
      ]
     },
     "execution_count": 13,
     "metadata": {},
     "output_type": "execute_result"
    },
    {
     "data": {
      "application/javascript": [
       "\n",
       "            setTimeout(function() {\n",
       "                var nbb_cell_id = 13;\n",
       "                var nbb_formatted_code = \"sum(data[\\\"nu\\\"][\\\"daughters\\\"].eval(\\\"numuccinc & category>29 & category<33\\\")) / sum(\\n    nu_df.eval(\\\"category>29 & category<33\\\")\\n)\";\n",
       "                var nbb_cells = Jupyter.notebook.get_cells();\n",
       "                for (var i = 0; i < nbb_cells.length; ++i) {\n",
       "                    if (nbb_cells[i].input_prompt_number == nbb_cell_id) {\n",
       "                        nbb_cells[i].set_text(nbb_formatted_code);\n",
       "                        break;\n",
       "                    }\n",
       "                }\n",
       "            }, 500);\n",
       "            "
      ],
      "text/plain": [
       "<IPython.core.display.Javascript object>"
      ]
     },
     "metadata": {},
     "output_type": "display_data"
    }
   ],
   "source": [
    "sum(data[\"nu\"][\"daughters\"].eval(\"numuccinc & category>29 & category<33\")) / sum(\n",
    "    nu_df.eval(\"category>29 & category<33\")\n",
    ")"
   ]
  },
  {
   "cell_type": "code",
   "execution_count": 14,
   "metadata": {},
   "outputs": [
    {
     "name": "stdout",
     "output_type": "stream",
     "text": [
      "30565.080499470234\n",
      "13696.94313275814\n",
      "137208.43154382706\n",
      "61718.4495434165\n",
      "68850.19921165705\n",
      "28947.58726412058\n"
     ]
    },
    {
     "data": {
      "image/png": "[encoded data removed]",
      "text/plain": [
       "<Figure size 576x252 with 2 Axes>"
      ]
     },
     "metadata": {
      "needs_background": "light"
     },
     "output_type": "display_data"
    },
    {
     "data": {
      "application/javascript": [
       "\n",
       "            setTimeout(function() {\n",
       "                var nbb_cell_id = 14;\n",
       "                var nbb_formatted_code = \"# eff per mode\\ncats = [0, 1, 2, 10]\\nfield = \\\"nu_e\\\"\\nx_min = 0.15\\nx_max = 3\\nn_bins = 10\\nfig, ax = plt.subplots(ncols=2, figsize=(8, 3.5))\\n\\n\\ncats = [0, 10, 1, 2]\\nfor cat in cats:\\n    num = (\\n        data[\\\"nu\\\"][\\\"daughters\\\"]\\n        .query(\\\"numuccinc & category>29 & category<33\\\")\\n        .query(\\\"interaction==@cat\\\")[field]\\n    )\\n    den = nu_df.query(\\\"category>29 & category<33\\\").query(\\\"interaction==@cat\\\")[field]\\n\\n    num_w = (\\n        data[\\\"nu\\\"][\\\"daughters\\\"]\\n        .query(\\\"numuccinc & category>29 & category<33\\\")\\n        .query(\\\"interaction==@cat\\\")[\\\"weightSpline\\\"]\\n    )\\n    den_w = nu_df.query(\\\"category>29 & category<33\\\").query(\\\"interaction==@cat\\\")[\\n        \\\"weightSpline\\\"\\n    ]\\n\\n    eff, unc_low, unc_up, edges = plothelp.efficiency_post(\\n        num, den, num_w=num_w, den_w=den_w, n_bins=n_bins, x_min=x_min, x_max=x_max\\n    )\\n    ax[0].fill_between(edges, eff - unc_low, eff + unc_up, alpha=0.3, step=\\\"post\\\")\\n    ax[0].step(\\n        edges,\\n        eff,\\n        where=\\\"post\\\",\\n        label=\\\"{0}: {1:.0f}%\\\".format(\\n            plot_dicts.int_labels[cat], sum(num_w) / sum(den_w) * 100\\n        ),\\n    )\\nax[0].set_title(r\\\"$\\\\nu_\\\\mu$ CC Filter, MicroBooNE In Progress\\\", loc=\\\"right\\\")\\nax[0].set_xlabel(\\\"True neutrino energy [GeV]\\\")\\nax[0].set_ylabel(\\\"Efficiency\\\")\\nax[0].set_ylim(0, 1)\\nax[0].set_xlim(x_min, x_max)\\nax[0].legend(loc=\\\"upper left\\\")\\n\\n\\ncats = [30, 31, 32]\\nfor cat in cats:\\n    num = (\\n        data[\\\"nu\\\"][\\\"daughters\\\"]\\n        .query(\\\"numuccinc & category>29 & category<33\\\")\\n        .query(\\\"category==@cat\\\")[field]\\n    )\\n    den = nu_df.query(\\\"category>29 & category<33\\\").query(\\\"category==@cat\\\")[field]\\n\\n    num_w = (\\n        data[\\\"nu\\\"][\\\"daughters\\\"]\\n        .query(\\\"numuccinc & category>29 & category<33\\\")\\n        .query(\\\"category==@cat\\\")[\\\"weightSpline\\\"]\\n    )\\n    den_w = nu_df.query(\\\"category>29 & category<33\\\").query(\\\"category==@cat\\\")[\\n        \\\"weightSpline\\\"\\n    ]\\n    print(sum(den_w))\\n    print(sum(num_w))\\n    eff, unc_low, unc_up, edges = plothelp.efficiency_post(\\n        num, den, num_w=num_w, den_w=den_w, n_bins=n_bins, x_min=x_min, x_max=x_max\\n    )\\n    ax[1].fill_between(edges, eff - unc_low, eff + unc_up, alpha=0.3, step=\\\"post\\\")\\n    ax[1].step(\\n        edges,\\n        eff,\\n        where=\\\"post\\\",\\n        label=\\\"{0}: {1:.0f}%\\\".format(\\n            plot_dicts.category_labels[cat], sum(num_w) / sum(den_w) * 100\\n        ),\\n    )\\nax[1].set_title(r\\\"$\\\\nu_\\\\mu$ CC Filter, MicroBooNE In Progress\\\", loc=\\\"right\\\")\\nax[1].set_xlabel(\\\"True neutrino energy [GeV]\\\")\\nax[1].set_ylabel(\\\"Efficiency\\\")\\nax[1].set_ylim(0, 1)\\nax[1].set_xlim(x_min, x_max)\\nax[1].legend(loc=\\\"upper left\\\")\\n\\nfig.tight_layout()\\nfig.savefig(output_dir + \\\"numu_efficiency.pdf\\\", bbox_inches=\\\"tight\\\")\";\n",
       "                var nbb_cells = Jupyter.notebook.get_cells();\n",
       "                for (var i = 0; i < nbb_cells.length; ++i) {\n",
       "                    if (nbb_cells[i].input_prompt_number == nbb_cell_id) {\n",
       "                        nbb_cells[i].set_text(nbb_formatted_code);\n",
       "                        break;\n",
       "                    }\n",
       "                }\n",
       "            }, 500);\n",
       "            "
      ],
      "text/plain": [
       "<IPython.core.display.Javascript object>"
      ]
     },
     "metadata": {},
     "output_type": "display_data"
    }
   ],
   "source": [
    "# eff per mode\n",
    "cats = [0, 1, 2, 10]\n",
    "field = \"nu_e\"\n",
    "x_min = 0.15\n",
    "x_max = 3\n",
    "n_bins = 10\n",
    "fig, ax = plt.subplots(ncols=2, figsize=(8, 3.5))\n",
    "\n",
    "\n",
    "cats = [0, 10, 1, 2]\n",
    "for cat in cats:\n",
    "    num = (\n",
    "        data[\"nu\"][\"daughters\"]\n",
    "        .query(\"numuccinc & category>29 & category<33\")\n",
    "        .query(\"interaction==@cat\")[field]\n",
    "    )\n",
    "    den = nu_df.query(\"category>29 & category<33\").query(\"interaction==@cat\")[field]\n",
    "\n",
    "    num_w = (\n",
    "        data[\"nu\"][\"daughters\"]\n",
    "        .query(\"numuccinc & category>29 & category<33\")\n",
    "        .query(\"interaction==@cat\")[\"weightSpline\"]\n",
    "    )\n",
    "    den_w = nu_df.query(\"category>29 & category<33\").query(\"interaction==@cat\")[\n",
    "        \"weightSpline\"\n",
    "    ]\n",
    "\n",
    "    eff, unc_low, unc_up, edges = plothelp.efficiency_post(\n",
    "        num, den, num_w=num_w, den_w=den_w, n_bins=n_bins, x_min=x_min, x_max=x_max\n",
    "    )\n",
    "    ax[0].fill_between(edges, eff - unc_low, eff + unc_up, alpha=0.3, step=\"post\")\n",
    "    ax[0].step(\n",
    "        edges,\n",
    "        eff,\n",
    "        where=\"post\",\n",
    "        label=\"{0}: {1:.0f}%\".format(\n",
    "            plot_dicts.int_labels[cat], sum(num_w) / sum(den_w) * 100\n",
    "        ),\n",
    "    )\n",
    "ax[0].set_title(r\"$\\nu_\\mu$ CC Filter, MicroBooNE In Progress\", loc=\"right\")\n",
    "ax[0].set_xlabel(\"True neutrino energy [GeV]\")\n",
    "ax[0].set_ylabel(\"Efficiency\")\n",
    "ax[0].set_ylim(0, 1)\n",
    "ax[0].set_xlim(x_min, x_max)\n",
    "ax[0].legend(loc=\"upper left\")\n",
    "\n",
    "\n",
    "cats = [30, 31, 32]\n",
    "for cat in cats:\n",
    "    num = (\n",
    "        data[\"nu\"][\"daughters\"]\n",
    "        .query(\"numuccinc & category>29 & category<33\")\n",
    "        .query(\"category==@cat\")[field]\n",
    "    )\n",
    "    den = nu_df.query(\"category>29 & category<33\").query(\"category==@cat\")[field]\n",
    "\n",
    "    num_w = (\n",
    "        data[\"nu\"][\"daughters\"]\n",
    "        .query(\"numuccinc & category>29 & category<33\")\n",
    "        .query(\"category==@cat\")[\"weightSpline\"]\n",
    "    )\n",
    "    den_w = nu_df.query(\"category>29 & category<33\").query(\"category==@cat\")[\n",
    "        \"weightSpline\"\n",
    "    ]\n",
    "    print(sum(den_w))\n",
    "    print(sum(num_w))\n",
    "    eff, unc_low, unc_up, edges = plothelp.efficiency_post(\n",
    "        num, den, num_w=num_w, den_w=den_w, n_bins=n_bins, x_min=x_min, x_max=x_max\n",
    "    )\n",
    "    ax[1].fill_between(edges, eff - unc_low, eff + unc_up, alpha=0.3, step=\"post\")\n",
    "    ax[1].step(\n",
    "        edges,\n",
    "        eff,\n",
    "        where=\"post\",\n",
    "        label=\"{0}: {1:.0f}%\".format(\n",
    "            plot_dicts.category_labels[cat], sum(num_w) / sum(den_w) * 100\n",
    "        ),\n",
    "    )\n",
    "ax[1].set_title(r\"$\\nu_\\mu$ CC Filter, MicroBooNE In Progress\", loc=\"right\")\n",
    "ax[1].set_xlabel(\"True neutrino energy [GeV]\")\n",
    "ax[1].set_ylabel(\"Efficiency\")\n",
    "ax[1].set_ylim(0, 1)\n",
    "ax[1].set_xlim(x_min, x_max)\n",
    "ax[1].legend(loc=\"upper left\")\n",
    "\n",
    "fig.tight_layout()\n",
    "fig.savefig(output_dir + \"numu_efficiency.pdf\", bbox_inches=\"tight\")"
   ]
  },
  {
   "cell_type": "code",
   "execution_count": 15,
   "metadata": {},
   "outputs": [
    {
     "name": "stdout",
     "output_type": "stream",
     "text": [
      "MC category: $\\nu_\\mu$ CC 0p: 85. \t#entries 13196\n",
      "MC category: $\\nu_\\mu$ CC 0$\\pi$Np: 384. \t#entries 60778\n",
      "MC category: $\\nu_\\mu$ CC M$\\pi$Np: 180. \t#entries 28961\n",
      "MC category: $\\nu_\\mu$ NC: 28. \t#entries 4450\n",
      "MC category: $\\nu_e$: 1. \t#entries 123\n",
      "MC category: Cosmic: 25. \t#entries 3916\n",
      "MC category: Out of FV: 101. \t#entries 16005\n"
     ]
    },
    {
     "name": "stderr",
     "output_type": "stream",
     "text": [
      "/home/wouter/Documents/Jupyter/searchingfornues/helpers/helpplots_numu.py:344: FutureWarning: Using a non-tuple sequence for multidimensional indexing is deprecated; use `arr[tuple(seq)]` instead of `arr[seq]`. In the future this will be interpreted as an array index, `arr[np.array(seq)]`, which will result either in an error or a different result.\n",
      "  cdf1we = cwei1[[np.searchsorted(data1, data, side='right')]]\n",
      "/home/wouter/Documents/Jupyter/searchingfornues/helpers/helpplots_numu.py:345: FutureWarning: Using a non-tuple sequence for multidimensional indexing is deprecated; use `arr[tuple(seq)]` instead of `arr[seq]`. In the future this will be interpreted as an array index, `arr[np.array(seq)]`, which will result either in an error or a different result.\n",
      "  cdf2we = cwei2[[np.searchsorted(data2, data, side='right')]]\n"
     ]
    },
    {
     "name": "stdout",
     "output_type": "stream",
     "text": [
      "DRT: 29.\n"
     ]
    },
    {
     "data": {
      "image/png": "[encoded data removed]",
      "text/plain": [
       "<Figure size 465.984x360 with 2 Axes>"
      ]
     },
     "metadata": {
      "needs_background": "light"
     },
     "output_type": "display_data"
    },
    {
     "data": {
      "application/javascript": [
       "\n",
       "            setTimeout(function() {\n",
       "                var nbb_cell_id = 15;\n",
       "                var nbb_formatted_code = \"fig, ax = plt.subplots(\\n    ncols=1,\\n    nrows=2,\\n    figsize=(4 * plothelp.gr, 5),\\n    gridspec_kw={\\\"height_ratios\\\": [3, 1]},\\n)\\n\\nratio, purity, ks_p = plothelp.plot_panel_data_mc(\\n    data,\\n    ax,\\n    \\\"track_at_vtx\\\",\\n    \\\"Track multiplicity\\\",\\n    N_bins=5,\\n    x_min=0.5,\\n    x_max=5.5,\\n    query=\\\"numuccinc\\\",\\n    legend=True,\\n    title_str=title_str.split(\\\"NE\\\")[-1],\\n    kind=\\\"event_category\\\",\\n    y_max_scaler=1.1,\\n)\\nax[0].text(\\n    ax[0].get_xlim()[1] * 0.9,\\n    ax[0].get_ylim()[1] * 0.8,\\n    r\\\"$\\\\nu_\\\\mu$\\\"\\n    + \\\" CC purity: {0:<3.1f}%\\\\nKS p-value: {1:<5.2f}\\\".format(purity * 100, ks_p),\\n    horizontalalignment=\\\"right\\\",\\n    fontsize=12,\\n)\\n\\nfig.tight_layout()\\nfig.savefig(output_dir + \\\"data_mc/numu_vtxntrack.pdf\\\", bbox_inches=\\\"tight\\\")\";\n",
       "                var nbb_cells = Jupyter.notebook.get_cells();\n",
       "                for (var i = 0; i < nbb_cells.length; ++i) {\n",
       "                    if (nbb_cells[i].input_prompt_number == nbb_cell_id) {\n",
       "                        nbb_cells[i].set_text(nbb_formatted_code);\n",
       "                        break;\n",
       "                    }\n",
       "                }\n",
       "            }, 500);\n",
       "            "
      ],
      "text/plain": [
       "<IPython.core.display.Javascript object>"
      ]
     },
     "metadata": {},
     "output_type": "display_data"
    }
   ],
   "source": [
    "fig, ax = plt.subplots(\n",
    "    ncols=1,\n",
    "    nrows=2,\n",
    "    figsize=(4 * plothelp.gr, 5),\n",
    "    gridspec_kw={\"height_ratios\": [3, 1]},\n",
    ")\n",
    "\n",
    "ratio, purity, ks_p = plothelp.plot_panel_data_mc(\n",
    "    data,\n",
    "    ax,\n",
    "    \"track_at_vtx\",\n",
    "    \"Track multiplicity\",\n",
    "    N_bins=5,\n",
    "    x_min=0.5,\n",
    "    x_max=5.5,\n",
    "    query=\"numuccinc\",\n",
    "    legend=True,\n",
    "    title_str=title_str.split(\"NE\")[-1],\n",
    "    kind=\"event_category\",\n",
    "    y_max_scaler=1.1,\n",
    ")\n",
    "ax[0].text(\n",
    "    ax[0].get_xlim()[1] * 0.9,\n",
    "    ax[0].get_ylim()[1] * 0.8,\n",
    "    r\"$\\nu_\\mu$\"\n",
    "    + \" CC purity: {0:<3.1f}%\\nKS p-value: {1:<5.2f}\".format(purity * 100, ks_p),\n",
    "    horizontalalignment=\"right\",\n",
    "    fontsize=12,\n",
    ")\n",
    "\n",
    "fig.tight_layout()\n",
    "fig.savefig(output_dir + \"data_mc/numu_vtxntrack.pdf\", bbox_inches=\"tight\")"
   ]
  },
  {
   "cell_type": "code",
   "execution_count": 16,
   "metadata": {},
   "outputs": [
    {
     "name": "stdout",
     "output_type": "stream",
     "text": [
      "MC category: $\\nu_\\mu$ CC 0p: 85. \t#entries 13196\n",
      "MC category: $\\nu_\\mu$ CC 0$\\pi$Np: 384. \t#entries 60778\n",
      "MC category: $\\nu_\\mu$ CC M$\\pi$Np: 180. \t#entries 28961\n",
      "MC category: $\\nu_\\mu$ NC: 28. \t#entries 4450\n",
      "MC category: $\\nu_e$: 1. \t#entries 123\n",
      "MC category: Cosmic: 25. \t#entries 3916\n",
      "MC category: Out of FV: 101. \t#entries 16005\n"
     ]
    },
    {
     "name": "stderr",
     "output_type": "stream",
     "text": [
      "/home/wouter/Documents/Jupyter/searchingfornues/helpers/helpplots_numu.py:344: FutureWarning: Using a non-tuple sequence for multidimensional indexing is deprecated; use `arr[tuple(seq)]` instead of `arr[seq]`. In the future this will be interpreted as an array index, `arr[np.array(seq)]`, which will result either in an error or a different result.\n",
      "  cdf1we = cwei1[[np.searchsorted(data1, data, side='right')]]\n",
      "/home/wouter/Documents/Jupyter/searchingfornues/helpers/helpplots_numu.py:345: FutureWarning: Using a non-tuple sequence for multidimensional indexing is deprecated; use `arr[tuple(seq)]` instead of `arr[seq]`. In the future this will be interpreted as an array index, `arr[np.array(seq)]`, which will result either in an error or a different result.\n",
      "  cdf2we = cwei2[[np.searchsorted(data2, data, side='right')]]\n"
     ]
    },
    {
     "name": "stdout",
     "output_type": "stream",
     "text": [
      "DRT: 28.\n"
     ]
    },
    {
     "data": {
      "image/png": "[encoded data removed]",
      "text/plain": [
       "<Figure size 349.488x360 with 2 Axes>"
      ]
     },
     "metadata": {
      "needs_background": "light"
     },
     "output_type": "display_data"
    },
    {
     "data": {
      "application/javascript": [
       "\n",
       "            setTimeout(function() {\n",
       "                var nbb_cell_id = 16;\n",
       "                var nbb_formatted_code = \"fig, ax = plt.subplots(\\n    ncols=1,\\n    nrows=2,\\n    figsize=(3 * plothelp.gr, 5),\\n    gridspec_kw={\\\"height_ratios\\\": [3, 1]},\\n)\\n\\nratio, purity, ks_p = plothelp.plot_panel_data_mc(\\n    data,\\n    ax,\\n    \\\"trk_mcs_muon_mom_v\\\",\\n    \\\"Muon Momentum (MCS) [GeV/c]\\\",\\n    N_bins=30,\\n    x_min=0.146,\\n    x_max=1.25,\\n    query=\\\"numuccinc\\\",\\n    legend=False,\\n    title_str=title_str.split(\\\"NE\\\")[-1],\\n    kind=\\\"event_category\\\",\\n    y_max_scaler=1.1,\\n)\\nax[0].text(\\n    ax[0].get_xlim()[1] * 0.7,\\n    ax[0].get_ylim()[1] * 0.8,\\n    r\\\"$\\\\nu_\\\\mu$\\\"\\n    + \\\" CC purity: {0:<3.1f}%\\\\nKS p-value: {1:<5.2f}\\\".format(purity * 100, ks_p),\\n    horizontalalignment=\\\"right\\\",\\n    fontsize=12,\\n)\\n\\nfig.tight_layout()\\nfig.savefig(output_dir + \\\"data_mc/numu_mcsmom.pdf\\\", bbox_inches=\\\"tight\\\")\";\n",
       "                var nbb_cells = Jupyter.notebook.get_cells();\n",
       "                for (var i = 0; i < nbb_cells.length; ++i) {\n",
       "                    if (nbb_cells[i].input_prompt_number == nbb_cell_id) {\n",
       "                        nbb_cells[i].set_text(nbb_formatted_code);\n",
       "                        break;\n",
       "                    }\n",
       "                }\n",
       "            }, 500);\n",
       "            "
      ],
      "text/plain": [
       "<IPython.core.display.Javascript object>"
      ]
     },
     "metadata": {},
     "output_type": "display_data"
    }
   ],
   "source": [
    "fig, ax = plt.subplots(\n",
    "    ncols=1,\n",
    "    nrows=2,\n",
    "    figsize=(3 * plothelp.gr, 5),\n",
    "    gridspec_kw={\"height_ratios\": [3, 1]},\n",
    ")\n",
    "\n",
    "ratio, purity, ks_p = plothelp.plot_panel_data_mc(\n",
    "    data,\n",
    "    ax,\n",
    "    \"trk_mcs_muon_mom_v\",\n",
    "    \"Muon Momentum (MCS) [GeV/c]\",\n",
    "    N_bins=30,\n",
    "    x_min=0.146,\n",
    "    x_max=1.25,\n",
    "    query=\"numuccinc\",\n",
    "    legend=False,\n",
    "    title_str=title_str.split(\"NE\")[-1],\n",
    "    kind=\"event_category\",\n",
    "    y_max_scaler=1.1,\n",
    ")\n",
    "ax[0].text(\n",
    "    ax[0].get_xlim()[1] * 0.7,\n",
    "    ax[0].get_ylim()[1] * 0.8,\n",
    "    r\"$\\nu_\\mu$\"\n",
    "    + \" CC purity: {0:<3.1f}%\\nKS p-value: {1:<5.2f}\".format(purity * 100, ks_p),\n",
    "    horizontalalignment=\"right\",\n",
    "    fontsize=12,\n",
    ")\n",
    "\n",
    "fig.tight_layout()\n",
    "fig.savefig(output_dir + \"data_mc/numu_mcsmom.pdf\", bbox_inches=\"tight\")"
   ]
  },
  {
   "cell_type": "code",
   "execution_count": 17,
   "metadata": {},
   "outputs": [
    {
     "name": "stdout",
     "output_type": "stream",
     "text": [
      "MC category: $\\nu_\\mu$ CC 0p: 85. \t#entries 13196\n",
      "MC category: $\\nu_\\mu$ CC 0$\\pi$Np: 384. \t#entries 60778\n",
      "MC category: $\\nu_\\mu$ CC M$\\pi$Np: 180. \t#entries 28961\n",
      "MC category: $\\nu_\\mu$ NC: 28. \t#entries 4450\n",
      "MC category: $\\nu_e$: 1. \t#entries 123\n",
      "MC category: Cosmic: 25. \t#entries 3916\n",
      "MC category: Out of FV: 101. \t#entries 16005\n"
     ]
    },
    {
     "name": "stderr",
     "output_type": "stream",
     "text": [
      "/home/wouter/Documents/Jupyter/searchingfornues/helpers/helpplots_numu.py:344: FutureWarning: Using a non-tuple sequence for multidimensional indexing is deprecated; use `arr[tuple(seq)]` instead of `arr[seq]`. In the future this will be interpreted as an array index, `arr[np.array(seq)]`, which will result either in an error or a different result.\n",
      "  cdf1we = cwei1[[np.searchsorted(data1, data, side='right')]]\n",
      "/home/wouter/Documents/Jupyter/searchingfornues/helpers/helpplots_numu.py:345: FutureWarning: Using a non-tuple sequence for multidimensional indexing is deprecated; use `arr[tuple(seq)]` instead of `arr[seq]`. In the future this will be interpreted as an array index, `arr[np.array(seq)]`, which will result either in an error or a different result.\n",
      "  cdf2we = cwei2[[np.searchsorted(data2, data, side='right')]]\n"
     ]
    },
    {
     "name": "stdout",
     "output_type": "stream",
     "text": [
      "DRT: 29.\n"
     ]
    },
    {
     "data": {
      "image/png": "[encoded data removed]",
      "text/plain": [
       "<Figure size 349.488x360 with 2 Axes>"
      ]
     },
     "metadata": {
      "needs_background": "light"
     },
     "output_type": "display_data"
    },
    {
     "data": {
      "application/javascript": [
       "\n",
       "            setTimeout(function() {\n",
       "                var nbb_cell_id = 17;\n",
       "                var nbb_formatted_code = \"fig, ax = plt.subplots(\\n    ncols=1,\\n    nrows=2,\\n    figsize=(3 * plothelp.gr, 5),\\n    gridspec_kw={\\\"height_ratios\\\": [3, 1]},\\n)\\n\\nratio, purity, ks_p = plothelp.plot_panel_data_mc(\\n    data,\\n    ax,\\n    \\\"trk_phi_v\\\",\\n    r\\\"Muon candidate $\\\\phi$\\\",\\n    N_bins=30,\\n    x_min=-np.pi,\\n    x_max=np.pi,\\n    query=\\\"numuccinc\\\",\\n    legend=False,\\n    title_str=title_str.split(\\\"NE\\\")[-1],\\n    kind=\\\"event_category\\\",\\n    y_max_scaler=1.25,\\n)\\nax[0].text(\\n    ax[0].get_xlim()[1] * 0.0,\\n    ax[0].get_ylim()[1] * 0.8,\\n    r\\\"$\\\\nu_\\\\mu$\\\"\\n    + \\\" CC purity: {0:<3.1f}%\\\\nKS p-value: {1:<5.2f}\\\".format(purity * 100, ks_p),\\n    horizontalalignment=\\\"right\\\",\\n    fontsize=12,\\n)\\n\\nx_ticks = [-np.pi, -np.pi / 2, 0, np.pi / 2, np.pi]\\nx_labels = [r\\\"$-\\\\pi$\\\", r\\\"$-\\\\pi/2$\\\", r\\\"$0$\\\", r\\\"$\\\\pi/2$\\\", r\\\"$\\\\pi$\\\"]\\nax[1].set_xticks(x_ticks)\\nax[1].set_xticklabels(x_labels)\\nax[0].set_xticks(x_ticks)\\nax[0].set_xticklabels(x_labels)\\n\\n\\nfig.tight_layout()\\nfig.savefig(output_dir + \\\"data_mc/numu_phi.pdf\\\", bbox_inches=\\\"tight\\\")\";\n",
       "                var nbb_cells = Jupyter.notebook.get_cells();\n",
       "                for (var i = 0; i < nbb_cells.length; ++i) {\n",
       "                    if (nbb_cells[i].input_prompt_number == nbb_cell_id) {\n",
       "                        nbb_cells[i].set_text(nbb_formatted_code);\n",
       "                        break;\n",
       "                    }\n",
       "                }\n",
       "            }, 500);\n",
       "            "
      ],
      "text/plain": [
       "<IPython.core.display.Javascript object>"
      ]
     },
     "metadata": {},
     "output_type": "display_data"
    }
   ],
   "source": [
    "fig, ax = plt.subplots(\n",
    "    ncols=1,\n",
    "    nrows=2,\n",
    "    figsize=(3 * plothelp.gr, 5),\n",
    "    gridspec_kw={\"height_ratios\": [3, 1]},\n",
    ")\n",
    "\n",
    "ratio, purity, ks_p = plothelp.plot_panel_data_mc(\n",
    "    data,\n",
    "    ax,\n",
    "    \"trk_phi_v\",\n",
    "    r\"Muon candidate $\\phi$\",\n",
    "    N_bins=30,\n",
    "    x_min=-np.pi,\n",
    "    x_max=np.pi,\n",
    "    query=\"numuccinc\",\n",
    "    legend=False,\n",
    "    title_str=title_str.split(\"NE\")[-1],\n",
    "    kind=\"event_category\",\n",
    "    y_max_scaler=1.25,\n",
    ")\n",
    "ax[0].text(\n",
    "    ax[0].get_xlim()[1] * 0.0,\n",
    "    ax[0].get_ylim()[1] * 0.8,\n",
    "    r\"$\\nu_\\mu$\"\n",
    "    + \" CC purity: {0:<3.1f}%\\nKS p-value: {1:<5.2f}\".format(purity * 100, ks_p),\n",
    "    horizontalalignment=\"right\",\n",
    "    fontsize=12,\n",
    ")\n",
    "\n",
    "x_ticks = [-np.pi, -np.pi / 2, 0, np.pi / 2, np.pi]\n",
    "x_labels = [r\"$-\\pi$\", r\"$-\\pi/2$\", r\"$0$\", r\"$\\pi/2$\", r\"$\\pi$\"]\n",
    "ax[1].set_xticks(x_ticks)\n",
    "ax[1].set_xticklabels(x_labels)\n",
    "ax[0].set_xticks(x_ticks)\n",
    "ax[0].set_xticklabels(x_labels)\n",
    "\n",
    "\n",
    "fig.tight_layout()\n",
    "fig.savefig(output_dir + \"data_mc/numu_phi.pdf\", bbox_inches=\"tight\")"
   ]
  },
  {
   "cell_type": "code",
   "execution_count": 18,
   "metadata": {},
   "outputs": [
    {
     "name": "stdout",
     "output_type": "stream",
     "text": [
      "MC category: $\\nu_\\mu$ CC 0p: 85. \t#entries 13196\n",
      "MC category: $\\nu_\\mu$ CC 0$\\pi$Np: 384. \t#entries 60778\n",
      "MC category: $\\nu_\\mu$ CC M$\\pi$Np: 180. \t#entries 28961\n",
      "MC category: $\\nu_\\mu$ NC: 28. \t#entries 4450\n",
      "MC category: $\\nu_e$: 1. \t#entries 123\n",
      "MC category: Cosmic: 25. \t#entries 3916\n",
      "MC category: Out of FV: 101. \t#entries 16005\n"
     ]
    },
    {
     "name": "stderr",
     "output_type": "stream",
     "text": [
      "/home/wouter/Documents/Jupyter/searchingfornues/helpers/helpplots_numu.py:344: FutureWarning: Using a non-tuple sequence for multidimensional indexing is deprecated; use `arr[tuple(seq)]` instead of `arr[seq]`. In the future this will be interpreted as an array index, `arr[np.array(seq)]`, which will result either in an error or a different result.\n",
      "  cdf1we = cwei1[[np.searchsorted(data1, data, side='right')]]\n",
      "/home/wouter/Documents/Jupyter/searchingfornues/helpers/helpplots_numu.py:345: FutureWarning: Using a non-tuple sequence for multidimensional indexing is deprecated; use `arr[tuple(seq)]` instead of `arr[seq]`. In the future this will be interpreted as an array index, `arr[np.array(seq)]`, which will result either in an error or a different result.\n",
      "  cdf2we = cwei2[[np.searchsorted(data2, data, side='right')]]\n"
     ]
    },
    {
     "name": "stdout",
     "output_type": "stream",
     "text": [
      "DRT: 29.\n"
     ]
    },
    {
     "data": {
      "image/png": "[encoded data removed]",
      "text/plain": [
       "<Figure size 349.488x360 with 2 Axes>"
      ]
     },
     "metadata": {
      "needs_background": "light"
     },
     "output_type": "display_data"
    },
    {
     "data": {
      "application/javascript": [
       "\n",
       "            setTimeout(function() {\n",
       "                var nbb_cell_id = 18;\n",
       "                var nbb_formatted_code = \"fig, ax = plt.subplots(\\n    ncols=1,\\n    nrows=2,\\n    figsize=(3 * plothelp.gr, 5),\\n    gridspec_kw={\\\"height_ratios\\\": [3, 1]},\\n)\\n\\nratio, purity, ks_p = plothelp.plot_panel_data_mc(\\n    data,\\n    ax,\\n    \\\"trk_theta_v\\\",\\n    r\\\"Muon candidate $\\\\theta$\\\",\\n    N_bins=30,\\n    x_min=0,\\n    x_max=np.pi,\\n    query=\\\"numuccinc\\\",\\n    legend=False,\\n    title_str=title_str.split(\\\"NE\\\")[-1],\\n    kind=\\\"event_category\\\",\\n    y_max_scaler=1.25,\\n)\\nax[0].text(\\n    ax[0].get_xlim()[1] * 0.8,\\n    ax[0].get_ylim()[1] * 0.8,\\n    r\\\"$\\\\nu_\\\\mu$\\\"\\n    + \\\" CC purity: {0:<3.1f}%\\\\nKS p-value: {1:<5.2f}\\\".format(purity * 100, ks_p),\\n    horizontalalignment=\\\"right\\\",\\n    fontsize=12,\\n)\\n\\nx_ticks = [0, np.pi / 4, np.pi / 2, 3 * np.pi / 4, np.pi]\\nx_labels = [r\\\"$0$\\\", r\\\"$\\\\pi/4$\\\", r\\\"$\\\\pi/2$\\\", r\\\"$3\\\\pi/4$\\\", r\\\"$\\\\pi$\\\"]\\nax[1].set_xticks(x_ticks)\\nax[1].set_xticklabels(x_labels)\\nax[0].set_xticks(x_ticks)\\nax[0].set_xticklabels(x_labels)\\n\\n\\nfig.tight_layout()\\nfig.savefig(output_dir + \\\"data_mc/numu_phi.pdf\\\", bbox_inches=\\\"tight\\\")\";\n",
       "                var nbb_cells = Jupyter.notebook.get_cells();\n",
       "                for (var i = 0; i < nbb_cells.length; ++i) {\n",
       "                    if (nbb_cells[i].input_prompt_number == nbb_cell_id) {\n",
       "                        nbb_cells[i].set_text(nbb_formatted_code);\n",
       "                        break;\n",
       "                    }\n",
       "                }\n",
       "            }, 500);\n",
       "            "
      ],
      "text/plain": [
       "<IPython.core.display.Javascript object>"
      ]
     },
     "metadata": {},
     "output_type": "display_data"
    }
   ],
   "source": [
    "fig, ax = plt.subplots(\n",
    "    ncols=1,\n",
    "    nrows=2,\n",
    "    figsize=(3 * plothelp.gr, 5),\n",
    "    gridspec_kw={\"height_ratios\": [3, 1]},\n",
    ")\n",
    "\n",
    "ratio, purity, ks_p = plothelp.plot_panel_data_mc(\n",
    "    data,\n",
    "    ax,\n",
    "    \"trk_theta_v\",\n",
    "    r\"Muon candidate $\\theta$\",\n",
    "    N_bins=30,\n",
    "    x_min=0,\n",
    "    x_max=np.pi,\n",
    "    query=\"numuccinc\",\n",
    "    legend=False,\n",
    "    title_str=title_str.split(\"NE\")[-1],\n",
    "    kind=\"event_category\",\n",
    "    y_max_scaler=1.25,\n",
    ")\n",
    "ax[0].text(\n",
    "    ax[0].get_xlim()[1] * 0.8,\n",
    "    ax[0].get_ylim()[1] * 0.8,\n",
    "    r\"$\\nu_\\mu$\"\n",
    "    + \" CC purity: {0:<3.1f}%\\nKS p-value: {1:<5.2f}\".format(purity * 100, ks_p),\n",
    "    horizontalalignment=\"right\",\n",
    "    fontsize=12,\n",
    ")\n",
    "\n",
    "x_ticks = [0, np.pi / 4, np.pi / 2, 3 * np.pi / 4, np.pi]\n",
    "x_labels = [r\"$0$\", r\"$\\pi/4$\", r\"$\\pi/2$\", r\"$3\\pi/4$\", r\"$\\pi$\"]\n",
    "ax[1].set_xticks(x_ticks)\n",
    "ax[1].set_xticklabels(x_labels)\n",
    "ax[0].set_xticks(x_ticks)\n",
    "ax[0].set_xticklabels(x_labels)\n",
    "\n",
    "\n",
    "fig.tight_layout()\n",
    "fig.savefig(output_dir + \"data_mc/numu_phi.pdf\", bbox_inches=\"tight\")"
   ]
  },
  {
   "cell_type": "markdown",
   "metadata": {},
   "source": [
    "# Done"
   ]
  }
 ],
 "metadata": {
  "kernelspec": {
   "display_name": "uproot env",
   "language": "python",
   "name": "uproot"
  },
  "language_info": {
   "codemirror_mode": {
    "name": "ipython",
    "version": 3
   },
   "file_extension": ".py",
   "mimetype": "text/x-python",
   "name": "python",
   "nbconvert_exporter": "python",
   "pygments_lexer": "ipython3",
   "version": "3.7.4"
  }
 },
 "nbformat": 4,
 "nbformat_minor": 2
}
