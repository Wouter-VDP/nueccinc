{
 "cells": [
  {
   "cell_type": "markdown",
   "metadata": {},
   "source": [
    "### Input"
   ]
  },
  {
   "cell_type": "code",
   "execution_count": 1,
   "metadata": {},
   "outputs": [
    {
     "data": {
      "application/javascript": [
       "\n",
       "            setTimeout(function() {\n",
       "                var nbb_cell_id = 1;\n",
       "                var nbb_formatted_code = \"%load_ext autoreload\\n%matplotlib inline\\n%load_ext nb_black\";\n",
       "                var nbb_cells = Jupyter.notebook.get_cells();\n",
       "                for (var i = 0; i < nbb_cells.length; ++i) {\n",
       "                    if (nbb_cells[i].input_prompt_number == nbb_cell_id) {\n",
       "                        nbb_cells[i].set_text(nbb_formatted_code);\n",
       "                        break;\n",
       "                    }\n",
       "                }\n",
       "            }, 500);\n",
       "            "
      ],
      "text/plain": [
       "<IPython.core.display.Javascript object>"
      ]
     },
     "metadata": {},
     "output_type": "display_data"
    }
   ],
   "source": [
    "%load_ext autoreload\n",
    "%matplotlib inline\n",
    "%load_ext nb_black"
   ]
  },
  {
   "cell_type": "code",
   "execution_count": 2,
   "metadata": {},
   "outputs": [
    {
     "data": {
      "application/javascript": [
       "\n",
       "            setTimeout(function() {\n",
       "                var nbb_cell_id = 2;\n",
       "                var nbb_formatted_code = \"import numpy as np\\nimport pandas as pd\\nimport matplotlib.pyplot as plt\\nimport helpfunction as helper\\nimport pickle\\nfrom sklearn.model_selection import train_test_split\\nfrom sklearn.metrics import classification_report\\nfrom xgboost import XGBClassifier\\nfrom sklearn.metrics import accuracy_score\\nfrom sklearn.metrics import roc_curve, auc\\n\\npd.set_option(\\\"display.max_columns\\\", 500)\";\n",
       "                var nbb_cells = Jupyter.notebook.get_cells();\n",
       "                for (var i = 0; i < nbb_cells.length; ++i) {\n",
       "                    if (nbb_cells[i].input_prompt_number == nbb_cell_id) {\n",
       "                        nbb_cells[i].set_text(nbb_formatted_code);\n",
       "                        break;\n",
       "                    }\n",
       "                }\n",
       "            }, 500);\n",
       "            "
      ],
      "text/plain": [
       "<IPython.core.display.Javascript object>"
      ]
     },
     "metadata": {},
     "output_type": "display_data"
    }
   ],
   "source": [
    "import numpy as np\n",
    "import pandas as pd\n",
    "import matplotlib.pyplot as plt\n",
    "import helpfunction as helper\n",
    "import pickle\n",
    "from sklearn.model_selection import train_test_split\n",
    "from sklearn.metrics import classification_report\n",
    "from xgboost import XGBClassifier\n",
    "from sklearn.metrics import accuracy_score\n",
    "from sklearn.metrics import roc_curve, auc\n",
    "\n",
    "pd.set_option(\"display.max_columns\", 500)"
   ]
  },
  {
   "cell_type": "code",
   "execution_count": 3,
   "metadata": {},
   "outputs": [
    {
     "data": {
      "application/javascript": [
       "\n",
       "            setTimeout(function() {\n",
       "                var nbb_cell_id = 3;\n",
       "                var nbb_formatted_code = \"%autoreload\";\n",
       "                var nbb_cells = Jupyter.notebook.get_cells();\n",
       "                for (var i = 0; i < nbb_cells.length; ++i) {\n",
       "                    if (nbb_cells[i].input_prompt_number == nbb_cell_id) {\n",
       "                        nbb_cells[i].set_text(nbb_formatted_code);\n",
       "                        break;\n",
       "                    }\n",
       "                }\n",
       "            }, 500);\n",
       "            "
      ],
      "text/plain": [
       "<IPython.core.display.Javascript object>"
      ]
     },
     "metadata": {},
     "output_type": "display_data"
    }
   ],
   "source": [
    "%autoreload"
   ]
  },
  {
   "cell_type": "markdown",
   "metadata": {},
   "source": [
    "### Constants"
   ]
  },
  {
   "cell_type": "code",
   "execution_count": 4,
   "metadata": {},
   "outputs": [
    {
     "data": {
      "application/javascript": [
       "\n",
       "            setTimeout(function() {\n",
       "                var nbb_cell_id = 4;\n",
       "                var nbb_formatted_code = \"x_sce_magic = 1.03\\nseed = 7\\ntest_size = 0.4\\npid_upper_clip = 300\\npot_target = 1e20\";\n",
       "                var nbb_cells = Jupyter.notebook.get_cells();\n",
       "                for (var i = 0; i < nbb_cells.length; ++i) {\n",
       "                    if (nbb_cells[i].input_prompt_number == nbb_cell_id) {\n",
       "                        nbb_cells[i].set_text(nbb_formatted_code);\n",
       "                        break;\n",
       "                    }\n",
       "                }\n",
       "            }, 500);\n",
       "            "
      ],
      "text/plain": [
       "<IPython.core.display.Javascript object>"
      ]
     },
     "metadata": {},
     "output_type": "display_data"
    }
   ],
   "source": [
    "x_sce_magic = 1.03\n",
    "seed = 7\n",
    "test_size = 0.4\n",
    "pid_upper_clip = 300\n",
    "pot_target = 1e20"
   ]
  },
  {
   "cell_type": "code",
   "execution_count": 5,
   "metadata": {},
   "outputs": [
    {
     "data": {
      "application/javascript": [
       "\n",
       "            setTimeout(function() {\n",
       "                var nbb_cell_id = 5;\n",
       "                var nbb_formatted_code = \"max_trk_score = 0.85\\nmin_cluster_frac = 0.5\";\n",
       "                var nbb_cells = Jupyter.notebook.get_cells();\n",
       "                for (var i = 0; i < nbb_cells.length; ++i) {\n",
       "                    if (nbb_cells[i].input_prompt_number == nbb_cell_id) {\n",
       "                        nbb_cells[i].set_text(nbb_formatted_code);\n",
       "                        break;\n",
       "                    }\n",
       "                }\n",
       "            }, 500);\n",
       "            "
      ],
      "text/plain": [
       "<IPython.core.display.Javascript object>"
      ]
     },
     "metadata": {},
     "output_type": "display_data"
    }
   ],
   "source": [
    "max_trk_score = 0.85\n",
    "min_cluster_frac = 0.5"
   ]
  },
  {
   "cell_type": "markdown",
   "metadata": {},
   "source": [
    "### Load Samples"
   ]
  },
  {
   "cell_type": "code",
   "execution_count": 6,
   "metadata": {},
   "outputs": [
    {
     "data": {
      "application/javascript": [
       "\n",
       "            setTimeout(function() {\n",
       "                var nbb_cell_id = 6;\n",
       "                var nbb_formatted_code = \"input_dir = \\\"./input/7Oct/run3/\\\"\\noutput_dir = \\\"./output/run3/\\\"\";\n",
       "                var nbb_cells = Jupyter.notebook.get_cells();\n",
       "                for (var i = 0; i < nbb_cells.length; ++i) {\n",
       "                    if (nbb_cells[i].input_prompt_number == nbb_cell_id) {\n",
       "                        nbb_cells[i].set_text(nbb_formatted_code);\n",
       "                        break;\n",
       "                    }\n",
       "                }\n",
       "            }, 500);\n",
       "            "
      ],
      "text/plain": [
       "<IPython.core.display.Javascript object>"
      ]
     },
     "metadata": {},
     "output_type": "display_data"
    }
   ],
   "source": [
    "input_dir = \"./input/7Oct/run3/\"\n",
    "output_dir = \"./output/run3/\""
   ]
  },
  {
   "cell_type": "code",
   "execution_count": 7,
   "metadata": {},
   "outputs": [
    {
     "name": "stdout",
     "output_type": "stream",
     "text": [
      "Passing rate after Slice ID:\n",
      "On \t23.27%\n",
      "Off \t14.61%\n",
      "MC \t43.93%\n",
      "MC sample: nueccinc passing Slice ID \t84.22%\n",
      "NUE \t79.69%\n",
      "NUE sample: nueccinc passing Slice ID \t84.78%\n",
      "DRT \t22.50%\n",
      "Completed, time passed: 61.9s.\n"
     ]
    },
    {
     "data": {
      "application/javascript": [
       "\n",
       "            setTimeout(function() {\n",
       "                var nbb_cell_id = 7;\n",
       "                var nbb_formatted_code = \"sample_info, fields, signal_mask = helper.load_sample_info(input_dir, \\\"sample_info.txt\\\")\\npot_scale = pot_target / sample_info[\\\"On\\\"][\\\"POT\\\"]\";\n",
       "                var nbb_cells = Jupyter.notebook.get_cells();\n",
       "                for (var i = 0; i < nbb_cells.length; ++i) {\n",
       "                    if (nbb_cells[i].input_prompt_number == nbb_cell_id) {\n",
       "                        nbb_cells[i].set_text(nbb_formatted_code);\n",
       "                        break;\n",
       "                    }\n",
       "                }\n",
       "            }, 500);\n",
       "            "
      ],
      "text/plain": [
       "<IPython.core.display.Javascript object>"
      ]
     },
     "metadata": {},
     "output_type": "display_data"
    }
   ],
   "source": [
    "sample_info, fields, signal_mask = helper.load_sample_info(input_dir, \"sample_info.txt\")\n",
    "pot_scale = pot_target / sample_info[\"On\"][\"POT\"]"
   ]
  },
  {
   "cell_type": "markdown",
   "metadata": {},
   "source": [
    "### Explore Tree"
   ]
  },
  {
   "cell_type": "code",
   "execution_count": 8,
   "metadata": {},
   "outputs": [
    {
     "name": "stdout",
     "output_type": "stream",
     "text": [
      "POT nue from sample: 9.282719e+22\n",
      "POT nue from scaling: 9.239795918367347e+22\n"
     ]
    },
    {
     "data": {
      "application/javascript": [
       "\n",
       "            setTimeout(function() {\n",
       "                var nbb_cell_id = 8;\n",
       "                var nbb_formatted_code = \"pot_nue = sample_info[\\\"NUE\\\"][\\\"POT\\\"]\\nprint(\\\"POT nue from sample:\\\", pot_nue)\\npot_nue_scaling = sample_info[\\\"On\\\"][\\\"POT\\\"] / sample_info[\\\"NUE\\\"][\\\"scaling\\\"]\\nprint(\\\"POT nue from scaling:\\\", pot_nue_scaling)\";\n",
       "                var nbb_cells = Jupyter.notebook.get_cells();\n",
       "                for (var i = 0; i < nbb_cells.length; ++i) {\n",
       "                    if (nbb_cells[i].input_prompt_number == nbb_cell_id) {\n",
       "                        nbb_cells[i].set_text(nbb_formatted_code);\n",
       "                        break;\n",
       "                    }\n",
       "                }\n",
       "            }, 500);\n",
       "            "
      ],
      "text/plain": [
       "<IPython.core.display.Javascript object>"
      ]
     },
     "metadata": {},
     "output_type": "display_data"
    }
   ],
   "source": [
    "pot_nue = sample_info[\"NUE\"][\"POT\"]\n",
    "print(\"POT nue from sample:\", pot_nue)\n",
    "pot_nue_scaling = sample_info[\"On\"][\"POT\"] / sample_info[\"NUE\"][\"scaling\"]\n",
    "print(\"POT nue from scaling:\", pot_nue_scaling)"
   ]
  },
  {
   "cell_type": "code",
   "execution_count": 9,
   "metadata": {},
   "outputs": [
    {
     "data": {
      "application/javascript": [
       "\n",
       "            setTimeout(function() {\n",
       "                var nbb_cell_id = 9;\n",
       "                var nbb_formatted_code = \"shr_fields = [f for f in fields if f.startswith(\\\"shr_\\\") and f.endswith(\\\"_v\\\")]\\ntrk_fields = [f for f in fields if f.startswith(\\\"trk_\\\") and f.endswith(\\\"_v\\\")]\\nbackracked_fields = [f for f in fields if f.startswith(\\\"backtracked_\\\")]\\nmc_fields = [f for f in fields if f.startswith((\\\"true_\\\", \\\"mc_\\\"))]\\nother_fields = (\\n    set(fields)\\n    - set(shr_fields)\\n    - set(trk_fields)\\n    - set(backracked_fields)\\n    - set(mc_fields)\\n)\";\n",
       "                var nbb_cells = Jupyter.notebook.get_cells();\n",
       "                for (var i = 0; i < nbb_cells.length; ++i) {\n",
       "                    if (nbb_cells[i].input_prompt_number == nbb_cell_id) {\n",
       "                        nbb_cells[i].set_text(nbb_formatted_code);\n",
       "                        break;\n",
       "                    }\n",
       "                }\n",
       "            }, 500);\n",
       "            "
      ],
      "text/plain": [
       "<IPython.core.display.Javascript object>"
      ]
     },
     "metadata": {},
     "output_type": "display_data"
    }
   ],
   "source": [
    "shr_fields = [f for f in fields if f.startswith(\"shr_\") and f.endswith(\"_v\")]\n",
    "trk_fields = [f for f in fields if f.startswith(\"trk_\") and f.endswith(\"_v\")]\n",
    "backracked_fields = [f for f in fields if f.startswith(\"backtracked_\")]\n",
    "mc_fields = [f for f in fields if f.startswith((\"true_\", \"mc_\"))]\n",
    "other_fields = (\n",
    "    set(fields)\n",
    "    - set(shr_fields)\n",
    "    - set(trk_fields)\n",
    "    - set(backracked_fields)\n",
    "    - set(mc_fields)\n",
    ")"
   ]
  },
  {
   "cell_type": "code",
   "execution_count": 10,
   "metadata": {
    "scrolled": true
   },
   "outputs": [
    {
     "data": {
      "text/plain": [
       "['true_pt',\n",
       " 'true_pt_visible',\n",
       " 'true_p',\n",
       " 'true_p_visible',\n",
       " 'true_e_visible',\n",
       " 'true_nu_vtx_t',\n",
       " 'true_nu_vtx_x',\n",
       " 'true_nu_vtx_y',\n",
       " 'true_nu_vtx_z',\n",
       " 'true_nu_vtx_sce_x',\n",
       " 'true_nu_vtx_sce_y',\n",
       " 'true_nu_vtx_sce_z',\n",
       " 'mc_pdg',\n",
       " 'mc_E',\n",
       " 'mc_vx',\n",
       " 'mc_vy',\n",
       " 'mc_vz',\n",
       " 'mc_endx',\n",
       " 'mc_endy',\n",
       " 'mc_endz',\n",
       " 'mc_px',\n",
       " 'mc_py',\n",
       " 'mc_pz',\n",
       " 'mc_completeness',\n",
       " 'mc_purity']"
      ]
     },
     "execution_count": 10,
     "metadata": {},
     "output_type": "execute_result"
    },
    {
     "data": {
      "application/javascript": [
       "\n",
       "            setTimeout(function() {\n",
       "                var nbb_cell_id = 10;\n",
       "                var nbb_formatted_code = \"mc_fields\";\n",
       "                var nbb_cells = Jupyter.notebook.get_cells();\n",
       "                for (var i = 0; i < nbb_cells.length; ++i) {\n",
       "                    if (nbb_cells[i].input_prompt_number == nbb_cell_id) {\n",
       "                        nbb_cells[i].set_text(nbb_formatted_code);\n",
       "                        break;\n",
       "                    }\n",
       "                }\n",
       "            }, 500);\n",
       "            "
      ],
      "text/plain": [
       "<IPython.core.display.Javascript object>"
      ]
     },
     "metadata": {},
     "output_type": "display_data"
    }
   ],
   "source": [
    "mc_fields"
   ]
  },
  {
   "cell_type": "code",
   "execution_count": 11,
   "metadata": {
    "scrolled": true
   },
   "outputs": [
    {
     "data": {
      "text/plain": [
       "['trk_score_v',\n",
       " 'trk_bragg_p_v',\n",
       " 'trk_bragg_mu_v',\n",
       " 'trk_bragg_mip_v',\n",
       " 'trk_pida_v',\n",
       " 'trk_pid_chipr_v',\n",
       " 'trk_pid_chipi_v',\n",
       " 'trk_pid_chika_v',\n",
       " 'trk_pid_chimu_v',\n",
       " 'trk_bragg_p_u_v',\n",
       " 'trk_bragg_mu_u_v',\n",
       " 'trk_bragg_mip_u_v',\n",
       " 'trk_pida_u_v',\n",
       " 'trk_pid_chipr_u_v',\n",
       " 'trk_pid_chipi_u_v',\n",
       " 'trk_pid_chika_u_v',\n",
       " 'trk_pid_chimu_u_v',\n",
       " 'trk_bragg_p_v_v',\n",
       " 'trk_bragg_mu_v_v',\n",
       " 'trk_bragg_mip_v_v',\n",
       " 'trk_pida_v_v',\n",
       " 'trk_pid_chipr_v_v',\n",
       " 'trk_pid_chipi_v_v',\n",
       " 'trk_pid_chika_v_v',\n",
       " 'trk_pid_chimu_v_v',\n",
       " 'trk_pfp_id_v',\n",
       " 'trk_dir_x_v',\n",
       " 'trk_dir_y_v',\n",
       " 'trk_dir_z_v',\n",
       " 'trk_start_x_v',\n",
       " 'trk_start_y_v',\n",
       " 'trk_start_z_v',\n",
       " 'trk_end_x_v',\n",
       " 'trk_end_y_v',\n",
       " 'trk_end_z_v',\n",
       " 'trk_distance_v',\n",
       " 'trk_theta_v',\n",
       " 'trk_phi_v',\n",
       " 'trk_len_v',\n",
       " 'trk_mcs_muon_mom_v',\n",
       " 'trk_energy_proton_v',\n",
       " 'trk_energy_muon_v']"
      ]
     },
     "execution_count": 11,
     "metadata": {},
     "output_type": "execute_result"
    },
    {
     "data": {
      "application/javascript": [
       "\n",
       "            setTimeout(function() {\n",
       "                var nbb_cell_id = 11;\n",
       "                var nbb_formatted_code = \"trk_fields\";\n",
       "                var nbb_cells = Jupyter.notebook.get_cells();\n",
       "                for (var i = 0; i < nbb_cells.length; ++i) {\n",
       "                    if (nbb_cells[i].input_prompt_number == nbb_cell_id) {\n",
       "                        nbb_cells[i].set_text(nbb_formatted_code);\n",
       "                        break;\n",
       "                    }\n",
       "                }\n",
       "            }, 500);\n",
       "            "
      ],
      "text/plain": [
       "<IPython.core.display.Javascript object>"
      ]
     },
     "metadata": {},
     "output_type": "display_data"
    }
   ],
   "source": [
    "trk_fields"
   ]
  },
  {
   "cell_type": "code",
   "execution_count": 12,
   "metadata": {
    "scrolled": true
   },
   "outputs": [
    {
     "data": {
      "text/plain": [
       "['shr_dedx_u_v',\n",
       " 'shr_dedx_v_v',\n",
       " 'shr_dedx_y_v',\n",
       " 'shr_energy_u_v',\n",
       " 'shr_energy_v_v',\n",
       " 'shr_energy_y_v',\n",
       " 'shr_pfp_id_v',\n",
       " 'shr_start_x_v',\n",
       " 'shr_start_y_v',\n",
       " 'shr_start_z_v',\n",
       " 'shr_start_U_v',\n",
       " 'shr_start_V_v',\n",
       " 'shr_dist_v',\n",
       " 'shr_nclus_v',\n",
       " 'shr_clushitfrac_v',\n",
       " 'shr_px_v',\n",
       " 'shr_py_v',\n",
       " 'shr_pz_v',\n",
       " 'shr_openangle_v',\n",
       " 'shr_theta_v',\n",
       " 'shr_phi_v',\n",
       " 'shr_tkfit_nhits_v',\n",
       " 'shr_tkfit_start_x_v',\n",
       " 'shr_tkfit_start_y_v',\n",
       " 'shr_tkfit_start_z_v',\n",
       " 'shr_tkfit_start_U_v',\n",
       " 'shr_tkfit_start_V_v',\n",
       " 'shr_tkfit_theta_v',\n",
       " 'shr_tkfit_phi_v',\n",
       " 'shr_tkfit_dedx_u_v',\n",
       " 'shr_tkfit_dedx_v_v',\n",
       " 'shr_tkfit_dedx_y_v',\n",
       " 'shr_tkfit_dedx_nhits_u_v',\n",
       " 'shr_tkfit_dedx_nhits_v_v',\n",
       " 'shr_tkfit_dedx_nhits_y_v',\n",
       " 'shr_spacepoint_start_x_v',\n",
       " 'shr_spacepoint_start_y_v',\n",
       " 'shr_spacepoint_start_z_v',\n",
       " 'shr_spacepoint_start_U_v',\n",
       " 'shr_spacepoint_start_V_v',\n",
       " 'shr_hits_start_U_wire_v',\n",
       " 'shr_hits_start_U_x_v',\n",
       " 'shr_hits_start_V_wire_v',\n",
       " 'shr_hits_start_V_x_v',\n",
       " 'shr_hits_start_Y_wire_v',\n",
       " 'shr_hits_start_Y_x_v']"
      ]
     },
     "execution_count": 12,
     "metadata": {},
     "output_type": "execute_result"
    },
    {
     "data": {
      "application/javascript": [
       "\n",
       "            setTimeout(function() {\n",
       "                var nbb_cell_id = 12;\n",
       "                var nbb_formatted_code = \"shr_fields\";\n",
       "                var nbb_cells = Jupyter.notebook.get_cells();\n",
       "                for (var i = 0; i < nbb_cells.length; ++i) {\n",
       "                    if (nbb_cells[i].input_prompt_number == nbb_cell_id) {\n",
       "                        nbb_cells[i].set_text(nbb_formatted_code);\n",
       "                        break;\n",
       "                    }\n",
       "                }\n",
       "            }, 500);\n",
       "            "
      ],
      "text/plain": [
       "<IPython.core.display.Javascript object>"
      ]
     },
     "metadata": {},
     "output_type": "display_data"
    }
   ],
   "source": [
    "shr_fields"
   ]
  },
  {
   "cell_type": "code",
   "execution_count": 13,
   "metadata": {
    "scrolled": true
   },
   "outputs": [
    {
     "data": {
      "text/plain": [
       "['backtracked_pdg',\n",
       " 'backtracked_e',\n",
       " 'backtracked_purity',\n",
       " 'backtracked_completeness',\n",
       " 'backtracked_overlay_purity',\n",
       " 'backtracked_px',\n",
       " 'backtracked_py',\n",
       " 'backtracked_pz',\n",
       " 'backtracked_start_x',\n",
       " 'backtracked_start_y',\n",
       " 'backtracked_start_z',\n",
       " 'backtracked_start_t',\n",
       " 'backtracked_start_U',\n",
       " 'backtracked_start_V',\n",
       " 'backtracked_start_Y',\n",
       " 'backtracked_sce_start_x',\n",
       " 'backtracked_sce_start_y',\n",
       " 'backtracked_sce_start_z',\n",
       " 'backtracked_sce_start_U',\n",
       " 'backtracked_sce_start_V',\n",
       " 'backtracked_sce_start_Y']"
      ]
     },
     "execution_count": 13,
     "metadata": {},
     "output_type": "execute_result"
    },
    {
     "data": {
      "application/javascript": [
       "\n",
       "            setTimeout(function() {\n",
       "                var nbb_cell_id = 13;\n",
       "                var nbb_formatted_code = \"backracked_fields\";\n",
       "                var nbb_cells = Jupyter.notebook.get_cells();\n",
       "                for (var i = 0; i < nbb_cells.length; ++i) {\n",
       "                    if (nbb_cells[i].input_prompt_number == nbb_cell_id) {\n",
       "                        nbb_cells[i].set_text(nbb_formatted_code);\n",
       "                        break;\n",
       "                    }\n",
       "                }\n",
       "            }, 500);\n",
       "            "
      ],
      "text/plain": [
       "<IPython.core.display.Javascript object>"
      ]
     },
     "metadata": {},
     "output_type": "display_data"
    }
   ],
   "source": [
    "backracked_fields"
   ]
  },
  {
   "cell_type": "code",
   "execution_count": 14,
   "metadata": {
    "scrolled": true
   },
   "outputs": [
    {
     "data": {
      "text/plain": [
       "{'CosmicIP',\n",
       " 'bdt_cosmic',\n",
       " 'bdt_ext',\n",
       " 'bdt_global',\n",
       " 'bdt_nuNCpi0',\n",
       " 'bdt_numuCC',\n",
       " 'bdt_numuCCpi0',\n",
       " 'best_cosmic_flashmatch_score',\n",
       " 'best_obviouscosmic_flashmatch_score',\n",
       " 'category',\n",
       " 'ccnc',\n",
       " 'contained_fraction',\n",
       " 'cosmic_flashmatch_score_v',\n",
       " 'crthitpe',\n",
       " 'crtveto',\n",
       " 'dmc_boundary',\n",
       " 'dshr_boundary',\n",
       " 'dshr_x_boundary',\n",
       " 'dshr_y_boundary',\n",
       " 'dshr_z_boundary',\n",
       " 'dtrk',\n",
       " 'dtrk_boundary',\n",
       " 'dtrk_x_boundary',\n",
       " 'dtrk_y_boundary',\n",
       " 'dtrk_z_boundary',\n",
       " 'dvtx',\n",
       " 'dvtx_boundary',\n",
       " 'dvtx_x_boundary',\n",
       " 'dvtx_y_boundary',\n",
       " 'dvtx_z_boundary',\n",
       " 'elec_c',\n",
       " 'elec_dist',\n",
       " 'elec_e',\n",
       " 'elec_edep',\n",
       " 'elec_etot',\n",
       " 'elec_p',\n",
       " 'elec_parent',\n",
       " 'elec_vx',\n",
       " 'elec_vy',\n",
       " 'elec_vz',\n",
       " 'endmuonmichel',\n",
       " 'endmuonprocess',\n",
       " 'evgamnhits',\n",
       " 'evlepnhits',\n",
       " 'evneunhits',\n",
       " 'evnhits',\n",
       " 'evnunhits',\n",
       " 'evothnhits',\n",
       " 'evpi0nhits',\n",
       " 'evpi1nhits',\n",
       " 'evpronhits',\n",
       " 'evt',\n",
       " 'extra_energy_y',\n",
       " 'frac_slnoise_pl1',\n",
       " 'gamma1_edep',\n",
       " 'gamma1_etot',\n",
       " 'gamma2_edep',\n",
       " 'gamma2_etot',\n",
       " 'gamma_dist',\n",
       " 'gamma_edep',\n",
       " 'gamma_etot',\n",
       " 'gamma_parent',\n",
       " 'hits_ratio',\n",
       " 'hits_u',\n",
       " 'hits_v',\n",
       " 'hits_y',\n",
       " 'interaction',\n",
       " 'isVtxInActive',\n",
       " 'isVtxInFiducial',\n",
       " 'leeweight',\n",
       " 'lep_e',\n",
       " 'matched_E',\n",
       " 'muon_c',\n",
       " 'muon_e',\n",
       " 'muon_p',\n",
       " 'n_pfps',\n",
       " 'n_showers',\n",
       " 'n_showers_contained',\n",
       " 'n_tracks',\n",
       " 'n_tracks_contained',\n",
       " 'nelec',\n",
       " 'nflag_pl1',\n",
       " 'nhits_pl1',\n",
       " 'nmuon',\n",
       " 'nneutron',\n",
       " 'nnoise_pl1',\n",
       " 'npi0',\n",
       " 'npion',\n",
       " 'nproton',\n",
       " 'nslhits_pl1',\n",
       " 'nslice',\n",
       " 'nslnoise_pl1',\n",
       " 'nu_e',\n",
       " 'nu_flashmatch_score',\n",
       " 'nu_pdg',\n",
       " 'nu_pt',\n",
       " 'nu_sce_x',\n",
       " 'nu_sce_y',\n",
       " 'nu_sce_z',\n",
       " 'nu_vtx_x',\n",
       " 'nu_vtx_y',\n",
       " 'nu_vtx_z',\n",
       " 'p',\n",
       " 'pass',\n",
       " 'pfgamnhits',\n",
       " 'pflepnhits',\n",
       " 'pfneunhits',\n",
       " 'pfnhits',\n",
       " 'pfnplanehits_U',\n",
       " 'pfnplanehits_V',\n",
       " 'pfnplanehits_Y',\n",
       " 'pfnunhits',\n",
       " 'pfothnhits',\n",
       " 'pfp_slice_idx',\n",
       " 'pfpdg',\n",
       " 'pfpi0nhits',\n",
       " 'pfpi1nhits',\n",
       " 'pfpronhits',\n",
       " 'pi0_c',\n",
       " 'pi0_e',\n",
       " 'pi0_p',\n",
       " 'pion_c',\n",
       " 'pion_e',\n",
       " 'pion_p',\n",
       " 'proton_c',\n",
       " 'proton_e',\n",
       " 'proton_p',\n",
       " 'pt',\n",
       " 'reco_nu_vtx_sce_x',\n",
       " 'reco_nu_vtx_sce_y',\n",
       " 'reco_nu_vtx_sce_z',\n",
       " 'reco_nu_vtx_x',\n",
       " 'reco_nu_vtx_y',\n",
       " 'reco_nu_vtx_z',\n",
       " 'run',\n",
       " 'selected',\n",
       " 'shr_bkt_E',\n",
       " 'shr_bkt_completeness',\n",
       " 'shr_bkt_pdg',\n",
       " 'shr_bkt_purity',\n",
       " 'shr_bragg_kaon',\n",
       " 'shr_bragg_mip',\n",
       " 'shr_bragg_mu',\n",
       " 'shr_bragg_p',\n",
       " 'shr_bragg_pion',\n",
       " 'shr_chimu',\n",
       " 'shr_chipr',\n",
       " 'shr_dedx_U',\n",
       " 'shr_dedx_U_cali',\n",
       " 'shr_dedx_V',\n",
       " 'shr_dedx_V_cali',\n",
       " 'shr_dedx_Y',\n",
       " 'shr_dedx_Y_cali',\n",
       " 'shr_distance',\n",
       " 'shr_energy',\n",
       " 'shr_energy_cali',\n",
       " 'shr_energy_tot',\n",
       " 'shr_energy_tot_cali',\n",
       " 'shr_hits_max',\n",
       " 'shr_hits_tot',\n",
       " 'shr_hits_u_tot',\n",
       " 'shr_hits_v_tot',\n",
       " 'shr_hits_y_tot',\n",
       " 'shr_id',\n",
       " 'shr_openangle',\n",
       " 'shr_pca_0',\n",
       " 'shr_pca_1',\n",
       " 'shr_pca_2',\n",
       " 'shr_phi',\n",
       " 'shr_px',\n",
       " 'shr_py',\n",
       " 'shr_pz',\n",
       " 'shr_score',\n",
       " 'shr_start_x',\n",
       " 'shr_start_y',\n",
       " 'shr_start_z',\n",
       " 'shr_theta',\n",
       " 'shr_tkfit_dedx_U',\n",
       " 'shr_tkfit_dedx_V',\n",
       " 'shr_tkfit_dedx_Y',\n",
       " 'shr_tkfit_nhits_U',\n",
       " 'shr_tkfit_nhits_V',\n",
       " 'shr_tkfit_nhits_Y',\n",
       " 'shr_tkfit_phi',\n",
       " 'shr_tkfit_start_x',\n",
       " 'shr_tkfit_start_y',\n",
       " 'shr_tkfit_start_z',\n",
       " 'shr_tkfit_theta',\n",
       " 'slclustfrac',\n",
       " 'slgamnhits',\n",
       " 'sllepnhits',\n",
       " 'slneunhits',\n",
       " 'slnhits',\n",
       " 'slnunhits',\n",
       " 'slothnhits',\n",
       " 'slpdg',\n",
       " 'slpi0nhits',\n",
       " 'slpi1nhits',\n",
       " 'slpronhits',\n",
       " 'sub',\n",
       " 'swtrig',\n",
       " 'theta',\n",
       " 'tksh_angle',\n",
       " 'tksh_distance',\n",
       " 'topological_score',\n",
       " 'total_hits_y',\n",
       " 'trk_bkt_E',\n",
       " 'trk_bkt_completeness',\n",
       " 'trk_bkt_pdg',\n",
       " 'trk_bkt_purity',\n",
       " 'trk_bragg_kaon',\n",
       " 'trk_bragg_mip',\n",
       " 'trk_bragg_mu',\n",
       " 'trk_bragg_p',\n",
       " 'trk_bragg_pion',\n",
       " 'trk_chimu',\n",
       " 'trk_chipr',\n",
       " 'trk_chipr_best',\n",
       " 'trk_chipr_worst',\n",
       " 'trk_distance',\n",
       " 'trk_energy',\n",
       " 'trk_energy_hits_tot',\n",
       " 'trk_energy_tot',\n",
       " 'trk_hits_max',\n",
       " 'trk_hits_tot',\n",
       " 'trk_hits_u_tot',\n",
       " 'trk_hits_v_tot',\n",
       " 'trk_hits_y_tot',\n",
       " 'trk_id',\n",
       " 'trk_len',\n",
       " 'trk_phi',\n",
       " 'trk_pida',\n",
       " 'trk_score',\n",
       " 'trk_theta',\n",
       " 'vtx_x',\n",
       " 'vtx_y',\n",
       " 'vtx_z',\n",
       " 'weightSpline',\n",
       " 'weights',\n",
       " 'weightsFlux',\n",
       " 'weightsGenie',\n",
       " 'weightsReint',\n",
       " 'xsceoffset',\n",
       " 'xtimeoffset',\n",
       " 'ysceoffset',\n",
       " 'zsceoffset'}"
      ]
     },
     "execution_count": 14,
     "metadata": {},
     "output_type": "execute_result"
    },
    {
     "data": {
      "application/javascript": [
       "\n",
       "            setTimeout(function() {\n",
       "                var nbb_cell_id = 14;\n",
       "                var nbb_formatted_code = \"other_fields\";\n",
       "                var nbb_cells = Jupyter.notebook.get_cells();\n",
       "                for (var i = 0; i < nbb_cells.length; ++i) {\n",
       "                    if (nbb_cells[i].input_prompt_number == nbb_cell_id) {\n",
       "                        nbb_cells[i].set_text(nbb_formatted_code);\n",
       "                        break;\n",
       "                    }\n",
       "                }\n",
       "            }, 500);\n",
       "            "
      ],
      "text/plain": [
       "<IPython.core.display.Javascript object>"
      ]
     },
     "metadata": {},
     "output_type": "display_data"
    }
   ],
   "source": [
    "other_fields"
   ]
  },
  {
   "cell_type": "code",
   "execution_count": 15,
   "metadata": {},
   "outputs": [
    {
     "data": {
      "text/plain": [
       "['n_tracks_contained', 'n_showers_contained', 'contained_fraction']"
      ]
     },
     "execution_count": 15,
     "metadata": {},
     "output_type": "execute_result"
    },
    {
     "data": {
      "application/javascript": [
       "\n",
       "            setTimeout(function() {\n",
       "                var nbb_cell_id = 15;\n",
       "                var nbb_formatted_code = \"# search through fields:\\n[f for f in fields if \\\"con\\\" in f]\";\n",
       "                var nbb_cells = Jupyter.notebook.get_cells();\n",
       "                for (var i = 0; i < nbb_cells.length; ++i) {\n",
       "                    if (nbb_cells[i].input_prompt_number == nbb_cell_id) {\n",
       "                        nbb_cells[i].set_text(nbb_formatted_code);\n",
       "                        break;\n",
       "                    }\n",
       "                }\n",
       "            }, 500);\n",
       "            "
      ],
      "text/plain": [
       "<IPython.core.display.Javascript object>"
      ]
     },
     "metadata": {},
     "output_type": "display_data"
    }
   ],
   "source": [
    "# search through fields:\n",
    "[f for f in fields if \"con\" in f]"
   ]
  },
  {
   "cell_type": "markdown",
   "metadata": {},
   "source": [
    "### Add fields"
   ]
  },
  {
   "cell_type": "code",
   "execution_count": 16,
   "metadata": {},
   "outputs": [
    {
     "name": "stdout",
     "output_type": "stream",
     "text": [
      "CPU times: user 2.89 s, sys: 88 ms, total: 2.98 s\n",
      "Wall time: 1.93 s\n"
     ]
    },
    {
     "data": {
      "application/javascript": [
       "\n",
       "            setTimeout(function() {\n",
       "                var nbb_cell_id = 16;\n",
       "                var nbb_formatted_code = \"%%time\\n# For all samples\\nfor k, v in sample_info.items():\\n    # Add fiducial reco sce vtx\\n    v[\\\"daughters\\\"][\\\"reco_fid_vol\\\"] = np.repeat(\\n        helper.is_fid(\\n            *v[\\\"daughters\\\"][\\n                [\\\"reco_nu_vtx_sce_x\\\", \\\"reco_nu_vtx_sce_y\\\", \\\"reco_nu_vtx_sce_z\\\"]\\n            ]\\n            .xs(0, level=\\\"daughter\\\")\\n            .values.T\\n        ),\\n        v[\\\"daughters\\\"][\\\"n_pfps\\\"].xs(0, level=\\\"daughter\\\"),\\n    )\\n    # Add maxangle\\n    # Todo\\n    # a.distinct(b, nested=True)\\n    \\n    # Add electron candidate check\\n    e_cand_str = 'pfnplanehits_U>0 & pfnplanehits_V>0 & pfnplanehits_Y>0 & trk_score_v<@max_trk_score & shr_tkfit_dedx_nhits_y_v>0'    \\n    data = v[\\\"daughters\\\"][\\n                [\\n                    \\\"pfnplanehits_U\\\", \\\"pfnplanehits_V\\\", \\\"pfnplanehits_Y\\\",\\n                    \\\"trk_score_v\\\",'shr_tkfit_dedx_nhits_y_v',\\n                    \\\"shr_energy_y_v\\\",\\n                ]\\n            ]\\n    electron_candidate = data.eval(e_cand_str)\\n    e_cand_maxe = data[electron_candidate][\\\"shr_energy_y_v\\\"].groupby(\\\"event\\\").transform(max) == data[electron_candidate][\\\"shr_energy_y_v\\\"]\\n    v[\\\"daughters\\\"][\\\"e_candidate\\\"] = False\\n    v[\\\"daughters\\\"].loc[e_cand_maxe[e_cand_maxe == True].index, \\\"e_candidate\\\"] = True\\n    # Add dedx for plane with most hits:\\n    dedx_cols = [\\\"shr_tkfit_dedx_u_v\\\",\\n                    \\\"shr_tkfit_dedx_v_v\\\",\\n                    \\\"shr_tkfit_dedx_y_v\\\",\\n                    'shr_tkfit_nhits_v',\\n                    \\\"shr_tkfit_dedx_nhits_u_v\\\",\\n                    \\\"shr_tkfit_dedx_nhits_v_v\\\",\\n                    \\\"shr_tkfit_dedx_nhits_y_v\\\"]\\n    v[\\\"daughters\\\"][dedx_cols]=v[\\\"daughters\\\"][dedx_cols].clip(lower=0)\\n    str_dedx_weighted_mean='(shr_tkfit_dedx_u_v*shr_tkfit_dedx_nhits_u_v+shr_tkfit_dedx_v_v*shr_tkfit_dedx_nhits_v_v+shr_tkfit_dedx_y_v*shr_tkfit_dedx_nhits_y_v)/(shr_tkfit_dedx_nhits_u_v+shr_tkfit_dedx_nhits_v_v+shr_tkfit_dedx_nhits_y_v)'\\n    v[\\\"daughters\\\"]['shr_tkfit_dedx_wm_v']= v[\\\"daughters\\\"].eval(str_dedx_weighted_mean)\\n    # Add weigthed pid chi mu/pr:\\n    pid_chi_cols = [\\\"trk_pid_chipr_v\\\",\\n    \\\"trk_pid_chimu_v\\\",\\n    \\\"trk_pid_chipr_v_v\\\",\\n    \\\"trk_pid_chimu_v_v\\\",\\n    \\\"trk_pid_chipr_u_v\\\",\\n    \\\"trk_pid_chimu_u_v\\\"]\\n    v[\\\"daughters\\\"][pid_chi_cols]=v[\\\"daughters\\\"][pid_chi_cols].clip(upper=pid_upper_clip)\\n    str_pidmu_weighted_mean='(trk_pid_chimu_v*pfnplanehits_Y+trk_pid_chimu_v_v*pfnplanehits_V+trk_pid_chimu_u_v*pfnplanehits_U)/pfnhits'\\n    v[\\\"daughters\\\"]['trk_pid_chimu_wm_v']= v[\\\"daughters\\\"].eval(str_pidmu_weighted_mean)\\n    str_pidpr_weighted_mean='(trk_pid_chipr_v*pfnplanehits_Y+trk_pid_chipr_v_v*pfnplanehits_V+trk_pid_chipr_u_v*pfnplanehits_U)/pfnhits'\\n    v[\\\"daughters\\\"]['trk_pid_chipr_wm_v']= v[\\\"daughters\\\"].eval(str_pidpr_weighted_mean)\\n    # Add the number of hits per length:\\n    v[\\\"daughters\\\"]['hits_per_tklen']= v[\\\"daughters\\\"].eval('pfnhits/trk_len_v')\\n    \\n    # Drop columns I do not need anymore:\\n    drop_cols = [\\n    \\\"pfnplanehits_U\\\",\\n    \\\"pfnplanehits_V\\\",\\n    \\\"pfnplanehits_Y\\\",\\n    'pfnhits',\\n    \\\"shr_tkfit_dedx_u_v\\\",\\n    \\\"shr_tkfit_dedx_v_v\\\",\\n    \\\"shr_tkfit_nhits_v\\\",\\n    \\\"shr_tkfit_dedx_nhits_u_v\\\",\\n    \\\"shr_tkfit_dedx_nhits_v_v\\\",    \\n    \\\"trk_pid_chipr_v_v\\\",\\n    \\\"trk_pid_chimu_v_v\\\",\\n    \\\"trk_pid_chipr_u_v\\\",\\n    \\\"trk_pid_chimu_u_v\\\",\\n]\\nfor c in drop_cols:\\n    if c in v[\\\"daughters\\\"].columns:\\n        v[\\\"daughters\\\"].drop(c, inplace=True, axis=1)\\n    else:\\n        print(c, \\\" was not in dataframe!\\\")\";\n",
       "                var nbb_cells = Jupyter.notebook.get_cells();\n",
       "                for (var i = 0; i < nbb_cells.length; ++i) {\n",
       "                    if (nbb_cells[i].input_prompt_number == nbb_cell_id) {\n",
       "                        nbb_cells[i].set_text(nbb_formatted_code);\n",
       "                        break;\n",
       "                    }\n",
       "                }\n",
       "            }, 500);\n",
       "            "
      ],
      "text/plain": [
       "<IPython.core.display.Javascript object>"
      ]
     },
     "metadata": {},
     "output_type": "display_data"
    }
   ],
   "source": [
    "%%time\n",
    "# For all samples\n",
    "for k, v in sample_info.items():\n",
    "    # Add fiducial reco sce vtx\n",
    "    v[\"daughters\"][\"reco_fid_vol\"] = np.repeat(\n",
    "        helper.is_fid(\n",
    "            *v[\"daughters\"][\n",
    "                [\"reco_nu_vtx_sce_x\", \"reco_nu_vtx_sce_y\", \"reco_nu_vtx_sce_z\"]\n",
    "            ]\n",
    "            .xs(0, level=\"daughter\")\n",
    "            .values.T\n",
    "        ),\n",
    "        v[\"daughters\"][\"n_pfps\"].xs(0, level=\"daughter\"),\n",
    "    )\n",
    "    # Add maxangle\n",
    "    # Todo\n",
    "    # a.distinct(b, nested=True)\n",
    "    \n",
    "    # Add electron candidate check\n",
    "    e_cand_str = 'pfnplanehits_U>0 & pfnplanehits_V>0 & pfnplanehits_Y>0 & trk_score_v<@max_trk_score & shr_tkfit_dedx_nhits_y_v>0'    \n",
    "    data = v[\"daughters\"][\n",
    "                [\n",
    "                    \"pfnplanehits_U\", \"pfnplanehits_V\", \"pfnplanehits_Y\",\n",
    "                    \"trk_score_v\",'shr_tkfit_dedx_nhits_y_v',\n",
    "                    \"shr_energy_y_v\",\n",
    "                ]\n",
    "            ]\n",
    "    electron_candidate = data.eval(e_cand_str)\n",
    "    e_cand_maxe = data[electron_candidate][\"shr_energy_y_v\"].groupby(\"event\").transform(max) == data[electron_candidate][\"shr_energy_y_v\"]\n",
    "    v[\"daughters\"][\"e_candidate\"] = False\n",
    "    v[\"daughters\"].loc[e_cand_maxe[e_cand_maxe == True].index, \"e_candidate\"] = True\n",
    "    # Add dedx for plane with most hits:\n",
    "    dedx_cols = [\"shr_tkfit_dedx_u_v\",\n",
    "                    \"shr_tkfit_dedx_v_v\",\n",
    "                    \"shr_tkfit_dedx_y_v\",\n",
    "                    'shr_tkfit_nhits_v',\n",
    "                    \"shr_tkfit_dedx_nhits_u_v\",\n",
    "                    \"shr_tkfit_dedx_nhits_v_v\",\n",
    "                    \"shr_tkfit_dedx_nhits_y_v\"]\n",
    "    v[\"daughters\"][dedx_cols]=v[\"daughters\"][dedx_cols].clip(lower=0)\n",
    "    str_dedx_weighted_mean='(shr_tkfit_dedx_u_v*shr_tkfit_dedx_nhits_u_v+shr_tkfit_dedx_v_v*shr_tkfit_dedx_nhits_v_v+shr_tkfit_dedx_y_v*shr_tkfit_dedx_nhits_y_v)/(shr_tkfit_dedx_nhits_u_v+shr_tkfit_dedx_nhits_v_v+shr_tkfit_dedx_nhits_y_v)'\n",
    "    v[\"daughters\"]['shr_tkfit_dedx_wm_v']= v[\"daughters\"].eval(str_dedx_weighted_mean)\n",
    "    # Add weigthed pid chi mu/pr:\n",
    "    pid_chi_cols = [\"trk_pid_chipr_v\",\n",
    "    \"trk_pid_chimu_v\",\n",
    "    \"trk_pid_chipr_v_v\",\n",
    "    \"trk_pid_chimu_v_v\",\n",
    "    \"trk_pid_chipr_u_v\",\n",
    "    \"trk_pid_chimu_u_v\"]\n",
    "    v[\"daughters\"][pid_chi_cols]=v[\"daughters\"][pid_chi_cols].clip(upper=pid_upper_clip)\n",
    "    str_pidmu_weighted_mean='(trk_pid_chimu_v*pfnplanehits_Y+trk_pid_chimu_v_v*pfnplanehits_V+trk_pid_chimu_u_v*pfnplanehits_U)/pfnhits'\n",
    "    v[\"daughters\"]['trk_pid_chimu_wm_v']= v[\"daughters\"].eval(str_pidmu_weighted_mean)\n",
    "    str_pidpr_weighted_mean='(trk_pid_chipr_v*pfnplanehits_Y+trk_pid_chipr_v_v*pfnplanehits_V+trk_pid_chipr_u_v*pfnplanehits_U)/pfnhits'\n",
    "    v[\"daughters\"]['trk_pid_chipr_wm_v']= v[\"daughters\"].eval(str_pidpr_weighted_mean)\n",
    "    # Add the number of hits per length:\n",
    "    v[\"daughters\"]['hits_per_tklen']= v[\"daughters\"].eval('pfnhits/trk_len_v')\n",
    "    \n",
    "    # Drop columns I do not need anymore:\n",
    "    drop_cols = [\n",
    "    \"pfnplanehits_U\",\n",
    "    \"pfnplanehits_V\",\n",
    "    \"pfnplanehits_Y\",\n",
    "    'pfnhits',\n",
    "    \"shr_tkfit_dedx_u_v\",\n",
    "    \"shr_tkfit_dedx_v_v\",\n",
    "    \"shr_tkfit_nhits_v\",\n",
    "    \"shr_tkfit_dedx_nhits_u_v\",\n",
    "    \"shr_tkfit_dedx_nhits_v_v\",    \n",
    "    \"trk_pid_chipr_v_v\",\n",
    "    \"trk_pid_chimu_v_v\",\n",
    "    \"trk_pid_chipr_u_v\",\n",
    "    \"trk_pid_chimu_u_v\",\n",
    "]\n",
    "for c in drop_cols:\n",
    "    if c in v[\"daughters\"].columns:\n",
    "        v[\"daughters\"].drop(c, inplace=True, axis=1)\n",
    "    else:\n",
    "        print(c, \" was not in dataframe!\")"
   ]
  },
  {
   "cell_type": "code",
   "execution_count": 17,
   "metadata": {
    "scrolled": false
   },
   "outputs": [
    {
     "name": "stderr",
     "output_type": "stream",
     "text": [
      "/home/wouter/Binaries/miniconda3/envs/uproot/lib/python3.7/site-packages/numpy/linalg/linalg.py:2512: RuntimeWarning: overflow encountered in multiply\n",
      "  s = (x.conj() * x).real\n"
     ]
    },
    {
     "name": "stdout",
     "output_type": "stream",
     "text": [
      "CPU times: user 2.25 s, sys: 252 ms, total: 2.5 s\n",
      "Wall time: 1.38 s\n"
     ]
    },
    {
     "data": {
      "application/javascript": [
       "\n",
       "            setTimeout(function() {\n",
       "                var nbb_cell_id = 17;\n",
       "                var nbb_formatted_code = \"%%time\\n# For MC samples\\nfor k, v in sample_info.items():\\n    if k in helper.mc_samples:\\n        \\n        # Correct the LEE weight using the splineweight\\n        v['daughters'][\\\"leeweight\\\"]*=v['daughters'][\\\"weightSpline\\\"]\\n        \\n        # Add distance between reco_sce and true vertex\\n        data = (\\n            v[\\\"daughters\\\"][\\n                [\\n                    \\\"reco_nu_vtx_sce_x\\\",\\n                    \\\"reco_nu_vtx_sce_y\\\",\\n                    \\\"reco_nu_vtx_sce_z\\\",\\n                    \\\"true_nu_vtx_x\\\",\\n                    \\\"true_nu_vtx_y\\\",\\n                    \\\"true_nu_vtx_z\\\",\\n                ]\\n            ]\\n            .xs(0, level=\\\"daughter\\\")\\n            .values.T\\n        )\\n        data[0]-=x_sce_magic # Correct x location for the 0.6 sign error\\n        \\n        v[\\\"daughters\\\"][\\\"true_vtx_distance\\\"] = np.repeat(\\n            np.linalg.norm(data[0:3] - data[3:6], axis=0),\\n            v[\\\"daughters\\\"][\\\"n_pfps\\\"].xs(0, level=\\\"daughter\\\"),\\n        )\\n        # Cross-check vtx distance\\n        data = (\\n            v[\\\"daughters\\\"][\\n                [\\n                    \\\"true_nu_vtx_sce_x\\\",\\n                    \\\"true_nu_vtx_sce_y\\\",\\n                    \\\"true_nu_vtx_sce_z\\\",\\n                    \\\"reco_nu_vtx_x\\\",\\n                    \\\"reco_nu_vtx_y\\\",\\n                    \\\"reco_nu_vtx_z\\\",\\n                ]\\n            ]\\n            .xs(0, level=\\\"daughter\\\")\\n            .values.T\\n        )\\n        v[\\\"daughters\\\"][\\\"true_vtx_distance_check\\\"] = np.repeat(\\n            np.linalg.norm(data[0:3] - data[3:6], axis=0),\\n            v[\\\"daughters\\\"][\\\"n_pfps\\\"].xs(0, level=\\\"daughter\\\"),\\n        )\\n        # Add the distance between the true neutrino vertex and the reconstructed shower start point\\n        data = (\\n            v[\\\"daughters\\\"][\\n                [\\n                    \\\"true_nu_vtx_sce_x\\\",\\n                    \\\"true_nu_vtx_sce_y\\\",\\n                    \\\"true_nu_vtx_sce_z\\\",\\n                    \\\"shr_tkfit_start_x_v\\\",\\n                    \\\"shr_tkfit_start_y_v\\\",\\n                    \\\"shr_tkfit_start_z_v\\\",\\n                ]\\n            ]\\n            .values.T\\n        )\\n        v[\\\"daughters\\\"][\\\"true_shower_distance\\\"] = np.linalg.norm(data[0:3] - data[3:6], axis=0)\\n        \\n        # Add the modified purity/completeness to account for overlay.\\n        overlay_mask = v[\\\"daughters\\\"].eval('backtracked_overlay_purity>backtracked_purity')\\n        v[\\\"daughters\\\"].loc[overlay_mask, 'backtracked_pdg'] = 0\\n        v[\\\"daughters\\\"].loc[overlay_mask, 'backtracked_purity'] = v[\\\"daughters\\\"].loc[overlay_mask, 'backtracked_overlay_purity']\\n        v[\\\"daughters\\\"].loc[overlay_mask, 'backtracked_completeness'] = 0\\n        \\n        # Drop some stuff you do not need anymore\\n        drop_cols = ['backtracked_overlay_purity',\\n                     \\\"true_nu_vtx_sce_y\\\",\\n                     \\\"true_nu_vtx_sce_z\\\",\\n                     \\\"reco_nu_vtx_y\\\",\\n                     \\\"reco_nu_vtx_z\\\"]\\n        for c in drop_cols:\\n            if c in v[\\\"daughters\\\"].columns:\\n                v[\\\"daughters\\\"].drop(c, inplace=True, axis=1)\\n            else:\\n                print(c, \\\" was not in dataframe!\\\")\";\n",
       "                var nbb_cells = Jupyter.notebook.get_cells();\n",
       "                for (var i = 0; i < nbb_cells.length; ++i) {\n",
       "                    if (nbb_cells[i].input_prompt_number == nbb_cell_id) {\n",
       "                        nbb_cells[i].set_text(nbb_formatted_code);\n",
       "                        break;\n",
       "                    }\n",
       "                }\n",
       "            }, 500);\n",
       "            "
      ],
      "text/plain": [
       "<IPython.core.display.Javascript object>"
      ]
     },
     "metadata": {},
     "output_type": "display_data"
    }
   ],
   "source": [
    "%%time\n",
    "# For MC samples\n",
    "for k, v in sample_info.items():\n",
    "    if k in helper.mc_samples:\n",
    "        \n",
    "        # Correct the LEE weight using the splineweight\n",
    "        v['daughters'][\"leeweight\"]*=v['daughters'][\"weightSpline\"]\n",
    "        \n",
    "        # Add distance between reco_sce and true vertex\n",
    "        data = (\n",
    "            v[\"daughters\"][\n",
    "                [\n",
    "                    \"reco_nu_vtx_sce_x\",\n",
    "                    \"reco_nu_vtx_sce_y\",\n",
    "                    \"reco_nu_vtx_sce_z\",\n",
    "                    \"true_nu_vtx_x\",\n",
    "                    \"true_nu_vtx_y\",\n",
    "                    \"true_nu_vtx_z\",\n",
    "                ]\n",
    "            ]\n",
    "            .xs(0, level=\"daughter\")\n",
    "            .values.T\n",
    "        )\n",
    "        data[0]-=x_sce_magic # Correct x location for the 0.6 sign error\n",
    "        \n",
    "        v[\"daughters\"][\"true_vtx_distance\"] = np.repeat(\n",
    "            np.linalg.norm(data[0:3] - data[3:6], axis=0),\n",
    "            v[\"daughters\"][\"n_pfps\"].xs(0, level=\"daughter\"),\n",
    "        )\n",
    "        # Cross-check vtx distance\n",
    "        data = (\n",
    "            v[\"daughters\"][\n",
    "                [\n",
    "                    \"true_nu_vtx_sce_x\",\n",
    "                    \"true_nu_vtx_sce_y\",\n",
    "                    \"true_nu_vtx_sce_z\",\n",
    "                    \"reco_nu_vtx_x\",\n",
    "                    \"reco_nu_vtx_y\",\n",
    "                    \"reco_nu_vtx_z\",\n",
    "                ]\n",
    "            ]\n",
    "            .xs(0, level=\"daughter\")\n",
    "            .values.T\n",
    "        )\n",
    "        v[\"daughters\"][\"true_vtx_distance_check\"] = np.repeat(\n",
    "            np.linalg.norm(data[0:3] - data[3:6], axis=0),\n",
    "            v[\"daughters\"][\"n_pfps\"].xs(0, level=\"daughter\"),\n",
    "        )\n",
    "        # Add the distance between the true neutrino vertex and the reconstructed shower start point\n",
    "        data = (\n",
    "            v[\"daughters\"][\n",
    "                [\n",
    "                    \"true_nu_vtx_sce_x\",\n",
    "                    \"true_nu_vtx_sce_y\",\n",
    "                    \"true_nu_vtx_sce_z\",\n",
    "                    \"shr_tkfit_start_x_v\",\n",
    "                    \"shr_tkfit_start_y_v\",\n",
    "                    \"shr_tkfit_start_z_v\",\n",
    "                ]\n",
    "            ]\n",
    "            .values.T\n",
    "        )\n",
    "        v[\"daughters\"][\"true_shower_distance\"] = np.linalg.norm(data[0:3] - data[3:6], axis=0)\n",
    "        \n",
    "        # Add the modified purity/completeness to account for overlay.\n",
    "        overlay_mask = v[\"daughters\"].eval('backtracked_overlay_purity>backtracked_purity')\n",
    "        v[\"daughters\"].loc[overlay_mask, 'backtracked_pdg'] = 0\n",
    "        v[\"daughters\"].loc[overlay_mask, 'backtracked_purity'] = v[\"daughters\"].loc[overlay_mask, 'backtracked_overlay_purity']\n",
    "        v[\"daughters\"].loc[overlay_mask, 'backtracked_completeness'] = 0\n",
    "        \n",
    "        # Drop some stuff you do not need anymore\n",
    "        drop_cols = ['backtracked_overlay_purity',\n",
    "                     \"true_nu_vtx_sce_y\",\n",
    "                     \"true_nu_vtx_sce_z\",\n",
    "                     \"reco_nu_vtx_y\",\n",
    "                     \"reco_nu_vtx_z\"]\n",
    "        for c in drop_cols:\n",
    "            if c in v[\"daughters\"].columns:\n",
    "                v[\"daughters\"].drop(c, inplace=True, axis=1)\n",
    "            else:\n",
    "                print(c, \" was not in dataframe!\")"
   ]
  },
  {
   "cell_type": "code",
   "execution_count": 18,
   "metadata": {},
   "outputs": [
    {
     "name": "stdout",
     "output_type": "stream",
     "text": [
      "CPU times: user 944 ms, sys: 84.1 ms, total: 1.03 s\n",
      "Wall time: 515 ms\n"
     ]
    },
    {
     "data": {
      "application/javascript": [
       "\n",
       "            setTimeout(function() {\n",
       "                var nbb_cell_id = 18;\n",
       "                var nbb_formatted_code = \"%%time\\n# For MC samples, fields needed as training labels:\\nfor k, v in sample_info.items():\\n    if k in helper.mc_samples:\\n        # Add training labels and weights\\n        e_cand = v[\\\"daughters\\\"]['e_candidate']\\n        e_good = v[\\\"daughters\\\"].eval('e_candidate & abs(backtracked_pdg)==11 & backtracked_purity>0.75 & backtracked_completeness>0.5')\\n        e_cand_bad = v[\\\"daughters\\\"].eval('e_candidate & abs(backtracked_pdg)!=11')\\n        other_bad = v[\\\"daughters\\\"].eval('~e_candidate & (abs(backtracked_pdg)==13) | backtracked_pdg==22 | backtracked_pdg==0')\\n        \\n        v[\\\"daughters\\\"]['train_weight'] = v[\\\"daughters\\\"][[\\\"weightSpline\\\",\\\"leeweight\\\"]].max(axis=1) # weight low energy electrons a bit higher\\n        v[\\\"daughters\\\"].loc[e_good, \\\"train_weight\\\"] *= 5 # can be tuned\\n        \\n        v[\\\"daughters\\\"]['train_label'] = True\\n        v[\\\"daughters\\\"].loc[e_cand_bad, \\\"train_label\\\"] = False\\n        v[\\\"daughters\\\"].loc[other_bad, \\\"train_label\\\"] = False\";\n",
       "                var nbb_cells = Jupyter.notebook.get_cells();\n",
       "                for (var i = 0; i < nbb_cells.length; ++i) {\n",
       "                    if (nbb_cells[i].input_prompt_number == nbb_cell_id) {\n",
       "                        nbb_cells[i].set_text(nbb_formatted_code);\n",
       "                        break;\n",
       "                    }\n",
       "                }\n",
       "            }, 500);\n",
       "            "
      ],
      "text/plain": [
       "<IPython.core.display.Javascript object>"
      ]
     },
     "metadata": {},
     "output_type": "display_data"
    }
   ],
   "source": [
    "%%time\n",
    "# For MC samples, fields needed as training labels:\n",
    "for k, v in sample_info.items():\n",
    "    if k in helper.mc_samples:\n",
    "        # Add training labels and weights\n",
    "        e_cand = v[\"daughters\"]['e_candidate']\n",
    "        e_good = v[\"daughters\"].eval('e_candidate & abs(backtracked_pdg)==11 & backtracked_purity>0.75 & backtracked_completeness>0.5')\n",
    "        e_cand_bad = v[\"daughters\"].eval('e_candidate & abs(backtracked_pdg)!=11')\n",
    "        other_bad = v[\"daughters\"].eval('~e_candidate & (abs(backtracked_pdg)==13) | backtracked_pdg==22 | backtracked_pdg==0')\n",
    "        \n",
    "        v[\"daughters\"]['train_weight'] = v[\"daughters\"][[\"weightSpline\",\"leeweight\"]].max(axis=1) # weight low energy electrons a bit higher\n",
    "        v[\"daughters\"].loc[e_good, \"train_weight\"] *= 5 # can be tuned\n",
    "        \n",
    "        v[\"daughters\"]['train_label'] = True\n",
    "        v[\"daughters\"].loc[e_cand_bad, \"train_label\"] = False\n",
    "        v[\"daughters\"].loc[other_bad, \"train_label\"] = False"
   ]
  },
  {
   "cell_type": "markdown",
   "metadata": {},
   "source": [
    "### Quality cuts / Pre-selection"
   ]
  },
  {
   "cell_type": "code",
   "execution_count": 19,
   "metadata": {},
   "outputs": [
    {
     "data": {
      "application/javascript": [
       "\n",
       "            setTimeout(function() {\n",
       "                var nbb_cell_id = 19;\n",
       "                var nbb_formatted_code = \"query_preselect = (\\n    \\\"e_candidate & reco_fid_vol & slclustfrac>@min_cluster_frac & ~crtveto\\\"\\n)\";\n",
       "                var nbb_cells = Jupyter.notebook.get_cells();\n",
       "                for (var i = 0; i < nbb_cells.length; ++i) {\n",
       "                    if (nbb_cells[i].input_prompt_number == nbb_cell_id) {\n",
       "                        nbb_cells[i].set_text(nbb_formatted_code);\n",
       "                        break;\n",
       "                    }\n",
       "                }\n",
       "            }, 500);\n",
       "            "
      ],
      "text/plain": [
       "<IPython.core.display.Javascript object>"
      ]
     },
     "metadata": {},
     "output_type": "display_data"
    }
   ],
   "source": [
    "query_preselect = (\n",
    "    \"e_candidate & reco_fid_vol & slclustfrac>@min_cluster_frac & ~crtveto\"\n",
    ")"
   ]
  },
  {
   "cell_type": "code",
   "execution_count": 20,
   "metadata": {
    "scrolled": false
   },
   "outputs": [
    {
     "name": "stdout",
     "output_type": "stream",
     "text": [
      "On \t3.39%\n",
      "Off \t1.74%\n",
      "MC \t8.96%\n",
      "NUE \t52.16%\n",
      "DRT \t1.36%\n",
      "Nue signal passing the preselection \t63.90%\n",
      "Nue Intrinsic signal passing: 84.291 per 1e+20 POT\n",
      "Nue LEE signal passing: 8.720 per 1e+20 POT\n"
     ]
    },
    {
     "name": "stderr",
     "output_type": "stream",
     "text": [
      "/home/wouter/Binaries/miniconda3/envs/uproot/lib/python3.7/site-packages/pandas/core/computation/expressions.py:194: UserWarning: evaluating in Python space because the '*' operator is not supported by numexpr for the bool dtype, use '&' instead\n",
      "  op=op_str, alt_op=unsupported[op_str]\n"
     ]
    },
    {
     "name": "stdout",
     "output_type": "stream",
     "text": [
      "Purity MC: 0.7%\n",
      "Data/MC-ratio: 1.01\n",
      "\n",
      "CPU times: user 1.23 s, sys: 12.1 ms, total: 1.24 s\n",
      "Wall time: 621 ms\n"
     ]
    },
    {
     "data": {
      "application/javascript": [
       "\n",
       "            setTimeout(function() {\n",
       "                var nbb_cell_id = 20;\n",
       "                var nbb_formatted_code = \"%%time\\n# Passing rate pre-selection\\nfor k, v in sample_info.items():\\n    v[\\\"daughters\\\"][\\\"preselect\\\"] = v[\\\"daughters\\\"].eval(\\n        query_preselect\\n    )\\n    v[\\\"daughters\\\"][\\\"preselect\\\"] = v[\\\"daughters\\\"][\\\"preselect\\\"].groupby(\\\"event\\\").transform(max)\\n    \\n    pass_rate = sum(v[\\\"daughters\\\"].eval(\\\"e_candidate & preselect\\\"))/v['numentries']\\n    print(k, \\\"\\\\t{:.2f}%\\\".format(pass_rate * 100))\\n    \\n# Passing rate signal, weights applied!\\npass_rate = sum(sample_info[\\\"NUE\\\"]['daughters'].eval('(e_candidate & preselect)*weightSpline*nueccinc'))/sum(sample_info[\\\"NUE\\\"][\\\"mc\\\"]['weightSpline']*signal_mask)\\nprint(\\\"Nue signal passing the preselection \\\\t{:.2f}%\\\".format(pass_rate * 100))\\nnue_pass = sum(sample_info[\\\"NUE\\\"]['daughters'].eval('(e_candidate & preselect)*nueccinc'))*sample_info[\\\"NUE\\\"]['scaling']*pot_scale\\nprint(\\\"Nue Intrinsic signal passing: {0:0.3f} per {1:0.2g} POT\\\".format(nue_pass,pot_target))\\nlee_pass = sum(sample_info[\\\"NUE\\\"]['daughters'].eval('(e_candidate & preselect)*leeweight*nueccinc'))*sample_info[\\\"NUE\\\"]['scaling']*pot_scale\\nprint(\\\"Nue LEE signal passing: {0:0.3f} per {1:0.2g} POT\\\".format(lee_pass,pot_target))\\n\\n## Calculate the purity:\\npurity_denom = (\\n    sum(sample_info[\\\"MC\\\"][\\\"daughters\\\"].eval(\\\"preselect*weightSpline\\\"))\\n    * sample_info[\\\"MC\\\"][\\\"scaling\\\"]\\n)\\npurity_denom += (\\n    sum(sample_info[\\\"DRT\\\"][\\\"daughters\\\"].eval(\\\"preselect*weightSpline\\\"))\\n    * sample_info[\\\"DRT\\\"][\\\"scaling\\\"]\\n)\\npurity_denom += (\\n    sum(sample_info[\\\"Off\\\"][\\\"daughters\\\"].eval(\\\"preselect\\\")) * sample_info[\\\"Off\\\"][\\\"scaling\\\"]\\n)\\n\\npurity_mc = (\\n    sum(sample_info[\\\"NUE\\\"][\\\"daughters\\\"].eval(\\\"preselect*weightSpline*nueccinc\\\"))\\n    * sample_info[\\\"NUE\\\"][\\\"scaling\\\"]\\n    / purity_denom\\n)\\npurity_data = (\\n    sum(sample_info[\\\"NUE\\\"][\\\"daughters\\\"].eval(\\\"preselect*weightSpline*nueccinc\\\"))\\n    * sample_info[\\\"NUE\\\"][\\\"scaling\\\"]\\n    / sum(sample_info[\\\"On\\\"][\\\"daughters\\\"].eval(\\\"preselect\\\"))\\n)\\nprint(\\n    \\\"Purity MC: {:.1f}%\\\\nData/MC-ratio: {:.2f}\\\\n\\\".format(\\n        purity_mc * 100,\\n        sum(sample_info[\\\"On\\\"][\\\"daughters\\\"].eval(\\\"preselect\\\")) / purity_denom,\\n    )\\n)\";\n",
       "                var nbb_cells = Jupyter.notebook.get_cells();\n",
       "                for (var i = 0; i < nbb_cells.length; ++i) {\n",
       "                    if (nbb_cells[i].input_prompt_number == nbb_cell_id) {\n",
       "                        nbb_cells[i].set_text(nbb_formatted_code);\n",
       "                        break;\n",
       "                    }\n",
       "                }\n",
       "            }, 500);\n",
       "            "
      ],
      "text/plain": [
       "<IPython.core.display.Javascript object>"
      ]
     },
     "metadata": {},
     "output_type": "display_data"
    }
   ],
   "source": [
    "%%time\n",
    "# Passing rate pre-selection\n",
    "for k, v in sample_info.items():\n",
    "    v[\"daughters\"][\"preselect\"] = v[\"daughters\"].eval(\n",
    "        query_preselect\n",
    "    )\n",
    "    v[\"daughters\"][\"preselect\"] = v[\"daughters\"][\"preselect\"].groupby(\"event\").transform(max)\n",
    "    \n",
    "    pass_rate = sum(v[\"daughters\"].eval(\"e_candidate & preselect\"))/v['numentries']\n",
    "    print(k, \"\\t{:.2f}%\".format(pass_rate * 100))\n",
    "    \n",
    "# Passing rate signal, weights applied!\n",
    "pass_rate = sum(sample_info[\"NUE\"]['daughters'].eval('(e_candidate & preselect)*weightSpline*nueccinc'))/sum(sample_info[\"NUE\"][\"mc\"]['weightSpline']*signal_mask)\n",
    "print(\"Nue signal passing the preselection \\t{:.2f}%\".format(pass_rate * 100))\n",
    "nue_pass = sum(sample_info[\"NUE\"]['daughters'].eval('(e_candidate & preselect)*nueccinc'))*sample_info[\"NUE\"]['scaling']*pot_scale\n",
    "print(\"Nue Intrinsic signal passing: {0:0.3f} per {1:0.2g} POT\".format(nue_pass,pot_target))\n",
    "lee_pass = sum(sample_info[\"NUE\"]['daughters'].eval('(e_candidate & preselect)*leeweight*nueccinc'))*sample_info[\"NUE\"]['scaling']*pot_scale\n",
    "print(\"Nue LEE signal passing: {0:0.3f} per {1:0.2g} POT\".format(lee_pass,pot_target))\n",
    "\n",
    "## Calculate the purity:\n",
    "purity_denom = (\n",
    "    sum(sample_info[\"MC\"][\"daughters\"].eval(\"preselect*weightSpline\"))\n",
    "    * sample_info[\"MC\"][\"scaling\"]\n",
    ")\n",
    "purity_denom += (\n",
    "    sum(sample_info[\"DRT\"][\"daughters\"].eval(\"preselect*weightSpline\"))\n",
    "    * sample_info[\"DRT\"][\"scaling\"]\n",
    ")\n",
    "purity_denom += (\n",
    "    sum(sample_info[\"Off\"][\"daughters\"].eval(\"preselect\")) * sample_info[\"Off\"][\"scaling\"]\n",
    ")\n",
    "\n",
    "purity_mc = (\n",
    "    sum(sample_info[\"NUE\"][\"daughters\"].eval(\"preselect*weightSpline*nueccinc\"))\n",
    "    * sample_info[\"NUE\"][\"scaling\"]\n",
    "    / purity_denom\n",
    ")\n",
    "purity_data = (\n",
    "    sum(sample_info[\"NUE\"][\"daughters\"].eval(\"preselect*weightSpline*nueccinc\"))\n",
    "    * sample_info[\"NUE\"][\"scaling\"]\n",
    "    / sum(sample_info[\"On\"][\"daughters\"].eval(\"preselect\"))\n",
    ")\n",
    "print(\n",
    "    \"Purity MC: {:.1f}%\\nData/MC-ratio: {:.2f}\\n\".format(\n",
    "        purity_mc * 100,\n",
    "        sum(sample_info[\"On\"][\"daughters\"].eval(\"preselect\")) / purity_denom,\n",
    "    )\n",
    ")"
   ]
  },
  {
   "cell_type": "markdown",
   "metadata": {},
   "source": [
    "### Machine Learning: Daughter training!"
   ]
  },
  {
   "cell_type": "code",
   "execution_count": 21,
   "metadata": {},
   "outputs": [
    {
     "data": {
      "application/javascript": [
       "\n",
       "            setTimeout(function() {\n",
       "                var nbb_cell_id = 21;\n",
       "                var nbb_formatted_code = \"col_train_electron = [\\n    \\\"topological_score\\\",\\n    \\\"n_showers\\\",\\n    \\\"n_tracks\\\",\\n    \\\"trk_score_v\\\",\\n    \\\"trk_len_v\\\",\\n    \\\"trk_pid_chipr_v\\\",\\n    \\\"trk_pid_chimu_v\\\",\\n    \\\"shr_dist_v\\\",\\n    \\\"shr_energy_y_v\\\",\\n    \\\"shr_openangle_v\\\",\\n    \\\"shr_tkfit_theta_v\\\",\\n    \\\"shr_tkfit_phi_v\\\",\\n    \\\"shr_tkfit_dedx_wm_v\\\",\\n    \\\"shr_tkfit_dedx_y_v\\\",\\n    \\\"shr_tkfit_dedx_nhits_y_v\\\",\\n    ##\\\"train_weight\\\",\\n    ##\\\"train_label\\\",\\n]\\ncol_train_other = [\\n    \\\"topological_score\\\",\\n    \\\"n_pfps\\\",\\n    \\\"n_showers\\\",\\n    \\\"n_tracks\\\",\\n    \\\"trk_score_v\\\",\\n    \\\"trk_distance_v\\\",\\n    \\\"trk_theta_v\\\",\\n    \\\"trk_phi_v\\\",\\n    \\\"trk_len_v\\\",\\n    \\\"trk_pid_chimu_wm_v\\\",\\n    \\\"trk_pid_chipr_wm_v\\\",\\n    \\\"shr_energy_y_v\\\",\\n    \\\"shr_openangle_v\\\",\\n    \\\"shr_tkfit_dedx_wm_v\\\",\\n    \\\"hits_per_tklen\\\"\\n    ##\\\"train_weight\\\",\\n    ##\\\"train_label\\\",\\n]\\n\\ncol_train_event = [\\n    \\\"topological_score\\\",\\n    \\\"n_showers\\\",\\n    \\\"n_tracks\\\",\\n    \\\"hits_ratio\\\",\\n    \\\"contained_fraction\\\",\\n    \\\"score\\\",\\n    \\\"score_other_max\\\",\\n    \\\"score_other_min\\\",\\n    \\\"score_other_mean\\\"\\n    # \\\"nu_flashmatch_score\\\",\\n    # maxangle\\n    ## nueccinc\\n    ## train_weight -> use the train weight of the electron candidate\\n]\";\n",
       "                var nbb_cells = Jupyter.notebook.get_cells();\n",
       "                for (var i = 0; i < nbb_cells.length; ++i) {\n",
       "                    if (nbb_cells[i].input_prompt_number == nbb_cell_id) {\n",
       "                        nbb_cells[i].set_text(nbb_formatted_code);\n",
       "                        break;\n",
       "                    }\n",
       "                }\n",
       "            }, 500);\n",
       "            "
      ],
      "text/plain": [
       "<IPython.core.display.Javascript object>"
      ]
     },
     "metadata": {},
     "output_type": "display_data"
    }
   ],
   "source": [
    "col_train_electron = [\n",
    "    \"topological_score\",\n",
    "    \"n_showers\",\n",
    "    \"n_tracks\",\n",
    "    \"trk_score_v\",\n",
    "    \"trk_len_v\",\n",
    "    \"trk_pid_chipr_v\",\n",
    "    \"trk_pid_chimu_v\",\n",
    "    \"shr_dist_v\",\n",
    "    \"shr_energy_y_v\",\n",
    "    \"shr_openangle_v\",\n",
    "    \"shr_tkfit_theta_v\",\n",
    "    \"shr_tkfit_phi_v\",\n",
    "    \"shr_tkfit_dedx_wm_v\",\n",
    "    \"shr_tkfit_dedx_y_v\",\n",
    "    \"shr_tkfit_dedx_nhits_y_v\",\n",
    "    ##\"train_weight\",\n",
    "    ##\"train_label\",\n",
    "]\n",
    "col_train_other = [\n",
    "    \"topological_score\",\n",
    "    \"n_pfps\",\n",
    "    \"n_showers\",\n",
    "    \"n_tracks\",\n",
    "    \"trk_score_v\",\n",
    "    \"trk_distance_v\",\n",
    "    \"trk_theta_v\",\n",
    "    \"trk_phi_v\",\n",
    "    \"trk_len_v\",\n",
    "    \"trk_pid_chimu_wm_v\",\n",
    "    \"trk_pid_chipr_wm_v\",\n",
    "    \"shr_energy_y_v\",\n",
    "    \"shr_openangle_v\",\n",
    "    \"shr_tkfit_dedx_wm_v\",\n",
    "    \"hits_per_tklen\"\n",
    "    ##\"train_weight\",\n",
    "    ##\"train_label\",\n",
    "]\n",
    "\n",
    "col_train_event = [\n",
    "    \"topological_score\",\n",
    "    \"n_showers\",\n",
    "    \"n_tracks\",\n",
    "    \"hits_ratio\",\n",
    "    \"contained_fraction\",\n",
    "    \"score\",\n",
    "    \"score_other_max\",\n",
    "    \"score_other_min\",\n",
    "    \"score_other_mean\"\n",
    "    # \"nu_flashmatch_score\",\n",
    "    # maxangle\n",
    "    ## nueccinc\n",
    "    ## train_weight -> use the train weight of the electron candidate\n",
    "]"
   ]
  },
  {
   "cell_type": "markdown",
   "metadata": {},
   "source": [
    "#### Electron training"
   ]
  },
  {
   "cell_type": "code",
   "execution_count": 22,
   "metadata": {},
   "outputs": [
    {
     "data": {
      "application/javascript": [
       "\n",
       "            setTimeout(function() {\n",
       "                var nbb_cell_id = 22;\n",
       "                var nbb_formatted_code = \"train_q = \\\"preselect & e_candidate\\\"\\nX = sample_info[\\\"NUE\\\"][\\\"daughters\\\"].query(train_q)[col_train_electron]\\nY = sample_info[\\\"NUE\\\"][\\\"daughters\\\"].query(train_q)[[\\\"train_label\\\", \\\"train_weight\\\"]]\\nXnue_train, Xnue_test, ynue_train, ynue_test = train_test_split(\\n    X, Y, test_size=test_size, random_state=seed\\n)\\nX = sample_info[\\\"MC\\\"][\\\"daughters\\\"].query(train_q)[col_train_electron]\\nY = sample_info[\\\"MC\\\"][\\\"daughters\\\"].query(train_q)[[\\\"train_label\\\", \\\"train_weight\\\"]]\\nXmc_train, Xmc_test, ymc_train, ymc_test = train_test_split(\\n    X, Y, test_size=test_size, random_state=seed\\n)\\n# Merge our two samples\\nX_train = pd.concat([Xmc_train, Xnue_train]).reset_index(drop=True)\\ny_train = pd.concat([ymc_train, ynue_train]).reset_index(drop=True)\\nX_test = pd.concat([Xmc_test, Xnue_test]).reset_index(drop=True)\\ny_test = pd.concat([ymc_test, ynue_test]).reset_index(drop=True)\";\n",
       "                var nbb_cells = Jupyter.notebook.get_cells();\n",
       "                for (var i = 0; i < nbb_cells.length; ++i) {\n",
       "                    if (nbb_cells[i].input_prompt_number == nbb_cell_id) {\n",
       "                        nbb_cells[i].set_text(nbb_formatted_code);\n",
       "                        break;\n",
       "                    }\n",
       "                }\n",
       "            }, 500);\n",
       "            "
      ],
      "text/plain": [
       "<IPython.core.display.Javascript object>"
      ]
     },
     "metadata": {},
     "output_type": "display_data"
    }
   ],
   "source": [
    "train_q = \"preselect & e_candidate\"\n",
    "X = sample_info[\"NUE\"][\"daughters\"].query(train_q)[col_train_electron]\n",
    "Y = sample_info[\"NUE\"][\"daughters\"].query(train_q)[[\"train_label\", \"train_weight\"]]\n",
    "Xnue_train, Xnue_test, ynue_train, ynue_test = train_test_split(\n",
    "    X, Y, test_size=test_size, random_state=seed\n",
    ")\n",
    "X = sample_info[\"MC\"][\"daughters\"].query(train_q)[col_train_electron]\n",
    "Y = sample_info[\"MC\"][\"daughters\"].query(train_q)[[\"train_label\", \"train_weight\"]]\n",
    "Xmc_train, Xmc_test, ymc_train, ymc_test = train_test_split(\n",
    "    X, Y, test_size=test_size, random_state=seed\n",
    ")\n",
    "# Merge our two samples\n",
    "X_train = pd.concat([Xmc_train, Xnue_train]).reset_index(drop=True)\n",
    "y_train = pd.concat([ymc_train, ynue_train]).reset_index(drop=True)\n",
    "X_test = pd.concat([Xmc_test, Xnue_test]).reset_index(drop=True)\n",
    "y_test = pd.concat([ymc_test, ynue_test]).reset_index(drop=True)"
   ]
  },
  {
   "cell_type": "code",
   "execution_count": 23,
   "metadata": {},
   "outputs": [
    {
     "name": "stderr",
     "output_type": "stream",
     "text": [
      "/home/wouter/Binaries/miniconda3/envs/uproot/lib/python3.7/site-packages/xgboost/core.py:587: FutureWarning: Series.base is deprecated and will be removed in a future version\n",
      "  if getattr(data, 'base', None) is not None and \\\n",
      "/home/wouter/Binaries/miniconda3/envs/uproot/lib/python3.7/site-packages/xgboost/core.py:588: FutureWarning: Series.base is deprecated and will be removed in a future version\n",
      "  data.base is not None and isinstance(data, np.ndarray) \\\n"
     ]
    },
    {
     "data": {
      "text/plain": [
       "XGBClassifier(base_score=0.5, booster='gbtree', colsample_bylevel=1,\n",
       "              colsample_bynode=1, colsample_bytree=1, gamma=0,\n",
       "              learning_rate=0.1, max_delta_step=0, max_depth=6,\n",
       "              min_child_weight=1, missing=None, n_estimators=100, n_jobs=1,\n",
       "              nthread=None, objective='binary:logistic', random_state=0,\n",
       "              reg_alpha=0, reg_lambda=1, scale_pos_weight=1, seed=None,\n",
       "              silent=None, subsample=1, verbosity=1)"
      ]
     },
     "execution_count": 23,
     "metadata": {},
     "output_type": "execute_result"
    },
    {
     "data": {
      "application/javascript": [
       "\n",
       "            setTimeout(function() {\n",
       "                var nbb_cell_id = 23;\n",
       "                var nbb_formatted_code = \"# fit model no training data\\nmodel_e = XGBClassifier(max_depth=6)\\nmodel_e.fit(X_train, y_train[\\\"train_label\\\"], sample_weight=y_train[\\\"train_weight\\\"])\";\n",
       "                var nbb_cells = Jupyter.notebook.get_cells();\n",
       "                for (var i = 0; i < nbb_cells.length; ++i) {\n",
       "                    if (nbb_cells[i].input_prompt_number == nbb_cell_id) {\n",
       "                        nbb_cells[i].set_text(nbb_formatted_code);\n",
       "                        break;\n",
       "                    }\n",
       "                }\n",
       "            }, 500);\n",
       "            "
      ],
      "text/plain": [
       "<IPython.core.display.Javascript object>"
      ]
     },
     "metadata": {},
     "output_type": "display_data"
    }
   ],
   "source": [
    "# fit model no training data\n",
    "model_e = XGBClassifier(max_depth=6)\n",
    "model_e.fit(X_train, y_train[\"train_label\"], sample_weight=y_train[\"train_weight\"])"
   ]
  },
  {
   "cell_type": "code",
   "execution_count": 24,
   "metadata": {},
   "outputs": [
    {
     "name": "stdout",
     "output_type": "stream",
     "text": [
      "              precision    recall  f1-score   support\n",
      "\n",
      "    electron       0.92      0.76      0.83     35893\n",
      "non_electron       0.75      0.92      0.83     28337\n",
      "\n",
      "    accuracy                           0.83     64230\n",
      "   macro avg       0.84      0.84      0.83     64230\n",
      "weighted avg       0.85      0.83      0.83     64230\n",
      "\n",
      "Test accuracy: 82.84%\n",
      "Train accuracy: 83.58%\n",
      "\n",
      "1. feature shr_energy_y_v (0.508103)\n",
      "2. feature shr_dist_v (0.074251)\n",
      "3. feature trk_len_v (0.063700)\n",
      "4. feature trk_score_v (0.059643)\n",
      "5. feature n_tracks (0.051354)\n",
      "6. feature n_showers (0.048789)\n",
      "7. feature trk_pid_chipr_v (0.038220)\n",
      "8. feature shr_tkfit_dedx_wm_v (0.036392)\n",
      "9. feature trk_pid_chimu_v (0.027992)\n",
      "10. feature shr_tkfit_dedx_y_v (0.023614)\n",
      "11. feature topological_score (0.021601)\n",
      "12. feature shr_tkfit_dedx_nhits_y_v (0.016635)\n",
      "13. feature shr_tkfit_theta_v (0.013327)\n",
      "14. feature shr_openangle_v (0.008435)\n",
      "15. feature shr_tkfit_phi_v (0.007943)\n"
     ]
    },
    {
     "data": {
      "application/javascript": [
       "\n",
       "            setTimeout(function() {\n",
       "                var nbb_cell_id = 24;\n",
       "                var nbb_formatted_code = \"# make predictions for test data\\ny_pred = model_e.predict(X_test)\\ntarget_names = [\\\"electron\\\", \\\"non_electron\\\"]\\nprint(classification_report(y_test[\\\"train_label\\\"], y_pred, target_names=target_names))\\npredictions = [round(value) for value in y_pred]\\n\\n# evaluate predictions\\naccuracy = accuracy_score(y_test[\\\"train_label\\\"], predictions)\\nprint(\\\"Test accuracy: %.2f%%\\\" % (accuracy * 100.0))\\n\\n\\n# make predictions for test data\\ny_pred_train = model_e.predict(X_train)\\npredictions = [round(value) for value in y_pred_train]\\n# evaluate predictions\\naccuracy = accuracy_score(y_train[\\\"train_label\\\"], predictions)\\nprint(\\\"Train accuracy: %.2f%%\\\\n\\\" % (accuracy * 100.0))\\n\\nimportances = model_e.feature_importances_\\nsort = np.argsort(-importances)\\n\\nfor i, (n, im) in enumerate(zip(np.array(col_train_electron)[sort], importances[sort])):\\n    print(\\\"%d. feature %s (%f)\\\" % (i + 1, n, im))\";\n",
       "                var nbb_cells = Jupyter.notebook.get_cells();\n",
       "                for (var i = 0; i < nbb_cells.length; ++i) {\n",
       "                    if (nbb_cells[i].input_prompt_number == nbb_cell_id) {\n",
       "                        nbb_cells[i].set_text(nbb_formatted_code);\n",
       "                        break;\n",
       "                    }\n",
       "                }\n",
       "            }, 500);\n",
       "            "
      ],
      "text/plain": [
       "<IPython.core.display.Javascript object>"
      ]
     },
     "metadata": {},
     "output_type": "display_data"
    }
   ],
   "source": [
    "# make predictions for test data\n",
    "y_pred = model_e.predict(X_test)\n",
    "target_names = [\"electron\", \"non_electron\"]\n",
    "print(classification_report(y_test[\"train_label\"], y_pred, target_names=target_names))\n",
    "predictions = [round(value) for value in y_pred]\n",
    "\n",
    "# evaluate predictions\n",
    "accuracy = accuracy_score(y_test[\"train_label\"], predictions)\n",
    "print(\"Test accuracy: %.2f%%\" % (accuracy * 100.0))\n",
    "\n",
    "\n",
    "# make predictions for test data\n",
    "y_pred_train = model_e.predict(X_train)\n",
    "predictions = [round(value) for value in y_pred_train]\n",
    "# evaluate predictions\n",
    "accuracy = accuracy_score(y_train[\"train_label\"], predictions)\n",
    "print(\"Train accuracy: %.2f%%\\n\" % (accuracy * 100.0))\n",
    "\n",
    "importances = model_e.feature_importances_\n",
    "sort = np.argsort(-importances)\n",
    "\n",
    "for i, (n, im) in enumerate(zip(np.array(col_train_electron)[sort], importances[sort])):\n",
    "    print(\"%d. feature %s (%f)\" % (i + 1, n, im))"
   ]
  },
  {
   "cell_type": "code",
   "execution_count": 25,
   "metadata": {},
   "outputs": [
    {
     "data": {
      "image/png": "[encoded data removed]",
      "text/plain": [
       "<Figure size 576x288 with 2 Axes>"
      ]
     },
     "metadata": {
      "needs_background": "light"
     },
     "output_type": "display_data"
    },
    {
     "data": {
      "application/javascript": [
       "\n",
       "            setTimeout(function() {\n",
       "                var nbb_cell_id = 25;\n",
       "                var nbb_formatted_code = \"fig, ax = plt.subplots(ncols=2, figsize=(8, 4))\\n\\ny_pred = model_e.predict_proba(X_test).T[1]\\nfpr, tpr, _ = roc_curve(y_test[\\\"train_label\\\"], y_pred)\\nroc_auc = auc(fpr, tpr)\\n\\nax[0].hist(\\n    y_pred[y_test[\\\"train_label\\\"] == 0],\\n    alpha=0.5,\\n    bins=50,\\n    range=(0, 1),\\n    label=\\\"no electrons\\\",\\n    density=False,\\n)\\nax[0].hist(\\n    y_pred[(y_test[\\\"train_label\\\"] == 1) & (y_test[\\\"train_weight\\\"] > 2)],\\n    alpha=0.5,\\n    bins=50,\\n    range=(0, 1),\\n    label=\\\"good electrons\\\",\\n    density=False,\\n)\\nax[0].hist(\\n    y_pred[(y_test[\\\"train_label\\\"] == 1) & (y_test[\\\"train_weight\\\"] < 2)],\\n    alpha=0.5,\\n    bins=50,\\n    range=(0, 1),\\n    label=\\\"bad electrons\\\",\\n    density=False,\\n)\\nax[0].legend(loc=\\\"upper left\\\")\\nax[0].set_xlim(0, 1)\\nax[0].set_xlabel(\\\"Electron identification\\\")\\nax[0].set_ylabel(\\\"Entries per bin\\\")\\nax[0].set_title(\\\"Electron Candidate XGB\\\")\\n\\nax[1].plot(fpr, tpr, label=\\\"ROC curve (area = %0.2f)\\\" % roc_auc)\\nplt.plot([0, 1], [0, 1], linestyle=\\\"--\\\")\\nplt.xlim([0.0, 1.0])\\nplt.ylim([0.0, 1.0])\\nplt.xlabel(\\\"False Positive Rate\\\")\\nplt.ylabel(\\\"True Positive Rate\\\")\\nplt.title(\\\"Receiver Operating Characteristic\\\")\\nplt.legend(loc=\\\"lower right\\\")\\n\\nfig.tight_layout()\\nfig.savefig(output_dir + \\\"e_bdt_test.pdf\\\")\";\n",
       "                var nbb_cells = Jupyter.notebook.get_cells();\n",
       "                for (var i = 0; i < nbb_cells.length; ++i) {\n",
       "                    if (nbb_cells[i].input_prompt_number == nbb_cell_id) {\n",
       "                        nbb_cells[i].set_text(nbb_formatted_code);\n",
       "                        break;\n",
       "                    }\n",
       "                }\n",
       "            }, 500);\n",
       "            "
      ],
      "text/plain": [
       "<IPython.core.display.Javascript object>"
      ]
     },
     "metadata": {},
     "output_type": "display_data"
    }
   ],
   "source": [
    "fig, ax = plt.subplots(ncols=2, figsize=(8, 4))\n",
    "\n",
    "y_pred = model_e.predict_proba(X_test).T[1]\n",
    "fpr, tpr, _ = roc_curve(y_test[\"train_label\"], y_pred)\n",
    "roc_auc = auc(fpr, tpr)\n",
    "\n",
    "ax[0].hist(\n",
    "    y_pred[y_test[\"train_label\"] == 0],\n",
    "    alpha=0.5,\n",
    "    bins=50,\n",
    "    range=(0, 1),\n",
    "    label=\"no electrons\",\n",
    "    density=False,\n",
    ")\n",
    "ax[0].hist(\n",
    "    y_pred[(y_test[\"train_label\"] == 1) & (y_test[\"train_weight\"] > 2)],\n",
    "    alpha=0.5,\n",
    "    bins=50,\n",
    "    range=(0, 1),\n",
    "    label=\"good electrons\",\n",
    "    density=False,\n",
    ")\n",
    "ax[0].hist(\n",
    "    y_pred[(y_test[\"train_label\"] == 1) & (y_test[\"train_weight\"] < 2)],\n",
    "    alpha=0.5,\n",
    "    bins=50,\n",
    "    range=(0, 1),\n",
    "    label=\"bad electrons\",\n",
    "    density=False,\n",
    ")\n",
    "ax[0].legend(loc=\"upper left\")\n",
    "ax[0].set_xlim(0, 1)\n",
    "ax[0].set_xlabel(\"Electron identification\")\n",
    "ax[0].set_ylabel(\"Entries per bin\")\n",
    "ax[0].set_title(\"Electron Candidate XGB\")\n",
    "\n",
    "ax[1].plot(fpr, tpr, label=\"ROC curve (area = %0.2f)\" % roc_auc)\n",
    "plt.plot([0, 1], [0, 1], linestyle=\"--\")\n",
    "plt.xlim([0.0, 1.0])\n",
    "plt.ylim([0.0, 1.0])\n",
    "plt.xlabel(\"False Positive Rate\")\n",
    "plt.ylabel(\"True Positive Rate\")\n",
    "plt.title(\"Receiver Operating Characteristic\")\n",
    "plt.legend(loc=\"lower right\")\n",
    "\n",
    "fig.tight_layout()\n",
    "fig.savefig(output_dir + \"e_bdt_test.pdf\")"
   ]
  },
  {
   "cell_type": "markdown",
   "metadata": {},
   "source": [
    "#### Other daughters training"
   ]
  },
  {
   "cell_type": "code",
   "execution_count": 26,
   "metadata": {},
   "outputs": [
    {
     "data": {
      "application/javascript": [
       "\n",
       "            setTimeout(function() {\n",
       "                var nbb_cell_id = 26;\n",
       "                var nbb_formatted_code = \"train_q = \\\"preselect & ~e_candidate\\\"\\nX = sample_info[\\\"NUE\\\"][\\\"daughters\\\"].query(train_q)[col_train_other]\\nY = sample_info[\\\"NUE\\\"][\\\"daughters\\\"].query(train_q)[[\\\"train_label\\\", \\\"train_weight\\\"]]\\nXnue_train, Xnue_test, ynue_train, ynue_test = train_test_split(\\n    X, Y, test_size=test_size, random_state=seed\\n)\\nX = sample_info[\\\"MC\\\"][\\\"daughters\\\"].query(train_q)[col_train_other]\\nY = sample_info[\\\"MC\\\"][\\\"daughters\\\"].query(train_q)[[\\\"train_label\\\", \\\"train_weight\\\"]]\\nXmc_train, Xmc_test, ymc_train, ymc_test = train_test_split(\\n    X, Y, test_size=test_size, random_state=seed\\n)\\n# Merge our two samples\\nX_train = pd.concat([Xmc_train, Xnue_train]).reset_index(drop=True)\\ny_train = pd.concat([ymc_train, ynue_train]).reset_index(drop=True)\\nX_test = pd.concat([Xmc_test, Xnue_test]).reset_index(drop=True)\\ny_test = pd.concat([ymc_test, ynue_test]).reset_index(drop=True)\";\n",
       "                var nbb_cells = Jupyter.notebook.get_cells();\n",
       "                for (var i = 0; i < nbb_cells.length; ++i) {\n",
       "                    if (nbb_cells[i].input_prompt_number == nbb_cell_id) {\n",
       "                        nbb_cells[i].set_text(nbb_formatted_code);\n",
       "                        break;\n",
       "                    }\n",
       "                }\n",
       "            }, 500);\n",
       "            "
      ],
      "text/plain": [
       "<IPython.core.display.Javascript object>"
      ]
     },
     "metadata": {},
     "output_type": "display_data"
    }
   ],
   "source": [
    "train_q = \"preselect & ~e_candidate\"\n",
    "X = sample_info[\"NUE\"][\"daughters\"].query(train_q)[col_train_other]\n",
    "Y = sample_info[\"NUE\"][\"daughters\"].query(train_q)[[\"train_label\", \"train_weight\"]]\n",
    "Xnue_train, Xnue_test, ynue_train, ynue_test = train_test_split(\n",
    "    X, Y, test_size=test_size, random_state=seed\n",
    ")\n",
    "X = sample_info[\"MC\"][\"daughters\"].query(train_q)[col_train_other]\n",
    "Y = sample_info[\"MC\"][\"daughters\"].query(train_q)[[\"train_label\", \"train_weight\"]]\n",
    "Xmc_train, Xmc_test, ymc_train, ymc_test = train_test_split(\n",
    "    X, Y, test_size=test_size, random_state=seed\n",
    ")\n",
    "# Merge our two samples\n",
    "X_train = pd.concat([Xmc_train, Xnue_train]).reset_index(drop=True)\n",
    "y_train = pd.concat([ymc_train, ynue_train]).reset_index(drop=True)\n",
    "X_test = pd.concat([Xmc_test, Xnue_test]).reset_index(drop=True)\n",
    "y_test = pd.concat([ymc_test, ynue_test]).reset_index(drop=True)"
   ]
  },
  {
   "cell_type": "code",
   "execution_count": 27,
   "metadata": {},
   "outputs": [
    {
     "name": "stderr",
     "output_type": "stream",
     "text": [
      "/home/wouter/Binaries/miniconda3/envs/uproot/lib/python3.7/site-packages/xgboost/core.py:587: FutureWarning: Series.base is deprecated and will be removed in a future version\n",
      "  if getattr(data, 'base', None) is not None and \\\n",
      "/home/wouter/Binaries/miniconda3/envs/uproot/lib/python3.7/site-packages/xgboost/core.py:588: FutureWarning: Series.base is deprecated and will be removed in a future version\n",
      "  data.base is not None and isinstance(data, np.ndarray) \\\n"
     ]
    },
    {
     "data": {
      "text/plain": [
       "XGBClassifier(base_score=0.5, booster='gbtree', colsample_bylevel=1,\n",
       "              colsample_bynode=1, colsample_bytree=1, gamma=0,\n",
       "              learning_rate=0.1, max_delta_step=0, max_depth=6,\n",
       "              min_child_weight=1, missing=None, n_estimators=100, n_jobs=1,\n",
       "              nthread=None, objective='binary:logistic', random_state=0,\n",
       "              reg_alpha=0, reg_lambda=1, scale_pos_weight=1, seed=None,\n",
       "              silent=None, subsample=1, verbosity=1)"
      ]
     },
     "execution_count": 27,
     "metadata": {},
     "output_type": "execute_result"
    },
    {
     "data": {
      "application/javascript": [
       "\n",
       "            setTimeout(function() {\n",
       "                var nbb_cell_id = 27;\n",
       "                var nbb_formatted_code = \"# fit model no training data\\nmodel_d = XGBClassifier(max_depth=6)\\nmodel_d.fit(X_train, y_train[\\\"train_label\\\"], sample_weight=y_train[\\\"train_weight\\\"])\";\n",
       "                var nbb_cells = Jupyter.notebook.get_cells();\n",
       "                for (var i = 0; i < nbb_cells.length; ++i) {\n",
       "                    if (nbb_cells[i].input_prompt_number == nbb_cell_id) {\n",
       "                        nbb_cells[i].set_text(nbb_formatted_code);\n",
       "                        break;\n",
       "                    }\n",
       "                }\n",
       "            }, 500);\n",
       "            "
      ],
      "text/plain": [
       "<IPython.core.display.Javascript object>"
      ]
     },
     "metadata": {},
     "output_type": "display_data"
    }
   ],
   "source": [
    "# fit model no training data\n",
    "model_d = XGBClassifier(max_depth=6)\n",
    "model_d.fit(X_train, y_train[\"train_label\"], sample_weight=y_train[\"train_weight\"])"
   ]
  },
  {
   "cell_type": "code",
   "execution_count": 28,
   "metadata": {},
   "outputs": [
    {
     "name": "stdout",
     "output_type": "stream",
     "text": [
      "                       precision    recall  f1-score   support\n",
      "\n",
      "    proton, pion, ...       0.80      0.74      0.77     83729\n",
      "muon, overlay, photon       0.77      0.81      0.79     86606\n",
      "\n",
      "             accuracy                           0.78    170335\n",
      "            macro avg       0.78      0.78      0.78    170335\n",
      "         weighted avg       0.78      0.78      0.78    170335\n",
      "\n",
      "Test accuracy: 78.00%\n",
      "Train accuracy: 78.57%\n",
      "\n",
      "1. feature trk_distance_v (0.218523)\n",
      "2. feature trk_pid_chipr_wm_v (0.177101)\n",
      "3. feature trk_len_v (0.146739)\n",
      "4. feature trk_score_v (0.106387)\n",
      "5. feature trk_theta_v (0.058102)\n",
      "6. feature trk_pid_chimu_wm_v (0.048192)\n",
      "7. feature topological_score (0.047719)\n",
      "8. feature n_tracks (0.039976)\n",
      "9. feature n_showers (0.036189)\n",
      "10. feature shr_energy_y_v (0.032805)\n",
      "11. feature shr_tkfit_dedx_wm_v (0.032055)\n",
      "12. feature hits_per_tklen (0.024563)\n",
      "13. feature n_pfps (0.021769)\n",
      "14. feature trk_phi_v (0.005342)\n",
      "15. feature shr_openangle_v (0.004538)\n"
     ]
    },
    {
     "data": {
      "application/javascript": [
       "\n",
       "            setTimeout(function() {\n",
       "                var nbb_cell_id = 28;\n",
       "                var nbb_formatted_code = \"# make predictions for test data\\ny_pred = model_d.predict(X_test)\\ntarget_names = [\\\"proton, pion, ...\\\", \\\"muon, overlay, photon\\\"]\\nprint(classification_report(y_test[\\\"train_label\\\"], y_pred, target_names=target_names))\\npredictions = [round(value) for value in y_pred]\\n\\n# evaluate predictions\\naccuracy = accuracy_score(y_test[\\\"train_label\\\"], predictions)\\nprint(\\\"Test accuracy: %.2f%%\\\" % (accuracy * 100.0))\\n\\n\\n# make predictions for test data\\ny_pred_train = model_d.predict(X_train)\\npredictions = [round(value) for value in y_pred_train]\\n# evaluate predictions\\naccuracy = accuracy_score(y_train[\\\"train_label\\\"], predictions)\\nprint(\\\"Train accuracy: %.2f%%\\\\n\\\" % (accuracy * 100.0))\\n\\nimportances = model_d.feature_importances_\\nsort = np.argsort(-importances)\\n\\nfor i, (n, im) in enumerate(zip(np.array(col_train_other)[sort], importances[sort])):\\n    print(\\\"%d. feature %s (%f)\\\" % (i + 1, n, im))\";\n",
       "                var nbb_cells = Jupyter.notebook.get_cells();\n",
       "                for (var i = 0; i < nbb_cells.length; ++i) {\n",
       "                    if (nbb_cells[i].input_prompt_number == nbb_cell_id) {\n",
       "                        nbb_cells[i].set_text(nbb_formatted_code);\n",
       "                        break;\n",
       "                    }\n",
       "                }\n",
       "            }, 500);\n",
       "            "
      ],
      "text/plain": [
       "<IPython.core.display.Javascript object>"
      ]
     },
     "metadata": {},
     "output_type": "display_data"
    }
   ],
   "source": [
    "# make predictions for test data\n",
    "y_pred = model_d.predict(X_test)\n",
    "target_names = [\"proton, pion, ...\", \"muon, overlay, photon\"]\n",
    "print(classification_report(y_test[\"train_label\"], y_pred, target_names=target_names))\n",
    "predictions = [round(value) for value in y_pred]\n",
    "\n",
    "# evaluate predictions\n",
    "accuracy = accuracy_score(y_test[\"train_label\"], predictions)\n",
    "print(\"Test accuracy: %.2f%%\" % (accuracy * 100.0))\n",
    "\n",
    "\n",
    "# make predictions for test data\n",
    "y_pred_train = model_d.predict(X_train)\n",
    "predictions = [round(value) for value in y_pred_train]\n",
    "# evaluate predictions\n",
    "accuracy = accuracy_score(y_train[\"train_label\"], predictions)\n",
    "print(\"Train accuracy: %.2f%%\\n\" % (accuracy * 100.0))\n",
    "\n",
    "importances = model_d.feature_importances_\n",
    "sort = np.argsort(-importances)\n",
    "\n",
    "for i, (n, im) in enumerate(zip(np.array(col_train_other)[sort], importances[sort])):\n",
    "    print(\"%d. feature %s (%f)\" % (i + 1, n, im))"
   ]
  },
  {
   "cell_type": "code",
   "execution_count": 29,
   "metadata": {},
   "outputs": [
    {
     "data": {
      "image/png": "[encoded data removed]",
      "text/plain": [
       "<Figure size 576x288 with 2 Axes>"
      ]
     },
     "metadata": {
      "needs_background": "light"
     },
     "output_type": "display_data"
    },
    {
     "data": {
      "application/javascript": [
       "\n",
       "            setTimeout(function() {\n",
       "                var nbb_cell_id = 29;\n",
       "                var nbb_formatted_code = \"fig, ax = plt.subplots(ncols=2, figsize=(8, 4))\\n\\ny_pred = model_d.predict_proba(X_test).T[1]\\nfpr, tpr, _ = roc_curve(y_test[\\\"train_label\\\"], y_pred)\\nroc_auc = auc(fpr, tpr)\\n\\nax[0].hist(\\n    y_pred[y_test[\\\"train_label\\\"] == 0],\\n    alpha=0.5,\\n    bins=50,\\n    range=(0, 1),\\n    label=\\\"muon, overlay, photon\\\",\\n    density=False,\\n)\\nax[0].hist(\\n    y_pred[y_test[\\\"train_label\\\"] == 1],\\n    alpha=0.5,\\n    bins=50,\\n    range=(0, 1),\\n    label=\\\"proton, pion, ...\\\",\\n    density=False,\\n)\\nax[0].legend(loc=\\\"upper left\\\")\\nax[0].set_xlim(0, 1)\\nax[0].set_xlabel(\\\"Daughter identification\\\")\\nax[0].set_ylabel(\\\"Entries per bin\\\")\\nax[0].set_title(\\\"Daughter XGB\\\")\\n\\nax[1].plot(fpr, tpr, label=\\\"ROC curve (area = %0.2f)\\\" % roc_auc)\\nplt.plot([0, 1], [0, 1], linestyle=\\\"--\\\")\\nplt.xlim([0.0, 1.0])\\nplt.ylim([0.0, 1.0])\\nplt.xlabel(\\\"False Positive Rate\\\")\\nplt.ylabel(\\\"True Positive Rate\\\")\\nplt.title(\\\"Receiver Operating Characteristic\\\")\\nplt.legend(loc=\\\"lower right\\\")\\n\\nfig.tight_layout()\\nfig.savefig(output_dir + \\\"daughter_bdt_test.pdf\\\")\";\n",
       "                var nbb_cells = Jupyter.notebook.get_cells();\n",
       "                for (var i = 0; i < nbb_cells.length; ++i) {\n",
       "                    if (nbb_cells[i].input_prompt_number == nbb_cell_id) {\n",
       "                        nbb_cells[i].set_text(nbb_formatted_code);\n",
       "                        break;\n",
       "                    }\n",
       "                }\n",
       "            }, 500);\n",
       "            "
      ],
      "text/plain": [
       "<IPython.core.display.Javascript object>"
      ]
     },
     "metadata": {},
     "output_type": "display_data"
    }
   ],
   "source": [
    "fig, ax = plt.subplots(ncols=2, figsize=(8, 4))\n",
    "\n",
    "y_pred = model_d.predict_proba(X_test).T[1]\n",
    "fpr, tpr, _ = roc_curve(y_test[\"train_label\"], y_pred)\n",
    "roc_auc = auc(fpr, tpr)\n",
    "\n",
    "ax[0].hist(\n",
    "    y_pred[y_test[\"train_label\"] == 0],\n",
    "    alpha=0.5,\n",
    "    bins=50,\n",
    "    range=(0, 1),\n",
    "    label=\"muon, overlay, photon\",\n",
    "    density=False,\n",
    ")\n",
    "ax[0].hist(\n",
    "    y_pred[y_test[\"train_label\"] == 1],\n",
    "    alpha=0.5,\n",
    "    bins=50,\n",
    "    range=(0, 1),\n",
    "    label=\"proton, pion, ...\",\n",
    "    density=False,\n",
    ")\n",
    "ax[0].legend(loc=\"upper left\")\n",
    "ax[0].set_xlim(0, 1)\n",
    "ax[0].set_xlabel(\"Daughter identification\")\n",
    "ax[0].set_ylabel(\"Entries per bin\")\n",
    "ax[0].set_title(\"Daughter XGB\")\n",
    "\n",
    "ax[1].plot(fpr, tpr, label=\"ROC curve (area = %0.2f)\" % roc_auc)\n",
    "plt.plot([0, 1], [0, 1], linestyle=\"--\")\n",
    "plt.xlim([0.0, 1.0])\n",
    "plt.ylim([0.0, 1.0])\n",
    "plt.xlabel(\"False Positive Rate\")\n",
    "plt.ylabel(\"True Positive Rate\")\n",
    "plt.title(\"Receiver Operating Characteristic\")\n",
    "plt.legend(loc=\"lower right\")\n",
    "\n",
    "fig.tight_layout()\n",
    "fig.savefig(output_dir + \"daughter_bdt_test.pdf\")"
   ]
  },
  {
   "cell_type": "markdown",
   "metadata": {},
   "source": [
    "#### Apply models on the samples!"
   ]
  },
  {
   "cell_type": "code",
   "execution_count": 30,
   "metadata": {},
   "outputs": [
    {
     "name": "stdout",
     "output_type": "stream",
     "text": [
      "CPU times: user 3 µs, sys: 0 ns, total: 3 µs\n",
      "Wall time: 4.29 µs\n"
     ]
    },
    {
     "data": {
      "application/javascript": [
       "\n",
       "            setTimeout(function() {\n",
       "                var nbb_cell_id = 30;\n",
       "                var nbb_formatted_code = \"%time\\n# add the columns for each daughter (all samples)\\nfor k, v in sample_info.items():\\n    v[\\\"daughters\\\"][\\\"score\\\"] = -1\\n    mask_e_cand = v[\\\"daughters\\\"].eval(\\\"preselect & e_candidate\\\")\\n    v[\\\"daughters\\\"].loc[mask_e_cand, \\\"score\\\"] = model_e.predict_proba(\\n        v[\\\"daughters\\\"][col_train_electron][mask_e_cand]\\n    ).T[1]\\n    mask_d = v[\\\"daughters\\\"].eval(\\\"preselect & ~e_candidate\\\")\\n    v[\\\"daughters\\\"].loc[mask_d, \\\"score\\\"] = model_d.predict_proba(\\n        v[\\\"daughters\\\"][col_train_other][mask_d]\\n    ).T[1]\";\n",
       "                var nbb_cells = Jupyter.notebook.get_cells();\n",
       "                for (var i = 0; i < nbb_cells.length; ++i) {\n",
       "                    if (nbb_cells[i].input_prompt_number == nbb_cell_id) {\n",
       "                        nbb_cells[i].set_text(nbb_formatted_code);\n",
       "                        break;\n",
       "                    }\n",
       "                }\n",
       "            }, 500);\n",
       "            "
      ],
      "text/plain": [
       "<IPython.core.display.Javascript object>"
      ]
     },
     "metadata": {},
     "output_type": "display_data"
    }
   ],
   "source": [
    "%time\n",
    "# add the columns for each daughter (all samples)\n",
    "for k, v in sample_info.items():\n",
    "    v[\"daughters\"][\"score\"] = -1\n",
    "    mask_e_cand = v[\"daughters\"].eval(\"preselect & e_candidate\")\n",
    "    v[\"daughters\"].loc[mask_e_cand, \"score\"] = model_e.predict_proba(\n",
    "        v[\"daughters\"][col_train_electron][mask_e_cand]\n",
    "    ).T[1]\n",
    "    mask_d = v[\"daughters\"].eval(\"preselect & ~e_candidate\")\n",
    "    v[\"daughters\"].loc[mask_d, \"score\"] = model_d.predict_proba(\n",
    "        v[\"daughters\"][col_train_other][mask_d]\n",
    "    ).T[1]"
   ]
  },
  {
   "cell_type": "markdown",
   "metadata": {},
   "source": [
    "#### Train on the events"
   ]
  },
  {
   "cell_type": "code",
   "execution_count": 31,
   "metadata": {},
   "outputs": [
    {
     "name": "stdout",
     "output_type": "stream",
     "text": [
      "CPU times: user 584 ms, sys: 32 ms, total: 616 ms\n",
      "Wall time: 616 ms\n"
     ]
    },
    {
     "data": {
      "application/javascript": [
       "\n",
       "            setTimeout(function() {\n",
       "                var nbb_cell_id = 31;\n",
       "                var nbb_formatted_code = \"%%time\\n# First we need to add some columns:\\nfor k, v in sample_info.items():    \\n    mask_e = v[\\\"daughters\\\"].eval(\\\"preselect & e_candidate & n_pfps>1\\\")\\n    v[\\\"daughters\\\"][\\\"score_other_max\\\"] = 1\\n    v[\\\"daughters\\\"].loc[mask_e, \\\"score_other_max\\\"] = (\\n        v[\\\"daughters\\\"]\\n        .query(\\\"~e_candidate & preselect\\\")[\\\"score\\\"]\\n        .groupby(\\\"event\\\")\\n        .max()\\n        .values\\n    )\\n    v[\\\"daughters\\\"][\\\"score_other_mean\\\"] = 1\\n    v[\\\"daughters\\\"].loc[mask_e, \\\"score_other_mean\\\"] = (\\n        v[\\\"daughters\\\"]\\n        .query(\\\"~e_candidate & preselect\\\")[\\\"score\\\"]\\n        .groupby(\\\"event\\\")\\n        .mean()\\n        .values\\n    )\\n    v[\\\"daughters\\\"][\\\"score_other_min\\\"] = 1\\n    v[\\\"daughters\\\"].loc[mask_e, \\\"score_other_min\\\"] = (\\n        v[\\\"daughters\\\"]\\n        .query(\\\"~e_candidate & preselect\\\")[\\\"score\\\"]\\n        .groupby(\\\"event\\\")\\n        .min()\\n        .values\\n    )\";\n",
       "                var nbb_cells = Jupyter.notebook.get_cells();\n",
       "                for (var i = 0; i < nbb_cells.length; ++i) {\n",
       "                    if (nbb_cells[i].input_prompt_number == nbb_cell_id) {\n",
       "                        nbb_cells[i].set_text(nbb_formatted_code);\n",
       "                        break;\n",
       "                    }\n",
       "                }\n",
       "            }, 500);\n",
       "            "
      ],
      "text/plain": [
       "<IPython.core.display.Javascript object>"
      ]
     },
     "metadata": {},
     "output_type": "display_data"
    }
   ],
   "source": [
    "%%time\n",
    "# First we need to add some columns:\n",
    "for k, v in sample_info.items():    \n",
    "    mask_e = v[\"daughters\"].eval(\"preselect & e_candidate & n_pfps>1\")\n",
    "    v[\"daughters\"][\"score_other_max\"] = 1\n",
    "    v[\"daughters\"].loc[mask_e, \"score_other_max\"] = (\n",
    "        v[\"daughters\"]\n",
    "        .query(\"~e_candidate & preselect\")[\"score\"]\n",
    "        .groupby(\"event\")\n",
    "        .max()\n",
    "        .values\n",
    "    )\n",
    "    v[\"daughters\"][\"score_other_mean\"] = 1\n",
    "    v[\"daughters\"].loc[mask_e, \"score_other_mean\"] = (\n",
    "        v[\"daughters\"]\n",
    "        .query(\"~e_candidate & preselect\")[\"score\"]\n",
    "        .groupby(\"event\")\n",
    "        .mean()\n",
    "        .values\n",
    "    )\n",
    "    v[\"daughters\"][\"score_other_min\"] = 1\n",
    "    v[\"daughters\"].loc[mask_e, \"score_other_min\"] = (\n",
    "        v[\"daughters\"]\n",
    "        .query(\"~e_candidate & preselect\")[\"score\"]\n",
    "        .groupby(\"event\")\n",
    "        .min()\n",
    "        .values\n",
    "    )"
   ]
  },
  {
   "cell_type": "code",
   "execution_count": 32,
   "metadata": {},
   "outputs": [
    {
     "data": {
      "application/javascript": [
       "\n",
       "            setTimeout(function() {\n",
       "                var nbb_cell_id = 32;\n",
       "                var nbb_formatted_code = \"train_q = \\\"preselect & e_candidate\\\"\\nX = sample_info[\\\"NUE\\\"][\\\"daughters\\\"].query(train_q)[col_train_event]\\nY = sample_info[\\\"NUE\\\"][\\\"daughters\\\"].query(train_q)[[\\\"nueccinc\\\", \\\"train_weight\\\"]]\\nXnue_train, Xnue_test, ynue_train, ynue_test = train_test_split(\\n    X, Y, test_size=test_size, random_state=seed\\n)\\nX = sample_info[\\\"MC\\\"][\\\"daughters\\\"].query(train_q)[col_train_event]\\nY = sample_info[\\\"MC\\\"][\\\"daughters\\\"].query(train_q)[[\\\"nueccinc\\\", \\\"train_weight\\\"]]\\nXmc_train, Xmc_test, ymc_train, ymc_test = train_test_split(\\n    X, Y, test_size=test_size, random_state=seed\\n)\\n# Merge our two samples\\nX_train = pd.concat([Xmc_train, Xnue_train]).reset_index(drop=True)\\ny_train = pd.concat([ymc_train, ynue_train]).reset_index(drop=True)\\nX_test = pd.concat([Xmc_test, Xnue_test]).reset_index(drop=True)\\ny_test = pd.concat([ymc_test, ynue_test]).reset_index(drop=True)\";\n",
       "                var nbb_cells = Jupyter.notebook.get_cells();\n",
       "                for (var i = 0; i < nbb_cells.length; ++i) {\n",
       "                    if (nbb_cells[i].input_prompt_number == nbb_cell_id) {\n",
       "                        nbb_cells[i].set_text(nbb_formatted_code);\n",
       "                        break;\n",
       "                    }\n",
       "                }\n",
       "            }, 500);\n",
       "            "
      ],
      "text/plain": [
       "<IPython.core.display.Javascript object>"
      ]
     },
     "metadata": {},
     "output_type": "display_data"
    }
   ],
   "source": [
    "train_q = \"preselect & e_candidate\"\n",
    "X = sample_info[\"NUE\"][\"daughters\"].query(train_q)[col_train_event]\n",
    "Y = sample_info[\"NUE\"][\"daughters\"].query(train_q)[[\"nueccinc\", \"train_weight\"]]\n",
    "Xnue_train, Xnue_test, ynue_train, ynue_test = train_test_split(\n",
    "    X, Y, test_size=test_size, random_state=seed\n",
    ")\n",
    "X = sample_info[\"MC\"][\"daughters\"].query(train_q)[col_train_event]\n",
    "Y = sample_info[\"MC\"][\"daughters\"].query(train_q)[[\"nueccinc\", \"train_weight\"]]\n",
    "Xmc_train, Xmc_test, ymc_train, ymc_test = train_test_split(\n",
    "    X, Y, test_size=test_size, random_state=seed\n",
    ")\n",
    "# Merge our two samples\n",
    "X_train = pd.concat([Xmc_train, Xnue_train]).reset_index(drop=True)\n",
    "y_train = pd.concat([ymc_train, ynue_train]).reset_index(drop=True)\n",
    "X_test = pd.concat([Xmc_test, Xnue_test]).reset_index(drop=True)\n",
    "y_test = pd.concat([ymc_test, ynue_test]).reset_index(drop=True)"
   ]
  },
  {
   "cell_type": "code",
   "execution_count": 33,
   "metadata": {},
   "outputs": [
    {
     "name": "stderr",
     "output_type": "stream",
     "text": [
      "/home/wouter/Binaries/miniconda3/envs/uproot/lib/python3.7/site-packages/xgboost/core.py:587: FutureWarning: Series.base is deprecated and will be removed in a future version\n",
      "  if getattr(data, 'base', None) is not None and \\\n",
      "/home/wouter/Binaries/miniconda3/envs/uproot/lib/python3.7/site-packages/xgboost/core.py:588: FutureWarning: Series.base is deprecated and will be removed in a future version\n",
      "  data.base is not None and isinstance(data, np.ndarray) \\\n"
     ]
    },
    {
     "data": {
      "text/plain": [
       "XGBClassifier(base_score=0.5, booster='gbtree', colsample_bylevel=1,\n",
       "              colsample_bynode=1, colsample_bytree=1, gamma=0,\n",
       "              learning_rate=0.1, max_delta_step=0, max_depth=4,\n",
       "              min_child_weight=1, missing=None, n_estimators=100, n_jobs=1,\n",
       "              nthread=None, objective='binary:logistic', random_state=0,\n",
       "              reg_alpha=0, reg_lambda=1, scale_pos_weight=1, seed=None,\n",
       "              silent=None, subsample=1, verbosity=1)"
      ]
     },
     "execution_count": 33,
     "metadata": {},
     "output_type": "execute_result"
    },
    {
     "data": {
      "application/javascript": [
       "\n",
       "            setTimeout(function() {\n",
       "                var nbb_cell_id = 33;\n",
       "                var nbb_formatted_code = \"# fit model no training data\\nmodel_event = XGBClassifier(max_depth=4)\\nmodel_event.fit(X_train, y_train[\\\"nueccinc\\\"], sample_weight=y_train[\\\"train_weight\\\"])\";\n",
       "                var nbb_cells = Jupyter.notebook.get_cells();\n",
       "                for (var i = 0; i < nbb_cells.length; ++i) {\n",
       "                    if (nbb_cells[i].input_prompt_number == nbb_cell_id) {\n",
       "                        nbb_cells[i].set_text(nbb_formatted_code);\n",
       "                        break;\n",
       "                    }\n",
       "                }\n",
       "            }, 500);\n",
       "            "
      ],
      "text/plain": [
       "<IPython.core.display.Javascript object>"
      ]
     },
     "metadata": {},
     "output_type": "display_data"
    }
   ],
   "source": [
    "# fit model no training data\n",
    "model_event = XGBClassifier(max_depth=4)\n",
    "model_event.fit(X_train, y_train[\"nueccinc\"], sample_weight=y_train[\"train_weight\"])"
   ]
  },
  {
   "cell_type": "code",
   "execution_count": 34,
   "metadata": {},
   "outputs": [
    {
     "name": "stdout",
     "output_type": "stream",
     "text": [
      "                   precision    recall  f1-score   support\n",
      "\n",
      "         nueccinc       0.89      0.74      0.81     32683\n",
      "background events       0.77      0.91      0.83     31547\n",
      "\n",
      "         accuracy                           0.82     64230\n",
      "        macro avg       0.83      0.82      0.82     64230\n",
      "     weighted avg       0.83      0.82      0.82     64230\n",
      "\n",
      "Test accuracy: 82.31%\n",
      "Train accuracy: 82.82%\n",
      "\n",
      "1. feature score (0.682740)\n",
      "2. feature contained_fraction (0.068210)\n",
      "3. feature hits_ratio (0.049849)\n",
      "4. feature n_showers (0.045276)\n",
      "5. feature score_other_mean (0.040845)\n",
      "6. feature n_tracks (0.035755)\n",
      "7. feature score_other_max (0.034378)\n",
      "8. feature score_other_min (0.026172)\n",
      "9. feature topological_score (0.016775)\n"
     ]
    },
    {
     "data": {
      "application/javascript": [
       "\n",
       "            setTimeout(function() {\n",
       "                var nbb_cell_id = 34;\n",
       "                var nbb_formatted_code = \"# make predictions for test data\\ny_pred = model_event.predict(X_test)\\ntarget_names = [\\\"nueccinc\\\", \\\"background events\\\"]\\nprint(classification_report(y_test[\\\"nueccinc\\\"], y_pred, target_names=target_names))\\npredictions = [round(value) for value in y_pred]\\n\\n# evaluate predictions\\naccuracy = accuracy_score(y_test[\\\"nueccinc\\\"], predictions)\\nprint(\\\"Test accuracy: %.2f%%\\\" % (accuracy * 100.0))\\n\\n\\n# make predictions for test data\\ny_pred_train = model_event.predict(X_train)\\npredictions = [round(value) for value in y_pred_train]\\n# evaluate predictions\\naccuracy = accuracy_score(y_train[\\\"nueccinc\\\"], predictions)\\nprint(\\\"Train accuracy: %.2f%%\\\\n\\\" % (accuracy * 100.0))\\n\\nimportances = model_event.feature_importances_\\nsort = np.argsort(-importances)\\n\\nfor i, (n, im) in enumerate(zip(np.array(col_train_event)[sort], importances[sort])):\\n    print(\\\"%d. feature %s (%f)\\\" % (i + 1, n, im))\";\n",
       "                var nbb_cells = Jupyter.notebook.get_cells();\n",
       "                for (var i = 0; i < nbb_cells.length; ++i) {\n",
       "                    if (nbb_cells[i].input_prompt_number == nbb_cell_id) {\n",
       "                        nbb_cells[i].set_text(nbb_formatted_code);\n",
       "                        break;\n",
       "                    }\n",
       "                }\n",
       "            }, 500);\n",
       "            "
      ],
      "text/plain": [
       "<IPython.core.display.Javascript object>"
      ]
     },
     "metadata": {},
     "output_type": "display_data"
    }
   ],
   "source": [
    "# make predictions for test data\n",
    "y_pred = model_event.predict(X_test)\n",
    "target_names = [\"nueccinc\", \"background events\"]\n",
    "print(classification_report(y_test[\"nueccinc\"], y_pred, target_names=target_names))\n",
    "predictions = [round(value) for value in y_pred]\n",
    "\n",
    "# evaluate predictions\n",
    "accuracy = accuracy_score(y_test[\"nueccinc\"], predictions)\n",
    "print(\"Test accuracy: %.2f%%\" % (accuracy * 100.0))\n",
    "\n",
    "\n",
    "# make predictions for test data\n",
    "y_pred_train = model_event.predict(X_train)\n",
    "predictions = [round(value) for value in y_pred_train]\n",
    "# evaluate predictions\n",
    "accuracy = accuracy_score(y_train[\"nueccinc\"], predictions)\n",
    "print(\"Train accuracy: %.2f%%\\n\" % (accuracy * 100.0))\n",
    "\n",
    "importances = model_event.feature_importances_\n",
    "sort = np.argsort(-importances)\n",
    "\n",
    "for i, (n, im) in enumerate(zip(np.array(col_train_event)[sort], importances[sort])):\n",
    "    print(\"%d. feature %s (%f)\" % (i + 1, n, im))"
   ]
  },
  {
   "cell_type": "code",
   "execution_count": 35,
   "metadata": {},
   "outputs": [
    {
     "data": {
      "image/png": "[encoded data removed]",
      "text/plain": [
       "<Figure size 576x288 with 2 Axes>"
      ]
     },
     "metadata": {
      "needs_background": "light"
     },
     "output_type": "display_data"
    },
    {
     "data": {
      "application/javascript": [
       "\n",
       "            setTimeout(function() {\n",
       "                var nbb_cell_id = 35;\n",
       "                var nbb_formatted_code = \"fig, ax = plt.subplots(ncols=2, figsize=(8, 4))\\n\\ny_pred = model_event.predict_proba(X_test).T[1]\\nfpr, tpr, _ = roc_curve(y_test[\\\"nueccinc\\\"], y_pred)\\nroc_auc = auc(fpr, tpr)\\n\\nax[0].hist(\\n    y_pred[y_test[\\\"nueccinc\\\"] == 0],\\n    alpha=0.5,\\n    bins=50,\\n    range=(0, 1),\\n    label=r\\\"$\\\\nu_e$ CC Inclusive\\\",\\n    density=False,\\n)\\nax[0].hist(\\n    y_pred[y_test[\\\"nueccinc\\\"] == 1],\\n    alpha=0.5,\\n    bins=50,\\n    range=(0, 1),\\n    label=\\\"background events\\\",\\n    density=False,\\n)\\nax[0].legend(loc=\\\"upper left\\\")\\nax[0].set_xlim(0, 1)\\nax[0].set_xlabel(\\\"Event identification\\\")\\nax[0].set_ylabel(\\\"Entries per bin\\\")\\nax[0].set_title(\\\"Event XGB\\\")\\n\\nax[1].plot(fpr, tpr, label=\\\"ROC curve (area = %0.2f)\\\" % roc_auc)\\nplt.plot([0, 1], [0, 1], linestyle=\\\"--\\\")\\nplt.xlim([0.0, 1.0])\\nplt.ylim([0.0, 1.0])\\nplt.xlabel(\\\"False Positive Rate\\\")\\nplt.ylabel(\\\"True Positive Rate\\\")\\nplt.title(\\\"Receiver Operating Characteristic\\\")\\nplt.legend(loc=\\\"lower right\\\")\\n\\nfig.tight_layout()\\nfig.savefig(output_dir + \\\"event_bdt_test.pdf\\\")\";\n",
       "                var nbb_cells = Jupyter.notebook.get_cells();\n",
       "                for (var i = 0; i < nbb_cells.length; ++i) {\n",
       "                    if (nbb_cells[i].input_prompt_number == nbb_cell_id) {\n",
       "                        nbb_cells[i].set_text(nbb_formatted_code);\n",
       "                        break;\n",
       "                    }\n",
       "                }\n",
       "            }, 500);\n",
       "            "
      ],
      "text/plain": [
       "<IPython.core.display.Javascript object>"
      ]
     },
     "metadata": {},
     "output_type": "display_data"
    }
   ],
   "source": [
    "fig, ax = plt.subplots(ncols=2, figsize=(8, 4))\n",
    "\n",
    "y_pred = model_event.predict_proba(X_test).T[1]\n",
    "fpr, tpr, _ = roc_curve(y_test[\"nueccinc\"], y_pred)\n",
    "roc_auc = auc(fpr, tpr)\n",
    "\n",
    "ax[0].hist(\n",
    "    y_pred[y_test[\"nueccinc\"] == 0],\n",
    "    alpha=0.5,\n",
    "    bins=50,\n",
    "    range=(0, 1),\n",
    "    label=r\"$\\nu_e$ CC Inclusive\",\n",
    "    density=False,\n",
    ")\n",
    "ax[0].hist(\n",
    "    y_pred[y_test[\"nueccinc\"] == 1],\n",
    "    alpha=0.5,\n",
    "    bins=50,\n",
    "    range=(0, 1),\n",
    "    label=\"background events\",\n",
    "    density=False,\n",
    ")\n",
    "ax[0].legend(loc=\"upper left\")\n",
    "ax[0].set_xlim(0, 1)\n",
    "ax[0].set_xlabel(\"Event identification\")\n",
    "ax[0].set_ylabel(\"Entries per bin\")\n",
    "ax[0].set_title(\"Event XGB\")\n",
    "\n",
    "ax[1].plot(fpr, tpr, label=\"ROC curve (area = %0.2f)\" % roc_auc)\n",
    "plt.plot([0, 1], [0, 1], linestyle=\"--\")\n",
    "plt.xlim([0.0, 1.0])\n",
    "plt.ylim([0.0, 1.0])\n",
    "plt.xlabel(\"False Positive Rate\")\n",
    "plt.ylabel(\"True Positive Rate\")\n",
    "plt.title(\"Receiver Operating Characteristic\")\n",
    "plt.legend(loc=\"lower right\")\n",
    "\n",
    "fig.tight_layout()\n",
    "fig.savefig(output_dir + \"event_bdt_test.pdf\")"
   ]
  },
  {
   "cell_type": "code",
   "execution_count": 36,
   "metadata": {},
   "outputs": [
    {
     "name": "stdout",
     "output_type": "stream",
     "text": [
      "CPU times: user 4 µs, sys: 0 ns, total: 4 µs\n",
      "Wall time: 7.87 µs\n"
     ]
    },
    {
     "data": {
      "application/javascript": [
       "\n",
       "            setTimeout(function() {\n",
       "                var nbb_cell_id = 36;\n",
       "                var nbb_formatted_code = \"%time\\n# add the columns for each daughter (all samples)\\nfor k, v in sample_info.items():\\n    v[\\\"daughters\\\"][\\\"score_event\\\"] = -1\\n    mask_e_cand = v[\\\"daughters\\\"].eval(\\\"preselect & e_candidate\\\")\\n    v[\\\"daughters\\\"].loc[mask_e_cand, \\\"score_event\\\"] = model_event.predict_proba(\\n        v[\\\"daughters\\\"][col_train_event][mask_e_cand]\\n    ).T[1]\";\n",
       "                var nbb_cells = Jupyter.notebook.get_cells();\n",
       "                for (var i = 0; i < nbb_cells.length; ++i) {\n",
       "                    if (nbb_cells[i].input_prompt_number == nbb_cell_id) {\n",
       "                        nbb_cells[i].set_text(nbb_formatted_code);\n",
       "                        break;\n",
       "                    }\n",
       "                }\n",
       "            }, 500);\n",
       "            "
      ],
      "text/plain": [
       "<IPython.core.display.Javascript object>"
      ]
     },
     "metadata": {},
     "output_type": "display_data"
    }
   ],
   "source": [
    "%time\n",
    "# add the columns for each daughter (all samples)\n",
    "for k, v in sample_info.items():\n",
    "    v[\"daughters\"][\"score_event\"] = -1\n",
    "    mask_e_cand = v[\"daughters\"].eval(\"preselect & e_candidate\")\n",
    "    v[\"daughters\"].loc[mask_e_cand, \"score_event\"] = model_event.predict_proba(\n",
    "        v[\"daughters\"][col_train_event][mask_e_cand]\n",
    "    ).T[1]"
   ]
  },
  {
   "cell_type": "code",
   "execution_count": 37,
   "metadata": {},
   "outputs": [
    {
     "name": "stdout",
     "output_type": "stream",
     "text": [
      "On \t0.0230%\n",
      "Off \t0.0013%\n",
      "MC \t0.0798%\n",
      "NUE \t15.7818%\n",
      "DRT \t0.0020%\n",
      "Nue signal passing the selection \t19.85%\n",
      "Nue Intrinsic signal passing: 26.349 per 1e+20 POT\n",
      "Nue LEE signal passing: 1.332 per 1e+20 POT\n",
      "Purity MC: 38.5%\n",
      "Data/MC-ratio: 1.29\n",
      "\n"
     ]
    },
    {
     "data": {
      "application/javascript": [
       "\n",
       "            setTimeout(function() {\n",
       "                var nbb_cell_id = 37;\n",
       "                var nbb_formatted_code = \"query_select = \\\"e_candidate & preselect & score_event>0.96\\\"\\n# Passing rate selection\\nfor k, v in sample_info.items():\\n    v[\\\"daughters\\\"][\\\"select\\\"] = v[\\\"daughters\\\"].eval(query_select)\\n    pass_rate = sum(v[\\\"daughters\\\"].eval(\\\"e_candidate & select\\\")) / v[\\\"numentries\\\"]\\n    print(k, \\\"\\\\t{:.4f}%\\\".format(pass_rate * 100))\\n\\n# Passing rate signal, weights applied!\\npass_rate = sum(\\n    sample_info[\\\"NUE\\\"][\\\"daughters\\\"].eval(\\\"select*weightSpline*nueccinc\\\")\\n) / sum(sample_info[\\\"NUE\\\"][\\\"mc\\\"][\\\"weightSpline\\\"] * signal_mask)\\nprint(\\\"Nue signal passing the selection \\\\t{:.2f}%\\\".format(pass_rate * 100))\\nnue_pass = (\\n    sum(sample_info[\\\"NUE\\\"][\\\"daughters\\\"].eval(\\\"select*weightSpline*nueccinc\\\"))\\n    * sample_info[\\\"NUE\\\"][\\\"scaling\\\"]\\n    * pot_scale\\n)\\nprint(\\n    \\\"Nue Intrinsic signal passing: {0:0.3f} per {1:0.2g} POT\\\".format(\\n        nue_pass, pot_target\\n    )\\n)\\nlee_pass = (\\n    sum(sample_info[\\\"NUE\\\"][\\\"daughters\\\"].eval(\\\"select*leeweight*nueccinc\\\"))\\n    * sample_info[\\\"NUE\\\"][\\\"scaling\\\"]\\n    * pot_scale\\n)\\nprint(\\\"Nue LEE signal passing: {0:0.3f} per {1:0.2g} POT\\\".format(lee_pass, pot_target))\\n\\n## Calculate the purity:\\npurity_denom = (\\n    sum(sample_info[\\\"MC\\\"][\\\"daughters\\\"].eval(\\\"select*weightSpline\\\"))\\n    * sample_info[\\\"MC\\\"][\\\"scaling\\\"]\\n)\\npurity_denom += (\\n    sum(sample_info[\\\"DRT\\\"][\\\"daughters\\\"].eval(\\\"select*weightSpline\\\"))\\n    * sample_info[\\\"DRT\\\"][\\\"scaling\\\"]\\n)\\npurity_denom += (\\n    sum(sample_info[\\\"Off\\\"][\\\"daughters\\\"].eval(\\\"select\\\")) * sample_info[\\\"Off\\\"][\\\"scaling\\\"]\\n)\\n\\npurity_mc = (\\n    sum(sample_info[\\\"NUE\\\"][\\\"daughters\\\"].eval(\\\"select*weightSpline*nueccinc\\\"))\\n    * sample_info[\\\"NUE\\\"][\\\"scaling\\\"]\\n    / purity_denom\\n)\\npurity_data = (\\n    sum(sample_info[\\\"NUE\\\"][\\\"daughters\\\"].eval(\\\"select*weightSpline*nueccinc\\\"))\\n    * sample_info[\\\"NUE\\\"][\\\"scaling\\\"]\\n    / sum(sample_info[\\\"On\\\"][\\\"daughters\\\"].eval(\\\"select\\\"))\\n)\\nprint(\\n    \\\"Purity MC: {:.1f}%\\\\nData/MC-ratio: {:.2f}\\\\n\\\".format(\\n        purity_mc * 100,\\n        sum(sample_info[\\\"On\\\"][\\\"daughters\\\"].eval(\\\"select\\\")) / purity_denom,\\n    )\\n)\";\n",
       "                var nbb_cells = Jupyter.notebook.get_cells();\n",
       "                for (var i = 0; i < nbb_cells.length; ++i) {\n",
       "                    if (nbb_cells[i].input_prompt_number == nbb_cell_id) {\n",
       "                        nbb_cells[i].set_text(nbb_formatted_code);\n",
       "                        break;\n",
       "                    }\n",
       "                }\n",
       "            }, 500);\n",
       "            "
      ],
      "text/plain": [
       "<IPython.core.display.Javascript object>"
      ]
     },
     "metadata": {},
     "output_type": "display_data"
    }
   ],
   "source": [
    "query_select = \"e_candidate & preselect & score_event>0.96\"\n",
    "# Passing rate selection\n",
    "for k, v in sample_info.items():\n",
    "    v[\"daughters\"][\"select\"] = v[\"daughters\"].eval(query_select)\n",
    "    pass_rate = sum(v[\"daughters\"].eval(\"e_candidate & select\")) / v[\"numentries\"]\n",
    "    print(k, \"\\t{:.4f}%\".format(pass_rate * 100))\n",
    "\n",
    "# Passing rate signal, weights applied!\n",
    "pass_rate = sum(\n",
    "    sample_info[\"NUE\"][\"daughters\"].eval(\"select*weightSpline*nueccinc\")\n",
    ") / sum(sample_info[\"NUE\"][\"mc\"][\"weightSpline\"] * signal_mask)\n",
    "print(\"Nue signal passing the selection \\t{:.2f}%\".format(pass_rate * 100))\n",
    "nue_pass = (\n",
    "    sum(sample_info[\"NUE\"][\"daughters\"].eval(\"select*weightSpline*nueccinc\"))\n",
    "    * sample_info[\"NUE\"][\"scaling\"]\n",
    "    * pot_scale\n",
    ")\n",
    "print(\n",
    "    \"Nue Intrinsic signal passing: {0:0.3f} per {1:0.2g} POT\".format(\n",
    "        nue_pass, pot_target\n",
    "    )\n",
    ")\n",
    "lee_pass = (\n",
    "    sum(sample_info[\"NUE\"][\"daughters\"].eval(\"select*leeweight*nueccinc\"))\n",
    "    * sample_info[\"NUE\"][\"scaling\"]\n",
    "    * pot_scale\n",
    ")\n",
    "print(\"Nue LEE signal passing: {0:0.3f} per {1:0.2g} POT\".format(lee_pass, pot_target))\n",
    "\n",
    "## Calculate the purity:\n",
    "purity_denom = (\n",
    "    sum(sample_info[\"MC\"][\"daughters\"].eval(\"select*weightSpline\"))\n",
    "    * sample_info[\"MC\"][\"scaling\"]\n",
    ")\n",
    "purity_denom += (\n",
    "    sum(sample_info[\"DRT\"][\"daughters\"].eval(\"select*weightSpline\"))\n",
    "    * sample_info[\"DRT\"][\"scaling\"]\n",
    ")\n",
    "purity_denom += (\n",
    "    sum(sample_info[\"Off\"][\"daughters\"].eval(\"select\")) * sample_info[\"Off\"][\"scaling\"]\n",
    ")\n",
    "\n",
    "purity_mc = (\n",
    "    sum(sample_info[\"NUE\"][\"daughters\"].eval(\"select*weightSpline*nueccinc\"))\n",
    "    * sample_info[\"NUE\"][\"scaling\"]\n",
    "    / purity_denom\n",
    ")\n",
    "purity_data = (\n",
    "    sum(sample_info[\"NUE\"][\"daughters\"].eval(\"select*weightSpline*nueccinc\"))\n",
    "    * sample_info[\"NUE\"][\"scaling\"]\n",
    "    / sum(sample_info[\"On\"][\"daughters\"].eval(\"select\"))\n",
    ")\n",
    "print(\n",
    "    \"Purity MC: {:.1f}%\\nData/MC-ratio: {:.2f}\\n\".format(\n",
    "        purity_mc * 100,\n",
    "        sum(sample_info[\"On\"][\"daughters\"].eval(\"select\")) / purity_denom,\n",
    "    )\n",
    ")"
   ]
  },
  {
   "cell_type": "code",
   "execution_count": 38,
   "metadata": {
    "scrolled": true
   },
   "outputs": [
    {
     "data": {
      "text/html": [
       "<div>\n",
       "<style scoped>\n",
       "    .dataframe tbody tr th:only-of-type {\n",
       "        vertical-align: middle;\n",
       "    }\n",
       "\n",
       "    .dataframe tbody tr th {\n",
       "        vertical-align: top;\n",
       "    }\n",
       "\n",
       "    .dataframe thead th {\n",
       "        text-align: right;\n",
       "    }\n",
       "</style>\n",
       "<table border=\"1\" class=\"dataframe\">\n",
       "  <thead>\n",
       "    <tr style=\"text-align: right;\">\n",
       "      <th></th>\n",
       "      <th></th>\n",
       "      <th>run</th>\n",
       "      <th>sub</th>\n",
       "      <th>evt</th>\n",
       "      <th>topological_score</th>\n",
       "      <th>n_pfps</th>\n",
       "      <th>n_showers</th>\n",
       "      <th>n_tracks</th>\n",
       "      <th>reco_nu_vtx_sce_x</th>\n",
       "      <th>reco_nu_vtx_sce_y</th>\n",
       "      <th>reco_nu_vtx_sce_z</th>\n",
       "      <th>reco_nu_vtx_x</th>\n",
       "      <th>reco_nu_vtx_y</th>\n",
       "      <th>reco_nu_vtx_z</th>\n",
       "      <th>crtveto</th>\n",
       "      <th>slclustfrac</th>\n",
       "      <th>hits_ratio</th>\n",
       "      <th>nu_flashmatch_score</th>\n",
       "      <th>contained_fraction</th>\n",
       "      <th>trk_score_v</th>\n",
       "      <th>trk_distance_v</th>\n",
       "      <th>trk_theta_v</th>\n",
       "      <th>trk_phi_v</th>\n",
       "      <th>trk_len_v</th>\n",
       "      <th>trk_pid_chipr_v</th>\n",
       "      <th>trk_pid_chimu_v</th>\n",
       "      <th>trk_pid_chipr_v_v</th>\n",
       "      <th>trk_pid_chimu_v_v</th>\n",
       "      <th>trk_pid_chipr_u_v</th>\n",
       "      <th>trk_pid_chimu_u_v</th>\n",
       "      <th>shr_dist_v</th>\n",
       "      <th>shr_energy_y_v</th>\n",
       "      <th>shr_openangle_v</th>\n",
       "      <th>shr_tkfit_start_x_v</th>\n",
       "      <th>shr_tkfit_start_y_v</th>\n",
       "      <th>shr_tkfit_start_z_v</th>\n",
       "      <th>shr_tkfit_theta_v</th>\n",
       "      <th>shr_tkfit_phi_v</th>\n",
       "      <th>shr_tkfit_dedx_u_v</th>\n",
       "      <th>shr_tkfit_dedx_v_v</th>\n",
       "      <th>shr_tkfit_dedx_y_v</th>\n",
       "      <th>shr_tkfit_nhits_v</th>\n",
       "      <th>shr_tkfit_dedx_nhits_u_v</th>\n",
       "      <th>shr_tkfit_dedx_nhits_v_v</th>\n",
       "      <th>shr_tkfit_dedx_nhits_y_v</th>\n",
       "      <th>pfnplanehits_U</th>\n",
       "      <th>pfnplanehits_V</th>\n",
       "      <th>pfnplanehits_Y</th>\n",
       "      <th>pfnhits</th>\n",
       "      <th>reco_fid_vol</th>\n",
       "      <th>e_candidate</th>\n",
       "      <th>shr_tkfit_dedx_wm_v</th>\n",
       "      <th>trk_pid_chimu_wm_v</th>\n",
       "      <th>trk_pid_chipr_wm_v</th>\n",
       "      <th>hits_per_tklen</th>\n",
       "      <th>preselect</th>\n",
       "      <th>score</th>\n",
       "      <th>score_other_max</th>\n",
       "      <th>score_other_mean</th>\n",
       "      <th>score_other_min</th>\n",
       "      <th>score_event</th>\n",
       "      <th>select</th>\n",
       "    </tr>\n",
       "    <tr>\n",
       "      <th>event</th>\n",
       "      <th>daughter</th>\n",
       "      <th></th>\n",
       "      <th></th>\n",
       "      <th></th>\n",
       "      <th></th>\n",
       "      <th></th>\n",
       "      <th></th>\n",
       "      <th></th>\n",
       "      <th></th>\n",
       "      <th></th>\n",
       "      <th></th>\n",
       "      <th></th>\n",
       "      <th></th>\n",
       "      <th></th>\n",
       "      <th></th>\n",
       "      <th></th>\n",
       "      <th></th>\n",
       "      <th></th>\n",
       "      <th></th>\n",
       "      <th></th>\n",
       "      <th></th>\n",
       "      <th></th>\n",
       "      <th></th>\n",
       "      <th></th>\n",
       "      <th></th>\n",
       "      <th></th>\n",
       "      <th></th>\n",
       "      <th></th>\n",
       "      <th></th>\n",
       "      <th></th>\n",
       "      <th></th>\n",
       "      <th></th>\n",
       "      <th></th>\n",
       "      <th></th>\n",
       "      <th></th>\n",
       "      <th></th>\n",
       "      <th></th>\n",
       "      <th></th>\n",
       "      <th></th>\n",
       "      <th></th>\n",
       "      <th></th>\n",
       "      <th></th>\n",
       "      <th></th>\n",
       "      <th></th>\n",
       "      <th></th>\n",
       "      <th></th>\n",
       "      <th></th>\n",
       "      <th></th>\n",
       "      <th></th>\n",
       "      <th></th>\n",
       "      <th></th>\n",
       "      <th></th>\n",
       "      <th></th>\n",
       "      <th></th>\n",
       "      <th></th>\n",
       "      <th></th>\n",
       "      <th></th>\n",
       "      <th></th>\n",
       "      <th></th>\n",
       "      <th></th>\n",
       "      <th></th>\n",
       "      <th></th>\n",
       "    </tr>\n",
       "  </thead>\n",
       "  <tbody>\n",
       "    <tr>\n",
       "      <td>1359</td>\n",
       "      <td>0</td>\n",
       "      <td>14343</td>\n",
       "      <td>202</td>\n",
       "      <td>10145</td>\n",
       "      <td>0.419378</td>\n",
       "      <td>2</td>\n",
       "      <td>1</td>\n",
       "      <td>1</td>\n",
       "      <td>25.395136</td>\n",
       "      <td>97.323013</td>\n",
       "      <td>583.057068</td>\n",
       "      <td>25.580269</td>\n",
       "      <td>96.982986</td>\n",
       "      <td>583.056335</td>\n",
       "      <td>0</td>\n",
       "      <td>0.884161</td>\n",
       "      <td>0.971925</td>\n",
       "      <td>21.170389</td>\n",
       "      <td>1.000000</td>\n",
       "      <td>0.009000</td>\n",
       "      <td>1.457214</td>\n",
       "      <td>0.387370</td>\n",
       "      <td>0.802079</td>\n",
       "      <td>37.897610</td>\n",
       "      <td>134.053650</td>\n",
       "      <td>25.382124</td>\n",
       "      <td>173.902130</td>\n",
       "      <td>24.656149</td>\n",
       "      <td>300.000000</td>\n",
       "      <td>39.114437</td>\n",
       "      <td>1.401145</td>\n",
       "      <td>481.890564</td>\n",
       "      <td>1.439058e+23</td>\n",
       "      <td>26.633358</td>\n",
       "      <td>99.138939</td>\n",
       "      <td>585.849976</td>\n",
       "      <td>0.735017</td>\n",
       "      <td>1.107088</td>\n",
       "      <td>9.348559</td>\n",
       "      <td>12.555197</td>\n",
       "      <td>13.091320</td>\n",
       "      <td>175</td>\n",
       "      <td>3</td>\n",
       "      <td>12</td>\n",
       "      <td>10</td>\n",
       "      <td>168</td>\n",
       "      <td>286</td>\n",
       "      <td>273</td>\n",
       "      <td>727</td>\n",
       "      <td>True</td>\n",
       "      <td>True</td>\n",
       "      <td>12.384850</td>\n",
       "      <td>28.269882</td>\n",
       "      <td>188.077931</td>\n",
       "      <td>19.183268</td>\n",
       "      <td>True</td>\n",
       "      <td>0.981009</td>\n",
       "      <td>0.873256</td>\n",
       "      <td>0.873256</td>\n",
       "      <td>0.873256</td>\n",
       "      <td>0.973484</td>\n",
       "      <td>True</td>\n",
       "    </tr>\n",
       "    <tr>\n",
       "      <td>3775</td>\n",
       "      <td>0</td>\n",
       "      <td>17440</td>\n",
       "      <td>178</td>\n",
       "      <td>8940</td>\n",
       "      <td>0.989781</td>\n",
       "      <td>3</td>\n",
       "      <td>2</td>\n",
       "      <td>1</td>\n",
       "      <td>55.365685</td>\n",
       "      <td>-84.695442</td>\n",
       "      <td>352.824158</td>\n",
       "      <td>56.216091</td>\n",
       "      <td>-85.261398</td>\n",
       "      <td>352.846191</td>\n",
       "      <td>0</td>\n",
       "      <td>0.636424</td>\n",
       "      <td>0.980229</td>\n",
       "      <td>6.531017</td>\n",
       "      <td>1.000000</td>\n",
       "      <td>0.001713</td>\n",
       "      <td>2.211314</td>\n",
       "      <td>0.611458</td>\n",
       "      <td>2.222867</td>\n",
       "      <td>122.525688</td>\n",
       "      <td>162.615219</td>\n",
       "      <td>21.528435</td>\n",
       "      <td>260.217163</td>\n",
       "      <td>27.228617</td>\n",
       "      <td>300.000000</td>\n",
       "      <td>37.097431</td>\n",
       "      <td>2.743068</td>\n",
       "      <td>425.784698</td>\n",
       "      <td>7.284401e+00</td>\n",
       "      <td>55.980244</td>\n",
       "      <td>-85.040054</td>\n",
       "      <td>353.049988</td>\n",
       "      <td>0.585266</td>\n",
       "      <td>2.340334</td>\n",
       "      <td>0.000000</td>\n",
       "      <td>1.827204</td>\n",
       "      <td>3.605645</td>\n",
       "      <td>150</td>\n",
       "      <td>0</td>\n",
       "      <td>10</td>\n",
       "      <td>6</td>\n",
       "      <td>213</td>\n",
       "      <td>285</td>\n",
       "      <td>348</td>\n",
       "      <td>846</td>\n",
       "      <td>True</td>\n",
       "      <td>True</td>\n",
       "      <td>2.494120</td>\n",
       "      <td>27.368563</td>\n",
       "      <td>230.085092</td>\n",
       "      <td>6.904675</td>\n",
       "      <td>True</td>\n",
       "      <td>0.962800</td>\n",
       "      <td>0.891670</td>\n",
       "      <td>0.860013</td>\n",
       "      <td>0.828355</td>\n",
       "      <td>0.961677</td>\n",
       "      <td>True</td>\n",
       "    </tr>\n",
       "    <tr>\n",
       "      <td>10350</td>\n",
       "      <td>0</td>\n",
       "      <td>14772</td>\n",
       "      <td>92</td>\n",
       "      <td>4642</td>\n",
       "      <td>0.562693</td>\n",
       "      <td>3</td>\n",
       "      <td>1</td>\n",
       "      <td>2</td>\n",
       "      <td>124.428589</td>\n",
       "      <td>36.029896</td>\n",
       "      <td>156.916733</td>\n",
       "      <td>126.257462</td>\n",
       "      <td>33.636250</td>\n",
       "      <td>157.420395</td>\n",
       "      <td>0</td>\n",
       "      <td>0.682099</td>\n",
       "      <td>0.656109</td>\n",
       "      <td>7.466246</td>\n",
       "      <td>1.000000</td>\n",
       "      <td>0.288617</td>\n",
       "      <td>0.975417</td>\n",
       "      <td>1.437682</td>\n",
       "      <td>1.435982</td>\n",
       "      <td>60.197311</td>\n",
       "      <td>141.192719</td>\n",
       "      <td>19.132467</td>\n",
       "      <td>120.719780</td>\n",
       "      <td>10.054595</td>\n",
       "      <td>150.129425</td>\n",
       "      <td>2.605515</td>\n",
       "      <td>0.978611</td>\n",
       "      <td>186.534897</td>\n",
       "      <td>8.995379e-36</td>\n",
       "      <td>126.496620</td>\n",
       "      <td>35.295010</td>\n",
       "      <td>155.649994</td>\n",
       "      <td>1.168931</td>\n",
       "      <td>1.391641</td>\n",
       "      <td>2.001857</td>\n",
       "      <td>1.629661</td>\n",
       "      <td>4.812189</td>\n",
       "      <td>162</td>\n",
       "      <td>9</td>\n",
       "      <td>13</td>\n",
       "      <td>2</td>\n",
       "      <td>39</td>\n",
       "      <td>177</td>\n",
       "      <td>74</td>\n",
       "      <td>290</td>\n",
       "      <td>True</td>\n",
       "      <td>True</td>\n",
       "      <td>2.034445</td>\n",
       "      <td>11.369245</td>\n",
       "      <td>129.898999</td>\n",
       "      <td>4.817491</td>\n",
       "      <td>True</td>\n",
       "      <td>0.929026</td>\n",
       "      <td>0.912664</td>\n",
       "      <td>0.805306</td>\n",
       "      <td>0.697948</td>\n",
       "      <td>0.972822</td>\n",
       "      <td>True</td>\n",
       "    </tr>\n",
       "    <tr>\n",
       "      <td>11437</td>\n",
       "      <td>0</td>\n",
       "      <td>14136</td>\n",
       "      <td>12</td>\n",
       "      <td>643</td>\n",
       "      <td>0.848213</td>\n",
       "      <td>6</td>\n",
       "      <td>5</td>\n",
       "      <td>1</td>\n",
       "      <td>57.590057</td>\n",
       "      <td>-28.452993</td>\n",
       "      <td>107.494484</td>\n",
       "      <td>58.984863</td>\n",
       "      <td>-28.686693</td>\n",
       "      <td>107.643898</td>\n",
       "      <td>0</td>\n",
       "      <td>0.826873</td>\n",
       "      <td>0.980804</td>\n",
       "      <td>121.292809</td>\n",
       "      <td>1.000000</td>\n",
       "      <td>0.011946</td>\n",
       "      <td>9.258207</td>\n",
       "      <td>1.004231</td>\n",
       "      <td>1.661007</td>\n",
       "      <td>98.108742</td>\n",
       "      <td>298.246765</td>\n",
       "      <td>24.673258</td>\n",
       "      <td>280.731049</td>\n",
       "      <td>20.732882</td>\n",
       "      <td>175.675323</td>\n",
       "      <td>17.228659</td>\n",
       "      <td>9.250978</td>\n",
       "      <td>765.925598</td>\n",
       "      <td>3.698934e-33</td>\n",
       "      <td>62.539600</td>\n",
       "      <td>-22.409733</td>\n",
       "      <td>95.494888</td>\n",
       "      <td>0.427001</td>\n",
       "      <td>2.295606</td>\n",
       "      <td>0.000000</td>\n",
       "      <td>8.428546</td>\n",
       "      <td>1.800070</td>\n",
       "      <td>190</td>\n",
       "      <td>0</td>\n",
       "      <td>10</td>\n",
       "      <td>13</td>\n",
       "      <td>26</td>\n",
       "      <td>851</td>\n",
       "      <td>718</td>\n",
       "      <td>1595</td>\n",
       "      <td>True</td>\n",
       "      <td>True</td>\n",
       "      <td>4.682016</td>\n",
       "      <td>22.449546</td>\n",
       "      <td>286.903359</td>\n",
       "      <td>16.257471</td>\n",
       "      <td>True</td>\n",
       "      <td>0.963718</td>\n",
       "      <td>0.856288</td>\n",
       "      <td>0.398563</td>\n",
       "      <td>0.188361</td>\n",
       "      <td>0.968788</td>\n",
       "      <td>True</td>\n",
       "    </tr>\n",
       "    <tr>\n",
       "      <td>13502</td>\n",
       "      <td>0</td>\n",
       "      <td>14712</td>\n",
       "      <td>48</td>\n",
       "      <td>2438</td>\n",
       "      <td>0.998794</td>\n",
       "      <td>3</td>\n",
       "      <td>1</td>\n",
       "      <td>2</td>\n",
       "      <td>214.095840</td>\n",
       "      <td>89.190590</td>\n",
       "      <td>373.566956</td>\n",
       "      <td>215.612747</td>\n",
       "      <td>83.074028</td>\n",
       "      <td>373.870056</td>\n",
       "      <td>0</td>\n",
       "      <td>0.666391</td>\n",
       "      <td>0.563817</td>\n",
       "      <td>2.810835</td>\n",
       "      <td>1.000000</td>\n",
       "      <td>0.013238</td>\n",
       "      <td>0.077478</td>\n",
       "      <td>0.792827</td>\n",
       "      <td>2.005788</td>\n",
       "      <td>37.037182</td>\n",
       "      <td>146.554123</td>\n",
       "      <td>21.146732</td>\n",
       "      <td>168.241394</td>\n",
       "      <td>26.669153</td>\n",
       "      <td>300.000000</td>\n",
       "      <td>41.031994</td>\n",
       "      <td>0.192698</td>\n",
       "      <td>231.368729</td>\n",
       "      <td>-2.012038e-29</td>\n",
       "      <td>215.631866</td>\n",
       "      <td>83.308228</td>\n",
       "      <td>373.750000</td>\n",
       "      <td>0.673541</td>\n",
       "      <td>2.127285</td>\n",
       "      <td>0.000000</td>\n",
       "      <td>18.841396</td>\n",
       "      <td>97.547592</td>\n",
       "      <td>99</td>\n",
       "      <td>0</td>\n",
       "      <td>11</td>\n",
       "      <td>10</td>\n",
       "      <td>131</td>\n",
       "      <td>181</td>\n",
       "      <td>143</td>\n",
       "      <td>455</td>\n",
       "      <td>True</td>\n",
       "      <td>True</td>\n",
       "      <td>56.320537</td>\n",
       "      <td>29.068771</td>\n",
       "      <td>199.360290</td>\n",
       "      <td>12.284952</td>\n",
       "      <td>True</td>\n",
       "      <td>0.938241</td>\n",
       "      <td>0.897076</td>\n",
       "      <td>0.745923</td>\n",
       "      <td>0.594771</td>\n",
       "      <td>0.966259</td>\n",
       "      <td>True</td>\n",
       "    </tr>\n",
       "    <tr>\n",
       "      <td>13886</td>\n",
       "      <td>1</td>\n",
       "      <td>17557</td>\n",
       "      <td>15</td>\n",
       "      <td>795</td>\n",
       "      <td>0.999336</td>\n",
       "      <td>10</td>\n",
       "      <td>5</td>\n",
       "      <td>5</td>\n",
       "      <td>154.925674</td>\n",
       "      <td>69.254753</td>\n",
       "      <td>137.116425</td>\n",
       "      <td>156.270035</td>\n",
       "      <td>66.490059</td>\n",
       "      <td>137.864746</td>\n",
       "      <td>0</td>\n",
       "      <td>0.905629</td>\n",
       "      <td>0.367916</td>\n",
       "      <td>6.044931</td>\n",
       "      <td>1.000000</td>\n",
       "      <td>0.026228</td>\n",
       "      <td>1.565555</td>\n",
       "      <td>0.564309</td>\n",
       "      <td>-1.933681</td>\n",
       "      <td>75.230331</td>\n",
       "      <td>106.547508</td>\n",
       "      <td>18.000509</td>\n",
       "      <td>274.350006</td>\n",
       "      <td>30.036905</td>\n",
       "      <td>162.992935</td>\n",
       "      <td>15.346612</td>\n",
       "      <td>1.573239</td>\n",
       "      <td>453.973541</td>\n",
       "      <td>-4.198380e-36</td>\n",
       "      <td>155.356827</td>\n",
       "      <td>68.422218</td>\n",
       "      <td>136.449997</td>\n",
       "      <td>0.600310</td>\n",
       "      <td>-1.956193</td>\n",
       "      <td>1.796138</td>\n",
       "      <td>0.258555</td>\n",
       "      <td>208.301590</td>\n",
       "      <td>47</td>\n",
       "      <td>5</td>\n",
       "      <td>1</td>\n",
       "      <td>4</td>\n",
       "      <td>76</td>\n",
       "      <td>79</td>\n",
       "      <td>321</td>\n",
       "      <td>476</td>\n",
       "      <td>True</td>\n",
       "      <td>True</td>\n",
       "      <td>84.244561</td>\n",
       "      <td>19.574415</td>\n",
       "      <td>143.409378</td>\n",
       "      <td>6.327235</td>\n",
       "      <td>True</td>\n",
       "      <td>0.930329</td>\n",
       "      <td>0.834204</td>\n",
       "      <td>0.486141</td>\n",
       "      <td>0.074637</td>\n",
       "      <td>0.964500</td>\n",
       "      <td>True</td>\n",
       "    </tr>\n",
       "    <tr>\n",
       "      <td>23900</td>\n",
       "      <td>0</td>\n",
       "      <td>15160</td>\n",
       "      <td>42</td>\n",
       "      <td>2149</td>\n",
       "      <td>0.996973</td>\n",
       "      <td>5</td>\n",
       "      <td>1</td>\n",
       "      <td>4</td>\n",
       "      <td>131.175125</td>\n",
       "      <td>-100.808243</td>\n",
       "      <td>950.717407</td>\n",
       "      <td>131.824265</td>\n",
       "      <td>-98.770203</td>\n",
       "      <td>950.244873</td>\n",
       "      <td>0</td>\n",
       "      <td>0.852637</td>\n",
       "      <td>0.953815</td>\n",
       "      <td>11.246070</td>\n",
       "      <td>0.824959</td>\n",
       "      <td>0.012461</td>\n",
       "      <td>1.205505</td>\n",
       "      <td>0.609176</td>\n",
       "      <td>2.785185</td>\n",
       "      <td>113.037376</td>\n",
       "      <td>300.000000</td>\n",
       "      <td>45.226433</td>\n",
       "      <td>299.634369</td>\n",
       "      <td>26.607655</td>\n",
       "      <td>237.622299</td>\n",
       "      <td>24.233162</td>\n",
       "      <td>1.291015</td>\n",
       "      <td>779.562134</td>\n",
       "      <td>-8.878524e-07</td>\n",
       "      <td>131.145187</td>\n",
       "      <td>-98.393341</td>\n",
       "      <td>950.950012</td>\n",
       "      <td>0.640519</td>\n",
       "      <td>2.966478</td>\n",
       "      <td>9.241185</td>\n",
       "      <td>16.945599</td>\n",
       "      <td>13.279832</td>\n",
       "      <td>162</td>\n",
       "      <td>5</td>\n",
       "      <td>7</td>\n",
       "      <td>8</td>\n",
       "      <td>335</td>\n",
       "      <td>519</td>\n",
       "      <td>571</td>\n",
       "      <td>1425</td>\n",
       "      <td>True</td>\n",
       "      <td>True</td>\n",
       "      <td>13.553189</td>\n",
       "      <td>33.510018</td>\n",
       "      <td>285.202602</td>\n",
       "      <td>12.606450</td>\n",
       "      <td>True</td>\n",
       "      <td>0.990984</td>\n",
       "      <td>0.884599</td>\n",
       "      <td>0.501118</td>\n",
       "      <td>0.053806</td>\n",
       "      <td>0.966010</td>\n",
       "      <td>True</td>\n",
       "    </tr>\n",
       "    <tr>\n",
       "      <td>29159</td>\n",
       "      <td>0</td>\n",
       "      <td>15222</td>\n",
       "      <td>177</td>\n",
       "      <td>8886</td>\n",
       "      <td>0.442941</td>\n",
       "      <td>4</td>\n",
       "      <td>1</td>\n",
       "      <td>3</td>\n",
       "      <td>119.806335</td>\n",
       "      <td>102.301323</td>\n",
       "      <td>400.636353</td>\n",
       "      <td>120.406136</td>\n",
       "      <td>100.655983</td>\n",
       "      <td>400.655029</td>\n",
       "      <td>0</td>\n",
       "      <td>0.856258</td>\n",
       "      <td>0.697540</td>\n",
       "      <td>6.127736</td>\n",
       "      <td>1.000000</td>\n",
       "      <td>0.036189</td>\n",
       "      <td>3.538479</td>\n",
       "      <td>0.898156</td>\n",
       "      <td>2.502516</td>\n",
       "      <td>40.744926</td>\n",
       "      <td>136.527054</td>\n",
       "      <td>25.554655</td>\n",
       "      <td>191.822510</td>\n",
       "      <td>26.210604</td>\n",
       "      <td>300.000000</td>\n",
       "      <td>43.548855</td>\n",
       "      <td>3.650781</td>\n",
       "      <td>251.871460</td>\n",
       "      <td>-1.432326e-32</td>\n",
       "      <td>119.567589</td>\n",
       "      <td>101.218475</td>\n",
       "      <td>401.564545</td>\n",
       "      <td>0.805540</td>\n",
       "      <td>2.614330</td>\n",
       "      <td>0.000000</td>\n",
       "      <td>1.635458</td>\n",
       "      <td>2.173129</td>\n",
       "      <td>157</td>\n",
       "      <td>0</td>\n",
       "      <td>5</td>\n",
       "      <td>9</td>\n",
       "      <td>113</td>\n",
       "      <td>204</td>\n",
       "      <td>165</td>\n",
       "      <td>482</td>\n",
       "      <td>True</td>\n",
       "      <td>True</td>\n",
       "      <td>1.981103</td>\n",
       "      <td>30.050834</td>\n",
       "      <td>198.254680</td>\n",
       "      <td>11.829694</td>\n",
       "      <td>True</td>\n",
       "      <td>0.966797</td>\n",
       "      <td>0.913096</td>\n",
       "      <td>0.761579</td>\n",
       "      <td>0.597461</td>\n",
       "      <td>0.981248</td>\n",
       "      <td>True</td>\n",
       "    </tr>\n",
       "  </tbody>\n",
       "</table>\n",
       "</div>"
      ],
      "text/plain": [
       "                  run  sub    evt  topological_score  n_pfps  n_showers  \\\n",
       "event daughter                                                            \n",
       "1359  0         14343  202  10145           0.419378       2          1   \n",
       "3775  0         17440  178   8940           0.989781       3          2   \n",
       "10350 0         14772   92   4642           0.562693       3          1   \n",
       "11437 0         14136   12    643           0.848213       6          5   \n",
       "13502 0         14712   48   2438           0.998794       3          1   \n",
       "13886 1         17557   15    795           0.999336      10          5   \n",
       "23900 0         15160   42   2149           0.996973       5          1   \n",
       "29159 0         15222  177   8886           0.442941       4          1   \n",
       "\n",
       "                n_tracks  reco_nu_vtx_sce_x  reco_nu_vtx_sce_y  \\\n",
       "event daughter                                                   \n",
       "1359  0                1          25.395136          97.323013   \n",
       "3775  0                1          55.365685         -84.695442   \n",
       "10350 0                2         124.428589          36.029896   \n",
       "11437 0                1          57.590057         -28.452993   \n",
       "13502 0                2         214.095840          89.190590   \n",
       "13886 1                5         154.925674          69.254753   \n",
       "23900 0                4         131.175125        -100.808243   \n",
       "29159 0                3         119.806335         102.301323   \n",
       "\n",
       "                reco_nu_vtx_sce_z  reco_nu_vtx_x  reco_nu_vtx_y  \\\n",
       "event daughter                                                    \n",
       "1359  0                583.057068      25.580269      96.982986   \n",
       "3775  0                352.824158      56.216091     -85.261398   \n",
       "10350 0                156.916733     126.257462      33.636250   \n",
       "11437 0                107.494484      58.984863     -28.686693   \n",
       "13502 0                373.566956     215.612747      83.074028   \n",
       "13886 1                137.116425     156.270035      66.490059   \n",
       "23900 0                950.717407     131.824265     -98.770203   \n",
       "29159 0                400.636353     120.406136     100.655983   \n",
       "\n",
       "                reco_nu_vtx_z  crtveto  slclustfrac  hits_ratio  \\\n",
       "event daughter                                                    \n",
       "1359  0            583.056335        0     0.884161    0.971925   \n",
       "3775  0            352.846191        0     0.636424    0.980229   \n",
       "10350 0            157.420395        0     0.682099    0.656109   \n",
       "11437 0            107.643898        0     0.826873    0.980804   \n",
       "13502 0            373.870056        0     0.666391    0.563817   \n",
       "13886 1            137.864746        0     0.905629    0.367916   \n",
       "23900 0            950.244873        0     0.852637    0.953815   \n",
       "29159 0            400.655029        0     0.856258    0.697540   \n",
       "\n",
       "                nu_flashmatch_score  contained_fraction  trk_score_v  \\\n",
       "event daughter                                                         \n",
       "1359  0                   21.170389            1.000000     0.009000   \n",
       "3775  0                    6.531017            1.000000     0.001713   \n",
       "10350 0                    7.466246            1.000000     0.288617   \n",
       "11437 0                  121.292809            1.000000     0.011946   \n",
       "13502 0                    2.810835            1.000000     0.013238   \n",
       "13886 1                    6.044931            1.000000     0.026228   \n",
       "23900 0                   11.246070            0.824959     0.012461   \n",
       "29159 0                    6.127736            1.000000     0.036189   \n",
       "\n",
       "                trk_distance_v  trk_theta_v  trk_phi_v   trk_len_v  \\\n",
       "event daughter                                                       \n",
       "1359  0               1.457214     0.387370   0.802079   37.897610   \n",
       "3775  0               2.211314     0.611458   2.222867  122.525688   \n",
       "10350 0               0.975417     1.437682   1.435982   60.197311   \n",
       "11437 0               9.258207     1.004231   1.661007   98.108742   \n",
       "13502 0               0.077478     0.792827   2.005788   37.037182   \n",
       "13886 1               1.565555     0.564309  -1.933681   75.230331   \n",
       "23900 0               1.205505     0.609176   2.785185  113.037376   \n",
       "29159 0               3.538479     0.898156   2.502516   40.744926   \n",
       "\n",
       "                trk_pid_chipr_v  trk_pid_chimu_v  trk_pid_chipr_v_v  \\\n",
       "event daughter                                                        \n",
       "1359  0              134.053650        25.382124         173.902130   \n",
       "3775  0              162.615219        21.528435         260.217163   \n",
       "10350 0              141.192719        19.132467         120.719780   \n",
       "11437 0              298.246765        24.673258         280.731049   \n",
       "13502 0              146.554123        21.146732         168.241394   \n",
       "13886 1              106.547508        18.000509         274.350006   \n",
       "23900 0              300.000000        45.226433         299.634369   \n",
       "29159 0              136.527054        25.554655         191.822510   \n",
       "\n",
       "                trk_pid_chimu_v_v  trk_pid_chipr_u_v  trk_pid_chimu_u_v  \\\n",
       "event daughter                                                            \n",
       "1359  0                 24.656149         300.000000          39.114437   \n",
       "3775  0                 27.228617         300.000000          37.097431   \n",
       "10350 0                 10.054595         150.129425           2.605515   \n",
       "11437 0                 20.732882         175.675323          17.228659   \n",
       "13502 0                 26.669153         300.000000          41.031994   \n",
       "13886 1                 30.036905         162.992935          15.346612   \n",
       "23900 0                 26.607655         237.622299          24.233162   \n",
       "29159 0                 26.210604         300.000000          43.548855   \n",
       "\n",
       "                shr_dist_v  shr_energy_y_v  shr_openangle_v  \\\n",
       "event daughter                                                \n",
       "1359  0           1.401145      481.890564     1.439058e+23   \n",
       "3775  0           2.743068      425.784698     7.284401e+00   \n",
       "10350 0           0.978611      186.534897     8.995379e-36   \n",
       "11437 0           9.250978      765.925598     3.698934e-33   \n",
       "13502 0           0.192698      231.368729    -2.012038e-29   \n",
       "13886 1           1.573239      453.973541    -4.198380e-36   \n",
       "23900 0           1.291015      779.562134    -8.878524e-07   \n",
       "29159 0           3.650781      251.871460    -1.432326e-32   \n",
       "\n",
       "                shr_tkfit_start_x_v  shr_tkfit_start_y_v  shr_tkfit_start_z_v  \\\n",
       "event daughter                                                                  \n",
       "1359  0                   26.633358            99.138939           585.849976   \n",
       "3775  0                   55.980244           -85.040054           353.049988   \n",
       "10350 0                  126.496620            35.295010           155.649994   \n",
       "11437 0                   62.539600           -22.409733            95.494888   \n",
       "13502 0                  215.631866            83.308228           373.750000   \n",
       "13886 1                  155.356827            68.422218           136.449997   \n",
       "23900 0                  131.145187           -98.393341           950.950012   \n",
       "29159 0                  119.567589           101.218475           401.564545   \n",
       "\n",
       "                shr_tkfit_theta_v  shr_tkfit_phi_v  shr_tkfit_dedx_u_v  \\\n",
       "event daughter                                                           \n",
       "1359  0                  0.735017         1.107088            9.348559   \n",
       "3775  0                  0.585266         2.340334            0.000000   \n",
       "10350 0                  1.168931         1.391641            2.001857   \n",
       "11437 0                  0.427001         2.295606            0.000000   \n",
       "13502 0                  0.673541         2.127285            0.000000   \n",
       "13886 1                  0.600310        -1.956193            1.796138   \n",
       "23900 0                  0.640519         2.966478            9.241185   \n",
       "29159 0                  0.805540         2.614330            0.000000   \n",
       "\n",
       "                shr_tkfit_dedx_v_v  shr_tkfit_dedx_y_v  shr_tkfit_nhits_v  \\\n",
       "event daughter                                                              \n",
       "1359  0                  12.555197           13.091320                175   \n",
       "3775  0                   1.827204            3.605645                150   \n",
       "10350 0                   1.629661            4.812189                162   \n",
       "11437 0                   8.428546            1.800070                190   \n",
       "13502 0                  18.841396           97.547592                 99   \n",
       "13886 1                   0.258555          208.301590                 47   \n",
       "23900 0                  16.945599           13.279832                162   \n",
       "29159 0                   1.635458            2.173129                157   \n",
       "\n",
       "                shr_tkfit_dedx_nhits_u_v  shr_tkfit_dedx_nhits_v_v  \\\n",
       "event daughter                                                       \n",
       "1359  0                                3                        12   \n",
       "3775  0                                0                        10   \n",
       "10350 0                                9                        13   \n",
       "11437 0                                0                        10   \n",
       "13502 0                                0                        11   \n",
       "13886 1                                5                         1   \n",
       "23900 0                                5                         7   \n",
       "29159 0                                0                         5   \n",
       "\n",
       "                shr_tkfit_dedx_nhits_y_v  pfnplanehits_U  pfnplanehits_V  \\\n",
       "event daughter                                                             \n",
       "1359  0                               10             168             286   \n",
       "3775  0                                6             213             285   \n",
       "10350 0                                2              39             177   \n",
       "11437 0                               13              26             851   \n",
       "13502 0                               10             131             181   \n",
       "13886 1                                4              76              79   \n",
       "23900 0                                8             335             519   \n",
       "29159 0                                9             113             204   \n",
       "\n",
       "                pfnplanehits_Y  pfnhits  reco_fid_vol  e_candidate  \\\n",
       "event daughter                                                       \n",
       "1359  0                    273      727          True         True   \n",
       "3775  0                    348      846          True         True   \n",
       "10350 0                     74      290          True         True   \n",
       "11437 0                    718     1595          True         True   \n",
       "13502 0                    143      455          True         True   \n",
       "13886 1                    321      476          True         True   \n",
       "23900 0                    571     1425          True         True   \n",
       "29159 0                    165      482          True         True   \n",
       "\n",
       "                shr_tkfit_dedx_wm_v  trk_pid_chimu_wm_v  trk_pid_chipr_wm_v  \\\n",
       "event daughter                                                                \n",
       "1359  0                   12.384850           28.269882          188.077931   \n",
       "3775  0                    2.494120           27.368563          230.085092   \n",
       "10350 0                    2.034445           11.369245          129.898999   \n",
       "11437 0                    4.682016           22.449546          286.903359   \n",
       "13502 0                   56.320537           29.068771          199.360290   \n",
       "13886 1                   84.244561           19.574415          143.409378   \n",
       "23900 0                   13.553189           33.510018          285.202602   \n",
       "29159 0                    1.981103           30.050834          198.254680   \n",
       "\n",
       "                hits_per_tklen  preselect     score  score_other_max  \\\n",
       "event daughter                                                         \n",
       "1359  0              19.183268       True  0.981009         0.873256   \n",
       "3775  0               6.904675       True  0.962800         0.891670   \n",
       "10350 0               4.817491       True  0.929026         0.912664   \n",
       "11437 0              16.257471       True  0.963718         0.856288   \n",
       "13502 0              12.284952       True  0.938241         0.897076   \n",
       "13886 1               6.327235       True  0.930329         0.834204   \n",
       "23900 0              12.606450       True  0.990984         0.884599   \n",
       "29159 0              11.829694       True  0.966797         0.913096   \n",
       "\n",
       "                score_other_mean  score_other_min  score_event  select  \n",
       "event daughter                                                          \n",
       "1359  0                 0.873256         0.873256     0.973484    True  \n",
       "3775  0                 0.860013         0.828355     0.961677    True  \n",
       "10350 0                 0.805306         0.697948     0.972822    True  \n",
       "11437 0                 0.398563         0.188361     0.968788    True  \n",
       "13502 0                 0.745923         0.594771     0.966259    True  \n",
       "13886 1                 0.486141         0.074637     0.964500    True  \n",
       "23900 0                 0.501118         0.053806     0.966010    True  \n",
       "29159 0                 0.761579         0.597461     0.981248    True  "
      ]
     },
     "execution_count": 38,
     "metadata": {},
     "output_type": "execute_result"
    },
    {
     "data": {
      "application/javascript": [
       "\n",
       "            setTimeout(function() {\n",
       "                var nbb_cell_id = 38;\n",
       "                var nbb_formatted_code = \"np.savetxt(\\n    output_dir + \\\"events_run3.txt\\\",\\n    sample_info[\\\"On\\\"][\\\"daughters\\\"].query(\\\"select\\\")[[\\\"run\\\", \\\"sub\\\", \\\"evt\\\"]],\\n    fmt=\\\"%u\\\",\\n)\\nsample_info[\\\"On\\\"][\\\"daughters\\\"].query(\\\"select\\\")\";\n",
       "                var nbb_cells = Jupyter.notebook.get_cells();\n",
       "                for (var i = 0; i < nbb_cells.length; ++i) {\n",
       "                    if (nbb_cells[i].input_prompt_number == nbb_cell_id) {\n",
       "                        nbb_cells[i].set_text(nbb_formatted_code);\n",
       "                        break;\n",
       "                    }\n",
       "                }\n",
       "            }, 500);\n",
       "            "
      ],
      "text/plain": [
       "<IPython.core.display.Javascript object>"
      ]
     },
     "metadata": {},
     "output_type": "display_data"
    }
   ],
   "source": [
    "np.savetxt(\n",
    "    output_dir + \"events_run3.txt\",\n",
    "    sample_info[\"On\"][\"daughters\"].query(\"select\")[[\"run\", \"sub\", \"evt\"]],\n",
    "    fmt=\"%u\",\n",
    ")\n",
    "sample_info[\"On\"][\"daughters\"].query(\"select\")"
   ]
  },
  {
   "cell_type": "code",
   "execution_count": 39,
   "metadata": {},
   "outputs": [
    {
     "name": "stdout",
     "output_type": "stream",
     "text": [
      "CPU times: user 1.44 s, sys: 620 ms, total: 2.06 s\n",
      "Wall time: 3.93 s\n"
     ]
    },
    {
     "data": {
      "application/javascript": [
       "\n",
       "            setTimeout(function() {\n",
       "                var nbb_cell_id = 39;\n",
       "                var nbb_formatted_code = \"%%time\\npickle.dump(sample_info, open(input_dir+\\\"samples.pckl\\\", \\\"wb\\\"))\";\n",
       "                var nbb_cells = Jupyter.notebook.get_cells();\n",
       "                for (var i = 0; i < nbb_cells.length; ++i) {\n",
       "                    if (nbb_cells[i].input_prompt_number == nbb_cell_id) {\n",
       "                        nbb_cells[i].set_text(nbb_formatted_code);\n",
       "                        break;\n",
       "                    }\n",
       "                }\n",
       "            }, 500);\n",
       "            "
      ],
      "text/plain": [
       "<IPython.core.display.Javascript object>"
      ]
     },
     "metadata": {},
     "output_type": "display_data"
    }
   ],
   "source": [
    "%%time\n",
    "pickle.dump(sample_info, open(input_dir+\"samples.pckl\", \"wb\"))"
   ]
  },
  {
   "cell_type": "markdown",
   "metadata": {},
   "source": [
    "### Plots"
   ]
  },
  {
   "cell_type": "code",
   "execution_count": 40,
   "metadata": {
    "scrolled": false
   },
   "outputs": [
    {
     "data": {
      "image/png": "[encoded data removed]",
      "text/plain": [
       "<Figure size 576x288 with 2 Axes>"
      ]
     },
     "metadata": {
      "needs_background": "light"
     },
     "output_type": "display_data"
    },
    {
     "data": {
      "application/javascript": [
       "\n",
       "            setTimeout(function() {\n",
       "                var nbb_cell_id = 40;\n",
       "                var nbb_formatted_code = \"fig, ax = plt.subplots(ncols=2, figsize=(8, 4))\\n\\nax[0].hist(\\n    sample_info[\\\"NUE\\\"][\\\"daughters\\\"]\\n    .query(\\\"nueccinc\\\")[\\\"true_vtx_distance\\\"]\\n    .xs(0, level=\\\"daughter\\\"),\\n    bins=50,\\n    range=(0, 5),\\n    label=\\\"|true_nu_vtx - reco_nu_vtx_sce|\\\",\\n    alpha=0.7,\\n)\\nax[0].hist(\\n    sample_info[\\\"NUE\\\"][\\\"daughters\\\"]\\n    .query(\\\"nueccinc\\\")[\\\"true_vtx_distance_check\\\"]\\n    .xs(0, level=\\\"daughter\\\"),\\n    bins=50,\\n    range=(0, 5),\\n    label=\\\"|true_nu_vtx_sce - reco_nu_vtx|\\\",\\n    alpha=0.7,\\n)\\nax[0].set_xlabel(\\\"Neutrino vertex distance [cm]\\\")\\nax[0].set_title(r\\\"$\\\\nu_e$ CC Inclusive\\\", loc=\\\"left\\\")\\nax[0].set_title(\\\"Run3 Overlay\\\", loc=\\\"right\\\")\\nax[0].legend()\\n\\nax[1].hist(\\n    sample_info[\\\"NUE\\\"][\\\"daughters\\\"]\\n    .query(\\\"nueccinc\\\")\\n    .xs(0, level=\\\"daughter\\\")\\n    .eval(\\\"true_nu_vtx_x+@x_sce_magic-reco_nu_vtx_sce_x\\\"),\\n    bins=51,\\n    range=(-2, 2),\\n    label=\\\"|true_nu_vtx - reco_nu_vtx_sce|\\\",\\n    alpha=0.7,\\n)\\nax[1].hist(\\n    sample_info[\\\"NUE\\\"][\\\"daughters\\\"]\\n    .query(\\\"nueccinc\\\")\\n    .xs(0, level=\\\"daughter\\\")\\n    .eval(\\\"true_nu_vtx_sce_x-reco_nu_vtx_x\\\"),\\n    bins=51,\\n    range=(-2, 2),\\n    label=\\\"|true_nu_vtx_sce - reco_nu_vtx|\\\",\\n    alpha=0.7,\\n)\\nax[1].set_xlabel(\\\"Neutrino vertex distance x-coordinate [cm]\\\")\\nax[1].set_title(r\\\"$\\\\nu_e$ CC Inclusive\\\", loc=\\\"left\\\")\\nax[1].set_title(\\\"Run3 Overlay\\\", loc=\\\"right\\\")\\nax[1].set_ylim(0, ax[1].get_ylim()[1] * 1.25)\\nax[1].legend()\\n\\nfig.tight_layout()\\nfig.savefig(output_dir + \\\"vtx_distance.pdf\\\")\";\n",
       "                var nbb_cells = Jupyter.notebook.get_cells();\n",
       "                for (var i = 0; i < nbb_cells.length; ++i) {\n",
       "                    if (nbb_cells[i].input_prompt_number == nbb_cell_id) {\n",
       "                        nbb_cells[i].set_text(nbb_formatted_code);\n",
       "                        break;\n",
       "                    }\n",
       "                }\n",
       "            }, 500);\n",
       "            "
      ],
      "text/plain": [
       "<IPython.core.display.Javascript object>"
      ]
     },
     "metadata": {},
     "output_type": "display_data"
    }
   ],
   "source": [
    "fig, ax = plt.subplots(ncols=2, figsize=(8, 4))\n",
    "\n",
    "ax[0].hist(\n",
    "    sample_info[\"NUE\"][\"daughters\"]\n",
    "    .query(\"nueccinc\")[\"true_vtx_distance\"]\n",
    "    .xs(0, level=\"daughter\"),\n",
    "    bins=50,\n",
    "    range=(0, 5),\n",
    "    label=\"|true_nu_vtx - reco_nu_vtx_sce|\",\n",
    "    alpha=0.7,\n",
    ")\n",
    "ax[0].hist(\n",
    "    sample_info[\"NUE\"][\"daughters\"]\n",
    "    .query(\"nueccinc\")[\"true_vtx_distance_check\"]\n",
    "    .xs(0, level=\"daughter\"),\n",
    "    bins=50,\n",
    "    range=(0, 5),\n",
    "    label=\"|true_nu_vtx_sce - reco_nu_vtx|\",\n",
    "    alpha=0.7,\n",
    ")\n",
    "ax[0].set_xlabel(\"Neutrino vertex distance [cm]\")\n",
    "ax[0].set_title(r\"$\\nu_e$ CC Inclusive\", loc=\"left\")\n",
    "ax[0].set_title(\"Run3 Overlay\", loc=\"right\")\n",
    "ax[0].legend()\n",
    "\n",
    "ax[1].hist(\n",
    "    sample_info[\"NUE\"][\"daughters\"]\n",
    "    .query(\"nueccinc\")\n",
    "    .xs(0, level=\"daughter\")\n",
    "    .eval(\"true_nu_vtx_x+@x_sce_magic-reco_nu_vtx_sce_x\"),\n",
    "    bins=51,\n",
    "    range=(-2, 2),\n",
    "    label=\"|true_nu_vtx - reco_nu_vtx_sce|\",\n",
    "    alpha=0.7,\n",
    ")\n",
    "ax[1].hist(\n",
    "    sample_info[\"NUE\"][\"daughters\"]\n",
    "    .query(\"nueccinc\")\n",
    "    .xs(0, level=\"daughter\")\n",
    "    .eval(\"true_nu_vtx_sce_x-reco_nu_vtx_x\"),\n",
    "    bins=51,\n",
    "    range=(-2, 2),\n",
    "    label=\"|true_nu_vtx_sce - reco_nu_vtx|\",\n",
    "    alpha=0.7,\n",
    ")\n",
    "ax[1].set_xlabel(\"Neutrino vertex distance x-coordinate [cm]\")\n",
    "ax[1].set_title(r\"$\\nu_e$ CC Inclusive\", loc=\"left\")\n",
    "ax[1].set_title(\"Run3 Overlay\", loc=\"right\")\n",
    "ax[1].set_ylim(0, ax[1].get_ylim()[1] * 1.25)\n",
    "ax[1].legend()\n",
    "\n",
    "fig.tight_layout()\n",
    "fig.savefig(output_dir + \"vtx_distance.pdf\")"
   ]
  },
  {
   "cell_type": "code",
   "execution_count": 41,
   "metadata": {},
   "outputs": [
    {
     "data": {
      "image/png": "[encoded data removed]",
      "text/plain": [
       "<Figure size 648x288 with 1 Axes>"
      ]
     },
     "metadata": {
      "needs_background": "light"
     },
     "output_type": "display_data"
    },
    {
     "data": {
      "application/javascript": [
       "\n",
       "            setTimeout(function() {\n",
       "                var nbb_cell_id = 41;\n",
       "                var nbb_formatted_code = \"fig, ax = plt.subplots(ncols=1, figsize=(9, 4))\\n\\ndata = sample_info[\\\"NUE\\\"][\\\"daughters\\\"].query(\\\"e_candidate & abs(backtracked_pdg==11)\\\")[\\n    [\\\"shr_tkfit_dedx_y_v\\\", \\\"shr_tkfit_dedx_wm_v\\\"]\\n]\\n\\nfor col in data.columns:\\n    ax.hist(data[col], bins=50, range=(0, 20), label=col, alpha=0.5)\\nax.legend()\\n\\nfig.tight_layout()\\nfig.savefig(output_dir + \\\"e_preselection_dedx.pdf\\\")\";\n",
       "                var nbb_cells = Jupyter.notebook.get_cells();\n",
       "                for (var i = 0; i < nbb_cells.length; ++i) {\n",
       "                    if (nbb_cells[i].input_prompt_number == nbb_cell_id) {\n",
       "                        nbb_cells[i].set_text(nbb_formatted_code);\n",
       "                        break;\n",
       "                    }\n",
       "                }\n",
       "            }, 500);\n",
       "            "
      ],
      "text/plain": [
       "<IPython.core.display.Javascript object>"
      ]
     },
     "metadata": {},
     "output_type": "display_data"
    }
   ],
   "source": [
    "fig, ax = plt.subplots(ncols=1, figsize=(9, 4))\n",
    "\n",
    "data = sample_info[\"NUE\"][\"daughters\"].query(\"e_candidate & abs(backtracked_pdg==11)\")[\n",
    "    [\"shr_tkfit_dedx_y_v\", \"shr_tkfit_dedx_wm_v\"]\n",
    "]\n",
    "\n",
    "for col in data.columns:\n",
    "    ax.hist(data[col], bins=50, range=(0, 20), label=col, alpha=0.5)\n",
    "ax.legend()\n",
    "\n",
    "fig.tight_layout()\n",
    "fig.savefig(output_dir + \"e_preselection_dedx.pdf\")"
   ]
  }
 ],
 "metadata": {
  "kernelspec": {
   "display_name": "uproot env",
   "language": "python",
   "name": "uproot"
  },
  "language_info": {
   "codemirror_mode": {
    "name": "ipython",
    "version": 3
   },
   "file_extension": ".py",
   "mimetype": "text/x-python",
   "name": "python",
   "nbconvert_exporter": "python",
   "pygments_lexer": "ipython3",
   "version": "3.7.4"
  }
 },
 "nbformat": 4,
 "nbformat_minor": 2
}
