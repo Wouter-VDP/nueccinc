{
 "cells": [
  {
   "cell_type": "markdown",
   "metadata": {},
   "source": [
    "### Input"
   ]
  },
  {
   "cell_type": "code",
   "execution_count": 1,
   "metadata": {},
   "outputs": [
    {
     "data": {
      "application/javascript": [
       "\n",
       "            setTimeout(function() {\n",
       "                var nbb_cell_id = 1;\n",
       "                var nbb_formatted_code = \"%load_ext autoreload\\n%matplotlib inline\\n%load_ext nb_black\";\n",
       "                var nbb_cells = Jupyter.notebook.get_cells();\n",
       "                for (var i = 0; i < nbb_cells.length; ++i) {\n",
       "                    if (nbb_cells[i].input_prompt_number == nbb_cell_id) {\n",
       "                        nbb_cells[i].set_text(nbb_formatted_code);\n",
       "                        break;\n",
       "                    }\n",
       "                }\n",
       "            }, 500);\n",
       "            "
      ],
      "text/plain": [
       "<IPython.core.display.Javascript object>"
      ]
     },
     "metadata": {},
     "output_type": "display_data"
    }
   ],
   "source": [
    "%load_ext autoreload\n",
    "%matplotlib inline\n",
    "%load_ext nb_black"
   ]
  },
  {
   "cell_type": "code",
   "execution_count": 2,
   "metadata": {},
   "outputs": [
    {
     "data": {
      "application/javascript": [
       "\n",
       "            setTimeout(function() {\n",
       "                var nbb_cell_id = 2;\n",
       "                var nbb_formatted_code = \"import numpy as np\\nimport pandas as pd\\nimport matplotlib.pyplot as plt\\nfrom helpers import helpfunction as helper\\nfrom joblib import dump, load\\nfrom sklearn.model_selection import train_test_split\\nfrom sklearn.metrics import classification_report\\nfrom xgboost import XGBClassifier\\nfrom sklearn.metrics import accuracy_score\\nfrom sklearn.metrics import roc_curve, auc\\nfrom sklearn.model_selection import validation_curve\\nimport pickle\\nimport copy\\nimport gc\\n\\npd.set_option(\\\"display.max_columns\\\", 500)\";\n",
       "                var nbb_cells = Jupyter.notebook.get_cells();\n",
       "                for (var i = 0; i < nbb_cells.length; ++i) {\n",
       "                    if (nbb_cells[i].input_prompt_number == nbb_cell_id) {\n",
       "                        nbb_cells[i].set_text(nbb_formatted_code);\n",
       "                        break;\n",
       "                    }\n",
       "                }\n",
       "            }, 500);\n",
       "            "
      ],
      "text/plain": [
       "<IPython.core.display.Javascript object>"
      ]
     },
     "metadata": {},
     "output_type": "display_data"
    }
   ],
   "source": [
    "import numpy as np\n",
    "import pandas as pd\n",
    "import matplotlib.pyplot as plt\n",
    "from helpers import helpfunction as helper\n",
    "from joblib import dump, load\n",
    "from sklearn.model_selection import train_test_split\n",
    "from sklearn.metrics import classification_report\n",
    "from xgboost import XGBClassifier\n",
    "from sklearn.metrics import accuracy_score\n",
    "from sklearn.metrics import roc_curve, auc\n",
    "from sklearn.model_selection import validation_curve\n",
    "import pickle\n",
    "import copy\n",
    "import gc\n",
    "\n",
    "pd.set_option(\"display.max_columns\", 500)"
   ]
  },
  {
   "cell_type": "code",
   "execution_count": 3,
   "metadata": {},
   "outputs": [
    {
     "data": {
      "application/javascript": [
       "\n",
       "            setTimeout(function() {\n",
       "                var nbb_cell_id = 3;\n",
       "                var nbb_formatted_code = \"%autoreload\";\n",
       "                var nbb_cells = Jupyter.notebook.get_cells();\n",
       "                for (var i = 0; i < nbb_cells.length; ++i) {\n",
       "                    if (nbb_cells[i].input_prompt_number == nbb_cell_id) {\n",
       "                        nbb_cells[i].set_text(nbb_formatted_code);\n",
       "                        break;\n",
       "                    }\n",
       "                }\n",
       "            }, 500);\n",
       "            "
      ],
      "text/plain": [
       "<IPython.core.display.Javascript object>"
      ]
     },
     "metadata": {},
     "output_type": "display_data"
    }
   ],
   "source": [
    "%autoreload"
   ]
  },
  {
   "cell_type": "markdown",
   "metadata": {},
   "source": [
    "### Constants"
   ]
  },
  {
   "cell_type": "code",
   "execution_count": 4,
   "metadata": {},
   "outputs": [
    {
     "data": {
      "application/javascript": [
       "\n",
       "            setTimeout(function() {\n",
       "                var nbb_cell_id = 4;\n",
       "                var nbb_formatted_code = \"run = 1\\nrun_str = \\\"run\\\" + str(run)\";\n",
       "                var nbb_cells = Jupyter.notebook.get_cells();\n",
       "                for (var i = 0; i < nbb_cells.length; ++i) {\n",
       "                    if (nbb_cells[i].input_prompt_number == nbb_cell_id) {\n",
       "                        nbb_cells[i].set_text(nbb_formatted_code);\n",
       "                        break;\n",
       "                    }\n",
       "                }\n",
       "            }, 500);\n",
       "            "
      ],
      "text/plain": [
       "<IPython.core.display.Javascript object>"
      ]
     },
     "metadata": {},
     "output_type": "display_data"
    }
   ],
   "source": [
    "run = 1\n",
    "run_str = \"run\" + str(run)"
   ]
  },
  {
   "cell_type": "code",
   "execution_count": 5,
   "metadata": {},
   "outputs": [
    {
     "data": {
      "application/javascript": [
       "\n",
       "            setTimeout(function() {\n",
       "                var nbb_cell_id = 5;\n",
       "                var nbb_formatted_code = \"pot_target = 10.1e20  # Run1+Run3\\nlee_focus = 1\";\n",
       "                var nbb_cells = Jupyter.notebook.get_cells();\n",
       "                for (var i = 0; i < nbb_cells.length; ++i) {\n",
       "                    if (nbb_cells[i].input_prompt_number == nbb_cell_id) {\n",
       "                        nbb_cells[i].set_text(nbb_formatted_code);\n",
       "                        break;\n",
       "                    }\n",
       "                }\n",
       "            }, 500);\n",
       "            "
      ],
      "text/plain": [
       "<IPython.core.display.Javascript object>"
      ]
     },
     "metadata": {},
     "output_type": "display_data"
    }
   ],
   "source": [
    "pot_target = 10.1e20  # Run1+Run3\n",
    "lee_focus = 1"
   ]
  },
  {
   "cell_type": "code",
   "execution_count": 6,
   "metadata": {},
   "outputs": [
    {
     "data": {
      "application/javascript": [
       "\n",
       "            setTimeout(function() {\n",
       "                var nbb_cell_id = 6;\n",
       "                var nbb_formatted_code = \"x_sce_magic = 1.03\";\n",
       "                var nbb_cells = Jupyter.notebook.get_cells();\n",
       "                for (var i = 0; i < nbb_cells.length; ++i) {\n",
       "                    if (nbb_cells[i].input_prompt_number == nbb_cell_id) {\n",
       "                        nbb_cells[i].set_text(nbb_formatted_code);\n",
       "                        break;\n",
       "                    }\n",
       "                }\n",
       "            }, 500);\n",
       "            "
      ],
      "text/plain": [
       "<IPython.core.display.Javascript object>"
      ]
     },
     "metadata": {},
     "output_type": "display_data"
    }
   ],
   "source": [
    "x_sce_magic = 1.03"
   ]
  },
  {
   "cell_type": "code",
   "execution_count": 7,
   "metadata": {},
   "outputs": [
    {
     "data": {
      "application/javascript": [
       "\n",
       "            setTimeout(function() {\n",
       "                var nbb_cell_id = 7;\n",
       "                var nbb_formatted_code = \"max_trk_score = 0.3\\nmin_cluster_frac = 0.4\\nmin_shw_e = 75  # MeV\\nmax_cosmic_impact = 15\\nmin_topo_score = 0.15\";\n",
       "                var nbb_cells = Jupyter.notebook.get_cells();\n",
       "                for (var i = 0; i < nbb_cells.length; ++i) {\n",
       "                    if (nbb_cells[i].input_prompt_number == nbb_cell_id) {\n",
       "                        nbb_cells[i].set_text(nbb_formatted_code);\n",
       "                        break;\n",
       "                    }\n",
       "                }\n",
       "            }, 500);\n",
       "            "
      ],
      "text/plain": [
       "<IPython.core.display.Javascript object>"
      ]
     },
     "metadata": {},
     "output_type": "display_data"
    }
   ],
   "source": [
    "max_trk_score = 0.3\n",
    "min_cluster_frac = 0.4\n",
    "min_shw_e = 75  # MeV\n",
    "max_cosmic_impact = 15\n",
    "min_topo_score = 0.15"
   ]
  },
  {
   "cell_type": "code",
   "execution_count": 8,
   "metadata": {},
   "outputs": [
    {
     "data": {
      "application/javascript": [
       "\n",
       "            setTimeout(function() {\n",
       "                var nbb_cell_id = 8;\n",
       "                var nbb_formatted_code = \"retrain = True\\ntrain_run1 = {\\n    \\\"run1\\\": [\\\"ccpi0\\\", \\\"elee_high\\\", \\\"elee_low\\\", \\\"ncpi0\\\"],\\n    \\\"run3\\\": [\\\"elee_high\\\", \\\"elee_low\\\", \\\"nu\\\", \\\"nue\\\", \\\"ncpi0\\\", \\\"ccpi0\\\"],\\n}\\ntrain_run3 = {\\n    \\\"run1\\\": [\\\"ccpi0\\\", \\\"elee_high\\\", \\\"elee_low\\\", \\\"ncpi0\\\", \\\"nue\\\", \\\"nu\\\"],\\n    \\\"run3\\\": [\\\"elee_high\\\", \\\"elee_low\\\", \\\"ncpi0\\\", \\\"ccpi0\\\"],\\n}\\nplot_samples = [\\\"nu\\\", \\\"nue\\\", \\\"on\\\", \\\"off\\\", \\\"dirt\\\"]\\ntrain_samples = {\\\"run1\\\": train_run1, \\\"run3\\\": train_run3}\\nseed = 7\\ntest_size = 0.25\";\n",
       "                var nbb_cells = Jupyter.notebook.get_cells();\n",
       "                for (var i = 0; i < nbb_cells.length; ++i) {\n",
       "                    if (nbb_cells[i].input_prompt_number == nbb_cell_id) {\n",
       "                        nbb_cells[i].set_text(nbb_formatted_code);\n",
       "                        break;\n",
       "                    }\n",
       "                }\n",
       "            }, 500);\n",
       "            "
      ],
      "text/plain": [
       "<IPython.core.display.Javascript object>"
      ]
     },
     "metadata": {},
     "output_type": "display_data"
    }
   ],
   "source": [
    "retrain = True\n",
    "train_run1 = {\n",
    "    \"run1\": [\"ccpi0\", \"elee_high\", \"elee_low\", \"ncpi0\"],\n",
    "    \"run3\": [\"elee_high\", \"elee_low\", \"nu\", \"nue\", \"ncpi0\", \"ccpi0\"],\n",
    "}\n",
    "train_run3 = {\n",
    "    \"run1\": [\"ccpi0\", \"elee_high\", \"elee_low\", \"ncpi0\", \"nue\", \"nu\"],\n",
    "    \"run3\": [\"elee_high\", \"elee_low\", \"ncpi0\", \"ccpi0\"],\n",
    "}\n",
    "plot_samples = [\"nu\", \"nue\", \"on\", \"off\", \"dirt\"]\n",
    "train_samples = {\"run1\": train_run1, \"run3\": train_run3}\n",
    "seed = 7\n",
    "test_size = 0.25"
   ]
  },
  {
   "cell_type": "markdown",
   "metadata": {},
   "source": [
    "### Load Samples"
   ]
  },
  {
   "cell_type": "code",
   "execution_count": 9,
   "metadata": {},
   "outputs": [
    {
     "data": {
      "application/javascript": [
       "\n",
       "            setTimeout(function() {\n",
       "                var nbb_cell_id = 9;\n",
       "                var nbb_formatted_code = \"input_dir = \\\"./input/16Jan/\\\".format(run)\\noutput_dir = \\\"./output/run{}/\\\".format(run)\\nmodel_dir = \\\"./models/run{}/\\\".format(run)\";\n",
       "                var nbb_cells = Jupyter.notebook.get_cells();\n",
       "                for (var i = 0; i < nbb_cells.length; ++i) {\n",
       "                    if (nbb_cells[i].input_prompt_number == nbb_cell_id) {\n",
       "                        nbb_cells[i].set_text(nbb_formatted_code);\n",
       "                        break;\n",
       "                    }\n",
       "                }\n",
       "            }, 500);\n",
       "            "
      ],
      "text/plain": [
       "<IPython.core.display.Javascript object>"
      ]
     },
     "metadata": {},
     "output_type": "display_data"
    }
   ],
   "source": [
    "input_dir = \"./input/16Jan/\".format(run)\n",
    "output_dir = \"./output/run{}/\".format(run)\n",
    "model_dir = \"./models/run{}/\".format(run)"
   ]
  },
  {
   "cell_type": "code",
   "execution_count": 10,
   "metadata": {},
   "outputs": [
    {
     "name": "stdout",
     "output_type": "stream",
     "text": [
      "CPU times: user 1.21 s, sys: 2.11 s, total: 3.32 s\n",
      "Wall time: 3.32 s\n"
     ]
    },
    {
     "data": {
      "application/javascript": [
       "\n",
       "            setTimeout(function() {\n",
       "                var nbb_cell_id = 10;\n",
       "                var nbb_formatted_code = \"%%time\\ndata_run1 = pickle.load(open(input_dir+\\\"run1_slimmed.pckl\\\".format(run), 'rb'))\\ndata_run3 = pickle.load(open(input_dir+\\\"run3_slimmed.pckl\\\".format(run), 'rb'))\\ndata_samples = {\\n    \\\"run1\\\": data_run1,\\n    \\\"run3\\\": data_run3,\\n}\";\n",
       "                var nbb_cells = Jupyter.notebook.get_cells();\n",
       "                for (var i = 0; i < nbb_cells.length; ++i) {\n",
       "                    if (nbb_cells[i].input_prompt_number == nbb_cell_id) {\n",
       "                        nbb_cells[i].set_text(nbb_formatted_code);\n",
       "                        break;\n",
       "                    }\n",
       "                }\n",
       "            }, 500);\n",
       "            "
      ],
      "text/plain": [
       "<IPython.core.display.Javascript object>"
      ]
     },
     "metadata": {},
     "output_type": "display_data"
    }
   ],
   "source": [
    "%%time\n",
    "data_run1 = pickle.load(open(input_dir+\"run1_slimmed.pckl\".format(run), 'rb'))\n",
    "data_run3 = pickle.load(open(input_dir+\"run3_slimmed.pckl\".format(run), 'rb'))\n",
    "data_samples = {\n",
    "    \"run1\": data_run1,\n",
    "    \"run3\": data_run3,\n",
    "}"
   ]
  },
  {
   "cell_type": "code",
   "execution_count": 11,
   "metadata": {},
   "outputs": [
    {
     "name": "stdout",
     "output_type": "stream",
     "text": [
      "Training set constructed with 1733669 entries.\n"
     ]
    },
    {
     "data": {
      "text/plain": [
       "51"
      ]
     },
     "execution_count": 11,
     "metadata": {},
     "output_type": "execute_result"
    },
    {
     "data": {
      "application/javascript": [
       "\n",
       "            setTimeout(function() {\n",
       "                var nbb_cell_id = 11;\n",
       "                var nbb_formatted_code = \"sample_info = {}\\nfor s in plot_samples:\\n    sample_info[s] = data_samples[run_str][s]\\n\\n# Prepare training data set\\nsample_info[\\\"train\\\"] = {}\\ndaughter_df_list = []\\ntrain_names = []\\nnum_entries = 0\\nfor run_i in train_samples[run_str]:\\n    for sample_i in train_samples[run_str][run_i]:\\n        daughter_df_list.append(data_samples[run_i][sample_i][\\\"daughters\\\"])\\n        num_entries += data_samples[run_i][sample_i][\\\"numentries\\\"]\\n        train_names.append(run_i + \\\"_\\\" + sample_i)\\nsample_info[\\\"train\\\"][\\\"daughters\\\"] = pd.concat(\\n    daughter_df_list, sort=False, copy=True, verify_integrity=True, keys=train_names\\n)\\nsample_info[\\\"train\\\"][\\\"daughters\\\"].index.names = [\\\"sample\\\", \\\"event\\\", \\\"daughter\\\"]\\nsample_info[\\\"train\\\"][\\\"numentries\\\"] = num_entries\\nprint(\\\"Training set constructed with {} entries.\\\".format(num_entries))\\n\\n# Be friendly to your memory!\\ndel data_run1\\ndel data_run3\\ndel data_samples\\ndel daughter_df_list\\ngc.collect()\";\n",
       "                var nbb_cells = Jupyter.notebook.get_cells();\n",
       "                for (var i = 0; i < nbb_cells.length; ++i) {\n",
       "                    if (nbb_cells[i].input_prompt_number == nbb_cell_id) {\n",
       "                        nbb_cells[i].set_text(nbb_formatted_code);\n",
       "                        break;\n",
       "                    }\n",
       "                }\n",
       "            }, 500);\n",
       "            "
      ],
      "text/plain": [
       "<IPython.core.display.Javascript object>"
      ]
     },
     "metadata": {},
     "output_type": "display_data"
    }
   ],
   "source": [
    "sample_info = {}\n",
    "for s in plot_samples:\n",
    "    sample_info[s] = data_samples[run_str][s]\n",
    "\n",
    "# Prepare training data set\n",
    "sample_info[\"train\"] = {}\n",
    "daughter_df_list = []\n",
    "train_names = []\n",
    "num_entries = 0\n",
    "for run_i in train_samples[run_str]:\n",
    "    for sample_i in train_samples[run_str][run_i]:\n",
    "        daughter_df_list.append(data_samples[run_i][sample_i][\"daughters\"])\n",
    "        num_entries += data_samples[run_i][sample_i][\"numentries\"]\n",
    "        train_names.append(run_i + \"_\" + sample_i)\n",
    "sample_info[\"train\"][\"daughters\"] = pd.concat(\n",
    "    daughter_df_list, sort=False, copy=True, verify_integrity=True, keys=train_names\n",
    ")\n",
    "sample_info[\"train\"][\"daughters\"].index.names = [\"sample\", \"event\", \"daughter\"]\n",
    "sample_info[\"train\"][\"numentries\"] = num_entries\n",
    "print(\"Training set constructed with {} entries.\".format(num_entries))\n",
    "\n",
    "# Be friendly to your memory!\n",
    "del data_run1\n",
    "del data_run3\n",
    "del data_samples\n",
    "del daughter_df_list\n",
    "gc.collect()"
   ]
  },
  {
   "cell_type": "code",
   "execution_count": 12,
   "metadata": {},
   "outputs": [
    {
     "data": {
      "application/javascript": [
       "\n",
       "            setTimeout(function() {\n",
       "                var nbb_cell_id = 12;\n",
       "                var nbb_formatted_code = \"pot_scale = pot_target / sample_info[\\\"on\\\"][\\\"pot\\\"]\";\n",
       "                var nbb_cells = Jupyter.notebook.get_cells();\n",
       "                for (var i = 0; i < nbb_cells.length; ++i) {\n",
       "                    if (nbb_cells[i].input_prompt_number == nbb_cell_id) {\n",
       "                        nbb_cells[i].set_text(nbb_formatted_code);\n",
       "                        break;\n",
       "                    }\n",
       "                }\n",
       "            }, 500);\n",
       "            "
      ],
      "text/plain": [
       "<IPython.core.display.Javascript object>"
      ]
     },
     "metadata": {},
     "output_type": "display_data"
    }
   ],
   "source": [
    "pot_scale = pot_target / sample_info[\"on\"][\"pot\"]"
   ]
  },
  {
   "cell_type": "markdown",
   "metadata": {},
   "source": [
    "### Explore Tree"
   ]
  },
  {
   "cell_type": "code",
   "execution_count": 13,
   "metadata": {
    "scrolled": true
   },
   "outputs": [
    {
     "data": {
      "application/javascript": [
       "\n",
       "            setTimeout(function() {\n",
       "                var nbb_cell_id = 13;\n",
       "                var nbb_formatted_code = \"fields = sample_info[\\\"nue\\\"][\\\"fields\\\"]\\nshr_fields = [f for f in fields if f.startswith(\\\"shr_\\\") and f.endswith(\\\"_v\\\")]\\ntrk_fields = [f for f in fields if f.startswith(\\\"trk_\\\") and f.endswith(\\\"_v\\\")]\\nbackracked_fields = [f for f in fields if f.startswith(\\\"backtracked_\\\")]\\nmc_fields = [f for f in fields if f.startswith((\\\"true_\\\", \\\"mc_\\\"))]\\nother_fields = (\\n    set(fields)\\n    - set(shr_fields)\\n    - set(trk_fields)\\n    - set(backracked_fields)\\n    - set(mc_fields)\\n)\";\n",
       "                var nbb_cells = Jupyter.notebook.get_cells();\n",
       "                for (var i = 0; i < nbb_cells.length; ++i) {\n",
       "                    if (nbb_cells[i].input_prompt_number == nbb_cell_id) {\n",
       "                        nbb_cells[i].set_text(nbb_formatted_code);\n",
       "                        break;\n",
       "                    }\n",
       "                }\n",
       "            }, 500);\n",
       "            "
      ],
      "text/plain": [
       "<IPython.core.display.Javascript object>"
      ]
     },
     "metadata": {},
     "output_type": "display_data"
    }
   ],
   "source": [
    "fields = sample_info[\"nue\"][\"fields\"]\n",
    "shr_fields = [f for f in fields if f.startswith(\"shr_\") and f.endswith(\"_v\")]\n",
    "trk_fields = [f for f in fields if f.startswith(\"trk_\") and f.endswith(\"_v\")]\n",
    "backracked_fields = [f for f in fields if f.startswith(\"backtracked_\")]\n",
    "mc_fields = [f for f in fields if f.startswith((\"true_\", \"mc_\"))]\n",
    "other_fields = (\n",
    "    set(fields)\n",
    "    - set(shr_fields)\n",
    "    - set(trk_fields)\n",
    "    - set(backracked_fields)\n",
    "    - set(mc_fields)\n",
    ")"
   ]
  },
  {
   "cell_type": "code",
   "execution_count": 14,
   "metadata": {
    "scrolled": true
   },
   "outputs": [
    {
     "data": {
      "text/plain": [
       "['trk_score_v',\n",
       " 'trk_bragg_p_v',\n",
       " 'trk_bragg_mu_v',\n",
       " 'trk_bragg_mip_v',\n",
       " 'trk_pida_v',\n",
       " 'trk_pid_chipr_v',\n",
       " 'trk_pid_chipi_v',\n",
       " 'trk_pid_chika_v',\n",
       " 'trk_pid_chimu_v',\n",
       " 'trk_bragg_p_u_v',\n",
       " 'trk_bragg_mu_u_v',\n",
       " 'trk_bragg_mip_u_v',\n",
       " 'trk_pida_u_v',\n",
       " 'trk_pid_chipr_u_v',\n",
       " 'trk_pid_chipi_u_v',\n",
       " 'trk_pid_chika_u_v',\n",
       " 'trk_pid_chimu_u_v',\n",
       " 'trk_bragg_p_v_v',\n",
       " 'trk_bragg_mu_v_v',\n",
       " 'trk_bragg_mip_v_v',\n",
       " 'trk_pida_v_v',\n",
       " 'trk_pid_chipr_v_v',\n",
       " 'trk_pid_chipi_v_v',\n",
       " 'trk_pid_chika_v_v',\n",
       " 'trk_pid_chimu_v_v',\n",
       " 'trk_pfp_id_v',\n",
       " 'trk_dir_x_v',\n",
       " 'trk_dir_y_v',\n",
       " 'trk_dir_z_v',\n",
       " 'trk_start_x_v',\n",
       " 'trk_start_y_v',\n",
       " 'trk_start_z_v',\n",
       " 'trk_sce_start_x_v',\n",
       " 'trk_sce_start_y_v',\n",
       " 'trk_sce_start_z_v',\n",
       " 'trk_end_x_v',\n",
       " 'trk_end_y_v',\n",
       " 'trk_end_z_v',\n",
       " 'trk_sce_end_x_v',\n",
       " 'trk_sce_end_y_v',\n",
       " 'trk_sce_end_z_v',\n",
       " 'trk_distance_v',\n",
       " 'trk_theta_v',\n",
       " 'trk_phi_v',\n",
       " 'trk_len_v',\n",
       " 'trk_mcs_muon_mom_v',\n",
       " 'trk_range_muon_mom_v',\n",
       " 'trk_energy_proton_v',\n",
       " 'trk_energy_muon_v',\n",
       " 'trk_calo_energy_u_v',\n",
       " 'trk_calo_energy_v_v',\n",
       " 'trk_calo_energy_y_v',\n",
       " 'trk_llr_pid_u_v',\n",
       " 'trk_llr_pid_v_v',\n",
       " 'trk_llr_pid_y_v',\n",
       " 'trk_llr_pid_v',\n",
       " 'trk_llr_pid_score_v']"
      ]
     },
     "execution_count": 14,
     "metadata": {},
     "output_type": "execute_result"
    },
    {
     "data": {
      "application/javascript": [
       "\n",
       "            setTimeout(function() {\n",
       "                var nbb_cell_id = 14;\n",
       "                var nbb_formatted_code = \"trk_fields\";\n",
       "                var nbb_cells = Jupyter.notebook.get_cells();\n",
       "                for (var i = 0; i < nbb_cells.length; ++i) {\n",
       "                    if (nbb_cells[i].input_prompt_number == nbb_cell_id) {\n",
       "                        nbb_cells[i].set_text(nbb_formatted_code);\n",
       "                        break;\n",
       "                    }\n",
       "                }\n",
       "            }, 500);\n",
       "            "
      ],
      "text/plain": [
       "<IPython.core.display.Javascript object>"
      ]
     },
     "metadata": {},
     "output_type": "display_data"
    }
   ],
   "source": [
    "trk_fields"
   ]
  },
  {
   "cell_type": "code",
   "execution_count": 15,
   "metadata": {
    "scrolled": true
   },
   "outputs": [
    {
     "data": {
      "text/plain": [
       "['shr_dedx_u_v',\n",
       " 'shr_dedx_v_v',\n",
       " 'shr_dedx_y_v',\n",
       " 'shr_energy_u_v',\n",
       " 'shr_energy_v_v',\n",
       " 'shr_energy_y_v',\n",
       " 'shr_pfp_id_v',\n",
       " 'shr_start_x_v',\n",
       " 'shr_start_y_v',\n",
       " 'shr_start_z_v',\n",
       " 'shr_dist_v',\n",
       " 'shr_start_U_v',\n",
       " 'shr_start_V_v',\n",
       " 'shr_px_v',\n",
       " 'shr_py_v',\n",
       " 'shr_pz_v',\n",
       " 'shr_openangle_v',\n",
       " 'shr_theta_v',\n",
       " 'shr_phi_v',\n",
       " 'shr_pitch_u_v',\n",
       " 'shr_pitch_v_v',\n",
       " 'shr_pitch_y_v',\n",
       " 'shr_tkfit_nhits_v',\n",
       " 'shr_tkfit_start_x_v',\n",
       " 'shr_tkfit_start_y_v',\n",
       " 'shr_tkfit_start_z_v',\n",
       " 'shr_tkfit_start_U_v',\n",
       " 'shr_tkfit_start_V_v',\n",
       " 'shr_tkfit_theta_v',\n",
       " 'shr_tkfit_phi_v',\n",
       " 'shr_tkfit_pitch_u_v',\n",
       " 'shr_tkfit_pitch_v_v',\n",
       " 'shr_tkfit_pitch_y_v',\n",
       " 'shr_tkfit_dedx_u_v',\n",
       " 'shr_tkfit_dedx_v_v',\n",
       " 'shr_tkfit_dedx_y_v',\n",
       " 'shr_tkfit_gap10_dedx_u_v',\n",
       " 'shr_tkfit_gap10_dedx_v_v',\n",
       " 'shr_tkfit_gap10_dedx_y_v',\n",
       " 'shr_tkfit_dedx_nhits_u_v',\n",
       " 'shr_tkfit_dedx_nhits_v_v',\n",
       " 'shr_tkfit_dedx_nhits_y_v',\n",
       " 'shr_moliere_avg_v',\n",
       " 'shr_moliere_rms_v',\n",
       " 'shr_spacepoint_start_x_v',\n",
       " 'shr_spacepoint_start_y_v',\n",
       " 'shr_spacepoint_start_z_v',\n",
       " 'shr_spacepoint_start_U_v',\n",
       " 'shr_spacepoint_start_V_v',\n",
       " 'shr_hits_start_U_wire_v',\n",
       " 'shr_hits_start_U_x_v',\n",
       " 'shr_hits_start_V_wire_v',\n",
       " 'shr_hits_start_V_x_v',\n",
       " 'shr_hits_start_Y_wire_v',\n",
       " 'shr_hits_start_Y_x_v']"
      ]
     },
     "execution_count": 15,
     "metadata": {},
     "output_type": "execute_result"
    },
    {
     "data": {
      "application/javascript": [
       "\n",
       "            setTimeout(function() {\n",
       "                var nbb_cell_id = 15;\n",
       "                var nbb_formatted_code = \"shr_fields\";\n",
       "                var nbb_cells = Jupyter.notebook.get_cells();\n",
       "                for (var i = 0; i < nbb_cells.length; ++i) {\n",
       "                    if (nbb_cells[i].input_prompt_number == nbb_cell_id) {\n",
       "                        nbb_cells[i].set_text(nbb_formatted_code);\n",
       "                        break;\n",
       "                    }\n",
       "                }\n",
       "            }, 500);\n",
       "            "
      ],
      "text/plain": [
       "<IPython.core.display.Javascript object>"
      ]
     },
     "metadata": {},
     "output_type": "display_data"
    }
   ],
   "source": [
    "shr_fields"
   ]
  },
  {
   "cell_type": "code",
   "execution_count": 16,
   "metadata": {
    "scrolled": true
   },
   "outputs": [
    {
     "data": {
      "text/plain": [
       "['backtracked_pdg',\n",
       " 'backtracked_e',\n",
       " 'backtracked_purity',\n",
       " 'backtracked_completeness',\n",
       " 'backtracked_overlay_purity',\n",
       " 'backtracked_px',\n",
       " 'backtracked_py',\n",
       " 'backtracked_pz',\n",
       " 'backtracked_start_x',\n",
       " 'backtracked_start_y',\n",
       " 'backtracked_start_z',\n",
       " 'backtracked_start_t',\n",
       " 'backtracked_start_U',\n",
       " 'backtracked_start_V',\n",
       " 'backtracked_start_Y',\n",
       " 'backtracked_sce_start_x',\n",
       " 'backtracked_sce_start_y',\n",
       " 'backtracked_sce_start_z',\n",
       " 'backtracked_sce_start_U',\n",
       " 'backtracked_sce_start_V',\n",
       " 'backtracked_sce_start_Y']"
      ]
     },
     "execution_count": 16,
     "metadata": {},
     "output_type": "execute_result"
    },
    {
     "data": {
      "application/javascript": [
       "\n",
       "            setTimeout(function() {\n",
       "                var nbb_cell_id = 16;\n",
       "                var nbb_formatted_code = \"backracked_fields\";\n",
       "                var nbb_cells = Jupyter.notebook.get_cells();\n",
       "                for (var i = 0; i < nbb_cells.length; ++i) {\n",
       "                    if (nbb_cells[i].input_prompt_number == nbb_cell_id) {\n",
       "                        nbb_cells[i].set_text(nbb_formatted_code);\n",
       "                        break;\n",
       "                    }\n",
       "                }\n",
       "            }, 500);\n",
       "            "
      ],
      "text/plain": [
       "<IPython.core.display.Javascript object>"
      ]
     },
     "metadata": {},
     "output_type": "display_data"
    }
   ],
   "source": [
    "backracked_fields"
   ]
  },
  {
   "cell_type": "code",
   "execution_count": 17,
   "metadata": {
    "scrolled": true
   },
   "outputs": [
    {
     "data": {
      "text/plain": [
       "{'CosmicDirAll2DEnds',\n",
       " 'CosmicDirAll2DOvlp',\n",
       " 'CosmicDirAll3D',\n",
       " 'CosmicIP',\n",
       " 'CosmicIPAll2DEnds',\n",
       " 'CosmicIPAll2DOvlp',\n",
       " 'CosmicIPAll3D',\n",
       " 'NeutrinoEnergy0',\n",
       " 'NeutrinoEnergy1',\n",
       " 'NeutrinoEnergy2',\n",
       " 'SliceCaloEnergy0',\n",
       " 'SliceCaloEnergy1',\n",
       " 'SliceCaloEnergy2',\n",
       " '_elecclusters_U_N',\n",
       " '_elecclusters_U_charge',\n",
       " '_elecclusters_V_N',\n",
       " '_elecclusters_V_charge',\n",
       " '_elecclusters_Y_N',\n",
       " '_elecclusters_Y_charge',\n",
       " '_opfilter_pe_beam',\n",
       " '_opfilter_pe_veto',\n",
       " 'bdt_cosmic',\n",
       " 'bdt_ext',\n",
       " 'bdt_global',\n",
       " 'bdt_nuNCpi0',\n",
       " 'bdt_numuCC',\n",
       " 'bdt_numuCCpi0',\n",
       " 'best_cosmic_flashmatch_score',\n",
       " 'best_obviouscosmic_flashmatch_score',\n",
       " 'category',\n",
       " 'ccnc',\n",
       " 'contained_fraction',\n",
       " 'contained_sps_ratio',\n",
       " 'cosmic_flashmatch_score_v',\n",
       " 'crthitpe',\n",
       " 'crtveto',\n",
       " 'dmc_boundary',\n",
       " 'dshr_boundary',\n",
       " 'dshr_x_boundary',\n",
       " 'dshr_y_boundary',\n",
       " 'dshr_z_boundary',\n",
       " 'dtrk',\n",
       " 'dtrk_boundary',\n",
       " 'dtrk_x_boundary',\n",
       " 'dtrk_y_boundary',\n",
       " 'dtrk_z_boundary',\n",
       " 'dvtx',\n",
       " 'dvtx_boundary',\n",
       " 'dvtx_x_boundary',\n",
       " 'dvtx_y_boundary',\n",
       " 'dvtx_z_boundary',\n",
       " 'elec_c',\n",
       " 'elec_e',\n",
       " 'elec_p',\n",
       " 'elec_px',\n",
       " 'elec_py',\n",
       " 'elec_pz',\n",
       " 'elec_vx',\n",
       " 'elec_vy',\n",
       " 'elec_vz',\n",
       " 'endmuonmichel',\n",
       " 'endmuonprocess',\n",
       " 'evgamnhits',\n",
       " 'evlepnhits',\n",
       " 'evneunhits',\n",
       " 'evnhits',\n",
       " 'evnunhits',\n",
       " 'evothnhits',\n",
       " 'evpi0nhits',\n",
       " 'evpi1nhits',\n",
       " 'evpronhits',\n",
       " 'evt',\n",
       " 'extra_energy_y',\n",
       " 'filter_antibdt',\n",
       " 'filter_ccinclusive',\n",
       " 'filter_ncpi0',\n",
       " 'filter_pi0',\n",
       " 'flash_pe',\n",
       " 'flash_time',\n",
       " 'frac_slnoise_pl1',\n",
       " 'hits_ratio',\n",
       " 'hits_u',\n",
       " 'hits_v',\n",
       " 'hits_y',\n",
       " 'interaction',\n",
       " 'isVtxInFiducial',\n",
       " 'ismerged',\n",
       " 'leeweight',\n",
       " 'lep_e',\n",
       " 'matched_E',\n",
       " 'merge_bestdist',\n",
       " 'merge_bestdot',\n",
       " 'merge_tk_ipfp',\n",
       " 'merge_vtx_x',\n",
       " 'merge_vtx_y',\n",
       " 'merge_vtx_z',\n",
       " 'muon_c',\n",
       " 'muon_e',\n",
       " 'muon_p',\n",
       " 'n_pfps',\n",
       " 'n_showers',\n",
       " 'n_showers_contained',\n",
       " 'n_tracks',\n",
       " 'n_tracks_contained',\n",
       " 'n_tracks_pandora',\n",
       " 'n_tracks_tkfit',\n",
       " 'nelec',\n",
       " 'nflag_pl1',\n",
       " 'nhits_pl1',\n",
       " 'nmuon',\n",
       " 'nneutron',\n",
       " 'nnoise_pl1',\n",
       " 'npi0',\n",
       " 'npion',\n",
       " 'nproton',\n",
       " 'nslhits_pl1',\n",
       " 'nslice',\n",
       " 'nslnoise_pl1',\n",
       " 'nu_completeness_from_pfp',\n",
       " 'nu_e',\n",
       " 'nu_flashmatch_score',\n",
       " 'nu_pdg',\n",
       " 'nu_pt',\n",
       " 'nu_purity_from_pfp',\n",
       " 'p',\n",
       " 'p_assume_muon',\n",
       " 'pass',\n",
       " 'pass_antibdt_filter',\n",
       " 'pfgamnhits',\n",
       " 'pflepnhits',\n",
       " 'pfneunhits',\n",
       " 'pfnhits',\n",
       " 'pfnplanehits_U',\n",
       " 'pfnplanehits_V',\n",
       " 'pfnplanehits_Y',\n",
       " 'pfnunhits',\n",
       " 'pfothnhits',\n",
       " 'pfp_generation_v',\n",
       " 'pfp_shr_daughters_v',\n",
       " 'pfp_slice_idx',\n",
       " 'pfp_trk_daughters_v',\n",
       " 'pfpdg',\n",
       " 'pfpi0nhits',\n",
       " 'pfpi1nhits',\n",
       " 'pfpplanesubclusters_U',\n",
       " 'pfpplanesubclusters_V',\n",
       " 'pfpplanesubclusters_Y',\n",
       " 'pfpplanesubhitfracmax_U',\n",
       " 'pfpplanesubhitfracmax_V',\n",
       " 'pfpplanesubhitfracmax_Y',\n",
       " 'pfpronhits',\n",
       " 'pi0_c',\n",
       " 'pi0_dedx1_U',\n",
       " 'pi0_dedx1_V',\n",
       " 'pi0_dedx1_Y',\n",
       " 'pi0_dedx1_fit_U',\n",
       " 'pi0_dedx1_fit_V',\n",
       " 'pi0_dedx1_fit_Y',\n",
       " 'pi0_dedx2_U',\n",
       " 'pi0_dedx2_V',\n",
       " 'pi0_dedx2_Y',\n",
       " 'pi0_dedx2_fit_U',\n",
       " 'pi0_dedx2_fit_V',\n",
       " 'pi0_dedx2_fit_Y',\n",
       " 'pi0_dot1',\n",
       " 'pi0_dot2',\n",
       " 'pi0_e',\n",
       " 'pi0_energy1_U',\n",
       " 'pi0_energy1_V',\n",
       " 'pi0_energy1_Y',\n",
       " 'pi0_energy2_U',\n",
       " 'pi0_energy2_V',\n",
       " 'pi0_energy2_Y',\n",
       " 'pi0_gammadot',\n",
       " 'pi0_mass_U',\n",
       " 'pi0_mass_V',\n",
       " 'pi0_mass_Y',\n",
       " 'pi0_mcgamma0_e',\n",
       " 'pi0_mcgamma0_px',\n",
       " 'pi0_mcgamma0_py',\n",
       " 'pi0_mcgamma0_pz',\n",
       " 'pi0_mcgamma1_e',\n",
       " 'pi0_mcgamma1_px',\n",
       " 'pi0_mcgamma1_py',\n",
       " 'pi0_mcgamma1_pz',\n",
       " 'pi0_mcrcdot0',\n",
       " 'pi0_mcrcdot1',\n",
       " 'pi0_mcrce0',\n",
       " 'pi0_mcrce1',\n",
       " 'pi0_ngamma',\n",
       " 'pi0_nshower',\n",
       " 'pi0_ntrack',\n",
       " 'pi0_p',\n",
       " 'pi0_radlen1',\n",
       " 'pi0_radlen2',\n",
       " 'pi0_rc_vtx_x',\n",
       " 'pi0_rc_vtx_y',\n",
       " 'pi0_rc_vtx_z',\n",
       " 'pi0_shrscore1',\n",
       " 'pi0_shrscore2',\n",
       " 'pi0truth_elec_dist',\n",
       " 'pi0truth_elec_edep',\n",
       " 'pi0truth_elec_etot',\n",
       " 'pi0truth_elec_parent',\n",
       " 'pi0truth_gamma1_dist',\n",
       " 'pi0truth_gamma1_edep',\n",
       " 'pi0truth_gamma1_etot',\n",
       " 'pi0truth_gamma2_dist',\n",
       " 'pi0truth_gamma2_edep',\n",
       " 'pi0truth_gamma2_etot',\n",
       " 'pi0truth_gamma_parent',\n",
       " 'pi0truth_gammadot',\n",
       " 'pion_c',\n",
       " 'pion_e',\n",
       " 'pion_p',\n",
       " 'proton_c',\n",
       " 'proton_e',\n",
       " 'proton_p',\n",
       " 'pt',\n",
       " 'pt_assume_muon',\n",
       " 'reco_nu_vtx_sce_x',\n",
       " 'reco_nu_vtx_sce_y',\n",
       " 'reco_nu_vtx_sce_z',\n",
       " 'reco_nu_vtx_x',\n",
       " 'reco_nu_vtx_y',\n",
       " 'reco_nu_vtx_z',\n",
       " 'run',\n",
       " 'secondshower_U_charge',\n",
       " 'secondshower_U_dir',\n",
       " 'secondshower_U_dot',\n",
       " 'secondshower_U_eigenratio',\n",
       " 'secondshower_U_nhit',\n",
       " 'secondshower_U_vtxdist',\n",
       " 'secondshower_V_charge',\n",
       " 'secondshower_V_dir',\n",
       " 'secondshower_V_dot',\n",
       " 'secondshower_V_eigenratio',\n",
       " 'secondshower_V_nhit',\n",
       " 'secondshower_V_vtxdist',\n",
       " 'secondshower_Y_charge',\n",
       " 'secondshower_Y_dir',\n",
       " 'secondshower_Y_dot',\n",
       " 'secondshower_Y_eigenratio',\n",
       " 'secondshower_Y_nhit',\n",
       " 'secondshower_Y_vtxdist',\n",
       " 'selected',\n",
       " 'shr_bkt_E',\n",
       " 'shr_bkt_completeness',\n",
       " 'shr_bkt_pdg',\n",
       " 'shr_bkt_purity',\n",
       " 'shr_bragg_kaon',\n",
       " 'shr_bragg_mip',\n",
       " 'shr_bragg_mu',\n",
       " 'shr_bragg_p',\n",
       " 'shr_bragg_pion',\n",
       " 'shr_chimu',\n",
       " 'shr_chipr',\n",
       " 'shr_dedx_U',\n",
       " 'shr_dedx_U_cali',\n",
       " 'shr_dedx_V',\n",
       " 'shr_dedx_V_cali',\n",
       " 'shr_dedx_Y',\n",
       " 'shr_dedx_Y_cali',\n",
       " 'shr_distance',\n",
       " 'shr_energy',\n",
       " 'shr_energy_cali',\n",
       " 'shr_energy_tot',\n",
       " 'shr_energy_tot_cali',\n",
       " 'shr_hits_max',\n",
       " 'shr_hits_tot',\n",
       " 'shr_hits_u_tot',\n",
       " 'shr_hits_v_tot',\n",
       " 'shr_hits_y_tot',\n",
       " 'shr_id',\n",
       " 'shr_openangle',\n",
       " 'shr_pca_0',\n",
       " 'shr_pca_1',\n",
       " 'shr_pca_2',\n",
       " 'shr_phi',\n",
       " 'shr_px',\n",
       " 'shr_py',\n",
       " 'shr_pz',\n",
       " 'shr_score',\n",
       " 'shr_start_x',\n",
       " 'shr_start_y',\n",
       " 'shr_start_z',\n",
       " 'shr_theta',\n",
       " 'shr_tkfit_2cm_dedx_U',\n",
       " 'shr_tkfit_2cm_dedx_V',\n",
       " 'shr_tkfit_2cm_dedx_Y',\n",
       " 'shr_tkfit_2cm_nhits_U',\n",
       " 'shr_tkfit_2cm_nhits_V',\n",
       " 'shr_tkfit_2cm_nhits_Y',\n",
       " 'shr_tkfit_dedx_U',\n",
       " 'shr_tkfit_dedx_U_alt',\n",
       " 'shr_tkfit_dedx_V',\n",
       " 'shr_tkfit_dedx_V_alt',\n",
       " 'shr_tkfit_dedx_Y',\n",
       " 'shr_tkfit_dedx_Y_alt',\n",
       " 'shr_tkfit_gap05_dedx_U',\n",
       " 'shr_tkfit_gap05_dedx_V',\n",
       " 'shr_tkfit_gap05_dedx_Y',\n",
       " 'shr_tkfit_gap05_nhits_U',\n",
       " 'shr_tkfit_gap05_nhits_V',\n",
       " 'shr_tkfit_gap05_nhits_Y',\n",
       " 'shr_tkfit_gap10_dedx_U',\n",
       " 'shr_tkfit_gap10_dedx_V',\n",
       " 'shr_tkfit_gap10_dedx_Y',\n",
       " 'shr_tkfit_gap10_nhits_U',\n",
       " 'shr_tkfit_gap10_nhits_V',\n",
       " 'shr_tkfit_gap10_nhits_Y',\n",
       " 'shr_tkfit_nhits_U',\n",
       " 'shr_tkfit_nhits_U_alt',\n",
       " 'shr_tkfit_nhits_V',\n",
       " 'shr_tkfit_nhits_V_alt',\n",
       " 'shr_tkfit_nhits_Y',\n",
       " 'shr_tkfit_nhits_Y_alt',\n",
       " 'shr_tkfit_npoints',\n",
       " 'shr_tkfit_npointsvalid',\n",
       " 'shr_tkfit_phi',\n",
       " 'shr_tkfit_start_x',\n",
       " 'shr_tkfit_start_y',\n",
       " 'shr_tkfit_start_z',\n",
       " 'shr_tkfit_theta',\n",
       " 'shr_trkfitmedangle',\n",
       " 'shrclusdir0',\n",
       " 'shrclusdir1',\n",
       " 'shrclusdir2',\n",
       " 'shrclusfrac0',\n",
       " 'shrclusfrac1',\n",
       " 'shrclusfrac2',\n",
       " 'shrmoliereavg',\n",
       " 'shrmoliererms',\n",
       " 'shrsubclusters0',\n",
       " 'shrsubclusters1',\n",
       " 'shrsubclusters2',\n",
       " 'slclustfrac',\n",
       " 'slgamnhits',\n",
       " 'sllepnhits',\n",
       " 'slneunhits',\n",
       " 'slnhits',\n",
       " 'slnunhits',\n",
       " 'slothnhits',\n",
       " 'slpdg',\n",
       " 'slpi0nhits',\n",
       " 'slpi1nhits',\n",
       " 'slpronhits',\n",
       " 'sps_contained_fraction',\n",
       " 'sub',\n",
       " 'swtrig',\n",
       " 'theta',\n",
       " 'tksh_angle',\n",
       " 'tksh_distance',\n",
       " 'topological_score',\n",
       " 'total_hits_y',\n",
       " 'trk_bkt_E',\n",
       " 'trk_bkt_completeness',\n",
       " 'trk_bkt_pdg',\n",
       " 'trk_bkt_purity',\n",
       " 'trk_bragg_kaon',\n",
       " 'trk_bragg_mip',\n",
       " 'trk_bragg_mu',\n",
       " 'trk_bragg_p',\n",
       " 'trk_bragg_pion',\n",
       " 'trk_chimu',\n",
       " 'trk_chimu_best',\n",
       " 'trk_chimu_worst',\n",
       " 'trk_chipr',\n",
       " 'trk_chipr_best',\n",
       " 'trk_chipr_worst',\n",
       " 'trk_distance',\n",
       " 'trk_energy',\n",
       " 'trk_energy_hits_tot',\n",
       " 'trk_energy_muon',\n",
       " 'trk_energy_muon_mcs',\n",
       " 'trk_energy_muon_tot',\n",
       " 'trk_energy_tot',\n",
       " 'trk_hits_max',\n",
       " 'trk_hits_tot',\n",
       " 'trk_hits_u_tot',\n",
       " 'trk_hits_v_tot',\n",
       " 'trk_hits_y_tot',\n",
       " 'trk_id',\n",
       " 'trk_len',\n",
       " 'trk_phi',\n",
       " 'trk_pida',\n",
       " 'trk_score',\n",
       " 'trk_theta',\n",
       " 'trkshrhitdist0',\n",
       " 'trkshrhitdist1',\n",
       " 'trkshrhitdist2',\n",
       " 'truthFiducial',\n",
       " 'vtx_fit_pandora_is_valid',\n",
       " 'vtx_fit_pandora_x',\n",
       " 'vtx_fit_pandora_y',\n",
       " 'vtx_fit_pandora_z',\n",
       " 'vtx_fit_tkfit_is_valid',\n",
       " 'vtx_fit_tkfit_x',\n",
       " 'vtx_fit_tkfit_y',\n",
       " 'vtx_fit_tkfit_z',\n",
       " 'weightSpline',\n",
       " 'weightSplineTimesTune',\n",
       " 'weightTune',\n",
       " 'weights',\n",
       " 'weightsFlux',\n",
       " 'weightsGenie',\n",
       " 'weightsReint'}"
      ]
     },
     "execution_count": 17,
     "metadata": {},
     "output_type": "execute_result"
    },
    {
     "data": {
      "application/javascript": [
       "\n",
       "            setTimeout(function() {\n",
       "                var nbb_cell_id = 17;\n",
       "                var nbb_formatted_code = \"other_fields\";\n",
       "                var nbb_cells = Jupyter.notebook.get_cells();\n",
       "                for (var i = 0; i < nbb_cells.length; ++i) {\n",
       "                    if (nbb_cells[i].input_prompt_number == nbb_cell_id) {\n",
       "                        nbb_cells[i].set_text(nbb_formatted_code);\n",
       "                        break;\n",
       "                    }\n",
       "                }\n",
       "            }, 500);\n",
       "            "
      ],
      "text/plain": [
       "<IPython.core.display.Javascript object>"
      ]
     },
     "metadata": {},
     "output_type": "display_data"
    }
   ],
   "source": [
    "other_fields"
   ]
  },
  {
   "cell_type": "code",
   "execution_count": 18,
   "metadata": {
    "scrolled": false
   },
   "outputs": [
    {
     "data": {
      "text/plain": [
       "['truthFiducial']"
      ]
     },
     "execution_count": 18,
     "metadata": {},
     "output_type": "execute_result"
    },
    {
     "data": {
      "application/javascript": [
       "\n",
       "            setTimeout(function() {\n",
       "                var nbb_cell_id = 18;\n",
       "                var nbb_formatted_code = \"# search through fields:\\n[f for f in fields if \\\"truthFiducial\\\" in f]\";\n",
       "                var nbb_cells = Jupyter.notebook.get_cells();\n",
       "                for (var i = 0; i < nbb_cells.length; ++i) {\n",
       "                    if (nbb_cells[i].input_prompt_number == nbb_cell_id) {\n",
       "                        nbb_cells[i].set_text(nbb_formatted_code);\n",
       "                        break;\n",
       "                    }\n",
       "                }\n",
       "            }, 500);\n",
       "            "
      ],
      "text/plain": [
       "<IPython.core.display.Javascript object>"
      ]
     },
     "metadata": {},
     "output_type": "display_data"
    }
   ],
   "source": [
    "# search through fields:\n",
    "[f for f in fields if \"truthFiducial\" in f]"
   ]
  },
  {
   "cell_type": "code",
   "execution_count": 19,
   "metadata": {},
   "outputs": [
    {
     "data": {
      "text/plain": [
       "Index(['run', 'sub', 'evt', 'topological_score', 'n_pfps', 'n_showers',\n",
       "       'n_tracks', 'reco_nu_vtx_sce_x', 'reco_nu_vtx_sce_y',\n",
       "       'reco_nu_vtx_sce_z', 'reco_nu_vtx_x', 'reco_nu_vtx_y', 'reco_nu_vtx_z',\n",
       "       'crtveto', 'crthitpe', 'slclustfrac', 'nu_flashmatch_score', 'category',\n",
       "       'nslice', 'contained_sps_ratio', 'slpdg', 'SliceCaloEnergy2',\n",
       "       'NeutrinoEnergy2', 'secondshower_U_nhit', 'secondshower_V_nhit',\n",
       "       'secondshower_Y_nhit', 'secondshower_Y_vtxdist', 'secondshower_Y_dot',\n",
       "       'secondshower_Y_dir', 'secondshower_Y_eigenratio', 'hits_ratio',\n",
       "       'contained_fraction', 'n_showers_contained', 'n_tracks_contained',\n",
       "       'shrclusdir2', 'shrsubclusters2', 'shrclusfrac2', 'extra_energy_y',\n",
       "       'CosmicIP', 'ismerged', 'merge_bestdot', 'merge_bestdist',\n",
       "       'trk_score_v', 'trk_distance_v', 'trk_theta_v', 'trk_phi_v',\n",
       "       'trk_len_v', 'trk_llr_pid_score_v', 'trk_mcs_muon_mom_v',\n",
       "       'trk_range_muon_mom_v', 'trk_energy_proton_v', 'trk_calo_energy_y_v',\n",
       "       'trk_sce_end_x_v', 'trk_sce_end_y_v', 'trk_sce_end_z_v',\n",
       "       'trk_sce_start_x_v', 'trk_sce_start_y_v', 'trk_sce_start_z_v',\n",
       "       'trk_start_x_v', 'trk_start_y_v', 'trk_start_z_v', 'shr_dist_v',\n",
       "       'shr_energy_y_v', 'shr_energy_u_v', 'shr_energy_v_v',\n",
       "       'shr_tkfit_start_x_v', 'shr_tkfit_start_y_v', 'shr_tkfit_start_z_v',\n",
       "       'shr_start_x_v', 'shr_start_y_v', 'shr_start_z_v', 'shr_tkfit_theta_v',\n",
       "       'shr_tkfit_phi_v', 'shr_phi_v', 'shr_theta_v', 'shr_tkfit_dedx_u_v',\n",
       "       'shr_tkfit_dedx_v_v', 'shr_tkfit_dedx_y_v', 'shr_tkfit_gap10_dedx_u_v',\n",
       "       'shr_tkfit_gap10_dedx_v_v', 'shr_tkfit_gap10_dedx_y_v',\n",
       "       'shr_tkfit_nhits_v', 'shr_tkfit_dedx_nhits_u_v',\n",
       "       'shr_tkfit_dedx_nhits_v_v', 'shr_tkfit_dedx_nhits_y_v',\n",
       "       'shr_moliere_avg_v', 'pfnplanehits_U', 'pfnplanehits_V',\n",
       "       'pfnplanehits_Y', 'pfpplanesubclusters_U', 'pfpplanesubclusters_V',\n",
       "       'pfpplanesubclusters_Y', 'pfpplanesubhitfracmax_Y', 'pfnhits',\n",
       "       'pfp_generation_v', 'pfp_trk_daughters_v', 'pfp_shr_daughters_v',\n",
       "       'trk_min_cos'],\n",
       "      dtype='object')"
      ]
     },
     "execution_count": 19,
     "metadata": {},
     "output_type": "execute_result"
    },
    {
     "data": {
      "application/javascript": [
       "\n",
       "            setTimeout(function() {\n",
       "                var nbb_cell_id = 19;\n",
       "                var nbb_formatted_code = \"sample_info[\\\"on\\\"][\\\"daughters\\\"].keys()\";\n",
       "                var nbb_cells = Jupyter.notebook.get_cells();\n",
       "                for (var i = 0; i < nbb_cells.length; ++i) {\n",
       "                    if (nbb_cells[i].input_prompt_number == nbb_cell_id) {\n",
       "                        nbb_cells[i].set_text(nbb_formatted_code);\n",
       "                        break;\n",
       "                    }\n",
       "                }\n",
       "            }, 500);\n",
       "            "
      ],
      "text/plain": [
       "<IPython.core.display.Javascript object>"
      ]
     },
     "metadata": {},
     "output_type": "display_data"
    }
   ],
   "source": [
    "sample_info[\"on\"][\"daughters\"].keys()"
   ]
  },
  {
   "cell_type": "markdown",
   "metadata": {},
   "source": [
    "### Add fields"
   ]
  },
  {
   "cell_type": "code",
   "execution_count": 20,
   "metadata": {
    "scrolled": false
   },
   "outputs": [
    {
     "name": "stdout",
     "output_type": "stream",
     "text": [
      "nu\n",
      "nue\n",
      "on\n",
      "off\n",
      "dirt\n",
      "train\n",
      "CPU times: user 12.9 s, sys: 630 ms, total: 13.5 s\n",
      "Wall time: 7.42 s\n"
     ]
    },
    {
     "data": {
      "application/javascript": [
       "\n",
       "            setTimeout(function() {\n",
       "                var nbb_cell_id = 20;\n",
       "                var nbb_formatted_code = \"%%time\\n# For all samples\\nfor k, v in sample_info.items():\\n    print(k)\\n    grouper='event'\\n    if k=='train':\\n        grouper=['event','sample']\\n    # Add fiducial reco sce vtx\\n    v[\\\"daughters\\\"][\\\"reco_fid_vol\\\"] = np.repeat(\\n       helper.is_fid(\\n           *v[\\\"daughters\\\"][\\n               [\\\"reco_nu_vtx_sce_x\\\", \\\"reco_nu_vtx_sce_y\\\", \\\"reco_nu_vtx_sce_z\\\"]\\n           ]\\n           .xs(0, level=\\\"daughter\\\")\\n           .values.T\\n       ),\\n       v[\\\"daughters\\\"][\\\"n_pfps\\\"].xs(0, level=\\\"daughter\\\"),\\n    )\\n    end_mask = helper.is_contain(\\n        v[\\\"daughters\\\"][\\\"trk_sce_end_x_v\\\"],\\n        v[\\\"daughters\\\"][\\\"trk_sce_end_y_v\\\"],\\n        v[\\\"daughters\\\"][\\\"trk_sce_end_z_v\\\"],\\n    )\\n    start_mask = helper.is_contain(\\n        v[\\\"daughters\\\"][\\\"trk_sce_start_x_v\\\"],\\n        v[\\\"daughters\\\"][\\\"trk_sce_start_y_v\\\"],\\n        v[\\\"daughters\\\"][\\\"trk_sce_start_z_v\\\"],\\n    )\\n    v[\\\"daughters\\\"][\\\"all_start_contained\\\"] = start_mask\\n    v[\\\"daughters\\\"][\\\"all_start_contained\\\"] = (\\n        v[\\\"daughters\\\"][\\\"all_start_contained\\\"].groupby(grouper, sort=False).transform(min)\\n    )\\n    v[\\\"daughters\\\"][\\\"all_end_contained\\\"] = end_mask\\n    v[\\\"daughters\\\"][\\\"all_end_contained\\\"] = (\\n        v[\\\"daughters\\\"][\\\"all_end_contained\\\"].groupby(grouper, sort=False).transform(min)\\n    )\\n    # Add pfp at vtx:\\n    v[\\\"daughters\\\"][\\\"n_pfpvtx\\\"] = v[\\\"daughters\\\"].eval(\\\"trk_distance_v<3 & trk_distance_v>=0\\\")\\n    v[\\\"daughters\\\"][\\\"n_pfpvtx\\\"] = v[\\\"daughters\\\"]['n_pfpvtx'].groupby(grouper, sort=False).transform(sum)\\n    v[\\\"daughters\\\"][\\\"n_pfp_farvtx\\\"] = v[\\\"daughters\\\"].eval(\\\"n_pfps-n_pfpvtx\\\")\\n    # Add shower distance: \\n    #v[\\\"daughters\\\"][\\\"shr_dist_v\\\"] = v[\\\"daughters\\\"].eval('sqrt((shr_tkfit_start_x_v-reco_nu_vtx_x)**2+ (shr_tkfit_start_y_v-reco_nu_vtx_y)**2 + (shr_tkfit_start_z_v-reco_nu_vtx_z)**2)')\\n    # Add second shower total hits:\\n    v[\\\"daughters\\\"][\\\"secondshower_nhit\\\"] = v[\\\"daughters\\\"].eval(\\\"secondshower_U_nhit+secondshower_V_nhit+secondshower_Y_nhit\\\")\\n    # Add electron candidate check\\n    e_cand_str = 'pfnplanehits_U>0 & pfnplanehits_V>0 & pfnplanehits_Y>0 & trk_score_v<@max_trk_score & shr_tkfit_dedx_nhits_y_v>0 & pfp_generation_v==2'    \\n    data = v[\\\"daughters\\\"][\\n               [\\n                   \\\"pfnplanehits_U\\\", \\\"pfnplanehits_V\\\", \\\"pfnplanehits_Y\\\",\\n                   \\\"trk_score_v\\\",'shr_tkfit_dedx_nhits_y_v',\\n                   \\\"shr_dist_v\\\", 'pfp_generation_v', \\\"shr_energy_y_v\\\"\\n               ]\\n           ]\\n    electron_candidate = data.eval(e_cand_str)\\n    e_cand_maxe = data[electron_candidate][\\\"shr_energy_y_v\\\"].groupby(grouper, sort=False).transform(max) == data[electron_candidate][\\\"shr_energy_y_v\\\"]\\n    v[\\\"daughters\\\"][\\\"e_candidate\\\"] = False\\n    v[\\\"daughters\\\"].loc[e_cand_maxe[e_cand_maxe == True].index, \\\"e_candidate\\\"] = True\\n    # Add weighted dedx:\\n    dedx_cols = [\\\"shr_tkfit_dedx_u_v\\\",\\n                   \\\"shr_tkfit_dedx_v_v\\\",\\n                   \\\"shr_tkfit_dedx_y_v\\\",\\n                   'shr_tkfit_nhits_v',\\n                   \\\"shr_tkfit_dedx_nhits_u_v\\\",\\n                   \\\"shr_tkfit_dedx_nhits_v_v\\\",\\n                   \\\"shr_tkfit_dedx_nhits_y_v\\\"]\\n    v[\\\"daughters\\\"][dedx_cols]=v[\\\"daughters\\\"][dedx_cols].clip(lower=0)\\n    str_dedx_weighted_mean='(shr_tkfit_dedx_u_v*shr_tkfit_dedx_nhits_u_v+shr_tkfit_dedx_v_v*shr_tkfit_dedx_nhits_v_v+shr_tkfit_dedx_y_v*shr_tkfit_dedx_nhits_y_v)/(shr_tkfit_dedx_nhits_u_v+shr_tkfit_dedx_nhits_v_v+shr_tkfit_dedx_nhits_y_v)'\\n    v[\\\"daughters\\\"]['shr_tkfit_dedx_wm_v']= v[\\\"daughters\\\"].eval(str_dedx_weighted_mean)\\n    # Add the number of hits per length:\\n    v[\\\"daughters\\\"]['hits_per_tklen_v']= v[\\\"daughters\\\"].eval('pfnhits/trk_len_v')\\n    # Add the ratio between dedx at 0cm and 1cm:\\n    v[\\\"daughters\\\"]['shr_tkfit_ratiogap_dedx_y_v']= v[\\\"daughters\\\"].eval('shr_tkfit_dedx_y_v/shr_tkfit_gap10_dedx_y_v')\\n    # Add the sum of shower subclusters:\\n    v[\\\"daughters\\\"]['shr_subclusters_v']= v[\\\"daughters\\\"].eval('pfpplanesubclusters_U+pfpplanesubclusters_V+pfpplanesubclusters_Y')\\n    # Add the sum of shower subclusters:\\n    v[\\\"daughters\\\"]['shr_tkfit_hitratio_v']= v[\\\"daughters\\\"].eval('shr_tkfit_nhits_v/pfnhits')\\n    # Explore mcs muon momentum:\\n    v[\\\"daughters\\\"]['trk_muon_hypothesis_ratio_v']= v[\\\"daughters\\\"].eval('trk_mcs_muon_mom_v/trk_calo_energy_y_v')\\n    \\n    # Add muon veto:\\n    q_muon_select = \\\"(trk_llr_pid_score_v>0.4 & trk_score_v>0.8 & trk_len_v>20 & pfp_generation_v==2 & trk_distance_v<4)\\\"\\n    v[\\\"daughters\\\"]['mu_candidate']= v[\\\"daughters\\\"].eval(q_muon_select)\\n    v[\\\"daughters\\\"][\\\"mu_candidate_event\\\"] = v[\\\"daughters\\\"]['mu_candidate'].groupby(grouper, sort=False).transform(max)\";\n",
       "                var nbb_cells = Jupyter.notebook.get_cells();\n",
       "                for (var i = 0; i < nbb_cells.length; ++i) {\n",
       "                    if (nbb_cells[i].input_prompt_number == nbb_cell_id) {\n",
       "                        nbb_cells[i].set_text(nbb_formatted_code);\n",
       "                        break;\n",
       "                    }\n",
       "                }\n",
       "            }, 500);\n",
       "            "
      ],
      "text/plain": [
       "<IPython.core.display.Javascript object>"
      ]
     },
     "metadata": {},
     "output_type": "display_data"
    }
   ],
   "source": [
    "%%time\n",
    "# For all samples\n",
    "for k, v in sample_info.items():\n",
    "    print(k)\n",
    "    grouper='event'\n",
    "    if k=='train':\n",
    "        grouper=['event','sample']\n",
    "    # Add fiducial reco sce vtx\n",
    "    v[\"daughters\"][\"reco_fid_vol\"] = np.repeat(\n",
    "       helper.is_fid(\n",
    "           *v[\"daughters\"][\n",
    "               [\"reco_nu_vtx_sce_x\", \"reco_nu_vtx_sce_y\", \"reco_nu_vtx_sce_z\"]\n",
    "           ]\n",
    "           .xs(0, level=\"daughter\")\n",
    "           .values.T\n",
    "       ),\n",
    "       v[\"daughters\"][\"n_pfps\"].xs(0, level=\"daughter\"),\n",
    "    )\n",
    "    end_mask = helper.is_contain(\n",
    "        v[\"daughters\"][\"trk_sce_end_x_v\"],\n",
    "        v[\"daughters\"][\"trk_sce_end_y_v\"],\n",
    "        v[\"daughters\"][\"trk_sce_end_z_v\"],\n",
    "    )\n",
    "    start_mask = helper.is_contain(\n",
    "        v[\"daughters\"][\"trk_sce_start_x_v\"],\n",
    "        v[\"daughters\"][\"trk_sce_start_y_v\"],\n",
    "        v[\"daughters\"][\"trk_sce_start_z_v\"],\n",
    "    )\n",
    "    v[\"daughters\"][\"all_start_contained\"] = start_mask\n",
    "    v[\"daughters\"][\"all_start_contained\"] = (\n",
    "        v[\"daughters\"][\"all_start_contained\"].groupby(grouper, sort=False).transform(min)\n",
    "    )\n",
    "    v[\"daughters\"][\"all_end_contained\"] = end_mask\n",
    "    v[\"daughters\"][\"all_end_contained\"] = (\n",
    "        v[\"daughters\"][\"all_end_contained\"].groupby(grouper, sort=False).transform(min)\n",
    "    )\n",
    "    # Add pfp at vtx:\n",
    "    v[\"daughters\"][\"n_pfpvtx\"] = v[\"daughters\"].eval(\"trk_distance_v<3 & trk_distance_v>=0\")\n",
    "    v[\"daughters\"][\"n_pfpvtx\"] = v[\"daughters\"]['n_pfpvtx'].groupby(grouper, sort=False).transform(sum)\n",
    "    v[\"daughters\"][\"n_pfp_farvtx\"] = v[\"daughters\"].eval(\"n_pfps-n_pfpvtx\")\n",
    "    # Add shower distance: \n",
    "    #v[\"daughters\"][\"shr_dist_v\"] = v[\"daughters\"].eval('sqrt((shr_tkfit_start_x_v-reco_nu_vtx_x)**2+ (shr_tkfit_start_y_v-reco_nu_vtx_y)**2 + (shr_tkfit_start_z_v-reco_nu_vtx_z)**2)')\n",
    "    # Add second shower total hits:\n",
    "    v[\"daughters\"][\"secondshower_nhit\"] = v[\"daughters\"].eval(\"secondshower_U_nhit+secondshower_V_nhit+secondshower_Y_nhit\")\n",
    "    # Add electron candidate check\n",
    "    e_cand_str = 'pfnplanehits_U>0 & pfnplanehits_V>0 & pfnplanehits_Y>0 & trk_score_v<@max_trk_score & shr_tkfit_dedx_nhits_y_v>0 & pfp_generation_v==2'    \n",
    "    data = v[\"daughters\"][\n",
    "               [\n",
    "                   \"pfnplanehits_U\", \"pfnplanehits_V\", \"pfnplanehits_Y\",\n",
    "                   \"trk_score_v\",'shr_tkfit_dedx_nhits_y_v',\n",
    "                   \"shr_dist_v\", 'pfp_generation_v', \"shr_energy_y_v\"\n",
    "               ]\n",
    "           ]\n",
    "    electron_candidate = data.eval(e_cand_str)\n",
    "    e_cand_maxe = data[electron_candidate][\"shr_energy_y_v\"].groupby(grouper, sort=False).transform(max) == data[electron_candidate][\"shr_energy_y_v\"]\n",
    "    v[\"daughters\"][\"e_candidate\"] = False\n",
    "    v[\"daughters\"].loc[e_cand_maxe[e_cand_maxe == True].index, \"e_candidate\"] = True\n",
    "    # Add weighted dedx:\n",
    "    dedx_cols = [\"shr_tkfit_dedx_u_v\",\n",
    "                   \"shr_tkfit_dedx_v_v\",\n",
    "                   \"shr_tkfit_dedx_y_v\",\n",
    "                   'shr_tkfit_nhits_v',\n",
    "                   \"shr_tkfit_dedx_nhits_u_v\",\n",
    "                   \"shr_tkfit_dedx_nhits_v_v\",\n",
    "                   \"shr_tkfit_dedx_nhits_y_v\"]\n",
    "    v[\"daughters\"][dedx_cols]=v[\"daughters\"][dedx_cols].clip(lower=0)\n",
    "    str_dedx_weighted_mean='(shr_tkfit_dedx_u_v*shr_tkfit_dedx_nhits_u_v+shr_tkfit_dedx_v_v*shr_tkfit_dedx_nhits_v_v+shr_tkfit_dedx_y_v*shr_tkfit_dedx_nhits_y_v)/(shr_tkfit_dedx_nhits_u_v+shr_tkfit_dedx_nhits_v_v+shr_tkfit_dedx_nhits_y_v)'\n",
    "    v[\"daughters\"]['shr_tkfit_dedx_wm_v']= v[\"daughters\"].eval(str_dedx_weighted_mean)\n",
    "    # Add the number of hits per length:\n",
    "    v[\"daughters\"]['hits_per_tklen_v']= v[\"daughters\"].eval('pfnhits/trk_len_v')\n",
    "    # Add the ratio between dedx at 0cm and 1cm:\n",
    "    v[\"daughters\"]['shr_tkfit_ratiogap_dedx_y_v']= v[\"daughters\"].eval('shr_tkfit_dedx_y_v/shr_tkfit_gap10_dedx_y_v')\n",
    "    # Add the sum of shower subclusters:\n",
    "    v[\"daughters\"]['shr_subclusters_v']= v[\"daughters\"].eval('pfpplanesubclusters_U+pfpplanesubclusters_V+pfpplanesubclusters_Y')\n",
    "    # Add the sum of shower subclusters:\n",
    "    v[\"daughters\"]['shr_tkfit_hitratio_v']= v[\"daughters\"].eval('shr_tkfit_nhits_v/pfnhits')\n",
    "    # Explore mcs muon momentum:\n",
    "    v[\"daughters\"]['trk_muon_hypothesis_ratio_v']= v[\"daughters\"].eval('trk_mcs_muon_mom_v/trk_calo_energy_y_v')\n",
    "    \n",
    "    # Add muon veto:\n",
    "    q_muon_select = \"(trk_llr_pid_score_v>0.4 & trk_score_v>0.8 & trk_len_v>20 & pfp_generation_v==2 & trk_distance_v<4)\"\n",
    "    v[\"daughters\"]['mu_candidate']= v[\"daughters\"].eval(q_muon_select)\n",
    "    v[\"daughters\"][\"mu_candidate_event\"] = v[\"daughters\"]['mu_candidate'].groupby(grouper, sort=False).transform(max)"
   ]
  },
  {
   "cell_type": "code",
   "execution_count": 21,
   "metadata": {
    "scrolled": false
   },
   "outputs": [
    {
     "name": "stderr",
     "output_type": "stream",
     "text": [
      "/home/wouter/Binaries/miniconda3/envs/uproot/lib/python3.7/site-packages/numpy/linalg/linalg.py:2512: RuntimeWarning: overflow encountered in multiply\n",
      "  s = (x.conj() * x).real\n"
     ]
    },
    {
     "name": "stdout",
     "output_type": "stream",
     "text": [
      "CPU times: user 6.1 s, sys: 2.39 s, total: 8.49 s\n",
      "Wall time: 4.75 s\n"
     ]
    },
    {
     "data": {
      "application/javascript": [
       "\n",
       "            setTimeout(function() {\n",
       "                var nbb_cell_id = 21;\n",
       "                var nbb_formatted_code = \"%%time\\n# For MC samples\\nfor k, v in sample_info.items():\\n    if k not in helper.data_samples:\\n        # Add distance between reco_sce and true vertex\\n        data = (\\n            v[\\\"daughters\\\"][\\n                [\\n                    \\\"reco_nu_vtx_sce_x\\\",\\n                    \\\"reco_nu_vtx_sce_y\\\",\\n                    \\\"reco_nu_vtx_sce_z\\\",\\n                    \\\"true_nu_vtx_x\\\",\\n                    \\\"true_nu_vtx_y\\\",\\n                    \\\"true_nu_vtx_z\\\",\\n                ]\\n            ]\\n            .xs(0, level=\\\"daughter\\\")\\n            .values.T\\n        )\\n        data[0]-=x_sce_magic # Correct x location for the 0.6 sign error\\n        \\n        v[\\\"daughters\\\"][\\\"true_vtx_distance\\\"] = np.repeat(\\n            np.linalg.norm(data[0:3] - data[3:6], axis=0),\\n            v[\\\"daughters\\\"][\\\"n_pfps\\\"].xs(0, level=\\\"daughter\\\"),\\n        )\\n        # Cross-check vtx distance\\n        data = (\\n            v[\\\"daughters\\\"][\\n                [\\n                    \\\"true_nu_vtx_sce_x\\\",\\n                    \\\"true_nu_vtx_sce_y\\\",\\n                    \\\"true_nu_vtx_sce_z\\\",\\n                    \\\"reco_nu_vtx_x\\\",\\n                    \\\"reco_nu_vtx_y\\\",\\n                    \\\"reco_nu_vtx_z\\\",\\n                ]\\n            ]\\n            .xs(0, level=\\\"daughter\\\")\\n            .values.T\\n        )\\n        v[\\\"daughters\\\"][\\\"true_vtx_distance_check\\\"] = np.repeat(\\n            np.linalg.norm(data[0:3] - data[3:6], axis=0),\\n            v[\\\"daughters\\\"][\\\"n_pfps\\\"].xs(0, level=\\\"daughter\\\"),\\n        )\\n        # Add the distance between the true neutrino vertex and the reconstructed shower start point\\n        data = (\\n            v[\\\"daughters\\\"][\\n                [\\n                    \\\"true_nu_vtx_sce_x\\\",\\n                    \\\"true_nu_vtx_sce_y\\\",\\n                    \\\"true_nu_vtx_sce_z\\\",\\n                    \\\"shr_tkfit_start_x_v\\\",\\n                    \\\"shr_tkfit_start_y_v\\\",\\n                    \\\"shr_tkfit_start_z_v\\\",\\n                ]\\n            ]\\n            .values.T\\n        )\\n        v[\\\"daughters\\\"][\\\"true_shower_distance\\\"] = np.linalg.norm(data[0:3] - data[3:6], axis=0)\\n        \\n        # Add the modified purity/completeness to account for overlay.\\n        overlay_mask = v[\\\"daughters\\\"].eval('backtracked_overlay_purity>backtracked_purity')\\n        v[\\\"daughters\\\"].loc[overlay_mask, 'backtracked_pdg'] = 0\\n        v[\\\"daughters\\\"].loc[overlay_mask, 'backtracked_purity'] = v[\\\"daughters\\\"].loc[overlay_mask, 'backtracked_overlay_purity']\\n        v[\\\"daughters\\\"].loc[overlay_mask, 'backtracked_completeness'] = 0\";\n",
       "                var nbb_cells = Jupyter.notebook.get_cells();\n",
       "                for (var i = 0; i < nbb_cells.length; ++i) {\n",
       "                    if (nbb_cells[i].input_prompt_number == nbb_cell_id) {\n",
       "                        nbb_cells[i].set_text(nbb_formatted_code);\n",
       "                        break;\n",
       "                    }\n",
       "                }\n",
       "            }, 500);\n",
       "            "
      ],
      "text/plain": [
       "<IPython.core.display.Javascript object>"
      ]
     },
     "metadata": {},
     "output_type": "display_data"
    }
   ],
   "source": [
    "%%time\n",
    "# For MC samples\n",
    "for k, v in sample_info.items():\n",
    "    if k not in helper.data_samples:\n",
    "        # Add distance between reco_sce and true vertex\n",
    "        data = (\n",
    "            v[\"daughters\"][\n",
    "                [\n",
    "                    \"reco_nu_vtx_sce_x\",\n",
    "                    \"reco_nu_vtx_sce_y\",\n",
    "                    \"reco_nu_vtx_sce_z\",\n",
    "                    \"true_nu_vtx_x\",\n",
    "                    \"true_nu_vtx_y\",\n",
    "                    \"true_nu_vtx_z\",\n",
    "                ]\n",
    "            ]\n",
    "            .xs(0, level=\"daughter\")\n",
    "            .values.T\n",
    "        )\n",
    "        data[0]-=x_sce_magic # Correct x location for the 0.6 sign error\n",
    "        \n",
    "        v[\"daughters\"][\"true_vtx_distance\"] = np.repeat(\n",
    "            np.linalg.norm(data[0:3] - data[3:6], axis=0),\n",
    "            v[\"daughters\"][\"n_pfps\"].xs(0, level=\"daughter\"),\n",
    "        )\n",
    "        # Cross-check vtx distance\n",
    "        data = (\n",
    "            v[\"daughters\"][\n",
    "                [\n",
    "                    \"true_nu_vtx_sce_x\",\n",
    "                    \"true_nu_vtx_sce_y\",\n",
    "                    \"true_nu_vtx_sce_z\",\n",
    "                    \"reco_nu_vtx_x\",\n",
    "                    \"reco_nu_vtx_y\",\n",
    "                    \"reco_nu_vtx_z\",\n",
    "                ]\n",
    "            ]\n",
    "            .xs(0, level=\"daughter\")\n",
    "            .values.T\n",
    "        )\n",
    "        v[\"daughters\"][\"true_vtx_distance_check\"] = np.repeat(\n",
    "            np.linalg.norm(data[0:3] - data[3:6], axis=0),\n",
    "            v[\"daughters\"][\"n_pfps\"].xs(0, level=\"daughter\"),\n",
    "        )\n",
    "        # Add the distance between the true neutrino vertex and the reconstructed shower start point\n",
    "        data = (\n",
    "            v[\"daughters\"][\n",
    "                [\n",
    "                    \"true_nu_vtx_sce_x\",\n",
    "                    \"true_nu_vtx_sce_y\",\n",
    "                    \"true_nu_vtx_sce_z\",\n",
    "                    \"shr_tkfit_start_x_v\",\n",
    "                    \"shr_tkfit_start_y_v\",\n",
    "                    \"shr_tkfit_start_z_v\",\n",
    "                ]\n",
    "            ]\n",
    "            .values.T\n",
    "        )\n",
    "        v[\"daughters\"][\"true_shower_distance\"] = np.linalg.norm(data[0:3] - data[3:6], axis=0)\n",
    "        \n",
    "        # Add the modified purity/completeness to account for overlay.\n",
    "        overlay_mask = v[\"daughters\"].eval('backtracked_overlay_purity>backtracked_purity')\n",
    "        v[\"daughters\"].loc[overlay_mask, 'backtracked_pdg'] = 0\n",
    "        v[\"daughters\"].loc[overlay_mask, 'backtracked_purity'] = v[\"daughters\"].loc[overlay_mask, 'backtracked_overlay_purity']\n",
    "        v[\"daughters\"].loc[overlay_mask, 'backtracked_completeness'] = 0"
   ]
  },
  {
   "cell_type": "code",
   "execution_count": 22,
   "metadata": {
    "scrolled": false
   },
   "outputs": [
    {
     "name": "stdout",
     "output_type": "stream",
     "text": [
      "CPU times: user 3.37 s, sys: 77.1 ms, total: 3.44 s\n",
      "Wall time: 1.74 s\n"
     ]
    },
    {
     "data": {
      "application/javascript": [
       "\n",
       "            setTimeout(function() {\n",
       "                var nbb_cell_id = 22;\n",
       "                var nbb_formatted_code = \"%%time\\n# For MC samples, fields needed as training labels:\\nfor k, v in sample_info.items():\\n    if k not in helper.data_samples:\\n        # Add training labels and weights\\n        e_cand = v[\\\"daughters\\\"]['e_candidate']\\n        e_good = v[\\\"daughters\\\"].eval('e_candidate & abs(backtracked_pdg)==11 & backtracked_purity>0.8 & backtracked_completeness>0.8')\\n        e_cand_bad = v[\\\"daughters\\\"].eval('e_candidate & abs(backtracked_pdg)!=11')\\n        other_bad = v[\\\"daughters\\\"].eval('~e_candidate & (abs(backtracked_pdg)==13 | backtracked_pdg==0)')\\n        other_neutral = v[\\\"daughters\\\"].eval('~e_candidate & (backtracked_pdg==22 | abs(backtracked_pdg)==211)')\\n        v[\\\"daughters\\\"]['train_weight'] = v[\\\"daughters\\\"].eval('weightSplineTimesTune+leeweight*@lee_focus') # weight low energy electrons a bit higher\\n        v[\\\"daughters\\\"]['train_weight'] = v[\\\"daughters\\\"].eval('train_weight*(1+(75<shr_energy_y_v<400)*@lee_focus*e_candidate)') # weight low energy electrons a bit higher\\n        v[\\\"daughters\\\"].loc[e_good, \\\"train_weight\\\"] *= 2 # can be tuned\\n        v[\\\"daughters\\\"].loc[other_neutral, \\\"train_weight\\\"] = 1 # can be tuned\\n        \\n        v[\\\"daughters\\\"]['train_label'] = 1\\n        v[\\\"daughters\\\"].loc[e_cand_bad, \\\"train_label\\\"] = 0\\n        v[\\\"daughters\\\"].loc[other_bad, \\\"train_label\\\"] = 0\\n        v[\\\"daughters\\\"].loc[other_neutral, \\\"train_label\\\"] = 0\";\n",
       "                var nbb_cells = Jupyter.notebook.get_cells();\n",
       "                for (var i = 0; i < nbb_cells.length; ++i) {\n",
       "                    if (nbb_cells[i].input_prompt_number == nbb_cell_id) {\n",
       "                        nbb_cells[i].set_text(nbb_formatted_code);\n",
       "                        break;\n",
       "                    }\n",
       "                }\n",
       "            }, 500);\n",
       "            "
      ],
      "text/plain": [
       "<IPython.core.display.Javascript object>"
      ]
     },
     "metadata": {},
     "output_type": "display_data"
    }
   ],
   "source": [
    "%%time\n",
    "# For MC samples, fields needed as training labels:\n",
    "for k, v in sample_info.items():\n",
    "    if k not in helper.data_samples:\n",
    "        # Add training labels and weights\n",
    "        e_cand = v[\"daughters\"]['e_candidate']\n",
    "        e_good = v[\"daughters\"].eval('e_candidate & abs(backtracked_pdg)==11 & backtracked_purity>0.8 & backtracked_completeness>0.8')\n",
    "        e_cand_bad = v[\"daughters\"].eval('e_candidate & abs(backtracked_pdg)!=11')\n",
    "        other_bad = v[\"daughters\"].eval('~e_candidate & (abs(backtracked_pdg)==13 | backtracked_pdg==0)')\n",
    "        other_neutral = v[\"daughters\"].eval('~e_candidate & (backtracked_pdg==22 | abs(backtracked_pdg)==211)')\n",
    "        v[\"daughters\"]['train_weight'] = v[\"daughters\"].eval('weightSplineTimesTune+leeweight*@lee_focus') # weight low energy electrons a bit higher\n",
    "        v[\"daughters\"]['train_weight'] = v[\"daughters\"].eval('train_weight*(1+(75<shr_energy_y_v<400)*@lee_focus*e_candidate)') # weight low energy electrons a bit higher\n",
    "        v[\"daughters\"].loc[e_good, \"train_weight\"] *= 2 # can be tuned\n",
    "        v[\"daughters\"].loc[other_neutral, \"train_weight\"] = 1 # can be tuned\n",
    "        \n",
    "        v[\"daughters\"]['train_label'] = 1\n",
    "        v[\"daughters\"].loc[e_cand_bad, \"train_label\"] = 0\n",
    "        v[\"daughters\"].loc[other_bad, \"train_label\"] = 0\n",
    "        v[\"daughters\"].loc[other_neutral, \"train_label\"] = 0"
   ]
  },
  {
   "cell_type": "markdown",
   "metadata": {},
   "source": [
    "### Quality cuts / Pre-selection"
   ]
  },
  {
   "cell_type": "code",
   "execution_count": 23,
   "metadata": {},
   "outputs": [
    {
     "data": {
      "application/javascript": [
       "\n",
       "            setTimeout(function() {\n",
       "                var nbb_cell_id = 23;\n",
       "                var nbb_formatted_code = \"query_preselect = \\\"e_candidate & \\\\\\n                   reco_fid_vol & \\\\\\n                   slclustfrac>@min_cluster_frac & \\\\\\n                   shr_energy_y_v>@min_shw_e & \\\\\\n                   CosmicIP>@max_cosmic_impact & \\\\\\n                   topological_score > @min_topo_score & \\\\\\n                   ~(crtveto & crthitpe>100) & _closestNuCosmicDist>20\\\"\";\n",
       "                var nbb_cells = Jupyter.notebook.get_cells();\n",
       "                for (var i = 0; i < nbb_cells.length; ++i) {\n",
       "                    if (nbb_cells[i].input_prompt_number == nbb_cell_id) {\n",
       "                        nbb_cells[i].set_text(nbb_formatted_code);\n",
       "                        break;\n",
       "                    }\n",
       "                }\n",
       "            }, 500);\n",
       "            "
      ],
      "text/plain": [
       "<IPython.core.display.Javascript object>"
      ]
     },
     "metadata": {},
     "output_type": "display_data"
    }
   ],
   "source": [
    "query_preselect = \"e_candidate & \\\n",
    "                   reco_fid_vol & \\\n",
    "                   slclustfrac>@min_cluster_frac & \\\n",
    "                   shr_energy_y_v>@min_shw_e & \\\n",
    "                   CosmicIP>@max_cosmic_impact & \\\n",
    "                   topological_score > @min_topo_score & \\\n",
    "                   ~(crtveto & crthitpe>100) & _closestNuCosmicDist>20\""
   ]
  },
  {
   "cell_type": "code",
   "execution_count": 24,
   "metadata": {
    "scrolled": false
   },
   "outputs": [
    {
     "name": "stdout",
     "output_type": "stream",
     "text": [
      "nu \t2.46%\n",
      "nue \t37.03%\n",
      "on \t0.54%\n",
      "off \t0.08%\n",
      "dirt \t0.07%\n",
      "train \t10.10%\n",
      "Nue signal passing the preselection \t46.13%\n",
      "Nue Intrinsic signal passing: 617.551 per 1e+21 POT\n",
      "Nue LEE signal passing: 29.505 per 1e+21 POT\n"
     ]
    },
    {
     "name": "stderr",
     "output_type": "stream",
     "text": [
      "/home/wouter/Binaries/miniconda3/envs/uproot/lib/python3.7/site-packages/pandas/core/computation/expressions.py:194: UserWarning: evaluating in Python space because the '*' operator is not supported by numexpr for the bool dtype, use '&' instead\n",
      "  op=op_str, alt_op=unsupported[op_str]\n"
     ]
    },
    {
     "name": "stdout",
     "output_type": "stream",
     "text": [
      "Purity MC: 2.8%\n",
      "Data/MC-ratio: 0.93\n",
      "\n",
      "CPU times: user 2.91 s, sys: 32 ms, total: 2.94 s\n",
      "Wall time: 1.56 s\n"
     ]
    },
    {
     "data": {
      "application/javascript": [
       "\n",
       "            setTimeout(function() {\n",
       "                var nbb_cell_id = 24;\n",
       "                var nbb_formatted_code = \"%%time\\n# Passing rate pre-selection\\nfor k, v in sample_info.items():\\n    if \\\"_closestNuCosmicDist\\\" not in v[\\\"daughters\\\"]:\\n        v[\\\"daughters\\\"][\\\"_closestNuCosmicDist\\\"]=999\\n        \\n    grouper='event'\\n    if k=='train':\\n        grouper=['event','sample']\\n        v[\\\"daughters\\\"][\\\"_closestNuCosmicDist\\\"].fillna(999, inplace=True)\\n    \\n    v[\\\"daughters\\\"][\\\"preselect\\\"] = v[\\\"daughters\\\"].eval(\\n        query_preselect\\n    )\\n    v[\\\"daughters\\\"][\\\"preselect\\\"] = v[\\\"daughters\\\"][\\\"preselect\\\"].groupby(grouper, sort=False).transform(max)\\n    \\n    pass_rate = sum(v[\\\"daughters\\\"].eval(\\\"e_candidate & preselect\\\"))/v['numentries']\\n    print(k, \\\"\\\\t{:.2f}%\\\".format(pass_rate * 100))\\n    \\n# Passing rate signal, weights applied!\\npass_rate = sum(sample_info[\\\"nue\\\"]['daughters'].eval('(e_candidate & preselect)*weightSpline*nueccinc'))/sum(sample_info[\\\"nue\\\"][\\\"mc\\\"]['weightSpline']*sample_info['nue']['mc']['nueccinc'] )\\nprint(\\\"Nue signal passing the preselection \\\\t{:.2f}%\\\".format(pass_rate * 100))\\nnue_pass = sum(sample_info[\\\"nue\\\"]['daughters'].eval('(e_candidate & preselect)*nueccinc'))*sample_info[\\\"nue\\\"]['scaling']*pot_scale\\nprint(\\\"Nue Intrinsic signal passing: {0:0.3f} per {1:0.2g} POT\\\".format(nue_pass,pot_target))\\nlee_pass = sum(sample_info[\\\"nue\\\"]['daughters'].eval('(e_candidate & preselect)*leeweight*nueccinc'))*sample_info[\\\"nue\\\"]['scaling']*pot_scale\\nprint(\\\"Nue LEE signal passing: {0:0.3f} per {1:0.2g} POT\\\".format(lee_pass,pot_target))\\n\\n## Calculate the purity:\\npurity_denom = (\\n    sum(sample_info[\\\"nu\\\"][\\\"daughters\\\"].eval(\\\"(e_candidate & preselect)*weightSpline\\\"))\\n    * sample_info[\\\"nu\\\"][\\\"scaling\\\"]\\n)\\npurity_denom += (\\n    sum(sample_info[\\\"dirt\\\"][\\\"daughters\\\"].eval(\\\"(e_candidate & preselect)*weightSpline\\\"))\\n    * sample_info[\\\"dirt\\\"][\\\"scaling\\\"]\\n)\\npurity_denom += (\\n    sum(sample_info[\\\"off\\\"][\\\"daughters\\\"].eval(\\\"(e_candidate & preselect)\\\")) * sample_info[\\\"off\\\"][\\\"scaling\\\"]\\n)\\n\\npurity_mc = (\\n    sum(sample_info[\\\"nue\\\"][\\\"daughters\\\"].eval(\\\"(e_candidate & preselect)*weightSpline*nueccinc\\\"))\\n    * sample_info[\\\"nue\\\"][\\\"scaling\\\"]\\n    / purity_denom\\n)\\npurity_data = (\\n    sum(sample_info[\\\"nue\\\"][\\\"daughters\\\"].eval(\\\"(e_candidate & preselect)*weightSpline*nueccinc\\\"))\\n    * sample_info[\\\"nue\\\"][\\\"scaling\\\"]\\n    / sum(sample_info[\\\"on\\\"][\\\"daughters\\\"].eval(\\\"(e_candidate & preselect)\\\"))\\n)\\nprint(\\n    \\\"Purity MC: {:.1f}%\\\\nData/MC-ratio: {:.2f}\\\\n\\\".format(\\n        purity_mc * 100,\\n        sum(sample_info[\\\"on\\\"][\\\"daughters\\\"].eval(\\\"(e_candidate & preselect)\\\")) / purity_denom,\\n    )\\n)\";\n",
       "                var nbb_cells = Jupyter.notebook.get_cells();\n",
       "                for (var i = 0; i < nbb_cells.length; ++i) {\n",
       "                    if (nbb_cells[i].input_prompt_number == nbb_cell_id) {\n",
       "                        nbb_cells[i].set_text(nbb_formatted_code);\n",
       "                        break;\n",
       "                    }\n",
       "                }\n",
       "            }, 500);\n",
       "            "
      ],
      "text/plain": [
       "<IPython.core.display.Javascript object>"
      ]
     },
     "metadata": {},
     "output_type": "display_data"
    }
   ],
   "source": [
    "%%time\n",
    "# Passing rate pre-selection\n",
    "for k, v in sample_info.items():\n",
    "    if \"_closestNuCosmicDist\" not in v[\"daughters\"]:\n",
    "        v[\"daughters\"][\"_closestNuCosmicDist\"]=999\n",
    "        \n",
    "    grouper='event'\n",
    "    if k=='train':\n",
    "        grouper=['event','sample']\n",
    "        v[\"daughters\"][\"_closestNuCosmicDist\"].fillna(999, inplace=True)\n",
    "    \n",
    "    v[\"daughters\"][\"preselect\"] = v[\"daughters\"].eval(\n",
    "        query_preselect\n",
    "    )\n",
    "    v[\"daughters\"][\"preselect\"] = v[\"daughters\"][\"preselect\"].groupby(grouper, sort=False).transform(max)\n",
    "    \n",
    "    pass_rate = sum(v[\"daughters\"].eval(\"e_candidate & preselect\"))/v['numentries']\n",
    "    print(k, \"\\t{:.2f}%\".format(pass_rate * 100))\n",
    "    \n",
    "# Passing rate signal, weights applied!\n",
    "pass_rate = sum(sample_info[\"nue\"]['daughters'].eval('(e_candidate & preselect)*weightSpline*nueccinc'))/sum(sample_info[\"nue\"][\"mc\"]['weightSpline']*sample_info['nue']['mc']['nueccinc'] )\n",
    "print(\"Nue signal passing the preselection \\t{:.2f}%\".format(pass_rate * 100))\n",
    "nue_pass = sum(sample_info[\"nue\"]['daughters'].eval('(e_candidate & preselect)*nueccinc'))*sample_info[\"nue\"]['scaling']*pot_scale\n",
    "print(\"Nue Intrinsic signal passing: {0:0.3f} per {1:0.2g} POT\".format(nue_pass,pot_target))\n",
    "lee_pass = sum(sample_info[\"nue\"]['daughters'].eval('(e_candidate & preselect)*leeweight*nueccinc'))*sample_info[\"nue\"]['scaling']*pot_scale\n",
    "print(\"Nue LEE signal passing: {0:0.3f} per {1:0.2g} POT\".format(lee_pass,pot_target))\n",
    "\n",
    "## Calculate the purity:\n",
    "purity_denom = (\n",
    "    sum(sample_info[\"nu\"][\"daughters\"].eval(\"(e_candidate & preselect)*weightSpline\"))\n",
    "    * sample_info[\"nu\"][\"scaling\"]\n",
    ")\n",
    "purity_denom += (\n",
    "    sum(sample_info[\"dirt\"][\"daughters\"].eval(\"(e_candidate & preselect)*weightSpline\"))\n",
    "    * sample_info[\"dirt\"][\"scaling\"]\n",
    ")\n",
    "purity_denom += (\n",
    "    sum(sample_info[\"off\"][\"daughters\"].eval(\"(e_candidate & preselect)\")) * sample_info[\"off\"][\"scaling\"]\n",
    ")\n",
    "\n",
    "purity_mc = (\n",
    "    sum(sample_info[\"nue\"][\"daughters\"].eval(\"(e_candidate & preselect)*weightSpline*nueccinc\"))\n",
    "    * sample_info[\"nue\"][\"scaling\"]\n",
    "    / purity_denom\n",
    ")\n",
    "purity_data = (\n",
    "    sum(sample_info[\"nue\"][\"daughters\"].eval(\"(e_candidate & preselect)*weightSpline*nueccinc\"))\n",
    "    * sample_info[\"nue\"][\"scaling\"]\n",
    "    / sum(sample_info[\"on\"][\"daughters\"].eval(\"(e_candidate & preselect)\"))\n",
    ")\n",
    "print(\n",
    "    \"Purity MC: {:.1f}%\\nData/MC-ratio: {:.2f}\\n\".format(\n",
    "        purity_mc * 100,\n",
    "        sum(sample_info[\"on\"][\"daughters\"].eval(\"(e_candidate & preselect)\")) / purity_denom,\n",
    "    )\n",
    ")"
   ]
  },
  {
   "cell_type": "markdown",
   "metadata": {},
   "source": [
    "### Machine Learning Selection"
   ]
  },
  {
   "cell_type": "code",
   "execution_count": 25,
   "metadata": {},
   "outputs": [
    {
     "data": {
      "application/javascript": [
       "\n",
       "            setTimeout(function() {\n",
       "                var nbb_cell_id = 25;\n",
       "                var nbb_formatted_code = \"col_train_electron = [\\n    # \\\"trk_min_cos\\\",\\n    \\\"shr_dist_v\\\",\\n    \\\"shr_tkfit_dedx_wm_v\\\",\\n    \\\"shr_tkfit_dedx_y_v\\\",\\n    \\\"shr_moliere_avg_v\\\",\\n    # \\\"shr_tkfit_hitratio_v\\\",\\n    \\\"shr_tkfit_gap10_dedx_y_v\\\",\\n    \\\"shr_subclusters_v\\\",\\n    # \\\"secondshower_nhit\\\",\\n    \\\"secondshower_Y_nhit\\\",\\n    \\\"secondshower_Y_vtxdist\\\",\\n    \\\"ismerged\\\",\\n    # \\\"merge_bestdist\\\",\\n    ##\\\"train_weight\\\",\\n    ##\\\"train_label\\\",\\n]\\ncol_train_other = [\\n    \\\"trk_score_v\\\",\\n    \\\"trk_distance_v\\\",\\n    # \\\"trk_len_v\\\",\\n    \\\"trk_llr_pid_score_v\\\",\\n    \\\"pfp_trk_daughters_v\\\",\\n    \\\"pfp_shr_daughters_v\\\",\\n    # \\\"hits_per_tklen_v\\\",\\n    # \\\"shr_tkfit_dedx_wm_v\\\",\\n    # \\\"shr_moliere_avg_v\\\",\\n    \\\"pfp_generation_v\\\",\\n    # \\\"shr_subclusters_v\\\"\\n    ##\\\"train_weight\\\",\\n    ##\\\"train_label\\\",\\n]\\n\\ncol_train_event = [\\n    \\\"n_showers\\\",\\n    \\\"n_pfp_farvtx\\\",\\n    \\\"hits_ratio\\\",\\n    \\\"contained_fraction\\\",\\n    \\\"score\\\",\\n    # \\\"score_other_max\\\",\\n    \\\"score_other_min\\\",\\n    \\\"score_other_mean\\\",\\n    ## nueccinc\\n    ## train_weight -> use the train weight of the electron candidate\\n]\";\n",
       "                var nbb_cells = Jupyter.notebook.get_cells();\n",
       "                for (var i = 0; i < nbb_cells.length; ++i) {\n",
       "                    if (nbb_cells[i].input_prompt_number == nbb_cell_id) {\n",
       "                        nbb_cells[i].set_text(nbb_formatted_code);\n",
       "                        break;\n",
       "                    }\n",
       "                }\n",
       "            }, 500);\n",
       "            "
      ],
      "text/plain": [
       "<IPython.core.display.Javascript object>"
      ]
     },
     "metadata": {},
     "output_type": "display_data"
    }
   ],
   "source": [
    "col_train_electron = [\n",
    "    # \"trk_min_cos\",\n",
    "    \"shr_dist_v\",\n",
    "    \"shr_tkfit_dedx_wm_v\",\n",
    "    \"shr_tkfit_dedx_y_v\",\n",
    "    \"shr_moliere_avg_v\",\n",
    "    # \"shr_tkfit_hitratio_v\",\n",
    "    \"shr_tkfit_gap10_dedx_y_v\",\n",
    "    \"shr_subclusters_v\",\n",
    "    # \"secondshower_nhit\",\n",
    "    \"secondshower_Y_nhit\",\n",
    "    \"secondshower_Y_vtxdist\",\n",
    "    \"ismerged\",\n",
    "    # \"merge_bestdist\",\n",
    "    ##\"train_weight\",\n",
    "    ##\"train_label\",\n",
    "]\n",
    "col_train_other = [\n",
    "    \"trk_score_v\",\n",
    "    \"trk_distance_v\",\n",
    "    # \"trk_len_v\",\n",
    "    \"trk_llr_pid_score_v\",\n",
    "    \"pfp_trk_daughters_v\",\n",
    "    \"pfp_shr_daughters_v\",\n",
    "    # \"hits_per_tklen_v\",\n",
    "    # \"shr_tkfit_dedx_wm_v\",\n",
    "    # \"shr_moliere_avg_v\",\n",
    "    \"pfp_generation_v\",\n",
    "    # \"shr_subclusters_v\"\n",
    "    ##\"train_weight\",\n",
    "    ##\"train_label\",\n",
    "]\n",
    "\n",
    "col_train_event = [\n",
    "    \"n_showers\",\n",
    "    \"n_pfp_farvtx\",\n",
    "    \"hits_ratio\",\n",
    "    \"contained_fraction\",\n",
    "    \"score\",\n",
    "    # \"score_other_max\",\n",
    "    \"score_other_min\",\n",
    "    \"score_other_mean\",\n",
    "    ## nueccinc\n",
    "    ## train_weight -> use the train weight of the electron candidate\n",
    "]"
   ]
  },
  {
   "cell_type": "markdown",
   "metadata": {},
   "source": [
    "#### Electron training"
   ]
  },
  {
   "cell_type": "code",
   "execution_count": 26,
   "metadata": {},
   "outputs": [
    {
     "data": {
      "application/javascript": [
       "\n",
       "            setTimeout(function() {\n",
       "                var nbb_cell_id = 26;\n",
       "                var nbb_formatted_code = \"train_q = \\\"preselect & e_candidate\\\"\\n\\nX_train = []\\nX_test = []\\ny_train = []\\ny_test = []\\nfor k in [\\\"train\\\"]:\\n    X = sample_info[k][\\\"daughters\\\"].query(train_q)[col_train_electron]\\n    Y = sample_info[k][\\\"daughters\\\"].query(train_q)[[\\\"train_label\\\", \\\"train_weight\\\"]]\\n    X_tr, X_te, y_tr, y_te = train_test_split(\\n        X, Y, test_size=test_size, random_state=seed\\n    )\\n    X_train.append(X_tr)\\n    X_test.append(X_te)\\n    y_train.append(y_tr)\\n    y_test.append(y_te)\\n\\n# Merge our two samples\\nX_train = pd.concat(X_train).reset_index(drop=True)\\ny_train = pd.concat(y_train).reset_index(drop=True)\\nX_test = pd.concat(X_test).reset_index(drop=True)\\ny_test = pd.concat(y_test).reset_index(drop=True)\";\n",
       "                var nbb_cells = Jupyter.notebook.get_cells();\n",
       "                for (var i = 0; i < nbb_cells.length; ++i) {\n",
       "                    if (nbb_cells[i].input_prompt_number == nbb_cell_id) {\n",
       "                        nbb_cells[i].set_text(nbb_formatted_code);\n",
       "                        break;\n",
       "                    }\n",
       "                }\n",
       "            }, 500);\n",
       "            "
      ],
      "text/plain": [
       "<IPython.core.display.Javascript object>"
      ]
     },
     "metadata": {},
     "output_type": "display_data"
    }
   ],
   "source": [
    "train_q = \"preselect & e_candidate\"\n",
    "\n",
    "X_train = []\n",
    "X_test = []\n",
    "y_train = []\n",
    "y_test = []\n",
    "for k in [\"train\"]:\n",
    "    X = sample_info[k][\"daughters\"].query(train_q)[col_train_electron]\n",
    "    Y = sample_info[k][\"daughters\"].query(train_q)[[\"train_label\", \"train_weight\"]]\n",
    "    X_tr, X_te, y_tr, y_te = train_test_split(\n",
    "        X, Y, test_size=test_size, random_state=seed\n",
    "    )\n",
    "    X_train.append(X_tr)\n",
    "    X_test.append(X_te)\n",
    "    y_train.append(y_tr)\n",
    "    y_test.append(y_te)\n",
    "\n",
    "# Merge our two samples\n",
    "X_train = pd.concat(X_train).reset_index(drop=True)\n",
    "y_train = pd.concat(y_train).reset_index(drop=True)\n",
    "X_test = pd.concat(X_test).reset_index(drop=True)\n",
    "y_test = pd.concat(y_test).reset_index(drop=True)"
   ]
  },
  {
   "cell_type": "code",
   "execution_count": 27,
   "metadata": {},
   "outputs": [
    {
     "name": "stderr",
     "output_type": "stream",
     "text": [
      "/home/wouter/Binaries/miniconda3/envs/uproot/lib/python3.7/site-packages/xgboost/core.py:587: FutureWarning: Series.base is deprecated and will be removed in a future version\n",
      "  if getattr(data, 'base', None) is not None and \\\n",
      "/home/wouter/Binaries/miniconda3/envs/uproot/lib/python3.7/site-packages/xgboost/core.py:588: FutureWarning: Series.base is deprecated and will be removed in a future version\n",
      "  data.base is not None and isinstance(data, np.ndarray) \\\n"
     ]
    },
    {
     "name": "stdout",
     "output_type": "stream",
     "text": [
      "[0]\tvalidation_0-error:0.204745\tvalidation_0-logloss:0.649434\tvalidation_1-error:0.204264\tvalidation_1-logloss:0.649947\n",
      "[1]\tvalidation_0-error:0.19332\tvalidation_0-logloss:0.6141\tvalidation_1-error:0.195261\tvalidation_1-logloss:0.614445\n",
      "[2]\tvalidation_0-error:0.186366\tvalidation_0-logloss:0.584228\tvalidation_1-error:0.188268\tvalidation_1-logloss:0.584897\n",
      "[3]\tvalidation_0-error:0.190578\tvalidation_0-logloss:0.55932\tvalidation_1-error:0.19213\tvalidation_1-logloss:0.559973\n",
      "[4]\tvalidation_0-error:0.189153\tvalidation_0-logloss:0.538087\tvalidation_1-error:0.191467\tvalidation_1-logloss:0.538735\n",
      "[5]\tvalidation_0-error:0.189732\tvalidation_0-logloss:0.519891\tvalidation_1-error:0.192313\tvalidation_1-logloss:0.520664\n",
      "[6]\tvalidation_0-error:0.18846\tvalidation_0-logloss:0.503964\tvalidation_1-error:0.191833\tvalidation_1-logloss:0.505221\n",
      "[7]\tvalidation_0-error:0.186023\tvalidation_0-logloss:0.490452\tvalidation_1-error:0.189708\tvalidation_1-logloss:0.491796\n",
      "[8]\tvalidation_0-error:0.185238\tvalidation_0-logloss:0.478615\tvalidation_1-error:0.189137\tvalidation_1-logloss:0.480282\n",
      "[9]\tvalidation_0-error:0.185139\tvalidation_0-logloss:0.468364\tvalidation_1-error:0.190279\tvalidation_1-logloss:0.470173\n",
      "[10]\tvalidation_0-error:0.185292\tvalidation_0-logloss:0.459473\tvalidation_1-error:0.189777\tvalidation_1-logloss:0.461423\n",
      "[11]\tvalidation_0-error:0.185154\tvalidation_0-logloss:0.451674\tvalidation_1-error:0.189365\tvalidation_1-logloss:0.453786\n",
      "[12]\tvalidation_0-error:0.183144\tvalidation_0-logloss:0.444556\tvalidation_1-error:0.188451\tvalidation_1-logloss:0.446952\n",
      "[13]\tvalidation_0-error:0.183364\tvalidation_0-logloss:0.438541\tvalidation_1-error:0.188154\tvalidation_1-logloss:0.44097\n",
      "[14]\tvalidation_0-error:0.182603\tvalidation_0-logloss:0.433079\tvalidation_1-error:0.1874\tvalidation_1-logloss:0.435657\n",
      "[15]\tvalidation_0-error:0.181925\tvalidation_0-logloss:0.428367\tvalidation_1-error:0.186623\tvalidation_1-logloss:0.431034\n",
      "[16]\tvalidation_0-error:0.181567\tvalidation_0-logloss:0.424251\tvalidation_1-error:0.185778\tvalidation_1-logloss:0.426923\n",
      "[17]\tvalidation_0-error:0.18127\tvalidation_0-logloss:0.420398\tvalidation_1-error:0.185366\tvalidation_1-logloss:0.423289\n",
      "[18]\tvalidation_0-error:0.18063\tvalidation_0-logloss:0.417046\tvalidation_1-error:0.184498\tvalidation_1-logloss:0.419984\n",
      "[19]\tvalidation_0-error:0.179967\tvalidation_0-logloss:0.413973\tvalidation_1-error:0.183378\tvalidation_1-logloss:0.417153\n",
      "[20]\tvalidation_0-error:0.17983\tvalidation_0-logloss:0.411287\tvalidation_1-error:0.183927\tvalidation_1-logloss:0.414492\n",
      "[21]\tvalidation_0-error:0.179343\tvalidation_0-logloss:0.408874\tvalidation_1-error:0.183241\tvalidation_1-logloss:0.412268\n",
      "[22]\tvalidation_0-error:0.179076\tvalidation_0-logloss:0.40668\tvalidation_1-error:0.182693\tvalidation_1-logloss:0.410153\n",
      "[23]\tvalidation_0-error:0.178086\tvalidation_0-logloss:0.404468\tvalidation_1-error:0.181482\tvalidation_1-logloss:0.408083\n",
      "[24]\tvalidation_0-error:0.177911\tvalidation_0-logloss:0.402638\tvalidation_1-error:0.181002\tvalidation_1-logloss:0.406392\n",
      "[25]\tvalidation_0-error:0.176661\tvalidation_0-logloss:0.400851\tvalidation_1-error:0.180088\tvalidation_1-logloss:0.404728\n",
      "[26]\tvalidation_0-error:0.176661\tvalidation_0-logloss:0.399464\tvalidation_1-error:0.179951\tvalidation_1-logloss:0.403502\n",
      "[27]\tvalidation_0-error:0.175869\tvalidation_0-logloss:0.39801\tvalidation_1-error:0.179311\tvalidation_1-logloss:0.40215\n",
      "[28]\tvalidation_0-error:0.175496\tvalidation_0-logloss:0.396825\tvalidation_1-error:0.179082\tvalidation_1-logloss:0.401035\n",
      "[29]\tvalidation_0-error:0.174757\tvalidation_0-logloss:0.395595\tvalidation_1-error:0.178283\tvalidation_1-logloss:0.39993\n",
      "[30]\tvalidation_0-error:0.173874\tvalidation_0-logloss:0.394444\tvalidation_1-error:0.177803\tvalidation_1-logloss:0.398967\n",
      "[31]\tvalidation_0-error:0.17334\tvalidation_0-logloss:0.39335\tvalidation_1-error:0.17714\tvalidation_1-logloss:0.397968\n",
      "[32]\tvalidation_0-error:0.172571\tvalidation_0-logloss:0.392388\tvalidation_1-error:0.176683\tvalidation_1-logloss:0.39711\n",
      "[33]\tvalidation_0-error:0.172228\tvalidation_0-logloss:0.391505\tvalidation_1-error:0.176409\tvalidation_1-logloss:0.396295\n",
      "[34]\tvalidation_0-error:0.171649\tvalidation_0-logloss:0.390607\tvalidation_1-error:0.176066\tvalidation_1-logloss:0.395603\n",
      "[35]\tvalidation_0-error:0.171078\tvalidation_0-logloss:0.389884\tvalidation_1-error:0.175792\tvalidation_1-logloss:0.394964\n",
      "[36]\tvalidation_0-error:0.170781\tvalidation_0-logloss:0.38918\tvalidation_1-error:0.175449\tvalidation_1-logloss:0.394356\n",
      "[37]\tvalidation_0-error:0.170659\tvalidation_0-logloss:0.388515\tvalidation_1-error:0.175312\tvalidation_1-logloss:0.393708\n",
      "[38]\tvalidation_0-error:0.170088\tvalidation_0-logloss:0.387559\tvalidation_1-error:0.174489\tvalidation_1-logloss:0.392817\n",
      "[39]\tvalidation_0-error:0.169646\tvalidation_0-logloss:0.386814\tvalidation_1-error:0.174147\tvalidation_1-logloss:0.392266\n",
      "[40]\tvalidation_0-error:0.169555\tvalidation_0-logloss:0.386131\tvalidation_1-error:0.173872\tvalidation_1-logloss:0.391642\n",
      "[41]\tvalidation_0-error:0.169364\tvalidation_0-logloss:0.385571\tvalidation_1-error:0.173827\tvalidation_1-logloss:0.39125\n",
      "[42]\tvalidation_0-error:0.169121\tvalidation_0-logloss:0.385004\tvalidation_1-error:0.173758\tvalidation_1-logloss:0.390809\n",
      "[43]\tvalidation_0-error:0.168397\tvalidation_0-logloss:0.384329\tvalidation_1-error:0.173598\tvalidation_1-logloss:0.390248\n",
      "[44]\tvalidation_0-error:0.168222\tvalidation_0-logloss:0.38391\tvalidation_1-error:0.173735\tvalidation_1-logloss:0.390001\n",
      "[45]\tvalidation_0-error:0.16794\tvalidation_0-logloss:0.383424\tvalidation_1-error:0.173232\tvalidation_1-logloss:0.389529\n",
      "[46]\tvalidation_0-error:0.16778\tvalidation_0-logloss:0.382945\tvalidation_1-error:0.173004\tvalidation_1-logloss:0.389287\n",
      "[47]\tvalidation_0-error:0.167209\tvalidation_0-logloss:0.382157\tvalidation_1-error:0.172501\tvalidation_1-logloss:0.388633\n",
      "[48]\tvalidation_0-error:0.166942\tvalidation_0-logloss:0.38181\tvalidation_1-error:0.172433\tvalidation_1-logloss:0.388428\n",
      "[49]\tvalidation_0-error:0.166592\tvalidation_0-logloss:0.381317\tvalidation_1-error:0.172296\tvalidation_1-logloss:0.388002\n",
      "[50]\tvalidation_0-error:0.166432\tvalidation_0-logloss:0.380937\tvalidation_1-error:0.171839\tvalidation_1-logloss:0.387737\n",
      "[51]\tvalidation_0-error:0.166226\tvalidation_0-logloss:0.380516\tvalidation_1-error:0.171587\tvalidation_1-logloss:0.387432\n",
      "[52]\tvalidation_0-error:0.165822\tvalidation_0-logloss:0.379942\tvalidation_1-error:0.171382\tvalidation_1-logloss:0.38695\n",
      "[53]\tvalidation_0-error:0.165609\tvalidation_0-logloss:0.3795\tvalidation_1-error:0.171244\tvalidation_1-logloss:0.386636\n",
      "[54]\tvalidation_0-error:0.165662\tvalidation_0-logloss:0.379271\tvalidation_1-error:0.171176\tvalidation_1-logloss:0.386533\n",
      "[55]\tvalidation_0-error:0.165548\tvalidation_0-logloss:0.378868\tvalidation_1-error:0.170925\tvalidation_1-logloss:0.386198\n",
      "[56]\tvalidation_0-error:0.165205\tvalidation_0-logloss:0.37851\tvalidation_1-error:0.171016\tvalidation_1-logloss:0.385973\n",
      "[57]\tvalidation_0-error:0.165038\tvalidation_0-logloss:0.378286\tvalidation_1-error:0.170468\tvalidation_1-logloss:0.385863\n",
      "[58]\tvalidation_0-error:0.164489\tvalidation_0-logloss:0.377822\tvalidation_1-error:0.169851\tvalidation_1-logloss:0.385475\n",
      "[59]\tvalidation_0-error:0.164444\tvalidation_0-logloss:0.377641\tvalidation_1-error:0.169896\tvalidation_1-logloss:0.385395\n",
      "[60]\tvalidation_0-error:0.164299\tvalidation_0-logloss:0.377311\tvalidation_1-error:0.169851\tvalidation_1-logloss:0.385177\n",
      "[61]\tvalidation_0-error:0.164215\tvalidation_0-logloss:0.376983\tvalidation_1-error:0.169371\tvalidation_1-logloss:0.384957\n",
      "[62]\tvalidation_0-error:0.164055\tvalidation_0-logloss:0.376784\tvalidation_1-error:0.169576\tvalidation_1-logloss:0.384873\n",
      "[63]\tvalidation_0-error:0.163987\tvalidation_0-logloss:0.3766\tvalidation_1-error:0.169485\tvalidation_1-logloss:0.384815\n",
      "[64]\tvalidation_0-error:0.163606\tvalidation_0-logloss:0.376101\tvalidation_1-error:0.168914\tvalidation_1-logloss:0.384401\n",
      "[65]\tvalidation_0-error:0.163446\tvalidation_0-logloss:0.375873\tvalidation_1-error:0.168937\tvalidation_1-logloss:0.384289\n",
      "[66]\tvalidation_0-error:0.163118\tvalidation_0-logloss:0.375435\tvalidation_1-error:0.168639\tvalidation_1-logloss:0.38398\n",
      "[67]\tvalidation_0-error:0.162753\tvalidation_0-logloss:0.375181\tvalidation_1-error:0.168777\tvalidation_1-logloss:0.383812\n",
      "[68]\tvalidation_0-error:0.162578\tvalidation_0-logloss:0.374932\tvalidation_1-error:0.168868\tvalidation_1-logloss:0.383666\n"
     ]
    },
    {
     "name": "stdout",
     "output_type": "stream",
     "text": [
      "[69]\tvalidation_0-error:0.16244\tvalidation_0-logloss:0.374648\tvalidation_1-error:0.168822\tvalidation_1-logloss:0.383468\n",
      "[70]\tvalidation_0-error:0.162486\tvalidation_0-logloss:0.374463\tvalidation_1-error:0.168685\tvalidation_1-logloss:0.383388\n",
      "[71]\tvalidation_0-error:0.162288\tvalidation_0-logloss:0.374095\tvalidation_1-error:0.168571\tvalidation_1-logloss:0.383146\n",
      "[72]\tvalidation_0-error:0.162242\tvalidation_0-logloss:0.373877\tvalidation_1-error:0.168411\tvalidation_1-logloss:0.383038\n",
      "[73]\tvalidation_0-error:0.16209\tvalidation_0-logloss:0.373714\tvalidation_1-error:0.168205\tvalidation_1-logloss:0.38298\n",
      "[74]\tvalidation_0-error:0.162014\tvalidation_0-logloss:0.373333\tvalidation_1-error:0.168365\tvalidation_1-logloss:0.382697\n",
      "[75]\tvalidation_0-error:0.161915\tvalidation_0-logloss:0.373157\tvalidation_1-error:0.168457\tvalidation_1-logloss:0.382658\n",
      "[76]\tvalidation_0-error:0.161732\tvalidation_0-logloss:0.372883\tvalidation_1-error:0.168388\tvalidation_1-logloss:0.382498\n",
      "[77]\tvalidation_0-error:0.161664\tvalidation_0-logloss:0.372665\tvalidation_1-error:0.168228\tvalidation_1-logloss:0.382405\n",
      "[78]\tvalidation_0-error:0.161625\tvalidation_0-logloss:0.372542\tvalidation_1-error:0.168251\tvalidation_1-logloss:0.382408\n",
      "[79]\tvalidation_0-error:0.161557\tvalidation_0-logloss:0.372388\tvalidation_1-error:0.16832\tvalidation_1-logloss:0.382373\n",
      "[80]\tvalidation_0-error:0.161366\tvalidation_0-logloss:0.372127\tvalidation_1-error:0.168228\tvalidation_1-logloss:0.382268\n",
      "[81]\tvalidation_0-error:0.161306\tvalidation_0-logloss:0.372006\tvalidation_1-error:0.168228\tvalidation_1-logloss:0.38225\n",
      "[82]\tvalidation_0-error:0.161168\tvalidation_0-logloss:0.371702\tvalidation_1-error:0.168022\tvalidation_1-logloss:0.382076\n",
      "[83]\tvalidation_0-error:0.160917\tvalidation_0-logloss:0.371419\tvalidation_1-error:0.167908\tvalidation_1-logloss:0.381941\n",
      "[84]\tvalidation_0-error:0.16081\tvalidation_0-logloss:0.371208\tvalidation_1-error:0.167794\tvalidation_1-logloss:0.381886\n",
      "[85]\tvalidation_0-error:0.160765\tvalidation_0-logloss:0.37095\tvalidation_1-error:0.167611\tvalidation_1-logloss:0.381776\n",
      "[86]\tvalidation_0-error:0.16075\tvalidation_0-logloss:0.370836\tvalidation_1-error:0.16752\tvalidation_1-logloss:0.381762\n",
      "[87]\tvalidation_0-error:0.160605\tvalidation_0-logloss:0.370575\tvalidation_1-error:0.167634\tvalidation_1-logloss:0.381569\n",
      "[88]\tvalidation_0-error:0.160475\tvalidation_0-logloss:0.370342\tvalidation_1-error:0.167611\tvalidation_1-logloss:0.38145\n",
      "[89]\tvalidation_0-error:0.160536\tvalidation_0-logloss:0.370125\tvalidation_1-error:0.167588\tvalidation_1-logloss:0.381403\n",
      "[90]\tvalidation_0-error:0.16043\tvalidation_0-logloss:0.369916\tvalidation_1-error:0.16736\tvalidation_1-logloss:0.381276\n",
      "[91]\tvalidation_0-error:0.160353\tvalidation_0-logloss:0.369741\tvalidation_1-error:0.167268\tvalidation_1-logloss:0.381163\n",
      "[92]\tvalidation_0-error:0.160292\tvalidation_0-logloss:0.369521\tvalidation_1-error:0.167177\tvalidation_1-logloss:0.381039\n",
      "[93]\tvalidation_0-error:0.160163\tvalidation_0-logloss:0.369365\tvalidation_1-error:0.167246\tvalidation_1-logloss:0.381037\n",
      "[94]\tvalidation_0-error:0.160163\tvalidation_0-logloss:0.369295\tvalidation_1-error:0.16736\tvalidation_1-logloss:0.381008\n",
      "[95]\tvalidation_0-error:0.160003\tvalidation_0-logloss:0.369136\tvalidation_1-error:0.1672\tvalidation_1-logloss:0.380937\n",
      "[96]\tvalidation_0-error:0.159934\tvalidation_0-logloss:0.36895\tvalidation_1-error:0.16704\tvalidation_1-logloss:0.380856\n",
      "[97]\tvalidation_0-error:0.159973\tvalidation_0-logloss:0.368796\tvalidation_1-error:0.1672\tvalidation_1-logloss:0.380837\n",
      "[98]\tvalidation_0-error:0.159927\tvalidation_0-logloss:0.36863\tvalidation_1-error:0.167086\tvalidation_1-logloss:0.380814\n",
      "[99]\tvalidation_0-error:0.159736\tvalidation_0-logloss:0.368463\tvalidation_1-error:0.166926\tvalidation_1-logloss:0.380798\n"
     ]
    },
    {
     "data": {
      "application/javascript": [
       "\n",
       "            setTimeout(function() {\n",
       "                var nbb_cell_id = 27;\n",
       "                var nbb_formatted_code = \"# fit model no training data\\nif retrain:\\n    depth = 5\\n    model_e = XGBClassifier(max_depth=depth)\\n    eval_set = [(X_train, y_train[\\\"train_label\\\"]), (X_test, y_test[\\\"train_label\\\"])]\\n    model_e.fit(\\n        X_train,\\n        y_train[\\\"train_label\\\"],\\n        sample_weight=y_train[\\\"train_weight\\\"],\\n        eval_metric=[\\\"error\\\", \\\"logloss\\\"],\\n        eval_set=eval_set,\\n    )\\n    dump(model_e, model_dir + \\\"model_e.pckl\\\")\\nelse:\\n    model_e = load(model_dir + \\\"model_e.pckl\\\")\";\n",
       "                var nbb_cells = Jupyter.notebook.get_cells();\n",
       "                for (var i = 0; i < nbb_cells.length; ++i) {\n",
       "                    if (nbb_cells[i].input_prompt_number == nbb_cell_id) {\n",
       "                        nbb_cells[i].set_text(nbb_formatted_code);\n",
       "                        break;\n",
       "                    }\n",
       "                }\n",
       "            }, 500);\n",
       "            "
      ],
      "text/plain": [
       "<IPython.core.display.Javascript object>"
      ]
     },
     "metadata": {},
     "output_type": "display_data"
    }
   ],
   "source": [
    "# fit model no training data\n",
    "if retrain:\n",
    "    depth = 5\n",
    "    model_e = XGBClassifier(max_depth=depth)\n",
    "    eval_set = [(X_train, y_train[\"train_label\"]), (X_test, y_test[\"train_label\"])]\n",
    "    model_e.fit(\n",
    "        X_train,\n",
    "        y_train[\"train_label\"],\n",
    "        sample_weight=y_train[\"train_weight\"],\n",
    "        eval_metric=[\"error\", \"logloss\"],\n",
    "        eval_set=eval_set,\n",
    "    )\n",
    "    dump(model_e, model_dir + \"model_e.pckl\")\n",
    "else:\n",
    "    model_e = load(model_dir + \"model_e.pckl\")"
   ]
  },
  {
   "cell_type": "code",
   "execution_count": 28,
   "metadata": {},
   "outputs": [
    {
     "name": "stdout",
     "output_type": "stream",
     "text": [
      "              precision    recall  f1-score   support\n",
      "\n",
      "    electron       0.90      0.85      0.88     30201\n",
      "non_electron       0.71      0.79      0.75     13561\n",
      "\n",
      "    accuracy                           0.83     43762\n",
      "   macro avg       0.80      0.82      0.81     43762\n",
      "weighted avg       0.84      0.83      0.84     43762\n",
      "\n",
      "Test accuracy: 83.31%\n",
      "Train accuracy: 84.03%\n",
      "\n",
      "1. feature shr_dist_v (0.498275)\n",
      "2. feature ismerged (0.126099)\n",
      "3. feature shr_moliere_avg_v (0.091849)\n",
      "4. feature shr_subclusters_v (0.063601)\n",
      "5. feature shr_tkfit_dedx_wm_v (0.059538)\n",
      "6. feature shr_tkfit_dedx_y_v (0.058489)\n",
      "7. feature secondshower_Y_nhit (0.041072)\n",
      "8. feature shr_tkfit_gap10_dedx_y_v (0.040629)\n",
      "9. feature secondshower_Y_vtxdist (0.020448)\n"
     ]
    },
    {
     "data": {
      "application/javascript": [
       "\n",
       "            setTimeout(function() {\n",
       "                var nbb_cell_id = 28;\n",
       "                var nbb_formatted_code = \"# make predictions for test data\\ny_pred = model_e.predict(X_test)\\ntarget_names = [\\\"electron\\\", \\\"non_electron\\\"]\\nprint(classification_report(y_test[\\\"train_label\\\"], y_pred, target_names=target_names))\\npredictions = [round(value) for value in y_pred]\\n\\n# evaluate predictions\\naccuracy = accuracy_score(y_test[\\\"train_label\\\"], predictions)\\nprint(\\\"Test accuracy: %.2f%%\\\" % (accuracy * 100.0))\\n\\n\\n# make predictions for test data\\ny_pred_train = model_e.predict(X_train)\\npredictions = [round(value) for value in y_pred_train]\\n# evaluate predictions\\naccuracy = accuracy_score(y_train[\\\"train_label\\\"], predictions)\\nprint(\\\"Train accuracy: %.2f%%\\\\n\\\" % (accuracy * 100.0))\\n\\nimportances = model_e.feature_importances_\\nsort = np.argsort(-importances)\\n\\nfor i, (n, im) in enumerate(zip(np.array(col_train_electron)[sort], importances[sort])):\\n    print(\\\"%d. feature %s (%f)\\\" % (i + 1, n, im))\";\n",
       "                var nbb_cells = Jupyter.notebook.get_cells();\n",
       "                for (var i = 0; i < nbb_cells.length; ++i) {\n",
       "                    if (nbb_cells[i].input_prompt_number == nbb_cell_id) {\n",
       "                        nbb_cells[i].set_text(nbb_formatted_code);\n",
       "                        break;\n",
       "                    }\n",
       "                }\n",
       "            }, 500);\n",
       "            "
      ],
      "text/plain": [
       "<IPython.core.display.Javascript object>"
      ]
     },
     "metadata": {},
     "output_type": "display_data"
    }
   ],
   "source": [
    "# make predictions for test data\n",
    "y_pred = model_e.predict(X_test)\n",
    "target_names = [\"electron\", \"non_electron\"]\n",
    "print(classification_report(y_test[\"train_label\"], y_pred, target_names=target_names))\n",
    "predictions = [round(value) for value in y_pred]\n",
    "\n",
    "# evaluate predictions\n",
    "accuracy = accuracy_score(y_test[\"train_label\"], predictions)\n",
    "print(\"Test accuracy: %.2f%%\" % (accuracy * 100.0))\n",
    "\n",
    "\n",
    "# make predictions for test data\n",
    "y_pred_train = model_e.predict(X_train)\n",
    "predictions = [round(value) for value in y_pred_train]\n",
    "# evaluate predictions\n",
    "accuracy = accuracy_score(y_train[\"train_label\"], predictions)\n",
    "print(\"Train accuracy: %.2f%%\\n\" % (accuracy * 100.0))\n",
    "\n",
    "importances = model_e.feature_importances_\n",
    "sort = np.argsort(-importances)\n",
    "\n",
    "for i, (n, im) in enumerate(zip(np.array(col_train_electron)[sort], importances[sort])):\n",
    "    print(\"%d. feature %s (%f)\" % (i + 1, n, im))"
   ]
  },
  {
   "cell_type": "code",
   "execution_count": 29,
   "metadata": {},
   "outputs": [
    {
     "name": "stderr",
     "output_type": "stream",
     "text": [
      "/home/wouter/Binaries/miniconda3/envs/uproot/lib/python3.7/site-packages/sklearn/model_selection/_split.py:1978: FutureWarning: The default value of cv will change from 3 to 5 in version 0.22. Specify it explicitly to silence this warning.\n",
      "  warnings.warn(CV_WARNING, FutureWarning)\n"
     ]
    },
    {
     "data": {
      "application/javascript": [
       "\n",
       "            setTimeout(function() {\n",
       "                var nbb_cell_id = 29;\n",
       "                var nbb_formatted_code = \"param_range = range(1, 8)\\ntrain_scores, test_scores = validation_curve(\\n    XGBClassifier(),\\n    X_train,\\n    y_train[\\\"train_label\\\"],\\n    param_name=\\\"max_depth\\\",\\n    param_range=param_range,\\n    scoring=\\\"accuracy\\\",\\n    n_jobs=2,\\n)\";\n",
       "                var nbb_cells = Jupyter.notebook.get_cells();\n",
       "                for (var i = 0; i < nbb_cells.length; ++i) {\n",
       "                    if (nbb_cells[i].input_prompt_number == nbb_cell_id) {\n",
       "                        nbb_cells[i].set_text(nbb_formatted_code);\n",
       "                        break;\n",
       "                    }\n",
       "                }\n",
       "            }, 500);\n",
       "            "
      ],
      "text/plain": [
       "<IPython.core.display.Javascript object>"
      ]
     },
     "metadata": {},
     "output_type": "display_data"
    }
   ],
   "source": [
    "param_range = range(1, 8)\n",
    "train_scores, test_scores = validation_curve(\n",
    "    XGBClassifier(),\n",
    "    X_train,\n",
    "    y_train[\"train_label\"],\n",
    "    param_name=\"max_depth\",\n",
    "    param_range=param_range,\n",
    "    scoring=\"accuracy\",\n",
    "    n_jobs=2,\n",
    ")"
   ]
  },
  {
   "cell_type": "code",
   "execution_count": 30,
   "metadata": {},
   "outputs": [
    {
     "data": {
      "image/png": "[encoded data removed]",
      "text/plain": [
       "<Figure size 931.968x252 with 4 Axes>"
      ]
     },
     "metadata": {
      "needs_background": "light"
     },
     "output_type": "display_data"
    },
    {
     "data": {
      "application/javascript": [
       "\n",
       "            setTimeout(function() {\n",
       "                var nbb_cell_id = 30;\n",
       "                var nbb_formatted_code = \"fig, ax = plt.subplots(ncols=4, figsize=(8 * 1.618, 3.5), constrained_layout=True)\\n\\ny_pred = model_e.predict_proba(X_test).T[0]\\ny_pred_train = model_e.predict_proba(X_train).T[0]\\nfpr, tpr, _ = roc_curve(y_test[\\\"train_label\\\"], y_pred)\\nfpr_train, tpr_train, _ = roc_curve(y_train[\\\"train_label\\\"], y_pred_train)\\nroc_auc = auc(tpr, fpr)\\nroc_auc_train = auc(tpr_train, fpr_train)\\n\\nax[0].hist(\\n    y_pred[y_test[\\\"train_label\\\"] == 0],\\n    alpha=0.5,\\n    bins=50,\\n    range=(0, 1),\\n    label=r\\\"Electron showers\\\",\\n    density=False,\\n)\\nax[0].hist(\\n    y_pred[y_test[\\\"train_label\\\"] == 1],\\n    alpha=0.5,\\n    bins=50,\\n    range=(0, 1),\\n    label=\\\"Background showers\\\",\\n    density=False,\\n)\\nax[0].legend(loc=\\\"upper left\\\")\\nax[0].set_xlim(0, 1)\\nax[0].set_xlabel(\\\"Electron identification\\\")\\nax[0].set_ylabel(\\\"Entries per bin\\\")\\nax[0].set_title(\\\"XGBoost: Electron PID\\\")\\n\\n\\nax[1].plot(tpr, fpr, label=\\\"Test data (area = %0.3f)\\\" % roc_auc)\\nax[1].plot(tpr_train, fpr_train, label=\\\"Train data (area = %0.3f)\\\" % roc_auc_train)\\nax[1].plot([0, 1], [0, 1], linestyle=\\\"--\\\")\\nax[1].set_xlim([0.0, 1.0])\\nax[1].set_ylim([0.0, 1.0])\\nax[1].set_xlabel(\\\"False Positive Rate\\\")\\nax[1].set_ylabel(\\\"True Positive Rate\\\")\\nax[1].set_title(\\\"ROC curve\\\")\\nax[1].legend(loc=\\\"lower right\\\")\\n\\n\\n# retrieve performance metrics\\nresults = model_e.evals_result()\\nepochs = len(results[\\\"validation_0\\\"][\\\"error\\\"])\\nx_axis = range(0, epochs)\\n# plot log loss\\nax[2].plot(x_axis, results[\\\"validation_1\\\"][\\\"logloss\\\"], label=\\\"Test data\\\")\\nax[2].plot(x_axis, results[\\\"validation_0\\\"][\\\"logloss\\\"], label=\\\"Train data\\\")\\nax[2].legend()\\nax[2].set_ylabel(\\\"Binary logistic loss\\\")\\nax[2].set_xlabel(\\\"Training epoch\\\")\\nax[2].set_title(\\\"XGBoost logistic loss\\\")\\n\\n\\ntrain_scores_mean = np.mean(train_scores, axis=1)\\ntrain_scores_std = np.std(train_scores, axis=1)\\ntest_scores_mean = np.mean(test_scores, axis=1)\\ntest_scores_std = np.std(test_scores, axis=1)\\n\\nax[3].set_title(\\\"Validation Curve\\\")\\nax[3].set_xlabel(r\\\"Tree depth\\\")\\nax[3].set_ylabel(\\\"Accuracy\\\")\\nax[3].set_ylim(0.8, 0.9)\\nax[3].plot(param_range, test_scores_mean, label=\\\"Testing accuracy\\\")\\nax[3].fill_between(\\n    param_range,\\n    test_scores_mean - test_scores_std,\\n    test_scores_mean + test_scores_std,\\n    alpha=0.2,\\n)\\nax[3].plot(param_range, train_scores_mean, label=\\\"Training accuracy\\\")\\nax[3].fill_between(\\n    param_range,\\n    train_scores_mean - train_scores_std,\\n    train_scores_mean + train_scores_std,\\n    alpha=0.2,\\n)\\nax[3].axvline(x=depth, label=\\\"Training depth\\\", color=\\\"C2\\\", alpha=0.5)\\nax[3].legend(loc=\\\"upper left\\\")\\nax[3].set_xticks(param_range)\\n\\nfig.savefig(output_dir + \\\"e_bdt_test.pdf\\\")\";\n",
       "                var nbb_cells = Jupyter.notebook.get_cells();\n",
       "                for (var i = 0; i < nbb_cells.length; ++i) {\n",
       "                    if (nbb_cells[i].input_prompt_number == nbb_cell_id) {\n",
       "                        nbb_cells[i].set_text(nbb_formatted_code);\n",
       "                        break;\n",
       "                    }\n",
       "                }\n",
       "            }, 500);\n",
       "            "
      ],
      "text/plain": [
       "<IPython.core.display.Javascript object>"
      ]
     },
     "metadata": {},
     "output_type": "display_data"
    }
   ],
   "source": [
    "fig, ax = plt.subplots(ncols=4, figsize=(8 * 1.618, 3.5), constrained_layout=True)\n",
    "\n",
    "y_pred = model_e.predict_proba(X_test).T[0]\n",
    "y_pred_train = model_e.predict_proba(X_train).T[0]\n",
    "fpr, tpr, _ = roc_curve(y_test[\"train_label\"], y_pred)\n",
    "fpr_train, tpr_train, _ = roc_curve(y_train[\"train_label\"], y_pred_train)\n",
    "roc_auc = auc(tpr, fpr)\n",
    "roc_auc_train = auc(tpr_train, fpr_train)\n",
    "\n",
    "ax[0].hist(\n",
    "    y_pred[y_test[\"train_label\"] == 0],\n",
    "    alpha=0.5,\n",
    "    bins=50,\n",
    "    range=(0, 1),\n",
    "    label=r\"Electron showers\",\n",
    "    density=False,\n",
    ")\n",
    "ax[0].hist(\n",
    "    y_pred[y_test[\"train_label\"] == 1],\n",
    "    alpha=0.5,\n",
    "    bins=50,\n",
    "    range=(0, 1),\n",
    "    label=\"Background showers\",\n",
    "    density=False,\n",
    ")\n",
    "ax[0].legend(loc=\"upper left\")\n",
    "ax[0].set_xlim(0, 1)\n",
    "ax[0].set_xlabel(\"Electron identification\")\n",
    "ax[0].set_ylabel(\"Entries per bin\")\n",
    "ax[0].set_title(\"XGBoost: Electron PID\")\n",
    "\n",
    "\n",
    "ax[1].plot(tpr, fpr, label=\"Test data (area = %0.3f)\" % roc_auc)\n",
    "ax[1].plot(tpr_train, fpr_train, label=\"Train data (area = %0.3f)\" % roc_auc_train)\n",
    "ax[1].plot([0, 1], [0, 1], linestyle=\"--\")\n",
    "ax[1].set_xlim([0.0, 1.0])\n",
    "ax[1].set_ylim([0.0, 1.0])\n",
    "ax[1].set_xlabel(\"False Positive Rate\")\n",
    "ax[1].set_ylabel(\"True Positive Rate\")\n",
    "ax[1].set_title(\"ROC curve\")\n",
    "ax[1].legend(loc=\"lower right\")\n",
    "\n",
    "\n",
    "# retrieve performance metrics\n",
    "results = model_e.evals_result()\n",
    "epochs = len(results[\"validation_0\"][\"error\"])\n",
    "x_axis = range(0, epochs)\n",
    "# plot log loss\n",
    "ax[2].plot(x_axis, results[\"validation_1\"][\"logloss\"], label=\"Test data\")\n",
    "ax[2].plot(x_axis, results[\"validation_0\"][\"logloss\"], label=\"Train data\")\n",
    "ax[2].legend()\n",
    "ax[2].set_ylabel(\"Binary logistic loss\")\n",
    "ax[2].set_xlabel(\"Training epoch\")\n",
    "ax[2].set_title(\"XGBoost logistic loss\")\n",
    "\n",
    "\n",
    "train_scores_mean = np.mean(train_scores, axis=1)\n",
    "train_scores_std = np.std(train_scores, axis=1)\n",
    "test_scores_mean = np.mean(test_scores, axis=1)\n",
    "test_scores_std = np.std(test_scores, axis=1)\n",
    "\n",
    "ax[3].set_title(\"Validation Curve\")\n",
    "ax[3].set_xlabel(r\"Tree depth\")\n",
    "ax[3].set_ylabel(\"Accuracy\")\n",
    "ax[3].set_ylim(0.8, 0.9)\n",
    "ax[3].plot(param_range, test_scores_mean, label=\"Testing accuracy\")\n",
    "ax[3].fill_between(\n",
    "    param_range,\n",
    "    test_scores_mean - test_scores_std,\n",
    "    test_scores_mean + test_scores_std,\n",
    "    alpha=0.2,\n",
    ")\n",
    "ax[3].plot(param_range, train_scores_mean, label=\"Training accuracy\")\n",
    "ax[3].fill_between(\n",
    "    param_range,\n",
    "    train_scores_mean - train_scores_std,\n",
    "    train_scores_mean + train_scores_std,\n",
    "    alpha=0.2,\n",
    ")\n",
    "ax[3].axvline(x=depth, label=\"Training depth\", color=\"C2\", alpha=0.5)\n",
    "ax[3].legend(loc=\"upper left\")\n",
    "ax[3].set_xticks(param_range)\n",
    "\n",
    "fig.savefig(output_dir + \"e_bdt_test.pdf\")"
   ]
  },
  {
   "cell_type": "markdown",
   "metadata": {},
   "source": [
    "#### Other daughters training"
   ]
  },
  {
   "cell_type": "code",
   "execution_count": 31,
   "metadata": {},
   "outputs": [
    {
     "data": {
      "application/javascript": [
       "\n",
       "            setTimeout(function() {\n",
       "                var nbb_cell_id = 31;\n",
       "                var nbb_formatted_code = \"train_q = \\\"preselect & ~e_candidate\\\"\\nX_train = []\\nX_test = []\\ny_train = []\\ny_test = []\\nfor k in [\\\"train\\\"]:\\n    X = sample_info[k][\\\"daughters\\\"].query(train_q)[col_train_other]\\n    Y = sample_info[k][\\\"daughters\\\"].query(train_q)[[\\\"train_label\\\", \\\"train_weight\\\"]]\\n    X_tr, X_te, y_tr, y_te = train_test_split(\\n        X, Y, test_size=test_size, random_state=seed\\n    )\\n    X_train.append(X_tr)\\n    X_test.append(X_te)\\n    y_train.append(y_tr)\\n    y_test.append(y_te)\\n\\n# Merge our two samples\\nX_train = pd.concat(X_train).reset_index(drop=True)\\ny_train = pd.concat(y_train).reset_index(drop=True)\\nX_test = pd.concat(X_test).reset_index(drop=True)\\ny_test = pd.concat(y_test).reset_index(drop=True)\";\n",
       "                var nbb_cells = Jupyter.notebook.get_cells();\n",
       "                for (var i = 0; i < nbb_cells.length; ++i) {\n",
       "                    if (nbb_cells[i].input_prompt_number == nbb_cell_id) {\n",
       "                        nbb_cells[i].set_text(nbb_formatted_code);\n",
       "                        break;\n",
       "                    }\n",
       "                }\n",
       "            }, 500);\n",
       "            "
      ],
      "text/plain": [
       "<IPython.core.display.Javascript object>"
      ]
     },
     "metadata": {},
     "output_type": "display_data"
    }
   ],
   "source": [
    "train_q = \"preselect & ~e_candidate\"\n",
    "X_train = []\n",
    "X_test = []\n",
    "y_train = []\n",
    "y_test = []\n",
    "for k in [\"train\"]:\n",
    "    X = sample_info[k][\"daughters\"].query(train_q)[col_train_other]\n",
    "    Y = sample_info[k][\"daughters\"].query(train_q)[[\"train_label\", \"train_weight\"]]\n",
    "    X_tr, X_te, y_tr, y_te = train_test_split(\n",
    "        X, Y, test_size=test_size, random_state=seed\n",
    "    )\n",
    "    X_train.append(X_tr)\n",
    "    X_test.append(X_te)\n",
    "    y_train.append(y_tr)\n",
    "    y_test.append(y_te)\n",
    "\n",
    "# Merge our two samples\n",
    "X_train = pd.concat(X_train).reset_index(drop=True)\n",
    "y_train = pd.concat(y_train).reset_index(drop=True)\n",
    "X_test = pd.concat(X_test).reset_index(drop=True)\n",
    "y_test = pd.concat(y_test).reset_index(drop=True)"
   ]
  },
  {
   "cell_type": "code",
   "execution_count": 32,
   "metadata": {},
   "outputs": [
    {
     "name": "stderr",
     "output_type": "stream",
     "text": [
      "/home/wouter/Binaries/miniconda3/envs/uproot/lib/python3.7/site-packages/xgboost/core.py:587: FutureWarning: Series.base is deprecated and will be removed in a future version\n",
      "  if getattr(data, 'base', None) is not None and \\\n",
      "/home/wouter/Binaries/miniconda3/envs/uproot/lib/python3.7/site-packages/xgboost/core.py:588: FutureWarning: Series.base is deprecated and will be removed in a future version\n",
      "  data.base is not None and isinstance(data, np.ndarray) \\\n"
     ]
    },
    {
     "name": "stdout",
     "output_type": "stream",
     "text": [
      "[0]\tvalidation_0-error:0.161844\tvalidation_0-logloss:0.643429\tvalidation_1-error:0.163645\tvalidation_1-logloss:0.644397\n",
      "[1]\tvalidation_0-error:0.160957\tvalidation_0-logloss:0.604301\tvalidation_1-error:0.16231\tvalidation_1-logloss:0.604052\n",
      "[2]\tvalidation_0-error:0.163026\tvalidation_0-logloss:0.570117\tvalidation_1-error:0.164482\tvalidation_1-logloss:0.570622\n",
      "[3]\tvalidation_0-error:0.162381\tvalidation_0-logloss:0.541789\tvalidation_1-error:0.163913\tvalidation_1-logloss:0.542376\n",
      "[4]\tvalidation_0-error:0.162102\tvalidation_0-logloss:0.517592\tvalidation_1-error:0.163471\tvalidation_1-logloss:0.518555\n",
      "[5]\tvalidation_0-error:0.161684\tvalidation_0-logloss:0.497326\tvalidation_1-error:0.163353\tvalidation_1-logloss:0.49866\n",
      "[6]\tvalidation_0-error:0.160942\tvalidation_0-logloss:0.479656\tvalidation_1-error:0.16246\tvalidation_1-logloss:0.481029\n",
      "[7]\tvalidation_0-error:0.160818\tvalidation_0-logloss:0.464551\tvalidation_1-error:0.162302\tvalidation_1-logloss:0.465921\n",
      "[8]\tvalidation_0-error:0.160684\tvalidation_0-logloss:0.451422\tvalidation_1-error:0.162223\tvalidation_1-logloss:0.453053\n",
      "[9]\tvalidation_0-error:0.160154\tvalidation_0-logloss:0.440075\tvalidation_1-error:0.161679\tvalidation_1-logloss:0.441947\n",
      "[10]\tvalidation_0-error:0.159999\tvalidation_0-logloss:0.430457\tvalidation_1-error:0.161418\tvalidation_1-logloss:0.432299\n",
      "[11]\tvalidation_0-error:0.160099\tvalidation_0-logloss:0.421767\tvalidation_1-error:0.161607\tvalidation_1-logloss:0.423934\n",
      "[12]\tvalidation_0-error:0.159936\tvalidation_0-logloss:0.414472\tvalidation_1-error:0.161552\tvalidation_1-logloss:0.416736\n",
      "[13]\tvalidation_0-error:0.159957\tvalidation_0-logloss:0.407842\tvalidation_1-error:0.161457\tvalidation_1-logloss:0.41053\n",
      "[14]\tvalidation_0-error:0.159849\tvalidation_0-logloss:0.402547\tvalidation_1-error:0.161418\tvalidation_1-logloss:0.404946\n",
      "[15]\tvalidation_0-error:0.159781\tvalidation_0-logloss:0.397471\tvalidation_1-error:0.161331\tvalidation_1-logloss:0.400193\n",
      "[16]\tvalidation_0-error:0.159631\tvalidation_0-logloss:0.393219\tvalidation_1-error:0.161031\tvalidation_1-logloss:0.395975\n",
      "[17]\tvalidation_0-error:0.159673\tvalidation_0-logloss:0.38967\tvalidation_1-error:0.16107\tvalidation_1-logloss:0.3924\n",
      "[18]\tvalidation_0-error:0.159683\tvalidation_0-logloss:0.386183\tvalidation_1-error:0.161142\tvalidation_1-logloss:0.389279\n",
      "[19]\tvalidation_0-error:0.159517\tvalidation_0-logloss:0.383357\tvalidation_1-error:0.161055\tvalidation_1-logloss:0.386596\n",
      "[20]\tvalidation_0-error:0.15957\tvalidation_0-logloss:0.381124\tvalidation_1-error:0.160905\tvalidation_1-logloss:0.384112\n",
      "[21]\tvalidation_0-error:0.159539\tvalidation_0-logloss:0.378903\tvalidation_1-error:0.160944\tvalidation_1-logloss:0.382142\n",
      "[22]\tvalidation_0-error:0.159646\tvalidation_0-logloss:0.376888\tvalidation_1-error:0.161031\tvalidation_1-logloss:0.380327\n",
      "[23]\tvalidation_0-error:0.15951\tvalidation_0-logloss:0.375402\tvalidation_1-error:0.16096\tvalidation_1-logloss:0.378698\n",
      "[24]\tvalidation_0-error:0.159462\tvalidation_0-logloss:0.373822\tvalidation_1-error:0.16096\tvalidation_1-logloss:0.377278\n",
      "[25]\tvalidation_0-error:0.159452\tvalidation_0-logloss:0.37259\tvalidation_1-error:0.161055\tvalidation_1-logloss:0.376061\n",
      "[26]\tvalidation_0-error:0.159512\tvalidation_0-logloss:0.371405\tvalidation_1-error:0.160944\tvalidation_1-logloss:0.375011\n",
      "[27]\tvalidation_0-error:0.159515\tvalidation_0-logloss:0.370329\tvalidation_1-error:0.161063\tvalidation_1-logloss:0.373973\n",
      "[28]\tvalidation_0-error:0.159715\tvalidation_0-logloss:0.369389\tvalidation_1-error:0.16141\tvalidation_1-logloss:0.373076\n",
      "[29]\tvalidation_0-error:0.159733\tvalidation_0-logloss:0.368467\tvalidation_1-error:0.161355\tvalidation_1-logloss:0.372326\n",
      "[30]\tvalidation_0-error:0.159702\tvalidation_0-logloss:0.367692\tvalidation_1-error:0.161505\tvalidation_1-logloss:0.371552\n",
      "[31]\tvalidation_0-error:0.159617\tvalidation_0-logloss:0.366866\tvalidation_1-error:0.161434\tvalidation_1-logloss:0.371013\n",
      "[32]\tvalidation_0-error:0.159586\tvalidation_0-logloss:0.366313\tvalidation_1-error:0.161434\tvalidation_1-logloss:0.370423\n",
      "[33]\tvalidation_0-error:0.15957\tvalidation_0-logloss:0.365779\tvalidation_1-error:0.161442\tvalidation_1-logloss:0.369902\n",
      "[34]\tvalidation_0-error:0.159565\tvalidation_0-logloss:0.365336\tvalidation_1-error:0.161371\tvalidation_1-logloss:0.369482\n",
      "[35]\tvalidation_0-error:0.159483\tvalidation_0-logloss:0.36476\tvalidation_1-error:0.161465\tvalidation_1-logloss:0.369073\n",
      "[36]\tvalidation_0-error:0.159452\tvalidation_0-logloss:0.364399\tvalidation_1-error:0.161434\tvalidation_1-logloss:0.368768\n",
      "[37]\tvalidation_0-error:0.159425\tvalidation_0-logloss:0.364154\tvalidation_1-error:0.161221\tvalidation_1-logloss:0.368511\n",
      "[38]\tvalidation_0-error:0.159444\tvalidation_0-logloss:0.363892\tvalidation_1-error:0.161442\tvalidation_1-logloss:0.368289\n",
      "[39]\tvalidation_0-error:0.15941\tvalidation_0-logloss:0.363483\tvalidation_1-error:0.161489\tvalidation_1-logloss:0.367999\n",
      "[40]\tvalidation_0-error:0.159402\tvalidation_0-logloss:0.363271\tvalidation_1-error:0.161513\tvalidation_1-logloss:0.367817\n",
      "[41]\tvalidation_0-error:0.159381\tvalidation_0-logloss:0.362965\tvalidation_1-error:0.161394\tvalidation_1-logloss:0.367614\n",
      "[42]\tvalidation_0-error:0.159341\tvalidation_0-logloss:0.362762\tvalidation_1-error:0.161442\tvalidation_1-logloss:0.367486\n",
      "[43]\tvalidation_0-error:0.159315\tvalidation_0-logloss:0.362551\tvalidation_1-error:0.161465\tvalidation_1-logloss:0.367295\n",
      "[44]\tvalidation_0-error:0.159328\tvalidation_0-logloss:0.362416\tvalidation_1-error:0.16156\tvalidation_1-logloss:0.367202\n",
      "[45]\tvalidation_0-error:0.159346\tvalidation_0-logloss:0.362263\tvalidation_1-error:0.161489\tvalidation_1-logloss:0.367047\n",
      "[46]\tvalidation_0-error:0.159286\tvalidation_0-logloss:0.362104\tvalidation_1-error:0.161513\tvalidation_1-logloss:0.366897\n",
      "[47]\tvalidation_0-error:0.159336\tvalidation_0-logloss:0.361889\tvalidation_1-error:0.161536\tvalidation_1-logloss:0.366754\n",
      "[48]\tvalidation_0-error:0.159352\tvalidation_0-logloss:0.361777\tvalidation_1-error:0.161536\tvalidation_1-logloss:0.366669\n",
      "[49]\tvalidation_0-error:0.159283\tvalidation_0-logloss:0.361604\tvalidation_1-error:0.161434\tvalidation_1-logloss:0.366562\n",
      "[50]\tvalidation_0-error:0.159386\tvalidation_0-logloss:0.361418\tvalidation_1-error:0.161552\tvalidation_1-logloss:0.366447\n",
      "[51]\tvalidation_0-error:0.159349\tvalidation_0-logloss:0.361329\tvalidation_1-error:0.161497\tvalidation_1-logloss:0.366381\n",
      "[52]\tvalidation_0-error:0.159336\tvalidation_0-logloss:0.361202\tvalidation_1-error:0.161536\tvalidation_1-logloss:0.366319\n",
      "[53]\tvalidation_0-error:0.159254\tvalidation_0-logloss:0.36107\tvalidation_1-error:0.161473\tvalidation_1-logloss:0.366252\n",
      "[54]\tvalidation_0-error:0.15922\tvalidation_0-logloss:0.360957\tvalidation_1-error:0.161544\tvalidation_1-logloss:0.366157\n",
      "[55]\tvalidation_0-error:0.159212\tvalidation_0-logloss:0.360898\tvalidation_1-error:0.161473\tvalidation_1-logloss:0.366126\n",
      "[56]\tvalidation_0-error:0.159199\tvalidation_0-logloss:0.360781\tvalidation_1-error:0.161457\tvalidation_1-logloss:0.366101\n",
      "[57]\tvalidation_0-error:0.159131\tvalidation_0-logloss:0.36067\tvalidation_1-error:0.161434\tvalidation_1-logloss:0.366027\n",
      "[58]\tvalidation_0-error:0.159141\tvalidation_0-logloss:0.360598\tvalidation_1-error:0.161442\tvalidation_1-logloss:0.366021\n",
      "[59]\tvalidation_0-error:0.159125\tvalidation_0-logloss:0.360504\tvalidation_1-error:0.161426\tvalidation_1-logloss:0.365989\n",
      "[60]\tvalidation_0-error:0.159125\tvalidation_0-logloss:0.360352\tvalidation_1-error:0.161426\tvalidation_1-logloss:0.365873\n",
      "[61]\tvalidation_0-error:0.159028\tvalidation_0-logloss:0.360258\tvalidation_1-error:0.161489\tvalidation_1-logloss:0.365819\n",
      "[62]\tvalidation_0-error:0.159015\tvalidation_0-logloss:0.360212\tvalidation_1-error:0.161497\tvalidation_1-logloss:0.365806\n",
      "[63]\tvalidation_0-error:0.159012\tvalidation_0-logloss:0.360154\tvalidation_1-error:0.161465\tvalidation_1-logloss:0.36577\n",
      "[64]\tvalidation_0-error:0.158962\tvalidation_0-logloss:0.360054\tvalidation_1-error:0.161513\tvalidation_1-logloss:0.365724\n",
      "[65]\tvalidation_0-error:0.158862\tvalidation_0-logloss:0.360006\tvalidation_1-error:0.161426\tvalidation_1-logloss:0.365699\n",
      "[66]\tvalidation_0-error:0.158854\tvalidation_0-logloss:0.359903\tvalidation_1-error:0.161371\tvalidation_1-logloss:0.365683\n",
      "[67]\tvalidation_0-error:0.158844\tvalidation_0-logloss:0.359818\tvalidation_1-error:0.161363\tvalidation_1-logloss:0.365692\n"
     ]
    },
    {
     "name": "stdout",
     "output_type": "stream",
     "text": [
      "[68]\tvalidation_0-error:0.158801\tvalidation_0-logloss:0.359787\tvalidation_1-error:0.161323\tvalidation_1-logloss:0.365659\n",
      "[69]\tvalidation_0-error:0.158804\tvalidation_0-logloss:0.359697\tvalidation_1-error:0.161323\tvalidation_1-logloss:0.365663\n",
      "[70]\tvalidation_0-error:0.158812\tvalidation_0-logloss:0.359626\tvalidation_1-error:0.161347\tvalidation_1-logloss:0.36564\n",
      "[71]\tvalidation_0-error:0.158749\tvalidation_0-logloss:0.359594\tvalidation_1-error:0.161276\tvalidation_1-logloss:0.365625\n",
      "[72]\tvalidation_0-error:0.158794\tvalidation_0-logloss:0.359509\tvalidation_1-error:0.161331\tvalidation_1-logloss:0.365582\n",
      "[73]\tvalidation_0-error:0.158762\tvalidation_0-logloss:0.359482\tvalidation_1-error:0.161315\tvalidation_1-logloss:0.365574\n",
      "[74]\tvalidation_0-error:0.158741\tvalidation_0-logloss:0.359412\tvalidation_1-error:0.161323\tvalidation_1-logloss:0.365535\n",
      "[75]\tvalidation_0-error:0.158733\tvalidation_0-logloss:0.359377\tvalidation_1-error:0.161292\tvalidation_1-logloss:0.365532\n",
      "[76]\tvalidation_0-error:0.158736\tvalidation_0-logloss:0.359302\tvalidation_1-error:0.161228\tvalidation_1-logloss:0.365511\n",
      "[77]\tvalidation_0-error:0.158675\tvalidation_0-logloss:0.35922\tvalidation_1-error:0.161173\tvalidation_1-logloss:0.365485\n",
      "[78]\tvalidation_0-error:0.158678\tvalidation_0-logloss:0.359177\tvalidation_1-error:0.161149\tvalidation_1-logloss:0.365471\n",
      "[79]\tvalidation_0-error:0.158675\tvalidation_0-logloss:0.359124\tvalidation_1-error:0.161173\tvalidation_1-logloss:0.365467\n",
      "[80]\tvalidation_0-error:0.158612\tvalidation_0-logloss:0.359078\tvalidation_1-error:0.161142\tvalidation_1-logloss:0.36548\n",
      "[81]\tvalidation_0-error:0.158586\tvalidation_0-logloss:0.358967\tvalidation_1-error:0.161118\tvalidation_1-logloss:0.365407\n",
      "[82]\tvalidation_0-error:0.158546\tvalidation_0-logloss:0.358935\tvalidation_1-error:0.161094\tvalidation_1-logloss:0.3654\n",
      "[83]\tvalidation_0-error:0.158546\tvalidation_0-logloss:0.358895\tvalidation_1-error:0.161086\tvalidation_1-logloss:0.365399\n",
      "[84]\tvalidation_0-error:0.158549\tvalidation_0-logloss:0.358907\tvalidation_1-error:0.161102\tvalidation_1-logloss:0.365376\n",
      "[85]\tvalidation_0-error:0.15853\tvalidation_0-logloss:0.358873\tvalidation_1-error:0.16111\tvalidation_1-logloss:0.365379\n",
      "[86]\tvalidation_0-error:0.158541\tvalidation_0-logloss:0.358848\tvalidation_1-error:0.161157\tvalidation_1-logloss:0.365381\n",
      "[87]\tvalidation_0-error:0.158549\tvalidation_0-logloss:0.358777\tvalidation_1-error:0.161213\tvalidation_1-logloss:0.365353\n",
      "[88]\tvalidation_0-error:0.158496\tvalidation_0-logloss:0.358735\tvalidation_1-error:0.161134\tvalidation_1-logloss:0.365359\n",
      "[89]\tvalidation_0-error:0.158515\tvalidation_0-logloss:0.358687\tvalidation_1-error:0.161078\tvalidation_1-logloss:0.365346\n",
      "[90]\tvalidation_0-error:0.158488\tvalidation_0-logloss:0.358619\tvalidation_1-error:0.161173\tvalidation_1-logloss:0.365329\n",
      "[91]\tvalidation_0-error:0.15852\tvalidation_0-logloss:0.35859\tvalidation_1-error:0.161189\tvalidation_1-logloss:0.365333\n",
      "[92]\tvalidation_0-error:0.15852\tvalidation_0-logloss:0.358562\tvalidation_1-error:0.161189\tvalidation_1-logloss:0.365331\n",
      "[93]\tvalidation_0-error:0.158509\tvalidation_0-logloss:0.358536\tvalidation_1-error:0.161181\tvalidation_1-logloss:0.365336\n",
      "[94]\tvalidation_0-error:0.158478\tvalidation_0-logloss:0.358508\tvalidation_1-error:0.161094\tvalidation_1-logloss:0.365324\n",
      "[95]\tvalidation_0-error:0.158428\tvalidation_0-logloss:0.358482\tvalidation_1-error:0.161118\tvalidation_1-logloss:0.365312\n",
      "[96]\tvalidation_0-error:0.158396\tvalidation_0-logloss:0.358446\tvalidation_1-error:0.161118\tvalidation_1-logloss:0.365308\n",
      "[97]\tvalidation_0-error:0.158393\tvalidation_0-logloss:0.358417\tvalidation_1-error:0.161118\tvalidation_1-logloss:0.365315\n",
      "[98]\tvalidation_0-error:0.158401\tvalidation_0-logloss:0.358405\tvalidation_1-error:0.161086\tvalidation_1-logloss:0.365318\n",
      "[99]\tvalidation_0-error:0.158399\tvalidation_0-logloss:0.358365\tvalidation_1-error:0.161094\tvalidation_1-logloss:0.365302\n"
     ]
    },
    {
     "data": {
      "application/javascript": [
       "\n",
       "            setTimeout(function() {\n",
       "                var nbb_cell_id = 32;\n",
       "                var nbb_formatted_code = \"# fit model on training data\\nif retrain:\\n    depth = 6\\n    model_d = XGBClassifier(max_depth=depth, objective=\\\"binary:logistic\\\")\\n    eval_set = [(X_train, y_train[\\\"train_label\\\"]), (X_test, y_test[\\\"train_label\\\"])]\\n    model_d.fit(\\n        X_train,\\n        y_train[\\\"train_label\\\"],\\n        sample_weight=y_train[\\\"train_weight\\\"],\\n        eval_metric=[\\\"error\\\", \\\"logloss\\\"],\\n        eval_set=eval_set,\\n    )\\n    dump(model_d, model_dir + \\\"model_d.pckl\\\")\\nelse:\\n    model_d = load(model_dir + \\\"model_d.pckl\\\")\";\n",
       "                var nbb_cells = Jupyter.notebook.get_cells();\n",
       "                for (var i = 0; i < nbb_cells.length; ++i) {\n",
       "                    if (nbb_cells[i].input_prompt_number == nbb_cell_id) {\n",
       "                        nbb_cells[i].set_text(nbb_formatted_code);\n",
       "                        break;\n",
       "                    }\n",
       "                }\n",
       "            }, 500);\n",
       "            "
      ],
      "text/plain": [
       "<IPython.core.display.Javascript object>"
      ]
     },
     "metadata": {},
     "output_type": "display_data"
    }
   ],
   "source": [
    "# fit model on training data\n",
    "if retrain:\n",
    "    depth = 6\n",
    "    model_d = XGBClassifier(max_depth=depth, objective=\"binary:logistic\")\n",
    "    eval_set = [(X_train, y_train[\"train_label\"]), (X_test, y_test[\"train_label\"])]\n",
    "    model_d.fit(\n",
    "        X_train,\n",
    "        y_train[\"train_label\"],\n",
    "        sample_weight=y_train[\"train_weight\"],\n",
    "        eval_metric=[\"error\", \"logloss\"],\n",
    "        eval_set=eval_set,\n",
    "    )\n",
    "    dump(model_d, model_dir + \"model_d.pckl\")\n",
    "else:\n",
    "    model_d = load(model_dir + \"model_d.pckl\")"
   ]
  },
  {
   "cell_type": "code",
   "execution_count": 33,
   "metadata": {},
   "outputs": [
    {
     "name": "stdout",
     "output_type": "stream",
     "text": [
      "                       precision    recall  f1-score   support\n",
      "\n",
      "    proton, pion, ...       0.87      0.87      0.87     81202\n",
      "muon, overlay, photon       0.77      0.78      0.78     45432\n",
      "\n",
      "             accuracy                           0.84    126634\n",
      "            macro avg       0.82      0.83      0.83    126634\n",
      "         weighted avg       0.84      0.84      0.84    126634\n",
      "\n",
      "Test accuracy: 83.89%\n",
      "Train accuracy: 84.16%\n",
      "\n",
      "1. feature trk_llr_pid_score_v (0.616502)\n",
      "2. feature trk_distance_v (0.199922)\n",
      "3. feature trk_score_v (0.089212)\n",
      "4. feature pfp_trk_daughters_v (0.040144)\n",
      "5. feature pfp_generation_v (0.036762)\n",
      "6. feature pfp_shr_daughters_v (0.017458)\n"
     ]
    },
    {
     "data": {
      "application/javascript": [
       "\n",
       "            setTimeout(function() {\n",
       "                var nbb_cell_id = 33;\n",
       "                var nbb_formatted_code = \"# make predictions for test data\\ny_pred = model_d.predict(X_test)\\ntarget_names = [\\\"proton, pion, ...\\\", \\\"muon, overlay, photon\\\"]\\nprint(classification_report(y_test[\\\"train_label\\\"], y_pred, target_names=target_names))\\npredictions = [round(value) for value in y_pred]\\n\\n# evaluate predictions\\naccuracy = accuracy_score(y_test[\\\"train_label\\\"], predictions)\\nprint(\\\"Test accuracy: %.2f%%\\\" % (accuracy * 100.0))\\n\\n\\n# make predictions for test data\\ny_pred_train = model_d.predict(X_train)\\npredictions = [round(value) for value in y_pred_train]\\n# evaluate predictions\\naccuracy = accuracy_score(y_train[\\\"train_label\\\"], predictions)\\nprint(\\\"Train accuracy: %.2f%%\\\\n\\\" % (accuracy * 100.0))\\n\\nimportances = model_d.feature_importances_\\nsort = np.argsort(-importances)\\n\\nfor i, (n, im) in enumerate(zip(np.array(col_train_other)[sort], importances[sort])):\\n    print(\\\"%d. feature %s (%f)\\\" % (i + 1, n, im))\";\n",
       "                var nbb_cells = Jupyter.notebook.get_cells();\n",
       "                for (var i = 0; i < nbb_cells.length; ++i) {\n",
       "                    if (nbb_cells[i].input_prompt_number == nbb_cell_id) {\n",
       "                        nbb_cells[i].set_text(nbb_formatted_code);\n",
       "                        break;\n",
       "                    }\n",
       "                }\n",
       "            }, 500);\n",
       "            "
      ],
      "text/plain": [
       "<IPython.core.display.Javascript object>"
      ]
     },
     "metadata": {},
     "output_type": "display_data"
    }
   ],
   "source": [
    "# make predictions for test data\n",
    "y_pred = model_d.predict(X_test)\n",
    "target_names = [\"proton, pion, ...\", \"muon, overlay, photon\"]\n",
    "print(classification_report(y_test[\"train_label\"], y_pred, target_names=target_names))\n",
    "predictions = [round(value) for value in y_pred]\n",
    "\n",
    "# evaluate predictions\n",
    "accuracy = accuracy_score(y_test[\"train_label\"], predictions)\n",
    "print(\"Test accuracy: %.2f%%\" % (accuracy * 100.0))\n",
    "\n",
    "\n",
    "# make predictions for test data\n",
    "y_pred_train = model_d.predict(X_train)\n",
    "predictions = [round(value) for value in y_pred_train]\n",
    "# evaluate predictions\n",
    "accuracy = accuracy_score(y_train[\"train_label\"], predictions)\n",
    "print(\"Train accuracy: %.2f%%\\n\" % (accuracy * 100.0))\n",
    "\n",
    "importances = model_d.feature_importances_\n",
    "sort = np.argsort(-importances)\n",
    "\n",
    "for i, (n, im) in enumerate(zip(np.array(col_train_other)[sort], importances[sort])):\n",
    "    print(\"%d. feature %s (%f)\" % (i + 1, n, im))"
   ]
  },
  {
   "cell_type": "code",
   "execution_count": 34,
   "metadata": {},
   "outputs": [
    {
     "data": {
      "application/javascript": [
       "\n",
       "            setTimeout(function() {\n",
       "                var nbb_cell_id = 34;\n",
       "                var nbb_formatted_code = \"param_range = range(1, 8)\\ntrain_scores, test_scores = validation_curve(\\n    XGBClassifier(),\\n    X_train,\\n    y_train[\\\"train_label\\\"],\\n    param_name=\\\"max_depth\\\",\\n    param_range=param_range,\\n    scoring=\\\"accuracy\\\",\\n    n_jobs=2,\\n    cv=2,\\n)\";\n",
       "                var nbb_cells = Jupyter.notebook.get_cells();\n",
       "                for (var i = 0; i < nbb_cells.length; ++i) {\n",
       "                    if (nbb_cells[i].input_prompt_number == nbb_cell_id) {\n",
       "                        nbb_cells[i].set_text(nbb_formatted_code);\n",
       "                        break;\n",
       "                    }\n",
       "                }\n",
       "            }, 500);\n",
       "            "
      ],
      "text/plain": [
       "<IPython.core.display.Javascript object>"
      ]
     },
     "metadata": {},
     "output_type": "display_data"
    }
   ],
   "source": [
    "param_range = range(1, 8)\n",
    "train_scores, test_scores = validation_curve(\n",
    "    XGBClassifier(),\n",
    "    X_train,\n",
    "    y_train[\"train_label\"],\n",
    "    param_name=\"max_depth\",\n",
    "    param_range=param_range,\n",
    "    scoring=\"accuracy\",\n",
    "    n_jobs=2,\n",
    "    cv=2,\n",
    ")"
   ]
  },
  {
   "cell_type": "code",
   "execution_count": 35,
   "metadata": {},
   "outputs": [
    {
     "data": {
      "image/png": "[encoded data removed]",
      "text/plain": [
       "<Figure size 931.968x252 with 4 Axes>"
      ]
     },
     "metadata": {
      "needs_background": "light"
     },
     "output_type": "display_data"
    },
    {
     "data": {
      "application/javascript": [
       "\n",
       "            setTimeout(function() {\n",
       "                var nbb_cell_id = 35;\n",
       "                var nbb_formatted_code = \"fig, ax = plt.subplots(ncols=4, figsize=(8 * 1.618, 3.5), constrained_layout=True)\\n\\ny_pred = model_d.predict_proba(X_test).T[0]\\ny_pred_train = model_d.predict_proba(X_train).T[0]\\nfpr, tpr, _ = roc_curve(y_test[\\\"train_label\\\"], y_pred)\\nfpr_train, tpr_train, _ = roc_curve(y_train[\\\"train_label\\\"], y_pred_train)\\nroc_auc = auc(tpr, fpr)\\nroc_auc_train = auc(tpr_train, fpr_train)\\n\\nax[0].hist(\\n    y_pred[y_test[\\\"train_label\\\"] == 0],\\n    alpha=0.5,\\n    bins=50,\\n    range=(0, 1),\\n    label=r\\\"Proton, pion\\\",\\n    density=False,\\n)\\nax[0].hist(\\n    y_pred[y_test[\\\"train_label\\\"] == 1],\\n    alpha=0.5,\\n    bins=50,\\n    range=(0, 1),\\n    label=\\\"Muon, cosmic, photon\\\",\\n    density=False,\\n)\\nax[0].legend(loc=\\\"upper left\\\")\\nax[0].set_xlim(0, 1)\\nax[0].set_xlabel(\\\"Other daughter score\\\")\\nax[0].set_ylabel(\\\"Entries per bin\\\")\\nax[0].set_title(\\\"XGBoost: Other daughters\\\")\\n\\n\\nax[1].plot(tpr, fpr, label=\\\"Test data (area = %0.3f)\\\" % roc_auc)\\nax[1].plot(tpr_train, fpr_train, label=\\\"Train data (area = %0.3f)\\\" % roc_auc_train)\\nax[1].plot([0, 1], [0, 1], linestyle=\\\"--\\\")\\nax[1].set_xlim([0.0, 1.0])\\nax[1].set_ylim([0.0, 1.0])\\nax[1].set_xlabel(\\\"False Positive Rate\\\")\\nax[1].set_ylabel(\\\"True Positive Rate\\\")\\nax[1].set_title(\\\"ROC curve\\\")\\nax[1].legend(loc=\\\"lower right\\\")\\n\\n\\n# retrieve performance metrics\\nresults = model_d.evals_result()\\nepochs = len(results[\\\"validation_0\\\"][\\\"error\\\"])\\nx_axis = range(0, epochs)\\n# plot log loss\\nax[2].plot(x_axis, results[\\\"validation_1\\\"][\\\"logloss\\\"], label=\\\"Test data\\\")\\nax[2].plot(x_axis, results[\\\"validation_0\\\"][\\\"logloss\\\"], label=\\\"Train data\\\")\\nax[2].legend()\\nax[2].set_ylabel(\\\"Binary logistic loss\\\")\\nax[2].set_xlabel(\\\"Training epoch\\\")\\nax[2].set_title(\\\"XGBoost logistic loss\\\")\\n\\n\\ntrain_scores_mean = np.mean(train_scores, axis=1)\\ntrain_scores_std = np.std(train_scores, axis=1)\\ntest_scores_mean = np.mean(test_scores, axis=1)\\ntest_scores_std = np.std(test_scores, axis=1)\\n\\nax[3].set_title(\\\"Validation Curve\\\")\\nax[3].set_xlabel(r\\\"Tree depth\\\")\\nax[3].set_ylabel(\\\"Accuracy\\\")\\nax[3].set_ylim(0.8, 0.9)\\nax[3].plot(param_range, test_scores_mean, label=\\\"Testing accuracy\\\")\\nax[3].fill_between(\\n    param_range,\\n    test_scores_mean - test_scores_std,\\n    test_scores_mean + test_scores_std,\\n    alpha=0.2,\\n)\\nax[3].plot(param_range, train_scores_mean, label=\\\"Training accuracy\\\")\\nax[3].fill_between(\\n    param_range,\\n    train_scores_mean - train_scores_std,\\n    train_scores_mean + train_scores_std,\\n    alpha=0.2,\\n)\\nax[3].axvline(x=depth, label=\\\"Training depth\\\", color=\\\"C2\\\", alpha=0.5)\\nax[3].legend(loc=\\\"upper left\\\")\\nax[3].set_xticks(param_range)\\n\\nfig.savefig(output_dir + \\\"daughter_bdt_test.pdf\\\")\";\n",
       "                var nbb_cells = Jupyter.notebook.get_cells();\n",
       "                for (var i = 0; i < nbb_cells.length; ++i) {\n",
       "                    if (nbb_cells[i].input_prompt_number == nbb_cell_id) {\n",
       "                        nbb_cells[i].set_text(nbb_formatted_code);\n",
       "                        break;\n",
       "                    }\n",
       "                }\n",
       "            }, 500);\n",
       "            "
      ],
      "text/plain": [
       "<IPython.core.display.Javascript object>"
      ]
     },
     "metadata": {},
     "output_type": "display_data"
    }
   ],
   "source": [
    "fig, ax = plt.subplots(ncols=4, figsize=(8 * 1.618, 3.5), constrained_layout=True)\n",
    "\n",
    "y_pred = model_d.predict_proba(X_test).T[0]\n",
    "y_pred_train = model_d.predict_proba(X_train).T[0]\n",
    "fpr, tpr, _ = roc_curve(y_test[\"train_label\"], y_pred)\n",
    "fpr_train, tpr_train, _ = roc_curve(y_train[\"train_label\"], y_pred_train)\n",
    "roc_auc = auc(tpr, fpr)\n",
    "roc_auc_train = auc(tpr_train, fpr_train)\n",
    "\n",
    "ax[0].hist(\n",
    "    y_pred[y_test[\"train_label\"] == 0],\n",
    "    alpha=0.5,\n",
    "    bins=50,\n",
    "    range=(0, 1),\n",
    "    label=r\"Proton, pion\",\n",
    "    density=False,\n",
    ")\n",
    "ax[0].hist(\n",
    "    y_pred[y_test[\"train_label\"] == 1],\n",
    "    alpha=0.5,\n",
    "    bins=50,\n",
    "    range=(0, 1),\n",
    "    label=\"Muon, cosmic, photon\",\n",
    "    density=False,\n",
    ")\n",
    "ax[0].legend(loc=\"upper left\")\n",
    "ax[0].set_xlim(0, 1)\n",
    "ax[0].set_xlabel(\"Other daughter score\")\n",
    "ax[0].set_ylabel(\"Entries per bin\")\n",
    "ax[0].set_title(\"XGBoost: Other daughters\")\n",
    "\n",
    "\n",
    "ax[1].plot(tpr, fpr, label=\"Test data (area = %0.3f)\" % roc_auc)\n",
    "ax[1].plot(tpr_train, fpr_train, label=\"Train data (area = %0.3f)\" % roc_auc_train)\n",
    "ax[1].plot([0, 1], [0, 1], linestyle=\"--\")\n",
    "ax[1].set_xlim([0.0, 1.0])\n",
    "ax[1].set_ylim([0.0, 1.0])\n",
    "ax[1].set_xlabel(\"False Positive Rate\")\n",
    "ax[1].set_ylabel(\"True Positive Rate\")\n",
    "ax[1].set_title(\"ROC curve\")\n",
    "ax[1].legend(loc=\"lower right\")\n",
    "\n",
    "\n",
    "# retrieve performance metrics\n",
    "results = model_d.evals_result()\n",
    "epochs = len(results[\"validation_0\"][\"error\"])\n",
    "x_axis = range(0, epochs)\n",
    "# plot log loss\n",
    "ax[2].plot(x_axis, results[\"validation_1\"][\"logloss\"], label=\"Test data\")\n",
    "ax[2].plot(x_axis, results[\"validation_0\"][\"logloss\"], label=\"Train data\")\n",
    "ax[2].legend()\n",
    "ax[2].set_ylabel(\"Binary logistic loss\")\n",
    "ax[2].set_xlabel(\"Training epoch\")\n",
    "ax[2].set_title(\"XGBoost logistic loss\")\n",
    "\n",
    "\n",
    "train_scores_mean = np.mean(train_scores, axis=1)\n",
    "train_scores_std = np.std(train_scores, axis=1)\n",
    "test_scores_mean = np.mean(test_scores, axis=1)\n",
    "test_scores_std = np.std(test_scores, axis=1)\n",
    "\n",
    "ax[3].set_title(\"Validation Curve\")\n",
    "ax[3].set_xlabel(r\"Tree depth\")\n",
    "ax[3].set_ylabel(\"Accuracy\")\n",
    "ax[3].set_ylim(0.8, 0.9)\n",
    "ax[3].plot(param_range, test_scores_mean, label=\"Testing accuracy\")\n",
    "ax[3].fill_between(\n",
    "    param_range,\n",
    "    test_scores_mean - test_scores_std,\n",
    "    test_scores_mean + test_scores_std,\n",
    "    alpha=0.2,\n",
    ")\n",
    "ax[3].plot(param_range, train_scores_mean, label=\"Training accuracy\")\n",
    "ax[3].fill_between(\n",
    "    param_range,\n",
    "    train_scores_mean - train_scores_std,\n",
    "    train_scores_mean + train_scores_std,\n",
    "    alpha=0.2,\n",
    ")\n",
    "ax[3].axvline(x=depth, label=\"Training depth\", color=\"C2\", alpha=0.5)\n",
    "ax[3].legend(loc=\"upper left\")\n",
    "ax[3].set_xticks(param_range)\n",
    "\n",
    "fig.savefig(output_dir + \"daughter_bdt_test.pdf\")"
   ]
  },
  {
   "cell_type": "markdown",
   "metadata": {},
   "source": [
    "#### Apply models on the samples!"
   ]
  },
  {
   "cell_type": "code",
   "execution_count": 36,
   "metadata": {},
   "outputs": [
    {
     "name": "stdout",
     "output_type": "stream",
     "text": [
      "CPU times: user 5 µs, sys: 0 ns, total: 5 µs\n",
      "Wall time: 10.7 µs\n"
     ]
    },
    {
     "data": {
      "application/javascript": [
       "\n",
       "            setTimeout(function() {\n",
       "                var nbb_cell_id = 36;\n",
       "                var nbb_formatted_code = \"%time\\n# add the columns for each daughter (all samples)\\nfor k, v in sample_info.items():\\n    v[\\\"daughters\\\"][\\\"score\\\"] = -1\\n    mask_e_cand = v[\\\"daughters\\\"].eval(\\\"preselect & e_candidate\\\")\\n    v[\\\"daughters\\\"].loc[mask_e_cand, \\\"score\\\"] = model_e.predict_proba(\\n        v[\\\"daughters\\\"][col_train_electron][mask_e_cand]\\n    ).T[1]\\n    mask_d = v[\\\"daughters\\\"].eval(\\\"preselect & ~e_candidate\\\")\\n    v[\\\"daughters\\\"].loc[mask_d, \\\"score\\\"] = model_d.predict_proba(\\n        v[\\\"daughters\\\"][col_train_other][mask_d]\\n    ).T[1]\";\n",
       "                var nbb_cells = Jupyter.notebook.get_cells();\n",
       "                for (var i = 0; i < nbb_cells.length; ++i) {\n",
       "                    if (nbb_cells[i].input_prompt_number == nbb_cell_id) {\n",
       "                        nbb_cells[i].set_text(nbb_formatted_code);\n",
       "                        break;\n",
       "                    }\n",
       "                }\n",
       "            }, 500);\n",
       "            "
      ],
      "text/plain": [
       "<IPython.core.display.Javascript object>"
      ]
     },
     "metadata": {},
     "output_type": "display_data"
    }
   ],
   "source": [
    "%time\n",
    "# add the columns for each daughter (all samples)\n",
    "for k, v in sample_info.items():\n",
    "    v[\"daughters\"][\"score\"] = -1\n",
    "    mask_e_cand = v[\"daughters\"].eval(\"preselect & e_candidate\")\n",
    "    v[\"daughters\"].loc[mask_e_cand, \"score\"] = model_e.predict_proba(\n",
    "        v[\"daughters\"][col_train_electron][mask_e_cand]\n",
    "    ).T[1]\n",
    "    mask_d = v[\"daughters\"].eval(\"preselect & ~e_candidate\")\n",
    "    v[\"daughters\"].loc[mask_d, \"score\"] = model_d.predict_proba(\n",
    "        v[\"daughters\"][col_train_other][mask_d]\n",
    "    ).T[1]"
   ]
  },
  {
   "cell_type": "markdown",
   "metadata": {},
   "source": [
    "#### Train on the events"
   ]
  },
  {
   "cell_type": "code",
   "execution_count": 37,
   "metadata": {},
   "outputs": [
    {
     "name": "stdout",
     "output_type": "stream",
     "text": [
      "nu\n",
      "nue\n",
      "on\n",
      "off\n",
      "dirt\n",
      "train\n",
      "CPU times: user 2.43 s, sys: 347 ms, total: 2.77 s\n",
      "Wall time: 2.77 s\n"
     ]
    },
    {
     "data": {
      "application/javascript": [
       "\n",
       "            setTimeout(function() {\n",
       "                var nbb_cell_id = 37;\n",
       "                var nbb_formatted_code = \"%%time\\n# First we need to add some columns:\\nfor k, v in sample_info.items():    \\n    print(k)\\n    grouper = 'event'\\n    if k=='train':\\n        grouper = ['event', 'sample']\\n    \\n    mask_e = v[\\\"daughters\\\"].eval(\\\"preselect & e_candidate & n_pfps>1\\\")\\n    v[\\\"daughters\\\"][\\\"score_other_max\\\"] = 1\\n    \\n    v[\\\"daughters\\\"].loc[mask_e, \\\"score_other_max\\\"] = (\\n        v[\\\"daughters\\\"]\\n        .query(\\\"~e_candidate & preselect\\\")[\\\"score\\\"]\\n        .groupby(grouper, sort=False)\\n        .max()\\n        .values\\n    )\\n    v[\\\"daughters\\\"][\\\"score_other_mean\\\"] = 1\\n    v[\\\"daughters\\\"].loc[mask_e, \\\"score_other_mean\\\"] = (\\n        v[\\\"daughters\\\"]\\n        .query(\\\"~e_candidate & preselect\\\")[\\\"score\\\"]\\n        .groupby(grouper, sort=False)\\n        .mean()\\n        .values\\n    )\\n    v[\\\"daughters\\\"][\\\"score_other_min\\\"] = 1\\n    v[\\\"daughters\\\"].loc[mask_e, \\\"score_other_min\\\"] = (\\n        v[\\\"daughters\\\"]\\n        .query(\\\"~e_candidate & preselect\\\")[\\\"score\\\"]\\n        .groupby(grouper, sort=False)\\n        .min()\\n        .values\\n    )\";\n",
       "                var nbb_cells = Jupyter.notebook.get_cells();\n",
       "                for (var i = 0; i < nbb_cells.length; ++i) {\n",
       "                    if (nbb_cells[i].input_prompt_number == nbb_cell_id) {\n",
       "                        nbb_cells[i].set_text(nbb_formatted_code);\n",
       "                        break;\n",
       "                    }\n",
       "                }\n",
       "            }, 500);\n",
       "            "
      ],
      "text/plain": [
       "<IPython.core.display.Javascript object>"
      ]
     },
     "metadata": {},
     "output_type": "display_data"
    }
   ],
   "source": [
    "%%time\n",
    "# First we need to add some columns:\n",
    "for k, v in sample_info.items():    \n",
    "    print(k)\n",
    "    grouper = 'event'\n",
    "    if k=='train':\n",
    "        grouper = ['event', 'sample']\n",
    "    \n",
    "    mask_e = v[\"daughters\"].eval(\"preselect & e_candidate & n_pfps>1\")\n",
    "    v[\"daughters\"][\"score_other_max\"] = 1\n",
    "    \n",
    "    v[\"daughters\"].loc[mask_e, \"score_other_max\"] = (\n",
    "        v[\"daughters\"]\n",
    "        .query(\"~e_candidate & preselect\")[\"score\"]\n",
    "        .groupby(grouper, sort=False)\n",
    "        .max()\n",
    "        .values\n",
    "    )\n",
    "    v[\"daughters\"][\"score_other_mean\"] = 1\n",
    "    v[\"daughters\"].loc[mask_e, \"score_other_mean\"] = (\n",
    "        v[\"daughters\"]\n",
    "        .query(\"~e_candidate & preselect\")[\"score\"]\n",
    "        .groupby(grouper, sort=False)\n",
    "        .mean()\n",
    "        .values\n",
    "    )\n",
    "    v[\"daughters\"][\"score_other_min\"] = 1\n",
    "    v[\"daughters\"].loc[mask_e, \"score_other_min\"] = (\n",
    "        v[\"daughters\"]\n",
    "        .query(\"~e_candidate & preselect\")[\"score\"]\n",
    "        .groupby(grouper, sort=False)\n",
    "        .min()\n",
    "        .values\n",
    "    )"
   ]
  },
  {
   "cell_type": "code",
   "execution_count": 38,
   "metadata": {},
   "outputs": [
    {
     "data": {
      "application/javascript": [
       "\n",
       "            setTimeout(function() {\n",
       "                var nbb_cell_id = 38;\n",
       "                var nbb_formatted_code = \"train_q = \\\"preselect & e_candidate\\\"\\n\\nX_train = []\\nX_test = []\\ny_train = []\\ny_test = []\\nfor k in [\\\"train\\\"]:\\n    X = sample_info[k][\\\"daughters\\\"].query(train_q)[col_train_event]\\n    Y = sample_info[k][\\\"daughters\\\"].query(train_q)[[\\\"nueccinc\\\", \\\"train_weight\\\"]]\\n    X_tr, X_te, y_tr, y_te = train_test_split(\\n        X, Y, test_size=test_size, random_state=seed\\n    )\\n    X_train.append(X_tr)\\n    X_test.append(X_te)\\n    y_train.append(y_tr)\\n    y_test.append(y_te)\\n\\n# Merge our two samples\\nX_train = pd.concat(X_train).reset_index(drop=True)\\ny_train = pd.concat(y_train).reset_index(drop=True)\\nX_test = pd.concat(X_test).reset_index(drop=True)\\ny_test = pd.concat(y_test).reset_index(drop=True)\";\n",
       "                var nbb_cells = Jupyter.notebook.get_cells();\n",
       "                for (var i = 0; i < nbb_cells.length; ++i) {\n",
       "                    if (nbb_cells[i].input_prompt_number == nbb_cell_id) {\n",
       "                        nbb_cells[i].set_text(nbb_formatted_code);\n",
       "                        break;\n",
       "                    }\n",
       "                }\n",
       "            }, 500);\n",
       "            "
      ],
      "text/plain": [
       "<IPython.core.display.Javascript object>"
      ]
     },
     "metadata": {},
     "output_type": "display_data"
    }
   ],
   "source": [
    "train_q = \"preselect & e_candidate\"\n",
    "\n",
    "X_train = []\n",
    "X_test = []\n",
    "y_train = []\n",
    "y_test = []\n",
    "for k in [\"train\"]:\n",
    "    X = sample_info[k][\"daughters\"].query(train_q)[col_train_event]\n",
    "    Y = sample_info[k][\"daughters\"].query(train_q)[[\"nueccinc\", \"train_weight\"]]\n",
    "    X_tr, X_te, y_tr, y_te = train_test_split(\n",
    "        X, Y, test_size=test_size, random_state=seed\n",
    "    )\n",
    "    X_train.append(X_tr)\n",
    "    X_test.append(X_te)\n",
    "    y_train.append(y_tr)\n",
    "    y_test.append(y_te)\n",
    "\n",
    "# Merge our two samples\n",
    "X_train = pd.concat(X_train).reset_index(drop=True)\n",
    "y_train = pd.concat(y_train).reset_index(drop=True)\n",
    "X_test = pd.concat(X_test).reset_index(drop=True)\n",
    "y_test = pd.concat(y_test).reset_index(drop=True)"
   ]
  },
  {
   "cell_type": "code",
   "execution_count": 39,
   "metadata": {
    "scrolled": false
   },
   "outputs": [
    {
     "name": "stdout",
     "output_type": "stream",
     "text": [
      "[0]\tvalidation_0-error:0.159348\tvalidation_0-logloss:0.639034\tvalidation_1-error:0.164732\tvalidation_1-logloss:0.63987\n"
     ]
    },
    {
     "name": "stderr",
     "output_type": "stream",
     "text": [
      "/home/wouter/Binaries/miniconda3/envs/uproot/lib/python3.7/site-packages/xgboost/core.py:587: FutureWarning: Series.base is deprecated and will be removed in a future version\n",
      "  if getattr(data, 'base', None) is not None and \\\n",
      "/home/wouter/Binaries/miniconda3/envs/uproot/lib/python3.7/site-packages/xgboost/core.py:588: FutureWarning: Series.base is deprecated and will be removed in a future version\n",
      "  data.base is not None and isinstance(data, np.ndarray) \\\n"
     ]
    },
    {
     "name": "stdout",
     "output_type": "stream",
     "text": [
      "[1]\tvalidation_0-error:0.152668\tvalidation_0-logloss:0.594656\tvalidation_1-error:0.158631\tvalidation_1-logloss:0.596307\n",
      "[2]\tvalidation_0-error:0.153826\tvalidation_0-logloss:0.557819\tvalidation_1-error:0.159591\tvalidation_1-logloss:0.560012\n",
      "[3]\tvalidation_0-error:0.152805\tvalidation_0-logloss:0.526881\tvalidation_1-error:0.157602\tvalidation_1-logloss:0.529856\n",
      "[4]\tvalidation_0-error:0.152706\tvalidation_0-logloss:0.500797\tvalidation_1-error:0.158471\tvalidation_1-logloss:0.504483\n",
      "[5]\tvalidation_0-error:0.151708\tvalidation_0-logloss:0.47817\tvalidation_1-error:0.157237\tvalidation_1-logloss:0.48245\n",
      "[6]\tvalidation_0-error:0.150809\tvalidation_0-logloss:0.45923\tvalidation_1-error:0.156574\tvalidation_1-logloss:0.464013\n",
      "[7]\tvalidation_0-error:0.150147\tvalidation_0-logloss:0.442865\tvalidation_1-error:0.156323\tvalidation_1-logloss:0.447904\n",
      "[8]\tvalidation_0-error:0.149065\tvalidation_0-logloss:0.428547\tvalidation_1-error:0.15502\tvalidation_1-logloss:0.434114\n",
      "[9]\tvalidation_0-error:0.149156\tvalidation_0-logloss:0.415938\tvalidation_1-error:0.15518\tvalidation_1-logloss:0.421966\n",
      "[10]\tvalidation_0-error:0.148684\tvalidation_0-logloss:0.405225\tvalidation_1-error:0.154518\tvalidation_1-logloss:0.411529\n",
      "[11]\tvalidation_0-error:0.148501\tvalidation_0-logloss:0.395904\tvalidation_1-error:0.154472\tvalidation_1-logloss:0.402579\n",
      "[12]\tvalidation_0-error:0.148585\tvalidation_0-logloss:0.387792\tvalidation_1-error:0.154723\tvalidation_1-logloss:0.394776\n",
      "[13]\tvalidation_0-error:0.148311\tvalidation_0-logloss:0.380669\tvalidation_1-error:0.154632\tvalidation_1-logloss:0.387924\n",
      "[14]\tvalidation_0-error:0.148242\tvalidation_0-logloss:0.374505\tvalidation_1-error:0.154906\tvalidation_1-logloss:0.382076\n",
      "[15]\tvalidation_0-error:0.1479\tvalidation_0-logloss:0.368962\tvalidation_1-error:0.154472\tvalidation_1-logloss:0.376881\n",
      "[16]\tvalidation_0-error:0.148212\tvalidation_0-logloss:0.364172\tvalidation_1-error:0.15502\tvalidation_1-logloss:0.372383\n",
      "[17]\tvalidation_0-error:0.14806\tvalidation_0-logloss:0.359946\tvalidation_1-error:0.154358\tvalidation_1-logloss:0.368354\n",
      "[18]\tvalidation_0-error:0.147839\tvalidation_0-logloss:0.356183\tvalidation_1-error:0.154335\tvalidation_1-logloss:0.364736\n",
      "[19]\tvalidation_0-error:0.147702\tvalidation_0-logloss:0.352763\tvalidation_1-error:0.154221\tvalidation_1-logloss:0.361535\n",
      "[20]\tvalidation_0-error:0.147717\tvalidation_0-logloss:0.349798\tvalidation_1-error:0.154426\tvalidation_1-logloss:0.358816\n",
      "[21]\tvalidation_0-error:0.147595\tvalidation_0-logloss:0.347135\tvalidation_1-error:0.154289\tvalidation_1-logloss:0.356363\n",
      "[22]\tvalidation_0-error:0.147374\tvalidation_0-logloss:0.344723\tvalidation_1-error:0.153855\tvalidation_1-logloss:0.354052\n",
      "[23]\tvalidation_0-error:0.147366\tvalidation_0-logloss:0.342594\tvalidation_1-error:0.153489\tvalidation_1-logloss:0.351998\n",
      "[24]\tvalidation_0-error:0.14681\tvalidation_0-logloss:0.340635\tvalidation_1-error:0.153558\tvalidation_1-logloss:0.350177\n",
      "[25]\tvalidation_0-error:0.146947\tvalidation_0-logloss:0.338966\tvalidation_1-error:0.153718\tvalidation_1-logloss:0.348619\n",
      "[26]\tvalidation_0-error:0.146978\tvalidation_0-logloss:0.337436\tvalidation_1-error:0.153695\tvalidation_1-logloss:0.347222\n",
      "[27]\tvalidation_0-error:0.146925\tvalidation_0-logloss:0.336175\tvalidation_1-error:0.153581\tvalidation_1-logloss:0.346005\n",
      "[28]\tvalidation_0-error:0.146727\tvalidation_0-logloss:0.334987\tvalidation_1-error:0.153329\tvalidation_1-logloss:0.344919\n",
      "[29]\tvalidation_0-error:0.147077\tvalidation_0-logloss:0.33407\tvalidation_1-error:0.153466\tvalidation_1-logloss:0.344083\n",
      "[30]\tvalidation_0-error:0.146749\tvalidation_0-logloss:0.332967\tvalidation_1-error:0.153055\tvalidation_1-logloss:0.343163\n",
      "[31]\tvalidation_0-error:0.146323\tvalidation_0-logloss:0.332058\tvalidation_1-error:0.152804\tvalidation_1-logloss:0.342339\n",
      "[32]\tvalidation_0-error:0.146033\tvalidation_0-logloss:0.331164\tvalidation_1-error:0.152347\tvalidation_1-logloss:0.341531\n",
      "[33]\tvalidation_0-error:0.146171\tvalidation_0-logloss:0.330455\tvalidation_1-error:0.152484\tvalidation_1-logloss:0.340948\n",
      "[34]\tvalidation_0-error:0.146003\tvalidation_0-logloss:0.32968\tvalidation_1-error:0.152141\tvalidation_1-logloss:0.340305\n",
      "[35]\tvalidation_0-error:0.145904\tvalidation_0-logloss:0.329017\tvalidation_1-error:0.151981\tvalidation_1-logloss:0.339764\n",
      "[36]\tvalidation_0-error:0.146056\tvalidation_0-logloss:0.32837\tvalidation_1-error:0.152141\tvalidation_1-logloss:0.339334\n",
      "[37]\tvalidation_0-error:0.146064\tvalidation_0-logloss:0.327947\tvalidation_1-error:0.152187\tvalidation_1-logloss:0.338967\n",
      "[38]\tvalidation_0-error:0.146201\tvalidation_0-logloss:0.327341\tvalidation_1-error:0.152187\tvalidation_1-logloss:0.338447\n",
      "[39]\tvalidation_0-error:0.146056\tvalidation_0-logloss:0.326884\tvalidation_1-error:0.152027\tvalidation_1-logloss:0.33809\n",
      "[40]\tvalidation_0-error:0.146026\tvalidation_0-logloss:0.326545\tvalidation_1-error:0.15205\tvalidation_1-logloss:0.337871\n",
      "[41]\tvalidation_0-error:0.145561\tvalidation_0-logloss:0.325976\tvalidation_1-error:0.151821\tvalidation_1-logloss:0.337449\n",
      "[42]\tvalidation_0-error:0.145104\tvalidation_0-logloss:0.325456\tvalidation_1-error:0.15157\tvalidation_1-logloss:0.33707\n",
      "[43]\tvalidation_0-error:0.144914\tvalidation_0-logloss:0.325175\tvalidation_1-error:0.15173\tvalidation_1-logloss:0.33683\n",
      "[44]\tvalidation_0-error:0.145036\tvalidation_0-logloss:0.324759\tvalidation_1-error:0.151341\tvalidation_1-logloss:0.336466\n",
      "[45]\tvalidation_0-error:0.145013\tvalidation_0-logloss:0.32446\tvalidation_1-error:0.151433\tvalidation_1-logloss:0.336204\n",
      "[46]\tvalidation_0-error:0.144586\tvalidation_0-logloss:0.324037\tvalidation_1-error:0.150907\tvalidation_1-logloss:0.335877\n",
      "[47]\tvalidation_0-error:0.144563\tvalidation_0-logloss:0.323689\tvalidation_1-error:0.151021\tvalidation_1-logloss:0.335625\n",
      "[48]\tvalidation_0-error:0.144472\tvalidation_0-logloss:0.32352\tvalidation_1-error:0.150976\tvalidation_1-logloss:0.335507\n",
      "[49]\tvalidation_0-error:0.143581\tvalidation_0-logloss:0.323232\tvalidation_1-error:0.150039\tvalidation_1-logloss:0.335372\n",
      "[50]\tvalidation_0-error:0.143489\tvalidation_0-logloss:0.322902\tvalidation_1-error:0.149856\tvalidation_1-logloss:0.335142\n",
      "[51]\tvalidation_0-error:0.143337\tvalidation_0-logloss:0.322477\tvalidation_1-error:0.149673\tvalidation_1-logloss:0.334797\n",
      "[52]\tvalidation_0-error:0.143322\tvalidation_0-logloss:0.322193\tvalidation_1-error:0.149536\tvalidation_1-logloss:0.334626\n",
      "[53]\tvalidation_0-error:0.143268\tvalidation_0-logloss:0.32191\tvalidation_1-error:0.149536\tvalidation_1-logloss:0.334436\n",
      "[54]\tvalidation_0-error:0.14323\tvalidation_0-logloss:0.321722\tvalidation_1-error:0.149559\tvalidation_1-logloss:0.334373\n",
      "[55]\tvalidation_0-error:0.143109\tvalidation_0-logloss:0.321332\tvalidation_1-error:0.149148\tvalidation_1-logloss:0.334108\n",
      "[56]\tvalidation_0-error:0.142994\tvalidation_0-logloss:0.321159\tvalidation_1-error:0.149102\tvalidation_1-logloss:0.333988\n",
      "[57]\tvalidation_0-error:0.142987\tvalidation_0-logloss:0.320874\tvalidation_1-error:0.149033\tvalidation_1-logloss:0.333802\n",
      "[58]\tvalidation_0-error:0.143002\tvalidation_0-logloss:0.320672\tvalidation_1-error:0.149056\tvalidation_1-logloss:0.333657\n",
      "[59]\tvalidation_0-error:0.142933\tvalidation_0-logloss:0.320567\tvalidation_1-error:0.148896\tvalidation_1-logloss:0.333597\n",
      "[60]\tvalidation_0-error:0.142751\tvalidation_0-logloss:0.32032\tvalidation_1-error:0.148691\tvalidation_1-logloss:0.333516\n",
      "[61]\tvalidation_0-error:0.142651\tvalidation_0-logloss:0.32011\tvalidation_1-error:0.148759\tvalidation_1-logloss:0.333423\n",
      "[62]\tvalidation_0-error:0.142606\tvalidation_0-logloss:0.320039\tvalidation_1-error:0.148645\tvalidation_1-logloss:0.333369\n",
      "[63]\tvalidation_0-error:0.142492\tvalidation_0-logloss:0.319697\tvalidation_1-error:0.148668\tvalidation_1-logloss:0.333076\n",
      "[64]\tvalidation_0-error:0.14237\tvalidation_0-logloss:0.319546\tvalidation_1-error:0.148371\tvalidation_1-logloss:0.333033\n",
      "[65]\tvalidation_0-error:0.142194\tvalidation_0-logloss:0.319395\tvalidation_1-error:0.148211\tvalidation_1-logloss:0.332926\n",
      "[66]\tvalidation_0-error:0.142111\tvalidation_0-logloss:0.319223\tvalidation_1-error:0.148165\tvalidation_1-logloss:0.33285\n",
      "[67]\tvalidation_0-error:0.142012\tvalidation_0-logloss:0.319051\tvalidation_1-error:0.148028\tvalidation_1-logloss:0.332794\n",
      "[68]\tvalidation_0-error:0.141852\tvalidation_0-logloss:0.318806\tvalidation_1-error:0.147959\tvalidation_1-logloss:0.332577\n",
      "[69]\tvalidation_0-error:0.141821\tvalidation_0-logloss:0.318694\tvalidation_1-error:0.148256\tvalidation_1-logloss:0.332502\n"
     ]
    },
    {
     "name": "stdout",
     "output_type": "stream",
     "text": [
      "[70]\tvalidation_0-error:0.141798\tvalidation_0-logloss:0.318575\tvalidation_1-error:0.148188\tvalidation_1-logloss:0.332452\n",
      "[71]\tvalidation_0-error:0.141684\tvalidation_0-logloss:0.31823\tvalidation_1-error:0.148028\tvalidation_1-logloss:0.332182\n",
      "[72]\tvalidation_0-error:0.141509\tvalidation_0-logloss:0.31807\tvalidation_1-error:0.147959\tvalidation_1-logloss:0.332107\n",
      "[73]\tvalidation_0-error:0.141517\tvalidation_0-logloss:0.317994\tvalidation_1-error:0.148119\tvalidation_1-logloss:0.332112\n",
      "[74]\tvalidation_0-error:0.141478\tvalidation_0-logloss:0.317799\tvalidation_1-error:0.148097\tvalidation_1-logloss:0.331943\n",
      "[75]\tvalidation_0-error:0.141456\tvalidation_0-logloss:0.31773\tvalidation_1-error:0.148097\tvalidation_1-logloss:0.33192\n",
      "[76]\tvalidation_0-error:0.141433\tvalidation_0-logloss:0.317536\tvalidation_1-error:0.148051\tvalidation_1-logloss:0.331849\n",
      "[77]\tvalidation_0-error:0.141159\tvalidation_0-logloss:0.31726\tvalidation_1-error:0.148051\tvalidation_1-logloss:0.331717\n",
      "[78]\tvalidation_0-error:0.14109\tvalidation_0-logloss:0.317116\tvalidation_1-error:0.147982\tvalidation_1-logloss:0.331704\n",
      "[79]\tvalidation_0-error:0.141113\tvalidation_0-logloss:0.317045\tvalidation_1-error:0.148005\tvalidation_1-logloss:0.33165\n",
      "[80]\tvalidation_0-error:0.141006\tvalidation_0-logloss:0.316926\tvalidation_1-error:0.147959\tvalidation_1-logloss:0.331624\n",
      "[81]\tvalidation_0-error:0.140953\tvalidation_0-logloss:0.316832\tvalidation_1-error:0.147868\tvalidation_1-logloss:0.331611\n",
      "[82]\tvalidation_0-error:0.140816\tvalidation_0-logloss:0.31665\tvalidation_1-error:0.147868\tvalidation_1-logloss:0.331492\n",
      "[83]\tvalidation_0-error:0.140755\tvalidation_0-logloss:0.316557\tvalidation_1-error:0.147982\tvalidation_1-logloss:0.331462\n",
      "[84]\tvalidation_0-error:0.14074\tvalidation_0-logloss:0.316493\tvalidation_1-error:0.148028\tvalidation_1-logloss:0.331416\n",
      "[85]\tvalidation_0-error:0.140747\tvalidation_0-logloss:0.316378\tvalidation_1-error:0.147754\tvalidation_1-logloss:0.331363\n",
      "[86]\tvalidation_0-error:0.140732\tvalidation_0-logloss:0.316299\tvalidation_1-error:0.147777\tvalidation_1-logloss:0.33133\n",
      "[87]\tvalidation_0-error:0.140755\tvalidation_0-logloss:0.3162\tvalidation_1-error:0.147731\tvalidation_1-logloss:0.331295\n",
      "[88]\tvalidation_0-error:0.140648\tvalidation_0-logloss:0.316052\tvalidation_1-error:0.147731\tvalidation_1-logloss:0.331277\n",
      "[89]\tvalidation_0-error:0.140519\tvalidation_0-logloss:0.315946\tvalidation_1-error:0.147571\tvalidation_1-logloss:0.331251\n",
      "[90]\tvalidation_0-error:0.140572\tvalidation_0-logloss:0.315754\tvalidation_1-error:0.147525\tvalidation_1-logloss:0.331163\n",
      "[91]\tvalidation_0-error:0.14045\tvalidation_0-logloss:0.315554\tvalidation_1-error:0.147411\tvalidation_1-logloss:0.331068\n",
      "[92]\tvalidation_0-error:0.140435\tvalidation_0-logloss:0.315468\tvalidation_1-error:0.14748\tvalidation_1-logloss:0.331055\n",
      "[93]\tvalidation_0-error:0.140374\tvalidation_0-logloss:0.315325\tvalidation_1-error:0.147274\tvalidation_1-logloss:0.330999\n",
      "[94]\tvalidation_0-error:0.140313\tvalidation_0-logloss:0.315229\tvalidation_1-error:0.147342\tvalidation_1-logloss:0.330996\n",
      "[95]\tvalidation_0-error:0.140229\tvalidation_0-logloss:0.315058\tvalidation_1-error:0.147137\tvalidation_1-logloss:0.330945\n",
      "[96]\tvalidation_0-error:0.140145\tvalidation_0-logloss:0.314955\tvalidation_1-error:0.147068\tvalidation_1-logloss:0.330863\n",
      "[97]\tvalidation_0-error:0.140046\tvalidation_0-logloss:0.314818\tvalidation_1-error:0.147\tvalidation_1-logloss:0.33082\n",
      "[98]\tvalidation_0-error:0.139963\tvalidation_0-logloss:0.314751\tvalidation_1-error:0.146954\tvalidation_1-logloss:0.330793\n",
      "[99]\tvalidation_0-error:0.140069\tvalidation_0-logloss:0.31466\tvalidation_1-error:0.146885\tvalidation_1-logloss:0.330776\n"
     ]
    },
    {
     "data": {
      "application/javascript": [
       "\n",
       "            setTimeout(function() {\n",
       "                var nbb_cell_id = 39;\n",
       "                var nbb_formatted_code = \"# fit model on training data\\\\\\nif retrain:\\n    depth = 5\\n    model_event = XGBClassifier(max_depth=depth, objective=\\\"binary:logistic\\\")\\n    eval_set = [(X_train, y_train[\\\"nueccinc\\\"]), (X_test, y_test[\\\"nueccinc\\\"])]\\n    model_event.fit(\\n        X_train,\\n        y_train[\\\"nueccinc\\\"],\\n        sample_weight=y_train[\\\"train_weight\\\"],\\n        eval_metric=[\\\"error\\\", \\\"logloss\\\"],\\n        eval_set=eval_set,\\n    )\\n    dump(model_event, model_dir + \\\"model_event.pckl\\\")\\nelse:\\n    model_event = load(model_dir + \\\"model_event.pckl\\\")\";\n",
       "                var nbb_cells = Jupyter.notebook.get_cells();\n",
       "                for (var i = 0; i < nbb_cells.length; ++i) {\n",
       "                    if (nbb_cells[i].input_prompt_number == nbb_cell_id) {\n",
       "                        nbb_cells[i].set_text(nbb_formatted_code);\n",
       "                        break;\n",
       "                    }\n",
       "                }\n",
       "            }, 500);\n",
       "            "
      ],
      "text/plain": [
       "<IPython.core.display.Javascript object>"
      ]
     },
     "metadata": {},
     "output_type": "display_data"
    }
   ],
   "source": [
    "# fit model on training data\\\n",
    "if retrain:\n",
    "    depth = 5\n",
    "    model_event = XGBClassifier(max_depth=depth, objective=\"binary:logistic\")\n",
    "    eval_set = [(X_train, y_train[\"nueccinc\"]), (X_test, y_test[\"nueccinc\"])]\n",
    "    model_event.fit(\n",
    "        X_train,\n",
    "        y_train[\"nueccinc\"],\n",
    "        sample_weight=y_train[\"train_weight\"],\n",
    "        eval_metric=[\"error\", \"logloss\"],\n",
    "        eval_set=eval_set,\n",
    "    )\n",
    "    dump(model_event, model_dir + \"model_event.pckl\")\n",
    "else:\n",
    "    model_event = load(model_dir + \"model_event.pckl\")"
   ]
  },
  {
   "cell_type": "code",
   "execution_count": 40,
   "metadata": {},
   "outputs": [
    {
     "name": "stdout",
     "output_type": "stream",
     "text": [
      "                   precision    recall  f1-score   support\n",
      "\n",
      "         nueccinc       0.90      0.87      0.89     29371\n",
      "background events       0.76      0.81      0.78     14391\n",
      "\n",
      "         accuracy                           0.85     43762\n",
      "        macro avg       0.83      0.84      0.84     43762\n",
      "     weighted avg       0.86      0.85      0.85     43762\n",
      "\n",
      "Test accuracy: 85.31%\n",
      "Train accuracy: 85.99%\n",
      "\n",
      "1. feature score (0.679704)\n",
      "2. feature score_other_min (0.157629)\n",
      "3. feature contained_fraction (0.040859)\n",
      "4. feature n_showers (0.035973)\n",
      "5. feature hits_ratio (0.033746)\n",
      "6. feature score_other_mean (0.032446)\n",
      "7. feature n_pfp_farvtx (0.019643)\n"
     ]
    },
    {
     "data": {
      "application/javascript": [
       "\n",
       "            setTimeout(function() {\n",
       "                var nbb_cell_id = 40;\n",
       "                var nbb_formatted_code = \"# make predictions for test data\\ny_pred = model_event.predict(X_test)\\ntarget_names = [\\\"nueccinc\\\", \\\"background events\\\"]\\nprint(classification_report(y_test[\\\"nueccinc\\\"], y_pred, target_names=target_names))\\npredictions = [round(value) for value in y_pred]\\n\\n# evaluate predictions\\naccuracy = accuracy_score(y_test[\\\"nueccinc\\\"], predictions)\\nprint(\\\"Test accuracy: %.2f%%\\\" % (accuracy * 100.0))\\n\\n\\n# make predictions for test data\\ny_pred_train = model_event.predict(X_train)\\npredictions = [round(value) for value in y_pred_train]\\n# evaluate predictions\\naccuracy = accuracy_score(y_train[\\\"nueccinc\\\"], predictions)\\nprint(\\\"Train accuracy: %.2f%%\\\\n\\\" % (accuracy * 100.0))\\n\\nimportances = model_event.feature_importances_\\nsort = np.argsort(-importances)\\n\\nfor i, (n, im) in enumerate(zip(np.array(col_train_event)[sort], importances[sort])):\\n    print(\\\"%d. feature %s (%f)\\\" % (i + 1, n, im))\";\n",
       "                var nbb_cells = Jupyter.notebook.get_cells();\n",
       "                for (var i = 0; i < nbb_cells.length; ++i) {\n",
       "                    if (nbb_cells[i].input_prompt_number == nbb_cell_id) {\n",
       "                        nbb_cells[i].set_text(nbb_formatted_code);\n",
       "                        break;\n",
       "                    }\n",
       "                }\n",
       "            }, 500);\n",
       "            "
      ],
      "text/plain": [
       "<IPython.core.display.Javascript object>"
      ]
     },
     "metadata": {},
     "output_type": "display_data"
    }
   ],
   "source": [
    "# make predictions for test data\n",
    "y_pred = model_event.predict(X_test)\n",
    "target_names = [\"nueccinc\", \"background events\"]\n",
    "print(classification_report(y_test[\"nueccinc\"], y_pred, target_names=target_names))\n",
    "predictions = [round(value) for value in y_pred]\n",
    "\n",
    "# evaluate predictions\n",
    "accuracy = accuracy_score(y_test[\"nueccinc\"], predictions)\n",
    "print(\"Test accuracy: %.2f%%\" % (accuracy * 100.0))\n",
    "\n",
    "\n",
    "# make predictions for test data\n",
    "y_pred_train = model_event.predict(X_train)\n",
    "predictions = [round(value) for value in y_pred_train]\n",
    "# evaluate predictions\n",
    "accuracy = accuracy_score(y_train[\"nueccinc\"], predictions)\n",
    "print(\"Train accuracy: %.2f%%\\n\" % (accuracy * 100.0))\n",
    "\n",
    "importances = model_event.feature_importances_\n",
    "sort = np.argsort(-importances)\n",
    "\n",
    "for i, (n, im) in enumerate(zip(np.array(col_train_event)[sort], importances[sort])):\n",
    "    print(\"%d. feature %s (%f)\" % (i + 1, n, im))"
   ]
  },
  {
   "cell_type": "code",
   "execution_count": 41,
   "metadata": {},
   "outputs": [
    {
     "name": "stderr",
     "output_type": "stream",
     "text": [
      "/home/wouter/Binaries/miniconda3/envs/uproot/lib/python3.7/site-packages/sklearn/model_selection/_split.py:1978: FutureWarning: The default value of cv will change from 3 to 5 in version 0.22. Specify it explicitly to silence this warning.\n",
      "  warnings.warn(CV_WARNING, FutureWarning)\n"
     ]
    },
    {
     "data": {
      "application/javascript": [
       "\n",
       "            setTimeout(function() {\n",
       "                var nbb_cell_id = 41;\n",
       "                var nbb_formatted_code = \"param_range = range(1, 8)\\ntrain_scores, test_scores = validation_curve(\\n    XGBClassifier(),\\n    X_train,\\n    y_train[\\\"nueccinc\\\"],\\n    param_name=\\\"max_depth\\\",\\n    param_range=param_range,\\n    scoring=\\\"accuracy\\\",\\n    n_jobs=2,\\n)\";\n",
       "                var nbb_cells = Jupyter.notebook.get_cells();\n",
       "                for (var i = 0; i < nbb_cells.length; ++i) {\n",
       "                    if (nbb_cells[i].input_prompt_number == nbb_cell_id) {\n",
       "                        nbb_cells[i].set_text(nbb_formatted_code);\n",
       "                        break;\n",
       "                    }\n",
       "                }\n",
       "            }, 500);\n",
       "            "
      ],
      "text/plain": [
       "<IPython.core.display.Javascript object>"
      ]
     },
     "metadata": {},
     "output_type": "display_data"
    }
   ],
   "source": [
    "param_range = range(1, 8)\n",
    "train_scores, test_scores = validation_curve(\n",
    "    XGBClassifier(),\n",
    "    X_train,\n",
    "    y_train[\"nueccinc\"],\n",
    "    param_name=\"max_depth\",\n",
    "    param_range=param_range,\n",
    "    scoring=\"accuracy\",\n",
    "    n_jobs=2,\n",
    ")"
   ]
  },
  {
   "cell_type": "code",
   "execution_count": 44,
   "metadata": {},
   "outputs": [
    {
     "data": {
      "image/png": "[encoded data removed]",
      "text/plain": [
       "<Figure size 931.968x252 with 4 Axes>"
      ]
     },
     "metadata": {
      "needs_background": "light"
     },
     "output_type": "display_data"
    },
    {
     "data": {
      "application/javascript": [
       "\n",
       "            setTimeout(function() {\n",
       "                var nbb_cell_id = 44;\n",
       "                var nbb_formatted_code = \"fig, ax = plt.subplots(ncols=4, figsize=(8 * 1.618, 3.5), constrained_layout=True)\\n\\ny_pred = model_event.predict_proba(X_test).T[0]\\ny_pred_train = model_event.predict_proba(X_train).T[0]\\nfpr, tpr, _ = roc_curve(y_test[\\\"nueccinc\\\"], y_pred)\\nfpr_train, tpr_train, _ = roc_curve(y_train[\\\"nueccinc\\\"], y_pred_train)\\nroc_auc = auc(tpr, fpr)\\nroc_auc_train = auc(tpr_train, fpr_train)\\n\\nax[0].hist(\\n    y_pred[y_test[\\\"nueccinc\\\"] == 0],\\n    alpha=0.5,\\n    bins=50,\\n    range=(0, 1),\\n    label=r\\\"$\\\\nu_e$ CC Inclusive\\\",\\n    density=False,\\n)\\nax[0].hist(\\n    y_pred[y_test[\\\"nueccinc\\\"] == 1],\\n    alpha=0.5,\\n    bins=50,\\n    range=(0, 1),\\n    label=\\\"Background events\\\",\\n    density=False,\\n)\\nax[0].legend(loc=\\\"upper left\\\")\\nax[0].set_xlim(0, 1)\\nax[0].set_xlabel(\\\"Event identification\\\")\\nax[0].set_ylabel(\\\"Entries per bin\\\")\\nax[0].set_title(\\\"XGBoost: Event classification\\\")\\n\\n\\nax[1].plot(tpr, fpr, label=\\\"Test data (area = %0.3f)\\\" % roc_auc)\\nax[1].plot(tpr_train, fpr_train, label=\\\"Train data (area = %0.3f)\\\" % roc_auc_train)\\nax[1].plot([0, 1], [0, 1], linestyle=\\\"--\\\")\\nax[1].set_xlim([0.0, 1.0])\\nax[1].set_ylim([0.0, 1.0])\\nax[1].set_xlabel(\\\"False Positive Rate\\\")\\nax[1].set_ylabel(\\\"True Positive Rate\\\")\\nax[1].set_title(\\\"ROC curve\\\")\\nax[1].legend(loc=\\\"lower right\\\")\\n\\n\\n# retrieve performance metrics\\nresults = model_event.evals_result()\\nepochs = len(results[\\\"validation_0\\\"][\\\"error\\\"])\\nx_axis = range(0, epochs)\\n# plot log loss\\nax[2].plot(x_axis, results[\\\"validation_1\\\"][\\\"logloss\\\"], label=\\\"Test data\\\")\\nax[2].plot(x_axis, results[\\\"validation_0\\\"][\\\"logloss\\\"], label=\\\"Train data\\\")\\nax[2].legend()\\nax[2].set_ylabel(\\\"Binary logistic loss\\\")\\nax[2].set_xlabel(\\\"Training epoch\\\")\\nax[2].set_title(\\\"XGBoost logistic loss\\\")\\n\\n\\ntrain_scores_mean = np.mean(train_scores, axis=1)\\ntrain_scores_std = np.std(train_scores, axis=1)\\ntest_scores_mean = np.mean(test_scores, axis=1)\\ntest_scores_std = np.std(test_scores, axis=1)\\n\\nax[3].set_title(\\\"Validation Curve\\\")\\nax[3].set_xlabel(r\\\"Tree depth\\\")\\nax[3].set_ylabel(\\\"Accuracy\\\")\\nax[3].set_ylim(0.85, 0.9)\\nax[3].plot(param_range, test_scores_mean, label=\\\"Testing accuracy\\\")\\nax[3].fill_between(\\n    param_range,\\n    test_scores_mean - test_scores_std,\\n    test_scores_mean + test_scores_std,\\n    alpha=0.2,\\n)\\nax[3].plot(param_range, train_scores_mean, label=\\\"Training accuracy\\\")\\nax[3].fill_between(\\n    param_range,\\n    train_scores_mean - train_scores_std,\\n    train_scores_mean + train_scores_std,\\n    alpha=0.2,\\n)\\nax[3].axvline(x=depth, label=\\\"Training depth\\\", color=\\\"C2\\\", alpha=0.5)\\nax[3].legend(loc=\\\"upper left\\\")\\nax[3].set_xticks(param_range)\\n\\nfig.savefig(output_dir + \\\"event_bdt_test.pdf\\\")\";\n",
       "                var nbb_cells = Jupyter.notebook.get_cells();\n",
       "                for (var i = 0; i < nbb_cells.length; ++i) {\n",
       "                    if (nbb_cells[i].input_prompt_number == nbb_cell_id) {\n",
       "                        nbb_cells[i].set_text(nbb_formatted_code);\n",
       "                        break;\n",
       "                    }\n",
       "                }\n",
       "            }, 500);\n",
       "            "
      ],
      "text/plain": [
       "<IPython.core.display.Javascript object>"
      ]
     },
     "metadata": {},
     "output_type": "display_data"
    }
   ],
   "source": [
    "fig, ax = plt.subplots(ncols=4, figsize=(8 * 1.618, 3.5), constrained_layout=True)\n",
    "\n",
    "y_pred = model_event.predict_proba(X_test).T[0]\n",
    "y_pred_train = model_event.predict_proba(X_train).T[0]\n",
    "fpr, tpr, _ = roc_curve(y_test[\"nueccinc\"], y_pred)\n",
    "fpr_train, tpr_train, _ = roc_curve(y_train[\"nueccinc\"], y_pred_train)\n",
    "roc_auc = auc(tpr, fpr)\n",
    "roc_auc_train = auc(tpr_train, fpr_train)\n",
    "\n",
    "ax[0].hist(\n",
    "    y_pred[y_test[\"nueccinc\"] == 0],\n",
    "    alpha=0.5,\n",
    "    bins=50,\n",
    "    range=(0, 1),\n",
    "    label=r\"$\\nu_e$ CC Inclusive\",\n",
    "    density=False,\n",
    ")\n",
    "ax[0].hist(\n",
    "    y_pred[y_test[\"nueccinc\"] == 1],\n",
    "    alpha=0.5,\n",
    "    bins=50,\n",
    "    range=(0, 1),\n",
    "    label=\"Background events\",\n",
    "    density=False,\n",
    ")\n",
    "ax[0].legend(loc=\"upper left\")\n",
    "ax[0].set_xlim(0, 1)\n",
    "ax[0].set_xlabel(\"Event identification\")\n",
    "ax[0].set_ylabel(\"Entries per bin\")\n",
    "ax[0].set_title(\"XGBoost: Event classification\")\n",
    "\n",
    "\n",
    "ax[1].plot(tpr, fpr, label=\"Test data (area = %0.3f)\" % roc_auc)\n",
    "ax[1].plot(tpr_train, fpr_train, label=\"Train data (area = %0.3f)\" % roc_auc_train)\n",
    "ax[1].plot([0, 1], [0, 1], linestyle=\"--\")\n",
    "ax[1].set_xlim([0.0, 1.0])\n",
    "ax[1].set_ylim([0.0, 1.0])\n",
    "ax[1].set_xlabel(\"False Positive Rate\")\n",
    "ax[1].set_ylabel(\"True Positive Rate\")\n",
    "ax[1].set_title(\"ROC curve\")\n",
    "ax[1].legend(loc=\"lower right\")\n",
    "\n",
    "\n",
    "# retrieve performance metrics\n",
    "results = model_event.evals_result()\n",
    "epochs = len(results[\"validation_0\"][\"error\"])\n",
    "x_axis = range(0, epochs)\n",
    "# plot log loss\n",
    "ax[2].plot(x_axis, results[\"validation_1\"][\"logloss\"], label=\"Test data\")\n",
    "ax[2].plot(x_axis, results[\"validation_0\"][\"logloss\"], label=\"Train data\")\n",
    "ax[2].legend()\n",
    "ax[2].set_ylabel(\"Binary logistic loss\")\n",
    "ax[2].set_xlabel(\"Training epoch\")\n",
    "ax[2].set_title(\"XGBoost logistic loss\")\n",
    "\n",
    "\n",
    "train_scores_mean = np.mean(train_scores, axis=1)\n",
    "train_scores_std = np.std(train_scores, axis=1)\n",
    "test_scores_mean = np.mean(test_scores, axis=1)\n",
    "test_scores_std = np.std(test_scores, axis=1)\n",
    "\n",
    "ax[3].set_title(\"Validation Curve\")\n",
    "ax[3].set_xlabel(r\"Tree depth\")\n",
    "ax[3].set_ylabel(\"Accuracy\")\n",
    "ax[3].set_ylim(0.85, 0.9)\n",
    "ax[3].plot(param_range, test_scores_mean, label=\"Testing accuracy\")\n",
    "ax[3].fill_between(\n",
    "    param_range,\n",
    "    test_scores_mean - test_scores_std,\n",
    "    test_scores_mean + test_scores_std,\n",
    "    alpha=0.2,\n",
    ")\n",
    "ax[3].plot(param_range, train_scores_mean, label=\"Training accuracy\")\n",
    "ax[3].fill_between(\n",
    "    param_range,\n",
    "    train_scores_mean - train_scores_std,\n",
    "    train_scores_mean + train_scores_std,\n",
    "    alpha=0.2,\n",
    ")\n",
    "ax[3].axvline(x=depth, label=\"Training depth\", color=\"C2\", alpha=0.5)\n",
    "ax[3].legend(loc=\"upper left\")\n",
    "ax[3].set_xticks(param_range)\n",
    "\n",
    "fig.savefig(output_dir + \"event_bdt_test.pdf\")"
   ]
  },
  {
   "cell_type": "code",
   "execution_count": null,
   "metadata": {},
   "outputs": [],
   "source": [
    "%time\n",
    "# add the columns for each daughter (all samples)\n",
    "for k, v in sample_info.items():\n",
    "    print(k)\n",
    "    v[\"daughters\"][\"score_event\"] = -1\n",
    "    mask_e_cand = v[\"daughters\"].eval(\"preselect & e_candidate\")\n",
    "    v[\"daughters\"].loc[mask_e_cand, \"score_event\"] = model_event.predict_proba(\n",
    "        v[\"daughters\"][col_train_event][mask_e_cand]\n",
    "    ).T[1]"
   ]
  },
  {
   "cell_type": "code",
   "execution_count": null,
   "metadata": {},
   "outputs": [],
   "source": [
    "# Get rid of this one annoying duplicated event\n",
    "if run == 3:\n",
    "    sample_info[\"on\"][\"daughters\"].drop([14558, 15192], level=\"event\", inplace=True)"
   ]
  },
  {
   "cell_type": "code",
   "execution_count": null,
   "metadata": {},
   "outputs": [],
   "source": [
    "cut_val = 0.915\n",
    "query_select = \"e_candidate & preselect & score_event>@cut_val\"\n",
    "# Passing rate selection\n",
    "for k, v in sample_info.items():\n",
    "    grouper = \"event\"\n",
    "    if k == \"train\":\n",
    "        grouper = [\"event\", \"sample\"]\n",
    "    v[\"daughters\"][\"select\"] = v[\"daughters\"].eval(query_select)\n",
    "    v[\"daughters\"][\"select\"] = (\n",
    "        v[\"daughters\"][\"select\"].groupby(grouper, sort=False).transform(max)\n",
    "    )\n",
    "\n",
    "    pass_rate = sum(v[\"daughters\"].eval(\"(e_candidate & select)\")) / v[\"numentries\"]\n",
    "    print(k, \"\\t{:.4f}%\".format(pass_rate * 100))\n",
    "\n",
    "# Passing rate signal, weights applied!\n",
    "pass_rate = sum(\n",
    "    sample_info[\"nue\"][\"daughters\"].eval(\"(e_candidate & select)*weightSpline*nueccinc\")\n",
    ") / sum(sample_info[\"nue\"][\"mc\"][\"weightSpline\"] * sample_info[\"nue\"][\"mc\"][\"nueccinc\"])\n",
    "print(\"nue signal passing the selection \\t{:.2f}%\".format(pass_rate * 100))\n",
    "nue_pass = (\n",
    "    sum(\n",
    "        sample_info[\"nue\"][\"daughters\"].eval(\n",
    "            \"(e_candidate & select)*weightSpline*nueccinc\"\n",
    "        )\n",
    "    )\n",
    "    * sample_info[\"nue\"][\"scaling\"]\n",
    "    * pot_scale\n",
    ")\n",
    "print(\n",
    "    \"nue Intrinsic signal passing: {0:0.3f} per {1:0.2g} POT\".format(\n",
    "        nue_pass, pot_target\n",
    "    )\n",
    ")\n",
    "lee_pass = (\n",
    "    sum(\n",
    "        sample_info[\"nue\"][\"daughters\"].eval(\n",
    "            \"(e_candidate & select)*leeweight*nueccinc\"\n",
    "        )\n",
    "    )\n",
    "    * sample_info[\"nue\"][\"scaling\"]\n",
    "    * pot_scale\n",
    ")\n",
    "print(\"nue LEE signal passing: {0:0.3f} per {1:0.2g} POT\".format(lee_pass, pot_target))\n",
    "\n",
    "## Calculate the purity:\n",
    "purity_denom = (\n",
    "    sum(sample_info[\"nu\"][\"daughters\"].eval(\"(e_candidate & select)*weightSpline\"))\n",
    "    * sample_info[\"nu\"][\"scaling\"]\n",
    ")\n",
    "purity_denom += (\n",
    "    sum(sample_info[\"dirt\"][\"daughters\"].eval(\"(e_candidate & select)*weightSpline\"))\n",
    "    * sample_info[\"dirt\"][\"scaling\"]\n",
    ")\n",
    "purity_denom += (\n",
    "    sum(sample_info[\"off\"][\"daughters\"].eval(\"(e_candidate & select)\"))\n",
    "    * sample_info[\"off\"][\"scaling\"]\n",
    ")\n",
    "\n",
    "purity_mc = (\n",
    "    sum(\n",
    "        sample_info[\"nue\"][\"daughters\"].eval(\n",
    "            \"(e_candidate & select)*weightSpline*nueccinc\"\n",
    "        )\n",
    "    )\n",
    "    * sample_info[\"nue\"][\"scaling\"]\n",
    "    / purity_denom\n",
    ")\n",
    "purity_data = (\n",
    "    sum(\n",
    "        sample_info[\"nue\"][\"daughters\"].eval(\n",
    "            \"(e_candidate & select)*weightSpline*nueccinc\"\n",
    "        )\n",
    "    )\n",
    "    * sample_info[\"nue\"][\"scaling\"]\n",
    "    / sum(sample_info[\"on\"][\"daughters\"].eval(\"(e_candidate & select)\"))\n",
    ")\n",
    "print(\n",
    "    \"Purity MC: {:.1f}%\\nData/MC-ratio: {:.2f}\\n\".format(\n",
    "        purity_mc * 100,\n",
    "        sum(sample_info[\"on\"][\"daughters\"].eval(\"(e_candidate & select)\"))\n",
    "        / purity_denom,\n",
    "    )\n",
    ")"
   ]
  },
  {
   "cell_type": "code",
   "execution_count": null,
   "metadata": {
    "scrolled": true
   },
   "outputs": [],
   "source": [
    "np.savetxt(\n",
    "    output_dir + \"events_run{}.txt\".format(run),\n",
    "    sample_info[\"on\"][\"daughters\"].query(\"(e_candidate & select)\")[\n",
    "        [\"run\", \"sub\", \"evt\"]\n",
    "    ],\n",
    "    fmt=\"%u\",\n",
    ")\n",
    "sample_info[\"on\"][\"daughters\"].query(\"(e_candidate & select)\")"
   ]
  },
  {
   "cell_type": "code",
   "execution_count": null,
   "metadata": {},
   "outputs": [],
   "source": [
    "sample_info[\"on\"][\"daughters\"].query(\"(e_candidate & preselect)\")[\"score_event\"].hist(\n",
    "    range=(0.8, 1), bins=24\n",
    ")\n",
    "plt.axvline(x=cut_val, c=\"r\")"
   ]
  },
  {
   "cell_type": "code",
   "execution_count": null,
   "metadata": {},
   "outputs": [],
   "source": [
    "cols_to_pickle = [\n",
    "    \"run\",\n",
    "    \"sub\",\n",
    "    \"evt\",\n",
    "    \"topological_score\",\n",
    "    \"n_pfps\",\n",
    "    \"n_showers\",\n",
    "    \"n_tracks\",\n",
    "    \"reco_nu_vtx_x\",\n",
    "    \"reco_nu_vtx_y\",\n",
    "    \"reco_nu_vtx_z\",\n",
    "    \"reco_nu_vtx_sce_x\",\n",
    "    \"reco_nu_vtx_sce_y\",\n",
    "    \"reco_nu_vtx_sce_z\",\n",
    "    \"crtveto\",\n",
    "    \"crthitpe\",\n",
    "    \"slclustfrac\",\n",
    "    \"hits_ratio\",\n",
    "    \"CosmicIP\",\n",
    "    \"contained_sps_ratio\",\n",
    "    \"contained_fraction\",\n",
    "    \"slpdg\",\n",
    "    \"SliceCaloEnergy2\",\n",
    "    \"NeutrinoEnergy2\",\n",
    "    \"trk_score_v\",\n",
    "    \"trk_distance_v\",\n",
    "    \"trk_theta_v\",\n",
    "    \"trk_phi_v\",\n",
    "    \"trk_len_v\",\n",
    "    \"trk_llr_pid_score_v\",\n",
    "    \"trk_mcs_muon_mom_v\",\n",
    "    \"trk_calo_energy_y_v\",\n",
    "    \"trk_sce_end_x_v\",\n",
    "    \"trk_sce_end_y_v\",\n",
    "    \"trk_sce_end_z_v\",\n",
    "    \"trk_sce_start_x_v\",\n",
    "    \"trk_sce_start_y_v\",\n",
    "    \"trk_sce_start_z_v\",\n",
    "    \"trk_start_x_v\",\n",
    "    \"trk_start_y_v\",\n",
    "    \"trk_start_z_v\",\n",
    "    \"shr_energy_y_v\",\n",
    "    \"shr_energy_u_v\",\n",
    "    \"shr_energy_v_v\",\n",
    "    \"shr_phi_v\",\n",
    "    \"shr_theta_v\",\n",
    "    \"shr_tkfit_start_x_v\",\n",
    "    \"shr_tkfit_start_y_v\",\n",
    "    \"shr_tkfit_start_z_v\",\n",
    "    \"shr_start_x_v\",\n",
    "    \"shr_start_y_v\",\n",
    "    \"shr_start_z_v\",\n",
    "    \"shr_tkfit_theta_v\",\n",
    "    \"shr_tkfit_phi_v\",\n",
    "    \"shr_tkfit_dedx_u_v\",\n",
    "    \"shr_tkfit_dedx_v_v\",\n",
    "    \"shr_tkfit_dedx_y_v\",\n",
    "    \"shr_tkfit_gap10_dedx_y_v\",\n",
    "    \"shr_tkfit_nhits_v\",\n",
    "    \"shr_tkfit_dedx_nhits_y_v\",\n",
    "    \"shr_moliere_avg_v\",\n",
    "    \"shr_moliere_rms_v\",\n",
    "    \"pfnplanehits_Y\",\n",
    "    \"pfpplanesubclusters_Y\",\n",
    "    \"pfpplanesubhitfracmax_Y\",\n",
    "    \"pfnhits\",\n",
    "    \"pfp_generation_v\",\n",
    "    \"pfp_trk_daughters_v\",\n",
    "    \"pfp_shr_daughters_v\",\n",
    "    \"true_nu_vtx_x\",\n",
    "    \"true_nu_vtx_y\",\n",
    "    \"true_nu_vtx_z\",\n",
    "    \"true_nu_vtx_sce_x\",\n",
    "    \"true_nu_vtx_sce_y\",\n",
    "    \"true_nu_vtx_sce_z\",\n",
    "    \"nu_e\",\n",
    "    \"lep_e\",\n",
    "    \"nu_pdg\",\n",
    "    \"nelec\",\n",
    "    \"npion\",\n",
    "    \"npi0\",\n",
    "    \"nproton\",\n",
    "    \"nmuon\",\n",
    "    \"theta\",\n",
    "    \"ccnc\",\n",
    "    \"interaction\",\n",
    "    \"weightSpline\",\n",
    "    \"weightSplineTimesTune\",\n",
    "    \"leeweight\",\n",
    "    \"nu_completeness_from_pfp\",\n",
    "    \"nu_purity_from_pfp\",\n",
    "    \"backtracked_pdg\",\n",
    "    \"backtracked_e\",\n",
    "    \"backtracked_completeness\",\n",
    "    \"backtracked_purity\",\n",
    "    \"backtracked_overlay_purity\",\n",
    "    \"backtracked_px\",\n",
    "    \"backtracked_py\",\n",
    "    \"backtracked_pz\",\n",
    "    \"backtracked_sce_start_x\",\n",
    "    \"backtracked_sce_start_y\",\n",
    "    \"backtracked_sce_start_z\",\n",
    "    \"trk_min_cos\",\n",
    "    \"nueccinc\",\n",
    "    \"true_category\",\n",
    "    \"reco_fid_vol\",\n",
    "    \"all_start_contained\",\n",
    "    \"all_end_contained\",\n",
    "    \"n_pfpvtx\",\n",
    "    \"n_pfp_farvtx\",\n",
    "    \"shr_dist_v\",\n",
    "    \"e_candidate\",\n",
    "    \"shr_tkfit_dedx_wm_v\",\n",
    "    \"hits_per_tklen_v\",\n",
    "    \"shr_subclusters_v\",\n",
    "    \"shr_tkfit_hitratio_v\",\n",
    "    \"mu_candidate\",\n",
    "    \"mu_candidate_event\",\n",
    "    \"true_vtx_distance\",\n",
    "    \"true_vtx_distance_check\",\n",
    "    \"true_shower_distance\",\n",
    "    \"_closestNuCosmicDist\",\n",
    "    \"preselect\",\n",
    "    \"score\",\n",
    "    \"score_other_max\",\n",
    "    \"score_other_mean\",\n",
    "    \"score_other_min\",\n",
    "    \"score_event\",\n",
    "    \"select\",\n",
    "    \"ismerged\",\n",
    "    \"merge_bestdist\",\n",
    "    \"secondshower_Y_nhit\",\n",
    "    \"secondshower_Y_vtxdist\",\n",
    "]"
   ]
  },
  {
   "cell_type": "code",
   "execution_count": null,
   "metadata": {},
   "outputs": [],
   "source": [
    "print([x for x in cols_to_pickle if cols_to_pickle.count(x) > 1])"
   ]
  },
  {
   "cell_type": "code",
   "execution_count": null,
   "metadata": {
    "scrolled": false
   },
   "outputs": [],
   "source": [
    "write_output_to_pickle = False\n",
    "if write_output_to_pickle:\n",
    "    for sample in list(sample_info.keys()):\n",
    "        if sample in plot_samples:\n",
    "            print(sample)\n",
    "            columns_to_drop = set(sample_info[sample][\"daughters\"].keys()) - set(\n",
    "                cols_to_pickle\n",
    "            )\n",
    "            sample_info[sample][\"daughters\"].drop(columns_to_drop, inplace=True, axis=1)\n",
    "        else:\n",
    "            del sample_info[sample]\n",
    "    pickle_out = open(input_dir + \"after_training_run{}.pckl\".format(run), \"wb\")\n",
    "    pickle.dump(sample_info, pickle_out)\n",
    "    pickle_out.close()"
   ]
  },
  {
   "cell_type": "markdown",
   "metadata": {},
   "source": [
    "### Plots"
   ]
  },
  {
   "cell_type": "code",
   "execution_count": null,
   "metadata": {
    "scrolled": false
   },
   "outputs": [],
   "source": [
    "fig, ax = plt.subplots(ncols=2, figsize=(8, 4))\n",
    "\n",
    "ax[0].hist(\n",
    "    sample_info[\"nue\"][\"daughters\"]\n",
    "    .query(\"nueccinc\")[\"true_vtx_distance\"]\n",
    "    .xs(0, level=\"daughter\"),\n",
    "    bins=50,\n",
    "    range=(0, 5),\n",
    "    label=\"|true_nu_vtx - reco_nu_vtx_sce|\",\n",
    "    alpha=0.7,\n",
    ")\n",
    "ax[0].hist(\n",
    "    sample_info[\"nue\"][\"daughters\"]\n",
    "    .query(\"nueccinc\")[\"true_vtx_distance_check\"]\n",
    "    .xs(0, level=\"daughter\"),\n",
    "    bins=50,\n",
    "    range=(0, 5),\n",
    "    label=\"|true_nu_vtx_sce - reco_nu_vtx|\",\n",
    "    alpha=0.7,\n",
    ")\n",
    "ax[0].set_xlabel(\"Neutrino vertex distance [cm]\")\n",
    "ax[0].set_title(r\"$\\nu_e$ CC Inclusive\", loc=\"left\")\n",
    "ax[0].set_title(\"Run3 Overlay\", loc=\"right\")\n",
    "ax[0].legend()\n",
    "\n",
    "ax[1].hist(\n",
    "    sample_info[\"nue\"][\"daughters\"]\n",
    "    .query(\"nueccinc\")\n",
    "    .xs(0, level=\"daughter\")\n",
    "    .eval(\"true_nu_vtx_x+@x_sce_magic-reco_nu_vtx_sce_x\"),\n",
    "    bins=51,\n",
    "    range=(-2, 2),\n",
    "    label=\"|true_nu_vtx - reco_nu_vtx_sce|\",\n",
    "    alpha=0.7,\n",
    ")\n",
    "ax[1].hist(\n",
    "    sample_info[\"nue\"][\"daughters\"]\n",
    "    .query(\"nueccinc\")\n",
    "    .xs(0, level=\"daughter\")\n",
    "    .eval(\"true_nu_vtx_sce_x-reco_nu_vtx_x\"),\n",
    "    bins=51,\n",
    "    range=(-2, 2),\n",
    "    label=\"|true_nu_vtx_sce - reco_nu_vtx|\",\n",
    "    alpha=0.7,\n",
    ")\n",
    "ax[1].set_xlabel(\"Neutrino vertex distance x-coordinate [cm]\")\n",
    "ax[1].set_title(r\"$\\nu_e$ CC Inclusive\", loc=\"left\")\n",
    "ax[1].set_title(\"Run3 Overlay\", loc=\"right\")\n",
    "ax[1].set_ylim(0, ax[1].get_ylim()[1] * 1.25)\n",
    "ax[1].legend()\n",
    "\n",
    "fig.tight_layout()\n",
    "fig.savefig(output_dir + \"vtx_distance.pdf\")"
   ]
  }
 ],
 "metadata": {
  "kernelspec": {
   "display_name": "uproot env",
   "language": "python",
   "name": "uproot"
  },
  "language_info": {
   "codemirror_mode": {
    "name": "ipython",
    "version": 3
   },
   "file_extension": ".py",
   "mimetype": "text/x-python",
   "name": "python",
   "nbconvert_exporter": "python",
   "pygments_lexer": "ipython3",
   "version": "3.7.4"
  }
 },
 "nbformat": 4,
 "nbformat_minor": 2
}
