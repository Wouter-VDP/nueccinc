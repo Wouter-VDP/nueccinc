{
 "cells": [
  {
   "cell_type": "code",
   "execution_count": 1,
   "metadata": {},
   "outputs": [],
   "source": [
    "import numpy as np\n",
    "import pandas as pd\n",
    "import pickle\n",
    "import matplotlib.pyplot as plt\n",
    "from helpers import helpfunction as helper\n",
    "from helpers import plot_class\n",
    "import gc"
   ]
  },
  {
   "cell_type": "code",
   "execution_count": 2,
   "metadata": {},
   "outputs": [],
   "source": [
    "run=1\n",
    "input_dir = \"./input/16Jan/\".format(run)"
   ]
  },
  {
   "cell_type": "code",
   "execution_count": 3,
   "metadata": {},
   "outputs": [],
   "source": [
    "keys_true = [\n",
    "    \"nu_pdg\",\n",
    "    \"nu_e\",\n",
    "    \"lep_e\",\n",
    "    \"true_nu_vtx_x\",\n",
    "    \"true_nu_vtx_y\",\n",
    "    \"true_nu_vtx_z\",\n",
    "    \"nmuon\",\n",
    "    \"nproton\",\n",
    "    \"npi0\",\n",
    "    \"npion\",\n",
    "    \"nelec\",\n",
    "    \"interaction\",\n",
    "    \"weightSplineTimesTune\",\n",
    "    \"n_pfps\"\n",
    "]"
   ]
  },
  {
   "cell_type": "code",
   "execution_count": 4,
   "metadata": {},
   "outputs": [],
   "source": [
    "data = pickle.load(open(input_dir+\"run{}_slimmed.pckl\".format(run), 'rb'))"
   ]
  },
  {
   "cell_type": "code",
   "execution_count": 5,
   "metadata": {},
   "outputs": [],
   "source": [
    "nue_mc = pd.DataFrame({k: data[\"nue\"][\"mc\"][k] for k in keys_true})\n",
    "nu_mc = pd.DataFrame({k: data[\"nu\"][\"mc\"][k] for k in keys_true})"
   ]
  },
  {
   "cell_type": "code",
   "execution_count": 6,
   "metadata": {},
   "outputs": [
    {
     "data": {
      "text/plain": [
       "131"
      ]
     },
     "execution_count": 6,
     "metadata": {},
     "output_type": "execute_result"
    }
   ],
   "source": [
    "del data\n",
    "gc.collect()"
   ]
  },
  {
   "cell_type": "code",
   "execution_count": 7,
   "metadata": {},
   "outputs": [],
   "source": [
    "nue_mc[\"true_vtx_fid\"] = helper.is_fid(\n",
    "    nue_mc[\"true_nu_vtx_x\"],\n",
    "    nue_mc[\"true_nu_vtx_y\"],\n",
    "    nue_mc[\"true_nu_vtx_z\"],\n",
    ")\n",
    "nu_mc[\"true_vtx_fid\"] = helper.is_fid(\n",
    "    nu_mc[\"true_nu_vtx_x\"],\n",
    "    nu_mc[\"true_nu_vtx_y\"],\n",
    "    nu_mc[\"true_nu_vtx_z\"],\n",
    ")"
   ]
  },
  {
   "cell_type": "code",
   "execution_count": 8,
   "metadata": {},
   "outputs": [],
   "source": [
    "q_e0p = \"true_vtx_fid & abs(nu_pdg)==12 & nelec==1 & nproton==0 & (npi0+npion)==0\"\n",
    "q_eNp = \"true_vtx_fid & abs(nu_pdg)==12 & nelec==1 & nproton>0 & (npi0+npion)==0\"\n",
    "q_eX =  \"true_vtx_fid & abs(nu_pdg)==12 & nelec==1 & (npi0+npion)>0\"\n",
    "\n",
    "new_cat = (\n",
    "    nue_mc.eval(q_e0p) * 1\n",
    "    + nue_mc.eval(q_eNp) * 2\n",
    "    + nue_mc.eval(q_eX) * 3\n",
    ")\n",
    "nue_mc[\"category\"] = new_cat"
   ]
  },
  {
   "cell_type": "code",
   "execution_count": 9,
   "metadata": {},
   "outputs": [],
   "source": [
    "q_m0p = \"true_vtx_fid & abs(nu_pdg)==14 & nmuon==1 & nproton==0 & (npi0+npion)==0\"\n",
    "q_mNp = \"true_vtx_fid & abs(nu_pdg)==14 & nmuon==1 & nproton>0 & (npi0+npion)==0\"\n",
    "q_mX =  \"true_vtx_fid & abs(nu_pdg)==14 & nmuon==1 & (npi0+npion)>0\"\n",
    "\n",
    "new_cat = (\n",
    "    + nu_mc.eval(q_m0p) * 1\n",
    "    + nu_mc.eval(q_mNp) * 2\n",
    "    + nu_mc.eval(q_mX) * 3\n",
    ")\n",
    "nu_mc[\"category\"] = new_cat"
   ]
  },
  {
   "cell_type": "code",
   "execution_count": 15,
   "metadata": {},
   "outputs": [],
   "source": [
    "samples = [nu_mc, nue_mc]\n",
    "s_labs = [r'$\\nu_\\mu$ CC ', r'$\\nu_e$ CC ']\n",
    "\n",
    "cats = {1,2,3}\n",
    "c_labs = [r'0p0$\\pi$', r'Np0$\\pi$ (N>0)', r'NpM$\\pi$ (M>0)']\n",
    "field = 'nu_e'\n",
    "weight = 'weightSplineTimesTune'\n",
    "q_s = 'n_pfps>0'\n",
    "x_min = 0.15\n",
    "x_max=2.15\n",
    "n_bins=10"
   ]
  },
  {
   "cell_type": "code",
   "execution_count": 16,
   "metadata": {
    "scrolled": false
   },
   "outputs": [
    {
     "name": "stdout",
     "output_type": "stream",
     "text": [
      "$\\nu_\\mu$ CC  0p0$\\pi$\n",
      "24005\n",
      "29688\n",
      "$\\nu_e$ CC  0p0$\\pi$\n",
      "6156\n",
      "7666\n",
      "$\\nu_\\mu$ CC  Np0$\\pi$ (N>0)\n",
      "114537\n",
      "138342\n",
      "$\\nu_e$ CC  Np0$\\pi$ (N>0)\n",
      "27380\n",
      "32885\n",
      "$\\nu_\\mu$ CC  NpM$\\pi$ (M>0)\n",
      "60860\n",
      "71146\n",
      "$\\nu_e$ CC  NpM$\\pi$ (M>0)\n",
      "23365\n",
      "27395\n"
     ]
    },
    {
     "name": "stderr",
     "output_type": "stream",
     "text": [
      "/home/wouter/Documents/Jupyter/searchingfornues/helpers/plot_class.py:464: RuntimeWarning: invalid value encountered in true_divide\n",
      "  eff = num_w_h / den_w_h\n"
     ]
    },
    {
     "data": {
      "image/png": "[encoded data removed]",
      "text/plain": [
       "<Figure size 576x216 with 3 Axes>"
      ]
     },
     "metadata": {
      "needs_background": "light"
     },
     "output_type": "display_data"
    }
   ],
   "source": [
    "fig, axes = plt.subplots(ncols=3, figsize=(8, 3))\n",
    "\n",
    "for cat, c_lab, ax in zip(cats, c_labs, axes):\n",
    "    for sample, s_lab in zip(samples, s_labs):\n",
    "        num = sample.query(q_s).query(\"category==@cat\")[field]\n",
    "        den = sample.query(\"category==@cat\")[field]\n",
    "        \n",
    "        print(s_lab,c_lab)\n",
    "        print(len(num))\n",
    "        print(len(den))\n",
    "        \n",
    "        num_w = sample.query(q_s).query(\"category==@cat\")[weight]\n",
    "        den_w = sample.query(\"category==@cat\")[weight]\n",
    "\n",
    "        eff, unc_low, unc_up, edges = plot_class.efficiency_post(\n",
    "            num,\n",
    "            den,\n",
    "            num_w=num_w,\n",
    "            den_w=den_w,\n",
    "            n_bins=n_bins,\n",
    "            x_min=x_min,\n",
    "            x_max=x_max,\n",
    "        )\n",
    "        ax.fill_between(edges, eff - unc_low, eff + unc_up, alpha=0.3, step=\"post\")\n",
    "        ax.step(\n",
    "            edges,\n",
    "            eff,\n",
    "            where=\"post\",\n",
    "            label=\"{0}: {1:.1%}\".format(s_lab, sum(num_w) / sum(den_w)),\n",
    "        )\n",
    "    ax.set_title(c_lab, loc=\"right\")\n",
    "    ax.set_title(\"Efficiency\", loc=\"left\")\n",
    "    ax.set_xlabel(\"True neutrino energy [GeV]\")\n",
    "    ax.set_ylabel(\"Efficiency\")\n",
    "    ax.set_ylim(0, 1)\n",
    "    ax.set_xlim(x_min, x_max)\n",
    "    ax.legend(loc='lower center')\n",
    "\n",
    "fig.tight_layout()\n",
    "fig.savefig(\"sliceID.pdf\", bbox_inches=\"tight\")"
   ]
  },
  {
   "cell_type": "code",
   "execution_count": 12,
   "metadata": {},
   "outputs": [
    {
     "name": "stdout",
     "output_type": "stream",
     "text": [
      "$\\nu_\\mu$ CC : 82.8%\n",
      "$\\nu_e$ CC : 83.2%\n"
     ]
    }
   ],
   "source": [
    "for sample, s_lab in zip(samples, s_labs):\n",
    "    print(\"{0}: {1:.1%}\".format(s_lab, sum(sample.query(\"category>0\").query(q_s)[weight])/sum(sample.query(\"category>0\")[weight])))"
   ]
  }
 ],
 "metadata": {
  "kernelspec": {
   "display_name": "uproot env",
   "language": "python",
   "name": "uproot"
  },
  "language_info": {
   "codemirror_mode": {
    "name": "ipython",
    "version": 3
   },
   "file_extension": ".py",
   "mimetype": "text/x-python",
   "name": "python",
   "nbconvert_exporter": "python",
   "pygments_lexer": "ipython3",
   "version": "3.7.4"
  }
 },
 "nbformat": 4,
 "nbformat_minor": 2
}
