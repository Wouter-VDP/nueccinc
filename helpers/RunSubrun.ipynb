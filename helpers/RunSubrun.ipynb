{
 "cells": [
  {
   "cell_type": "code",
   "execution_count": 13,
   "metadata": {},
   "outputs": [],
   "source": [
    "import uproot\n",
    "import numpy as np\n",
    "import pandas as pd"
   ]
  },
  {
   "cell_type": "code",
   "execution_count": 14,
   "metadata": {},
   "outputs": [],
   "source": [
    "run=1\n",
    "dir_path = \"/home/wouter/Documents/Jupyter/searchingfornues/input/13Nov/run{}/\".format(run)\n",
    "root_dir = 'nuselection'\n",
    "tree_name = \"SubRun\""
   ]
  },
  {
   "cell_type": "code",
   "execution_count": 15,
   "metadata": {},
   "outputs": [],
   "source": [
    "fn_on = \"run{}_beam_on_cc0pinp.root\".format(run)\n",
    "fn_off = \"run{}_beam_off_cc0pinp.root\".format(run)"
   ]
  },
  {
   "cell_type": "code",
   "execution_count": 16,
   "metadata": {},
   "outputs": [],
   "source": [
    "files = {\"On\": fn_on, \"Off\": fn_off}"
   ]
  },
  {
   "cell_type": "code",
   "execution_count": 17,
   "metadata": {},
   "outputs": [],
   "source": [
    "trees = {}\n",
    "for file in files.keys():\n",
    "    trees[file]=uproot.open(dir_path+files[file])[root_dir][tree_name]"
   ]
  },
  {
   "cell_type": "code",
   "execution_count": 18,
   "metadata": {},
   "outputs": [
    {
     "name": "stdout",
     "output_type": "stream",
     "text": [
      "/home/wouter/Documents/Jupyter/searchingfornues/input/13Nov/run1/run_subrun_On.txt\n",
      "/home/wouter/Documents/Jupyter/searchingfornues/input/13Nov/run1/run_subrun_Off.txt\n"
     ]
    }
   ],
   "source": [
    "for tree in trees:\n",
    "    out_name = dir_path + \"run_subrun_\" + tree + \".txt\"\n",
    "    print(out_name)\n",
    "    run_subrun = np.array(trees[tree].arrays([\"run\", \"subRun\"], outputtype=pd.DataFrame))\n",
    "    np.savetxt(out_name, run_subrun, fmt=\"%d\")"
   ]
  }
 ],
 "metadata": {
  "kernelspec": {
   "display_name": "uproot env",
   "language": "python",
   "name": "uproot"
  },
  "language_info": {
   "codemirror_mode": {
    "name": "ipython",
    "version": 3
   },
   "file_extension": ".py",
   "mimetype": "text/x-python",
   "name": "python",
   "nbconvert_exporter": "python",
   "pygments_lexer": "ipython3",
   "version": "3.7.4"
  }
 },
 "nbformat": 4,
 "nbformat_minor": 2
}
