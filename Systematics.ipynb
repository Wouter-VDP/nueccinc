{
 "cells": [
  {
   "cell_type": "markdown",
   "metadata": {},
   "source": [
    "### Input"
   ]
  },
  {
   "cell_type": "code",
   "execution_count": 31,
   "metadata": {},
   "outputs": [
    {
     "name": "stdout",
     "output_type": "stream",
     "text": [
      "The autoreload extension is already loaded. To reload it, use:\n",
      "  %reload_ext autoreload\n",
      "The nb_black extension is already loaded. To reload it, use:\n",
      "  %reload_ext nb_black\n"
     ]
    },
    {
     "data": {
      "application/javascript": [
       "\n",
       "            setTimeout(function() {\n",
       "                var nbb_cell_id = 31;\n",
       "                var nbb_formatted_code = \"%load_ext autoreload\\n%matplotlib inline\\n%load_ext nb_black\";\n",
       "                var nbb_cells = Jupyter.notebook.get_cells();\n",
       "                for (var i = 0; i < nbb_cells.length; ++i) {\n",
       "                    if (nbb_cells[i].input_prompt_number == nbb_cell_id) {\n",
       "                        nbb_cells[i].set_text(nbb_formatted_code);\n",
       "                        break;\n",
       "                    }\n",
       "                }\n",
       "            }, 500);\n",
       "            "
      ],
      "text/plain": [
       "<IPython.core.display.Javascript object>"
      ]
     },
     "metadata": {},
     "output_type": "display_data"
    }
   ],
   "source": [
    "%load_ext autoreload\n",
    "%matplotlib inline\n",
    "%load_ext nb_black"
   ]
  },
  {
   "cell_type": "code",
   "execution_count": 32,
   "metadata": {},
   "outputs": [
    {
     "data": {
      "application/javascript": [
       "\n",
       "            setTimeout(function() {\n",
       "                var nbb_cell_id = 32;\n",
       "                var nbb_formatted_code = \"import pickle\\nimport numpy as np\\nimport pandas as pd\\nimport matplotlib.pyplot as plt\\nimport gc\\n\\npd.set_option(\\\"display.max_columns\\\", 500)\";\n",
       "                var nbb_cells = Jupyter.notebook.get_cells();\n",
       "                for (var i = 0; i < nbb_cells.length; ++i) {\n",
       "                    if (nbb_cells[i].input_prompt_number == nbb_cell_id) {\n",
       "                        nbb_cells[i].set_text(nbb_formatted_code);\n",
       "                        break;\n",
       "                    }\n",
       "                }\n",
       "            }, 500);\n",
       "            "
      ],
      "text/plain": [
       "<IPython.core.display.Javascript object>"
      ]
     },
     "metadata": {},
     "output_type": "display_data"
    }
   ],
   "source": [
    "import pickle\n",
    "import numpy as np\n",
    "import pandas as pd\n",
    "import matplotlib.pyplot as plt\n",
    "import gc\n",
    "\n",
    "pd.set_option(\"display.max_columns\", 500)"
   ]
  },
  {
   "cell_type": "code",
   "execution_count": 33,
   "metadata": {},
   "outputs": [
    {
     "data": {
      "application/javascript": [
       "\n",
       "            setTimeout(function() {\n",
       "                var nbb_cell_id = 33;\n",
       "                var nbb_formatted_code = \"%autoreload\";\n",
       "                var nbb_cells = Jupyter.notebook.get_cells();\n",
       "                for (var i = 0; i < nbb_cells.length; ++i) {\n",
       "                    if (nbb_cells[i].input_prompt_number == nbb_cell_id) {\n",
       "                        nbb_cells[i].set_text(nbb_formatted_code);\n",
       "                        break;\n",
       "                    }\n",
       "                }\n",
       "            }, 500);\n",
       "            "
      ],
      "text/plain": [
       "<IPython.core.display.Javascript object>"
      ]
     },
     "metadata": {},
     "output_type": "display_data"
    }
   ],
   "source": [
    "%autoreload"
   ]
  },
  {
   "cell_type": "markdown",
   "metadata": {},
   "source": [
    "### Constants"
   ]
  },
  {
   "cell_type": "code",
   "execution_count": 34,
   "metadata": {},
   "outputs": [
    {
     "data": {
      "application/javascript": [
       "\n",
       "            setTimeout(function() {\n",
       "                var nbb_cell_id = 34;\n",
       "                var nbb_formatted_code = \"run = 1\";\n",
       "                var nbb_cells = Jupyter.notebook.get_cells();\n",
       "                for (var i = 0; i < nbb_cells.length; ++i) {\n",
       "                    if (nbb_cells[i].input_prompt_number == nbb_cell_id) {\n",
       "                        nbb_cells[i].set_text(nbb_formatted_code);\n",
       "                        break;\n",
       "                    }\n",
       "                }\n",
       "            }, 500);\n",
       "            "
      ],
      "text/plain": [
       "<IPython.core.display.Javascript object>"
      ]
     },
     "metadata": {},
     "output_type": "display_data"
    }
   ],
   "source": [
    "run = 1"
   ]
  },
  {
   "cell_type": "code",
   "execution_count": 35,
   "metadata": {},
   "outputs": [
    {
     "data": {
      "application/javascript": [
       "\n",
       "            setTimeout(function() {\n",
       "                var nbb_cell_id = 35;\n",
       "                var nbb_formatted_code = \"input_dir = \\\"./input/16Jan/\\\"\\noutput_dir = \\\"./output/run{}/systematics/\\\".format(run)\";\n",
       "                var nbb_cells = Jupyter.notebook.get_cells();\n",
       "                for (var i = 0; i < nbb_cells.length; ++i) {\n",
       "                    if (nbb_cells[i].input_prompt_number == nbb_cell_id) {\n",
       "                        nbb_cells[i].set_text(nbb_formatted_code);\n",
       "                        break;\n",
       "                    }\n",
       "                }\n",
       "            }, 500);\n",
       "            "
      ],
      "text/plain": [
       "<IPython.core.display.Javascript object>"
      ]
     },
     "metadata": {},
     "output_type": "display_data"
    }
   ],
   "source": [
    "input_dir = \"./input/16Jan/\"\n",
    "output_dir = \"./output/run{}/systematics/\".format(run)"
   ]
  },
  {
   "cell_type": "code",
   "execution_count": 36,
   "metadata": {},
   "outputs": [
    {
     "data": {
      "application/javascript": [
       "\n",
       "            setTimeout(function() {\n",
       "                var nbb_cell_id = 36;\n",
       "                var nbb_formatted_code = \"geny_syst_knobs = [\\n    \\\"AGKYpT1pi_Genie\\\",\\n    \\\"AGKYxF1pi_Genie\\\",\\n    \\\"AhtBY_Genie\\\",\\n    \\\"AxFFCCQEshape_Genie\\\",\\n    \\\"BhtBY_Genie\\\",\\n    \\\"CV1uBY_Genie\\\",\\n    \\\"CV2uBY_Genie\\\",\\n    \\\"DecayAngMEC_Genie\\\",\\n    \\\"EtaNCEL_Genie\\\",\\n    \\\"FrAbs_N_Genie\\\",\\n    \\\"FrAbs_pi_Genie\\\",\\n    \\\"FrCEx_N_Genie\\\",\\n    \\\"FrCEx_pi_Genie\\\",\\n    \\\"FrInel_N_Genie\\\",\\n    \\\"FrInel_pi_Genie\\\",\\n    \\\"FrPiProd_N_Genie\\\",\\n    \\\"FrPiProd_pi_Genie\\\",\\n    \\\"FracDelta_CCMEC_Genie\\\",\\n    \\\"FracPN_CCMEC_Genie\\\",\\n    \\\"MFP_N_Genie\\\",\\n    \\\"MFP_pi_Genie\\\",\\n    \\\"MaCCQE_Genie\\\",\\n    \\\"MaCCRES_Genie\\\",\\n    \\\"MaNCEL_Genie\\\",\\n    \\\"MaNCRES_Genie\\\",\\n    \\\"MvCCRES_Genie\\\",\\n    \\\"MvNCRES_Genie\\\",\\n    \\\"NonRESBGvbarnCC1pi_Genie\\\",\\n    \\\"NonRESBGvbarnCC2pi_Genie\\\",\\n    \\\"NonRESBGvbarnNC1pi_Genie\\\",\\n    \\\"NonRESBGvbarnNC2pi_Genie\\\",\\n    \\\"NonRESBGvbarpCC1pi_Genie\\\",\\n    \\\"NonRESBGvbarpCC2pi_Genie\\\",\\n    \\\"NonRESBGvbarpNC1pi_Genie\\\",\\n    \\\"NonRESBGvbarpNC2pi_Genie\\\",\\n    \\\"NonRESBGvnCC1pi_Genie\\\",\\n    \\\"NonRESBGvnCC2pi_Genie\\\",\\n    \\\"NonRESBGvnNC1pi_Genie\\\",\\n    \\\"NonRESBGvnNC2pi_Genie\\\",\\n    \\\"NonRESBGvpCC1pi_Genie\\\",\\n    \\\"NonRESBGvpCC2pi_Genie\\\",\\n    \\\"NonRESBGvpNC1pi_Genie\\\",\\n    \\\"NonRESBGvpNC2pi_Genie\\\",\\n    \\\"NormCCMEC_Genie\\\",\\n    \\\"NormNCMEC_Genie\\\",\\n    \\\"RDecBR1eta_Genie\\\",\\n    \\\"RDecBR1gamma_Genie\\\",\\n    \\\"RPA_CCQE_Genie\\\",\\n    \\\"Theta_Delta2Npi_Genie\\\",\\n    \\\"VecFFCCQEshape_Genie\\\",\\n    \\\"XSecShape_CCMEC_Genie\\\",\\n]\\n# Test for duplicates\\nassert len(geny_syst_knobs) == len(set(geny_syst_knobs))\\nnum_syst = len(geny_syst_knobs)\";\n",
       "                var nbb_cells = Jupyter.notebook.get_cells();\n",
       "                for (var i = 0; i < nbb_cells.length; ++i) {\n",
       "                    if (nbb_cells[i].input_prompt_number == nbb_cell_id) {\n",
       "                        nbb_cells[i].set_text(nbb_formatted_code);\n",
       "                        break;\n",
       "                    }\n",
       "                }\n",
       "            }, 500);\n",
       "            "
      ],
      "text/plain": [
       "<IPython.core.display.Javascript object>"
      ]
     },
     "metadata": {},
     "output_type": "display_data"
    }
   ],
   "source": [
    "geny_syst_knobs = [\n",
    "    \"AGKYpT1pi_Genie\",\n",
    "    \"AGKYxF1pi_Genie\",\n",
    "    \"AhtBY_Genie\",\n",
    "    \"AxFFCCQEshape_Genie\",\n",
    "    \"BhtBY_Genie\",\n",
    "    \"CV1uBY_Genie\",\n",
    "    \"CV2uBY_Genie\",\n",
    "    \"DecayAngMEC_Genie\",\n",
    "    \"EtaNCEL_Genie\",\n",
    "    \"FrAbs_N_Genie\",\n",
    "    \"FrAbs_pi_Genie\",\n",
    "    \"FrCEx_N_Genie\",\n",
    "    \"FrCEx_pi_Genie\",\n",
    "    \"FrInel_N_Genie\",\n",
    "    \"FrInel_pi_Genie\",\n",
    "    \"FrPiProd_N_Genie\",\n",
    "    \"FrPiProd_pi_Genie\",\n",
    "    \"FracDelta_CCMEC_Genie\",\n",
    "    \"FracPN_CCMEC_Genie\",\n",
    "    \"MFP_N_Genie\",\n",
    "    \"MFP_pi_Genie\",\n",
    "    \"MaCCQE_Genie\",\n",
    "    \"MaCCRES_Genie\",\n",
    "    \"MaNCEL_Genie\",\n",
    "    \"MaNCRES_Genie\",\n",
    "    \"MvCCRES_Genie\",\n",
    "    \"MvNCRES_Genie\",\n",
    "    \"NonRESBGvbarnCC1pi_Genie\",\n",
    "    \"NonRESBGvbarnCC2pi_Genie\",\n",
    "    \"NonRESBGvbarnNC1pi_Genie\",\n",
    "    \"NonRESBGvbarnNC2pi_Genie\",\n",
    "    \"NonRESBGvbarpCC1pi_Genie\",\n",
    "    \"NonRESBGvbarpCC2pi_Genie\",\n",
    "    \"NonRESBGvbarpNC1pi_Genie\",\n",
    "    \"NonRESBGvbarpNC2pi_Genie\",\n",
    "    \"NonRESBGvnCC1pi_Genie\",\n",
    "    \"NonRESBGvnCC2pi_Genie\",\n",
    "    \"NonRESBGvnNC1pi_Genie\",\n",
    "    \"NonRESBGvnNC2pi_Genie\",\n",
    "    \"NonRESBGvpCC1pi_Genie\",\n",
    "    \"NonRESBGvpCC2pi_Genie\",\n",
    "    \"NonRESBGvpNC1pi_Genie\",\n",
    "    \"NonRESBGvpNC2pi_Genie\",\n",
    "    \"NormCCMEC_Genie\",\n",
    "    \"NormNCMEC_Genie\",\n",
    "    \"RDecBR1eta_Genie\",\n",
    "    \"RDecBR1gamma_Genie\",\n",
    "    \"RPA_CCQE_Genie\",\n",
    "    \"Theta_Delta2Npi_Genie\",\n",
    "    \"VecFFCCQEshape_Genie\",\n",
    "    \"XSecShape_CCMEC_Genie\",\n",
    "]\n",
    "# Test for duplicates\n",
    "assert len(geny_syst_knobs) == len(set(geny_syst_knobs))\n",
    "num_syst = len(geny_syst_knobs)"
   ]
  },
  {
   "cell_type": "markdown",
   "metadata": {},
   "source": [
    "### Definitions"
   ]
  },
  {
   "cell_type": "code",
   "execution_count": 37,
   "metadata": {},
   "outputs": [
    {
     "data": {
      "application/javascript": [
       "\n",
       "            setTimeout(function() {\n",
       "                var nbb_cell_id = 37;\n",
       "                var nbb_formatted_code = \"def post(x):\\n    return np.append(x, x[-1])\";\n",
       "                var nbb_cells = Jupyter.notebook.get_cells();\n",
       "                for (var i = 0; i < nbb_cells.length; ++i) {\n",
       "                    if (nbb_cells[i].input_prompt_number == nbb_cell_id) {\n",
       "                        nbb_cells[i].set_text(nbb_formatted_code);\n",
       "                        break;\n",
       "                    }\n",
       "                }\n",
       "            }, 500);\n",
       "            "
      ],
      "text/plain": [
       "<IPython.core.display.Javascript object>"
      ]
     },
     "metadata": {},
     "output_type": "display_data"
    }
   ],
   "source": [
    "def post(x):\n",
    "    return np.append(x, x[-1])"
   ]
  },
  {
   "cell_type": "code",
   "execution_count": null,
   "metadata": {},
   "outputs": [],
   "source": []
  },
  {
   "cell_type": "markdown",
   "metadata": {},
   "source": [
    "### Load Data"
   ]
  },
  {
   "cell_type": "code",
   "execution_count": 38,
   "metadata": {},
   "outputs": [
    {
     "data": {
      "application/javascript": [
       "\n",
       "            setTimeout(function() {\n",
       "                var nbb_cell_id = 38;\n",
       "                var nbb_formatted_code = \"data = pickle.load(open(input_dir + \\\"after_training_run{}.pckl\\\".format(run), \\\"rb\\\"))\\nweights = pickle.load(open(input_dir + \\\"run{}_weights.pckl\\\".format(run), \\\"rb\\\"))\";\n",
       "                var nbb_cells = Jupyter.notebook.get_cells();\n",
       "                for (var i = 0; i < nbb_cells.length; ++i) {\n",
       "                    if (nbb_cells[i].input_prompt_number == nbb_cell_id) {\n",
       "                        nbb_cells[i].set_text(nbb_formatted_code);\n",
       "                        break;\n",
       "                    }\n",
       "                }\n",
       "            }, 500);\n",
       "            "
      ],
      "text/plain": [
       "<IPython.core.display.Javascript object>"
      ]
     },
     "metadata": {},
     "output_type": "display_data"
    }
   ],
   "source": [
    "data = pickle.load(open(input_dir + \"after_training_run{}.pckl\".format(run), \"rb\"))\n",
    "weights = pickle.load(open(input_dir + \"run{}_weights.pckl\".format(run), \"rb\"))"
   ]
  },
  {
   "cell_type": "code",
   "execution_count": 39,
   "metadata": {},
   "outputs": [
    {
     "data": {
      "application/javascript": [
       "\n",
       "            setTimeout(function() {\n",
       "                var nbb_cell_id = 39;\n",
       "                var nbb_formatted_code = \"samples = [\\\"nu\\\", \\\"nue\\\", \\\"on\\\", \\\"off\\\", \\\"dirt\\\"]\\ntitle_str = \\\"MicroBooNE Run{}: {:.1e} POT\\\".format(run, data[\\\"on\\\"][\\\"pot\\\"])\";\n",
       "                var nbb_cells = Jupyter.notebook.get_cells();\n",
       "                for (var i = 0; i < nbb_cells.length; ++i) {\n",
       "                    if (nbb_cells[i].input_prompt_number == nbb_cell_id) {\n",
       "                        nbb_cells[i].set_text(nbb_formatted_code);\n",
       "                        break;\n",
       "                    }\n",
       "                }\n",
       "            }, 500);\n",
       "            "
      ],
      "text/plain": [
       "<IPython.core.display.Javascript object>"
      ]
     },
     "metadata": {},
     "output_type": "display_data"
    }
   ],
   "source": [
    "samples = [\"nu\", \"nue\", \"on\", \"off\", \"dirt\"]\n",
    "title_str = \"MicroBooNE Run{}: {:.1e} POT\".format(run, data[\"on\"][\"pot\"])"
   ]
  },
  {
   "cell_type": "code",
   "execution_count": 40,
   "metadata": {},
   "outputs": [
    {
     "data": {
      "text/plain": [
       "877"
      ]
     },
     "execution_count": 40,
     "metadata": {},
     "output_type": "execute_result"
    },
    {
     "data": {
      "application/javascript": [
       "\n",
       "            setTimeout(function() {\n",
       "                var nbb_cell_id = 40;\n",
       "                var nbb_formatted_code = \"for s in list(data.keys()):\\n    if s not in samples:\\n        del data[s]\\ngc.collect()\";\n",
       "                var nbb_cells = Jupyter.notebook.get_cells();\n",
       "                for (var i = 0; i < nbb_cells.length; ++i) {\n",
       "                    if (nbb_cells[i].input_prompt_number == nbb_cell_id) {\n",
       "                        nbb_cells[i].set_text(nbb_formatted_code);\n",
       "                        break;\n",
       "                    }\n",
       "                }\n",
       "            }, 500);\n",
       "            "
      ],
      "text/plain": [
       "<IPython.core.display.Javascript object>"
      ]
     },
     "metadata": {},
     "output_type": "display_data"
    }
   ],
   "source": [
    "for s in list(data.keys()):\n",
    "    if s not in samples:\n",
    "        del data[s]\n",
    "gc.collect()"
   ]
  },
  {
   "cell_type": "code",
   "execution_count": 62,
   "metadata": {},
   "outputs": [
    {
     "name": "stdout",
     "output_type": "stream",
     "text": [
      "6\n"
     ]
    },
    {
     "data": {
      "application/javascript": [
       "\n",
       "            setTimeout(function() {\n",
       "                var nbb_cell_id = 62;\n",
       "                var nbb_formatted_code = \"print(len(data[\\\"nue\\\"]))\";\n",
       "                var nbb_cells = Jupyter.notebook.get_cells();\n",
       "                for (var i = 0; i < nbb_cells.length; ++i) {\n",
       "                    if (nbb_cells[i].input_prompt_number == nbb_cell_id) {\n",
       "                        nbb_cells[i].set_text(nbb_formatted_code);\n",
       "                        break;\n",
       "                    }\n",
       "                }\n",
       "            }, 500);\n",
       "            "
      ],
      "text/plain": [
       "<IPython.core.display.Javascript object>"
      ]
     },
     "metadata": {},
     "output_type": "display_data"
    }
   ],
   "source": [
    "print(len(data[\"nue\"]))"
   ]
  },
  {
   "cell_type": "code",
   "execution_count": 49,
   "metadata": {},
   "outputs": [
    {
     "name": "stdout",
     "output_type": "stream",
     "text": [
      "[102 102 102 ... 102 102 102]\n",
      "85087\n"
     ]
    },
    {
     "data": {
      "application/javascript": [
       "\n",
       "            setTimeout(function() {\n",
       "                var nbb_cell_id = 49;\n",
       "                var nbb_formatted_code = \"print(weights[\\\"nue\\\"][b\\\"weightsGenie_vec\\\"].counts)\\nprint(len(weights[\\\"nue\\\"][b\\\"weightsGenie_vec\\\"]))\";\n",
       "                var nbb_cells = Jupyter.notebook.get_cells();\n",
       "                for (var i = 0; i < nbb_cells.length; ++i) {\n",
       "                    if (nbb_cells[i].input_prompt_number == nbb_cell_id) {\n",
       "                        nbb_cells[i].set_text(nbb_formatted_code);\n",
       "                        break;\n",
       "                    }\n",
       "                }\n",
       "            }, 500);\n",
       "            "
      ],
      "text/plain": [
       "<IPython.core.display.Javascript object>"
      ]
     },
     "metadata": {},
     "output_type": "display_data"
    }
   ],
   "source": [
    "print(weights[\"nue\"][b\"weightsGenie_vec\"].counts)\n",
    "print(len(weights[\"nue\"][b\"weightsGenie_vec\"]))"
   ]
  },
  {
   "cell_type": "code",
   "execution_count": 59,
   "metadata": {},
   "outputs": [
    {
     "data": {
      "application/javascript": [
       "\n",
       "            setTimeout(function() {\n",
       "                var nbb_cell_id = 59;\n",
       "                var nbb_formatted_code = \"weights[\\\"nue\\\"][\\\"genie\\\"] = {}\\nfor N, label in enumerate(geny_syst_knobs):\\n    down = weights[\\\"nue\\\"][b\\\"weightsGenie_vec\\\"][:, 2 * N]\\n    up = weights[\\\"nue\\\"][b\\\"weightsGenie_vec\\\"][:, 2 * N + 1]\\n    weights[\\\"nue\\\"][\\\"genie\\\"][label] = [down, up]\";\n",
       "                var nbb_cells = Jupyter.notebook.get_cells();\n",
       "                for (var i = 0; i < nbb_cells.length; ++i) {\n",
       "                    if (nbb_cells[i].input_prompt_number == nbb_cell_id) {\n",
       "                        nbb_cells[i].set_text(nbb_formatted_code);\n",
       "                        break;\n",
       "                    }\n",
       "                }\n",
       "            }, 500);\n",
       "            "
      ],
      "text/plain": [
       "<IPython.core.display.Javascript object>"
      ]
     },
     "metadata": {},
     "output_type": "display_data"
    }
   ],
   "source": [
    "weights[\"nue\"][\"genie\"] = {}\n",
    "for N, label in enumerate(geny_syst_knobs):\n",
    "    down = weights[\"nue\"][b\"weightsGenie_vec\"][:, 2 * N]\n",
    "    up = weights[\"nue\"][b\"weightsGenie_vec\"][:, 2 * N + 1]\n",
    "    weights[\"nue\"][\"genie\"][label] = [down, up]"
   ]
  },
  {
   "cell_type": "markdown",
   "metadata": {},
   "source": [
    "### Plots"
   ]
  },
  {
   "cell_type": "markdown",
   "metadata": {},
   "source": [
    "### Sandbox"
   ]
  },
  {
   "cell_type": "code",
   "execution_count": 21,
   "metadata": {},
   "outputs": [
    {
     "data": {
      "text/plain": [
       "array([2, 2, 2, ..., 2, 2, 2])"
      ]
     },
     "execution_count": 21,
     "metadata": {},
     "output_type": "execute_result"
    },
    {
     "data": {
      "application/javascript": [
       "\n",
       "            setTimeout(function() {\n",
       "                var nbb_cell_id = 21;\n",
       "                var nbb_formatted_code = \"weights[\\\"nue\\\"][b\\\"weightsGenie\\\"].counts\";\n",
       "                var nbb_cells = Jupyter.notebook.get_cells();\n",
       "                for (var i = 0; i < nbb_cells.length; ++i) {\n",
       "                    if (nbb_cells[i].input_prompt_number == nbb_cell_id) {\n",
       "                        nbb_cells[i].set_text(nbb_formatted_code);\n",
       "                        break;\n",
       "                    }\n",
       "                }\n",
       "            }, 500);\n",
       "            "
      ],
      "text/plain": [
       "<IPython.core.display.Javascript object>"
      ]
     },
     "metadata": {},
     "output_type": "display_data"
    }
   ],
   "source": [
    "weights[\"nue\"][b\"weightsGenie\"].counts"
   ]
  },
  {
   "cell_type": "code",
   "execution_count": 22,
   "metadata": {},
   "outputs": [
    {
     "data": {
      "text/plain": [
       "85087"
      ]
     },
     "execution_count": 22,
     "metadata": {},
     "output_type": "execute_result"
    },
    {
     "data": {
      "application/javascript": [
       "\n",
       "            setTimeout(function() {\n",
       "                var nbb_cell_id = 22;\n",
       "                var nbb_formatted_code = \"len(weights[\\\"nue\\\"][b\\\"weightsGenie\\\"])\";\n",
       "                var nbb_cells = Jupyter.notebook.get_cells();\n",
       "                for (var i = 0; i < nbb_cells.length; ++i) {\n",
       "                    if (nbb_cells[i].input_prompt_number == nbb_cell_id) {\n",
       "                        nbb_cells[i].set_text(nbb_formatted_code);\n",
       "                        break;\n",
       "                    }\n",
       "                }\n",
       "            }, 500);\n",
       "            "
      ],
      "text/plain": [
       "<IPython.core.display.Javascript object>"
      ]
     },
     "metadata": {},
     "output_type": "display_data"
    }
   ],
   "source": [
    "len(weights[\"nue\"][b\"weightsGenie\"])"
   ]
  },
  {
   "cell_type": "code",
   "execution_count": 23,
   "metadata": {},
   "outputs": [
    {
     "data": {
      "text/plain": [
       "array([50, 50, 50, ..., 50, 50, 50])"
      ]
     },
     "execution_count": 23,
     "metadata": {},
     "output_type": "execute_result"
    },
    {
     "data": {
      "application/javascript": [
       "\n",
       "            setTimeout(function() {\n",
       "                var nbb_cell_id = 23;\n",
       "                var nbb_formatted_code = \"weights[\\\"nue\\\"][b\\\"weightsFlux\\\"].counts\";\n",
       "                var nbb_cells = Jupyter.notebook.get_cells();\n",
       "                for (var i = 0; i < nbb_cells.length; ++i) {\n",
       "                    if (nbb_cells[i].input_prompt_number == nbb_cell_id) {\n",
       "                        nbb_cells[i].set_text(nbb_formatted_code);\n",
       "                        break;\n",
       "                    }\n",
       "                }\n",
       "            }, 500);\n",
       "            "
      ],
      "text/plain": [
       "<IPython.core.display.Javascript object>"
      ]
     },
     "metadata": {},
     "output_type": "display_data"
    }
   ],
   "source": [
    "weights[\"nue\"][b\"weightsFlux\"].counts"
   ]
  },
  {
   "cell_type": "code",
   "execution_count": 63,
   "metadata": {},
   "outputs": [
    {
     "ename": "IndexError",
     "evalue": "index 85093 is out of bounds for axis 0 with size 85087",
     "output_type": "error",
     "traceback": [
      "\u001b[0;31m---------------------------------------------------------------------------\u001b[0m",
      "\u001b[0;31mIndexError\u001b[0m                                Traceback (most recent call last)",
      "\u001b[0;32m<ipython-input-63-640b916bd48b>\u001b[0m in \u001b[0;36m<module>\u001b[0;34m\u001b[0m\n\u001b[1;32m      9\u001b[0m \u001b[0mdata_cv\u001b[0m \u001b[0;34m=\u001b[0m \u001b[0mdata\u001b[0m\u001b[0;34m[\u001b[0m\u001b[0;34m\"nue\"\u001b[0m\u001b[0;34m]\u001b[0m\u001b[0;34m[\u001b[0m\u001b[0;34m\"daughters\"\u001b[0m\u001b[0;34m]\u001b[0m\u001b[0;34m.\u001b[0m\u001b[0mquery\u001b[0m\u001b[0;34m(\u001b[0m\u001b[0mselector\u001b[0m\u001b[0;34m)\u001b[0m\u001b[0;34m[\u001b[0m\u001b[0;34m\"shr_energy_y_v\"\u001b[0m\u001b[0;34m]\u001b[0m\u001b[0;34m\u001b[0m\u001b[0;34m\u001b[0m\u001b[0m\n\u001b[1;32m     10\u001b[0m \u001b[0mdata_index\u001b[0m \u001b[0;34m=\u001b[0m \u001b[0mdata_cv\u001b[0m\u001b[0;34m.\u001b[0m\u001b[0mindex\u001b[0m\u001b[0;34m.\u001b[0m\u001b[0mget_level_values\u001b[0m\u001b[0;34m(\u001b[0m\u001b[0;36m0\u001b[0m\u001b[0;34m)\u001b[0m\u001b[0;34m\u001b[0m\u001b[0;34m\u001b[0m\u001b[0m\n\u001b[0;32m---> 11\u001b[0;31m \u001b[0mweights_cv\u001b[0m \u001b[0;34m=\u001b[0m \u001b[0mweights\u001b[0m\u001b[0;34m[\u001b[0m\u001b[0;34m\"nue\"\u001b[0m\u001b[0;34m]\u001b[0m\u001b[0;34m[\u001b[0m\u001b[0;34mb\"weightSplineTimesTune\"\u001b[0m\u001b[0;34m]\u001b[0m\u001b[0;34m[\u001b[0m\u001b[0mdata_index\u001b[0m\u001b[0;34m]\u001b[0m\u001b[0;34m\u001b[0m\u001b[0;34m\u001b[0m\u001b[0m\n\u001b[0m\u001b[1;32m     12\u001b[0m \u001b[0mweights_spline\u001b[0m \u001b[0;34m=\u001b[0m \u001b[0mweights\u001b[0m\u001b[0;34m[\u001b[0m\u001b[0;34m\"nue\"\u001b[0m\u001b[0;34m]\u001b[0m\u001b[0;34m[\u001b[0m\u001b[0;34mb\"weightSpline\"\u001b[0m\u001b[0;34m]\u001b[0m\u001b[0;34m[\u001b[0m\u001b[0mdata_index\u001b[0m\u001b[0;34m]\u001b[0m\u001b[0;34m\u001b[0m\u001b[0;34m\u001b[0m\u001b[0m\n\u001b[1;32m     13\u001b[0m \u001b[0mweights_flux\u001b[0m \u001b[0;34m=\u001b[0m \u001b[0mweights\u001b[0m\u001b[0;34m[\u001b[0m\u001b[0;34m\"nue\"\u001b[0m\u001b[0;34m]\u001b[0m\u001b[0;34m[\u001b[0m\u001b[0mw_flux\u001b[0m\u001b[0;34m]\u001b[0m\u001b[0;34m[\u001b[0m\u001b[0mdata_index\u001b[0m\u001b[0;34m]\u001b[0m \u001b[0;34m*\u001b[0m \u001b[0mweights_cv\u001b[0m\u001b[0;34m\u001b[0m\u001b[0;34m\u001b[0m\u001b[0m\n",
      "\u001b[0;31mIndexError\u001b[0m: index 85093 is out of bounds for axis 0 with size 85087"
     ]
    },
    {
     "data": {
      "application/javascript": [
       "\n",
       "            setTimeout(function() {\n",
       "                var nbb_cell_id = 63;\n",
       "                var nbb_formatted_code = \"selector = \\\"select & e_candidate\\\"\\nfield = \\\"shr_energy_y_v\\\"\\nw_flux = b\\\"weightsFlux\\\"\\nw_genie = b\\\"weightsGenie_vec\\\"\\nx_min = 100\\nx_max = 1000\\nn_bin = 9\\n\\ndata_cv = data[\\\"nue\\\"][\\\"daughters\\\"].query(selector)[\\\"shr_energy_y_v\\\"]\\ndata_index = data_cv.index.get_level_values(0)\\nweights_cv = weights[\\\"nue\\\"][b\\\"weightSplineTimesTune\\\"][data_index]\\nweights_spline = weights[\\\"nue\\\"][b\\\"weightSpline\\\"][data_index]\\nweights_flux = weights[\\\"nue\\\"][w_flux][data_index] * weights_cv\\nweights_genie = weights[\\\"nue\\\"][w_genie][data_index] * weights_spline\\n\\nnum_universes_flux = weights_flux.counts[0]\\nnum_universes_genie = weights_genie.counts[0]\\nnum_events = len(weights_flux.counts)\\nassert num_events == len(data_index)\\nweights_flux = np.reshape(weights_flux.flatten(), (num_universes_flux, num_events))\\nweights_genie = np.reshape(weights_genie.flatten(), (num_universes_genie, num_events))\\n\\nbins_cv, edges = np.histogram(\\n    data_cv, weights=weights_cv, range=(x_min, x_max), bins=n_bin\\n)\\nbins_flux = []\\nfor i, weights_i in enumerate(weights_flux):\\n    bins_temp, _ = np.histogram(\\n        data_cv, weights=weights_i, range=(x_min, x_max), bins=n_bin\\n    )\\n    bins_flux.append(post(bins_temp))\\nbins_genie = []\\nfor i, weights_i in enumerate(weights_genie):\\n    bins_temp, _ = np.histogram(\\n        data_cv, weights=weights_i, range=(x_min, x_max), bins=n_bin\\n    )\\n    bins_genie.append(post(bins_temp))\";\n",
       "                var nbb_cells = Jupyter.notebook.get_cells();\n",
       "                for (var i = 0; i < nbb_cells.length; ++i) {\n",
       "                    if (nbb_cells[i].input_prompt_number == nbb_cell_id) {\n",
       "                        nbb_cells[i].set_text(nbb_formatted_code);\n",
       "                        break;\n",
       "                    }\n",
       "                }\n",
       "            }, 500);\n",
       "            "
      ],
      "text/plain": [
       "<IPython.core.display.Javascript object>"
      ]
     },
     "metadata": {},
     "output_type": "display_data"
    }
   ],
   "source": [
    "selector = \"select & e_candidate\"\n",
    "field = \"shr_energy_y_v\"\n",
    "w_flux = b\"weightsFlux\"\n",
    "w_genie = b\"weightsGenie_vec\"\n",
    "x_min = 100\n",
    "x_max = 1000\n",
    "n_bin = 9\n",
    "\n",
    "data_cv = data[\"nue\"][\"daughters\"].query(selector)[\"shr_energy_y_v\"]\n",
    "data_index = data_cv.index.get_level_values(0)\n",
    "weights_cv = weights[\"nue\"][b\"weightSplineTimesTune\"][data_index]\n",
    "weights_spline = weights[\"nue\"][b\"weightSpline\"][data_index]\n",
    "weights_flux = weights[\"nue\"][w_flux][data_index] * weights_cv\n",
    "weights_genie = weights[\"nue\"][w_genie][data_index] * weights_spline\n",
    "\n",
    "num_universes_flux = weights_flux.counts[0]\n",
    "num_universes_genie = weights_genie.counts[0]\n",
    "num_events = len(weights_flux.counts)\n",
    "assert num_events == len(data_index)\n",
    "weights_flux = np.reshape(weights_flux.flatten(), (num_universes_flux, num_events))\n",
    "weights_genie = np.reshape(weights_genie.flatten(), (num_universes_genie, num_events))\n",
    "\n",
    "bins_cv, edges = np.histogram(\n",
    "    data_cv, weights=weights_cv, range=(x_min, x_max), bins=n_bin\n",
    ")\n",
    "bins_flux = []\n",
    "for i, weights_i in enumerate(weights_flux):\n",
    "    bins_temp, _ = np.histogram(\n",
    "        data_cv, weights=weights_i, range=(x_min, x_max), bins=n_bin\n",
    "    )\n",
    "    bins_flux.append(post(bins_temp))\n",
    "bins_genie = []\n",
    "for i, weights_i in enumerate(weights_genie):\n",
    "    bins_temp, _ = np.histogram(\n",
    "        data_cv, weights=weights_i, range=(x_min, x_max), bins=n_bin\n",
    "    )\n",
    "    bins_genie.append(post(bins_temp))"
   ]
  },
  {
   "cell_type": "code",
   "execution_count": 46,
   "metadata": {},
   "outputs": [
    {
     "name": "stderr",
     "output_type": "stream",
     "text": [
      "WARNING:matplotlib.legend:No handles with labels found to put in legend.\n"
     ]
    },
    {
     "data": {
      "text/plain": [
       "Text(0.5, 1.0, 'Genie Uncertainty')"
      ]
     },
     "execution_count": 46,
     "metadata": {},
     "output_type": "execute_result"
    },
    {
     "data": {
      "image/png": "[encoded data removed]",
      "text/plain": [
       "<Figure size 936x252 with 2 Axes>"
      ]
     },
     "metadata": {
      "needs_background": "light"
     },
     "output_type": "display_data"
    },
    {
     "data": {
      "application/javascript": [
       "\n",
       "            setTimeout(function() {\n",
       "                var nbb_cell_id = 46;\n",
       "                var nbb_formatted_code = \"fig, ax = plt.subplots(ncols=2, figsize=(13, 3.5))\\n\\nax[0].step(edges, post(bins_cv), where=\\\"post\\\", label=\\\"central value\\\")\\nfor b in bins_flux:\\n    ax[0].step(edges, b, where=\\\"post\\\", color=\\\"C1\\\", alpha=0.3)\\nax[0].legend()\\nax[0].set_title(\\\"Flux Uncertainty\\\")\\nax[0].set_xlabel(\\\"Electron shower energy (collection plane, uncorrected) [MeV]\\\")\\nax[0].set_ylabel(\\\"Events\\\")\\n\\n\\n# ax[1].step(edges, post(bins_cv), where=\\\"post\\\", label=\\\"central value\\\")\\nfor b in bins_genie:\\n    print(b)\\n    ax[1].step(edges, b, where=\\\"post\\\", color=\\\"C1\\\", alpha=0.3)\\nax[1].legend()\\nax[1].set_title(\\\"Genie Uncertainty\\\")\";\n",
       "                var nbb_cells = Jupyter.notebook.get_cells();\n",
       "                for (var i = 0; i < nbb_cells.length; ++i) {\n",
       "                    if (nbb_cells[i].input_prompt_number == nbb_cell_id) {\n",
       "                        nbb_cells[i].set_text(nbb_formatted_code);\n",
       "                        break;\n",
       "                    }\n",
       "                }\n",
       "            }, 500);\n",
       "            "
      ],
      "text/plain": [
       "<IPython.core.display.Javascript object>"
      ]
     },
     "metadata": {},
     "output_type": "display_data"
    }
   ],
   "source": [
    "fig, ax = plt.subplots(ncols=2, figsize=(13, 3.5))\n",
    "\n",
    "ax[0].step(edges, post(bins_cv), where=\"post\", label=\"central value\")\n",
    "for b in bins_flux:\n",
    "    ax[0].step(edges, b, where=\"post\", color=\"C1\", alpha=0.3)\n",
    "ax[0].legend()\n",
    "ax[0].set_title(\"Flux Uncertainty\")\n",
    "ax[0].set_xlabel(\"Electron shower energy (collection plane, uncorrected) [MeV]\")\n",
    "ax[0].set_ylabel(\"Events\")\n",
    "\n",
    "\n",
    "# ax[1].step(edges, post(bins_cv), where=\"post\", label=\"central value\")\n",
    "for b in bins_genie:\n",
    "    print(b)\n",
    "    ax[1].step(edges, b, where=\"post\", color=\"C1\", alpha=0.3)\n",
    "ax[1].legend()\n",
    "ax[1].set_title(\"Genie Uncertainty\")"
   ]
  },
  {
   "cell_type": "code",
   "execution_count": 52,
   "metadata": {},
   "outputs": [
    {
     "data": {
      "application/javascript": [
       "\n",
       "            setTimeout(function() {\n",
       "                var nbb_cell_id = 52;\n",
       "                var nbb_formatted_code = \"a = np.vstack(bins_flux)\";\n",
       "                var nbb_cells = Jupyter.notebook.get_cells();\n",
       "                for (var i = 0; i < nbb_cells.length; ++i) {\n",
       "                    if (nbb_cells[i].input_prompt_number == nbb_cell_id) {\n",
       "                        nbb_cells[i].set_text(nbb_formatted_code);\n",
       "                        break;\n",
       "                    }\n",
       "                }\n",
       "            }, 500);\n",
       "            "
      ],
      "text/plain": [
       "<IPython.core.display.Javascript object>"
      ]
     },
     "metadata": {},
     "output_type": "display_data"
    }
   ],
   "source": [
    "a = np.vstack(bins_flux)"
   ]
  },
  {
   "cell_type": "code",
   "execution_count": 58,
   "metadata": {},
   "outputs": [
    {
     "data": {
      "text/plain": [
       "array([1.98374156, 1.53666636, 1.36049456, 1.44900447, 1.12230495,\n",
       "       1.7078129 , 1.17804225, 1.48917917, 1.58618385, 1.58618385])"
      ]
     },
     "execution_count": 58,
     "metadata": {},
     "output_type": "execute_result"
    },
    {
     "data": {
      "application/javascript": [
       "\n",
       "            setTimeout(function() {\n",
       "                var nbb_cell_id = 58;\n",
       "                var nbb_formatted_code = \"(np.max(a, axis=0) - np.min(a, axis=0)) / post(bins_cv) * 100\";\n",
       "                var nbb_cells = Jupyter.notebook.get_cells();\n",
       "                for (var i = 0; i < nbb_cells.length; ++i) {\n",
       "                    if (nbb_cells[i].input_prompt_number == nbb_cell_id) {\n",
       "                        nbb_cells[i].set_text(nbb_formatted_code);\n",
       "                        break;\n",
       "                    }\n",
       "                }\n",
       "            }, 500);\n",
       "            "
      ],
      "text/plain": [
       "<IPython.core.display.Javascript object>"
      ]
     },
     "metadata": {},
     "output_type": "display_data"
    }
   ],
   "source": [
    "(np.max(a, axis=0) - np.min(a, axis=0)) / post(bins_cv) * 100"
   ]
  },
  {
   "cell_type": "code",
   "execution_count": null,
   "metadata": {},
   "outputs": [],
   "source": []
  }
 ],
 "metadata": {
  "kernelspec": {
   "display_name": "uproot env",
   "language": "python",
   "name": "uproot"
  },
  "language_info": {
   "codemirror_mode": {
    "name": "ipython",
    "version": 3
   },
   "file_extension": ".py",
   "mimetype": "text/x-python",
   "name": "python",
   "nbconvert_exporter": "python",
   "pygments_lexer": "ipython3",
   "version": "3.7.4"
  }
 },
 "nbformat": 4,
 "nbformat_minor": 2
}
