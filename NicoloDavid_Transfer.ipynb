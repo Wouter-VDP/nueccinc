{
 "cells": [
  {
   "cell_type": "code",
   "execution_count": 33,
   "metadata": {},
   "outputs": [],
   "source": [
    "import pickle\n",
    "import pandas\n",
    "import numpy as np"
   ]
  },
  {
   "cell_type": "code",
   "execution_count": 28,
   "metadata": {
    "scrolled": true
   },
   "outputs": [],
   "source": [
    "run = 1\n",
    "data_samples = ['on', 'off']\n",
    "input_dir = \"./input/05Dec/\".format(run)\n",
    "data = pickle.load(open(input_dir + \"after_training_run{}.pckl\".format(run), \"rb\"))\n",
    "samples = list(data.keys())"
   ]
  },
  {
   "cell_type": "code",
   "execution_count": 29,
   "metadata": {},
   "outputs": [],
   "source": [
    "samples\n",
    "\n",
    "cols_mc = ['nu_pdg', 'shr_energy_y_v', 'nu_e', 'weightSpline', 'nueccinc']\n",
    "cols_data = ['shr_energy_y_v']"
   ]
  },
  {
   "cell_type": "code",
   "execution_count": 30,
   "metadata": {},
   "outputs": [
    {
     "name": "stdout",
     "output_type": "stream",
     "text": [
      "nu\n",
      "nue\n",
      "on\n",
      "off\n",
      "dirt\n"
     ]
    }
   ],
   "source": [
    "# Nicolo Transfer\n",
    "\n",
    "out_dict = {}\n",
    "for s in samples:\n",
    "    print(s)\n",
    "    if s in data_samples:\n",
    "        cols = cols_data\n",
    "    else:\n",
    "        cols = cols_mc\n",
    "    out_dict[s] = data[s]['daughters'].query('select & e_candidate')[cols].copy()\n",
    "    if 'weightSpline' in out_dict[s]:\n",
    "        out_dict[s]['weightSpline'] *= data[s]['scaling']\n",
    "    else:\n",
    "        out_dict[s]['weightSpline'] = data[s]['scaling']\n",
    "\n",
    "pickle_out = open(input_dir + \"nicolo_wouter_frame_run{}.pckl\".format(run), \"wb\")\n",
    "pickle.dump(out_dict, pickle_out)\n",
    "pickle_out.close()"
   ]
  },
  {
   "cell_type": "code",
   "execution_count": 35,
   "metadata": {},
   "outputs": [
    {
     "name": "stdout",
     "output_type": "stream",
     "text": [
      "RUN  1\n",
      "file nue has 13109 selected entries\n",
      "nue 0.0007002817525092584\n",
      "file nu has 723 selected entries\n",
      "nu 0.028196022561848784\n",
      "file dirt has 4 selected entries\n",
      "dirt 0.11456696924922345\n",
      "file off has 5 selected entries\n",
      "off 0.4416367682358498\n",
      "file on has 15 selected entries\n",
      "on 1\n"
     ]
    }
   ],
   "source": [
    "# David Transfer\n",
    "cols = ['run', 'sub', 'evt']\n",
    "fname_v = ['nue','nu','dirt','off','on']\n",
    "print('RUN ', run)\n",
    "for i,name in enumerate(fname_v):\n",
    "    dfsel = data[name]['daughters'].query('select & e_candidate')[cols]\n",
    "    print ('file %s has %i selected entries'%(name,dfsel.shape[0]))\n",
    "    print(name,data[name]['scaling'])  \n",
    "    np.savetxt(\n",
    "        input_dir+\"david/\"+name+'_run{}_test.txt'.format(run),\n",
    "        dfsel[cols],\n",
    "        fmt=\"%u\",\n",
    "    )"
   ]
  }
 ],
 "metadata": {
  "kernelspec": {
   "display_name": "uproot env",
   "language": "python",
   "name": "uproot"
  },
  "language_info": {
   "codemirror_mode": {
    "name": "ipython",
    "version": 3
   },
   "file_extension": ".py",
   "mimetype": "text/x-python",
   "name": "python",
   "nbconvert_exporter": "python",
   "pygments_lexer": "ipython3",
   "version": "3.7.4"
  }
 },
 "nbformat": 4,
 "nbformat_minor": 2
}
