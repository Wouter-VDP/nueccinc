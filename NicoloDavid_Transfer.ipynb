{
 "cells": [
  {
   "cell_type": "code",
   "execution_count": 2,
   "metadata": {},
   "outputs": [],
   "source": [
    "import pickle\n",
    "import pandas\n",
    "import numpy as np"
   ]
  },
  {
   "cell_type": "markdown",
   "metadata": {},
   "source": [
    "### $\\nu_e$"
   ]
  },
  {
   "cell_type": "code",
   "execution_count": 3,
   "metadata": {
    "scrolled": true
   },
   "outputs": [],
   "source": [
    "run = 3\n",
    "data_samples = ['on', 'off']\n",
    "input_dir = \"./input/16Jan/\".format(run)\n",
    "data = pickle.load(open(input_dir + \"after_training_run{}.pckl\".format(run), \"rb\"))\n",
    "samples = list(data.keys())"
   ]
  },
  {
   "cell_type": "code",
   "execution_count": 4,
   "metadata": {},
   "outputs": [
    {
     "name": "stdout",
     "output_type": "stream",
     "text": [
      "nu 1.3358047e+21 0.006474749068282841\n",
      "nue 7.2703072e+22 0.00011896333549603912\n",
      "dirt 3.2492634e+20 0.02661834069956804\n",
      "off 0 0.021821096349918395\n",
      "on 8.649e+18 1\n"
     ]
    }
   ],
   "source": [
    "for s in ['nu', 'nue', 'dirt', 'off', 'on']:\n",
    "    print(s, data[s]['pot'], data[s]['scaling'])"
   ]
  },
  {
   "cell_type": "code",
   "execution_count": 4,
   "metadata": {},
   "outputs": [],
   "source": [
    "cols_mc = ['nu_pdg', 'shr_energy_y_v', 'nu_e', 'weightSpline', 'nueccinc']\n",
    "cols_data = ['shr_energy_y_v']"
   ]
  },
  {
   "cell_type": "code",
   "execution_count": 5,
   "metadata": {},
   "outputs": [
    {
     "name": "stdout",
     "output_type": "stream",
     "text": [
      "nu\n",
      "nue\n",
      "on\n",
      "off\n",
      "dirt\n"
     ]
    }
   ],
   "source": [
    "# Nicolo Transfer\n",
    "\n",
    "out_dict = {}\n",
    "for s in samples:\n",
    "    print(s)\n",
    "    if s in data_samples:\n",
    "        cols = cols_data\n",
    "    else:\n",
    "        cols = cols_mc\n",
    "    out_dict[s] = data[s]['daughters'].query('select & e_candidate')[cols].copy()\n",
    "    if 'weightSpline' in out_dict[s]:\n",
    "        out_dict[s]['weightSpline'] *= data[s]['scaling']\n",
    "    else:\n",
    "        out_dict[s]['weightSpline'] = data[s]['scaling']\n",
    "\n",
    "pickle_out = open(input_dir + \"nicolo_wouter_frame_run{}.pckl\".format(run), \"wb\")\n",
    "pickle.dump(out_dict, pickle_out)\n",
    "pickle_out.close()"
   ]
  },
  {
   "cell_type": "code",
   "execution_count": 6,
   "metadata": {},
   "outputs": [
    {
     "name": "stdout",
     "output_type": "stream",
     "text": [
      "RUN  3\n",
      "file nue has 18325 selected entries\n",
      "nue 0.00011896333549603912\n",
      "file nu has 694 selected entries\n",
      "nu 0.006474749068282841\n",
      "file dirt has 3 selected entries\n",
      "dirt 0.02661834069956804\n",
      "file off has 13 selected entries\n",
      "off 0.021821096349918395\n",
      "file on has 4 selected entries\n",
      "on 1\n"
     ]
    }
   ],
   "source": [
    "# David Transfer\n",
    "cols = ['run', 'sub', 'evt', 'shr_energy_y_v', 'shr_tkfit_theta_v', 'shr_tkfit_phi_v']\n",
    "fname_v = ['nue','nu','dirt','off','on']\n",
    "print('RUN ', run)\n",
    "for i,name in enumerate(fname_v):\n",
    "    dfsel = data[name]['daughters'].query('select & e_candidate')[cols]\n",
    "    print ('file %s has %i selected entries'%(name,dfsel.shape[0]))\n",
    "    print(name,data[name]['scaling'])  \n",
    "    np.savetxt(\n",
    "        input_dir+\"SBNfit/nueCCinc_\"+name+'_run{}.txt'.format(run),\n",
    "        dfsel[cols],\n",
    "        fmt=[\"%u\",\"%u\",\"%u\",\"%f\",\"%f\",\"%f\"],\n",
    "    )"
   ]
  },
  {
   "cell_type": "code",
   "execution_count": null,
   "metadata": {},
   "outputs": [],
   "source": []
  }
 ],
 "metadata": {
  "kernelspec": {
   "display_name": "uproot env",
   "language": "python",
   "name": "uproot"
  },
  "language_info": {
   "codemirror_mode": {
    "name": "ipython",
    "version": 3
   },
   "file_extension": ".py",
   "mimetype": "text/x-python",
   "name": "python",
   "nbconvert_exporter": "python",
   "pygments_lexer": "ipython3",
   "version": "3.7.4"
  }
 },
 "nbformat": 4,
 "nbformat_minor": 2
}
